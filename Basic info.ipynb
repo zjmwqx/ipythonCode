{
 "metadata": {
  "name": ""
 },
 "nbformat": 3,
 "nbformat_minor": 0,
 "worksheets": [
  {
   "cells": [
    {
     "cell_type": "code",
     "collapsed": false,
     "input": [
      "import pandas as pd\n",
      "import mysql.connector\n",
      "import pandas.io.sql as psql\n",
      "import urllib\n",
      "import boto\n",
      "import boto.s3.connection\n",
      "import pickle"
     ],
     "language": "python",
     "metadata": {},
     "outputs": [],
     "prompt_number": 1
    },
    {
     "cell_type": "code",
     "collapsed": false,
     "input": [
      "# mysql caldb -h 10.20.111.101 --user=app_researchrep --password=dG8pqlk5VKOMvDH\n",
      "db = mysql.connector.connect(host='10.20.111.101', db='caldb', user='app_researchrep', passwd='dG8pqlk5VKOMvDH')"
     ],
     "language": "python",
     "metadata": {},
     "outputs": [],
     "prompt_number": 59
    },
    {
     "cell_type": "code",
     "collapsed": false,
     "input": [
      "file_db = boto.connect_s3(aws_access_key_id='DRBSPSGTHS8DCJOLAO-B', aws_secret_access_key='oyRmmJhIJK42mvJ2XpTUd6G8VKhJPSJjp4x1Kw==',\n",
      "                          host='10.21.136.81', port=8080,is_secure=False, calling_format=boto.s3.connection.OrdinaryCallingFormat())"
     ],
     "language": "python",
     "metadata": {},
     "outputs": [],
     "prompt_number": 60
    },
    {
     "cell_type": "code",
     "collapsed": false,
     "input": [
      "file_bucket=file_db.get_bucket('jyresearchreport')"
     ],
     "language": "python",
     "metadata": {},
     "outputs": [],
     "prompt_number": 61
    },
    {
     "cell_type": "code",
     "collapsed": false,
     "input": [
      "def get_s3_content(key):\n",
      "    return file_bucket.get_key(key).get_contents_as_string().decode() "
     ],
     "language": "python",
     "metadata": {},
     "outputs": [],
     "prompt_number": 62
    },
    {
     "cell_type": "code",
     "collapsed": false,
     "input": [
      "table_name = 'c_rr_jyresearchreport'"
     ],
     "language": "python",
     "metadata": {},
     "outputs": [],
     "prompt_number": 63
    },
    {
     "cell_type": "code",
     "collapsed": false,
     "input": [
      "psql.read_sql('describe %s;' % table_name,db)"
     ],
     "language": "python",
     "metadata": {},
     "outputs": [
      {
       "html": [
        "<div style=\"max-height:1000px;max-width:1500px;overflow:auto;\">\n",
        "<table border=\"1\" class=\"dataframe\">\n",
        "  <thead>\n",
        "    <tr style=\"text-align: right;\">\n",
        "      <th></th>\n",
        "      <th>Field</th>\n",
        "      <th>Type</th>\n",
        "      <th>Null</th>\n",
        "      <th>Key</th>\n",
        "      <th>Default</th>\n",
        "      <th>Extra</th>\n",
        "    </tr>\n",
        "  </thead>\n",
        "  <tbody>\n",
        "    <tr>\n",
        "      <th>0 </th>\n",
        "      <td>                id</td>\n",
        "      <td>   bigint(20)</td>\n",
        "      <td>  NO</td>\n",
        "      <td> PRI</td>\n",
        "      <td>              None</td>\n",
        "      <td>                            </td>\n",
        "    </tr>\n",
        "    <tr>\n",
        "      <th>1 </th>\n",
        "      <td>      InfoPublDate</td>\n",
        "      <td>     datetime</td>\n",
        "      <td>  NO</td>\n",
        "      <td> MUL</td>\n",
        "      <td>              None</td>\n",
        "      <td>                            </td>\n",
        "    </tr>\n",
        "    <tr>\n",
        "      <th>2 </th>\n",
        "      <td>            Colume</td>\n",
        "      <td>      int(11)</td>\n",
        "      <td>  NO</td>\n",
        "      <td>    </td>\n",
        "      <td>              None</td>\n",
        "      <td>                            </td>\n",
        "    </tr>\n",
        "    <tr>\n",
        "      <th>3 </th>\n",
        "      <td>           OrgName</td>\n",
        "      <td> varchar(100)</td>\n",
        "      <td>  NO</td>\n",
        "      <td>    </td>\n",
        "      <td>              None</td>\n",
        "      <td>                            </td>\n",
        "    </tr>\n",
        "    <tr>\n",
        "      <th>4 </th>\n",
        "      <td>             Title</td>\n",
        "      <td> varchar(200)</td>\n",
        "      <td>  NO</td>\n",
        "      <td> MUL</td>\n",
        "      <td>              None</td>\n",
        "      <td>                            </td>\n",
        "    </tr>\n",
        "    <tr>\n",
        "      <th>5 </th>\n",
        "      <td>          FileType</td>\n",
        "      <td>      int(11)</td>\n",
        "      <td> YES</td>\n",
        "      <td>    </td>\n",
        "      <td>              None</td>\n",
        "      <td>                            </td>\n",
        "    </tr>\n",
        "    <tr>\n",
        "      <th>6 </th>\n",
        "      <td>           Keyword</td>\n",
        "      <td>      int(11)</td>\n",
        "      <td> YES</td>\n",
        "      <td>    </td>\n",
        "      <td>              None</td>\n",
        "      <td>                            </td>\n",
        "    </tr>\n",
        "    <tr>\n",
        "      <th>7 </th>\n",
        "      <td>        ObjectCode</td>\n",
        "      <td>      int(11)</td>\n",
        "      <td>  NO</td>\n",
        "      <td>    </td>\n",
        "      <td>              None</td>\n",
        "      <td>                            </td>\n",
        "    </tr>\n",
        "    <tr>\n",
        "      <th>8 </th>\n",
        "      <td>          AreaCode</td>\n",
        "      <td>      int(11)</td>\n",
        "      <td>  NO</td>\n",
        "      <td>    </td>\n",
        "      <td>              None</td>\n",
        "      <td>                            </td>\n",
        "    </tr>\n",
        "    <tr>\n",
        "      <th>9 </th>\n",
        "      <td>        MarketCode</td>\n",
        "      <td>      int(11)</td>\n",
        "      <td> YES</td>\n",
        "      <td>    </td>\n",
        "      <td>              None</td>\n",
        "      <td>                            </td>\n",
        "    </tr>\n",
        "    <tr>\n",
        "      <th>10</th>\n",
        "      <td>    ReportCategory</td>\n",
        "      <td>      int(11)</td>\n",
        "      <td> YES</td>\n",
        "      <td>    </td>\n",
        "      <td>              None</td>\n",
        "      <td>                            </td>\n",
        "    </tr>\n",
        "    <tr>\n",
        "      <th>11</th>\n",
        "      <td>      ReportMining</td>\n",
        "      <td>      int(11)</td>\n",
        "      <td> YES</td>\n",
        "      <td>    </td>\n",
        "      <td>              None</td>\n",
        "      <td>                            </td>\n",
        "    </tr>\n",
        "    <tr>\n",
        "      <th>12</th>\n",
        "      <td>            Writer</td>\n",
        "      <td>      int(11)</td>\n",
        "      <td> YES</td>\n",
        "      <td>    </td>\n",
        "      <td>              None</td>\n",
        "      <td>                            </td>\n",
        "    </tr>\n",
        "    <tr>\n",
        "      <th>13</th>\n",
        "      <td>            Author</td>\n",
        "      <td> varchar(100)</td>\n",
        "      <td> YES</td>\n",
        "      <td>    </td>\n",
        "      <td>              None</td>\n",
        "      <td>                            </td>\n",
        "    </tr>\n",
        "    <tr>\n",
        "      <th>14</th>\n",
        "      <td>           RankOrg</td>\n",
        "      <td>      int(11)</td>\n",
        "      <td> YES</td>\n",
        "      <td>    </td>\n",
        "      <td>              None</td>\n",
        "      <td>                            </td>\n",
        "    </tr>\n",
        "    <tr>\n",
        "      <th>15</th>\n",
        "      <td>            RankJY</td>\n",
        "      <td>      int(11)</td>\n",
        "      <td> YES</td>\n",
        "      <td>    </td>\n",
        "      <td>              None</td>\n",
        "      <td>                            </td>\n",
        "    </tr>\n",
        "    <tr>\n",
        "      <th>16</th>\n",
        "      <td>       WritingDate</td>\n",
        "      <td>     datetime</td>\n",
        "      <td> YES</td>\n",
        "      <td>    </td>\n",
        "      <td>              None</td>\n",
        "      <td>                            </td>\n",
        "    </tr>\n",
        "    <tr>\n",
        "      <th>17</th>\n",
        "      <td>         ValidDate</td>\n",
        "      <td>     datetime</td>\n",
        "      <td> YES</td>\n",
        "      <td>    </td>\n",
        "      <td>              None</td>\n",
        "      <td>                            </td>\n",
        "    </tr>\n",
        "    <tr>\n",
        "      <th>18</th>\n",
        "      <td>         InfoLevel</td>\n",
        "      <td>      int(11)</td>\n",
        "      <td> YES</td>\n",
        "      <td>    </td>\n",
        "      <td>              None</td>\n",
        "      <td>                            </td>\n",
        "    </tr>\n",
        "    <tr>\n",
        "      <th>19</th>\n",
        "      <td>         InnerCode</td>\n",
        "      <td>      int(11)</td>\n",
        "      <td> YES</td>\n",
        "      <td>    </td>\n",
        "      <td>              None</td>\n",
        "      <td>                            </td>\n",
        "    </tr>\n",
        "    <tr>\n",
        "      <th>20</th>\n",
        "      <td>          Industry</td>\n",
        "      <td>      int(11)</td>\n",
        "      <td> YES</td>\n",
        "      <td>    </td>\n",
        "      <td>              None</td>\n",
        "      <td>                            </td>\n",
        "    </tr>\n",
        "    <tr>\n",
        "      <th>21</th>\n",
        "      <td>        IndustrySW</td>\n",
        "      <td>      int(11)</td>\n",
        "      <td> YES</td>\n",
        "      <td>    </td>\n",
        "      <td>              None</td>\n",
        "      <td>                            </td>\n",
        "    </tr>\n",
        "    <tr>\n",
        "      <th>22</th>\n",
        "      <td>     InstiIndustry</td>\n",
        "      <td>      int(11)</td>\n",
        "      <td> YES</td>\n",
        "      <td>    </td>\n",
        "      <td>              None</td>\n",
        "      <td>                            </td>\n",
        "    </tr>\n",
        "    <tr>\n",
        "      <th>23</th>\n",
        "      <td>        Conclusion</td>\n",
        "      <td>         text</td>\n",
        "      <td> YES</td>\n",
        "      <td>    </td>\n",
        "      <td>              None</td>\n",
        "      <td>                            </td>\n",
        "    </tr>\n",
        "    <tr>\n",
        "      <th>24</th>\n",
        "      <td>      InvestAdvice</td>\n",
        "      <td>      int(11)</td>\n",
        "      <td> YES</td>\n",
        "      <td>    </td>\n",
        "      <td>              None</td>\n",
        "      <td>                            </td>\n",
        "    </tr>\n",
        "    <tr>\n",
        "      <th>25</th>\n",
        "      <td>   InvestStatement</td>\n",
        "      <td> varchar(100)</td>\n",
        "      <td> YES</td>\n",
        "      <td>    </td>\n",
        "      <td>              None</td>\n",
        "      <td>                            </td>\n",
        "    </tr>\n",
        "    <tr>\n",
        "      <th>26</th>\n",
        "      <td>       InvestLevel</td>\n",
        "      <td>      int(11)</td>\n",
        "      <td> YES</td>\n",
        "      <td>    </td>\n",
        "      <td>              None</td>\n",
        "      <td>                            </td>\n",
        "    </tr>\n",
        "    <tr>\n",
        "      <th>27</th>\n",
        "      <td>       ReportScore</td>\n",
        "      <td>      int(11)</td>\n",
        "      <td> YES</td>\n",
        "      <td>    </td>\n",
        "      <td>              None</td>\n",
        "      <td>                            </td>\n",
        "    </tr>\n",
        "    <tr>\n",
        "      <th>28</th>\n",
        "      <td>      ReadingTimes</td>\n",
        "      <td>      int(11)</td>\n",
        "      <td> YES</td>\n",
        "      <td>    </td>\n",
        "      <td>              None</td>\n",
        "      <td>                            </td>\n",
        "    </tr>\n",
        "    <tr>\n",
        "      <th>29</th>\n",
        "      <td>       RightsLevel</td>\n",
        "      <td>      int(11)</td>\n",
        "      <td> YES</td>\n",
        "      <td>    </td>\n",
        "      <td>              None</td>\n",
        "      <td>                            </td>\n",
        "    </tr>\n",
        "    <tr>\n",
        "      <th>30</th>\n",
        "      <td>              XGRQ</td>\n",
        "      <td>     datetime</td>\n",
        "      <td>  NO</td>\n",
        "      <td>    </td>\n",
        "      <td>              None</td>\n",
        "      <td>                            </td>\n",
        "    </tr>\n",
        "    <tr>\n",
        "      <th>31</th>\n",
        "      <td>    Article_s3_url</td>\n",
        "      <td> varchar(100)</td>\n",
        "      <td> YES</td>\n",
        "      <td>    </td>\n",
        "      <td>              None</td>\n",
        "      <td>                            </td>\n",
        "    </tr>\n",
        "    <tr>\n",
        "      <th>32</th>\n",
        "      <td>       Body_s3_url</td>\n",
        "      <td> varchar(100)</td>\n",
        "      <td> YES</td>\n",
        "      <td> MUL</td>\n",
        "      <td>              None</td>\n",
        "      <td>                            </td>\n",
        "    </tr>\n",
        "    <tr>\n",
        "      <th>33</th>\n",
        "      <td>       Parsed_flag</td>\n",
        "      <td>      int(11)</td>\n",
        "      <td> YES</td>\n",
        "      <td>    </td>\n",
        "      <td>                 0</td>\n",
        "      <td>                            </td>\n",
        "    </tr>\n",
        "    <tr>\n",
        "      <th>34</th>\n",
        "      <td> First_appear_time</td>\n",
        "      <td>     datetime</td>\n",
        "      <td> YES</td>\n",
        "      <td>    </td>\n",
        "      <td>              None</td>\n",
        "      <td>                            </td>\n",
        "    </tr>\n",
        "    <tr>\n",
        "      <th>35</th>\n",
        "      <td>     DY_updateTime</td>\n",
        "      <td>     datetime</td>\n",
        "      <td> YES</td>\n",
        "      <td>    </td>\n",
        "      <td> CURRENT_TIMESTAMP</td>\n",
        "      <td> on update CURRENT_TIMESTAMP</td>\n",
        "    </tr>\n",
        "  </tbody>\n",
        "</table>\n",
        "<p>36 rows \u00d7 6 columns</p>\n",
        "</div>"
       ],
       "metadata": {},
       "output_type": "pyout",
       "prompt_number": 64,
       "text": [
        "                Field          Type Null  Key            Default  \\\n",
        "0                  id    bigint(20)   NO  PRI               None   \n",
        "1        InfoPublDate      datetime   NO  MUL               None   \n",
        "2              Colume       int(11)   NO                    None   \n",
        "3             OrgName  varchar(100)   NO                    None   \n",
        "4               Title  varchar(200)   NO  MUL               None   \n",
        "5            FileType       int(11)  YES                    None   \n",
        "6             Keyword       int(11)  YES                    None   \n",
        "7          ObjectCode       int(11)   NO                    None   \n",
        "8            AreaCode       int(11)   NO                    None   \n",
        "9          MarketCode       int(11)  YES                    None   \n",
        "10     ReportCategory       int(11)  YES                    None   \n",
        "11       ReportMining       int(11)  YES                    None   \n",
        "12             Writer       int(11)  YES                    None   \n",
        "13             Author  varchar(100)  YES                    None   \n",
        "14            RankOrg       int(11)  YES                    None   \n",
        "15             RankJY       int(11)  YES                    None   \n",
        "16        WritingDate      datetime  YES                    None   \n",
        "17          ValidDate      datetime  YES                    None   \n",
        "18          InfoLevel       int(11)  YES                    None   \n",
        "19          InnerCode       int(11)  YES                    None   \n",
        "20           Industry       int(11)  YES                    None   \n",
        "21         IndustrySW       int(11)  YES                    None   \n",
        "22      InstiIndustry       int(11)  YES                    None   \n",
        "23         Conclusion          text  YES                    None   \n",
        "24       InvestAdvice       int(11)  YES                    None   \n",
        "25    InvestStatement  varchar(100)  YES                    None   \n",
        "26        InvestLevel       int(11)  YES                    None   \n",
        "27        ReportScore       int(11)  YES                    None   \n",
        "28       ReadingTimes       int(11)  YES                    None   \n",
        "29        RightsLevel       int(11)  YES                    None   \n",
        "30               XGRQ      datetime   NO                    None   \n",
        "31     Article_s3_url  varchar(100)  YES                    None   \n",
        "32        Body_s3_url  varchar(100)  YES  MUL               None   \n",
        "33        Parsed_flag       int(11)  YES                       0   \n",
        "34  First_appear_time      datetime  YES                    None   \n",
        "35      DY_updateTime      datetime  YES       CURRENT_TIMESTAMP   \n",
        "\n",
        "                          Extra  \n",
        "0                                \n",
        "1                                \n",
        "2                                \n",
        "3                                \n",
        "4                                \n",
        "5                                \n",
        "6                                \n",
        "7                                \n",
        "8                                \n",
        "9                                \n",
        "10                               \n",
        "11                               \n",
        "12                               \n",
        "13                               \n",
        "14                               \n",
        "15                               \n",
        "16                               \n",
        "17                               \n",
        "18                               \n",
        "19                               \n",
        "20                               \n",
        "21                               \n",
        "22                               \n",
        "23                               \n",
        "24                               \n",
        "25                               \n",
        "26                               \n",
        "27                               \n",
        "28                               \n",
        "29                               \n",
        "30                               \n",
        "31                               \n",
        "32                               \n",
        "33                               \n",
        "34                               \n",
        "35  on update CURRENT_TIMESTAMP  \n",
        "\n",
        "[36 rows x 6 columns]"
       ]
      }
     ],
     "prompt_number": 64
    },
    {
     "cell_type": "code",
     "collapsed": false,
     "input": [
      "psql.read_sql('select count(*) from %s;' % table_name, db)"
     ],
     "language": "python",
     "metadata": {},
     "outputs": [
      {
       "html": [
        "<div style=\"max-height:1000px;max-width:1500px;overflow:auto;\">\n",
        "<table border=\"1\" class=\"dataframe\">\n",
        "  <thead>\n",
        "    <tr style=\"text-align: right;\">\n",
        "      <th></th>\n",
        "      <th>count(*)</th>\n",
        "    </tr>\n",
        "  </thead>\n",
        "  <tbody>\n",
        "    <tr>\n",
        "      <th>0</th>\n",
        "      <td> 48598</td>\n",
        "    </tr>\n",
        "  </tbody>\n",
        "</table>\n",
        "<p>1 rows \u00d7 1 columns</p>\n",
        "</div>"
       ],
       "metadata": {},
       "output_type": "pyout",
       "prompt_number": 65,
       "text": [
        "   count(*)\n",
        "0     48598\n",
        "\n",
        "[1 rows x 1 columns]"
       ]
      }
     ],
     "prompt_number": 65
    },
    {
     "cell_type": "code",
     "collapsed": false,
     "input": [
      "def load_data():\n",
      "    import os\n",
      "    f = 'data.pickle'\n",
      "    if os.path.exists(f):\n",
      "        return pd.read_pickle(f)\n",
      "    else:\n",
      "        data = psql.read_sql('select * from %s where ReportCategory=6;' % table_name, db, index_col='id')\n",
      "        Body = [get_s3_content(url) if url else None for url in data.Body_s3_url]\n",
      "        data['Body'] = Body\n",
      "        data.to_pickle(f)\n",
      "        return data"
     ],
     "language": "python",
     "metadata": {},
     "outputs": [],
     "prompt_number": 2
    },
    {
     "cell_type": "code",
     "collapsed": false,
     "input": [
      "data = load_data()"
     ],
     "language": "python",
     "metadata": {},
     "outputs": [],
     "prompt_number": 3
    },
    {
     "cell_type": "code",
     "collapsed": false,
     "input": [
      "data.shape"
     ],
     "language": "python",
     "metadata": {},
     "outputs": [
      {
       "metadata": {},
       "output_type": "pyout",
       "prompt_number": 71,
       "text": [
        "(6445, 36)"
       ]
      }
     ],
     "prompt_number": 71
    },
    {
     "cell_type": "heading",
     "level": 2,
     "metadata": {},
     "source": [
      "Body"
     ]
    },
    {
     "cell_type": "heading",
     "level": 1,
     "metadata": {},
     "source": [
      "Basic statistics"
     ]
    },
    {
     "cell_type": "heading",
     "level": 2,
     "metadata": {},
     "source": [
      "Body"
     ]
    },
    {
     "cell_type": "code",
     "collapsed": false,
     "input": [
      "data.Body.isnull().value_counts()"
     ],
     "language": "python",
     "metadata": {},
     "outputs": [
      {
       "metadata": {},
       "output_type": "pyout",
       "prompt_number": 95,
       "text": [
        "False    6224\n",
        "True      221\n",
        "dtype: int64"
       ]
      }
     ],
     "prompt_number": 95
    },
    {
     "cell_type": "code",
     "collapsed": false,
     "input": [
      "data.Body.apply(lambda x: x is None or len(x)==0).value_counts()"
     ],
     "language": "python",
     "metadata": {},
     "outputs": [
      {
       "metadata": {},
       "output_type": "pyout",
       "prompt_number": 97,
       "text": [
        "False    4907\n",
        "True     1538\n",
        "dtype: int64"
       ]
      }
     ],
     "prompt_number": 97
    },
    {
     "cell_type": "code",
     "collapsed": false,
     "input": [
      "1538/data.shape[0]"
     ],
     "language": "python",
     "metadata": {},
     "outputs": [
      {
       "metadata": {},
       "output_type": "pyout",
       "prompt_number": 116,
       "text": [
        "0.2386346004654771"
       ]
      }
     ],
     "prompt_number": 116
    },
    {
     "cell_type": "code",
     "collapsed": false,
     "input": [
      "tmp = data.Body.dropna().apply(len)"
     ],
     "language": "python",
     "metadata": {},
     "outputs": [],
     "prompt_number": 111
    },
    {
     "cell_type": "code",
     "collapsed": false,
     "input": [
      "tmp[tmp>0].apply(lambda x: log10(x+1)).hist(bins=20)"
     ],
     "language": "python",
     "metadata": {},
     "outputs": [
      {
       "metadata": {},
       "output_type": "pyout",
       "prompt_number": 115,
       "text": [
        "<matplotlib.axes.AxesSubplot at 0x7f1cadc33490>"
       ]
      },
      {
       "metadata": {},
       "output_type": "display_data",
       "png": "[encoded data removed]",
       "text": [
        "<matplotlib.figure.Figure at 0x7f1cadc2af50>"
       ]
      }
     ],
     "prompt_number": 115
    },
    {
     "cell_type": "heading",
     "level": 2,
     "metadata": {},
     "source": [
      "InvestStatement"
     ]
    },
    {
     "cell_type": "code",
     "collapsed": false,
     "input": [
      "data.InvestStatement.isnull().value_counts()"
     ],
     "language": "python",
     "metadata": {},
     "outputs": [
      {
       "metadata": {},
       "output_type": "pyout",
       "prompt_number": 73,
       "text": [
        "False    6023\n",
        "True      422\n",
        "dtype: int64"
       ]
      }
     ],
     "prompt_number": 73
    },
    {
     "cell_type": "code",
     "collapsed": false,
     "input": [
      "data.InvestStatement.value_counts()"
     ],
     "language": "python",
     "metadata": {},
     "outputs": [
      {
       "metadata": {},
       "output_type": "pyout",
       "prompt_number": 74,
       "text": [
        "\u4e70\u5165             1656\n",
        "\u589e\u6301             1185\n",
        "\u63a8\u8350              861\n",
        "BUY             356\n",
        "\u5f3a\u70c8\u63a8\u8350            294\n",
        "Overweight      233\n",
        "Buy             186\n",
        "\u5f3a\u70c8\u63a8\u8350-A          152\n",
        "Neutral         124\n",
        "\u8c28\u614e\u63a8\u8350            121\n",
        "\u4e2d\u6027              109\n",
        "\u2014\u2014              108\n",
        "\u4e70\u5165-A             76\n",
        "Underweight      75\n",
        "HOLD             63\n",
        "Hold             60\n",
        "\u5ba1\u614e\u63a8\u8350-A           58\n",
        "\u8c28\u614e\u589e\u6301             48\n",
        "\u589e\u6301-A             42\n",
        "\u6301\u6709               40\n",
        "\u5ba1\u614e\u63a8\u8350             34\n",
        "Sell             23\n",
        "ACCUMULATE       21\n",
        "SELL             20\n",
        "\u8c28\u614e\u4e70\u5165             11\n",
        "\u5ba1\u614e\u63a8\u8350-B            9\n",
        "OVERWEIGHT        9\n",
        "\u5356\u51fa                9\n",
        "\u4e2d\u6027-A              9\n",
        "\u4e70\u5165-B              8\n",
        "Accumulate        5\n",
        "\u6536\u96c6                4\n",
        "\u4e2d\u6027-B              2\n",
        "\u5f3a\u63a8                2\n",
        "\u51cf\u6301                2\n",
        "\u5f3a\u529b\u4e70\u5165              1\n",
        "A-\u4e2d\u6027              1\n",
        "\u5f3a\u70c8\u63a8\u8350A             1\n",
        "\u957f\u7ebf\u4e70\u5165              1\n",
        "\u5f3a\u70c8\u63a8\u8350-A\uff08           1\n",
        "Reduce            1\n",
        "\u5f3a\u70c8\u63a8\u8350-B            1\n",
        "\u589e\u6301-B              1\n",
        "dtype: int64"
       ]
      }
     ],
     "prompt_number": 74
    },
    {
     "cell_type": "heading",
     "level": 2,
     "metadata": {},
     "source": [
      "Conclusion"
     ]
    },
    {
     "cell_type": "code",
     "collapsed": false,
     "input": [
      "print(data.Body.iloc[3454])"
     ],
     "language": "python",
     "metadata": {},
     "outputs": [
      {
       "output_type": "stream",
       "stream": "stdout",
       "text": [
        "\u516c\u53f8\u7814\u7a76/\u66f4\u65b0\u62a5\u544a\u6295\u8d44\u8bc4\u7ea7\uff1a\u589e\u6301\uff08\u7ef4\u6301\u8bc4\u7ea7\uff09\u5f53\u524d\u4ef7\u683c(\u5143)\uff1a7.92\u76f8\u5173\u7814\u7a761\u300a\u91d1\u79d1\u80a1\u4efd(000656):\u9ad8\u53bb\u5316\u4e0b\u53d7\u63a8\u76d8\u63a3\u8098\uff0c\u4e0b\u534a\u5e74\u6709\u671b\u7206\u53d1\u300b2013.082\u300a\u91d1\u79d1\u80a1\u4efd(000656):\u91d1\u7389\u5176\u4e2d\u7efd\u653e\u6709\u65f6\u300b2013.05\u80a1\u4ef7\u8d70\u52bf\u56fe\u516c\u53f8\u57fa\u672c\u8d44\u6599\u8d28\u7591\u6e10\u6d88\u89e3\uff0c\u8fce\u6765\u6301\u7eed\u4f30\u503c\u4fee\u590d\u6295\u8d44\u8981\u70b9\uff1a\u5e03\u5c40\u4e09\u56db\u7ebf\u57ce\u5e02\u6d0b\u623f\u4e13\u5bb6\u3002\u516c\u53f8\u6574\u4f53\u5e03\u5c40\u4ee5\u4e09\u56db\u7ebf\u57ce\u5e02\u4e3a\u4e3b\uff0c\u5e03\u5c40\u4e0a\u4ee5\u91cd\u5e86\u4e3a\u4e2d\u5fc3\u7684\u4e2d\u897f\u90e860%\uff0c\u957f\u4e09\u89d2\u548c\u73af\u6e24\u6d77\u5404\u536020%\uff0c\u91cd\u5e86\u5730\u533a\u5219\u9075\u5faa10\u5e74\u8fdb\u5165\u91cd\u5e86\u8f96\u533a\u768430\u4e2a\u533a\u53bf\u76841030\u6218\u7565\u3002\u8fd1\u5e74\u6269\u5f20\u8f83\u5feb\uff0c\u540c\u65f6\u6781\u5177\u521b\u65b0\u8bbe\u8ba1\u80fd\u529b\uff0c\u591a\u4e2a\u4ea7\u54c1\u7cfb\u5217\u83b7\u5f97\u8bbe\u8ba1\u5927\u5956\uff0c\u63d0\u5347\u516c\u53f8\u54c1\u724c\u4ef7\u503c\u3002\u516c\u53f8\u4f30\u503c\u4e00\u76f4\u4f4e\u4e8e\u540c\u4f53\u91cf\u589e\u901f\u7c7b\u6bd4\u516c\u53f8\u768430%\u5de6\u53f3\uff0c\u5e02\u573a\u62c5\u5fe7\u96c6\u4e2d\u4e8e\uff1a\uff081\uff09\u516c\u53f8\u5360\u6bd4\u8f83\u9ad8\u7684\u4e09\u3001\u56db\u7ebf\u57ce\u5e02\uff08\u5c24\u5176\u662f\u91cd\u5e86\u533a\u53bf\u5e02\u573a\uff09\u4e1a\u52a1\uff0c\u5176\u5355\u4e2a\u5e02\u573a\u5bb9\u91cf\u53ca\u5229\u6da6\u7a7a\u95f4\u6709\u9650\uff0c\u4e14\u5e02\u573a\u5171\u8bc6\u4e09\u56db\u7ebf\u603b\u4f53\u5e93\u5b58\u538b\u529b\u8f83\u5927\uff0c\u5bf9\u516c\u53f8\u9879\u76ee\u7684\u53bb\u5316\u548c\u5229\u6da6\u7387\u6216\u53d7\u5f71\u54cd\uff1b\uff082\uff09\u516c\u53f8\u8fc7\u5feb\u7684\u6269\u5f20\u901f\u5ea6\u7ed9\u8d22\u52a1\u7684\u7a33\u5065\u6027\u5e26\u6765\u5b89\u5168\u9690\u5fe7\u3002\u518d\u52a0\u4e0a\u516c\u53f8\u53bb\u5e74\u524d\u4e09\u5b63\u5ea6\u9500\u552e\u4f4e\u4e8e\u9884\u671f\uff0c\u9500\u552e\u76ee\u6807\u964d\u4f4e\uff0c\u878d\u8d44\u65b9\u6848\u7f29\u6c34\u7b49\u8d1f\u9762\u56e0\u7d20\u66f4\u52a0\u6df1\u4e86\u8bef\u89e3\uff0c\u5bfc\u81f4\u516c\u53f8\u88ab\u4e25\u91cd\u4f4e\u4f30\uff0c\u5176\u4f30\u503c\u4f4e\u4e8e\u884c\u4e1a\u540c\u4f53\u91cf\u4e1a\u7ee9\u589e\u901f\u7684\u516c\u53f830%\u5de6\u53f3\u3002\u6211\u4eec\u5206\u6790\u8ba4\u4e3a\u4e4b\u524d\u524d\u4e09\u5b63\u5ea6\u9500\u552e\u4e3b\u8981\u53d7\u63a8\u76d8\u91cf\u63a3\u8098\uff0c\u5bfc\u81f4\u589e\u901f\u4f4e\u4e8e\u5e02\u573a\u9884\u671f\uff0c\u8fd9\u8ddf\u516c\u53f8\u4e4b\u524d\u7684\u62ff\u5730\u5468\u671f\u548c\u91cd\u5e86\u5e02\u573a\u7279\u70b9\u6709\u5173\uff0c\u516c\u53f8\u5b9e\u9645\u63a8\u76d8\u53bb\u5316\u7387\u6574\u4f53\u9ad8\u8fbe\u8fd170%\u3002\u968f\u7740\u516c\u53f8\u53bb\u5e74\u56db\u5b63\u5ea6\u7684\u63a8\u76d8\u91cf\u5927\u589e\uff0c\u5168\u5e74\u9500\u552e\u66f4\u662f\u8d85\u4e86\u8c03\u4f4e\u524d\u7684\u5e74\u521d\u8ba1\u5212\uff0c\u5b9e\u73b040%\u7684\u6da8\u5e45\u3002\u90e8\u5206\u56de\u5e94\u4e86\u5e02\u573a\u91ca\u7591\u3002\u8fd9\u4e5f\u662f\u6628\u65e5\u5176\u4f30\u503c\u4fee\u590d\u7a0b\u5ea6\u8d85\u884c\u4e1a\u5e73\u5747\u7684\u539f\u56e0\u3002\u80cc\u540e\u6df1\u5c42\u7684\u539f\u56e0\u662f\u516c\u53f8\u8fdb\u5165\u7684\u5927\u591a\u51fa\u57ce\u5e02\u5747\u5904\u4e8e\u6b63\u5904\u4e8e\u8bfa\u745f\u59c6\u66f2\u7ebf\u7684\u57ce\u9547\u5316\u5feb\u901f\u63d0\u5347\u9636\u6bb5\u7684\u524d\u671f\uff0c\u80cc\u540e\u662f\u7ecf\u6d4e\u8fdb\u5165\u5de5\u4e1a\u5316\u901f\u5ea6\u7684\u52a0\u5feb\u63a8\u8fdb\u4eba\u53e3\u5f00\u59cb\u5927\u91cf\u8fdb\u5165\u57ce\u5e02\uff0c\u540c\u65f6\u91cd\u5e86\u571f\u5730\u6539\u9769\u8bd5\u70b9\u5728\u4fdd\u7559\u519c\u6c11\u571f\u5730\u6240\u6709\u7684\u524d\u63d0\u4e0b\u9f13\u52b1\u5176\u8fdb\u57ce\u7684\u653f\u7b56\u3001\u4ee5\u53ca\u4e8c\u73af\u516b\u5c04\u7684\u4ea4\u901a\u6539\u5584\u5bf9\u4e8e\u91cd\u5e86\u8fd9\u79cd\u5c71\u533a\u5e26\u6765\u7684\u8fb9\u9645\u6548\u5e94\u4ea6\u6bd4\u8f83\u660e\u663e\u3002\u6211\u4eec\u8ba4\u4e3a\u5e02\u573a\u7684\u62c5\u5fe7\u672a\u6765\u5c06\u7ee7\u7eed\u8bc1\u4f2a\uff0c\u8fce\u6301\u7eed\u4f30\u503c\u4fee\u590d\u3002\u4ee5\u91cd\u5e86\u4e3a\u4f8b\uff0c\uff081\uff09\u533a\u53bf\u5e02\u573a\u5e93\u5b58\u65e0\u5fe7\uff1a\u5e93\u5b58\u9ad8\u4f01\u901a\u5e38\u6e90\u4e8e\u8fc7\u53bb\u51e0\u5e74\u6fc0\u8fdb\u7684\u571f\u5730\u51fa\u8ba9\u901f\u5ea6\u8fdc\u8d85\u51fa\u5e02\u573a\u5bb9\u91cf\u548c\u6d88\u5316\u901f\u5ea6\uff0c\u6211\u4eec\u5206\u6790\u516c\u53f8\u8fdb\u5165\u7684\u533a\u53bf\u5e02\u573a\u60c5\u51b5\u6765\u770b\uff0c\u5e74\u6210\u4ea4\u9762\u79ef\u5360\u5176\u5f53\u5e74\u571f\u5730\u51fa\u8ba9\u5efa\u9762\u7684\u6bd4\u4f8b\u57fa\u672c\u5747\u8d8580%\u4ee5\u4e0a\u3002\uff082\uff09\u7a7a\u95f4\u4e0a\uff0c\u53ef\u83b7\u91cf\u4ef7\u53cc\u91cd\u63d0\u5347\u3002\u6295\u8d44\u5efa\u8bae\uff1a\u6211\u4eec\u8ba4\u4e3a\u57fa\u672c\u9762\u4e0a\uff0c\u516c\u53f8\u672a\u6765\u4e09\u5e74\u8fce\u4e1a\u7ee9\u6301\u7eed\u9ad8\u589e\u957f\u671f\uff0c2013~2015\u5e74\u590d\u5408\u589e\u901f40%\u4ee5\u4e0a\u3002\u76c8\u5229\u9884\u6d4b\uff1a2013-2015\u5e74\u7efc\u5408\u6536\u5165\u5206\u522b\u4e3a147.4/198.2/270.4\u4ebf\uff0cEPS\u5206\u522b\u8fbe1.43/1.79/2.28\u5143\uff0c\u5bf9\u5e94PE5.5X/4.4X/3.5X\u3002NAV\u4e3a17.35\u5143\uff0c\u8f837.92\u5143\u7684\u80a1\u4ef7\u6298\u4ef7\u8d8550%\u3002\u4ecd\u5b58\u6709\u8f83\u5927\u7684\u4fee\u590d\u7a7a\u95f4\uff0c\u7ef4\u6301\u201c\u589e\u6301\u201d\u8bc4\u7ea7\u3002\u98ce\u9669\u63d0\u793a\uff1a\u9650\u552e\u80a1\u89e3\u7981\u6301\u7eed\u51cf\u6301\u5e26\u6765\u77ed\u671f\u6ce2\u52a8\uff1b\u5730\u65b9\u623f\u5730\u4ea7\u8c03\u63a7\u8303\u56f4\u53ca\u529b\u5ea6\u8d85\u9884\u671f\u3002\u7ecf\u8425\u9884\u6d4b\u6307\u6807\u4e0e\u4f30\u503c\u5e03\u5c40\u4e09\u56db\u7ebf\u57ce\u5e02\u6d0b\u623f\u4e13\u5bb6\u3002\u516c\u53f8\u6574\u4f53\u5e03\u5c40\u4ee5\u4e09\u56db\u7ebf\u57ce\u5e02\u4e3a\u4e3b\uff0c\u5e03\u5c40\u4e0a\u4ee5\u91cd\u5e86\u4e3a\u4e2d\u5fc3\u7684\u4e2d\u897f\u90e860%\uff0c\u957f\u4e09\u89d2\u548c\u73af\u6e24\u6d77\u5404\u536020%\uff0c\u91cd\u5e86\u5730\u533a\u5219\u9075\u5faa10\u5e74\u8fdb\u5165\u91cd\u5e86\u8f96\u533a\u768430\u4e2a\u533a\u53bf\u76841030\u6218\u7565\u3002\u8fd1\u5e74\u6269\u5f20\u8f83\u5feb\uff0c\u65b0\u589e\u89c4\u5212\u5efa\u7b51\u9762\u79ef/\u5408\u540c\u9500\u552e\u9762\u79ef\u4ece2011\u5e74\u76841.97\u5347\u81f33.2\uff0c\u62ff\u5730\u91d1\u989d\u5360\u6bd4\u9500\u552e\u989d2012\u5e7456.5%\uff0c2013\u5e74\u7ea657%\uff0c\u884c\u4e1a\u524d\u5217\u3002\u540c\u65f6\u6781\u5177\u521b\u65b0\u8bbe\u8ba1\u80fd\u529b\uff0c\u591a\u4e2a\u4ea7\u54c1\u7cfb\u5217\u83b7\u5f97\u8bbe\u8ba1\u5927\u5956\uff0c\u63d0\u5347\u516c\u53f8\u54c1\u724c\u4ef7\u503c\u516c\u53f8\u4f30\u503c\u4e00\u76f4\u4f4e\u4e8e\u540c\u4f53\u91cf\u589e\u901f\u7c7b\u6bd4\u516c\u53f8\u768430%\u5de6\u53f3\uff0c\u57fa\u4e8e\u5e02\u573a\u62c5\u5fe7\uff0c\u96c6\u4e2d\u4e8e\uff1a\uff081\uff09\u516c\u53f8\u5360\u6bd4\u8f83\u9ad8\u7684\u4e09\u3001\u56db\u7ebf\u57ce\u5e02\uff08\u5c24\u5176\u662f\u91cd\u5e86\u533a\u53bf\u5e02\u573a\uff09\u4e1a\u52a1\uff0c\u5176\u5355\u4e2a\u5e02\u573a\u5bb9\u91cf\u53ca\u5229\u6da6\u7a7a\u95f4\u6709\u9650\uff0c\u4e14\u5e02\u573a\u5171\u8bc6\u4e09\u56db\u7ebf\u603b\u4f53\u5e93\u5b58\u538b\u529b\u8f83\u5927\uff0c\u5bf9\u516c\u53f8\u9879\u76ee\u7684\u53bb\u5316\u548c\u5229\u6da6\u7387\u6216\u53d7\u5f71\u54cd\uff1b\uff082\uff09\u516c\u53f8\u8fc7\u5feb\u7684\u6269\u5f20\u901f\u5ea6\u7ed9\u8d22\u52a1\u7684\u7a33\u5065\u6027\u5e26\u6765\u5b89\u5168\u9690\u5fe7\u3002\u518d\u52a0\u4e0a\u516c\u53f8\u53bb\u5e74\u524d\u4e09\u5b63\u5ea6\u9500\u552e\u4f4e\u4e8e\u9884\u671f\uff0c\u9500\u552e\u76ee\u6807\u964d\u4f4e\uff0c\u878d\u8d44\u65b9\u6848\u7f29\u6c34\u7b49\u8d1f\u9762\u56e0\u7d20\u66f4\u52a0\u6df1\u4e86\u8bef\u89e3\uff0c\u5bfc\u81f4\u516c\u53f8\u88ab\u4e25\u91cd\u4f4e\u4f30\uff0c\u5176\u4f30\u503c\u4f4e\u4e8e\u884c\u4e1a\u540c\u4f53\u91cf\u4e1a\u7ee9\u589e\u901f\u7684\u516c\u53f830%\u5de6\u53f3\u3002\u6211\u4eec\u5206\u6790\u8ba4\u4e3a\u4e4b\u524d\u524d\u4e09\u5b63\u5ea6\u9500\u552e\u4e3b\u8981\u53d7\u63a8\u76d8\u91cf\u63a3\u8098\uff0c\u5bfc\u81f4\u589e\u901f\u4f4e\u4e8e\u5e02\u573a\u9884\u671f\uff0c\u8fd9\u8ddf\u516c\u53f8\u4e4b\u524d\u7684\u62ff\u5730\u5468\u671f\u548c\u91cd\u5e86\u5e02\u573a\u7279\u70b9\u6709\u5173\uff0c\u516c\u53f8\u5b9e\u9645\u63a8\u76d8\u53bb\u5316\u7387\u6574\u4f53\u9ad8\u8fbe\u8fd170%\u3002\u968f\u7740\u516c\u53f8\u53bb\u5e74\u56db\u5b63\u5ea6\u7684\u63a8\u76d8\u91cf\u5927\u589e\uff0c\u5168\u5e74\u9500\u552e\u66f4\u662f\u8d85\u4e86\u8c03\u4f4e\u524d\u7684\u5e74\u521d\u8ba1\u5212\uff0c\u5b9e\u73b040%\u7684\u6da8\u5e45\u3002\u90e8\u5206\u56de\u5e94\u4e86\u5e02\u573a\u91ca\u7591\u3002\u8fd9\u4e5f\u662f\u4e3a\u4ec0\u4e48\u6628\u65e5\u5176\u4f30\u503c\u4fee\u590d\u7a0b\u5ea6\u8d85\u884c\u4e1a\u5e73\u5747\u7684\u539f\u56e0\u3002\u5e02\u573a\u62c5\u5fe7\u672a\u6765\u5c06\u6301\u7eed\u88ab\u8bc1\u4f2a\u3002\u516c\u53f8\u9879\u76ee\u57ce\u5e02\u7684\u9009\u62e9\u5747\u7ecf\u8fc7\u4e25\u8c28\u7684\u524d\u671f\u8c03\u7814\uff0c\u907f\u5f00\u5e93\u5b58\u98ce\u9669\u8f83\u9ad8\u7684\u533a\u57df\uff0c\u901a\u5e38\u9009\u62e9\u5728\u7ecf\u6d4e\u603b\u91cf\u3001\u793e\u4f1a\u8d22\u5bcc\u7b49\u6307\u6807\u4e0a\u6216\u662f\u5b58\u91cf\u9ad8\u6216\u662f\u589e\u901f\u5feb\u7684\u5e02\u573a\uff0c\u5e76\u9488\u5bf9\u4e0d\u540c\u5e02\u573a\uff0c\u91c7\u53d6\u4e0d\u540c\u7684\u4ea7\u54c1\u5b9a\u4f4d\uff0c\u5145\u5206\u53d1\u6325\u516c\u53f8\u7684\u6bd4\u8f83\u4f18\u52bf\u4ee5\u4fdd\u8bc1\u53bb\u5316\u3002\u4e14\u4e09\u3001\u56db\u7ebf\u57ce\u5e02\u901a\u5e38\u5904\u4e8e\u653f\u7b56\u8c03\u63a7\u7684\u7a7a\u767d\u5730\u5e26\uff0c\u653f\u7b56\u98ce\u9669\u8f83\u4f4e\u3002\u4ee5\u5360\u5176\u5e02\u573a\u4efd\u989d60%\u7684\u91cd\u5e86\u5e02\u573a\u4e3a\u4f8b\uff1a\uf0fc\u533a\u53bf\u5e02\u573a\u5e93\u5b58\u65e0\u5fe7\u3002\u5e93\u5b58\u9ad8\u4f01\u901a\u5e38\u6e90\u4e8e\u8fc7\u53bb\u51e0\u5e74\u6fc0\u8fdb\u7684\u571f\u5730\u51fa\u8ba9\u901f\u5ea6\u8fdc\u8d85\u51fa\u5e02\u573a\u5bb9\u91cf\u548c\u6d88\u5316\u901f\u5ea6\uff0c\u4f8b\u5982\u6842\u6797\u3001\u5b9c\u660c\u3001\u8fde\u4e91\u6e2f2011\u5e74\u5546\u54c1\u623f\u9500\u552e\u9762\u79ef\u5360\u56db\u5e74\u5e74\u5747\u571f\u5730\u51fa\u8ba9\u91cf\u7684\u6bd4\u4f8b\u5206\u522b\u4e3a8.2%\u300112.7%\u548c18.4%\u3002\u800c\u6211\u4eec\u5206\u6790\u516c\u53f8\u8fdb\u5165\u7684\u533a\u53bf\u5e02\u573a\u60c5\u51b5\u6765\u770b\uff0c\u5e74\u6210\u4ea4\u9762\u79ef\u5360\u5176\u5f53\u5e74\u571f\u5730\u51fa\u8ba9\u5efa\u9762\u7684\u6bd4\u4f8b\u57fa\u672c\u5747\u8d8580%\u4ee5\u4e0a\u3002\uf0fc\u533a\u53bf\u5e02\u573a\u7a7a\u95f4\u6709\u4fdd\u8bc1\uff0c\u672a\u6765\u53ef\u83b7\u91cf\u4ef7\u53cc\u91cd\u63d0\u5347\u3002\u91cf\u5347\uff1a\u6574\u4f53\u5e02\u573a\u5bb9\u91cf\u5728\u6269\u5927\uff1b\u516c\u53f8\u5728\u533a\u53bf\u5e02\u573a\u9762\u4e34\u7684\u54c1\u724c\u5f00\u53d1\u5546\u7ade\u4e89\u5c11\uff0c\u5177\u6709\u5148\u5165\u4f18\u52bf\uff0c\u6709\u5229\u4e8e\u516c\u53f8\u7eb5\u5411\u6301\u7eed\u6df1\u8015\uff1b\u6a2a\u5411\u6269\u5c55\uff0c\u6309\u7167\u516c\u53f81030\u8ba1\u5212\uff0c2020\u5e74\u524d\uff0c\u9884\u8ba1\u516c\u53f8\u4ecd\u5c06\u8fdb\u5165\u91cd\u5e8611\u4e2a\u533a\u53bf\u3002\u4ef7\u63d0\uff1a\u5f97\u76ca\u4e8e\u533a\u4f4d\u4f18\u52bf\u7684\u63d0\u5347\uff0c\u533a\u53bf\u5e02\u573a\u5e74\u589e\u901f\u9ad8\u4e8e\u4e3b\u57ce\uff0c2006-2011\u5e74\u9500\u552e\u5747\u4ef7\u5e74\u590d\u5408\u589e\u901f\u2014\u2014\u4e3b\u57ce16.1%\uff0c\u975e\u4e3b\u57ce\u4e00\u5c0f\u65f6\u7ecf\u6d4e\u570825.3%\uff0c\u6e1d\u4e1c\u5317\u7ffc26.8%\uff0c\u6e1d\u4e1c\u5357\u7ffc30.2%\uff1b\u516c\u53f8\u5728\u533a\u53bf\u4eab\u6709\u54c1\u724c\u6ea2\u4ef7\u3002\uf0fc\u51c0\u8d1f\u503a\u7387\u548c\u6263\u9664\u9884\u6536\u8d26\u6b3e\u7684\u8d44\u4ea7\u8d1f\u503a\u7387\u8f83\u9ad8\u3002\u6e90\u4e8e\u516c\u53f8\u5904\u4e8e\u5feb\u901f\u6269\u5f20\u9636\u6bb5\u3002\u4ecd\u5904\u4e8e\u5b89\u5168\u8fb9\u9645\u4ee5\u5185\uff0c\u672a\u6765\u6539\u5584\u53ef\u671f\u3002\u8d27\u5e01\u8d44\u91d1/\uff08\u77ed\u671f\u501f\u6b3e+\u4e00\u5e74\u5185\u5230\u671f\u975e\u6d41\u52a8\u8d1f\u503a\uff09=1.61\u3002211\u4ebf\u7684\u9884\u6536\u8d26\u6b3e\u8986\u76d613\u5e74\u9884\u671f\u8425\u6536143.5%\u3002\u672a\u6765\u6539\u5584\u53ef\u671f\u30021\uff09\u878d\u8d44\u5e73\u5747\u6210\u672c\u6709\u671b\u4e0b\u964d\u7ea61\u4e2a\u767e\u5206\u70b9\u30022)\u518d\u878d\u8d44\u89c4\u6a21\u7684\u7f29\u5c0f\u6709\u52a9\u4e8e\u6574\u4f53\u65b9\u6848\u7684\u901a\u8fc7\u4e0e\u5b9e\u65bd\u30023\uff09\u521a\u9700\u4ea7\u54c1\u5360\u6bd4\u63d0\u9ad8\u52a0\u5feb\u5b58\u8d27\u5468\u8f6c\u3002\u201c70/30\u201d\u6218\u7565\u63d0\u9ad8\u81f3\u201c80/20\u201d\u30024\uff09\u5408\u8d44\u5408\u4f5c\u529b\u5ea6\u52a0\u5927\u3002\u672a\u67653\u5e74\u9500\u552e\u989d\u5e74\u590d\u5408\u589e\u901f\u5e02\u573a\u4efd\u989d\u4ef7\u683c\u5e74\u5747\u589e\u901f\u80cc\u540e\u6df1\u5c42\u7684\u539f\u56e0\u662f\u8fdb\u5165\u57ce\u9547\u5316\u5feb\u901f\u63d0\u5347\u9636\u6bb5\u3002\u6309\u7167\u57ce\u9547\u5316\u8fdb\u7a0b\u7684\u8bfa\u745f\u59c6\u66f2\u7ebf\uff0c\u57ce\u9547\u5316\u7387\u8fbe\u523030%\u4ee5\u4e0a\u65f6\uff0c\u8fdb\u5165\u57ce\u9547\u5316\u63d0\u5347\u7684\u52a0\u901f\u9636\u6bb5\uff0c\u5de5\u4e1a\u5316\u901f\u5ea6\u7684\u52a0\u5feb\u63a8\u8fdb\u4eba\u53e3\u5f00\u59cb\u5927\u91cf\u8fdb\u5165\u57ce\u5e02\uff0c\u516c\u53f8\u8fdb\u5165\u7684\u5927\u591a\u51fa\u57ce\u5e02\u5747\u5904\u4e8e\u6b63\u5904\u4e8e\u57ce\u9547\u5316\u5feb\u901f\u63d0\u5347\u9636\u6bb5\u7684\u524d\u671f\uff0c\u80cc\u540e\u662f\u7ecf\u6d4e\u8fdb\u5165\u5de5\u4e1a\u5316\u901f\u5ea6\u7684\u52a0\u5feb\u63a8\u8fdb\u4eba\u53e3\u5f00\u59cb\u5927\u91cf\u8fdb\u5165\u57ce\u5e02\uff0c\u56fd\u9645\u57ce\u9547\u5316\u7387\u4e0e\u5de5\u4e1a\u5316\u7387\u4e4b\u95f4\u7684\u5408\u7406\u6bd4\u4f8b\u8303\u56f4\u662f1.4:1-2.5:1\uff0c\u800c\u5904\u4e8e\u57ce\u9547\u5316\u5feb\u901f\u63d0\u5347\u9636\u6bb5\u7684\u521d\u671f\uff0c\u91cd\u5e86\u533a\u53bf\u8fd9\u4e00\u6bd4\u4f8b\u8fdc\u4f4e\u4e8e\u6b64\uff0c\u672a\u6765\u5728\u5176\u57ce\u9547\u5de5\u4e1a\u5feb\u901f\u53d1\u5c55\u7684\u5e26\u52a8\u4e0b\u519c\u6751\u4eba\u53e3\u5411\u57ce\u9547\u96c6\u805a\u8d8b\u52bf\u5c06\u8d8a\u52a0\u660e\u663e\u3002\u540c\u65f6\uff0c\u91cd\u5e86\u571f\u5730\u6539\u9769\u8bd5\u70b9\u5728\u4fdd\u7559\u519c\u6c11\u571f\u5730\u6240\u6709\u7684\u524d\u63d0\u4e0b\u9f13\u52b1\u5176\u8fdb\u57ce\u7684\u653f\u7b56\u3001\u4ee5\u53ca\u4e8c\u73af\u516b\u5c04\u7684\u4ea4\u901a\u6539\u5584\u5bf9\u4e8e\u91cd\u5e86\u8fd9\u79cd\u5c71\u533a\u5e26\u6765\u7684\u8fb9\u9645\u6548\u5e94\u4ea6\u6bd4\u8f83\u660e\u663e\u3002\u6c38\u6daa\u5408\u6c5f\u4e07\u957f\u7da6\u5357\u5927\u74a7\u94dc\u8363\u9ed4\u6f7c\u5f00\u4e30\u6881\u57ab\u6b66\u5fe0\u77f3\u5949\u4e91\u79c0\u5deb\u57ce\u5deb\u5f6d\u9149\u5ddd\u9675\u5ddd\u6d25\u5dde\u5bff\u6c5f\u5ddd\u8db3\u5c71\u6881\u660c\u6c5f\u5357\u53bf\u90fd\u5e73\u6c5f\u9686\u53bf\u67f1\u8282\u9633\u5c71\u5c71\u53e3\u6eaa\u6c34\u9633\u533a\u533a\u533a\u533a\u533a\u533a\u533a\u533a\u533a\u53bf\u53bf\u53bf\u533a\u53bf\u53bf\u53bf\u53bf\u53bf\u53bf\u53bf\u53bf\u53bf\u53bf\u53bf\u53bf\u53bf\u53bf\u8d44\u6599\u6765\u6e90\uff1a\u91cd\u5e86\u7edf\u8ba1\u5c40\uff0c\u534e\u6cf0\u8bc1\u5238\u7814\u7a76\u6240\u6ce8\uff1a\u9ec4\u8272\u6807\u6ce8\u4e3a\u516c\u53f8\u5df2\u8fdb\u5165\u533a\u53bf\u76c8\u5229\u9884\u6d4b\uff1a\u6211\u4eec\u8ba4\u4e3a\u57fa\u672c\u9762\u4e0a\uff0c\u516c\u53f8\u672a\u6765\u4e09\u5e74\u8fce\u4e1a\u7ee9\u6301\u7eed\u9ad8\u589e\u957f\u671f\uff0c2013~2015\u5e74\u590d\u5408\u589e\u901f40%\u4ee5\u4e0a\u3002\u76c8\u5229\u9884\u6d4b\uff1a2013-2015\u5e74\u7efc\u5408\u6536\u5165\u5206\u522b\u4e3a147.4/198.2/270.4\u4ebf\uff0cEPS\u5206\u522b\u8fbe1.43/1.79/2.28\u5143\uff0c\u5bf9\u5e94PE5.5X/4.4X/3.5X\u3002NAV\u4e3a17.35\u5143\uff0c\u8f837.92\u5143\u7684\u80a1\u4ef7\u6298\u4ef7\u8d8550%\u3002\u4ecd\u5b58\u6709\u8f83\u5927\u7684\u4fee\u590d\u7a7a\u95f4\uff0c\u7ef4\u6301\u201c\u589e\u6301\u201d\u8bc4\u7ea7\u3002\u98ce\u9669\u63d0\u793a\u8fd1\u671f\u9650\u552e\u80a1\u89e3\u7981\u6301\u7eed\u51cf\u6301\u5e26\u6765\u7684\u77ed\u671f\u98ce\u9669\uff1b\u5730\u65b9\u623f\u5730\u4ea7\u8c03\u63a7\u8303\u56f4\u53ca\u529b\u5ea6\u8d85\u9884\u671f\u76c8\u5229\u9884\u6d4b\u957f\u671f\u6295\u8d44\u56fa\u5b9a\u6295\u8d44\u77ed\u671f\u501f\u6b3e\u516c\u5141\u4ef7\u503c\u53d8\u52a8\u6536\u6295\u8d44\u51c0\u6536\u76ca\u76ca\u6240\u5f97\u7a0e\u5176\u4ed6\u975e\u6d41\u52a8\u8d1f\u503a\u5c11\u6570\u80a1\u4e1c\u6743\u76ca\u80a1\u672c\u8d44\u672c\u516c\u79ef\u7559\u5b58\u516c\u79ef\u5f52\u5c5e\u6bcd\u516c\u53f8\u80a1\u51c0\u5229\u6da6\u6298\u65e7\u644a\u9500\u8d22\u52a1\u8d39\u7528\u6295\u8d44\u635f\u5931\u8425\u8fd0\u8d44\u91d1\u53d8\u52a8\u5176\u4ed6\u7ecf\u8425\u73b0\u91d1\u8d44\u672c\u652f\u51fa\u957f\u671f\u6295\u8d44\u5176\u4ed6\u6295\u8d44\u73b0\u91d1\u77ed\u671f\u501f\u6b3e\u957f\u671f\u501f\u6b3e\u666e\u901a\u80a1\u589e\u52a0\u8d44\u672c\u516c\u79ef\u589e\u52a0\u5176\u4ed6\u7b79\u8d44\u73b0\u91d1\u73b0\u91d1\u51c0\u589e\u52a0\u989d2010\u5e74\u91d1\u79d1\u738b\u5e9c\u4e2d\u56fd\u623f\u5730\u4ea7\u5730\u65b9\u9879\u76ee\u54c1\u724c\u4ef7\u503cTOP10\uff1b\u4e2d\u56fd\u4f4f\u4ea4\u4f1a\u201c\u4e2d\u56fd\u540d\u76d8\u201d\u91d1\u79d1\u5eca\u6865\u6c34\u4e61\u4e2d\u56fd\u623f\u5730\u4ea7\u5730\u65b9\u9879\u76ee\u54c1\u724c\u4ef7\u503cTOP10\uff1b\u4e2d\u56fd\u4f4f\u4ea4\u4f1a\u201c\u4e2d\u56fd\u540d\u76d8\u201d\uff1b\u91cd\u5e86\u91d1\u79d1\u5eca\u6865\u6c34\u4e61\u548c\u6210\u90fd\u91d1\u79d1\u5eca\u6865\u6c34\u4e61\u4e24\u9879\u76ee\u83b7\u201c\u7b2c\u5341\u516b\u5c4a\u4e2d\u534e\u5efa\u7b51\u91d1\u77f3\u5956\u201d\u4e2d\u7684\u201c\u9876\u5c16\u5c45\u4f4f\u54c1\u724c\u7c7b\u91d1\u77f3\u5956\u201d\u3002\n"
       ]
      }
     ],
     "prompt_number": 11
    },
    {
     "cell_type": "code",
     "collapsed": false,
     "input": [
      "print(data.Conclusion.iloc[3454])"
     ],
     "language": "python",
     "metadata": {},
     "outputs": [
      {
       "output_type": "stream",
       "stream": "stdout",
       "text": [
        "    \u5e03\u5c40\u4e09\u56db\u7ebf\u57ce\u5e02\u6d0b\u623f\u4e13\u5bb6\u3002\u516c\u53f8\u6574\u4f53\u5e03\u5c40\u4ee5\u4e09\u56db\u7ebf\u57ce\u5e02\u4e3a\u4e3b,\u5e03\u5c40\u4e0a\u4ee5\u91cd\u5e86\u4e3a\u4e2d\u5fc3\u7684\u4e2d\u897f\u90e860%,\u957f\u4e09\u89d2\u548c\u73af\u6e24\u6d77\u5404\u536020%,\u91cd\u5e86\u5730\u533a\u5219\u9075\u5faa10\u5e74\u8fdb\u5165\u91cd\u5e86\u8f96\u533a\u768430\u4e2a\u533a\u53bf\u76841030\u6218\u7565\u3002\u8fd1\u5e74\u6269\u5f20\u8f83\u5feb,\u540c\u65f6\u6781\u5177\u521b\u65b0\u8bbe\u8ba1\u80fd\u529b,\u591a\u4e2a\u4ea7\u54c1\u7cfb\u5217\u83b7\u5f97\u8bbe\u8ba1\u5927\u5956,\u63d0\u5347\u516c\u53f8\u54c1\u724c\u4ef7\u503c\u3002 \r\n",
        "    \u516c\u53f8\u4f30\u503c\u4e00\u76f4\u4f4e\u4e8e\u540c\u4f53\u91cf\u589e\u901f\u7c7b\u6bd4\u516c\u53f8\u768430%\u5de6\u53f3,\u5e02\u573a\u62c5\u5fe7\u96c6\u4e2d\u4e8e:(1)\u516c\u53f8\u5360\u6bd4\u8f83\u9ad8\u7684\u4e09\u3001\u56db\u7ebf\u57ce\u5e02(\u5c24\u5176\u662f\u91cd\u5e86\u533a\u53bf\u5e02\u573a)\u4e1a\u52a1,\u5176\u5355\u4e2a\u5e02\u573a\u5bb9\u91cf\u53ca\u5229\u6da6\u7a7a\u95f4\u6709\u9650,\u4e14\u5e02\u573a\u5171\u8bc6\u4e09\u56db\u7ebf\u603b\u4f53\u5e93\u5b58\u538b\u529b\u8f83\u5927,\u5bf9\u516c\u53f8\u9879\u76ee\u7684\u53bb\u5316\u548c\u5229\u6da6\u7387\u6216\u53d7\u5f71\u54cd;(2)\u516c\u53f8\u8fc7\u5feb\u7684\u6269\u5f20\u901f\u5ea6\u7ed9\u8d22\u52a1\u7684\u7a33\u5065\u6027\u5e26\u6765\u5b89\u5168\u9690\u5fe7\u3002\u518d\u52a0\u4e0a\u516c\u53f8\u53bb\u5e74\u524d\u4e09\u5b63\u5ea6\u9500\u552e\u4f4e\u4e8e\u9884\u671f,\u9500\u552e\u76ee\u6807\u964d\u4f4e,\u878d\u8d44\u65b9\u6848\u7f29\u6c34\u7b49\u8d1f\u9762\u56e0\u7d20\u66f4\u52a0\u6df1\u4e86\u8bef\u89e3,\u5bfc\u81f4\u516c\u53f8\u88ab\u4e25\u91cd\u4f4e\u4f30,\u5176\u4f30\u503c\u4f4e\u4e8e\u884c\u4e1a\u540c\u4f53\u91cf\u4e1a\u7ee9\u589e\u901f\u7684\u516c\u53f830%\u5de6\u53f3\u3002\u6211\u4eec\u5206\u6790\u8ba4\u4e3a\u4e4b\u524d\u524d\u4e09\u5b63\u5ea6\u9500\u552e\u4e3b\u8981\u53d7\u63a8\u76d8\u91cf\u63a3\u8098,\u5bfc\u81f4\u589e\u901f\u4f4e\u4e8e\u5e02\u573a\u9884\u671f,\u8fd9\u8ddf\u516c\u53f8\u4e4b\u524d\u7684\u62ff\u5730\u5468\u671f\u548c\u91cd\u5e86\u5e02\u573a\u7279\u70b9\u6709\u5173,\u516c\u53f8\u5b9e\u9645\u63a8\u76d8\u53bb\u5316\u7387\u6574\u4f53\u9ad8\u8fbe\u8fd170%\u3002\u968f\u7740\u516c\u53f8\u53bb\u5e74\u56db\u5b63\u5ea6\u7684\u63a8\u76d8\u91cf\u5927\u589e,\u5168\u5e74\u9500\u552e\u66f4\u662f\u8d85\u4e86\u8c03\u4f4e\u524d\u7684\u5e74\u521d\u8ba1\u5212,\u5b9e\u73b040%\u7684\u6da8\u5e45\u3002\u90e8\u5206\u56de\u5e94\u4e86\u5e02\u573a\u91ca\u7591\u3002\u8fd9\u4e5f\u662f\u6628\u65e5\u5176\u4f30\u503c\u4fee\u590d\u7a0b\u5ea6\u8d85\u884c\u4e1a\u5e73\u5747\u7684\u539f\u56e0\u3002\u80cc\u540e\u6df1\u5c42\u7684\u539f\u56e0\u662f\u516c\u53f8\u8fdb\u5165\u7684\u5927\u591a\u51fa\u57ce\u5e02\u5747\u5904\u4e8e\u6b63\u5904\u4e8e\u8bfa\u745f\u59c6\u66f2\u7ebf\u7684\u57ce\u9547\u5316\u5feb\u901f\u63d0\u5347\u9636\u6bb5\u7684\u524d\u671f,\u80cc\u540e\u662f\u7ecf\u6d4e\u8fdb\u5165\u5de5\u4e1a\u5316\u901f\u5ea6\u7684\u52a0\u5feb\u63a8\u8fdb\u4eba\u53e3\u5f00\u59cb\u5927\u91cf\u8fdb\u5165\u57ce\u5e02,\u540c\u65f6\u91cd\u5e86\u571f\u5730\u6539\u9769\u8bd5\u70b9\u5728\u4fdd\u7559\u519c\u6c11\u571f\u5730\u6240\u6709\u7684\u524d\u63d0\u4e0b\u9f13\u52b1\u5176\u8fdb\u57ce\u7684\u653f\u7b56\u3001\u4ee5\u53ca\u4e8c\u73af\u516b\u5c04\u7684\u4ea4\u901a\u6539\u5584\u5bf9\u4e8e\u91cd\u5e86\u8fd9\u79cd\u5c71\u533a\u5e26\u6765\u7684\u8fb9\u9645\u6548\u5e94\u4ea6\u6bd4\u8f83\u660e\u663e\u3002\r\n",
        "    \u6211\u4eec\u8ba4\u4e3a\u5e02\u573a\u7684\u62c5\u5fe7\u672a\u6765\u5c06\u7ee7\u7eed\u8bc1\u4f2a,\u8fce\u6301\u7eed\u4f30\u503c\u4fee\u590d\u3002\u4ee5\u91cd\u5e86\u4e3a\u4f8b,(1)\u533a\u53bf\u5e02\u573a\u5e93\u5b58\u65e0\u5fe7:\u5e93\u5b58\u9ad8\u4f01\u901a\u5e38\u6e90\u4e8e\u8fc7\u53bb\u51e0\u5e74\u6fc0\u8fdb\u7684\u571f\u5730\u51fa\u8ba9\u901f\u5ea6\u8fdc\u8d85\u51fa\u5e02\u573a\u5bb9\u91cf\u548c\u6d88\u5316\u901f\u5ea6,\u6211\u4eec\u5206\u6790\u516c\u53f8\u8fdb\u5165\u7684\u533a\u53bf\u5e02\u573a\u60c5\u51b5\u6765\u770b,\u5e74\u6210\u4ea4\u9762\u79ef\u5360\u5176\u5f53\u5e74\u571f\u5730\u51fa\u8ba9\u5efa\u9762\u7684\u6bd4\u4f8b\u57fa\u672c\u5747\u8d8580%\u4ee5\u4e0a\u3002(2)\u7a7a\u95f4\u4e0a,\u53ef\u83b7\u91cf\u4ef7\u53cc\u91cd\u63d0\u5347\u3002 \r\n",
        "    \u6295\u8d44\u5efa\u8bae:\u6211\u4eec\u8ba4\u4e3a\u57fa\u672c\u9762\u4e0a,\u516c\u53f8\u672a\u6765\u4e09\u5e74\u8fce\u4e1a\u7ee9\u6301\u7eed\u9ad8\u589e\u957f\u671f,2013~2015\u5e74\u590d\u5408\u589e\u901f40%\u4ee5\u4e0a\u3002\u76c8\u5229\u9884\u6d4b:2013-2015\u5e74\u7efc\u5408\u6536\u5165\u5206\u522b\u4e3a147.4/198.2/ 270. 4\u4ebf,EPS\u5206\u522b\u8fbe1.43/1.79/2.28\u5143,\u5bf9\u5e94PE5.5X/4.4X/3.5X\u3002NAV\u4e3a17.35\u5143,\u8f837.92\u5143\u7684\u80a1\u4ef7\u6298\u4ef7\u8d8550 %\u3002\u4ecd\u5b58\u6709\u8f83\u5927\u7684\u4fee\u590d\u7a7a\u95f4,\u7ef4\u6301\u201c\u589e\u6301\u201d\u8bc4\u7ea7\u3002\u98ce\u9669\u63d0\u793a:\u9650\u552e\u80a1\u89e3\u7981\u6301\u7eed\u51cf\u6301\u5e26\u6765\u77ed\u671f\u6ce2\u52a8;\u5730\u65b9\u623f\u5730\u4ea7\u8c03\u63a7\u8303\u56f4\u53ca\u529b\u5ea6\u8d85\u9884\u671f\u3002\r\n",
        "\n"
       ]
      }
     ],
     "prompt_number": 12
    },
    {
     "cell_type": "code",
     "collapsed": false,
     "input": [
      "data.Conclusion.isnull().value_counts()"
     ],
     "language": "python",
     "metadata": {},
     "outputs": [
      {
       "metadata": {},
       "output_type": "pyout",
       "prompt_number": 75,
       "text": [
        "False    6388\n",
        "True       57\n",
        "dtype: int64"
       ]
      }
     ],
     "prompt_number": 75
    },
    {
     "cell_type": "code",
     "collapsed": false,
     "input": [
      "data['has_conclusion'] = data.Conclusion.apply(lambda x: x is not None and len(x)>0)\n",
      "data['has_body'] = data.Body.apply(lambda x: x is not None and len(x)>0)"
     ],
     "language": "python",
     "metadata": {},
     "outputs": [],
     "prompt_number": 15
    },
    {
     "cell_type": "code",
     "collapsed": false,
     "input": [
      "data.pivot_table(rows='has_conclusion', values='has_body')"
     ],
     "language": "python",
     "metadata": {},
     "outputs": [
      {
       "metadata": {},
       "output_type": "pyout",
       "prompt_number": 17,
       "text": [
        "has_conclusion\n",
        "False             0.070175\n",
        "True              0.767533\n",
        "Name: has_body, dtype: float64"
       ]
      }
     ],
     "prompt_number": 17
    },
    {
     "cell_type": "code",
     "collapsed": false,
     "input": [
      "data.pivot_table(values='has_conclusion', rows='has_body')"
     ],
     "language": "python",
     "metadata": {},
     "outputs": [
      {
       "metadata": {},
       "output_type": "pyout",
       "prompt_number": 18,
       "text": [
        "has_body\n",
        "False       0.965540\n",
        "True        0.999185\n",
        "Name: has_conclusion, dtype: float64"
       ]
      }
     ],
     "prompt_number": 18
    },
    {
     "cell_type": "code",
     "collapsed": false,
     "input": [
      "tmp = data.Conclusion.dropna()"
     ],
     "language": "python",
     "metadata": {},
     "outputs": [],
     "prompt_number": 76
    },
    {
     "cell_type": "code",
     "collapsed": false,
     "input": [
      "np.power(10,1.75)"
     ],
     "language": "python",
     "metadata": {},
     "outputs": [
      {
       "metadata": {},
       "output_type": "pyout",
       "prompt_number": 77,
       "text": [
        "56.234132519034908"
       ]
      }
     ],
     "prompt_number": 77
    },
    {
     "cell_type": "code",
     "collapsed": false,
     "input": [
      "tmp.loc[tmp.apply(len)<32,].value_counts()"
     ],
     "language": "python",
     "metadata": {},
     "outputs": [
      {
       "metadata": {},
       "output_type": "pyout",
       "prompt_number": 78,
       "text": [
        "\u2014\u2014                5\n",
        "\u2014\u2014\\r\\n\\r\\n\\r\\n    1\n",
        "dtype: int64"
       ]
      }
     ],
     "prompt_number": 78
    },
    {
     "cell_type": "code",
     "collapsed": false,
     "input": [
      "tmp=tmp.apply(len)\n",
      "np.log10(tmp[tmp>=32]+1).hist(bins=20)"
     ],
     "language": "python",
     "metadata": {},
     "outputs": [
      {
       "metadata": {},
       "output_type": "pyout",
       "prompt_number": 79,
       "text": [
        "<matplotlib.axes.AxesSubplot at 0x7f1caea36790>"
       ]
      },
      {
       "metadata": {},
       "output_type": "display_data",
       "png": "[encoded data removed]",
       "text": [
        "<matplotlib.figure.Figure at 0x7f1caea36a90>"
       ]
      }
     ],
     "prompt_number": 79
    },
    {
     "cell_type": "heading",
     "level": 2,
     "metadata": {},
     "source": [
      "Title"
     ]
    },
    {
     "cell_type": "code",
     "collapsed": false,
     "input": [
      "data.Title.isnull().value_counts()"
     ],
     "language": "python",
     "metadata": {},
     "outputs": [
      {
       "metadata": {},
       "output_type": "pyout",
       "prompt_number": 80,
       "text": [
        "False    6445\n",
        "dtype: int64"
       ]
      }
     ],
     "prompt_number": 80
    },
    {
     "cell_type": "code",
     "collapsed": false,
     "input": [
      "data.Title.apply(lambda x: log10(len(x)+1)).hist()"
     ],
     "language": "python",
     "metadata": {},
     "outputs": [
      {
       "metadata": {},
       "output_type": "pyout",
       "prompt_number": 81,
       "text": [
        "<matplotlib.axes.AxesSubplot at 0x7f1cad9c0c10>"
       ]
      },
      {
       "metadata": {},
       "output_type": "display_data",
       "png": "[encoded data removed]",
       "text": [
        "<matplotlib.figure.Figure at 0x7f1caea6a7d0>"
       ]
      }
     ],
     "prompt_number": 81
    },
    {
     "cell_type": "code",
     "collapsed": false,
     "input": [
      "data.Title.iloc[data.Title.apply(len).values.argsort()]"
     ],
     "language": "python",
     "metadata": {},
     "outputs": [
      {
       "metadata": {},
       "output_type": "pyout",
       "prompt_number": 117,
       "text": [
        "id\n",
        "443875426041        \u65b0\u80a1\u7533\u8d2d\u7b56\u7565\u62a5\u544a\n",
        "445448283819        \u65b0\u80a1\u7533\u8d2d\u7b56\u7565\u62a5\u544a\n",
        "438376726026        \u6bcf\u5468\u76c8\u5229\u9884\u6d4b\u62a5\u544a\n",
        "442606236774        \u6bcf\u5468\u76c8\u5229\u9884\u6d4b\u62a5\u544a\n",
        "447264019363      \u91cd\u70b9\u516c\u53f8\u4e1a\u7ee9\u9884\u6d4b\u6c47\u603b\n",
        "440494775773      \u4e2d\u91d1\u516c\u53f8\u80a1\u7968\u8986\u76d6\u540d\u5355\n",
        "443092161274      \u91cd\u70b9\u516c\u53f8\u4e1a\u7ee9\u9884\u6d4b\u6c47\u603b\n",
        "443436348965     \u56fd\u6cf0\u541b\u5b89\u56fd\u9645\u65e5\u672c\u80a1\u7968\u6c60\n",
        "442665752976     \u65b0\u80a1\u7f51\u4e0a\u7533\u8d2d\u63d0\u793a\u7b2c3\u671f\n",
        "445859295349     \u56fd\u6cf0\u541b\u5b89\u56fd\u9645\u65e5\u672c\u80a1\u7968\u6c60\n",
        "442491889416     \u65b0\u80a1\u7f51\u4e0a\u7533\u8d2d\u63d0\u793a\u7b2c2\u671f\n",
        "446460762705     \u56fd\u6cf0\u541b\u5b89\u56fd\u9645\u65e5\u672c\u80a1\u7968\u6c60\n",
        "442079551592    \u6807\u51c6\u666e\u5c14500\u6307\u6570\u80a1\u7968\u6c60\n",
        "441386226422    \u4e2d\u4fe1\u8bc1\u5238\u6bcf\u5468\u76c8\u5229\u9884\u6d4b\u62a5\u544a\n",
        "444322836314    \u4e2d\u4fe1\u8bc1\u5238\u6bcf\u5468\u76c8\u5229\u9884\u6d4b\u62a5\u544a\n",
        "...\n",
        "445958665382    JIANGSU RAINBOW HEAVY INDUSTRIES(002483)\uff1aINITI...\n",
        "443200079465    XINJIANG TECON ANIMAL HUSBANDRY BIO-TECHNOLOGY...\n",
        "442569122849    \u201cIPO EXPRESS\u201d SERIES REPORT (NO.3)\uff1aSEGMENT LEA...\n",
        "447430111634    SHANGHAI PUDONG ROAD & BRIDGE CONSTRUCTION (60...\n",
        "442575786878    JONJEE HI-TECH INDUSTRIAL AND COMMERCIAL(60087...\n",
        "439203275859    SHANGHAI ELECTRIC POWER (600021)\uff1aACCELERATED P...\n",
        "441475920219    ZHEJIANG SATELLITE PETROCHEMICAL(002648)\uff1aSAP W...\n",
        "446046240465    DONGJIANG ENVIRONMENTAL (002672)\uff1aCAPACITY RELE...\n",
        "446304298895    CHANGZHOU XINGYU AUTOMOTIVE LIGHTING SYSTEMS(6...\n",
        "440841223982    ZHEJIANG ZHENENG ELECTRIC POWER (600023) NEW O...\n",
        "446051422480    SUNING COMMERCE GROUP (002024)\uff1aANOTHER MOVE TO...\n",
        "446746143428    SHENZHEN FASTPRINT CIRCUIT TECH (002436) INVES...\n",
        "446226211923    CHINA PETROLEUM & PETROCHEMICAL SECTOR UPDATE\uff1a...\n",
        "442592447462    POLY REAL ESTATE(600048) COMMENTS ON DEC 2013 ...\n",
        "442592564767    SDIC POWER(600886)\uff1aHIGHER-THAN-EXPECTED EARNIN...\n",
        "Name: Title, Length: 6445, dtype: object"
       ]
      }
     ],
     "prompt_number": 117
    },
    {
     "cell_type": "heading",
     "level": 2,
     "metadata": {},
     "source": [
      "author"
     ]
    },
    {
     "cell_type": "code",
     "collapsed": false,
     "input": [
      "data.Author.isnull().value_counts()"
     ],
     "language": "python",
     "metadata": {},
     "outputs": [
      {
       "metadata": {},
       "output_type": "pyout",
       "prompt_number": 83,
       "text": [
        "False    6396\n",
        "True       49\n",
        "dtype: int64"
       ]
      }
     ],
     "prompt_number": 83
    },
    {
     "cell_type": "code",
     "collapsed": false,
     "input": [
      "tmp = data.Author.dropna()"
     ],
     "language": "python",
     "metadata": {},
     "outputs": [],
     "prompt_number": 84
    },
    {
     "cell_type": "code",
     "collapsed": false,
     "input": [
      "tmp=tmp.apply(lambda x: x.split('/'))"
     ],
     "language": "python",
     "metadata": {},
     "outputs": [],
     "prompt_number": 85
    },
    {
     "cell_type": "code",
     "collapsed": false,
     "input": [
      "tmp.apply(len).value_counts()"
     ],
     "language": "python",
     "metadata": {},
     "outputs": [
      {
       "metadata": {},
       "output_type": "pyout",
       "prompt_number": 86,
       "text": [
        "2    2708\n",
        "1    2642\n",
        "3     875\n",
        "4     143\n",
        "5      28\n",
        "dtype: int64"
       ]
      }
     ],
     "prompt_number": 86
    },
    {
     "cell_type": "heading",
     "level": 2,
     "metadata": {},
     "source": [
      "WritingDate"
     ]
    },
    {
     "cell_type": "code",
     "collapsed": false,
     "input": [
      "data.WritingDate.describe()"
     ],
     "language": "python",
     "metadata": {},
     "outputs": [
      {
       "metadata": {},
       "output_type": "pyout",
       "prompt_number": 87,
       "text": [
        "count                    6445\n",
        "unique                    122\n",
        "first     2013-10-28 00:00:00\n",
        "last      2014-03-10 00:00:00\n",
        "top       2014-02-28 00:00:00\n",
        "freq                      238\n",
        "Name: WritingDate, dtype: object"
       ]
      }
     ],
     "prompt_number": 87
    },
    {
     "cell_type": "code",
     "collapsed": false,
     "input": [
      "data.WritingDate.value_counts().plot()"
     ],
     "language": "python",
     "metadata": {},
     "outputs": [
      {
       "metadata": {},
       "output_type": "pyout",
       "prompt_number": 88,
       "text": [
        "<matplotlib.axes.AxesSubplot at 0x7f1caed67a50>"
       ]
      },
      {
       "metadata": {},
       "output_type": "display_data",
       "png": "[encoded data removed]",
       "text": [
        "<matplotlib.figure.Figure at 0x7f1cad92e450>"
       ]
      }
     ],
     "prompt_number": 88
    },
    {
     "cell_type": "heading",
     "level": 2,
     "metadata": {},
     "source": [
      "Orgname"
     ]
    },
    {
     "cell_type": "code",
     "collapsed": false,
     "input": [
      "data.OrgName.isnull().value_counts()"
     ],
     "language": "python",
     "metadata": {},
     "outputs": [
      {
       "metadata": {},
       "output_type": "pyout",
       "prompt_number": 89,
       "text": [
        "False    6445\n",
        "dtype: int64"
       ]
      }
     ],
     "prompt_number": 89
    },
    {
     "cell_type": "code",
     "collapsed": false,
     "input": [
      "data.OrgName.value_counts()"
     ],
     "language": "python",
     "metadata": {},
     "outputs": [
      {
       "metadata": {},
       "output_type": "pyout",
       "prompt_number": 90,
       "text": [
        "\u4e2d\u4fe1\u8bc1\u5238     447\n",
        "\u6c47\u4e30\u94f6\u884c     422\n",
        "\u4e2d\u91d1\u516c\u53f8     385\n",
        "\u6d77\u901a\u8bc1\u5238     329\n",
        "\u56fd\u6cf0\u541b\u5b89     327\n",
        "\u7533\u94f6\u4e07\u56fd     307\n",
        "\u91d1\u82f1\u8bc1\u5238     293\n",
        "\u957f\u6c5f\u8bc1\u5238     282\n",
        "\u62db\u5546\u8bc1\u5238     249\n",
        "\u5e7f\u53d1\u8bc1\u5238     230\n",
        "\u5174\u4e1a\u8bc1\u5238     211\n",
        "\u745e\u94f6\u8bc1\u5238     205\n",
        "\u5e73\u5b89\u8bc1\u5238     164\n",
        "\u5fb7\u610f\u5fd7\u94f6\u884c    164\n",
        "\u5b8f\u6e90\u8bc1\u5238     163\n",
        "...\n",
        "\u4e1c\u5434\u8bc1\u5238        8\n",
        "\u9ad8\u76db\u96c6\u56e2        7\n",
        "\u5929\u98ce\u8bc1\u5238        5\n",
        "\u4e2d\u4fe1\u8bc1\u5238\u56fd\u9645      4\n",
        "\u82b1\u65d7\u94f6\u884c        3\n",
        "\u822a\u5929\u8bc1\u5238        2\n",
        "\u5f00\u6e90\u8bc1\u5238        2\n",
        "\u4ea4\u94f6\u56fd\u9645        1\n",
        "\u957f\u57ce\u8bc1\u5238        1\n",
        "\u6d77\u901a\u56fd\u9645        1\n",
        "\u5ddd\u8d22\u8bc1\u5238        1\n",
        "\u534e\u5b9d\u8bc1\u5238        1\n",
        "\u534e\u9f99\u8bc1\u5238        1\n",
        "\u62db\u5546\u8bc1\u5238(\u9999\u6e2f)    1\n",
        "\u6469\u6839\u5927\u901a        1\n",
        "Length: 65, dtype: int64"
       ]
      }
     ],
     "prompt_number": 90
    }
   ],
   "metadata": {}
  }
 ]
}