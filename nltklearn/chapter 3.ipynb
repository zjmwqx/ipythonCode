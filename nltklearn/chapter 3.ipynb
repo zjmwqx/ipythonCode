{
 "cells": [
  {
   "cell_type": "code",
   "execution_count": 1,
   "metadata": {
    "collapsed": true
   },
   "outputs": [],
   "source": [
    "from __future__ import division\n",
    "import nltk, re, pprint"
   ]
  },
  {
   "cell_type": "code",
   "execution_count": 5,
   "metadata": {
    "collapsed": true
   },
   "outputs": [],
   "source": [
    "from urllib import urlopen\n",
    "url = \"http://www.gutenberg.org/files/2554/2554.txt\"\n",
    "raw = urlopen(url).read()"
   ]
  },
  {
   "cell_type": "code",
   "execution_count": 6,
   "metadata": {
    "collapsed": false
   },
   "outputs": [],
   "source": [
    "tokens = nltk.word_tokenize(raw)"
   ]
  },
  {
   "cell_type": "code",
   "execution_count": 7,
   "metadata": {
    "collapsed": true
   },
   "outputs": [],
   "source": [
    "text = nltk.Text(tokens)"
   ]
  },
  {
   "cell_type": "code",
   "execution_count": 8,
   "metadata": {
    "collapsed": false
   },
   "outputs": [
    {
     "name": "stdout",
     "output_type": "stream",
     "text": [
      "Katerina Ivanovna; Pyotr Petrovitch; Pulcheria Alexandrovna; Avdotya\n",
      "Romanovna; Rodion Romanovitch; Marfa Petrovna; Sofya Semyonovna; old\n",
      "woman; Project Gutenberg-tm; Porfiry Petrovitch; Amalia Ivanovna;\n",
      "great deal; Nikodim Fomitch; young man; Ilya Petrovitch; n't know;\n",
      "Project Gutenberg; Dmitri Prokofitch; Andrey Semyonovitch; Hay Market\n"
     ]
    }
   ],
   "source": [
    "text.collocations()"
   ]
  },
  {
   "cell_type": "code",
   "execution_count": 9,
   "metadata": {
    "collapsed": false
   },
   "outputs": [],
   "source": [
    "raw = raw[5303:1157681]"
   ]
  },
  {
   "cell_type": "code",
   "execution_count": 10,
   "metadata": {
    "collapsed": false
   },
   "outputs": [],
   "source": [
    "raw = raw[35:1157681]"
   ]
  },
  {
   "cell_type": "code",
   "execution_count": 12,
   "metadata": {
    "collapsed": false
   },
   "outputs": [
    {
     "data": {
      "text/plain": [
       "0"
      ]
     },
     "execution_count": 12,
     "metadata": {},
     "output_type": "execute_result"
    }
   ],
   "source": [
    "raw.find(\"PART I\")"
   ]
  },
  {
   "cell_type": "code",
   "execution_count": 13,
   "metadata": {
    "collapsed": false
   },
   "outputs": [
    {
     "data": {
      "text/plain": [
       "'<!doctype html public \"-//W3C//DTD HTML 4.0 Transitional//EN'"
      ]
     },
     "execution_count": 13,
     "metadata": {},
     "output_type": "execute_result"
    }
   ],
   "source": [
    "url = \"http://news.bbc.co.uk/2/hi/health/2284783.stm\"\n",
    "html = urlopen(url).read()\n",
    "html[:60]"
   ]
  },
  {
   "cell_type": "code",
   "execution_count": 26,
   "metadata": {
    "collapsed": false
   },
   "outputs": [],
   "source": [
    "from BeautifulSoup import BeautifulSoup"
   ]
  },
  {
   "cell_type": "code",
   "execution_count": 28,
   "metadata": {
    "collapsed": false
   },
   "outputs": [],
   "source": [
    "parsed=BeautifulSoup(html)"
   ]
  },
  {
   "cell_type": "code",
   "execution_count": 33,
   "metadata": {
    "collapsed": false
   },
   "outputs": [],
   "source": [
    "# nltk.word_tokenize(parsed.getText())"
   ]
  },
  {
   "cell_type": "code",
   "execution_count": 40,
   "metadata": {
    "collapsed": true
   },
   "outputs": [],
   "source": [
    "import feedparser\n",
    "llog = feedparser.parse(\"http://languagelog.ldc.upenn.edu/nll/?feed=atom\")"
   ]
  },
  {
   "cell_type": "code",
   "execution_count": 2,
   "metadata": {
    "collapsed": false
   },
   "outputs": [
    {
     "data": {
      "text/plain": [
       "['Chapter1.ipynb', '.ipynb_checkpoints', 'chapter 3.ipynb']"
      ]
     },
     "execution_count": 2,
     "metadata": {},
     "output_type": "execute_result"
    }
   ],
   "source": [
    "import os\n",
    "os.listdir('.')"
   ]
  },
  {
   "cell_type": "code",
   "execution_count": 6,
   "metadata": {
    "collapsed": true
   },
   "outputs": [],
   "source": [
    "f = open('Chapter1.ipynb', 'rU')\n",
    "text = f.read()"
   ]
  },
  {
   "cell_type": "code",
   "execution_count": 9,
   "metadata": {
    "collapsed": false
   },
   "outputs": [],
   "source": [
    "import nltk\n",
    "path = nltk.data.find('corpora/gutenberg/melville-moby_dick.txt')\n",
    "raw = open(path, 'rU').read()"
   ]
  },
  {
   "cell_type": "code",
   "execution_count": 11,
   "metadata": {
    "collapsed": false
   },
   "outputs": [],
   "source": [
    "b = ['a', 'b','c','d']"
   ]
  },
  {
   "cell_type": "code",
   "execution_count": 12,
   "metadata": {
    "collapsed": true
   },
   "outputs": [],
   "source": [
    "del b[2]"
   ]
  },
  {
   "cell_type": "code",
   "execution_count": 13,
   "metadata": {
    "collapsed": false
   },
   "outputs": [
    {
     "data": {
      "text/plain": [
       "['a', 'b', 'd']"
      ]
     },
     "execution_count": 13,
     "metadata": {},
     "output_type": "execute_result"
    }
   ],
   "source": [
    "b"
   ]
  },
  {
   "cell_type": "code",
   "execution_count": 3,
   "metadata": {
    "collapsed": false
   },
   "outputs": [],
   "source": [
    "import nltk\n",
    "path = nltk.data.find('corpora/unicode_samples/polish-lat2.txt')"
   ]
  },
  {
   "cell_type": "code",
   "execution_count": 12,
   "metadata": {
    "collapsed": false
   },
   "outputs": [],
   "source": [
    "import codecs\n",
    "f = codecs.open(path, encoding='latin2')"
   ]
  },
  {
   "cell_type": "code",
   "execution_count": 13,
   "metadata": {
    "collapsed": false
   },
   "outputs": [
    {
     "name": "stdout",
     "output_type": "stream",
     "text": [
      "Pruska Biblioteka Pa\\u0144stwowa. Jej dawne zbiory znane pod nazw\\u0105\n",
      "\"Berlinka\" to skarb kultury i sztuki niemieckiej. Przewiezione przez\n",
      "Niemc\\xf3w pod koniec II wojny \\u015bwiatowej na Dolny \\u015al\\u0105sk, zosta\\u0142y\n",
      "odnalezione po 1945 r. na terytorium Polski. Trafi\\u0142y do Biblioteki\n",
      "Jagiello\\u0144skiej w Krakowie, obejmuj\\u0105 ponad 500 tys. zabytkowych\n",
      "archiwali\\xf3w, m.in. manuskrypty Goethego, Mozarta, Beethovena, Bacha.\n"
     ]
    }
   ],
   "source": [
    "for line in f:\n",
    "    line = line.strip()\n",
    "    print line.encode('unicode_escape')"
   ]
  },
  {
   "cell_type": "code",
   "execution_count": 24,
   "metadata": {
    "collapsed": true
   },
   "outputs": [],
   "source": [
    "a = u'\\u0144'"
   ]
  },
  {
   "cell_type": "code",
   "execution_count": 28,
   "metadata": {
    "collapsed": false
   },
   "outputs": [
    {
     "data": {
      "text/plain": [
       "'\\xc5\\x84'"
      ]
     },
     "execution_count": 28,
     "metadata": {},
     "output_type": "execute_result"
    }
   ],
   "source": [
    "a.encode('utf-8')"
   ]
  },
  {
   "cell_type": "code",
   "execution_count": 29,
   "metadata": {
    "collapsed": true
   },
   "outputs": [],
   "source": [
    "import unicodedata\n",
    "line = codecs.open(path, encoding='latin2').readlines()"
   ]
  },
  {
   "cell_type": "code",
   "execution_count": 30,
   "metadata": {
    "collapsed": true
   },
   "outputs": [],
   "source": [
    "lin = line[2]"
   ]
  },
  {
   "cell_type": "code",
   "execution_count": 35,
   "metadata": {
    "collapsed": false
   },
   "outputs": [
    {
     "name": "stdout",
     "output_type": "stream",
     "text": [
      "Niemc\\xf3w pod koniec II wojny \\u015bwiatowej na Dolny \\u015al\\u0105sk, zosta\\u0142y\\n\n"
     ]
    }
   ],
   "source": [
    "print lin.encode('unicode_escape')"
   ]
  },
  {
   "cell_type": "code",
   "execution_count": 37,
   "metadata": {
    "collapsed": false
   },
   "outputs": [
    {
     "name": "stdout",
     "output_type": "stream",
     "text": [
      "ó U+ 00f3 LATIN SMALL LETTER O WITH ACUTE\n",
      "ś U+ 015b LATIN SMALL LETTER S WITH ACUTE\n",
      "Ś U+ 015a LATIN CAPITAL LETTER S WITH ACUTE\n",
      "ą U+ 0105 LATIN SMALL LETTER A WITH OGONEK\n",
      "ł U+ 0142 LATIN SMALL LETTER L WITH STROKE\n"
     ]
    }
   ],
   "source": [
    "for c in lin:\n",
    "    if ord(c) > 127:\n",
    "        print '%s U+ %04x %s' % (c.encode('utf-8'), ord(c), unicodedata.name(c))"
   ]
  },
  {
   "cell_type": "code",
   "execution_count": 39,
   "metadata": {
    "collapsed": false
   },
   "outputs": [
    {
     "data": {
      "text/plain": [
       "54"
      ]
     },
     "execution_count": 39,
     "metadata": {},
     "output_type": "execute_result"
    }
   ],
   "source": [
    "lin.find(u'zosta\\u0142y')"
   ]
  },
  {
   "cell_type": "code",
   "execution_count": 41,
   "metadata": {
    "collapsed": false
   },
   "outputs": [],
   "source": [
    "lin = lin.lower()"
   ]
  },
  {
   "cell_type": "code",
   "execution_count": 42,
   "metadata": {
    "collapsed": false
   },
   "outputs": [
    {
     "name": "stdout",
     "output_type": "stream",
     "text": [
      "niemc\\xf3w pod koniec ii wojny \\u015bwiatowej na dolny \\u015bl\\u0105sk, zosta\\u0142y\\n\n"
     ]
    }
   ],
   "source": [
    "print lin.encode('unicode_escape')"
   ]
  },
  {
   "cell_type": "code",
   "execution_count": 43,
   "metadata": {
    "collapsed": true
   },
   "outputs": [],
   "source": [
    "import re"
   ]
  },
  {
   "cell_type": "code",
   "execution_count": 45,
   "metadata": {
    "collapsed": false
   },
   "outputs": [],
   "source": [
    "m = re.search(u'\\u015b\\w*', lin)"
   ]
  },
  {
   "cell_type": "code",
   "execution_count": 47,
   "metadata": {
    "collapsed": false
   },
   "outputs": [
    {
     "data": {
      "text/plain": [
       "[u'niemc\\xf3w',\n",
       " u'pod',\n",
       " u'koniec',\n",
       " u'ii',\n",
       " u'wojny',\n",
       " u'\\u015bwiatowej',\n",
       " u'na',\n",
       " u'dolny',\n",
       " u'\\u015bl\\u0105sk',\n",
       " u',',\n",
       " u'zosta\\u0142y']"
      ]
     },
     "execution_count": 47,
     "metadata": {},
     "output_type": "execute_result"
    }
   ],
   "source": [
    "nltk.word_tokenize(lin)"
   ]
  },
  {
   "cell_type": "code",
   "execution_count": 48,
   "metadata": {
    "collapsed": true
   },
   "outputs": [],
   "source": [
    "wsj = sorted(set(nltk.corpus.treebank.words()))"
   ]
  },
  {
   "cell_type": "code",
   "execution_count": 1,
   "metadata": {
    "collapsed": false
   },
   "outputs": [],
   "source": [
    "# [w for w in wsj if re.search('ed|ing$', w)]"
   ]
  },
  {
   "cell_type": "code",
   "execution_count": 7,
   "metadata": {
    "collapsed": false
   },
   "outputs": [
    {
     "data": {
      "text/plain": [
       "'colourless'"
      ]
     },
     "execution_count": 7,
     "metadata": {},
     "output_type": "execute_result"
    }
   ],
   "source": [
    "s = 'colorless'\n",
    "s[:4] + 'u' + s[-5:]"
   ]
  },
  {
   "cell_type": "code",
   "execution_count": 20,
   "metadata": {
    "collapsed": false
   },
   "outputs": [
    {
     "data": {
      "text/plain": [
       "'11wqewqqqffewqa'"
      ]
     },
     "execution_count": 20,
     "metadata": {},
     "output_type": "execute_result"
    }
   ],
   "source": [
    "monty = \"aqweffqqqweqw11\"\n",
    "# monty[6:11:2]\n",
    "monty[::-1]"
   ]
  },
  {
   "cell_type": "code",
   "execution_count": 26,
   "metadata": {
    "collapsed": false
   },
   "outputs": [
    {
     "name": "stdout",
     "output_type": "stream",
     "text": [
      "AQqw{112.23}qw\n"
     ]
    }
   ],
   "source": [
    "import nltk\n",
    "nltk.re_show(r\"\\d+(\\.\\d+)?\", \"AQqw112.23qw\")"
   ]
  },
  {
   "cell_type": "code",
   "execution_count": 30,
   "metadata": {
    "collapsed": false
   },
   "outputs": [
    {
     "data": {
      "text/plain": [
       "['112.23']"
      ]
     },
     "execution_count": 30,
     "metadata": {},
     "output_type": "execute_result"
    }
   ],
   "source": [
    "import re\n",
    "re.findall(r\"\\d+(?:\\.\\d+)?\", \"AQqw112.23qw\")"
   ]
  },
  {
   "cell_type": "code",
   "execution_count": 31,
   "metadata": {
    "collapsed": false
   },
   "outputs": [
    {
     "data": {
      "text/plain": [
       "['a', 'the']"
      ]
     },
     "execution_count": 31,
     "metadata": {},
     "output_type": "execute_result"
    }
   ],
   "source": [
    "re.findall(r\"a|an|the\", \"a good boy of the Mommy\")"
   ]
  },
  {
   "cell_type": "code",
   "execution_count": 43,
   "metadata": {
    "collapsed": false
   },
   "outputs": [
    {
     "data": {
      "text/plain": [
       "['312+1*12+1231']"
      ]
     },
     "execution_count": 43,
     "metadata": {},
     "output_type": "execute_result"
    }
   ],
   "source": [
    "re.findall(r\"(?:\\d+[\\+\\*]?)+\",\"312+1*12+1231asda\")"
   ]
  },
  {
   "cell_type": "code",
   "execution_count": 55,
   "metadata": {
    "collapsed": false
   },
   "outputs": [],
   "source": [
    "from BeautifulSoup import BeautifulSoup\n",
    "import urllib\n",
    "f = urllib.urlopen('http://www.nltk.org/')\n",
    "bs = BeautifulSoup(f.read())\n",
    "# bs.getText()"
   ]
  },
  {
   "cell_type": "code",
   "execution_count": 61,
   "metadata": {
    "collapsed": false
   },
   "outputs": [],
   "source": [
    "from nltk.corpus import gutenberg\n",
    "text = gutenberg.open('austen-emma.txt')\n",
    "text1 = text.read()"
   ]
  },
  {
   "cell_type": "code",
   "execution_count": 72,
   "metadata": {
    "collapsed": false
   },
   "outputs": [],
   "source": [
    "import codecs\n",
    "f = codecs.open('corpus.txt','w', encoding=\"utf-8\")"
   ]
  },
  {
   "cell_type": "code",
   "execution_count": 73,
   "metadata": {
    "collapsed": true
   },
   "outputs": [],
   "source": [
    "f.write(text1)"
   ]
  },
  {
   "cell_type": "code",
   "execution_count": 74,
   "metadata": {
    "collapsed": false
   },
   "outputs": [],
   "source": [
    "def load(name):\n",
    "    f = codecs.open('corpus.txt', 'r')\n",
    "    text = f.read()\n",
    "    return text"
   ]
  },
  {
   "cell_type": "code",
   "execution_count": 109,
   "metadata": {
    "collapsed": false
   },
   "outputs": [],
   "source": [
    "text = load('corpus.txt')"
   ]
  },
  {
   "cell_type": "code",
   "execution_count": 126,
   "metadata": {
    "collapsed": false
   },
   "outputs": [],
   "source": [
    "text = \"That U.S.A. \\tposter-print costs $12.40\""
   ]
  },
  {
   "cell_type": "code",
   "execution_count": 111,
   "metadata": {
    "collapsed": true
   },
   "outputs": [],
   "source": [
    "pattern = r'''(?x) # set flag to allow verbose regexps\n",
    "... \\$\\d+[.]?\\d* |\n",
    "... [A-Z][a-z]+ |\n",
    "... (?:[A-Z].?)+\n",
    "... '''"
   ]
  },
  {
   "cell_type": "code",
   "execution_count": 99,
   "metadata": {
    "collapsed": true
   },
   "outputs": [],
   "source": [
    "?? nltk.regexp_tokenize"
   ]
  },
  {
   "cell_type": "code",
   "execution_count": 114,
   "metadata": {
    "collapsed": false
   },
   "outputs": [
    {
     "data": {
      "text/plain": [
       "['That', 'U.S.A.', '$12.40']"
      ]
     },
     "execution_count": 114,
     "metadata": {},
     "output_type": "execute_result"
    }
   ],
   "source": [
    "nltk.regexp_tokenize(text, pattern)"
   ]
  },
  {
   "cell_type": "code",
   "execution_count": 117,
   "metadata": {
    "collapsed": true
   },
   "outputs": [],
   "source": [
    "sent = ['The', 'dog', 'gave', 'John', 'the', 'newspaper']\n",
    "result = [(word,len(word)) for word in sent]"
   ]
  },
  {
   "cell_type": "code",
   "execution_count": 120,
   "metadata": {
    "collapsed": false
   },
   "outputs": [
    {
     "data": {
      "text/plain": [
       "'That U.S.A. poster-print costs $12.40'"
      ]
     },
     "execution_count": 120,
     "metadata": {},
     "output_type": "execute_result"
    }
   ],
   "source": [
    "text"
   ]
  },
  {
   "cell_type": "code",
   "execution_count": 122,
   "metadata": {
    "collapsed": true
   },
   "outputs": [],
   "source": [
    "?re.findall"
   ]
  },
  {
   "cell_type": "code",
   "execution_count": null,
   "metadata": {
    "collapsed": true
   },
   "outputs": [],
   "source": [
    "re.findall(r\"[^\\s]+\", text)"
   ]
  },
  {
   "cell_type": "code",
   "execution_count": 131,
   "metadata": {
    "collapsed": false
   },
   "outputs": [
    {
     "data": {
      "text/plain": [
       "['\\tposter-print', '$12.40', 'That', 'U.S.A.', 'costs']"
      ]
     },
     "execution_count": 131,
     "metadata": {},
     "output_type": "execute_result"
    }
   ],
   "source": [
    "sorted(text.split(\" \"))"
   ]
  },
  {
   "cell_type": "code",
   "execution_count": 134,
   "metadata": {
    "collapsed": false
   },
   "outputs": [
    {
     "data": {
      "text/plain": [
       "3333333"
      ]
     },
     "execution_count": 134,
     "metadata": {},
     "output_type": "execute_result"
    }
   ],
   "source": [
    "int(\"3\" * 7)"
   ]
  },
  {
   "cell_type": "code",
   "execution_count": 136,
   "metadata": {
    "collapsed": false
   },
   "outputs": [],
   "source": [
    "from test import monty"
   ]
  },
  {
   "cell_type": "code",
   "execution_count": 144,
   "metadata": {
    "collapsed": false
   },
   "outputs": [
    {
     "name": "stdout",
     "output_type": "stream",
     "text": [
      "Monty Python\n"
     ]
    }
   ],
   "source": [
    "print \"%-6s\" % monty"
   ]
  },
  {
   "cell_type": "code",
   "execution_count": 147,
   "metadata": {
    "collapsed": true
   },
   "outputs": [],
   "source": [
    "from nltk.corpus import gutenberg"
   ]
  },
  {
   "cell_type": "code",
   "execution_count": 150,
   "metadata": {
    "collapsed": false
   },
   "outputs": [],
   "source": [
    "# gutenberg.fileids()"
   ]
  },
  {
   "cell_type": "code",
   "execution_count": 160,
   "metadata": {
    "collapsed": false
   },
   "outputs": [],
   "source": [
    "text = gutenberg.open(\"austen-emma.txt\").read()"
   ]
  },
  {
   "cell_type": "code",
   "execution_count": 156,
   "metadata": {
    "collapsed": true
   },
   "outputs": [],
   "source": [
    "?? re,findall"
   ]
  },
  {
   "cell_type": "code",
   "execution_count": 166,
   "metadata": {
    "collapsed": false
   },
   "outputs": [],
   "source": [
    "fdst = nltk.FreqDist(re.findall(\"[Ww]h[a-z]*\",text))"
   ]
  },
  {
   "cell_type": "code",
   "execution_count": 169,
   "metadata": {
    "collapsed": false
   },
   "outputs": [],
   "source": [
    "%matplotlib inline"
   ]
  },
  {
   "cell_type": "code",
   "execution_count": 174,
   "metadata": {
    "collapsed": false
   },
   "outputs": [
    {
     "data": {
      "image/png": "[encoded data removed]",
      "text/plain": [
       "<matplotlib.figure.Figure at 0x7f53fff81290>"
      ]
     },
     "metadata": {},
     "output_type": "display_data"
    }
   ],
   "source": [
    "fdst.plot(cumulative=True)"
   ]
  },
  {
   "cell_type": "code",
   "execution_count": 175,
   "metadata": {
    "collapsed": true
   },
   "outputs": [],
   "source": [
    "import urllib"
   ]
  },
  {
   "cell_type": "code",
   "execution_count": 179,
   "metadata": {
    "collapsed": false
   },
   "outputs": [],
   "source": [
    "text = urllib.urlopen(\"http://spark.apache.org/\").read()"
   ]
  },
  {
   "cell_type": "code",
   "execution_count": 182,
   "metadata": {
    "collapsed": false
   },
   "outputs": [],
   "source": [
    "bs = BeautifulSoup(text)"
   ]
  },
  {
   "cell_type": "code",
   "execution_count": 184,
   "metadata": {
    "collapsed": false
   },
   "outputs": [],
   "source": [
    "text = bs.getText()"
   ]
  },
  {
   "cell_type": "code",
   "execution_count": 194,
   "metadata": {
    "collapsed": false
   },
   "outputs": [],
   "source": [
    "tt = nltk.Text(nltk.word_tokenize(text))"
   ]
  },
  {
   "cell_type": "code",
   "execution_count": 198,
   "metadata": {
    "collapsed": false
   },
   "outputs": [
    {
     "name": "stdout",
     "output_type": "stream",
     "text": [
      "span class=; machine learning; DataFramesSpark StreamingMLlib; script\n",
      "src=; Word count; div class=; Spark 1.5.1; run Spark; Spark Summit\n"
     ]
    }
   ],
   "source": [
    "tt.collocations()"
   ]
  },
  {
   "cell_type": "code",
   "execution_count": 20,
   "metadata": {
    "collapsed": false
   },
   "outputs": [],
   "source": [
    "import urllib\n",
    "text = urllib.urlopen(\"http://news.bbc.co.uk/\").read()"
   ]
  },
  {
   "cell_type": "code",
   "execution_count": 21,
   "metadata": {
    "collapsed": false
   },
   "outputs": [],
   "source": [
    "import nltk\n",
    "words = nltk.corpus.words\n",
    "words = words.words()"
   ]
  },
  {
   "cell_type": "code",
   "execution_count": 22,
   "metadata": {
    "collapsed": false
   },
   "outputs": [],
   "source": [
    "import re\n",
    "urlwords = re.findall(r\"[a-z]+\", text)"
   ]
  },
  {
   "cell_type": "code",
   "execution_count": 23,
   "metadata": {
    "collapsed": false
   },
   "outputs": [
    {
     "data": {
      "text/plain": [
       "['html',\n",
       " 'html',\n",
       " 'lang',\n",
       " 'en',\n",
       " 'id',\n",
       " 'responsive',\n",
       " 'news',\n",
       " 'prefix',\n",
       " 'og',\n",
       " 'http',\n",
       " 'ogp',\n",
       " 'me',\n",
       " 'ns',\n",
       " 'head',\n",
       " 'meta',\n",
       " 'charset',\n",
       " 'utf',\n",
       " 'meta',\n",
       " 'http',\n",
       " 'equiv',\n",
       " 'ompatible',\n",
       " 'content',\n",
       " 'edge',\n",
       " 'chrome',\n",
       " 'title',\n",
       " 'ome',\n",
       " 'ews',\n",
       " 'title',\n",
       " 'meta',\n",
       " 'name',\n",
       " 'description',\n",
       " 'content',\n",
       " 'isit',\n",
       " 'ews',\n",
       " 'for',\n",
       " 'up',\n",
       " 'to',\n",
       " 'the',\n",
       " 'minute',\n",
       " 'news',\n",
       " 'breaking',\n",
       " 'news',\n",
       " 'video',\n",
       " 'audio',\n",
       " 'and',\n",
       " 'feature',\n",
       " 'stories',\n",
       " 'ews',\n",
       " 'provides',\n",
       " 'trusted',\n",
       " 'orld',\n",
       " 'and',\n",
       " 'news',\n",
       " 'as',\n",
       " 'well',\n",
       " 'as',\n",
       " 'local',\n",
       " 'and',\n",
       " 'regional',\n",
       " 'perspectives',\n",
       " 'lso',\n",
       " 'entertainment',\n",
       " 'business',\n",
       " 'science',\n",
       " 'technology',\n",
       " 'and',\n",
       " 'health',\n",
       " 'news',\n",
       " 'link',\n",
       " 'rel',\n",
       " 'dns',\n",
       " 'prefetch',\n",
       " 'href',\n",
       " 'https',\n",
       " 'ssl',\n",
       " 'bbc',\n",
       " 'co',\n",
       " 'uk',\n",
       " 'link',\n",
       " 'rel',\n",
       " 'dns',\n",
       " 'prefetch',\n",
       " 'href',\n",
       " 'http',\n",
       " 'sa',\n",
       " 'bbc',\n",
       " 'co',\n",
       " 'uk',\n",
       " 'link',\n",
       " 'rel',\n",
       " 'dns',\n",
       " 'prefetch',\n",
       " 'href',\n",
       " 'http',\n",
       " 'ichef',\n",
       " 'bbci',\n",
       " 'co',\n",
       " 'uk',\n",
       " 'link',\n",
       " 'rel',\n",
       " 'dns',\n",
       " 'prefetch',\n",
       " 'href',\n",
       " 'http',\n",
       " 'ichef',\n",
       " 'bbci',\n",
       " 'co',\n",
       " 'uk',\n",
       " 'meta',\n",
       " 'name',\n",
       " 'x',\n",
       " 'country',\n",
       " 'content',\n",
       " 'cn',\n",
       " 'meta',\n",
       " 'name',\n",
       " 'x',\n",
       " 'audience',\n",
       " 'content',\n",
       " 'omestic',\n",
       " 'meta',\n",
       " 'name',\n",
       " 'content',\n",
       " 'omestic',\n",
       " 'meta',\n",
       " 'name',\n",
       " 'content',\n",
       " 'link',\n",
       " 'rel',\n",
       " 'canonical',\n",
       " 'href',\n",
       " 'http',\n",
       " 'www',\n",
       " 'bbc',\n",
       " 'co',\n",
       " 'uk',\n",
       " 'news',\n",
       " 'link',\n",
       " 'rel',\n",
       " 'alternate',\n",
       " 'hreflang',\n",
       " 'en',\n",
       " 'gb',\n",
       " 'href',\n",
       " 'http',\n",
       " 'www',\n",
       " 'bbc',\n",
       " 'co',\n",
       " 'uk',\n",
       " 'news',\n",
       " 'link',\n",
       " 'rel',\n",
       " 'alternate',\n",
       " 'hreflang',\n",
       " 'en',\n",
       " 'href',\n",
       " 'http',\n",
       " 'www',\n",
       " 'bbc',\n",
       " 'com',\n",
       " 'news',\n",
       " 'meta',\n",
       " 'property',\n",
       " 'og',\n",
       " 'title',\n",
       " 'content',\n",
       " 'ome',\n",
       " 'ews',\n",
       " 'meta',\n",
       " 'property',\n",
       " 'og',\n",
       " 'type',\n",
       " 'content',\n",
       " 'website',\n",
       " 'meta',\n",
       " 'property',\n",
       " 'og',\n",
       " 'description',\n",
       " 'content',\n",
       " 'isit',\n",
       " 'ews',\n",
       " 'for',\n",
       " 'up',\n",
       " 'to',\n",
       " 'the',\n",
       " 'minute',\n",
       " 'news',\n",
       " 'breaking',\n",
       " 'news',\n",
       " 'video',\n",
       " 'audio',\n",
       " 'and',\n",
       " 'feature',\n",
       " 'stories',\n",
       " 'ews',\n",
       " 'provides',\n",
       " 'trusted',\n",
       " 'orld',\n",
       " 'and',\n",
       " 'news',\n",
       " 'as',\n",
       " 'well',\n",
       " 'as',\n",
       " 'local',\n",
       " 'and',\n",
       " 'regional',\n",
       " 'perspectives',\n",
       " 'lso',\n",
       " 'entertainment',\n",
       " 'business',\n",
       " 'science',\n",
       " 'technology',\n",
       " 'and',\n",
       " 'health',\n",
       " 'news',\n",
       " 'meta',\n",
       " 'property',\n",
       " 'og',\n",
       " 'site',\n",
       " 'name',\n",
       " 'content',\n",
       " 'ews',\n",
       " 'meta',\n",
       " 'property',\n",
       " 'og',\n",
       " 'locale',\n",
       " 'content',\n",
       " 'en',\n",
       " 'meta',\n",
       " 'property',\n",
       " 'og',\n",
       " 'article',\n",
       " 'author',\n",
       " 'content',\n",
       " 'ews',\n",
       " 'meta',\n",
       " 'property',\n",
       " 'og',\n",
       " 'article',\n",
       " 'section',\n",
       " 'content',\n",
       " 'ome',\n",
       " 'meta',\n",
       " 'property',\n",
       " 'og',\n",
       " 'url',\n",
       " 'content',\n",
       " 'http',\n",
       " 'www',\n",
       " 'bbc',\n",
       " 'co',\n",
       " 'uk',\n",
       " 'news',\n",
       " 'meta',\n",
       " 'property',\n",
       " 'og',\n",
       " 'image',\n",
       " 'content',\n",
       " 'http',\n",
       " 'www',\n",
       " 'bbc',\n",
       " 'co',\n",
       " 'uk',\n",
       " 'news',\n",
       " 'special',\n",
       " 'newsspec',\n",
       " 'bbc',\n",
       " 'news',\n",
       " 'logo',\n",
       " 'png',\n",
       " 'cb',\n",
       " 'meta',\n",
       " 'name',\n",
       " 'twitter',\n",
       " 'card',\n",
       " 'content',\n",
       " 'summary',\n",
       " 'large',\n",
       " 'image',\n",
       " 'meta',\n",
       " 'name',\n",
       " 'twitter',\n",
       " 'site',\n",
       " 'content',\n",
       " 'ews',\n",
       " 'meta',\n",
       " 'name',\n",
       " 'twitter',\n",
       " 'title',\n",
       " 'content',\n",
       " 'ome',\n",
       " 'ews',\n",
       " 'meta',\n",
       " 'name',\n",
       " 'twitter',\n",
       " 'description',\n",
       " 'content',\n",
       " 'isit',\n",
       " 'ews',\n",
       " 'for',\n",
       " 'up',\n",
       " 'to',\n",
       " 'the',\n",
       " 'minute',\n",
       " 'news',\n",
       " 'breaking',\n",
       " 'news',\n",
       " 'video',\n",
       " 'audio',\n",
       " 'and',\n",
       " 'feature',\n",
       " 'stories',\n",
       " 'ews',\n",
       " 'provides',\n",
       " 'trusted',\n",
       " 'orld',\n",
       " 'and',\n",
       " 'news',\n",
       " 'as',\n",
       " 'well',\n",
       " 'as',\n",
       " 'local',\n",
       " 'and',\n",
       " 'regional',\n",
       " 'perspectives',\n",
       " 'lso',\n",
       " 'entertainment',\n",
       " 'business',\n",
       " 'science',\n",
       " 'technology',\n",
       " 'and',\n",
       " 'health',\n",
       " 'news',\n",
       " 'meta',\n",
       " 'name',\n",
       " 'twitter',\n",
       " 'creator',\n",
       " 'content',\n",
       " 'ews',\n",
       " 'meta',\n",
       " 'name',\n",
       " 'twitter',\n",
       " 'image',\n",
       " 'src',\n",
       " 'content',\n",
       " 'http',\n",
       " 'www',\n",
       " 'bbc',\n",
       " 'co',\n",
       " 'uk',\n",
       " 'news',\n",
       " 'special',\n",
       " 'newsspec',\n",
       " 'bbc',\n",
       " 'news',\n",
       " 'logo',\n",
       " 'png',\n",
       " 'cb',\n",
       " 'meta',\n",
       " 'name',\n",
       " 'twitter',\n",
       " 'domain',\n",
       " 'content',\n",
       " 'www',\n",
       " 'bbc',\n",
       " 'co',\n",
       " 'uk',\n",
       " 'script',\n",
       " 'type',\n",
       " 'application',\n",
       " 'ld',\n",
       " 'json',\n",
       " 'context',\n",
       " 'http',\n",
       " 'schema',\n",
       " 'org',\n",
       " 'type',\n",
       " 'eb',\n",
       " 'age',\n",
       " 'description',\n",
       " 'isit',\n",
       " 'ews',\n",
       " 'for',\n",
       " 'up',\n",
       " 'to',\n",
       " 'the',\n",
       " 'minute',\n",
       " 'news',\n",
       " 'breaking',\n",
       " 'news',\n",
       " 'video',\n",
       " 'audio',\n",
       " 'and',\n",
       " 'feature',\n",
       " 'stories',\n",
       " 'ews',\n",
       " 'provides',\n",
       " 'trusted',\n",
       " 'orld',\n",
       " 'and',\n",
       " 'news',\n",
       " 'as',\n",
       " 'well',\n",
       " 'as',\n",
       " 'local',\n",
       " 'and',\n",
       " 'regional',\n",
       " 'perspectives',\n",
       " 'lso',\n",
       " 'entertainment',\n",
       " 'business',\n",
       " 'science',\n",
       " 'technology',\n",
       " 'and',\n",
       " 'health',\n",
       " 'news',\n",
       " 'url',\n",
       " 'http',\n",
       " 'www',\n",
       " 'bbc',\n",
       " 'co',\n",
       " 'uk',\n",
       " 'news',\n",
       " 'publisher',\n",
       " 'type',\n",
       " 'rganization',\n",
       " 'name',\n",
       " 'ews',\n",
       " 'logo',\n",
       " 'http',\n",
       " 'www',\n",
       " 'bbc',\n",
       " 'co',\n",
       " 'uk',\n",
       " 'news',\n",
       " 'special',\n",
       " 'newsspec',\n",
       " 'bbc',\n",
       " 'news',\n",
       " 'logo',\n",
       " 'png',\n",
       " 'cb',\n",
       " 'name',\n",
       " 'ome',\n",
       " 'ews',\n",
       " 'script',\n",
       " 'script',\n",
       " 'type',\n",
       " 'application',\n",
       " 'ld',\n",
       " 'json',\n",
       " 'context',\n",
       " 'http',\n",
       " 'schema',\n",
       " 'org',\n",
       " 'type',\n",
       " 'tem',\n",
       " 'ist',\n",
       " 'url',\n",
       " 'http',\n",
       " 'www',\n",
       " 'bbc',\n",
       " 'co',\n",
       " 'uk',\n",
       " 'news',\n",
       " 'item',\n",
       " 'ist',\n",
       " 'lement',\n",
       " 'type',\n",
       " 'ist',\n",
       " 'tem',\n",
       " 'position',\n",
       " 'url',\n",
       " 'http',\n",
       " 'www',\n",
       " 'bbc',\n",
       " 'co',\n",
       " 'uk',\n",
       " 'news',\n",
       " 'business',\n",
       " 'type',\n",
       " 'ist',\n",
       " 'tem',\n",
       " 'position',\n",
       " 'url',\n",
       " 'http',\n",
       " 'www',\n",
       " 'bbc',\n",
       " 'co',\n",
       " 'uk',\n",
       " 'news',\n",
       " 'world',\n",
       " 'middle',\n",
       " 'east',\n",
       " 'type',\n",
       " 'ist',\n",
       " 'tem',\n",
       " 'position',\n",
       " 'url',\n",
       " 'http',\n",
       " 'www',\n",
       " 'bbc',\n",
       " 'co',\n",
       " 'uk',\n",
       " 'news',\n",
       " 'uk',\n",
       " 'politics',\n",
       " 'type',\n",
       " 'ist',\n",
       " 'tem',\n",
       " 'position',\n",
       " 'url',\n",
       " 'http',\n",
       " 'www',\n",
       " 'bbc',\n",
       " 'co',\n",
       " 'uk',\n",
       " 'news',\n",
       " 'uk',\n",
       " 'type',\n",
       " 'ist',\n",
       " 'tem',\n",
       " 'position',\n",
       " 'url',\n",
       " 'http',\n",
       " 'www',\n",
       " 'bbc',\n",
       " 'co',\n",
       " 'uk',\n",
       " 'news',\n",
       " 'uk',\n",
       " 'politics',\n",
       " 'type',\n",
       " 'ist',\n",
       " 'tem',\n",
       " 'position',\n",
       " 'url',\n",
       " 'http',\n",
       " 'www',\n",
       " 'bbc',\n",
       " 'co',\n",
       " 'uk',\n",
       " 'news',\n",
       " 'world',\n",
       " 'us',\n",
       " 'canada',\n",
       " 'type',\n",
       " 'ist',\n",
       " 'tem',\n",
       " 'position',\n",
       " 'url',\n",
       " 'http',\n",
       " 'www',\n",
       " 'bbc',\n",
       " 'co',\n",
       " 'uk',\n",
       " 'news',\n",
       " 'uk',\n",
       " 'type',\n",
       " 'ist',\n",
       " 'tem',\n",
       " 'position',\n",
       " 'url',\n",
       " 'http',\n",
       " 'www',\n",
       " 'bbc',\n",
       " 'co',\n",
       " 'uk',\n",
       " 'news',\n",
       " 'entertainment',\n",
       " 'arts',\n",
       " 'type',\n",
       " 'ist',\n",
       " 'tem',\n",
       " 'position',\n",
       " 'url',\n",
       " 'http',\n",
       " 'www',\n",
       " 'bbc',\n",
       " 'co',\n",
       " 'uk',\n",
       " 'news',\n",
       " 'world',\n",
       " 'europe',\n",
       " 'type',\n",
       " 'ist',\n",
       " 'tem',\n",
       " 'position',\n",
       " 'url',\n",
       " 'http',\n",
       " 'www',\n",
       " 'bbc',\n",
       " 'co',\n",
       " 'uk',\n",
       " 'news',\n",
       " 'uk',\n",
       " 'england',\n",
       " 'type',\n",
       " 'ist',\n",
       " 'tem',\n",
       " 'position',\n",
       " 'url',\n",
       " 'http',\n",
       " 'www',\n",
       " 'bbc',\n",
       " 'co',\n",
       " 'uk',\n",
       " 'news',\n",
       " 'technology',\n",
       " 'type',\n",
       " 'ist',\n",
       " 'tem',\n",
       " 'position',\n",
       " 'url',\n",
       " 'http',\n",
       " 'www',\n",
       " 'bbc',\n",
       " 'co',\n",
       " 'uk',\n",
       " 'sport',\n",
       " 'football',\n",
       " 'script',\n",
       " 'meta',\n",
       " 'name',\n",
       " 'apple',\n",
       " 'mobile',\n",
       " 'web',\n",
       " 'app',\n",
       " 'title',\n",
       " 'content',\n",
       " 'ews',\n",
       " 'link',\n",
       " 'rel',\n",
       " 'apple',\n",
       " 'touch',\n",
       " 'icon',\n",
       " 'precomposed',\n",
       " 'sizes',\n",
       " 'x',\n",
       " 'href',\n",
       " 'http',\n",
       " 'static',\n",
       " 'bbci',\n",
       " 'co',\n",
       " 'uk',\n",
       " 'news',\n",
       " 'apple',\n",
       " 'touch',\n",
       " 'icon',\n",
       " 'x',\n",
       " 'precomposed',\n",
       " 'png',\n",
       " 'link',\n",
       " 'rel',\n",
       " 'apple',\n",
       " 'touch',\n",
       " 'icon',\n",
       " 'precomposed',\n",
       " 'sizes',\n",
       " 'x',\n",
       " 'href',\n",
       " 'http',\n",
       " 'static',\n",
       " 'bbci',\n",
       " 'co',\n",
       " 'uk',\n",
       " 'news',\n",
       " 'apple',\n",
       " 'touch',\n",
       " 'icon',\n",
       " 'x',\n",
       " 'precomposed',\n",
       " 'png',\n",
       " 'link',\n",
       " 'rel',\n",
       " 'apple',\n",
       " 'touch',\n",
       " 'icon',\n",
       " 'precomposed',\n",
       " 'sizes',\n",
       " 'x',\n",
       " 'href',\n",
       " 'http',\n",
       " 'static',\n",
       " 'bbci',\n",
       " 'co',\n",
       " 'uk',\n",
       " 'news',\n",
       " 'apple',\n",
       " 'touch',\n",
       " 'icon',\n",
       " 'x',\n",
       " 'precomposed',\n",
       " 'png',\n",
       " 'link',\n",
       " 'rel',\n",
       " 'apple',\n",
       " 'touch',\n",
       " 'icon',\n",
       " 'precomposed',\n",
       " 'sizes',\n",
       " 'x',\n",
       " 'href',\n",
       " 'http',\n",
       " 'static',\n",
       " 'bbci',\n",
       " 'co',\n",
       " 'uk',\n",
       " 'news',\n",
       " 'apple',\n",
       " 'touch',\n",
       " 'icon',\n",
       " 'png',\n",
       " 'link',\n",
       " 'rel',\n",
       " 'apple',\n",
       " 'touch',\n",
       " 'icon',\n",
       " 'href',\n",
       " 'http',\n",
       " 'static',\n",
       " 'bbci',\n",
       " 'co',\n",
       " 'uk',\n",
       " 'news',\n",
       " 'apple',\n",
       " 'touch',\n",
       " 'icon',\n",
       " 'png',\n",
       " 'meta',\n",
       " 'name',\n",
       " 'application',\n",
       " 'name',\n",
       " 'content',\n",
       " 'ews',\n",
       " 'meta',\n",
       " 'name',\n",
       " 'msapplication',\n",
       " 'ile',\n",
       " 'mage',\n",
       " 'content',\n",
       " 'http',\n",
       " 'static',\n",
       " 'bbci',\n",
       " 'co',\n",
       " 'uk',\n",
       " 'news',\n",
       " 'windows',\n",
       " 'eight',\n",
       " 'icon',\n",
       " 'x',\n",
       " 'png',\n",
       " 'meta',\n",
       " 'name',\n",
       " 'msapplication',\n",
       " 'ile',\n",
       " 'olor',\n",
       " 'content',\n",
       " 'bb',\n",
       " 'meta',\n",
       " 'http',\n",
       " 'equiv',\n",
       " 'cleartype',\n",
       " 'content',\n",
       " 'on',\n",
       " 'meta',\n",
       " 'name',\n",
       " 'mobile',\n",
       " 'web',\n",
       " 'app',\n",
       " 'capable',\n",
       " 'content',\n",
       " 'yes',\n",
       " 'meta',\n",
       " 'name',\n",
       " 'robots',\n",
       " 'content',\n",
       " 'meta',\n",
       " 'name',\n",
       " 'theme',\n",
       " 'color',\n",
       " 'content',\n",
       " 'bb',\n",
       " 'script',\n",
       " 'type',\n",
       " 'text',\n",
       " 'javascript',\n",
       " 'var',\n",
       " 'sf',\n",
       " 'startpt',\n",
       " 'new',\n",
       " 'ate',\n",
       " 'get',\n",
       " 'ime',\n",
       " 'script',\n",
       " 'script',\n",
       " 'function',\n",
       " 'if',\n",
       " 'navigator',\n",
       " 'user',\n",
       " 'gent',\n",
       " 'match',\n",
       " 'obile',\n",
       " 'var',\n",
       " 'ms',\n",
       " 'iewport',\n",
       " 'tyle',\n",
       " 'document',\n",
       " 'create',\n",
       " 'lement',\n",
       " 'style',\n",
       " 'ms',\n",
       " 'iewport',\n",
       " 'tyle',\n",
       " 'append',\n",
       " 'hild',\n",
       " 'document',\n",
       " 'create',\n",
       " 'ext',\n",
       " 'ode',\n",
       " 'ms',\n",
       " 'viewport',\n",
       " 'width',\n",
       " 'auto',\n",
       " 'important',\n",
       " 'document',\n",
       " 'get',\n",
       " 'lements',\n",
       " 'y',\n",
       " 'ag',\n",
       " 'ame',\n",
       " 'head',\n",
       " 'append',\n",
       " 'hild',\n",
       " 'ms',\n",
       " 'iewport',\n",
       " 'tyle',\n",
       " 'script',\n",
       " 'meta',\n",
       " 'name',\n",
       " 'viewport',\n",
       " 'content',\n",
       " 'width',\n",
       " 'device',\n",
       " 'width',\n",
       " 'initial',\n",
       " 'scale',\n",
       " 'meta',\n",
       " 'property',\n",
       " 'fb',\n",
       " 'admins',\n",
       " 'content',\n",
       " 'script',\n",
       " 'type',\n",
       " 'text',\n",
       " 'javascript',\n",
       " 'window',\n",
       " 'bbcredirection',\n",
       " 'geo',\n",
       " 'true',\n",
       " 'script',\n",
       " 'orb',\n",
       " 'ws',\n",
       " 'require',\n",
       " 'lib',\n",
       " 'script',\n",
       " 'type',\n",
       " 'text',\n",
       " 'javascript',\n",
       " 'if',\n",
       " 'typeof',\n",
       " 'window',\n",
       " 'define',\n",
       " 'function',\n",
       " 'typeof',\n",
       " 'window',\n",
       " 'require',\n",
       " 'function',\n",
       " 'document',\n",
       " 'write',\n",
       " 'script',\n",
       " 'class',\n",
       " 'js',\n",
       " 'require',\n",
       " 'lib',\n",
       " 'src',\n",
       " 'http',\n",
       " 'static',\n",
       " 'bbci',\n",
       " 'co',\n",
       " 'uk',\n",
       " 'frameworks',\n",
       " 'requirejs',\n",
       " 'lib',\n",
       " 'js',\n",
       " 'script',\n",
       " 'script',\n",
       " 'script',\n",
       " 'type',\n",
       " 'text',\n",
       " 'javascript',\n",
       " 'bbc',\n",
       " 'equire',\n",
       " 'ap',\n",
       " 'jquery',\n",
       " 'http',\n",
       " 'static',\n",
       " 'bbci',\n",
       " 'co',\n",
       " 'uk',\n",
       " 'frameworks',\n",
       " 'jquery',\n",
       " 'sharedmodules',\n",
       " 'jquery',\n",
       " 'jquery',\n",
       " 'http',\n",
       " 'static',\n",
       " 'bbci',\n",
       " 'co',\n",
       " 'uk',\n",
       " 'frameworks',\n",
       " 'jquery',\n",
       " 'sharedmodules',\n",
       " 'jquery',\n",
       " 'jquery',\n",
       " 'http',\n",
       " 'static',\n",
       " 'bbci',\n",
       " 'co',\n",
       " 'uk',\n",
       " 'frameworks',\n",
       " 'jquery',\n",
       " 'sharedmodules',\n",
       " 'jquery',\n",
       " 'swfobject',\n",
       " 'http',\n",
       " 'static',\n",
       " 'bbci',\n",
       " 'co',\n",
       " 'uk',\n",
       " 'frameworks',\n",
       " 'swfobject',\n",
       " 'sharedmodules',\n",
       " 'swfobject',\n",
       " 'demi',\n",
       " 'http',\n",
       " 'static',\n",
       " 'bbci',\n",
       " 'co',\n",
       " 'uk',\n",
       " 'frameworks',\n",
       " 'demi',\n",
       " 'sharedmodules',\n",
       " 'demi',\n",
       " 'gelui',\n",
       " 'http',\n",
       " 'static',\n",
       " 'bbci',\n",
       " 'co',\n",
       " 'uk',\n",
       " 'frameworks',\n",
       " 'gelui',\n",
       " 'sharedmodules',\n",
       " 'gelui',\n",
       " 'cssp',\n",
       " 'gelui',\n",
       " 'overlay',\n",
       " 'http',\n",
       " 'static',\n",
       " 'bbci',\n",
       " 'co',\n",
       " 'uk',\n",
       " 'frameworks',\n",
       " 'gelui',\n",
       " 'sharedmodules',\n",
       " 'gelui',\n",
       " 'overlay',\n",
       " 'css',\n",
       " 'istats',\n",
       " 'http',\n",
       " 'static',\n",
       " 'bbci',\n",
       " 'co',\n",
       " 'uk',\n",
       " 'frameworks',\n",
       " 'istats',\n",
       " 'modules',\n",
       " 'istats',\n",
       " 'relay',\n",
       " 'http',\n",
       " 'static',\n",
       " 'bbci',\n",
       " 'co',\n",
       " 'uk',\n",
       " 'frameworks',\n",
       " 'relay',\n",
       " 'sharedmodules',\n",
       " 'relay',\n",
       " 'clock',\n",
       " 'http',\n",
       " ...]"
      ]
     },
     "execution_count": 23,
     "metadata": {},
     "output_type": "execute_result"
    }
   ],
   "source": [
    "urlwords"
   ]
  },
  {
   "cell_type": "code",
   "execution_count": 24,
   "metadata": {
    "collapsed": false
   },
   "outputs": [
    {
     "ename": "KeyboardInterrupt",
     "evalue": "",
     "output_type": "error",
     "traceback": [
      "\u001b[0;31m---------------------------------------------------------------------------\u001b[0m",
      "\u001b[0;31mKeyboardInterrupt\u001b[0m                         Traceback (most recent call last)",
      "\u001b[0;32m<ipython-input-24-e1355a69f50b>\u001b[0m in \u001b[0;36m<module>\u001b[0;34m()\u001b[0m\n\u001b[0;32m----> 1\u001b[0;31m \u001b[0mnewwords\u001b[0m \u001b[0;34m=\u001b[0m \u001b[0;34m[\u001b[0m\u001b[0mwd\u001b[0m \u001b[0;32mfor\u001b[0m \u001b[0mwd\u001b[0m \u001b[0;32min\u001b[0m \u001b[0murlwords\u001b[0m \u001b[0;32mif\u001b[0m \u001b[0mwd\u001b[0m \u001b[0;32mnot\u001b[0m \u001b[0;32min\u001b[0m \u001b[0mwords\u001b[0m\u001b[0;34m]\u001b[0m\u001b[0;34m\u001b[0m\u001b[0m\n\u001b[0m",
      "\u001b[0;31mKeyboardInterrupt\u001b[0m: "
     ]
    }
   ],
   "source": [
    "newwords = [wd for wd in urlwords if wd not in words]"
   ]
  },
  {
   "cell_type": "code",
   "execution_count": 32,
   "metadata": {
    "collapsed": false
   },
   "outputs": [
    {
     "data": {
      "text/plain": [
       "[('do', \"n't\")]"
      ]
     },
     "execution_count": 32,
     "metadata": {},
     "output_type": "execute_result"
    }
   ],
   "source": [
    "re.findall(r\"(\\w+)(n't)\",\"don't\")"
   ]
  },
  {
   "cell_type": "code",
   "execution_count": 34,
   "metadata": {
    "collapsed": false
   },
   "outputs": [
    {
     "data": {
      "text/plain": [
       "' <!DOCTYPE html>\\n<html lang=\"en-GB\" id=\"responsive-news\" prefix=\"og: http://ogp.me/ns#\">\\n<head >\\n    <meta charset=\"utf-8\">\\n    <meta http-equiv=\"X-UA-Compatible\" content=\"IE=edge,chrome=1\">\\n    <title>Home - BBC News</title>\\n    <meta name=\"description\" content=\"Visit BBC News for up-to-the-minute news, breaking news, video, audio and feature stories. BBC News provides trusted World and UK news as well as local and regional perspectives. Also entertainment, business, science, technology and health news.\">\\n\\n    <link rel=\"dns-prefetch\" href=\"https://ssl.bbc.co.uk/\">\\n    <link rel=\"dns-prefetch\" href=\"http://sa.bbc.co.uk/\">\\n    <link rel=\"dns-prefetch\" href=\"http://ichef-1.bbci.co.uk/\">\\n    <link rel=\"dns-prefetch\" href=\"http://ichef.bbci.co.uk/\">\\n\\n    <meta name=\"x-country\" content=\"cn\">\\n    <meta name=\"x-audience\" content=\"Domestic\">\\n    <meta name=\"CPS_AUDIENCE\" content=\"Domestic\">\\n    <meta name=\"CPS_CHANGEQUEUEID\" content=\"260644884\">\\n    <link rel=\"canonical\" href=\"http://www.bbc.co.uk/news\">\\n\\n                        <link rel=\"alternate\" hreflang=\"en-gb\" href=\"http://www.bbc.co.uk/news\">\\n                                <link rel=\"alternate\" hreflang=\"en\" href=\"http://www.bbc.com/news\">\\n                            <meta property=\"og:title\" content=\"Home - BBC News\" />\\n    <meta property=\"og:type\" content=\"website\" />\\n    <meta property=\"og:description\" content=\"Visit BBC News for up-to-the-minute news, breaking news, video, audio and feature stories. BBC News provides trusted World and UK news as well as local and regional perspectives. Also entertainment, business, science, technology and health news.\" />\\n    <meta property=\"og:site_name\" content=\"BBC News\" />\\n    <meta property=\"og:locale\" content=\"en_GB\" />\\n    <meta property=\"og:article:author\" content=\"BBC News\" />\\n    <meta property=\"og:article:section\" content=\"Home\" />\\n    <meta property=\"og:url\" content=\"http://www.bbc.co.uk/news/\" />\\n    <meta property=\"og:image\" content=\"http://www.bbc.co.uk/news/special/2015/newsspec_10857/bbc_news_logo.png?cb=1\" />\\n\\n    <meta name=\"twitter:card\" content=\"summary_large_image\">\\n    <meta name=\"twitter:site\" content=\"@BBCNews\">\\n    <meta name=\"twitter:title\" content=\"Home - BBC News\">\\n    <meta name=\"twitter:description\" content=\"Visit BBC News for up-to-the-minute news, breaking news, video, audio and feature stories. BBC News provides trusted World and UK news as well as local and regional perspectives. Also entertainment, business, science, technology and health news.\">\\n    <meta name=\"twitter:creator\" content=\"@BBCNews\">\\n    <meta name=\"twitter:image:src\" content=\"http://www.bbc.co.uk/news/special/2015/newsspec_10857/bbc_news_logo.png?cb=1\">\\n    <meta name=\"twitter:domain\" content=\"www.bbc.co.uk\">\\n\\n    <script type=\"application/ld+json\">\\n    {\\n        \"@context\": \"http://schema.org\"\\n        ,\"@type\": \"WebPage\"\\n        ,\"description\": \"Visit BBC News for up-to-the-minute news, breaking news, video, audio and feature stories. BBC News provides trusted World and UK news as well as local and regional perspectives. Also entertainment, business, science, technology and health news.\"\\n        ,\"url\": \"http://www.bbc.co.uk/news/\"\\n        ,\"publisher\": {\\n            \"@type\": \"Organization\",\\n            \"name\": \"BBC News\",\\n            \"logo\": \"http://www.bbc.co.uk/news/special/2015/newsspec_10857/bbc_news_logo.png?cb=1\"\\n        }\\n        ,\"name\": \"Home - BBC News\"\\n        \\n        \\n        \\n        \\n        \\n        \\n        \\n    }\\n    </script>\\n\\n        <script type=\"application/ld+json\">\\n        {\\n        \"@context\": \"http://schema.org\"\\n        ,\"@type\": \"ItemList\"\\n        ,\"url\": \"http://www.bbc.co.uk/news/\"\\n        ,\"itemListElement\":[\\n             {\\n                   \"@type\": \"ListItem\",\\n                   \"position\": 1,\\n                   \"url\": \"http://www.bbc.co.uk/news/business-34650233/\"\\n             }\\n             ,{\\n                   \"@type\": \"ListItem\",\\n                   \"position\": 2,\\n                   \"url\": \"http://www.bbc.co.uk/news/world-middle-east-34656543/\"\\n             }\\n             ,{\\n                   \"@type\": \"ListItem\",\\n                   \"position\": 3,\\n                   \"url\": \"http://www.bbc.co.uk/news/uk-politics-34658755/\"\\n             }\\n             ,{\\n                   \"@type\": \"ListItem\",\\n                   \"position\": 4,\\n                   \"url\": \"http://www.bbc.co.uk/news/uk-34658554/\"\\n             }\\n             ,{\\n                   \"@type\": \"ListItem\",\\n                   \"position\": 5,\\n                   \"url\": \"http://www.bbc.co.uk/news/uk-politics-34654797/\"\\n             }\\n             ,{\\n                   \"@type\": \"ListItem\",\\n                   \"position\": 6,\\n                   \"url\": \"http://www.bbc.co.uk/news/world-us-canada-34657503/\"\\n             }\\n             ,{\\n                   \"@type\": \"ListItem\",\\n                   \"position\": 7,\\n                   \"url\": \"http://www.bbc.co.uk/news/uk-34651682/\"\\n             }\\n             ,{\\n                   \"@type\": \"ListItem\",\\n                   \"position\": 8,\\n                   \"url\": \"http://www.bbc.co.uk/news/entertainment-arts-34654642/\"\\n             }\\n             ,{\\n                   \"@type\": \"ListItem\",\\n                   \"position\": 9,\\n                   \"url\": \"http://www.bbc.co.uk/news/world-europe-34654581/\"\\n             }\\n             ,{\\n                   \"@type\": \"ListItem\",\\n                   \"position\": 10,\\n                   \"url\": \"http://www.bbc.co.uk/news/uk-england-34655016/\"\\n             }\\n             ,{\\n                   \"@type\": \"ListItem\",\\n                   \"position\": 11,\\n                   \"url\": \"http://www.bbc.co.uk/news/technology-34656820/\"\\n             }\\n             ,{\\n                   \"@type\": \"ListItem\",\\n                   \"position\": 12,\\n                   \"url\": \"http://www.bbc.co.uk/sport/football/34655656/\"\\n             }\\n          ]\\n        }\\n        </script>\\n\\n    \\n                \\n    <meta name=\"apple-mobile-web-app-title\" content=\"BBC News\">\\n    <link rel=\"apple-touch-icon-precomposed\" sizes=\"57x57\"    href=\"http://static.bbci.co.uk/news/1.94.0444/apple-touch-icon-57x57-precomposed.png\">\\n    <link rel=\"apple-touch-icon-precomposed\" sizes=\"72x72\"    href=\"http://static.bbci.co.uk/news/1.94.0444/apple-touch-icon-72x72-precomposed.png\">\\n    <link rel=\"apple-touch-icon-precomposed\" sizes=\"114x114\"  href=\"http://static.bbci.co.uk/news/1.94.0444/apple-touch-icon-114x114-precomposed.png\">\\n    <link rel=\"apple-touch-icon-precomposed\" sizes=\"144x144\"  href=\"http://static.bbci.co.uk/news/1.94.0444/apple-touch-icon.png\">\\n    <link rel=\"apple-touch-icon\" href=\"http://static.bbci.co.uk/news/1.94.0444/apple-touch-icon.png\">\\n    <meta name=\"application-name\" content=\"BBC News\">\\n    <meta name=\"msapplication-TileImage\" content=\"http://static.bbci.co.uk/news/1.94.0444/windows-eight-icon-144x144.png\">\\n    <meta name=\"msapplication-TileColor\" content=\"#bb1919\">\\n    <meta http-equiv=\"cleartype\" content=\"on\">\\n    <meta name=\"mobile-web-app-capable\" content=\"yes\">\\n    <meta name=\"robots\" content=\"NOODP,NOYDIR\" />\\n    <meta name=\"theme-color\" content=\"#bb1919\">\\n    <script type=\"text/javascript\">var _sf_startpt=(new Date()).getTime()</script>\\n\\n    <script>\\n        (function() {\\n            if (navigator.userAgent.match(/IEMobile\\\\/10\\\\.0/)) {\\n                var msViewportStyle = document.createElement(\"style\");\\n                msViewportStyle.appendChild(\\n                    document.createTextNode(\"@-ms-viewport{width:auto!important}\")\\n                );\\n                document.getElementsByTagName(\"head\")[0].appendChild(msViewportStyle);\\n            }\\n        })();\\n    </script>\\n    \\n           <meta name=\"viewport\" content=\"width=device-width, initial-scale=1.0\" />  <meta property=\"fb:admins\" content=\"100004154058350\" />  <script type=\"text/javascript\">window.bbcredirection={geo:true}</script>  <!--orb.ws.require.lib--> <script type=\"text/javascript\">/*<![CDATA[*/ if (typeof window.define !== \\'function\\' || typeof window.require !== \\'function\\') { document.write(\\'<script class=\"js-require-lib\" src=\"http://static.bbci.co.uk/frameworks/requirejs/lib.js\"><\\'+\\'/script>\\'); } /*]]>*/</script> <script type=\"text/javascript\">  bbcRequireMap = {\"jquery-1\":\"http://static.bbci.co.uk/frameworks/jquery/0.3.0/sharedmodules/jquery-1.7.2\", \"jquery-1.4\":\"http://static.bbci.co.uk/frameworks/jquery/0.3.0/sharedmodules/jquery-1.4\", \"jquery-1.9\":\"http://static.bbci.co.uk/frameworks/jquery/0.3.0/sharedmodules/jquery-1.9.1\", \"swfobject-2\":\"http://static.bbci.co.uk/frameworks/swfobject/0.1.10/sharedmodules/swfobject-2\", \"demi-1\":\"http://static.bbci.co.uk/frameworks/demi/0.10.0/sharedmodules/demi-1\", \"gelui-1\":\"http://static.bbci.co.uk/frameworks/gelui/0.9.13/sharedmodules/gelui-1\", \"cssp!gelui-1/overlay\":\"http://static.bbci.co.uk/frameworks/gelui/0.9.13/sharedmodules/gelui-1/overlay.css\", \"istats-1\":\"http://static.bbci.co.uk/frameworks/istats/0.28.4/modules/istats-1\", \"relay-1\":\"http://static.bbci.co.uk/frameworks/relay/0.2.6/sharedmodules/relay-1\", \"clock-1\":\"http://static.bbci.co.uk/frameworks/clock/0.1.9/sharedmodules/clock-1\", \"canvas-clock-1\":\"http://static.bbci.co.uk/frameworks/clock/0.1.9/sharedmodules/canvas-clock-1\", \"cssp!clock-1\":\"http://static.bbci.co.uk/frameworks/clock/0.1.9/sharedmodules/clock-1.css\", \"jssignals-1\":\"http://static.bbci.co.uk/frameworks/jssignals/0.3.6/modules/jssignals-1\", \"jcarousel-1\":\"http://static.bbci.co.uk/frameworks/jcarousel/0.1.10/modules/jcarousel-1\", \"bump-3\":\"//emp.bbci.co.uk/emp/bump-3/bump-3\"}; require({ baseUrl: \\'http://static.bbci.co.uk/\\', paths: bbcRequireMap, waitSeconds: 30 }); </script>   <script type=\"text/javascript\">/*<![CDATA[*/ if (typeof bbccookies_flag === \\'undefined\\') { bbccookies_flag = \\'ON\\'; } showCTA_flag = true; cta_enabled = (showCTA_flag && (bbccookies_flag === \\'ON\\')); (function(){var e=\"ckns_policy\",m=\"Thu, 01 Jan 1970 00:00:00 GMT\",k={ads:true,personalisation:true,performance:true,necessary:true};function f(p){if(f.cache[p]){return f.cache[p]}var o=p.split(\"/\"),q=[\"\"];do{q.unshift((o.join(\"/\")||\"/\"));o.pop()}while(q[0]!==\"/\");f.cache[p]=q;return q}f.cache={};function a(p){if(a.cache[p]){return a.cache[p]}var q=p.split(\".\"),o=[];while(q.length&&\"|co.uk|com|\".indexOf(\"|\"+q.join(\".\")+\"|\")===-1){if(q.length){o.push(q.join(\".\"))}q.shift()}f.cache[p]=o;return o}a.cache={};function i(o,t,p){var z=[\"\"].concat(a(window.location.hostname)),w=f(window.location.pathname),y=\"\",r,x;for(var s=0,v=z.length;s<v;s++){r=z[s];for(var q=0,u=w.length;q<u;q++){x=w[q];y=o+\"=\"+t+\";\"+(r?\"domain=\"+r+\";\":\"\")+(x?\"path=\"+x+\";\":\"\")+(p?\"expires=\"+p+\";\":\"\");bbccookies.set(y,true)}}}window.bbccookies={POLICY_REFRESH_DATE_MILLIS:new Date(2015,4,21,0,0,0,0).getTime(),POLICY_EXPIRY_COOKIENAME:\"ckns_policy_exp\",_setEverywhere:i,cookiesEnabled:function(){var o=\"ckns_testcookie\"+Math.floor(Math.random()*100000);this.set(o+\"=1\");if(this.get().indexOf(o)>-1){g(o);return true}return false},set:function(o){return document.cookie=o},get:function(){return document.cookie},getCrumb:function(o){if(!o){return null}return decodeURIComponent(document.cookie.replace(new RegExp(\"(?:(?:^|.*;)\\\\\\\\s*\"+encodeURIComponent(o).replace(/[\\\\-\\\\.\\\\+\\\\*]/g,\"\\\\\\\\$&\")+\"\\\\\\\\s*\\\\\\\\=\\\\\\\\s*([^;]*).*$)|^.*$\"),\"$1\"))||null},policyRequiresRefresh:function(){var p=new Date();p.setHours(0);p.setMinutes(0);p.setSeconds(0);p.setMilliseconds(0);if(bbccookies.POLICY_REFRESH_DATE_MILLIS<=p.getTime()){var o=bbccookies.getCrumb(bbccookies.POLICY_EXPIRY_COOKIENAME);if(o){o=new Date(parseInt(o));o.setYear(o.getFullYear()-1);return bbccookies.POLICY_REFRESH_DATE_MILLIS>=o.getTime()}else{return true}}else{return false}},_setPolicy:function(o){return h.apply(this,arguments)},readPolicy:function(){return b.apply(this,arguments)},_deletePolicy:function(){i(e,\"\",m)},isAllowed:function(){return true},_isConfirmed:function(){return c()!==null},_acceptsAll:function(){var o=b();return o&&!(j(o).indexOf(\"0\")>-1)},_getCookieName:function(){return d.apply(this,arguments)},_showPrompt:function(){var o=((!this._isConfirmed()||this.policyRequiresRefresh())&&window.cta_enabled&&this.cookiesEnabled()&&!window.bbccookies_disable);return(window.orb&&window.orb.fig)?o&&(window.orb.fig(\"no\")||window.orb.fig(\"ck\")):o}};bbccookies._getPolicy=bbccookies.readPolicy;function d(p){var o=(\"\"+p).match(/^([^=]+)(?==)/);return(o&&o.length?o[0]:\"\")}function j(o){return\"\"+(o.ads?1:0)+(o.personalisation?1:0)+(o.performance?1:0)}function h(s){if(typeof s===\"undefined\"){s=k}if(typeof arguments[0]===\"string\"){var p=arguments[0],r=arguments[1];if(p===\"necessary\"){r=true}s=b();s[p]=r}else{if(typeof arguments[0]===\"object\"){s.necessary=true}}var q=new Date();q.setYear(q.getFullYear()+1);bbccookies.set(e+\"=\"+j(s)+\";domain=bbc.co.uk;path=/;expires=\"+q.toUTCString()+\";\");bbccookies.set(e+\"=\"+j(s)+\";domain=bbc.com;path=/;expires=\"+q.toUTCString()+\";\");var o=new Date(q.getTime());o.setMonth(o.getMonth()+1);bbccookies.set(bbccookies.POLICY_EXPIRY_COOKIENAME+\"=\"+q.getTime()+\";domain=bbc.co.uk;path=/;expires=\"+o.toUTCString()+\";\");bbccookies.set(bbccookies.POLICY_EXPIRY_COOKIENAME+\"=\"+q.getTime()+\";domain=bbc.com;path=/;expires=\"+o.toUTCString()+\";\");return s}function l(o){if(o===null){return null}var p=o.split(\"\");return{ads:!!+p[0],personalisation:!!+p[1],performance:!!+p[2],necessary:true}}function c(){var o=new RegExp(\"(?:^|; ?)\"+e+\"=(\\\\\\\\d\\\\\\\\d\\\\\\\\d)($|;)\"),p=document.cookie.match(o);if(!p){return null}return p[1]}function b(o){var p=l(c());if(!p){p=k}if(o){return p[o]}else{return p}}function g(o){return document.cookie=o+\"=;expires=\"+m+\";\"}function n(){var o=\\'<script type=\"text/javascript\" src=\"http://static.bbci.co.uk/frameworks/bbccookies/0.6.11/script/bbccookies.js\"><\\\\/script>\\';if(window.bbccookies_flag===\"ON\"&&!bbccookies._acceptsAll()&&!window.bbccookies_disable){document.write(o)}}n()})(); /*]]>*/</script> <script type=\"text/javascript\">/*<![CDATA[*/\\n(function(){window.fig=window.fig||{};window.fig.manager={include:function(a){a=a||window;var e=a.document,g=e.cookie,b=g.match(/(?:^|; ?)ckns_orb_fig=([^;]+)/);if(!b&&g.indexOf(\"ckns_orb_nofig=1\")>-1){this.setFig(a,{no:1})}else{if(b){b=this.deserialise(decodeURIComponent(RegExp.$1));this.setFig(a,b)}e.write(\\'<script src=\"https://fig.bbc.co.uk/frameworks/fig/1/fig.js\"><\\'+\"/script>\")}},confirm:function(a){a=a||window;if(a.orb&&a.orb.fig&&a.orb.fig(\"no\")){this.setNoFigCookie(a)}if(a.orb===undefined||a.orb.fig===undefined){this.setFig(a,{no:1});this.setNoFigCookie(a)}},setNoFigCookie:function(a){a.document.cookie=\"ckns_orb_nofig=1; expires=\"+new Date(new Date().getTime()+1000*60*10).toGMTString()+\";\"},setFig:function(a,b){(function(){var c=b;a.orb=a.orb||{};a.orb.fig=function(d){return(arguments.length)?c[d]:c}})()},deserialise:function(b){var a={};b.replace(/([a-z]{2}):([0-9]+)/g,function(){a[RegExp.$1]=+RegExp.$2});return a}}})();fig.manager.include();/*]]>*/</script>\\n \\n<!--[if (gt IE 8) | (IEMobile)]><!-->\\n<link rel=\"stylesheet\" href=\"http://static.bbci.co.uk/frameworks/barlesque/2.91.2/orb/4/style/orb.min.css\">\\n<!--<![endif]-->\\n\\n<!--[if (lt IE 9) & (!IEMobile)]>\\n<link rel=\"stylesheet\" href=\"http://static.bbci.co.uk/frameworks/barlesque/2.91.2/orb/4/style/orb-ie.min.css\">\\n<![endif]-->\\n\\n  <script type=\"text/javascript\">/*<![CDATA[*/ (function(undefined){if(!window.bbc){window.bbc={}}var ROLLING_PERIOD_DAYS=30;window.bbc.Mandolin=function(id,segments,opts){var now=new Date().getTime(),storedItem,DEFAULT_START=now,DEFAULT_RATE=1,COOKIE_NAME=\"ckpf_mandolin\";opts=opts||{};this._id=id;this._segmentSet=segments;this._store=new window.window.bbc.Mandolin.Storage(COOKIE_NAME);this._opts=opts;this._rate=(opts.rate!==undefined)?+opts.rate:DEFAULT_RATE;this._startTs=(opts.start!==undefined)?new Date(opts.start).getTime():new Date(DEFAULT_START).getTime();this._endTs=(opts.end!==undefined)?new Date(opts.end).getTime():daysFromNow(ROLLING_PERIOD_DAYS);this._signupEndTs=(opts.signupEnd!==undefined)?new Date(opts.signupEnd).getTime():this._endTs;this._segment=null;if(typeof id!==\"string\"){throw new Error(\"Invalid Argument: id must be defined and be a string\")}if(Object.prototype.toString.call(segments)!==\"[object Array]\"){throw new Error(\"Invalid Argument: Segments are required.\")}if(opts.rate!==undefined&&(opts.rate<0||opts.rate>1)){throw new Error(\"Invalid Argument: Rate must be between 0 and 1.\")}if(this._startTs>this._endTs){throw new Error(\"Invalid Argument: end date must occur after start date.\")}if(!(this._startTs<this._signupEndTs&&this._signupEndTs<=this._endTs)){throw new Error(\"Invalid Argument: SignupEnd must be between start and end date\")}removeExpired.call(this,now);var overrides=window.bbccookies.get().match(/ckns_mandolin_setSegments=([^;]+)/);if(overrides!==null){eval(\"overrides = \"+decodeURIComponent(RegExp.$1)+\";\");if(overrides[this._id]&&this._segmentSet.indexOf(overrides[this._id])==-1){throw new Error(\"Invalid Override: overridden segment should exist in segments array\")}}if(overrides!==null&&overrides[this._id]){this._segment=overrides[this._id]}else{if((storedItem=this._store.getItem(this._id))){this._segment=storedItem.segment}else{if(this._startTs<=now&&now<this._signupEndTs&&now<=this._endTs&&this._store.isEnabled()===true){this._segment=pick(segments,this._rate);if(opts.end===undefined){this._store.setItem(this._id,{segment:this._segment})}else{this._store.setItem(this._id,{segment:this._segment,end:this._endTs})}log.call(this,\"mandolin_segment\")}}}log.call(this,\"mandolin_view\")};window.bbc.Mandolin.prototype.getSegment=function(){return this._segment};function log(actionType,params){var that=this;require([\"istats-1\"],function(istats){istats.log(actionType,that._id+\":\"+that._segment,params?params:{})})}function removeExpired(expires){var items=this._store.getItems(),expiresInt=+expires;for(var key in items){if(items[key].end!==undefined&&+items[key].end<expiresInt){this._store.removeItem(key)}}}function getLastExpirationDate(data){var winner=0,rollingExpire=daysFromNow(ROLLING_PERIOD_DAYS);for(var key in data){if(data[key].end===undefined&&rollingExpire>winner){winner=rollingExpire}else{if(+data[key].end>winner){winner=+data[key].end}}}return(winner)?new Date(winner):new Date(rollingExpire)}window.bbc.Mandolin.prototype.log=function(params){log.call(this,\"mandolin_log\",params)};window.bbc.Mandolin.prototype.convert=function(params){log.call(this,\"mandolin_convert\",params);this.convert=function(){}};function daysFromNow(n){var endDate;endDate=new Date().getTime()+(n*60*60*24)*1000;return endDate}function pick(segments,rate){var picked,min=0,max=segments.length-1;if(typeof rate===\"number\"&&Math.random()>rate){return null}do{picked=Math.floor(Math.random()*(max-min+1))+min}while(picked>max);return segments[picked]}window.bbc.Mandolin.Storage=function(name){validateCookieName(name);this._cookieName=name;this._isEnabled=(bbccookies.isAllowed(this._cookieName)===true&&bbccookies.cookiesEnabled()===true)};window.bbc.Mandolin.Storage.prototype.setItem=function(key,value){var storeData=this.getItems();storeData[key]=value;this.save(storeData);return value};window.bbc.Mandolin.Storage.prototype.isEnabled=function(){return this._isEnabled};window.bbc.Mandolin.Storage.prototype.getItem=function(key){var storeData=this.getItems();return storeData[key]};window.bbc.Mandolin.Storage.prototype.removeItem=function(key){var storeData=this.getItems();delete storeData[key];this.save(storeData)};window.bbc.Mandolin.Storage.prototype.getItems=function(){return deserialise(this.readCookie(this._cookieName)||\"\")};window.bbc.Mandolin.Storage.prototype.save=function(data){window.bbccookies.set(this._cookieName+\"=\"+encodeURIComponent(serialise(data))+\"; expires=\"+getLastExpirationDate(data).toUTCString()+\";\")};window.bbc.Mandolin.Storage.prototype.readCookie=function(name){var nameEq=name+\"=\",ca=window.bbccookies.get().split(\"; \"),i,c;validateCookieName(name);for(i=0;i<ca.length;i++){c=ca[i];if(c.indexOf(nameEq)===0){return decodeURIComponent(c.substring(nameEq.length,c.length))}}return null};function serialise(o){var str=\"\";for(var p in o){if(o.hasOwnProperty(p)){str+=\\'\"\\'+p+\\'\"\\'+\":\"+(typeof o[p]===\"object\"?(o[p]===null?\"null\":\"{\"+serialise(o[p])+\"}\"):\\'\"\\'+o[p].toString()+\\'\"\\')+\",\"}}return str.replace(/,\\\\}/g,\"}\").replace(/,$/g,\"\")}function deserialise(str){var o;str=\"{\"+str+\"}\";if(!validateSerialisation(str)){throw\"Invalid input provided for deserialisation.\"}eval(\"o = \"+str);return o}var validateSerialisation=(function(){var OBJECT_TOKEN=\"<Object>\",ESCAPED_CHAR=\\'\"\\\\\\\\n\\\\\\\\r\\\\\\\\u2028\\\\\\\\u2029\\\\\\\\u000A\\\\\\\\u000D\\\\\\\\u005C\\',ALLOWED_CHAR=\"([^\"+ESCAPED_CHAR+\"]|\\\\\\\\\\\\\\\\[\"+ESCAPED_CHAR+\"])\",KEY=\\'\"\\'+ALLOWED_CHAR+\\'+\"\\',VALUE=\\'(null|\"\\'+ALLOWED_CHAR+\\'*\"|\\'+OBJECT_TOKEN+\")\",KEY_VALUE=KEY+\":\"+VALUE,KEY_VALUE_SEQUENCE=\"(\"+KEY_VALUE+\",)*\"+KEY_VALUE,OBJECT_LITERAL=\"({}|{\"+KEY_VALUE_SEQUENCE+\"})\",objectPattern=new RegExp(OBJECT_LITERAL,\"g\");return function(str){if(str.indexOf(OBJECT_TOKEN)!==-1){return false}while(str.match(objectPattern)){str=str.replace(objectPattern,OBJECT_TOKEN)}return str===OBJECT_TOKEN}})();function validateCookieName(name){if(name.match(/ ,;/)){throw\"Illegal name provided, must be valid in browser cookie.\"}}})(); /*]]>*/</script>  <script type=\"text/javascript\">  document.documentElement.className += (document.documentElement.className? \\' \\' : \\'\\') + \\'orb-js\\';  fig.manager.confirm(); </script> <script src=\"http://static.bbci.co.uk/frameworks/barlesque/2.91.2/orb/4/script/orb/api.min.js\"></script> <script type=\"text/javascript\"> var blq = { environment: function() { return \\'live\\'; } } </script>   <script type=\"text/javascript\"> /*<![CDATA[*/ function oqsSurveyManager(w, flag) { if (flag !== \\'OFF\\') { w.document.write(\\'<script type=\"text/javascript\" src=\"http://static.bbci.co.uk/frameworks/barlesque/2.91.2/orb/4/script/vendor/edr.js\"><\\'+\\'/script>\\'); } } oqsSurveyManager(window, \\'ON\\'); /*]]>*/ </script>             <!-- BBCDOTCOM template: responsive webservice  -->\\n        <!-- BBCDOTCOM head --><script type=\"text/javascript\"> /*<![CDATA[*/ var _sf_startpt = (new Date()).getTime(); /*]]>*/ </script><style type=\"text/css\">.bbccom_display_none{display:none;}</style><script type=\"text/javascript\"> /*<![CDATA[*/ var bbcdotcomConfig, googletag = googletag || {}; googletag.cmd = googletag.cmd || []; var bbcdotcom = false; (function(){ if(typeof require !== \\'undefined\\') { require({ paths:{ \"bbcdotcom\":\"http://static.bbci.co.uk/bbcdotcom/0.3.340/script\" } }); } })(); /*]]>*/ </script><script type=\"text/javascript\"> /*<![CDATA[*/ var bbcdotcom = { adverts: { keyValues: { set: function() {} } }, advert: { write: function () {}, show: function () {}, isActive: function () { return false; }, layout: function() { return { reset: function() {} } } }, config: { init: function() {}, isActive: function() {}, setSections: function() {}, isAdsEnabled: function() {}, setAdsEnabled: function() {}, isAnalyticsEnabled: function() {}, setAnalyticsEnabled: function() {}, setAssetPrefix: function() {}, setVersion: function () {}, setJsPrefix: function() {}, setSwfPrefix: function() {}, setCssPrefix: function() {}, setConfig: function() {}, getAssetPrefix: function() {}, getJsPrefix: function () {}, getSwfPrefix: function () {}, getCssPrefix: function () {} }, survey: { init: function(){ return false; } }, data: {}, init: function() {}, objects: function(str) { return false; }, locale: { set: function() {}, get: function() {} }, setAdKeyValue: function() {}, utils: { addEvent: function() {}, addHtmlTagClass: function() {}, log: function () {} }, addLoadEvent: function() {} }; /*]]>*/ </script><script type=\"text/javascript\"> /*<![CDATA[*/ (function(){ if (typeof orb !== \\'undefined\\' && typeof orb.fig === \\'function\\') { if (orb.fig(\\'ad\\') && orb.fig(\\'uk\\') == 0) { bbcdotcom.data = { ads: (orb.fig(\\'ad\\') ? 1 : 0), stats: (orb.fig(\\'uk\\') == 0 ? 1 : 0), statsProvider: orb.fig(\\'ap\\') }; } } else { document.write(\\'<script type=\"text/javascript\" src=\"\\'+(\\'https:\\' == document.location.protocol ? \\'https://ssl.bbc.com\\' : \\'http://tps.bbc.com\\')+\\'/wwscripts/data\">\\\\x3C/script>\\'); } })(); /*]]>*/ </script><script type=\"text/javascript\"> /*<![CDATA[*/ (function(){ if (typeof orb === \\'undefined\\' || typeof orb.fig !== \\'function\\') { bbcdotcom.data = { ads: bbcdotcom.data.a, stats: bbcdotcom.data.b, statsProvider: bbcdotcom.data.c }; } if (bbcdotcom.data.ads == 1) { document.write(\\'<script type=\"text/javascript\" src=\"\\'+(\\'https:\\' == document.location.protocol ? \\'https://ssl.bbc.co.uk\\' : \\'http://www.bbc.co.uk\\')+\\'/wwscripts/flag\">\\\\x3C/script>\\'); } })(); /*]]>*/ </script><script type=\"text/javascript\"> /*<![CDATA[*/ (function(){ if (window.bbcdotcom && (typeof bbcdotcom.flag == \\'undefined\\' || (typeof bbcdotcom.data.ads !== \\'undefined\\' && bbcdotcom.flag.a != 1))) { bbcdotcom.data.ads = 0; } if (/[?|&]ads/.test(window.location.href) || /(^|; )ads=on; /.test(document.cookie) || /; ads=on(; |$)/.test(document.cookie)) { bbcdotcom.data.ads = 1; bbcdotcom.data.stats = 1; } if (window.bbcdotcom && (bbcdotcom.data.ads == 1 || bbcdotcom.data.stats == 1)) { bbcdotcom.assetPrefix = \"http://static.bbci.co.uk/bbcdotcom/0.3.340/\"; document.write(\\'<link rel=\"stylesheet\" type=\"text/css\" href=\"http://static.bbci.co.uk/bbcdotcom/0.3.340/style/orb/bbccom.css\" />\\'); (function() { var useSSL = \\'https:\\' == document.location.protocol; var src = (useSSL ? \\'https:\\' : \\'http:\\') + \\'//www.googletagservices.com/tag/js/gpt.js\\'; document.write(\\'<scr\\' + \\'ipt src=\"\\' + src + \\'\">\\\\x3C/script>\\'); })(); if (/(sandbox|int)(.dev)*.bbc.co*/.test(window.location.href) || /[?|&]ads-debug/.test(window.location.href) || document.cookie.indexOf(\\'ads-debug=\\') !== -1) { document.write(\\'<script type=\"text/javascript\" src=\"http://static.bbci.co.uk/bbcdotcom/0.3.340/script/orb/individual.js\">\\\\x3C/script>\\'); } else { document.write(\\'<script type=\"text/javascript\" src=\"http://static.bbci.co.uk/bbcdotcom/0.3.340/script/orb/bbcdotcom.js\">\\\\x3C/script>\\'); } if(/[\\\\\\\\?&]ads=([^&#]*)/.test(window.location.href)) { document.write(\\'<script type=\"text/javascript\" src=\"http://static.bbci.co.uk/bbcdotcom/0.3.340/script/orb/adverts/adSuites.js\">\\\\x3C/script>\\'); } } })(); /*]]>*/ </script><script type=\"text/javascript\"> /*<![CDATA[*/ (function(){ if (window.bbcdotcom && (bbcdotcom.data.ads == 1 || bbcdotcom.data.stats == 1)) { bbcdotcomConfig = {\"adFormat\":\"standard\",\"adKeyword\":\"\",\"adMode\":\"smart\",\"adsEnabled\":true,\"appAnalyticsSections\":\"news\",\"asyncEnabled\":false,\"disableInitialLoad\":false,\"advertInfoPageUrl\":\"http:\\\\/\\\\/www.bbc.co.uk\\\\/faqs\\\\/online\\\\/adverts_general\",\"advertisementText\":\"Advertisement\",\"analyticsEnabled\":true,\"appName\":\"tabloid\",\"assetPrefix\":\"http:\\\\/\\\\/static.bbci.co.uk\\\\/bbcdotcom\\\\/0.3.340\\\\/\",\"continuousPlayEnabled\":false,\"customAdParams\":[],\"customStatsParams\":[],\"headline\":\"\",\"id\":\"10263779\",\"inAssociationWithText\":\"in association with\",\"keywords\":\"\",\"language\":\"\",\"orbTransitional\":false,\"outbrainEnabled\":true,\"palEnv\":\"live\",\"productName\":\"\",\"sections\":[],\"siteCatalystEnabled\":true,\"comScoreEnabled\":true,\"slots\":\"\",\"sponsoredByText\":\"is sponsored by\",\"adsByGoogleText\":\"Ads by Google\",\"summary\":\"\",\"type\":\"INDEX\",\"staticBase\":\"\\\\/bbcdotcom\",\"staticHost\":\"http:\\\\/\\\\/static.bbci.co.uk\",\"staticVersion\":\"0.3.340\",\"staticPrefix\":\"http:\\\\/\\\\/static.bbci.co.uk\\\\/bbcdotcom\\\\/0.3.340\",\"dataHttp\":\"tps.bbc.com\",\"dataHttps\":\"ssl.bbc.com\",\"flagHttp\":\"www.bbc.co.uk\",\"flagHttps\":\"ssl.bbc.co.uk\",\"analyticsHttp\":\"sa.bbc.com\",\"analyticsHttps\":\"ssa.bbc.com\"}; bbcdotcom.config.init(bbcdotcomConfig, bbcdotcom.data, window.location, window.document); bbcdotcom.config.setAssetPrefix(\"http://static.bbci.co.uk/bbcdotcom/0.3.340/\"); bbcdotcom.config.setVersion(\"0.3.340\"); document.write(\\'<!--[if IE 7]><script type=\"text/javascript\">bbcdotcom.config.setIE7(true);\\\\x3C/script><![endif]-->\\'); document.write(\\'<!--[if IE 8]><script type=\"text/javascript\">bbcdotcom.config.setIE8(true);\\\\x3C/script><![endif]-->\\'); document.write(\\'<!--[if IE 9]><script type=\"text/javascript\">bbcdotcom.config.setIE9(true);\\\\x3C/script><![endif]-->\\'); if (/[?|&]ex-dp/.test(window.location.href) || document.cookie.indexOf(\\'ex-dp=\\') !== -1) { bbcdotcom.utils.addHtmlTagClass(\\'bbcdotcom-ex-dp\\'); } } })(); /*]]>*/ </script>            <script type=\"text/javascript\">/*<![CDATA[*/\\n    window.bbcFlagpoles_istats = \\'ON\\';\\n    window.orb = window.orb || {};\\n\\n    if (bbccookies.isAllowed(\\'s1\\')) {\\n        var istatsTrackingUrl = \\'//sa.bbc.co.uk/bbc/bbc/s?name=news.page&cps_asset_id=10263779&page_type=Index&section=%2Fnews%2Ffront_page&first_pub=2010-06-08T09%3A21%3A22%2B00%3A00&last_editorial_update=2015-10-28T13%3A14%3A13%2B00%3A00&for_nation=cn&app_version=1.94.0&bbc_site=news&pal_route=asset&ml_name=barlesque&app_type=responsive&language=en-GB&ml_version=0.28.4&pal_webapp=tabloid&prod_name=news&app_name=news\\';\\n        require([\\'istats-1\\'], function (istats) {\\n                        istats.addCollector({\\'name\\': \\'default\\', \\'url\\': \\'//sa.bbc.co.uk/bbc/bbc/s\\', \\'separator\\': \\'&\\' });\\n\\n            var counterName = (window.istats_countername) ? window.istats_countername : istatsTrackingUrl.match(/[\\\\?&]name=([^&]*)/i)[1];\\n            istats.setCountername(counterName);\\n\\n                        if (/\\\\bIDENTITY=/.test(document.cookie)) {\\n                istats.addLabels({\\'bbc_identity\\': \\'1\\'});\\n            }\\n            if (/\\\\bckns_policy=\\\\d\\\\d0/.test(document.cookie)) {\\n                istats.addLabels({\\'ns_nc\\': \\'1\\'});\\n            }\\n            var c = (document.cookie.match(/\\\\bckns_policy=(\\\\d\\\\d\\\\d)/) || []).pop() || \\'\\';\\n            var screenWidthAndHeight = \\'unavailable\\';\\n            if (window.screen && screen.width && screen.height) {\\n                screenWidthAndHeight = screen.width + \\'x\\' + screen.height;\\n            }\\n            istats.addLabels(\\'cps_asset_id=10263779&page_type=Index&section=%2Fnews%2Ffront_page&first_pub=2010-06-08T09%3A21%3A22%2B00%3A00&last_editorial_update=2015-10-28T13%3A14%3A13%2B00%3A00&for_nation=cn&app_version=1.94.0&bbc_site=news&pal_route=asset&ml_name=barlesque&app_type=responsive&language=en-GB&ml_version=0.28.4&pal_webapp=tabloid&prod_name=news&app_name=news\\');\\n            istats.addLabels({\\n                                        \\'blq_s\\': \\'4d\\',\\n                    \\'blq_r\\': \\'2.7\\',\\n                    \\'blq_v\\': \\'default\\',\\n                    \\'blq_e\\': \\'pal\\',\\n                                        \\'bbc_mc\\': (c ? \\'ad\\' + c.charAt(0) + \\'ps\\' + c.charAt(1) + \\'pf\\' + c.charAt(2) : \\'not_set\\'),\\n                    \\'screen_resolution\\': screenWidthAndHeight,\\n                    \\'ns_referrer\\': encodeURI(((window.orb.referrer) ? window.orb.referrer : document.referrer))\\n                }\\n            );\\n        });\\n    }\\n    /*]]>*/</script>\\n <script type=\"text/javascript\"> /* <![CDATA[ */ define(\\'id-statusbar-config\\', { \\'translation_signedout\\': \"Sign in\", \\'translation_signedin\\': \"Your account\", \\'use_overlay\\' : false, \\'signin_url\\' : \"https://ssl.bbc.co.uk/id/signin?ptrt=http%3A%2F%2Fwww.bbc.co.uk%2Fnews\", \\'locale\\' : \"en-GB\", \\'policyname\\' : \"\", \\'ptrt\\' : \"http://www.bbc.co.uk/news\" }); var map = {};  map[\\'idcta/statusbar\\'] = \\'http://static.bbci.co.uk/id/0.32.13/modules/idcta/statusbar\\'; require({paths: map}); /* ]]> */ </script>   <script type=\"text/javascript\"> require([\\'istats-1\\'], function(istats){ if (typeof(document) != \\'undefined\\' && typeof(document.cookie) != \\'undefined\\') { var cookieAphidMatch = document.cookie.match(/ckpf_APHID=([^;]*)/); if (cookieAphidMatch && typeof(cookieAphidMatch[1]) == \\'string\\') { istats.addLabels({\\'bbc_hid\\': cookieAphidMatch[1]}); } } })(); </script>    <script type=\"text/javascript\"> (function () { if (! window.require) { throw new Error(\\'idcta: could not find require module\\'); } var map = {}; map[\\'idapp-1\\'] = \\'http://static.bbci.co.uk/idapp/0.71.62/modules/idapp/idapp-1\\'; map[\\'idcta/idcta-1\\'] = \\'http://static.bbci.co.uk/id/0.32.13/modules/idcta/idcta-1\\'; map[\\'idcta/idCookie\\'] = \\'http://static.bbci.co.uk/id/0.32.13/modules/idcta/idCookie\\'; map[\\'idcta/overlayManager\\'] = \\'http://static.bbci.co.uk/id/0.32.13/modules/idcta/overlayManager\\'; require({paths: map}); define(\\'id-config\\', {\"idapp\":{\"version\":\"0.71.62\",\"hostname\":\"ssl.bbc.co.uk\",\"insecurehostname\":\"www.bbc.co.uk\",\"tld\":\"bbc.co.uk\"},\"idtranslations\":{\"version\":\"0.33.26\"},\"identity\":{\"baseUrl\":\"https:\\\\/\\\\/talkback.live.bbc.co.uk\\\\/identity\",\"cookieAgeDays\":730,\"accessTokenCookieName\":\"ckns_IDA-ATKN\"},\"pathway\":{\"name\":null,\"staticAssetUrl\":\"http:\\\\/\\\\/static.bbci.co.uk\\\\/idapp\\\\/0.71.62\\\\/modules\\\\/idapp\\\\/idapp-1\\\\/View.css\"},\"idpurl\":\"https:\\\\/\\\\/idp.api.bbc.co.uk\\\\/idp\\\\/oauth2\\\\/authorize?client_id=bbc-co-uk&response_type=code&scope=openid+play.bbcstore.r+plays.any.w+plays.any.r+follows.any.w+follows.any.r+favourites.any.w+favourites.any.r+idm.basic.r&module=bbc-co-uk&state=ptrt%3Dhttp%3A%2F%2Fwww.bbc.co.uk%2Fnews%26locale%3Den-GB&redirect_uri=https%3A%2F%2Fssl.bbc.co.uk%2Fid%2Foauth2%2Fconsume%2Fidp.bbc.co.uk\"}); })(); </script>                \\n        <link type=\"text/css\" rel=\"stylesheet\" href=\"http://static.bbci.co.uk/news/1.94.0444/stylesheets/services/news/core.css\">\\n    <!--[if lt IE 9]>\\n        <link type=\"text/css\" rel=\"stylesheet\" href=\"http://static.bbci.co.uk/news/1.94.0444/stylesheets/services/news/old-ie.css\">\\n        <script src=\"http://static.bbci.co.uk/news/1.94.0444/js/vendor/html5shiv/html5shiv.js\"></script>\\n    <![endif]-->\\n <script id=\"news-loader\"> if (document.getElementById(\"responsive-news\")) { window.bbcNewsResponsive = true; } var isIE = (function() { var undef, v = 3, div = document.createElement(\\'div\\'), all = div.getElementsByTagName(\\'i\\'); while ( div.innerHTML = \\'<!--[if gt IE \\' + (++v) + \\']><i></i><![endif]-->\\', all[0] ); return v > 4 ? v : undef; }()); var modernDevice = \\'querySelector\\' in document && \\'localStorage\\' in window && \\'addEventListener\\' in window, forceCore = document.cookie.indexOf(\\'ckps_force_core\\') !== -1; window.cutsTheMustard = modernDevice && !forceCore; if (window.cutsTheMustard) { document.documentElement.className += \\' ctm\\'; var insertPoint = document.getElementById(\\'news-loader\\'), config = {\"asset\":{\"asset_id\":\"10263779\",\"asset_uri\":\"\\\\/news\\\\/front_page\",\"first_created\":{\"date\":\"2010-06-08 10:21:22\",\"timezone_type\":3,\"timezone\":\"Europe\\\\/London\"},\"last_updated\":{\"date\":\"2015-10-28 13:14:13\",\"timezone_type\":3,\"timezone\":\"Europe\\\\/London\"},\"options\":{\"allowAdvertising\":true},\"section\":{\"name\":\"Home\",\"id\":\"99854\",\"uri\":\"\\\\/news\\\\/front_page\",\"urlIdentifier\":\"\\\\/news\\\\/front_page\"},\"edition\":\"Domestic\",\"audience\":\"domestic\",\"iStats_counter_name\":\"news.page\",\"type\":\"IDX\"},\"smpBrand\":null,\"staticHost\":\"http:\\\\/\\\\/static.bbci.co.uk\",\"environment\":\"live\",\"locatorVersion\":\"0.46.3\",\"pathPrefix\":\"\\\\/news\",\"staticPrefix\":\"http:\\\\/\\\\/static.bbci.co.uk\\\\/news\\\\/1.94.0444\",\"jsPath\":\"http:\\\\/\\\\/static.bbci.co.uk\\\\/news\\\\/1.94.0444\\\\/js\",\"cssPath\":\"http:\\\\/\\\\/static.bbci.co.uk\\\\/news\\\\/1.94.0444\\\\/stylesheets\\\\/services\\\\/news\",\"cssPostfix\":\"\",\"dynamic\":null,\"features\":{\"localnews\":true,\"video\":true,\"liveeventcomponent\":true,\"mediaassetpage\":true,\"travel\":true,\"gallery\":true,\"rollingnews\":true,\"rumanalytics\":true,\"sportstories\":true,\"radiopromo\":true,\"fromothernewssites\":true,\"locallive\":true,\"weather\":true},\"features2\":{\"svg_brand\":true,\"chartbeat\":true,\"connected_stream\":true,\"connected_stream_promo\":true,\"nav\":true,\"pulse_survey\":false,\"local_survey\":true,\"correspondents\":true,\"blogs\":true,\"open_graph\":true,\"follow_us\":true,\"marketdata_markets\":true,\"marketdata_shares\":true,\"nations_pseudo_nav\":true,\"politics_election2015_topic_pages\":true,\"politics_election2016_az_pages\":true,\"politics_election2016_council_police_pages\":true,\"responsive_breaking_news\":true,\"live_event\":true,\"most_popular\":true,\"most_popular_tabs\":true,\"most_popular_by_day\":true,\"routing\":true,\"rum\":true,\"radiopromonownext\":true,\"config_based_layout\":true,\"orb\":true,\"enhanced_gallery\":true,\"map_most_watched\":true,\"top_stories_promo\":true,\"features_and_analysis\":true,\"section_labels\":true,\"index_title\":true,\"share_tools\":true,\"local_live_promo\":true,\"adverts\":true,\"adverts_async\":true,\"adexpert\":true,\"igor_geo_redirect\":true,\"igor_device_redirect\":true,\"live\":true,\"comscore_mmx\":true,\"find_local_news\":true,\"comments\":true,\"comments_enhanced\":true,\"browser_notify\":true,\"stream_grid_promo\":true,\"breaking_news\":false,\"top_stories_max_volume\":true,\"record_livestats\":true,\"contact_form\":true,\"channel_page\":true,\"portlet_global_variants\":true,\"suppress_lep_timezone\":true,\"story_recommendations\":true,\"cedexis\":true,\"mpulse\":true,\"story_single_column_layout\":true,\"story_image_copyright_labels\":true,\"ovp_resolve_primary_media_vpids\":false,\"media_player\":true,\"travel\":true},\"configuration\":{\"showtimestamp\":\"1\",\"showweather\":\"1\",\"showsport\":\"1\",\"showolympics\":\"1\",\"showfeaturemain\":\"1\",\"showsitecatalyst\":\"1\",\"candyplatform\":\"EnhancedMobile\",\"showwatchlisten\":\"1\",\"showspecialreports\":\"\",\"videotopiccandyid\":\"\",\"showvideofeedsections\":\"1\",\"showstorytopstories\":\"\",\"showstoryfeaturesandanalysis\":\"1\",\"showstorymostpopular\":\"\",\"showgallery\":\"1\",\"cms\":\"cps\",\"channelpagecandyid\":\"10318089\"},\"pollingHost\":\"http:\\\\/\\\\/polling.bbc.co.uk\",\"service\":\"news\",\"locale\":\"en-GB\",\"locatorHost\":null,\"locatorFlagPole\":true,\"local\":{\"allowLocationLookup\":true},\"isWorldService\":false,\"rumAnalytics\":{\"server\":\"http:\\\\/\\\\/ingest.rum.bbc.co.uk\",\"key\":\"news\",\"sample_rate\":0.1,\"url_params\":null,\"edition\":\"domestic\"},\"isChannelPage\":false,\"suitenameMap\":\"\",\"languageVariant\":\"\",\"commentsHost\":\"http:\\\\/\\\\/feeds.bbci.co.uk\",\"search\":null,\"comscoreAnalytics\":null}; config.configuration[\\'get\\'] = function (key) { return this[key.toLowerCase()]; };  var bootstrapUI=function(){var e=function(){if(navigator.userAgent.match(/(Android (2.0|2.1))|(Nokia)|(OSRE\\\\/)|(Opera (Mini|Mobi))|(w(eb)?OSBrowser)|(UCWEB)|(Windows Phone)|(XBLWP)|(ZuneWP)/))return!1;if(navigator.userAgent.match(/MSIE 10.0/))return!0;var e,t=document,n=t.head||t.getElementsByTagName(\"head\")[0],r=t.createElement(\"style\"),s=t.implementation||{hasFeature:function(){return!1}};r.type=\"text/css\",n.insertBefore(r,n.firstChild),e=r.sheet||r.styleSheet;var i=s.hasFeature(\"CSS2\",\"\")?function(t){if(!e||!t)return!1;var n=!1;try{e.insertRule(t,0),n=!/unknown/i.test(e.cssRules[0].cssText),e.deleteRule(e.cssRules.length-1)}catch(r){}return n}:function(t){return e&&t?(e.cssText=t,0!==e.cssText.length&&!/unknown/i.test(e.cssText)&&0===e.cssText.replace(/\\\\r+|\\\\n+/g,\"\").indexOf(t.split(\" \")[0])):!1};return i(\\'@font-face{ font-family:\"font\";src:\"font.ttf\"; }\\')}();e&&(document.getElementsByTagName(\"html\")[0].className+=\" ff\"),function(){var e=document.documentElement.style;(\"flexBasis\"in e||\"WebkitFlexBasis\"in e||\"msFlexBasis\"in e)&&(document.documentElement.className+=\" flex\")}();var t,n,r,s,i,a,o={},u=function(){var e=document.documentElement.clientWidth,r=document.documentElement.clientHeight,s=window.innerWidth,i=window.innerHeight,a=s>1.5*e;t=a?e:s,n=a?r:i},c=function(e){var t=document.createElement(\"link\");t.setAttribute(\"rel\",\"stylesheet\"),t.setAttribute(\"type\",\"text/css\"),t.setAttribute(\"href\",r+e+s+\".css\"),t.setAttribute(\"media\",a[e]),i.parentNode.insertBefore(t,i),delete a[e]},l=function(e,r,s){r&&!s&&(t>=r||n>=r)&&c(e),s&&!r&&(s>=t||s>=n)&&c(e),r&&s&&(t>=r||n>=r)&&(s>=t||s>=n)&&c(e)},f=function(e){if(o[e])return o[e];var t=e.match(/\\\\(min\\\\-width:[\\\\s]*([\\\\s]*[0-9\\\\.]+)(px|em)[\\\\s]*\\\\)/),n=e.match(/\\\\(max\\\\-width:[\\\\s]*([\\\\s]*[0-9\\\\.]+)(px|em)[\\\\s]*\\\\)/),r=t&&parseFloat(t[1])||null,s=n&&parseFloat(n[1])||null;return o[e]=[r,s],o[e]},m=function(){var e=0;for(var t in a)e++;return e},d=function(){m()||window.removeEventListener(\"resize\",h,!1);for(var e in a){var t=a[e],n=f(t);l(e,n[0],n[1])}},h=function(){u(),d()},v=function(e,t){a=e,r=t.path+(\"/\"!==t.path.substr(-1)?\"/\":\"\"),s=t.postfix,i=t.insertBefore,u(),d(),window.addEventListener(\"resize\",h,!1)};return{stylesheetLoaderInit:v}}(); var stylesheets = {\"compact\":\"(max-width: 599px)\",\"tablet\":\"(min-width: 600px)\",\"wide\":\"(min-width: 1008px)\"}; bootstrapUI.stylesheetLoaderInit(stylesheets, { path: \\'http://static.bbci.co.uk/news/1.94.0444/stylesheets/services/news\\', postfix: \\'\\', insertBefore: insertPoint }); var loadRequire = function(){ var js_paths = {\"jquery-1.9\":\"vendor\\\\/jquery-1\\\\/jquery\",\"jquery-1\":\"http:\\\\/\\\\/static.bbci.co.uk\\\\/frameworks\\\\/jquery\\\\/0.3.0\\\\/sharedmodules\\\\/jquery-1.7.2\",\"demi-1\":\"http:\\\\/\\\\/static.bbci.co.uk\\\\/frameworks\\\\/demi\\\\/0.10.0\\\\/sharedmodules\\\\/demi-1\",\"swfobject-2\":\"http:\\\\/\\\\/static.bbci.co.uk\\\\/frameworks\\\\/swfobject\\\\/0.1.10\\\\/sharedmodules\\\\/swfobject-2\",\"jquery\":\"vendor\\\\/jquery-2\\\\/jquery.min\",\"domReady\":\"vendor\\\\/require\\\\/domReady\",\"translation\":\"module\\\\/translations\\\\/en-GB\",\"bump-3\":\"\\\\/\\\\/emp.bbci.co.uk\\\\/emp\\\\/bump-3\\\\/bump-3\"};  js_paths.navigation = \\'module/nav/navManager\\';  requirejs.config({ baseUrl: \\'http://static.bbci.co.uk/news/1.94.0444/js\\', map: { \\'vendor/locator\\': { \\'module/bootstrap\\': \\'vendor/locator/bootstrap\\', \\'locator/stats\\': \\'vendor/locator/stats\\', \\'locator/locatorView\\': \\'vendor/locator/locatorView\\' } }, paths: js_paths, waitSeconds: 30 }); define(\\'config\\', function () { return config; });             require([\"compiled\\\\/all\"], function() {\\n      require([\\'domReady\\'], function (domReady) { domReady(function () { require([\"module\\\\/dotcom\\\\/handlerAdapter\",\"module\\\\/rumAdaptor\",\"module\\\\/stats\\\\/statsSubscriberAdapter\",\"module\\\\/alternativeJsStrategy\\\\/controller\",\"module\\\\/iconLoaderAdapter\",\"module\\\\/polyfill\\\\/location.origin\",\"module\\\\/components\\\\/breakingNewsAdapter\",\"module\\\\/indexTitleAdaptor\",\"module\\\\/findLocalNewsAdaptor\",\"module\\\\/navigation\\\\/handlerAdaptor\",\"module\\\\/noTouchDetectionForCss\",\"module\\\\/components\\\\/commentCountAdapter\",\"module\\\\/components\\\\/fauxBlockLink\",\"module\\\\/components\\\\/responsiveImage\",\"module\\\\/components\\\\/timestampAdaptor\",\"module\\\\/radioPlayerLink\"], function() {  require([\"module\\\\/strategiserAdaptor\"]);  }); }); });              });\\n     };  loadRequire();  } else { var l = document.createElement(\\'link\\'); l.href = \\'http://static.bbci.co.uk/news/1.94.0444/icons/generated/icons.fallback.css\\'; l.rel = \\'stylesheet\\'; document.getElementsByTagName(\\'head\\')[0].appendChild(l); } </script>  <script type=\"text/javascript\"> /*<![CDATA[*/ bbcdotcom.init({adsToDisplay:[\\'leaderboard\\', \\'mpu\\', \\'native\\', \\'mpu_bottom\\', \\'adsense\\']}); /*]]>*/ </script>      <noscript><link href=\"http://static.bbci.co.uk/news/1.94.0444/icons/generated/icons.fallback.css\" rel=\"stylesheet\"></noscript>\\n\\n                \\n        <meta name=\"viewport\" content=\"width=device-width, initial-scale=1, user-scalable=1\">\\n</head>\\n<!--[if IE]><body id=\"asset-type-idx\" class=\"ie device--feature\"><![endif]-->\\n<!--[if !IE]>--><body id=\"asset-type-idx\" class=\"device--feature\"><!--<![endif]-->\\n    <div class=\"direction\" >\\n\\n    \\n             <!-- BBCDOTCOM bodyFirst --><div id=\"bbccom_interstitial_ad\" class=\"bbccom_display_none\"></div><div id=\"bbccom_interstitial\" class=\"bbccom_display_none\"><script type=\"text/javascript\"> /*<![CDATA[*/ (function() { if (window.bbcdotcom && bbcdotcom.config.isActive(\\'ads\\')) { googletag.cmd.push(function() { googletag.display(\\'bbccom_interstitial\\'); }); } }()); /*]]>*/ </script></div><div id=\"bbccom_wallpaper_ad\" class=\"bbccom_display_none\"></div><div id=\"bbccom_wallpaper\" class=\"bbccom_display_none\"><script type=\"text/javascript\"> /*<![CDATA[*/ (function() { var wallpaper; if (window.bbcdotcom && bbcdotcom.config.isActive(\\'ads\\')) { if (bbcdotcom.config.isAsync()) { googletag.cmd.push(function() { googletag.display(\\'bbccom_wallpaper\\'); }); } else { googletag.display(\"wallpaper\"); } wallpaper = bbcdotcom.adverts.adRegister.getAd(\\'wallpaper\\'); if (wallpaper !== null && wallpaper !== undefined) { wallpaper.setDomElement(\\'bbccom_wallpaper\\'); } } }()); /*]]>*/ </script></div><script type=\"text/javascript\"> /*<![CDATA[*/ (function() { if (window.bbcdotcom && bbcdotcom.config.isActive(\\'ads\\')) { document.write(unescape(\\'%3Cscript id=\"gnlAdsEnabled\" class=\"bbccom_display_none\"%3E%3C/script%3E\\')); } if (window.bbcdotcom && bbcdotcom.config.isActive(\\'analytics\\')) { document.write(unescape(\\'%3Cscript id=\"gnlAnalyticsEnabled\" class=\"bbccom_display_none\"%3E%3C/script%3E\\')); } if (window.bbcdotcom && bbcdotcom.config.isActive(\\'continuousPlay\\')) { document.write(unescape(\\'%3Cscript id=\"gnlContinuousPlayEnabled\" class=\"bbccom_display_none\"%3E%3C/script%3E\\')); } }()); /*]]>*/ </script> <div id=\"blq-global\"> <div id=\"blq-pre-mast\">  </div> </div>  <script type=\"text/html\" id=\"blq-bbccookies-tmpl\"><![CDATA[ <section> <div id=\"bbccookies\" class=\"bbccookies-banner orb-banner-wrapper bbccookies-d\"> <div id=\"bbccookies-prompt\" class=\"orb-banner b-g-p b-r b-f\"> <h2 class=\"orb-banner-title\"> Cookies on the BBC website </h2> <p class=\"orb-banner-content\" dir=\"ltr\"> The BBC has updated its cookie policy. We use cookies to ensure that we give you the best experience on our website. This includes cookies from third party social media websites if you visit a page which contains embedded content from social media. Such third party cookies may track your use of the BBC website.<span class=\"bbccookies-international-message\"> We and our partners also use cookies to ensure we show you advertising that is relevant to you.</span> If you continue without changing your settings, we\\'ll assume that you are happy to receive all cookies on the BBC website. However, you can change your cookie settings at any time. </p> <ul class=\"orb-banner-options\"> <li id=\"bbccookies-continue\"> <button type=\"button\" id=\"bbccookies-continue-button\">Continue</button> </li> <li id=\"bbccookies-settings\"> <a href=\"/privacy/cookies/managing/cookie-settings.html\">Change settings</a> </li> <li id=\"bbccookies-more\"><a href=\"/privacy/cookies/bbc\">Find out more</a></li></ul> </div> </div> </section> ]]></script> <script type=\"text/javascript\">/*<![CDATA[*/ (function(){if(bbccookies._showPrompt()){var g=document,b=g.getElementById(\"blq-pre-mast\"),e=g.getElementById(\"blq-bbccookies-tmpl\"),a,f;if(b&&g.createElement){a=g.createElement(\"div\");f=e.innerHTML;f=f.replace(\"<\"+\"![CDATA[\",\"\").replace(\"]]\"+\">\",\"\");a.innerHTML=f;b.appendChild(a);blqCookieContinueButton=g.getElementById(\"bbccookies-continue-button\");blqCookieContinueButton.onclick=function(){a.parentNode.removeChild(a);return false};bbccookies._setPolicy(bbccookies.readPolicy())}var c=g.getElementById(\"bbccookies\");if(c&&!window.orb.fig(\"uk\")){c.className=c.className.replace(/\\\\bbbccookies-d\\\\b/,\"\");c.className=c.className+(\" bbccookies-w\")}}})(); /*]]>*/</script>   <script type=\"text/javascript\">/*<![CDATA[*/ if (bbccookies.isAllowed(\\'s1\\')) { require([\\'istats-1\\'], function (istats) {  istats.invoke(); }); } /*]]>*/</script>  <!-- Begin iStats 20100118 (UX-CMC 1.1009.3) --> <script type=\"text/javascript\">/*<![CDATA[*/ if (bbccookies.isAllowed(\\'s1\\')) { (function () { require([\\'istats-1\\'], function (istats) { istatsTrackingUrl = istats.getDefaultURL(); if (istats.isEnabled() && bbcFlagpoles_istats === \\'ON\\') { sitestat(istatsTrackingUrl); } else { window.ns_pixelUrl = istatsTrackingUrl; /* used by Flash library to track */ } function sitestat(n) { var j = document, f = j.location, b = \"\"; if (j.cookie.indexOf(\"st_ux=\") != -1) { var k = j.cookie.split(\";\"); var e = \"st_ux\", h = document.domain, a = \"/\"; if (typeof ns_ != \"undefined\" && typeof ns_.ux != \"undefined\") { e = ns_.ux.cName || e; h = ns_.ux.cDomain || h; a = ns_.ux.cPath || a } for (var g = 0, f = k.length; g < f; g++) { var m = k[g].indexOf(\"st_ux=\"); if (m != -1) { b = \"&\" + decodeURI(k[g].substring(m + 6)) } } bbccookies.set(e + \"=; expires=\" + new Date(new Date().getTime() - 60).toGMTString() + \"; path=\" + a + \"; domain=\" + h); } window.ns_pixelUrl = n;  } }); })(); } else { window.istats = {enabled: false}; } /*]]>*/</script> <noscript><p style=\"position: absolute; top: -999em;\"><img src=\"//sa.bbc.co.uk/bbc/bbc/s?name=news.page&amp;cps_asset_id=10263779&amp;page_type=Index&amp;section=%2Fnews%2Ffront_page&amp;first_pub=2010-06-08T09%3A21%3A22%2B00%3A00&amp;last_editorial_update=2015-10-28T13%3A14%3A13%2B00%3A00&amp;for_nation=cn&amp;app_version=1.94.0&amp;bbc_site=news&amp;pal_route=asset&amp;ml_name=barlesque&amp;app_type=responsive&amp;language=en-GB&amp;ml_version=0.28.4&amp;pal_webapp=tabloid&amp;prod_name=news&amp;app_name=news&amp;blq_js_enabled=0&amp;blq_s=4d&amp;blq_r=2.7&amp;blq_v=default&amp;blq_e=pal \" height=\"1\" width=\"1\" alt=\"\"/></p></noscript> <!-- End iStats (UX-CMC) -->  \\n <!--[if (gt IE 8) | (IEMobile)]><!--> <header id=\"orb-banner\" role=\"banner\"> <!--<![endif]--> <!--[if (lt IE 9) & (!IEMobile)]> <![if (IE 8)]> <header id=\"orb-banner\" role=\"banner\" class=\"orb-old-ie orb-ie8\"> <![endif]> <![if (IE 7)]> <header id=\"orb-banner\" role=\"banner\" class=\"orb-old-ie orb-ie7\"> <![endif]> <![if (IE 6)]> <header id=\"orb-banner\" role=\"banner\" class=\"orb-old-ie orb-ie6\"> <![endif]> <![endif]--> <div id=\"orb-header\"  class=\"orb-nav-pri orb-nav-pri-white orb-nav-empty\"  > <div class=\"orb-nav-pri-container b-r b-g-p\"> <div class=\"orb-nav-section orb-nav-blocks\"> <a href=\"/\"> <img  src=\"http://static.bbci.co.uk/frameworks/barlesque/2.91.2/orb/4/img/bbc-blocks-dark.png\" width=\"84\" height=\"24\" alt=\"BBC\" /> </a> </div> <section> <div class=\"orb-skip-links\"> <h2>Accessibility links</h2> <ul>  <li><a href=\"#page\">Skip to content</a></li>  <li><a id=\"orb-accessibility-help\" href=\"/accessibility/\">Accessibility Help</a></li> </ul> </div> </section>  <div class=\"orb-nav-section orb-nav-id orb-nav-focus orb-nav-id-default\">   <div id=\"idcta-statusbar\" class=\"orb-nav-section orb-nav-focus\"> <a id=\"idcta-link\" href=\"https://ssl.bbc.co.uk/id/status?ptrt=http%3A%2F%2Fwww.bbc.co.uk%2Fnews\"> <img id=\"idcta-image\" src=\"http://static.bbci.co.uk/id/0.32.13/img/bbcid_orb_signin_dark.png\" alt=\"\" width=\"18\" height=\"18\" > <span id=\"idcta-username\">BBC iD</span> </a> </div>  <script type=\"text/javascript\"> require([\\'idcta/statusbar\\'], function(statusbar) { new statusbar.Statusbar({\"id\":\"idcta-statusbar\",\"publiclyCacheable\":true}); }); </script>                     </div>  <nav role=\"navigation\" class=\"orb-nav\"> <div class=\"orb-nav-section orb-nav-links orb-nav-focus\" id=\"orb-nav-links\"> <h2>BBC navigation</h2> <ul>    <li  class=\"orb-nav-news orb-d\"  > <a href=\"http://www.bbc.co.uk/news/\">News</a> </li>    <li  class=\"orb-nav-newsdotcom orb-w\"  > <a href=\"http://www.bbc.com/news/\">News</a> </li>    <li  class=\"orb-nav-sport\"  > <a href=\"/sport/\">Sport</a> </li>    <li  class=\"orb-nav-weather\"  > <a href=\"/weather/\">Weather</a> </li>    <li  class=\"orb-nav-shop orb-w\"  > <a href=\"http://shop.bbc.com/\">Shop</a> </li>    <li  class=\"orb-nav-earthdotcom orb-w\"  > <a href=\"http://www.bbc.com/earth/\">Earth</a> </li>    <li  class=\"orb-nav-travel-dotcom orb-w\"  > <a href=\"http://www.bbc.com/travel/\">Travel</a> </li>    <li  class=\"orb-nav-capital orb-w\"  > <a href=\"http://www.bbc.com/capital/\">Capital</a> </li>    <li  class=\"orb-nav-iplayer orb-d\"  > <a href=\"/iplayer/\">iPlayer</a> </li>    <li  class=\"orb-nav-culture orb-w\"  > <a href=\"http://www.bbc.com/culture/\">Culture</a> </li>    <li  class=\"orb-nav-autos orb-w\"  > <a href=\"http://www.bbc.com/autos/\">Autos</a> </li>    <li  class=\"orb-nav-future orb-w\"  > <a href=\"http://www.bbc.com/future/\">Future</a> </li>    <li  class=\"orb-nav-tv\"  > <a href=\"/tv/\">TV</a> </li>    <li  class=\"orb-nav-radio\"  > <a href=\"/radio/\">Radio</a> </li>    <li  class=\"orb-nav-cbbc\"  > <a href=\"/cbbc\">CBBC</a> </li>    <li  class=\"orb-nav-cbeebies\"  > <a href=\"/cbeebies\">CBeebies</a> </li>    <li  class=\"orb-nav-food\"  > <a href=\"/food/\">Food</a> </li>    <li  class=\"orb-nav-arts orb-d\"  > <a href=\"/arts/\">Arts</a> </li>    <li  class=\"orb-nav-makeitdigital\"  > <a href=\"/makeitdigital\">Make It Digital</a> </li>    <li  > <a href=\"/iwonder\">iWonder</a> </li>    <li  > <a href=\"/education\">Bitesize</a> </li>    <li  class=\"orb-nav-music\"  > <a href=\"/music/\">Music</a> </li>    <li  class=\"orb-nav-nature orb-w\"  > <a href=\"/nature/\">Nature</a> </li>    <li  class=\"orb-nav-earth orb-d\"  > <a href=\"http://www.bbc.com/earth/\">Earth</a> </li>    <li  class=\"orb-nav-local\"  > <a href=\"/local/\">Local</a> </li>    <li  class=\"orb-nav-travel orb-d\"  > <a href=\"/travel/\">Travel</a> </li>    <li id=\"orb-nav-more\"><a href=\"#orb-footer\" data-alt=\"More\">Menu<span class=\"orb-icon orb-icon-arrow\"></span></a></li> </ul> </div> </nav> <div class=\"orb-nav-section orb-nav-search\"> <a href=\"http://search.bbc.co.uk/search\"> <img  src=\"http://static.bbci.co.uk/frameworks/barlesque/2.91.2/orb/4/img/orb-search-dark.png\" width=\"18\" height=\"18\" alt=\"Search the BBC\" /> </a> <form class=\"b-f\" id=\"orb-search-form\" role=\"search\" method=\"get\" action=\"http://search.bbc.co.uk/search\" accept-charset=\"utf-8\"> <div>  <input type=\"hidden\" name=\"uri\" value=\"/news\" />   <label for=\"orb-search-q\">Search the BBC</label> <input id=\"orb-search-q\" type=\"text\" name=\"q\" placeholder=\"Search\" /> <input type=\"image\" id=\"orb-search-button\" src=\"http://static.bbci.co.uk/frameworks/barlesque/2.91.2/orb/4/img/orb-search-dark.png\" width=\"17\" height=\"17\" alt=\"Search the BBC\" /> <input type=\"hidden\" name=\"suggid\" id=\"orb-search-suggid\" /> </div> </form> </div> </div> <div id=\"orb-panels\"  > <script type=\"text/template\" id=\"orb-panel-template\"><![CDATA[ <div id=\"orb-panel-<%= panelname %>\" class=\"orb-panel\" aria-labelledby=\"orb-nav-<%= panelname %>\"> <div class=\"orb-panel-content b-g-p b-r\"> <%= panelcontent %> </div> </div> ]]></script> </div> </div> </header> <!-- Styling hook for shared modules only --> <div id=\"orb-modules\">             \\n    <div id=\"site-container\">\\n\\n    <!--[if lt IE 9]>\\n<div class=\"browser-notify\">\\n    <div class=\"browser-notify__banner\">\\n        <div class=\"browser-notify__icon\"></div>\\n        <span>This site is optimised for modern web browsers, and does not fully support your version of Internet Explorer</span>\\n    </div>\\n</div>\\n<![endif]-->\\n            <div class=\"site-brand site-brand--height\" role=\"banner\" aria-label=\"News\">\\n                        <div class=\"site-brand-inner site-brand-inner--height\">\\n                <div class=\"navigation navigation--primary\">\\n                    <a href=\"/news\" id=\"brand\">\\n            <svg class=\"brand__svg\" aria-label=\"BBC News\">\\n            <title>BBC News</title>\\n            <image xlink:href=\"http://static.bbci.co.uk/news/1.94.0444/img/brand/generated/news-light.svg\" src=\"http://static.bbci.co.uk/news/1.94.0444/img/brand/generated/news-light.png\" width=\"100%\" height=\"100%\"/>\\n        </svg>\\n        </a>\\n                                        <h2 class=\"navigation__heading off-screen\">News navigation</h2>\\n                    <a href=\"#core-navigation\" class=\"navigation__section navigation__section--core\" data-event=\"header\">\\n                        Sections                    </a>\\n                    <div class=\"find-local-wide\" id=\"find-local-wide\">\\n    <button class=\"find-local-wide__link\">Find local news</button>\\n</div>\\n                </div>\\n            </div>\\n                        \\n\\n<div class=\"navigation navigation--wide\">\\n    <ul class=\"navigation-wide-list\" role=\"navigation\" aria-label=\"News\" data-panel-id=\"js-navigation-panel-primary\">\\n                    <li class=\"selected\">\\n                <a href=\"/news\" class=\"navigation-wide-list__link\">\\n                    <span>Home</span>\\n                </a>\\n                 <span class=\"off-screen\">selected</span>            </li>\\n                    <li>\\n                <a href=\"/news/uk\" data-panel-id=\"js-navigation-panel-UK\" class=\"navigation-wide-list__link navigation-arrow--open\">\\n                    <span>UK</span>\\n                </a>\\n                            </li>\\n                    <li>\\n                <a href=\"/news/world\" data-panel-id=\"js-navigation-panel-World\" class=\"navigation-wide-list__link\">\\n                    <span>World</span>\\n                </a>\\n                            </li>\\n                    <li>\\n                <a href=\"/news/business\" data-panel-id=\"js-navigation-panel-Business\" class=\"navigation-wide-list__link\">\\n                    <span>Business</span>\\n                </a>\\n                            </li>\\n                    <li>\\n                <a href=\"/news/politics\" data-panel-id=\"js-navigation-panel-Politics\" class=\"navigation-wide-list__link\">\\n                    <span>Politics</span>\\n                </a>\\n                            </li>\\n                    <li>\\n                <a href=\"/news/technology\" class=\"navigation-wide-list__link\">\\n                    <span>Tech</span>\\n                </a>\\n                            </li>\\n                    <li>\\n                <a href=\"/news/science_and_environment\" class=\"navigation-wide-list__link\">\\n                    <span>Science</span>\\n                </a>\\n                            </li>\\n                    <li>\\n                <a href=\"/news/health\" class=\"navigation-wide-list__link\">\\n                    <span>Health</span>\\n                </a>\\n                            </li>\\n                    <li>\\n                <a href=\"/news/education\" data-panel-id=\"js-navigation-panel-Education\" class=\"navigation-wide-list__link\">\\n                    <span>Education</span>\\n                </a>\\n                            </li>\\n                    <li>\\n                <a href=\"/news/entertainment_and_arts\" class=\"navigation-wide-list__link\">\\n                    <span>Entertainment &amp; Arts</span>\\n                </a>\\n                            </li>\\n                    <li>\\n                <a href=\"/news/video_and_audio/video\" class=\"navigation-wide-list__link\">\\n                    <span>Video &amp; Audio</span>\\n                </a>\\n                            </li>\\n                    <li>\\n                <a href=\"/news/magazine\" class=\"navigation-wide-list__link\">\\n                    <span>Magazine</span>\\n                </a>\\n                            </li>\\n                    <li>\\n                <a href=\"/news/in_pictures\" class=\"navigation-wide-list__link\">\\n                    <span>In Pictures</span>\\n                </a>\\n                            </li>\\n                    <li>\\n                <a href=\"/news/also_in_the_news\" class=\"navigation-wide-list__link\">\\n                    <span>Also in the News</span>\\n                </a>\\n                            </li>\\n                    <li>\\n                <a href=\"/news/special_reports\" class=\"navigation-wide-list__link\">\\n                    <span>Special Reports</span>\\n                </a>\\n                            </li>\\n                    <li>\\n                <a href=\"/news/explainers\" class=\"navigation-wide-list__link\">\\n                    <span>Explainers</span>\\n                </a>\\n                            </li>\\n                    <li>\\n                <a href=\"/news/the_reporters\" class=\"navigation-wide-list__link\">\\n                    <span>The Reporters</span>\\n                </a>\\n                            </li>\\n                    <li>\\n                <a href=\"/news/have_your_say\" class=\"navigation-wide-list__link\">\\n                    <span>Have Your Say</span>\\n                </a>\\n                            </li>\\n                    <li>\\n                <a href=\"/news/disability\" class=\"navigation-wide-list__link navigation-wide-list__link--last\">\\n                    <span>Disability</span>\\n                </a>\\n                            </li>\\n            </ul>\\n</div>\\n\\n                    </div>\\n    \\n        <nav id=\"nations-pseudo-nav\" class=\"nations-pseudo-nav\" role=\"navigation\" aria-label=\"Nations\">\\n    <ul class=\"nations-pseudo-nav__list\">\\n        <li class=\"nations-pseudo-nav__list-item\"><a class=\"nations-pseudo-nav__link\" data-entityid=\"england_nav_link\" href=\"/news/england\"><span class=\"nations-pseudo-nav__link-inner\" class=\"nations-pseudo-nav__link-inner\" >England</span></a></li>\\n        <li class=\"nations-pseudo-nav__list-item\"><a class=\"nations-pseudo-nav__link\" data-entityid=\"nireland_nav_link\" href=\"/news/northern_ireland\"><span class=\"nations-pseudo-nav__link-inner\">N. Ireland</span></a></li>\\n        <li class=\"nations-pseudo-nav__list-item\"><a class=\"nations-pseudo-nav__link\" data-entityid=\"scotland_nav_link\" href=\"/news/scotland\"><span class=\"nations-pseudo-nav__link-inner\">Scotland</span></a></li>\\n        <li class=\"nations-pseudo-nav__list-item\"><a class=\"nations-pseudo-nav__link\" data-entityid=\"alba_nav_link\" href=\"/naidheachdan\"><span class=\"nations-pseudo-nav__link-inner\">Alba</span></a></li>\\n        <li class=\"nations-pseudo-nav__list-item\"><a class=\"nations-pseudo-nav__link\" data-entityid=\"wales_nav_link\" href=\"/news/wales\"><span class=\"nations-pseudo-nav__link-inner\">Wales</span></a></li>\\n        <li class=\"nations-pseudo-nav__list-item\"><a class=\"nations-pseudo-nav__link\" data-entityid=\"cymru_nav_link\" href=\"/cymrufyw\"><span class=\"nations-pseudo-nav__link-inner\">Cymru</span></a></li>\\n    </ul>\\n</nav>\\n\\n    \\n<div id=\"bbccom_leaderboard_1_2_3_4\" class=\"bbccom_slot \"  aria-hidden=\"true\">\\n    <div class=\"bbccom_advert bbccom_display_none\">\\n        <script type=\"text/javascript\">\\n        /*<![CDATA[*/\\n        if (window.bbcdotcom && bbcdotcom.slot) {\\n            bbcdotcom.slot(\\'leaderboard\\', [1,2,3,4]);\\n        }\\n        /*]]>*/\\n        </script>\\n    </div>\\n    <script type=\"text/javascript\">\\n        /*<![CDATA[*/\\n        if (window.bbcdotcom && bbcdotcom.show) {\\n            bbcdotcom.show()\\n        }\\n        /*]]>*/\\n    </script>\\n</div>\\n    <div id=\"breaking-news-container\" data-polling-url=\"http://polling.bbc.co.uk/news/latest_breaking_news?audience=Domestic\" aria-live=\"polite\"></div>\\n\\n                \\n         <div id=\"page\" class=\"configurable index \" data-story-id=\"front_page\">                         <div class=\"page__head\">\\n                                                                            <div class=\"index-tabs__container\">\\n    <ul id=\"index-tabs\" class=\"tabs\">\\n        <li class=\"open top-stories-tab\" data-event=\"topstories\">\\n            <a href=\"/news\">\\n                Top Stories\\n            </a>\\n        </li>\\n        <li class=\"top-stories-tab\" data-event=\"mostread\">\\n            <a href=\"/news/popular/read\" data-fetch-url=\"/news/popular/read.fragment\" class=\"fetch\">\\n                Most Read\\n            </a>\\n        </li>\\n    </ul>\\n</div>\\n                                                                        </div>\\n             <div role=\"main\"> <div class=\"container-width-only\">       <h1 class=\"index-title index-title--redundant index-title--front-page\" id=\"comp-index-title\" data-index-title-meta=\"{&quot;id&quot;:&quot;comp-index-title&quot;,&quot;type&quot;:&quot;index-title&quot;,&quot;handler&quot;:&quot;indexTitle&quot;,&quot;deviceGroups&quot;:null,&quot;opts&quot;:{&quot;alwaysVisible&quot;:false,&quot;onFrontPage&quot;:true},&quot;template&quot;:&quot;index-title&quot;}\">BBC News Home</h1>\\n \\n<div id=\"bbccom_sponsor_section_1_2_3_4\" class=\"bbccom_slot \"  aria-hidden=\"true\">\\n    <div class=\"bbccom_advert bbccom_display_none\">\\n        <script type=\"text/javascript\">\\n        /*<![CDATA[*/\\n        if (window.bbcdotcom && bbcdotcom.slot) {\\n            bbcdotcom.slot(\\'sponsor_section\\', [1,2,3,4]);\\n        }\\n        /*]]>*/\\n        </script>\\n    </div>\\n    <script type=\"text/javascript\">\\n        /*<![CDATA[*/\\n        if (window.bbcdotcom && bbcdotcom.show) {\\n            bbcdotcom.show()\\n        }\\n        /*]]>*/\\n    </script>\\n</div>   </div>      <div class=\"container\">       <div class=\"container--primary-and-secondary-columns column-clearfix\">                         <div class=\"column--primary\">\\n                                                                            \\n\\n    <div id=\"comp-pattern-library\" class=\"distinct-component-group container-buzzard\">\\n        \\n            <h2 class=\"group-title off-screen \">\\n    \\n    Top Stories\\n</h2>\\n<div class=\"buzzard faux-block-link\">\\n    <div class=\"buzzard-item\" data-entityid=\"container-top-stories#1\">\\n        <a href=\"/news/business-34650233\" class=\"title-link\">\\n            \\n            <h3 class=\"title-link__title\">\\n                \\n                <span class=\"title-link__title-text\">Emissions scandal pushes VW into loss</span>\\n            </h3>\\n        </a>            <div class=\"buzzard__image\">\\n                <div class=\"responsive-image responsive-image--16by9\">\\n                    \\n                    <img src=\"http://ichef.bbci.co.uk/news/200/cpsprodpb/15E37/production/_86355698_juvlnuya.jpg\" class=\"js-image-replace\" alt=\"VW production line\" width=\"768\" height=\"432\" />\\n                </div>\\n            </div>\\n        <div class=\"buzzard__body\">\\n                <p class=\"buzzard__summary\">Volkswagen reports its first quarterly loss for at least 15 years after taking a big charge to cover the costs of its emissions scandal.</p>\\n            <div class=\"buzzard__info-list\">\\n                <ul class=\"mini-info-list\">\\n                    <li class=\"mini-info-list__item\"><div class=\"date date--v2\" data-seconds=\"1446034604\" data-datetime=\"28 October 2015\">28 October 2015</div></li>\\n                    <li class=\"mini-info-list__item\"><span class=\"mini-info-list__section-desc off-screen\">From the section </span><a href=\"/news/business\" class=\"mini-info-list__section\" data-entityid=\"section-label\">Business</a></li>\\n                </ul>\\n            </div>\\n        </div>\\n        <div class=\"buzzard__links-list\">\\n            <h4 class=\"off-screen\">Related content</h4>\\n            <ul class=\"links-list__list\">\\n                <li class=\"links-list__item\"><a href=\"/news/business-34650054\" class=\"links-list__link\"> \\'We won\\'t be the next Detroit\\'</a></li><li class=\"links-list__item\"><a href=\"/news/live/business-34617831\" class=\"links-list__link\">                \\n                \\n                \\n                <span class=\"badge-text-only badge-text-only--live\">Live</span>\\n VW shares up despite loss</a></li><li class=\"links-list__item\"><a href=\"/news/business-34324772\" class=\"links-list__link\"> Volkswagen: The scandal explained</a></li><li class=\"links-list__item\"><a href=\"/news/business-34400305\" class=\"links-list__link\"> The unanswered VW questions</a></li>\\n            </ul>\\n        </div>\\n        <a href=\"/news/business-34650233\" class=\"faux-block-link__overlay-link\" tabindex=\"-1\" aria-hidden=\"true\">Full article Emissions scandal pushes VW into loss</a>\\n    </div>\\n</div>\\n\\n        \\n    </div>\\n\\n                                                                                            \\n\\n    <div id=\"comp-candy-asset-munger\" class=\"distinct-component-group container-pigeon\">\\n        \\n            <div class=\"pigeon\">\\n        <div class=\"pigeon__column pigeon__column--a\" data-entityid=\"container-top-stories#2\">\\n            <div class=\"pigeon-item faux-block-link\">\\n                <div class=\"pigeon-item__image\">\\n                    <div class=\"responsive-image responsive-image--16by9\">\\n                        \\n                            <div class=\"js-delayed-image-load\" data-src=\"http://ichef.bbci.co.uk/news/200/cpsprodpb/4AF2/production/_86368191_029844927.jpg\" data-width=\"976\" data-height=\"549\" data-alt=\"Iranian Foreign Minister Mohammad Javad Zarif (file image)\"></div>\\n                            <!--[if lt IE 9]>\\n                            <img src=\"http://ichef.bbci.co.uk/news/200/cpsprodpb/4AF2/production/_86368191_029844927.jpg\" class=\"js-image-replace\" alt=\"Iranian Foreign Minister Mohammad Javad Zarif (file image)\" width=\"976\" height=\"549\" />\\n                            <![endif]-->\\n                    </div>\\n                </div>\\n\\n                <div class=\"pigeon-item__body\">\\n                    <a href=\"/news/world-middle-east-34656543\" class=\"title-link\">\\n                        \\n                        <h3 class=\"title-link__title\">\\n                            \\n                            <span class=\"title-link__title-text\">Iran to join international Syria talks</span>\\n                        </h3>\\n                    </a>                        <p class=\"pigeon-item__summary\">Iran\\'s foreign minister will attend multilateral talks on resolving the Syrian conflict in Vienna this week, the first time Tehran has been involved.</p>\\n\\n                    <div class=\"pigeon-item__info-list\">\\n\\n                        <ul class=\"mini-info-list\">\\n                            <li class=\"mini-info-list__item\"><div class=\"date date--v2\" data-seconds=\"1446036536\" data-datetime=\"28 October 2015\">28 October 2015</div></li>\\n                            <li class=\"mini-info-list__item\"><span class=\"mini-info-list__section-desc off-screen\">From the section </span><a href=\"/news/world/middle_east\" class=\"mini-info-list__section\" data-entityid=\"section-label\">Middle East</a></li>\\n                        </ul>\\n                    </div>\\n                </div>\\n\\n                <div class=\"pigeon-item__links-list\">\\n                    <h4 class=\"off-screen\">Related content</h4>\\n                    <ul class=\"links-list__list\">\\n                        <li class=\"links-list__item\"><a href=\"/news/world-middle-east-34572756\" class=\"links-list__link\"> Iran\\'s growing role in Syria\\'s war</a></li><li class=\"links-list__item\"><a href=\"/news/world-middle-east-23849587\" class=\"links-list__link\"> Where key countries stand</a></li>\\n                    </ul>\\n                </div>\\n\\n                <a href=\"/news/world-middle-east-34656543\" class=\"faux-block-link__overlay-link\" tabindex=\"-1\" aria-hidden=\"true\">Full article   Iran to join international Syria talks</a>\\n            </div>\\n        </div>\\n        <div class=\"pigeon__column pigeon__column--a\" data-entityid=\"container-top-stories#3\">\\n            <div class=\"pigeon-item faux-block-link\">\\n                <div class=\"pigeon-item__image\">\\n                    <div class=\"responsive-image responsive-image--16by9\">\\n                        \\n                            <div class=\"js-delayed-image-load\" data-src=\"http://ichef.bbci.co.uk/news/200/cpsprodpb/41EC/production/_86367861_029844470-1.jpg\" data-width=\"976\" data-height=\"549\" data-alt=\"Food bank\"></div>\\n                            <!--[if lt IE 9]>\\n                            <img src=\"http://ichef.bbci.co.uk/news/200/cpsprodpb/41EC/production/_86367861_029844470-1.jpg\" class=\"js-image-replace\" alt=\"Food bank\" width=\"976\" height=\"549\" />\\n                            <![endif]-->\\n                    </div>\\n                </div>\\n\\n                <div class=\"pigeon-item__body\">\\n                    <a href=\"/news/uk-politics-34658755\" class=\"title-link\">\\n                        \\n                        <h3 class=\"title-link__title\">\\n                            \\n                            <span class=\"title-link__title-text\">Job advisers placed in food banks</span>\\n                        </h3>\\n                    </a>                        <p class=\"pigeon-item__summary\">Job advisers are set to be placed in food banks across the country, Work and Pensions Secretary Iain Duncan Smith tells MPs.</p>\\n\\n                    <div class=\"pigeon-item__info-list\">\\n\\n                        <ul class=\"mini-info-list\">\\n                            <li class=\"mini-info-list__item\"><div class=\"date date--v2\" data-seconds=\"1446033492\" data-datetime=\"28 October 2015\">28 October 2015</div></li>\\n                            <li class=\"mini-info-list__item\"><span class=\"mini-info-list__section-desc off-screen\">From the section </span><a href=\"/news/politics\" class=\"mini-info-list__section\" data-entityid=\"section-label\">UK Politics</a></li>\\n                        </ul>\\n                    </div>\\n                </div>\\n\\n                <div class=\"pigeon-item__links-list\">\\n                    <h4 class=\"off-screen\">Related content</h4>\\n                    <ul class=\"links-list__list\">\\n                        <li class=\"links-list__item\"><a href=\"/news/uk-politics-34658756\" class=\"links-list__link\">                        \\n                        \\n                                <span class=\"badge-icon-only badge-icon-only--video\"><span class=\"svg-icon svg-icon--video-light\"><span class=\"off-screen\"> Video</span></span></span>\\n                        \\n                        \\n Minister explains food bank trial</a></li>\\n                    </ul>\\n                </div>\\n\\n                <a href=\"/news/uk-politics-34658755\" class=\"faux-block-link__overlay-link\" tabindex=\"-1\" aria-hidden=\"true\">Full article   Job advisers placed in food banks</a>\\n            </div>\\n        </div>\\n\\n    <div class=\"pigeon__column pigeon__column--b\">\\n            <div class=\"pigeon-item faux-block-link\" data-entityid=\"container-top-stories#4\">\\n                <a href=\"/news/uk-34658554\" class=\"title-link\">\\n                    <h3 class=\"title-link__title\">\\n                        \\n                        <span class=\"title-link__title-text\">Hammond in Saudi Arabia for key visit</span>\\n                    </h3>\\n                </a>\\n                <div class=\"pigeon-item__info-list\">\\n                  <ul class=\"mini-info-list\">\\n                      <li class=\"mini-info-list__item\"><div class=\"date date--v2\" data-seconds=\"1446037442\" data-datetime=\"28 October 2015\">28 October 2015</div></li>\\n                      <li class=\"mini-info-list__item\"><span class=\"mini-info-list__section-desc off-screen\">From the section </span><a href=\"/news/uk\" class=\"mini-info-list__section\" data-entityid=\"section-label\">UK</a></li>\\n                  </ul>\\n                </div>\\n\\n                <a href=\"/news/uk-34658554\" class=\"faux-block-link__overlay-link\" tabindex=\"-1\" aria-hidden=\"true\">Full article Hammond in Saudi Arabia for key visit</a>\\n            </div>\\n            <div class=\"pigeon-item faux-block-link\" data-entityid=\"container-top-stories#5\">\\n                <a href=\"/news/uk-politics-34654797\" class=\"title-link\">\\n                    <h3 class=\"title-link__title\">\\n                        \\n                        <span class=\"title-link__title-text\">PM to attack Eurosceptic case at summit</span>\\n                    </h3>\\n                </a>\\n                <div class=\"pigeon-item__info-list\">\\n                  <ul class=\"mini-info-list\">\\n                      <li class=\"mini-info-list__item\"><div class=\"date date--v2\" data-seconds=\"1446032901\" data-datetime=\"28 October 2015\">28 October 2015</div></li>\\n                      <li class=\"mini-info-list__item\"><span class=\"mini-info-list__section-desc off-screen\">From the section </span><a href=\"/news/politics\" class=\"mini-info-list__section\" data-entityid=\"section-label\">UK Politics</a></li>\\n                      <li class=\"mini-info-list__item\"><span id=\"dna-comment-count___CPS__34654797\" class=\"js-comment-count comment-count\" data-comments-id=\"__CPS__34654797\"></span><span class=\"off-screen\"> comments</span></li>\\n                  </ul>\\n                </div>\\n\\n                <a href=\"/news/uk-politics-34654797\" class=\"faux-block-link__overlay-link\" tabindex=\"-1\" aria-hidden=\"true\">Full article PM to attack Eurosceptic case at summit</a>\\n            </div>\\n            <div class=\"pigeon-item faux-block-link\" data-entityid=\"container-top-stories#6\">\\n                <a href=\"/news/world-us-canada-34657503\" class=\"title-link\">\\n                    <h3 class=\"title-link__title\">\\n                        \\n                        <span class=\"title-link__title-text\">Tributes paid to whale boat victims</span>\\n                    </h3>\\n                </a>\\n                <div class=\"pigeon-item__info-list\">\\n                  <ul class=\"mini-info-list\">\\n                      <li class=\"mini-info-list__item\"><div class=\"date date--v2\" data-seconds=\"1446036160\" data-datetime=\"28 October 2015\">28 October 2015</div></li>\\n                      <li class=\"mini-info-list__item\"><span class=\"mini-info-list__section-desc off-screen\">From the section </span><a href=\"/news/world/us_and_canada\" class=\"mini-info-list__section\" data-entityid=\"section-label\">US &amp; Canada</a></li>\\n                  </ul>\\n                </div>\\n\\n                <a href=\"/news/world-us-canada-34657503\" class=\"faux-block-link__overlay-link\" tabindex=\"-1\" aria-hidden=\"true\">Full article Tributes paid to whale boat victims</a>\\n            </div>\\n    </div>\\n</div>\\n\\n        \\n    </div>\\n\\n                                                                            \\n<div id=\"bbccom_mpu_1_2_3\" class=\"bbccom_slot mpu-ad mpu-ad-beside\"  aria-hidden=\"true\">\\n    <div class=\"bbccom_advert bbccom_display_none\">\\n        <script type=\"text/javascript\">\\n        /*<![CDATA[*/\\n        if (window.bbcdotcom && bbcdotcom.slot) {\\n            bbcdotcom.slot(\\'mpu\\', [1,2,3]);\\n        }\\n        /*]]>*/\\n        </script>\\n    </div>\\n    <script type=\"text/javascript\">\\n        /*<![CDATA[*/\\n        if (window.bbcdotcom && bbcdotcom.show) {\\n            bbcdotcom.show()\\n        }\\n        /*]]>*/\\n    </script>\\n</div>                \\n\\n    <div id=\"comp-candy-asset-munger\" class=\"distinct-component-group container-macaw\">\\n        \\n            \\n    <div class=\"macaw\">\\n        <div class=\"macaw-item faux-block-link\" data-entityid=\"container-top-stories#7\">\\n            <div class=\"macaw-item__body\">\\n                <a href=\"/news/uk-34651682\" class=\"title-link\">\\n                    <h3 class=\"title-link__title\">\\n                        \\n                        <span class=\"title-link__title-text\">Police warn 1,900 people of \\'threat to life\\'</span>\\n                    </h3>\\n                </a>                <ul class=\"mini-info-list\">\\n                    <li class=\"mini-info-list__item\"><div class=\"date date--v2\" data-seconds=\"1446035450\" data-datetime=\"28 October 2015\">28 October 2015</div></li>\\n                    <li class=\"mini-info-list__item\"><span class=\"mini-info-list__section-desc off-screen\">From the section </span><a href=\"/news/uk\" class=\"mini-info-list__section\" data-entityid=\"section-label\">UK</a></li>\\n                </ul>\\n            </div>\\n            <a href=\"/news/uk-34651682\" class=\"faux-block-link__overlay-link\" tabindex=\"-1\" aria-hidden=\"true\">Full article Police warn 1,900 people of \\'threat to life\\'</a>\\n        </div>\\n        <div class=\"macaw-item faux-block-link\" data-entityid=\"container-top-stories#8\">\\n            <div class=\"macaw-item__body\">\\n                <a href=\"/news/entertainment-arts-34654642\" class=\"title-link\">\\n                    <h3 class=\"title-link__title\">\\n                        \\n                        <span class=\"title-link__title-text\">Comic Mortimer has triple heart bypass</span>\\n                    </h3>\\n                </a>                <ul class=\"mini-info-list\">\\n                    <li class=\"mini-info-list__item\"><div class=\"date date--v2\" data-seconds=\"1446026200\" data-datetime=\"28 October 2015\">28 October 2015</div></li>\\n                    <li class=\"mini-info-list__item\"><span class=\"mini-info-list__section-desc off-screen\">From the section </span><a href=\"/news/entertainment_and_arts\" class=\"mini-info-list__section\" data-entityid=\"section-label\">Entertainment &amp; Arts</a></li>\\n                </ul>\\n            </div>\\n            <a href=\"/news/entertainment-arts-34654642\" class=\"faux-block-link__overlay-link\" tabindex=\"-1\" aria-hidden=\"true\">Full article Comic Mortimer has triple heart bypass</a>\\n        </div>\\n        <div class=\"macaw-item faux-block-link\" data-entityid=\"container-top-stories#9\">\\n            <div class=\"macaw-item__body\">\\n                <a href=\"/news/world-europe-34654581\" class=\"title-link\">\\n                    <h3 class=\"title-link__title\">\\n                        \\n                        <span class=\"title-link__title-text\">\\'Church makes gay lives hell\\' - priest</span>\\n                    </h3>\\n                </a>                <ul class=\"mini-info-list\">\\n                    <li class=\"mini-info-list__item\"><div class=\"date date--v2\" data-seconds=\"1446025760\" data-datetime=\"28 October 2015\">28 October 2015</div></li>\\n                    <li class=\"mini-info-list__item\"><span class=\"mini-info-list__section-desc off-screen\">From the section </span><a href=\"/news/world/europe\" class=\"mini-info-list__section\" data-entityid=\"section-label\">Europe</a></li>\\n                </ul>\\n            </div>\\n            <a href=\"/news/world-europe-34654581\" class=\"faux-block-link__overlay-link\" tabindex=\"-1\" aria-hidden=\"true\">Full article \\'Church makes gay lives hell\\' - priest</a>\\n        </div>\\n        <div class=\"macaw-item faux-block-link\" data-entityid=\"container-top-stories#10\">\\n            <div class=\"macaw-item__body\">\\n                <a href=\"/news/uk-england-34655016\" class=\"title-link\">\\n                    <h3 class=\"title-link__title\">\\n                        \\n                        <span class=\"title-link__title-text\">Mosque attack PCs win bravery award</span>\\n                    </h3>\\n                </a>                <ul class=\"mini-info-list\">\\n                    <li class=\"mini-info-list__item\"><div class=\"date date--v2\" data-seconds=\"1446032033\" data-datetime=\"28 October 2015\">28 October 2015</div></li>\\n                    <li class=\"mini-info-list__item\"><span class=\"mini-info-list__section-desc off-screen\">From the section </span><a href=\"/news/england\" class=\"mini-info-list__section\" data-entityid=\"section-label\">England</a></li>\\n                </ul>\\n            </div>\\n            <a href=\"/news/uk-england-34655016\" class=\"faux-block-link__overlay-link\" tabindex=\"-1\" aria-hidden=\"true\">Full article Mosque attack PCs win bravery award</a>\\n        </div>\\n        <div class=\"macaw-item faux-block-link\" data-entityid=\"container-top-stories#11\">\\n            <div class=\"macaw-item__body\">\\n                <a href=\"/news/technology-34656820\" class=\"title-link\">\\n                    <h3 class=\"title-link__title\">\\n                        \\n                        <span class=\"title-link__title-text\">Drone crash causes Hollywood blackout</span>\\n                    </h3>\\n                </a>                <ul class=\"mini-info-list\">\\n                    <li class=\"mini-info-list__item\"><div class=\"date date--v2\" data-seconds=\"1446036725\" data-datetime=\"28 October 2015\">28 October 2015</div></li>\\n                    <li class=\"mini-info-list__item\"><span class=\"mini-info-list__section-desc off-screen\">From the section </span><a href=\"/news/technology\" class=\"mini-info-list__section\" data-entityid=\"section-label\">Technology</a></li>\\n                </ul>\\n            </div>\\n            <a href=\"/news/technology-34656820\" class=\"faux-block-link__overlay-link\" tabindex=\"-1\" aria-hidden=\"true\">Full article Drone crash causes Hollywood blackout</a>\\n        </div>\\n        <div class=\"macaw-item faux-block-link\" data-entityid=\"container-top-stories#12\">\\n            <div class=\"macaw-item__body\">\\n                <a href=\"/sport/football/34655656\" class=\"title-link\">\\n                    <h3 class=\"title-link__title\">\\n                                            \\n                    \\n                    \\n                    <span class=\"badge-text-only badge-text-only--sport\">Sport</span>\\n\\n                        <span class=\"title-link__title-text\">Fifa confirms election candidates</span>\\n                    </h3>\\n                </a>                <ul class=\"mini-info-list\">\\n                    <li class=\"mini-info-list__item\"><div class=\"date date--v2\" data-seconds=\"1446027325\" data-datetime=\"28 October 2015\">28 October 2015</div></li>\\n                    <li class=\"mini-info-list__item\"><span class=\"mini-info-list__section-desc off-screen\">From the section </span><a href=\"/sport/football\" class=\"mini-info-list__section\" data-entityid=\"section-label\">Football</a></li>\\n                </ul>\\n            </div>\\n            <a href=\"/sport/football/34655656\" class=\"faux-block-link__overlay-link\" tabindex=\"-1\" aria-hidden=\"true\">Full article Fifa confirms election candidates</a>\\n        </div>\\n    </div>\\n\\n\\n        \\n    </div>\\n\\n                                                                                            \\n\\n    <div id=\"comp-pattern-library\" class=\"distinct-component-group warbler-av-stories-live compact-tablet-only\">\\n        \\n            <h2 class=\"group-title \">\\n    \\n    Watch/Listen\\n</h2>\\n<div class=\"warbler\">\\n    <a href=\"/news/10318089\" class=\"warbler__link\"  data-entityid=\"av-stories-live-compact-tablet#1\">\\n            \\n    \\n    <span class=\"badge-text-and-icon badge-text-and-icon--live-video\"><span class=\"svg-icon svg-icon--video-light\"></span><span class=\"badge-text-and-icon__text\">Live</span><span class=\"off-screen\"> video</span></span>\\n    \\n\\n        <h3 class=\"warbler__link-heading\">BBC News Channel</h3></a>\\n    <a href=\"http://www.bbc.co.uk/iplayer/console/bbc_radio_four\" class=\"warbler__link\" data-radio-player-link=\"http://www.bbc.co.uk/iplayer/console/bbc_radio_four\" data-entityid=\"av-stories-live-compact-tablet#2\">\\n            \\n    \\n    <span class=\"badge-text-and-icon badge-text-and-icon--live-audio\"><span class=\"svg-icon svg-icon--audio-light\"></span><span class=\"badge-text-and-icon__text\">Live</span><span class=\"off-screen\"> audio</span></span>\\n    \\n\\n        <h3 class=\"warbler__link-heading\">Radio 4 - World At One</h3></a>\\n</div>\\n\\n        \\n    </div>\\n\\n                                                                                            \\n\\n    <div id=\"comp-candy-asset-munger\" class=\"distinct-component-group container-condor compact-tablet-only\">\\n        \\n            <div class=\"condor sparrow-container\">\\n    <div class=\"condor-item faux-block-link\" data-entityid=\"av-stories-now#1\">\\n            <div class=\"condor-item__image\">\\n                <div class=\"responsive-image responsive-image--16by9\">\\n                    <div class=\"responsive-image__inner-for-label\">\\n                        <div class=\"js-delayed-image-load\" data-src=\"http://ichef-1.bbci.co.uk/news/200/cpsprodpb/0C18/production/_86369030_p036g4q3.jpg\" data-width=\"1024\" data-height=\"576\" data-alt=\"David Cameron\"></div>\\n                        <!--[if lt IE 9]>\\n                        <img src=\"http://ichef-1.bbci.co.uk/news/200/cpsprodpb/0C18/production/_86369030_p036g4q3.jpg\" class=\"js-image-replace\" alt=\"David Cameron\" width=\"1024\" height=\"576\" />\\n                        <![endif]-->\\n                        <div class=\"responsive-image__media-and-live-label\" aria-hidden=\"true\">\\n                                                 \\n                    \\n                            <span class=\"badge-icon-only badge-icon-only--video-for-image\"><span class=\"svg-icon svg-icon--video-dark\"><span class=\"off-screen\"> Video</span></span></span>\\n                    \\n                    \\n \\n                        </div>\\n                        \\n                    </div>\\n                </div>\\n            </div>\\n        <div class=\"condor-item__body\">\\n            <a href=\"/news/uk-politics-34658626\" class=\"title-link\">\\n                <span class=\"off-screen\">Video </span>\\n                <h3 class=\"title-link__title\">\\n                    \\n                    <span class=\"title-link__title-text\">Cameron asked for tax credits \\'guarantee\\'</span>\\n                </h3>\\n            </a>            <ul class=\"mini-info-list\">\\n                <li class=\"mini-info-list__item\"><div class=\"date date--v2\" data-seconds=\"1446035793\" data-datetime=\"28 October 2015\">28 October 2015</div></li>\\n                <li class=\"mini-info-list__item\"><span class=\"mini-info-list__section-desc off-screen\">From the section </span><a href=\"/news/politics\" class=\"mini-info-list__section\" data-entityid=\"section-label\">UK Politics</a></li>\\n            </ul>\\n        </div>\\n        <a href=\"/news/uk-politics-34658626\" class=\"faux-block-link__overlay-link\" tabindex=\"-1\" aria-hidden=\"true\">Full article Cameron asked for tax credits \\'guarantee\\'</a>\\n    </div>\\n    <div class=\"condor-item faux-block-link\" data-entityid=\"av-stories-now#2\">\\n            <div class=\"condor-item__image\">\\n                <div class=\"responsive-image responsive-image--16by9\">\\n                    <div class=\"responsive-image__inner-for-label\">\\n                        <div class=\"js-delayed-image-load\" data-src=\"http://ichef.bbci.co.uk/news/200/cpsprodpb/C1DA/production/_86362694_86362692.jpg\" data-width=\"640\" data-height=\"360\" data-alt=\"On board the Turkish boat\"></div>\\n                        <!--[if lt IE 9]>\\n                        <img src=\"http://ichef.bbci.co.uk/news/200/cpsprodpb/C1DA/production/_86362694_86362692.jpg\" class=\"js-image-replace\" alt=\"On board the Turkish boat\" width=\"640\" height=\"360\" />\\n                        <![endif]-->\\n                        <div class=\"responsive-image__media-and-live-label\" aria-hidden=\"true\">\\n                                                 \\n                    \\n                            <span class=\"badge-icon-only badge-icon-only--video-for-image\"><span class=\"svg-icon svg-icon--video-dark\"><span class=\"off-screen\"> Video</span></span></span>\\n                    \\n                    \\n                      \\n                    \\n                    \\n                    <span class=\"badge-text-only badge-text-only--duration\">2:00</span>\\n \\n                        </div>\\n                        \\n                    </div>\\n                </div>\\n            </div>\\n        <div class=\"condor-item__body\">\\n            <a href=\"/news/world-europe-34654865\" class=\"title-link\">\\n                <span class=\"off-screen\">Video 2:00</span>\\n                <h3 class=\"title-link__title\">\\n                    \\n                    <span class=\"title-link__title-text\">Migrants left to \\'fend for themselves\\'</span>\\n                </h3>\\n            </a>            <ul class=\"mini-info-list\">\\n                <li class=\"mini-info-list__item\"><div class=\"date date--v2\" data-seconds=\"1446013783\" data-datetime=\"28 October 2015\">28 October 2015</div></li>\\n                <li class=\"mini-info-list__item\"><span class=\"mini-info-list__section-desc off-screen\">From the section </span><a href=\"/news/world/europe\" class=\"mini-info-list__section\" data-entityid=\"section-label\">Europe</a></li>\\n            </ul>\\n        </div>\\n        <a href=\"/news/world-europe-34654865\" class=\"faux-block-link__overlay-link\" tabindex=\"-1\" aria-hidden=\"true\">Full article Migrants left to \\'fend for themselves\\'</a>\\n    </div>\\n    <div class=\"condor-item faux-block-link\" data-entityid=\"av-stories-now#3\">\\n            <div class=\"condor-item__image\">\\n                <div class=\"responsive-image responsive-image--16by9\">\\n                    <div class=\"responsive-image__inner-for-label\">\\n                        <div class=\"js-delayed-image-load\" data-src=\"http://ichef-1.bbci.co.uk/news/200/cpsprodpb/7BF8/production/_86363713_food.jpg\" data-width=\"640\" data-height=\"360\" data-alt=\"Sarah Whitehead\"></div>\\n                        <!--[if lt IE 9]>\\n                        <img src=\"http://ichef-1.bbci.co.uk/news/200/cpsprodpb/7BF8/production/_86363713_food.jpg\" class=\"js-image-replace\" alt=\"Sarah Whitehead\" width=\"640\" height=\"360\" />\\n                        <![endif]-->\\n                        <div class=\"responsive-image__media-and-live-label\" aria-hidden=\"true\">\\n                                                 \\n                    \\n                            <span class=\"badge-icon-only badge-icon-only--video-for-image\"><span class=\"svg-icon svg-icon--video-dark\"><span class=\"off-screen\"> Video</span></span></span>\\n                    \\n                    \\n                      \\n                    \\n                    \\n                    <span class=\"badge-text-only badge-text-only--duration\">1:01</span>\\n \\n                        </div>\\n                        \\n                    </div>\\n                </div>\\n            </div>\\n        <div class=\"condor-item__body\">\\n            <a href=\"/news/health-34655573\" class=\"title-link\">\\n                <span class=\"off-screen\">Video 1:01</span>\\n                <h3 class=\"title-link__title\">\\n                    \\n                    <span class=\"title-link__title-text\">\\'I really worry about feeding my son\\'</span>\\n                </h3>\\n            </a>            <ul class=\"mini-info-list\">\\n                <li class=\"mini-info-list__item\"><div class=\"date date--v2\" data-seconds=\"1446027308\" data-datetime=\"28 October 2015\">28 October 2015</div></li>\\n                <li class=\"mini-info-list__item\"><span class=\"mini-info-list__section-desc off-screen\">From the section </span><a href=\"/news/health\" class=\"mini-info-list__section\" data-entityid=\"section-label\">Health</a></li>\\n            </ul>\\n        </div>\\n        <a href=\"/news/health-34655573\" class=\"faux-block-link__overlay-link\" tabindex=\"-1\" aria-hidden=\"true\">Full article \\'I really worry about feeding my son\\'</a>\\n    </div>\\n    <div class=\"condor-item faux-block-link\" data-entityid=\"av-stories-now#4\">\\n            <div class=\"condor-item__image\">\\n                <div class=\"responsive-image responsive-image--16by9\">\\n                    <div class=\"responsive-image__inner-for-label\">\\n                        <div class=\"js-delayed-image-load\" data-src=\"http://ichef-1.bbci.co.uk/news/200/cpsprodpb/1652C/production/_86363419_86363245.jpg\" data-width=\"976\" data-height=\"549\" data-alt=\"Krzysztof Charamsa and his partner Eduard\"></div>\\n                        <!--[if lt IE 9]>\\n                        <img src=\"http://ichef-1.bbci.co.uk/news/200/cpsprodpb/1652C/production/_86363419_86363245.jpg\" class=\"js-image-replace\" alt=\"Krzysztof Charamsa and his partner Eduard\" width=\"976\" height=\"549\" />\\n                        <![endif]-->\\n                        <div class=\"responsive-image__media-and-live-label\" aria-hidden=\"true\">\\n                                                 \\n                    \\n                            <span class=\"badge-icon-only badge-icon-only--video-for-image\"><span class=\"svg-icon svg-icon--video-dark\"><span class=\"off-screen\"> Video</span></span></span>\\n                    \\n                    \\n                      \\n                    \\n                    \\n                    <span class=\"badge-text-only badge-text-only--duration\">1:28</span>\\n \\n                        </div>\\n                        \\n                    </div>\\n                </div>\\n            </div>\\n        <div class=\"condor-item__body\">\\n            <a href=\"/news/world-europe-34655300\" class=\"title-link\">\\n                <span class=\"off-screen\">Video 1:28</span>\\n                <h3 class=\"title-link__title\">\\n                    \\n                    <span class=\"title-link__title-text\">Gay priest criticises Vatican in letter</span>\\n                </h3>\\n            </a>            <ul class=\"mini-info-list\">\\n                <li class=\"mini-info-list__item\"><div class=\"date date--v2\" data-seconds=\"1446020366\" data-datetime=\"28 October 2015\">28 October 2015</div></li>\\n                <li class=\"mini-info-list__item\"><span class=\"mini-info-list__section-desc off-screen\">From the section </span><a href=\"/news/world/europe\" class=\"mini-info-list__section\" data-entityid=\"section-label\">Europe</a></li>\\n            </ul>\\n        </div>\\n        <a href=\"/news/world-europe-34655300\" class=\"faux-block-link__overlay-link\" tabindex=\"-1\" aria-hidden=\"true\">Full article Gay priest criticises Vatican in letter</a>\\n    </div>\\n    <div class=\"condor-item faux-block-link\" data-entityid=\"av-stories-now#5\">\\n            <div class=\"condor-item__image\">\\n                <div class=\"responsive-image responsive-image--16by9\">\\n                    <div class=\"responsive-image__inner-for-label\">\\n                        <div class=\"js-delayed-image-load\" data-src=\"http://ichef.bbci.co.uk/news/200/cpsprodpb/EE30/production/_86367906_7925971-low_res-top-gear.jpg\" data-width=\"640\" data-height=\"360\" data-alt=\"Clarkson\"></div>\\n                        <!--[if lt IE 9]>\\n                        <img src=\"http://ichef.bbci.co.uk/news/200/cpsprodpb/EE30/production/_86367906_7925971-low_res-top-gear.jpg\" class=\"js-image-replace\" alt=\"Clarkson\" width=\"640\" height=\"360\" />\\n                        <![endif]-->\\n                        <div class=\"responsive-image__media-and-live-label\" aria-hidden=\"true\">\\n                                                 \\n                    \\n                            <span class=\"badge-icon-only badge-icon-only--audio-for-image\"><span class=\"svg-icon svg-icon--audio-dark\"><span class=\"off-screen\"> Audio</span></span></span>\\n                    \\n                    \\n \\n                        </div>\\n                        \\n                    </div>\\n                </div>\\n            </div>\\n        <div class=\"condor-item__body\">\\n            <a href=\"http://www.bbc.co.uk/programmes/p036fspb\" class=\"title-link\">\\n                \\n                <h3 class=\"title-link__title\">\\n                    \\n                    <span class=\"title-link__title-text\">Top Gear writer: Clarkson let me down</span>\\n                </h3>\\n            </a>            <ul class=\"mini-info-list\">\\n                <li class=\"mini-info-list__item\"><div class=\"date date--v2\" data-seconds=\"1446032631\" data-datetime=\"28 October 2015\">28 October 2015</div></li>\\n            </ul>\\n        </div>\\n        <a href=\"http://www.bbc.co.uk/programmes/p036fspb\" class=\"faux-block-link__overlay-link\" tabindex=\"-1\" aria-hidden=\"true\">Full article Top Gear writer: Clarkson let me down</a>\\n    </div>\\n    <div class=\"condor-item faux-block-link\" data-entityid=\"av-stories-now#6\">\\n            <div class=\"condor-item__image\">\\n                <div class=\"responsive-image responsive-image--16by9\">\\n                    <div class=\"responsive-image__inner-for-label\">\\n                        <div class=\"js-delayed-image-load\" data-src=\"http://ichef-1.bbci.co.uk/news/200/cpsprodpb/12AF8/production/_86363567_86363565.jpg\" data-width=\"640\" data-height=\"360\" data-alt=\"Chocolate dress on catwalk\"></div>\\n                        <!--[if lt IE 9]>\\n                        <img src=\"http://ichef-1.bbci.co.uk/news/200/cpsprodpb/12AF8/production/_86363567_86363565.jpg\" class=\"js-image-replace\" alt=\"Chocolate dress on catwalk\" width=\"640\" height=\"360\" />\\n                        <![endif]-->\\n                        <div class=\"responsive-image__media-and-live-label\" aria-hidden=\"true\">\\n                                                 \\n                    \\n                            <span class=\"badge-icon-only badge-icon-only--video-for-image\"><span class=\"svg-icon svg-icon--video-dark\"><span class=\"off-screen\"> Video</span></span></span>\\n                    \\n                    \\n                      \\n                    \\n                    \\n                    <span class=\"badge-text-only badge-text-only--duration\">0:40</span>\\n \\n                        </div>\\n                        \\n                    </div>\\n                </div>\\n            </div>\\n        <div class=\"condor-item__body\">\\n            <a href=\"/news/world-europe-34655422\" class=\"title-link\">\\n                <span class=\"off-screen\">Video 0:40</span>\\n                <h3 class=\"title-link__title\">\\n                    \\n                    <span class=\"title-link__title-text\">Tasteful fashion: Chocolate clothes on catwalk</span>\\n                </h3>\\n            </a>            <ul class=\"mini-info-list\">\\n                <li class=\"mini-info-list__item\"><div class=\"date date--v2\" data-seconds=\"1446022508\" data-datetime=\"28 October 2015\">28 October 2015</div></li>\\n                <li class=\"mini-info-list__item\"><span class=\"mini-info-list__section-desc off-screen\">From the section </span><a href=\"/news/world/europe\" class=\"mini-info-list__section\" data-entityid=\"section-label\">Europe</a></li>\\n            </ul>\\n        </div>\\n        <a href=\"/news/world-europe-34655422\" class=\"faux-block-link__overlay-link\" tabindex=\"-1\" aria-hidden=\"true\">Full article Tasteful fashion: Chocolate clothes on catwalk</a>\\n    </div>\\n</div>\\n\\n        \\n    </div>\\n\\n                                                                                            \\n\\n    <div id=\"comp-candy-asset-munger\" class=\"distinct-component-group container-budgie\">\\n        \\n            <h2 class=\"group-title \" data-entityid=\"strapline#the_papers\">\\n    \\n    The Papers\\n</h2>\\n<div class=\"budgie sparrow-container faux-block-link\">\\n    <div class=\"budgie-item\" data-entityid=\"latest-content#1\">\\n            <div class=\"budgie__image\">\\n                <div class=\"responsive-image responsive-image--16by9\">\\n                    \\n                        <div class=\"js-delayed-image-load\" data-src=\"http://ichef-1.bbci.co.uk/news/200/cpsprodpb/10B40/production/_86361486_index.jpg\" data-width=\"2048\" data-height=\"1152\" data-alt=\"Daily Mirror and Daily Telegraph front pages for 28/10/15\"></div>\\n                        <!--[if lt IE 9]>\\n                        <img src=\"http://ichef-1.bbci.co.uk/news/200/cpsprodpb/10B40/production/_86361486_index.jpg\" class=\"js-image-replace\" alt=\"Daily Mirror and Daily Telegraph front pages for 28/10/15\" width=\"2048\" height=\"1152\" />\\n                        <![endif]-->\\n                </div>\\n            </div>\\n\\n        <div class=\"budgie__body\">\\n            <a href=\"/news/blogs-the-papers-34654441\" class=\"title-link\">\\n                \\n                <h3 class=\"title-link__title\">\\n                    \\n                    <span class=\"title-link__title-text\">Tax credit vote fall-out and IDs for sale</span>\\n                </h3>\\n            </a>                <p class=\"budgie__summary\">The fall out from the Lords vote on tax credits is widely reported although the front pages carry a range of different stories.</p>\\n            <div class=\"budgie__info\">\\n\\n                <ul class=\"mini-info-list\">\\n                    <li class=\"mini-info-list__item\"><div class=\"date date--v2\" data-seconds=\"1446013756\" data-datetime=\"28 October 2015\">28 October 2015</div></li>\\n                </ul>\\n            </div>\\n        </div>\\n\\n        <a href=\"/news/blogs-the-papers-34654441\" class=\"faux-block-link__overlay-link\" tabindex=\"-1\" aria-hidden=\"true\">Full article Tax credit vote fall-out and IDs for sale</a>\\n    </div>\\n</div>\\n\\n        \\n    </div>\\n\\n                                                                                            \\n\\n    <div id=\"comp-candy-asset-munger\" class=\"distinct-component-group container-robin\">\\n        \\n            <h2 class=\"group-title \" data-entityid=\"strapline#also_in_the_news\">\\n    <a href=\"http://m.bbc.co.uk/news/also_in_the_news\" class=\"group-title__link\">Also in the News</a>\\n    \\n</h2>\\n<div class=\"robin sparrow-container\">\\n        <div class=\"robin-item faux-block-link\" data-entityid=\"also-in-news#1\">\\n                <div class=\"robin-item__image\">\\n                    <div class=\"responsive-image responsive-image--16by9\">\\n                        \\n                            <div class=\"js-delayed-image-load\" data-src=\"http://ichef.bbci.co.uk/news/200/cpsprodpb/1439E/production/_86364828_shinjiwithpdsaseniorvetduncansenior.jpg\" data-width=\"976\" data-height=\"549\" data-alt=\"Shinji Hancock with the vet\"></div>\\n                            <!--[if lt IE 9]>\\n                            <img src=\"http://ichef.bbci.co.uk/news/200/cpsprodpb/1439E/production/_86364828_shinjiwithpdsaseniorvetduncansenior.jpg\" class=\"js-image-replace\" alt=\"Shinji Hancock with the vet\" width=\"976\" height=\"549\" />\\n                            <![endif]-->\\n                    </div>\\n                </div>\\n            <div class=\"robin-item__body\">\\n                <a href=\"/news/uk-england-stoke-staffordshire-34656252\" class=\"title-link\">\\n                    \\n                    <h3 class=\"title-link__title\">\\n                        \\n                        <span class=\"title-link__title-text\">Curiosity.... leaves cat recovering after 40ft fall</span>\\n                    </h3>\\n                </a>                <ul class=\"mini-info-list\">\\n                    <li class=\"mini-info-list__item\"><div class=\"date date--v2\" data-seconds=\"1446028035\" data-datetime=\"28 October 2015\">28 October 2015</div></li>\\n                    <li class=\"mini-info-list__item\"><span class=\"mini-info-list__section-desc off-screen\">From the section </span><a href=\"/news/england/stoke_and_staffordshire\" class=\"mini-info-list__section\" data-entityid=\"section-label\">Stoke &amp; Staffordshire</a></li>\\n                </ul>\\n            </div>\\n            <a href=\"/news/uk-england-stoke-staffordshire-34656252\" class=\"faux-block-link__overlay-link\" tabindex=\"-1\" aria-hidden=\"true\">Full article Curiosity.... leaves cat recovering after 40ft fall</a>\\n        </div>\\n        <div class=\"robin-item faux-block-link\" data-entityid=\"also-in-news#2\">\\n                <div class=\"robin-item__image\">\\n                    <div class=\"responsive-image responsive-image--16by9\">\\n                        \\n                            <div class=\"js-delayed-image-load\" data-src=\"http://ichef.bbci.co.uk/news/200/cpsprodpb/0664/production/_86363610_suffragette-1.jpg\" data-width=\"976\" data-height=\"549\" data-alt=\"Suffragette Oak tree\"></div>\\n                            <!--[if lt IE 9]>\\n                            <img src=\"http://ichef.bbci.co.uk/news/200/cpsprodpb/0664/production/_86363610_suffragette-1.jpg\" class=\"js-image-replace\" alt=\"Suffragette Oak tree\" width=\"976\" height=\"549\" />\\n                            <![endif]-->\\n                    </div>\\n                </div>\\n            <div class=\"robin-item__body\">\\n                <a href=\"/news/uk-scotland-glasgow-west-34655433\" class=\"title-link\">\\n                    \\n                    <h3 class=\"title-link__title\">\\n                        \\n                        <span class=\"title-link__title-text\">Suffragette Oak is tree of the year</span>\\n                    </h3>\\n                </a>                <ul class=\"mini-info-list\">\\n                    <li class=\"mini-info-list__item\"><div class=\"date date--v2\" data-seconds=\"1446018379\" data-datetime=\"28 October 2015\">28 October 2015</div></li>\\n                    <li class=\"mini-info-list__item\"><span class=\"mini-info-list__section-desc off-screen\">From the section </span><a href=\"/news/scotland/glasgow_and_west\" class=\"mini-info-list__section\" data-entityid=\"section-label\">Glasgow &amp; West Scotland</a></li>\\n                </ul>\\n            </div>\\n            <a href=\"/news/uk-scotland-glasgow-west-34655433\" class=\"faux-block-link__overlay-link\" tabindex=\"-1\" aria-hidden=\"true\">Full article Suffragette Oak is tree of the year</a>\\n        </div>\\n</div>\\n\\n        \\n    </div>\\n\\n                                                                                            \\n\\n    <div id=\"comp-candy-asset-munger\" class=\"distinct-component-group \">\\n        \\n            <h2 class=\"group-title \" data-entityid=\"strapline#the_reporters\">\\n    <a href=\"http://www.bbc.co.uk/news/the_reporters\" class=\"group-title__link\">The Reporters</a>\\n    \\n</h2>\\n<div class=\"sparrow-container sparrow-columns\">\\n    <div class=\"sparrow sparrow__3 sparrow__dark\">\\n        <div class=\"sparrow-item sparrow-item--has-byline faux-block-link\" data-entityid=\"the_reporters#1\">\\n            <div class=\"sparrow-item__image\">\\n                <div class=\"responsive-image responsive-image--16by9\">\\n                    \\n                        <div class=\"js-delayed-image-load\" data-src=\"http://ichef-1.bbci.co.uk/news/200/cpsprodpb/849A/production/_86364933_bombing.jpg\" data-width=\"976\" data-height=\"549\" data-alt=\"Rescuers search for casualties trapped under rubble after Russian war crafts hit Syrian opposition-controlled village of Kafr Karmin, Idlib, Syria on 16 October 2015.\"></div>\\n                        <!--[if lt IE 9]>\\n                        <img src=\"http://ichef-1.bbci.co.uk/news/200/cpsprodpb/849A/production/_86364933_bombing.jpg\" class=\"js-image-replace\" alt=\"Rescuers search for casualties trapped under rubble after Russian war crafts hit Syrian opposition-controlled village of Kafr Karmin, Idlib, Syria on 16 October 2015.\" width=\"976\" height=\"549\" />\\n                        <![endif]-->\\n                </div>\\n            </div>\\n\\n            <div class=\"sparrow-item__body\">\\n                <a href=\"/news/explainers-34656711\" class=\"title-link\">\\n                    \\n                    <h3 class=\"title-link__title\">\\n                        \\n                        <span class=\"title-link__title-text\">Washington struggles for clear line on Syria</span>\\n                    </h3>\\n                </a>                <div class=\"sparrow-item__info\">\\n                        <div class=\"byline byline--flip\">\\n                            <div class=\"byline__correspondent-photo-container\">\\n                                <img src=\"http://static.bbci.co.uk/news/1.94.0444/img/correspondents/circles/jonathanmarcus.png\" class=\"byline__correspondent-photo\" alt=\"\">\\n                            </div>\\n                        \\n                            <div class=\"byline__name-and-title\" data-entityid=\"correspondent-byline\">\\n                                <a href=\"/news/correspondents/jonathanmarcus\" class=\"byline__name-link\"><span class=\"byline__name\">Jonathan Marcus</span></a>\\n                                <span class=\"byline__title\">Diplomatic correspondent</span>\\n                            </div>\\n                        </div>\\n\\n                    <ul class=\"mini-info-list\">\\n                        <li class=\"mini-info-list__item\"><div class=\"date date--v2\" data-seconds=\"1446036931\" data-datetime=\"28 October 2015\">28 October 2015</div></li>\\n                        <li class=\"mini-info-list__item\"><span class=\"mini-info-list__section-desc off-screen\">From the section </span><a href=\"/news/explainers\" class=\"mini-info-list__section\" data-entityid=\"section-label\">Explainers</a></li>\\n                        <li class=\"mini-info-list__item\"><span id=\"dna-comment-count___CPS__34656711\" class=\"js-comment-count comment-count\" data-comments-id=\"__CPS__34656711\"></span><span class=\"off-screen\"> comments</span></li>\\n                    </ul>\\n                </div>\\n            </div>\\n\\n            <a href=\"/news/explainers-34656711\" class=\"faux-block-link__overlay-link\" tabindex=\"-1\" aria-hidden=\"true\">Full article Washington struggles for clear line on Syria</a>\\n        </div>\\n        <div class=\"sparrow-item sparrow-item--has-byline faux-block-link\" data-entityid=\"the_reporters#2\">\\n            <div class=\"sparrow-item__image\">\\n                <div class=\"responsive-image responsive-image--16by9\">\\n                    \\n                        <div class=\"js-delayed-image-load\" data-src=\"http://ichef.bbci.co.uk/news/200/cpsprodpb/1022F/production/_86359066_gettyimages-2635241.jpg\" data-width=\"976\" data-height=\"549\" data-alt=\"American Democratic politician and candidate for the 1972 presidential elections, Senator George McGovern.\"></div>\\n                        <!--[if lt IE 9]>\\n                        <img src=\"http://ichef.bbci.co.uk/news/200/cpsprodpb/1022F/production/_86359066_gettyimages-2635241.jpg\" class=\"js-image-replace\" alt=\"American Democratic politician and candidate for the 1972 presidential elections, Senator George McGovern.\" width=\"976\" height=\"549\" />\\n                        <![endif]-->\\n                </div>\\n            </div>\\n\\n            <div class=\"sparrow-item__body\">\\n                <a href=\"/news/world-us-canada-34650710\" class=\"title-link\">\\n                    \\n                    <h3 class=\"title-link__title\">\\n                        \\n                        <span class=\"title-link__title-text\">A Republican party split in two</span>\\n                    </h3>\\n                </a>                <div class=\"sparrow-item__info\">\\n                        <div class=\"byline byline--flip\">\\n                            <div class=\"byline__correspondent-photo-container\">\\n                                <img src=\"http://static.bbci.co.uk/news/1.94.0444/img/correspondents/circles/nickbryant.png\" class=\"byline__correspondent-photo\" alt=\"\">\\n                            </div>\\n                        \\n                            <div class=\"byline__name-and-title\" data-entityid=\"correspondent-byline\">\\n                                <a href=\"/news/correspondents/nickbryant\" class=\"byline__name-link\"><span class=\"byline__name\">Nick Bryant</span></a>\\n                                <span class=\"byline__title\">BBC News, New York</span>\\n                            </div>\\n                        </div>\\n\\n                    <ul class=\"mini-info-list\">\\n                        <li class=\"mini-info-list__item\"><div class=\"date date--v2\" data-seconds=\"1445979446\" data-datetime=\"27 October 2015\">27 October 2015</div></li>\\n                        <li class=\"mini-info-list__item\"><span class=\"mini-info-list__section-desc off-screen\">From the section </span><a href=\"/news/world/us_and_canada\" class=\"mini-info-list__section\" data-entityid=\"section-label\">US &amp; Canada</a></li>\\n                    </ul>\\n                </div>\\n            </div>\\n\\n            <a href=\"/news/world-us-canada-34650710\" class=\"faux-block-link__overlay-link\" tabindex=\"-1\" aria-hidden=\"true\">Full article A Republican party split in two</a>\\n        </div>\\n        <div class=\"sparrow-item faux-block-link\" data-entityid=\"the_reporters#3\">\\n            <div class=\"sparrow-item__image\">\\n                <div class=\"responsive-image responsive-image--16by9\">\\n                    \\n                        <div class=\"js-delayed-image-load\" data-src=\"http://ichef.bbci.co.uk/news/200/cpsprodpb/10D52/production/_86364986_beata_.jpg\" data-width=\"2048\" data-height=\"1152\" data-alt=\"Beata Syzdlo\"></div>\\n                        <!--[if lt IE 9]>\\n                        <img src=\"http://ichef.bbci.co.uk/news/200/cpsprodpb/10D52/production/_86364986_beata_.jpg\" class=\"js-image-replace\" alt=\"Beata Syzdlo\" width=\"2048\" height=\"1152\" />\\n                        <![endif]-->\\n                </div>\\n            </div>\\n\\n            <div class=\"sparrow-item__body\">\\n                <a href=\"/news/world-europe-34636110\" class=\"title-link\">\\n                    \\n                    <h3 class=\"title-link__title\">\\n                        \\n                        <span class=\"title-link__title-text\">Shaun Ley: Cameron can\\'t expect total support from Poland</span>\\n                    </h3>\\n                </a>                <div class=\"sparrow-item__info\">\\n\\n                    <ul class=\"mini-info-list\">\\n                        <li class=\"mini-info-list__item\"><div class=\"date date--v2\" data-seconds=\"1445997832\" data-datetime=\"28 October 2015\">28 October 2015</div></li>\\n                        <li class=\"mini-info-list__item\"><span class=\"mini-info-list__section-desc off-screen\">From the section </span><a href=\"/news/world/europe\" class=\"mini-info-list__section\" data-entityid=\"section-label\">Europe</a></li>\\n                    </ul>\\n                </div>\\n            </div>\\n\\n            <a href=\"/news/world-europe-34636110\" class=\"faux-block-link__overlay-link\" tabindex=\"-1\" aria-hidden=\"true\">Full article Shaun Ley: Cameron can\\'t expect total support from Poland</a>\\n        </div>\\n    </div>\\n</div>\\n\\n        \\n    </div>\\n\\n                                                                                            \\n\\n    <div id=\"comp-candy-asset-munger\" class=\"distinct-component-group \">\\n        \\n            <h2 class=\"group-title \" data-entityid=\"strapline#features\">\\n    \\n    Features\\n</h2>\\n<div class=\"sparrow-container sparrow-columns\">\\n    <div class=\"sparrow sparrow__3 sparrow__light-3\">\\n        <div class=\"sparrow-item faux-block-link\" data-entityid=\"feature-main#1\">\\n            <div class=\"sparrow-item__image\">\\n                <div class=\"responsive-image responsive-image--16by9\">\\n                    \\n                        <div class=\"js-delayed-image-load\" data-src=\"http://ichef-1.bbci.co.uk/news/200/cpsprodpb/10D48/production/_86363986_hughparsnipspromo.jpg\" data-width=\"976\" data-height=\"549\" data-alt=\"Hugh Fearnley-Whittingstall standing in front of a mountain of parsnips\"></div>\\n                        <!--[if lt IE 9]>\\n                        <img src=\"http://ichef-1.bbci.co.uk/news/200/cpsprodpb/10D48/production/_86363986_hughparsnipspromo.jpg\" class=\"js-image-replace\" alt=\"Hugh Fearnley-Whittingstall standing in front of a mountain of parsnips\" width=\"976\" height=\"549\" />\\n                        <![endif]-->\\n                </div>\\n            </div>\\n\\n            <div class=\"sparrow-item__body\">\\n                <a href=\"/news/magazine-34647454\" class=\"title-link\">\\n                    \\n                    <h3 class=\"title-link__title\">\\n                        \\n                        <span class=\"title-link__title-text\">Insane waste</span>\\n                    </h3>\\n                </a>                    <p class=\"sparrow-item__summary\">The rejected vegetables that aren\\xe2\\x80\\x99t even wonky</p>\\n\\n                <div class=\"sparrow-item__info\">\\n\\n                    <ul class=\"mini-info-list\">\\n                        <li class=\"mini-info-list__item\"><div class=\"date date--v2\" data-seconds=\"1445997390\" data-datetime=\"28 October 2015\">28 October 2015</div></li>\\n                        <li class=\"mini-info-list__item\"><span class=\"mini-info-list__section-desc off-screen\">From the section </span><a href=\"/news/magazine\" class=\"mini-info-list__section\" data-entityid=\"section-label\">Magazine</a></li>\\n                    </ul>\\n                </div>\\n            </div>\\n\\n            <a href=\"/news/magazine-34647454\" class=\"faux-block-link__overlay-link\" tabindex=\"-1\" aria-hidden=\"true\">Full article Insane waste</a>\\n        </div>\\n        <div class=\"sparrow-item faux-block-link\" data-entityid=\"feature-main#2\">\\n            <div class=\"sparrow-item__image\">\\n                <div class=\"responsive-image responsive-image--16by9\">\\n                    <div class=\"responsive-image__inner-for-label\">\\n                        <div class=\"js-delayed-image-load\" data-src=\"http://ichef.bbci.co.uk/news/200/cpsprodpb/16E6E/production/_86360839_de27.jpg\" data-width=\"872\" data-height=\"490\" data-alt=\"Officer drags student across classroom\"></div>\\n                        <!--[if lt IE 9]>\\n                        <img src=\"http://ichef.bbci.co.uk/news/200/cpsprodpb/16E6E/production/_86360839_de27.jpg\" class=\"js-image-replace\" alt=\"Officer drags student across classroom\" width=\"872\" height=\"490\" />\\n                        <![endif]-->\\n                        <div class=\"responsive-image__media-and-live-label\" aria-hidden=\"true\">\\n                                                 \\n                    \\n                            <span class=\"badge-icon-only badge-icon-only--video-for-image\"><span class=\"svg-icon svg-icon--video-dark\"><span class=\"off-screen\"> Video</span></span></span>\\n                    \\n                    \\n                      \\n                    \\n                    \\n                    <span class=\"badge-text-only badge-text-only--duration\">2:17</span>\\n \\n                        </div>\\n                        \\n                    </div>\\n                </div>\\n            </div>\\n\\n            <div class=\"sparrow-item__body\">\\n                <a href=\"/news/world-us-canada-34650711\" class=\"title-link\">\\n                    <span class=\"off-screen\">Video 2:17</span>\\n                    <h3 class=\"title-link__title\">\\n                        \\n                        <span class=\"title-link__title-text\">School clash</span>\\n                    </h3>\\n                </a>                    <p class=\"sparrow-item__summary\">What really happened at Spring Valley High?</p>\\n\\n                <div class=\"sparrow-item__info\">\\n\\n                    <ul class=\"mini-info-list\">\\n                        <li class=\"mini-info-list__item\"><div class=\"date date--v2\" data-seconds=\"1445983482\" data-datetime=\"27 October 2015\">27 October 2015</div></li>\\n                        <li class=\"mini-info-list__item\"><span class=\"mini-info-list__section-desc off-screen\">From the section </span><a href=\"/news/world/us_and_canada\" class=\"mini-info-list__section\" data-entityid=\"section-label\">US &amp; Canada</a></li>\\n                    </ul>\\n                </div>\\n            </div>\\n\\n            <a href=\"/news/world-us-canada-34650711\" class=\"faux-block-link__overlay-link\" tabindex=\"-1\" aria-hidden=\"true\">Full article School clash</a>\\n        </div>\\n        <div class=\"sparrow-item faux-block-link\" data-entityid=\"feature-main#3\">\\n            <div class=\"sparrow-item__image\">\\n                <div class=\"responsive-image responsive-image--16by9\">\\n                    \\n                        <div class=\"js-delayed-image-load\" data-src=\"http://ichef-1.bbci.co.uk/news/200/cpsprodpb/7186/production/_86326092_86326091.jpg\" data-width=\"2048\" data-height=\"1152\" data-alt=\"A homeless man drinks in McDonald\\'s\"></div>\\n                        <!--[if lt IE 9]>\\n                        <img src=\"http://ichef-1.bbci.co.uk/news/200/cpsprodpb/7186/production/_86326092_86326091.jpg\" class=\"js-image-replace\" alt=\"A homeless man drinks in McDonald\\'s\" width=\"2048\" height=\"1152\" />\\n                        <![endif]-->\\n                </div>\\n            </div>\\n\\n            <div class=\"sparrow-item__body\">\\n                <a href=\"/news/world-asia-china-34546807\" class=\"title-link\">\\n                    \\n                    <h3 class=\"title-link__title\">\\n                        \\n                        <span class=\"title-link__title-text\">Hong Kong\\'s \\'McRefugees\\'</span>\\n                    </h3>\\n                </a>                    <p class=\"sparrow-item__summary\">The night time residents of fast-food restaurants</p>\\n\\n                <div class=\"sparrow-item__info\">\\n\\n                    <ul class=\"mini-info-list\">\\n                        <li class=\"mini-info-list__item\"><div class=\"date date--v2\" data-seconds=\"1445979776\" data-datetime=\"27 October 2015\">27 October 2015</div></li>\\n                        <li class=\"mini-info-list__item\"><span class=\"mini-info-list__section-desc off-screen\">From the section </span><a href=\"/news/world/asia/china\" class=\"mini-info-list__section\" data-entityid=\"section-label\">China</a></li>\\n                    </ul>\\n                </div>\\n            </div>\\n\\n            <a href=\"/news/world-asia-china-34546807\" class=\"faux-block-link__overlay-link\" tabindex=\"-1\" aria-hidden=\"true\">Full article Hong Kong\\'s \\'McRefugees\\'</a>\\n        </div>\\n    </div>\\n</div>\\n<div class=\"sparrow-container sparrow-columns\">\\n    <div class=\"sparrow sparrow__3 sparrow__light-3\">\\n        <div class=\"sparrow-item faux-block-link\" data-entityid=\"feature-main#4\">\\n            <div class=\"sparrow-item__image\">\\n                <div class=\"responsive-image responsive-image--16by9\">\\n                    \\n                        <div class=\"js-delayed-image-load\" data-src=\"http://ichef-1.bbci.co.uk/news/200/cpsprodpb/133DF/production/_86351887_heatonabbott3.jpg\" data-width=\"976\" data-height=\"549\" data-alt=\"Paul Heaton and Jacqui Abbot\"></div>\\n                        <!--[if lt IE 9]>\\n                        <img src=\"http://ichef-1.bbci.co.uk/news/200/cpsprodpb/133DF/production/_86351887_heatonabbott3.jpg\" class=\"js-image-replace\" alt=\"Paul Heaton and Jacqui Abbot\" width=\"976\" height=\"549\" />\\n                        <![endif]-->\\n                </div>\\n            </div>\\n\\n            <div class=\"sparrow-item__body\">\\n                <a href=\"/news/entertainment-arts-34647521\" class=\"title-link\">\\n                    \\n                    <h3 class=\"title-link__title\">\\n                        \\n                        <span class=\"title-link__title-text\">Not the Beautiful South</span>\\n                    </h3>\\n                </a>                    <p class=\"sparrow-item__summary\">How Facebook got Paul Heaton and Jacqui Abbott back together</p>\\n\\n                <div class=\"sparrow-item__info\">\\n\\n                    <ul class=\"mini-info-list\">\\n                        <li class=\"mini-info-list__item\"><div class=\"date date--v2\" data-seconds=\"1445997570\" data-datetime=\"28 October 2015\">28 October 2015</div></li>\\n                        <li class=\"mini-info-list__item\"><span class=\"mini-info-list__section-desc off-screen\">From the section </span><a href=\"/news/entertainment_and_arts\" class=\"mini-info-list__section\" data-entityid=\"section-label\">Entertainment &amp; Arts</a></li>\\n                    </ul>\\n                </div>\\n            </div>\\n\\n            <a href=\"/news/entertainment-arts-34647521\" class=\"faux-block-link__overlay-link\" tabindex=\"-1\" aria-hidden=\"true\">Full article Not the Beautiful South</a>\\n        </div>\\n        <div class=\"sparrow-item faux-block-link\" data-entityid=\"feature-main#5\">\\n            <div class=\"sparrow-item__image\">\\n                <div class=\"responsive-image responsive-image--16by9\">\\n                    \\n                        <div class=\"js-delayed-image-load\" data-src=\"http://ichef.bbci.co.uk/news/200/cpsprodpb/4637/production/_86357971_protest_alamy.jpg\" data-width=\"976\" data-height=\"549\" data-alt=\"April, 2015. End Tampon Tax Protest outside Downing Stree\"></div>\\n                        <!--[if lt IE 9]>\\n                        <img src=\"http://ichef.bbci.co.uk/news/200/cpsprodpb/4637/production/_86357971_protest_alamy.jpg\" class=\"js-image-replace\" alt=\"April, 2015. End Tampon Tax Protest outside Downing Stree\" width=\"976\" height=\"549\" />\\n                        <![endif]-->\\n                </div>\\n            </div>\\n\\n            <div class=\"sparrow-item__body\">\\n                <a href=\"/news/magazine-34649495\" class=\"title-link\">\\n                    \\n                    <h3 class=\"title-link__title\">\\n                        \\n                        <span class=\"title-link__title-text\">Tampon tax row</span>\\n                    </h3>\\n                </a>                    <p class=\"sparrow-item__summary\">The mysterious deal on VAT from the 1970s</p>\\n\\n                <div class=\"sparrow-item__info\">\\n\\n                    <ul class=\"mini-info-list\">\\n                        <li class=\"mini-info-list__item\"><div class=\"date date--v2\" data-seconds=\"1446019666\" data-datetime=\"28 October 2015\">28 October 2015</div></li>\\n                        <li class=\"mini-info-list__item\"><span class=\"mini-info-list__section-desc off-screen\">From the section </span><a href=\"/news/magazine\" class=\"mini-info-list__section\" data-entityid=\"section-label\">Magazine</a></li>\\n                        <li class=\"mini-info-list__item\"><span id=\"dna-comment-count___CPS__34649495\" class=\"js-comment-count comment-count\" data-comments-id=\"__CPS__34649495\"></span><span class=\"off-screen\"> comments</span></li>\\n                    </ul>\\n                </div>\\n            </div>\\n\\n            <a href=\"/news/magazine-34649495\" class=\"faux-block-link__overlay-link\" tabindex=\"-1\" aria-hidden=\"true\">Full article Tampon tax row</a>\\n        </div>\\n        <div class=\"sparrow-item faux-block-link\" data-entityid=\"feature-main#6\">\\n            <div class=\"sparrow-item__image\">\\n                <div class=\"responsive-image responsive-image--16by9\">\\n                    <div class=\"responsive-image__inner-for-label\">\\n                        <div class=\"js-delayed-image-load\" data-src=\"http://ichef-1.bbci.co.uk/news/200/cpsprodpb/136F/production/_86357940_chinaplan2.png\" data-width=\"624\" data-height=\"351\" data-alt=\"image from video\"></div>\\n                        <!--[if lt IE 9]>\\n                        <img src=\"http://ichef-1.bbci.co.uk/news/200/cpsprodpb/136F/production/_86357940_chinaplan2.png\" class=\"js-image-replace\" alt=\"image from video\" width=\"624\" height=\"351\" />\\n                        <![endif]-->\\n                        <div class=\"responsive-image__media-and-live-label\" aria-hidden=\"true\">\\n                                                 \\n                    \\n                            <span class=\"badge-icon-only badge-icon-only--video-for-image\"><span class=\"svg-icon svg-icon--video-dark\"><span class=\"off-screen\"> Video</span></span></span>\\n                    \\n                    \\n                      \\n                    \\n                    \\n                    <span class=\"badge-text-only badge-text-only--duration\">1:37</span>\\n \\n                        </div>\\n                        \\n                    </div>\\n                </div>\\n            </div>\\n\\n            <div class=\"sparrow-item__body\">\\n                <a href=\"/news/magazine-34651922\" class=\"title-link\">\\n                    <span class=\"off-screen\">Video 1:37</span>\\n                    <h3 class=\"title-link__title\">\\n                        \\n                        <span class=\"title-link__title-text\">\\xe2\\x80\\x98Trippy\\xe2\\x80\\x99 propaganda</span>\\n                    </h3>\\n                </a>                    <p class=\"sparrow-item__summary\">China\\xe2\\x80\\x99s new way of talking to the world</p>\\n\\n                <div class=\"sparrow-item__info\">\\n\\n                    <ul class=\"mini-info-list\">\\n                        <li class=\"mini-info-list__item\"><div class=\"date date--v2\" data-seconds=\"1445979209\" data-datetime=\"27 October 2015\">27 October 2015</div></li>\\n                        <li class=\"mini-info-list__item\"><span class=\"mini-info-list__section-desc off-screen\">From the section </span><a href=\"/news/magazine\" class=\"mini-info-list__section\" data-entityid=\"section-label\">Magazine</a></li>\\n                    </ul>\\n                </div>\\n            </div>\\n\\n            <a href=\"/news/magazine-34651922\" class=\"faux-block-link__overlay-link\" tabindex=\"-1\" aria-hidden=\"true\">Full article \\xe2\\x80\\x98Trippy\\xe2\\x80\\x99 propaganda</a>\\n        </div>\\n    </div>\\n</div>\\n\\n        \\n    </div>\\n\\n                                                                                            \\n\\n    <div id=\"comp-candy-asset-munger\" class=\"distinct-component-group \">\\n        \\n            <h2 class=\"group-title \" data-entityid=\"strapline#explainers\">\\n    <a href=\"http://www.bbc.co.uk/news/explainers\" class=\"group-title__link\">Explainers</a>\\n    \\n</h2>\\n<div class=\"sparrow-container sparrow-columns\">\\n    <div class=\"sparrow sparrow__3 sparrow__dark\">\\n        <div class=\"sparrow-item faux-block-link\" data-entityid=\"explainers#1\">\\n            <div class=\"sparrow-item__image\">\\n                <div class=\"responsive-image responsive-image--16by9\">\\n                    \\n                        <div class=\"js-delayed-image-load\" data-src=\"http://ichef.bbci.co.uk/news/200/cpsprodpb/C090/production/_85669294_whiterhino.jpg\" data-width=\"976\" data-height=\"549\" data-alt=\"White Rhino\"></div>\\n                        <!--[if lt IE 9]>\\n                        <img src=\"http://ichef.bbci.co.uk/news/200/cpsprodpb/C090/production/_85669294_whiterhino.jpg\" class=\"js-image-replace\" alt=\"White Rhino\" width=\"976\" height=\"549\" />\\n                        <![endif]-->\\n                </div>\\n            </div>\\n\\n            <div class=\"sparrow-item__body\">\\n                <a href=\"/news/science-environment-34527409\" class=\"title-link\">\\n                    \\n                    <h3 class=\"title-link__title\">\\n                        \\n                        <span class=\"title-link__title-text\">Four proposals to save the rhino</span>\\n                    </h3>\\n                </a>                <div class=\"sparrow-item__info\">\\n\\n                    <ul class=\"mini-info-list\">\\n                        <li class=\"mini-info-list__item\"><div class=\"date date--v2\" data-seconds=\"1445997973\" data-datetime=\"28 October 2015\">28 October 2015</div></li>\\n                        <li class=\"mini-info-list__item\"><span class=\"mini-info-list__section-desc off-screen\">From the section </span><a href=\"/news/science_and_environment\" class=\"mini-info-list__section\" data-entityid=\"section-label\">Science &amp; Environment</a></li>\\n                    </ul>\\n                </div>\\n            </div>\\n\\n            <a href=\"/news/science-environment-34527409\" class=\"faux-block-link__overlay-link\" tabindex=\"-1\" aria-hidden=\"true\">Full article Four proposals to save the rhino</a>\\n        </div>\\n        <div class=\"sparrow-item faux-block-link\" data-entityid=\"explainers#2\">\\n            <div class=\"sparrow-item__image\">\\n                <div class=\"responsive-image responsive-image--16by9\">\\n                    \\n                        <div class=\"js-delayed-image-load\" data-src=\"http://ichef-1.bbci.co.uk/news/200/cpsprodpb/0D62/production/_86362430_86362429.jpg\" data-width=\"2048\" data-height=\"1152\" data-alt=\"Jack Dorsey\"></div>\\n                        <!--[if lt IE 9]>\\n                        <img src=\"http://ichef-1.bbci.co.uk/news/200/cpsprodpb/0D62/production/_86362430_86362429.jpg\" class=\"js-image-replace\" alt=\"Jack Dorsey\" width=\"2048\" height=\"1152\" />\\n                        <![endif]-->\\n                </div>\\n            </div>\\n\\n            <div class=\"sparrow-item__body\">\\n                <a href=\"/news/technology-34654894\" class=\"title-link\">\\n                    \\n                    <h3 class=\"title-link__title\">\\n                        \\n                        <span class=\"title-link__title-text\">What Twitter must do to save itself</span>\\n                    </h3>\\n                </a>                <div class=\"sparrow-item__info\">\\n\\n                    <ul class=\"mini-info-list\">\\n                        <li class=\"mini-info-list__item\"><div class=\"date date--v2\" data-seconds=\"1446004526\" data-datetime=\"28 October 2015\">28 October 2015</div></li>\\n                        <li class=\"mini-info-list__item\"><span class=\"mini-info-list__section-desc off-screen\">From the section </span><a href=\"/news/technology\" class=\"mini-info-list__section\" data-entityid=\"section-label\">Technology</a></li>\\n                    </ul>\\n                </div>\\n            </div>\\n\\n            <a href=\"/news/technology-34654894\" class=\"faux-block-link__overlay-link\" tabindex=\"-1\" aria-hidden=\"true\">Full article What Twitter must do to save itself</a>\\n        </div>\\n        <div class=\"sparrow-item faux-block-link\" data-entityid=\"explainers#3\">\\n            <div class=\"sparrow-item__image\">\\n                <div class=\"responsive-image responsive-image--16by9\">\\n                    \\n                        <div class=\"js-delayed-image-load\" data-src=\"http://ichef.bbci.co.uk/news/200/cpsprodpb/8507/production/_86355043_tokyogettyimages.jpg\" data-width=\"976\" data-height=\"549\" data-alt=\"tokyo sexwale waving a symbolic red card at a press conference in october 2015\"></div>\\n                        <!--[if lt IE 9]>\\n                        <img src=\"http://ichef.bbci.co.uk/news/200/cpsprodpb/8507/production/_86355043_tokyogettyimages.jpg\" class=\"js-image-replace\" alt=\"tokyo sexwale waving a symbolic red card at a press conference in october 2015\" width=\"976\" height=\"549\" />\\n                        <![endif]-->\\n                </div>\\n            </div>\\n\\n            <div class=\"sparrow-item__body\">\\n                <a href=\"/news/world-africa-34648914\" class=\"title-link\">\\n                    \\n                    <h3 class=\"title-link__title\">\\n                        \\n                        <span class=\"title-link__title-text\">Can Mandela\\'s ex-prison mate lead Fifa?</span>\\n                    </h3>\\n                </a>                <div class=\"sparrow-item__info\">\\n\\n                    <ul class=\"mini-info-list\">\\n                        <li class=\"mini-info-list__item\"><div class=\"date date--v2\" data-seconds=\"1445997890\" data-datetime=\"28 October 2015\">28 October 2015</div></li>\\n                        <li class=\"mini-info-list__item\"><span class=\"mini-info-list__section-desc off-screen\">From the section </span><a href=\"/news/world/africa\" class=\"mini-info-list__section\" data-entityid=\"section-label\">Africa</a></li>\\n                    </ul>\\n                </div>\\n            </div>\\n\\n            <a href=\"/news/world-africa-34648914\" class=\"faux-block-link__overlay-link\" tabindex=\"-1\" aria-hidden=\"true\">Full article Can Mandela\\'s ex-prison mate lead Fifa?</a>\\n        </div>\\n    </div>\\n</div>\\n\\n        \\n    </div>\\n\\n                                                                                                    <div id=comp-digest-1\\n            class=\"hidden\"\\n            data-post-load-url=\"/news/pattern-library-components?config_path=idx%2Fnews%2Ffront_page&amp;component_id=digest-1&amp;presenter=pattern-library-presenter\">\\n        </div>                                                                                            \\n\\n    <div id=\"comp-pattern-library\" class=\"distinct-component-group container-sport\">\\n        \\n            <h2 class=\"group-title \">\\n    <a href=\"http://m.bbc.co.uk/sport\" class=\"group-title__link\">Sport</a>\\n    \\n</h2>\\n<div class=\"skylark faux-block-link\">\\n    <div class=\"skylark-item\" data-entityid=\"featured-site#1\">\\n            <div class=\"skylark__image\">\\n                <div class=\"responsive-image responsive-image--16by9\">\\n                    \\n                        <div class=\"js-delayed-image-load\" data-src=\"http://ichef-1.bbci.co.uk/news/200/cpsprodpb/9110/production/_86363173_jose_mourinho_chelsea_players_reuters.jpg\" data-width=\"2048\" data-height=\"1152\" data-alt=\"Chelsea manager Jose Mourinho with Eden Hazard, John Terry and Willian\"></div>\\n                        <!--[if lt IE 9]>\\n                        <img src=\"http://ichef-1.bbci.co.uk/news/200/cpsprodpb/9110/production/_86363173_jose_mourinho_chelsea_players_reuters.jpg\" class=\"js-image-replace\" alt=\"Chelsea manager Jose Mourinho with Eden Hazard, John Terry and Willian\" width=\"2048\" height=\"1152\" />\\n                        <![endif]-->\\n                </div>\\n            </div>\\n        <a href=\"/sport/football/34652647\" class=\"title-link\">\\n            \\n            <h3 class=\"title-link__title\">\\n                            \\n            \\n            \\n            <span class=\"badge-text-only badge-text-only--sport\">Sport</span>\\n\\n                <span class=\"title-link__title-text\">Chelsea made critics look stupid despite cup exit - Mourinho</span>\\n            </h3>\\n        </a>        <div class=\"skylark__body\">\\n                <p class=\"skylark__summary\"> </p>\\n            <div class=\"skylark__info-list\">\\n                <ul class=\"mini-info-list\">\\n                    <li class=\"mini-info-list__item\"><div class=\"date date--v2\" data-seconds=\"1445992112\" data-datetime=\"28 October 2015\">28 October 2015</div></li>\\n                    <li class=\"mini-info-list__item\"><span class=\"mini-info-list__section-desc off-screen\">From the section </span><a href=\"/sport/football\" class=\"mini-info-list__section\" data-entityid=\"section-label\">Football</a></li>\\n                </ul>\\n            </div>\\n        </div>\\n        <a href=\"/sport/football/34652647\" class=\"faux-block-link__overlay-link\" tabindex=\"-1\" aria-hidden=\"true\">Full article Chelsea made critics look stupid despite cup exit - Mourinho</a>\\n    </div>\\n</div>\\n<div class=\"sparrow-container sparrow-columns\">\\n    <div class=\"sparrow sparrow__3 sparrow__\">\\n        <div class=\"sparrow-item faux-block-link\" data-entityid=\"featured-site#2\">\\n            <div class=\"sparrow-item__image\">\\n                <div class=\"responsive-image responsive-image--16by9\">\\n                    \\n                        <div class=\"js-delayed-image-load\" data-src=\"http://ichef.bbci.co.uk/news/200/cpsprodpb/14060/production/_86361028_gymnastics_ap.jpg\" data-width=\"624\" data-height=\"351\" data-alt=\"Great Britain\\'s women gymnasts\"></div>\\n                        <!--[if lt IE 9]>\\n                        <img src=\"http://ichef.bbci.co.uk/news/200/cpsprodpb/14060/production/_86361028_gymnastics_ap.jpg\" class=\"js-image-replace\" alt=\"Great Britain\\'s women gymnasts\" width=\"624\" height=\"351\" />\\n                        <![endif]-->\\n                </div>\\n            </div>\\n\\n            <div class=\"sparrow-item__body\">\\n                <a href=\"/sport/gymnastics/34654190\" class=\"title-link\">\\n                    \\n                    <h3 class=\"title-link__title\">\\n                                            \\n                    \\n                    \\n                    <span class=\"badge-text-only badge-text-only--sport\">Sport</span>\\n\\n                        <span class=\"title-link__title-text\">GB women win first ever world team final medal </span>\\n                    </h3>\\n                </a>                <div class=\"sparrow-item__info\">\\n\\n                    <ul class=\"mini-info-list\">\\n                        <li class=\"mini-info-list__item\"><div class=\"date date--v2\" data-seconds=\"1445983401\" data-datetime=\"27 October 2015\">27 October 2015</div></li>\\n                        <li class=\"mini-info-list__item\"><span class=\"mini-info-list__section-desc off-screen\">From the section </span><a href=\"/sport/0/\" class=\"mini-info-list__section\" data-entityid=\"section-label\">Sport</a></li>\\n                    </ul>\\n                </div>\\n            </div>\\n\\n            <a href=\"/sport/gymnastics/34654190\" class=\"faux-block-link__overlay-link\" tabindex=\"-1\" aria-hidden=\"true\">Full article GB women win first ever world team final medal </a>\\n        </div>\\n        <div class=\"sparrow-item faux-block-link\" data-entityid=\"featured-site#3\">\\n            <div class=\"sparrow-item__image\">\\n                <div class=\"responsive-image responsive-image--16by9\">\\n                    \\n                        <div class=\"js-delayed-image-load\" data-src=\"http://ichef.bbci.co.uk/news/200/cpsprodpb/563C/production/_86367022_fotorcreated.jpg\" data-width=\"624\" data-height=\"351\" data-alt=\"Montage\"></div>\\n                        <!--[if lt IE 9]>\\n                        <img src=\"http://ichef.bbci.co.uk/news/200/cpsprodpb/563C/production/_86367022_fotorcreated.jpg\" class=\"js-image-replace\" alt=\"Montage\" width=\"624\" height=\"351\" />\\n                        <![endif]-->\\n                </div>\\n            </div>\\n\\n            <div class=\"sparrow-item__body\">\\n                <a href=\"/sport/live/33998153\" class=\"title-link\">\\n                    \\n                    <h3 class=\"title-link__title\">\\n                                            \\n                    \\n                    \\n                    <span class=\"badge-text-only badge-text-only--sport-live\">Live</span>\\n\\n                        <span class=\"title-link__title-text\">Sportsday</span>\\n                    </h3>\\n                </a>                <div class=\"sparrow-item__info\">\\n\\n                    <ul class=\"mini-info-list\">\\n                        <li class=\"mini-info-list__item\"><span class=\"mini-info-list__section-desc off-screen\">From the section </span><a href=\"/sport/0/\" class=\"mini-info-list__section\" data-entityid=\"section-label\">Sport</a></li>\\n                    </ul>\\n                </div>\\n            </div>\\n\\n            <a href=\"/sport/live/33998153\" class=\"faux-block-link__overlay-link\" tabindex=\"-1\" aria-hidden=\"true\">Full article Sportsday</a>\\n        </div>\\n        <div class=\"sparrow-item faux-block-link\" data-entityid=\"featured-site#4\">\\n            <div class=\"sparrow-item__image\">\\n                <div class=\"responsive-image responsive-image--16by9\">\\n                    \\n                        <div class=\"js-delayed-image-load\" data-src=\"http://ichef.bbci.co.uk/news/200/cpsprodpb/1EB0/production/_86365870_salford_city_bbc.jpg\" data-width=\"2048\" data-height=\"1152\" data-alt=\"Salford City\"></div>\\n                        <!--[if lt IE 9]>\\n                        <img src=\"http://ichef.bbci.co.uk/news/200/cpsprodpb/1EB0/production/_86365870_salford_city_bbc.jpg\" class=\"js-image-replace\" alt=\"Salford City\" width=\"2048\" height=\"1152\" />\\n                        <![endif]-->\\n                </div>\\n            </div>\\n\\n            <div class=\"sparrow-item__body\">\\n                <a href=\"/sport/football/34657302\" class=\"title-link\">\\n                    \\n                    <h3 class=\"title-link__title\">\\n                                            \\n                    \\n                    \\n                    <span class=\"badge-text-only badge-text-only--sport\">Sport</span>\\n\\n                        <span class=\"title-link__title-text\">BBC to show Salford\\'s FA Cup first-round bow</span>\\n                    </h3>\\n                </a>                <div class=\"sparrow-item__info\">\\n\\n                    <ul class=\"mini-info-list\">\\n                        <li class=\"mini-info-list__item\"><div class=\"date date--v2\" data-seconds=\"1446031568\" data-datetime=\"28 October 2015\">28 October 2015</div></li>\\n                        <li class=\"mini-info-list__item\"><span class=\"mini-info-list__section-desc off-screen\">From the section </span><a href=\"/sport/football\" class=\"mini-info-list__section\" data-entityid=\"section-label\">Football</a></li>\\n                    </ul>\\n                </div>\\n            </div>\\n\\n            <a href=\"/sport/football/34657302\" class=\"faux-block-link__overlay-link\" tabindex=\"-1\" aria-hidden=\"true\">Full article BBC to show Salford\\'s FA Cup first-round bow</a>\\n        </div>\\n    </div>\\n</div>\\n\\n        \\n    </div>\\n\\n                                                                                            <div id=\"comp-weather\" class=\"distinct-component-group local-weather\" data-comp-meta=\"{&quot;id&quot;:&quot;comp-weather&quot;,&quot;type&quot;:&quot;weather&quot;,&quot;handler&quot;:&quot;default&quot;,&quot;deviceGroups&quot;:null,&quot;opts&quot;:{&quot;bespoke_old_post_load&quot;:true,&quot;domestic_only&quot;:true,&quot;loading_strategy&quot;:&quot;post_load&quot;,&quot;show_locator&quot;:true,&quot;show_local_news&quot;:true,&quot;show_location&quot;:true,&quot;js_dependencies&quot;:[&quot;components\\\\/weatherAdaptor&quot;,&quot;local\\\\/localSwiftAdapter&quot;],&quot;position_info&quot;:{&quot;instanceNo&quot;:1,&quot;positionInRegion&quot;:13,&quot;lastInRegion&quot;:false,&quot;lastOnPage&quot;:false,&quot;column&quot;:&quot;primary_column&quot;}},&quot;template&quot;:&quot;cirrus:\\\\/component\\\\/weather.spv&quot;}\">\\n    <h2 class=\"local-weather__title\">\\n        <a href=\"/weather\" class=\"local-weather__link right-arrow\">\\n            Weather        </a>\\n    </h2>\\n    <div class=\"local-weather__body\">\\n                    <div class=\"locator\"></div>\\n        \\n                    <div class=\"hidden locator-stories-placeholder\"></div>\\n        \\n                    <div class=\"weather-location \"></div>\\n                <a href=\"/weather\" class=\"weather-forecast\"></a>\\n    </div>\\n</div>                                                                                            <div id=\"ws-promo-title\" class=\"group-title-component\">\\n    <h2 class=\"group-title\">\\n    <a href=\"/ws/languages\" class=\"group-title__link\">News in 27 languages from BBC World Service</a>\\n</h2></div>\\n                                                                                                    <div id=comp-world-service-promo\\n            class=\"hidden\"\\n            data-comp-meta=\"{&quot;id&quot;:&quot;comp-world-service-promo&quot;,&quot;type&quot;:&quot;world-service-promo&quot;,&quot;handler&quot;:&quot;default&quot;,&quot;deviceGroups&quot;:null,&quot;opts&quot;:{&quot;loading_strategy&quot;:&quot;post_load&quot;,&quot;services&quot;:[&quot;mundo&quot;,&quot;portuguese&quot;,&quot;vietnamese&quot;,&quot;russian&quot;,&quot;zhongwen&quot;,&quot;arabic&quot;],&quot;position_info&quot;:{&quot;instanceNo&quot;:1,&quot;positionInRegion&quot;:15,&quot;lastInRegion&quot;:false,&quot;lastOnPage&quot;:false,&quot;column&quot;:&quot;primary_column&quot;}},&quot;template&quot;:&quot;tabloid\\\\/tabloid-shared:\\\\/component\\\\/world-service-promo&quot;}\">\\n        </div>                                                                                                    <div id=comp-world-wide-vertical-promo\\n            class=\"hidden\"\\n            data-comp-meta=\"{&quot;id&quot;:&quot;comp-world-wide-vertical-promo&quot;,&quot;type&quot;:&quot;world-wide-vertical-promo&quot;,&quot;handler&quot;:&quot;default&quot;,&quot;deviceGroups&quot;:null,&quot;opts&quot;:{&quot;loading_strategy&quot;:&quot;post_load&quot;,&quot;original_request_id&quot;:&quot;front_page&quot;,&quot;position_info&quot;:{&quot;instanceNo&quot;:1,&quot;positionInRegion&quot;:16,&quot;lastInRegion&quot;:true,&quot;lastOnPage&quot;:false,&quot;column&quot;:&quot;primary_column&quot;}},&quot;template&quot;:&quot;\\\\/component\\\\/world-wide-vertical-promo&quot;}\">\\n        </div>                                                                        </div>\\n                                     <div class=\"column--secondary\">\\n                                                                            \\n\\n    <div id=\"comp-pattern-library\" class=\"distinct-component-group warbler-av-stories-live wide-only\">\\n        \\n            <h2 class=\"group-title \">\\n    \\n    Watch/Listen\\n</h2>\\n<div class=\"warbler\">\\n    <a href=\"/news/10318089\" class=\"warbler__link\"  data-entityid=\"av-stories-live-wide#1\">\\n            \\n    \\n    <span class=\"badge-text-and-icon badge-text-and-icon--live-video\"><span class=\"svg-icon svg-icon--video-light\"></span><span class=\"badge-text-and-icon__text\">Live</span><span class=\"off-screen\"> video</span></span>\\n    \\n\\n        <h3 class=\"warbler__link-heading\">BBC News Channel</h3></a>\\n    <a href=\"http://www.bbc.co.uk/iplayer/console/bbc_radio_four\" class=\"warbler__link\" data-radio-player-link=\"http://www.bbc.co.uk/iplayer/console/bbc_radio_four\" data-entityid=\"av-stories-live-wide#2\">\\n            \\n    \\n    <span class=\"badge-text-and-icon badge-text-and-icon--live-audio\"><span class=\"svg-icon svg-icon--audio-light\"></span><span class=\"badge-text-and-icon__text\">Live</span><span class=\"off-screen\"> audio</span></span>\\n    \\n\\n        <h3 class=\"warbler__link-heading\">Radio 4 - World At One</h3></a>\\n</div>\\n\\n        \\n    </div>\\n\\n                                                                            \\n<div id=\"bbccom_mpu_4\" class=\"bbccom_slot mpu-ad\"  aria-hidden=\"true\">\\n    <div class=\"bbccom_advert bbccom_display_none\">\\n        <script type=\"text/javascript\">\\n        /*<![CDATA[*/\\n        if (window.bbcdotcom && bbcdotcom.slot) {\\n            bbcdotcom.slot(\\'mpu\\', [4]);\\n        }\\n        /*]]>*/\\n        </script>\\n    </div>\\n    <script type=\"text/javascript\">\\n        /*<![CDATA[*/\\n        if (window.bbcdotcom && bbcdotcom.show) {\\n            bbcdotcom.show()\\n        }\\n        /*]]>*/\\n    </script>\\n</div>                \\n\\n    <div id=\"comp-candy-asset-munger\" class=\"distinct-component-group container-condor wide-only\">\\n        \\n            <div class=\"condor sparrow-container\">\\n    <div class=\"condor-item faux-block-link\" data-entityid=\"av-stories-now#1\">\\n            <div class=\"condor-item__image\">\\n                <div class=\"responsive-image responsive-image--16by9\">\\n                    <div class=\"responsive-image__inner-for-label\">\\n                        <div class=\"js-delayed-image-load\" data-src=\"http://ichef-1.bbci.co.uk/news/200/cpsprodpb/0C18/production/_86369030_p036g4q3.jpg\" data-width=\"1024\" data-height=\"576\" data-alt=\"David Cameron\"></div>\\n                        <!--[if lt IE 9]>\\n                        <img src=\"http://ichef-1.bbci.co.uk/news/200/cpsprodpb/0C18/production/_86369030_p036g4q3.jpg\" class=\"js-image-replace\" alt=\"David Cameron\" width=\"1024\" height=\"576\" />\\n                        <![endif]-->\\n                        <div class=\"responsive-image__media-and-live-label\" aria-hidden=\"true\">\\n                                                 \\n                    \\n                            <span class=\"badge-icon-only badge-icon-only--video-for-image\"><span class=\"svg-icon svg-icon--video-dark\"><span class=\"off-screen\"> Video</span></span></span>\\n                    \\n                    \\n \\n                        </div>\\n                        \\n                    </div>\\n                </div>\\n            </div>\\n        <div class=\"condor-item__body\">\\n            <a href=\"/news/uk-politics-34658626\" class=\"title-link\">\\n                <span class=\"off-screen\">Video </span>\\n                <h3 class=\"title-link__title\">\\n                    \\n                    <span class=\"title-link__title-text\">Cameron asked for tax credits \\'guarantee\\'</span>\\n                </h3>\\n            </a>            <ul class=\"mini-info-list\">\\n                <li class=\"mini-info-list__item\"><div class=\"date date--v2\" data-seconds=\"1446035793\" data-datetime=\"28 October 2015\">28 October 2015</div></li>\\n                <li class=\"mini-info-list__item\"><span class=\"mini-info-list__section-desc off-screen\">From the section </span><a href=\"/news/politics\" class=\"mini-info-list__section\" data-entityid=\"section-label\">UK Politics</a></li>\\n            </ul>\\n        </div>\\n        <a href=\"/news/uk-politics-34658626\" class=\"faux-block-link__overlay-link\" tabindex=\"-1\" aria-hidden=\"true\">Full article Cameron asked for tax credits \\'guarantee\\'</a>\\n    </div>\\n    <div class=\"condor-item faux-block-link\" data-entityid=\"av-stories-now#2\">\\n            <div class=\"condor-item__image\">\\n                <div class=\"responsive-image responsive-image--16by9\">\\n                    <div class=\"responsive-image__inner-for-label\">\\n                        <div class=\"js-delayed-image-load\" data-src=\"http://ichef.bbci.co.uk/news/200/cpsprodpb/C1DA/production/_86362694_86362692.jpg\" data-width=\"640\" data-height=\"360\" data-alt=\"On board the Turkish boat\"></div>\\n                        <!--[if lt IE 9]>\\n                        <img src=\"http://ichef.bbci.co.uk/news/200/cpsprodpb/C1DA/production/_86362694_86362692.jpg\" class=\"js-image-replace\" alt=\"On board the Turkish boat\" width=\"640\" height=\"360\" />\\n                        <![endif]-->\\n                        <div class=\"responsive-image__media-and-live-label\" aria-hidden=\"true\">\\n                                                 \\n                    \\n                            <span class=\"badge-icon-only badge-icon-only--video-for-image\"><span class=\"svg-icon svg-icon--video-dark\"><span class=\"off-screen\"> Video</span></span></span>\\n                    \\n                    \\n                      \\n                    \\n                    \\n                    <span class=\"badge-text-only badge-text-only--duration\">2:00</span>\\n \\n                        </div>\\n                        \\n                    </div>\\n                </div>\\n            </div>\\n        <div class=\"condor-item__body\">\\n            <a href=\"/news/world-europe-34654865\" class=\"title-link\">\\n                <span class=\"off-screen\">Video 2:00</span>\\n                <h3 class=\"title-link__title\">\\n                    \\n                    <span class=\"title-link__title-text\">Migrants left to \\'fend for themselves\\'</span>\\n                </h3>\\n            </a>            <ul class=\"mini-info-list\">\\n                <li class=\"mini-info-list__item\"><div class=\"date date--v2\" data-seconds=\"1446013783\" data-datetime=\"28 October 2015\">28 October 2015</div></li>\\n                <li class=\"mini-info-list__item\"><span class=\"mini-info-list__section-desc off-screen\">From the section </span><a href=\"/news/world/europe\" class=\"mini-info-list__section\" data-entityid=\"section-label\">Europe</a></li>\\n            </ul>\\n        </div>\\n        <a href=\"/news/world-europe-34654865\" class=\"faux-block-link__overlay-link\" tabindex=\"-1\" aria-hidden=\"true\">Full article Migrants left to \\'fend for themselves\\'</a>\\n    </div>\\n    <div class=\"condor-item faux-block-link\" data-entityid=\"av-stories-now#3\">\\n            <div class=\"condor-item__image\">\\n                <div class=\"responsive-image responsive-image--16by9\">\\n                    <div class=\"responsive-image__inner-for-label\">\\n                        <div class=\"js-delayed-image-load\" data-src=\"http://ichef-1.bbci.co.uk/news/200/cpsprodpb/7BF8/production/_86363713_food.jpg\" data-width=\"640\" data-height=\"360\" data-alt=\"Sarah Whitehead\"></div>\\n                        <!--[if lt IE 9]>\\n                        <img src=\"http://ichef-1.bbci.co.uk/news/200/cpsprodpb/7BF8/production/_86363713_food.jpg\" class=\"js-image-replace\" alt=\"Sarah Whitehead\" width=\"640\" height=\"360\" />\\n                        <![endif]-->\\n                        <div class=\"responsive-image__media-and-live-label\" aria-hidden=\"true\">\\n                                                 \\n                    \\n                            <span class=\"badge-icon-only badge-icon-only--video-for-image\"><span class=\"svg-icon svg-icon--video-dark\"><span class=\"off-screen\"> Video</span></span></span>\\n                    \\n                    \\n                      \\n                    \\n                    \\n                    <span class=\"badge-text-only badge-text-only--duration\">1:01</span>\\n \\n                        </div>\\n                        \\n                    </div>\\n                </div>\\n            </div>\\n        <div class=\"condor-item__body\">\\n            <a href=\"/news/health-34655573\" class=\"title-link\">\\n                <span class=\"off-screen\">Video 1:01</span>\\n                <h3 class=\"title-link__title\">\\n                    \\n                    <span class=\"title-link__title-text\">\\'I really worry about feeding my son\\'</span>\\n                </h3>\\n            </a>            <ul class=\"mini-info-list\">\\n                <li class=\"mini-info-list__item\"><div class=\"date date--v2\" data-seconds=\"1446027308\" data-datetime=\"28 October 2015\">28 October 2015</div></li>\\n                <li class=\"mini-info-list__item\"><span class=\"mini-info-list__section-desc off-screen\">From the section </span><a href=\"/news/health\" class=\"mini-info-list__section\" data-entityid=\"section-label\">Health</a></li>\\n            </ul>\\n        </div>\\n        <a href=\"/news/health-34655573\" class=\"faux-block-link__overlay-link\" tabindex=\"-1\" aria-hidden=\"true\">Full article \\'I really worry about feeding my son\\'</a>\\n    </div>\\n    <div class=\"condor-item faux-block-link\" data-entityid=\"av-stories-now#4\">\\n            <div class=\"condor-item__image\">\\n                <div class=\"responsive-image responsive-image--16by9\">\\n                    <div class=\"responsive-image__inner-for-label\">\\n                        <div class=\"js-delayed-image-load\" data-src=\"http://ichef-1.bbci.co.uk/news/200/cpsprodpb/1652C/production/_86363419_86363245.jpg\" data-width=\"976\" data-height=\"549\" data-alt=\"Krzysztof Charamsa and his partner Eduard\"></div>\\n                        <!--[if lt IE 9]>\\n                        <img src=\"http://ichef-1.bbci.co.uk/news/200/cpsprodpb/1652C/production/_86363419_86363245.jpg\" class=\"js-image-replace\" alt=\"Krzysztof Charamsa and his partner Eduard\" width=\"976\" height=\"549\" />\\n                        <![endif]-->\\n                        <div class=\"responsive-image__media-and-live-label\" aria-hidden=\"true\">\\n                                                 \\n                    \\n                            <span class=\"badge-icon-only badge-icon-only--video-for-image\"><span class=\"svg-icon svg-icon--video-dark\"><span class=\"off-screen\"> Video</span></span></span>\\n                    \\n                    \\n                      \\n                    \\n                    \\n                    <span class=\"badge-text-only badge-text-only--duration\">1:28</span>\\n \\n                        </div>\\n                        \\n                    </div>\\n                </div>\\n            </div>\\n        <div class=\"condor-item__body\">\\n            <a href=\"/news/world-europe-34655300\" class=\"title-link\">\\n                <span class=\"off-screen\">Video 1:28</span>\\n                <h3 class=\"title-link__title\">\\n                    \\n                    <span class=\"title-link__title-text\">Gay priest criticises Vatican in letter</span>\\n                </h3>\\n            </a>            <ul class=\"mini-info-list\">\\n                <li class=\"mini-info-list__item\"><div class=\"date date--v2\" data-seconds=\"1446020366\" data-datetime=\"28 October 2015\">28 October 2015</div></li>\\n                <li class=\"mini-info-list__item\"><span class=\"mini-info-list__section-desc off-screen\">From the section </span><a href=\"/news/world/europe\" class=\"mini-info-list__section\" data-entityid=\"section-label\">Europe</a></li>\\n            </ul>\\n        </div>\\n        <a href=\"/news/world-europe-34655300\" class=\"faux-block-link__overlay-link\" tabindex=\"-1\" aria-hidden=\"true\">Full article Gay priest criticises Vatican in letter</a>\\n    </div>\\n    <div class=\"condor-item faux-block-link\" data-entityid=\"av-stories-now#5\">\\n            <div class=\"condor-item__image\">\\n                <div class=\"responsive-image responsive-image--16by9\">\\n                    <div class=\"responsive-image__inner-for-label\">\\n                        <div class=\"js-delayed-image-load\" data-src=\"http://ichef-1.bbci.co.uk/news/200/cpsprodpb/EE30/production/_86367906_7925971-low_res-top-gear.jpg\" data-width=\"640\" data-height=\"360\" data-alt=\"Clarkson\"></div>\\n                        <!--[if lt IE 9]>\\n                        <img src=\"http://ichef-1.bbci.co.uk/news/200/cpsprodpb/EE30/production/_86367906_7925971-low_res-top-gear.jpg\" class=\"js-image-replace\" alt=\"Clarkson\" width=\"640\" height=\"360\" />\\n                        <![endif]-->\\n                        <div class=\"responsive-image__media-and-live-label\" aria-hidden=\"true\">\\n                                                 \\n                    \\n                            <span class=\"badge-icon-only badge-icon-only--audio-for-image\"><span class=\"svg-icon svg-icon--audio-dark\"><span class=\"off-screen\"> Audio</span></span></span>\\n                    \\n                    \\n \\n                        </div>\\n                        \\n                    </div>\\n                </div>\\n            </div>\\n        <div class=\"condor-item__body\">\\n            <a href=\"http://www.bbc.co.uk/programmes/p036fspb\" class=\"title-link\">\\n                \\n                <h3 class=\"title-link__title\">\\n                    \\n                    <span class=\"title-link__title-text\">Top Gear writer: Clarkson let me down</span>\\n                </h3>\\n            </a>            <ul class=\"mini-info-list\">\\n                <li class=\"mini-info-list__item\"><div class=\"date date--v2\" data-seconds=\"1446032631\" data-datetime=\"28 October 2015\">28 October 2015</div></li>\\n            </ul>\\n        </div>\\n        <a href=\"http://www.bbc.co.uk/programmes/p036fspb\" class=\"faux-block-link__overlay-link\" tabindex=\"-1\" aria-hidden=\"true\">Full article Top Gear writer: Clarkson let me down</a>\\n    </div>\\n    <div class=\"condor-item faux-block-link\" data-entityid=\"av-stories-now#6\">\\n            <div class=\"condor-item__image\">\\n                <div class=\"responsive-image responsive-image--16by9\">\\n                    <div class=\"responsive-image__inner-for-label\">\\n                        <div class=\"js-delayed-image-load\" data-src=\"http://ichef-1.bbci.co.uk/news/200/cpsprodpb/12AF8/production/_86363567_86363565.jpg\" data-width=\"640\" data-height=\"360\" data-alt=\"Chocolate dress on catwalk\"></div>\\n                        <!--[if lt IE 9]>\\n                        <img src=\"http://ichef-1.bbci.co.uk/news/200/cpsprodpb/12AF8/production/_86363567_86363565.jpg\" class=\"js-image-replace\" alt=\"Chocolate dress on catwalk\" width=\"640\" height=\"360\" />\\n                        <![endif]-->\\n                        <div class=\"responsive-image__media-and-live-label\" aria-hidden=\"true\">\\n                                                 \\n                    \\n                            <span class=\"badge-icon-only badge-icon-only--video-for-image\"><span class=\"svg-icon svg-icon--video-dark\"><span class=\"off-screen\"> Video</span></span></span>\\n                    \\n                    \\n                      \\n                    \\n                    \\n                    <span class=\"badge-text-only badge-text-only--duration\">0:40</span>\\n \\n                        </div>\\n                        \\n                    </div>\\n                </div>\\n            </div>\\n        <div class=\"condor-item__body\">\\n            <a href=\"/news/world-europe-34655422\" class=\"title-link\">\\n                <span class=\"off-screen\">Video 0:40</span>\\n                <h3 class=\"title-link__title\">\\n                    \\n                    <span class=\"title-link__title-text\">Tasteful fashion: Chocolate clothes on catwalk</span>\\n                </h3>\\n            </a>            <ul class=\"mini-info-list\">\\n                <li class=\"mini-info-list__item\"><div class=\"date date--v2\" data-seconds=\"1446022508\" data-datetime=\"28 October 2015\">28 October 2015</div></li>\\n                <li class=\"mini-info-list__item\"><span class=\"mini-info-list__section-desc off-screen\">From the section </span><a href=\"/news/world/europe\" class=\"mini-info-list__section\" data-entityid=\"section-label\">Europe</a></li>\\n            </ul>\\n        </div>\\n        <a href=\"/news/world-europe-34655422\" class=\"faux-block-link__overlay-link\" tabindex=\"-1\" aria-hidden=\"true\">Full article Tasteful fashion: Chocolate clothes on catwalk</a>\\n    </div>\\n</div>\\n\\n        \\n    </div>\\n\\n                                                                                                    <div id=market_data-markets_index_promo\\n            class=\"hidden\"\\n            data-comp-meta=\"{&quot;id&quot;:&quot;market_data-markets_index_promo&quot;,&quot;type&quot;:&quot;remote-portlet&quot;,&quot;handler&quot;:&quot;remotePortlet&quot;,&quot;deviceGroups&quot;:null,&quot;opts&quot;:{&quot;id&quot;:&quot;market_data\\\\/markets_index_promo&quot;,&quot;loading_strategy&quot;:&quot;post_load&quot;,&quot;position_info&quot;:{&quot;instanceNo&quot;:1,&quot;positionInRegion&quot;:3,&quot;lastInRegion&quot;:false,&quot;lastOnPage&quot;:false,&quot;column&quot;:&quot;secondary_column&quot;}}}\">\\n        </div>                                                                                            <div id=\"ugc-promo-title\" class=\"group-title-component\">\\n    <h2 class=\"group-title\">\\n    <a href=\"/news/have_your_say\" class=\"group-title__link\">Share with BBC News</a>\\n</h2></div>\\n                                                                                            <ul class=\"simple-list\">\\n    <li class=\"simple-list__item\">\\n        <span class=\"simple-list__item-icon svg-icon svg-icon--mobile-smart\" data-grunticon-embed></span>\\n        <span class=\"simple-list__item-label\">Send an SMS or MMS to 61124</span>\\n    </li>\\n    <li class=\"simple-list__item\">\\n        <span class=\"simple-list__item-icon svg-icon svg-icon--email\" data-grunticon-embed></span>\\n        <span class=\"simple-list__item-label\">Email us at <a href=\"mailto:haveyoursay@bbc.co.uk\" class=\"simple-list__link\">haveyoursay@bbc.co.uk</a>\\n</span>\\n    </li>\\n    <li class=\"simple-list__item\">\\n        <span class=\"simple-list__item-icon svg-icon svg-icon--twitter\" data-grunticon-embed></span>\\n        <span class=\"simple-list__item-label\">Follow Have Your Say on <a href=\"https://twitter.com/BBC_HaveYourSay\" class=\"simple-list__link\">Twitter</a>\\n</span>\\n    </li>\\n</ul>\\n                                                                                            \\n\\n    <div id=\"comp-pattern-library\" class=\"distinct-component-group container-follow-us\">\\n        \\n            <h2 class=\"group-title \">\\n    \\n    Follow Us\\n</h2>\\n<ul class=\"bananaquit\">\\n    <li class=\"bananaquit__item\" >\\n        <a class=\"bananaquit__item-link bananaquit__item-link--facebook\" href=\"https://www.facebook.com/bbcnews\">Facebook</a>\\n    </li>\\n    <li class=\"bananaquit__item\" >\\n        <a class=\"bananaquit__item-link bananaquit__item-link--twitter\" href=\"https://twitter.com/BBCNews\">Twitter</a>\\n    </li>\\n</ul><ul class=\"junglefowl\">\\n        <li class=\"junglefowl__item\">\\n            <span class=\"junglefowl__item-icon svg-icon svg-icon--newsletter\" data-grunticon-embed></span>\\n            <a class=\"junglefowl__link\" href=\"http://www.bbc.co.uk/news/help/16617948\">Get BBC News in your inbox</a>\\n        </li>\\n        <li class=\"junglefowl__item\">\\n            <span class=\"junglefowl__item-icon svg-icon svg-icon--rss\" data-grunticon-embed></span>\\n            <a class=\"junglefowl__link\" href=\"http://feeds.bbci.co.uk/news/rss.xml?edition=uk\">RSS News Feed</a>\\n        </li>\\n</ul>\\n        \\n    </div>\\n\\n                                                                                                    <div id=comp-most-popular\\n            class=\"hidden\"\\n            data-comp-meta=\"{&quot;id&quot;:&quot;comp-most-popular&quot;,&quot;type&quot;:&quot;most-popular&quot;,&quot;handler&quot;:&quot;mostPopular&quot;,&quot;deviceGroups&quot;:[&quot;group3&quot;,&quot;group4&quot;],&quot;opts&quot;:{&quot;loading_strategy&quot;:&quot;post_load&quot;,&quot;device_groups&quot;:[&quot;group3&quot;,&quot;group4&quot;],&quot;position_info&quot;:{&quot;instanceNo&quot;:1,&quot;positionInRegion&quot;:7,&quot;lastInRegion&quot;:false,&quot;lastOnPage&quot;:false,&quot;column&quot;:&quot;secondary_column&quot;}}}\">\\n        </div>                                                                                            \\n\\n    <div id=\"comp-candy-asset-munger\" class=\"distinct-component-group container-heron\">\\n        \\n            <h2 class=\"group-title \" data-entityid=\"strapline#elsewhere_on_the_bbc\">\\n    \\n    Elsewhere on the BBC\\n</h2>\\n<div class=\"heron\">\\n    <div class=\"heron__item faux-block-link\" data-entityid=\"hyper-promotional-content#1\">\\n        <div class=\"heron__item-image\">\\n        <div class=\"responsive-image responsive-image--16by9\">\\n            \\n                <div class=\"js-delayed-image-load\" data-src=\"http://ichef.bbci.co.uk/news/200/cpsprodpb/262A/production/_86207790_halloween_lantern_pumpkin_gettyimages-77589462.jpg\" data-width=\"1600\" data-height=\"900\" data-alt=\"Halloween pumpkins\"></div>\\n                <!--[if lt IE 9]>\\n                <img src=\"http://ichef.bbci.co.uk/news/200/cpsprodpb/262A/production/_86207790_halloween_lantern_pumpkin_gettyimages-77589462.jpg\" class=\"js-image-replace\" alt=\"Halloween pumpkins\" width=\"1600\" height=\"900\" />\\n                <![endif]-->\\n        </div>\\n        </div>\\n        <div class=\"heron__item-body\">\\n            <a href=\"http://www.bbc.co.uk/guides/zpbq6fr\" class=\"title-link\">\\n                \\n                <h3 class=\"title-link__title\">\\n                    \\n                    <span class=\"title-link__title-text\">Halloween</span>\\n                </h3>\\n            </a>            <p class=\"heron__item-summary\">Are we doing it wrong?</p>\\n        </div>\\n        <a href=\"http://www.bbc.co.uk/guides/zpbq6fr\" class=\"faux-block-link__overlay-link\" tabindex=\"-1\" aria-hidden=\"true\">Full article Halloween</a>\\n    </div>\\n    <div class=\"heron__item faux-block-link\" data-entityid=\"hyper-promotional-content#2\">\\n        <div class=\"heron__item-image\">\\n        <div class=\"responsive-image responsive-image--16by9\">\\n            \\n                <div class=\"js-delayed-image-load\" data-src=\"http://ichef.bbci.co.uk/news/200/cpsprodpb/185BF/production/_86357799_rutger.jpg\" data-width=\"624\" data-height=\"351\" data-alt=\"Rutger Hauer\"></div>\\n                <!--[if lt IE 9]>\\n                <img src=\"http://ichef.bbci.co.uk/news/200/cpsprodpb/185BF/production/_86357799_rutger.jpg\" class=\"js-image-replace\" alt=\"Rutger Hauer\" width=\"624\" height=\"351\" />\\n                <![endif]-->\\n        </div>\\n        </div>\\n        <div class=\"heron__item-body\">\\n            <a href=\"http://www.bbc.co.uk/programmes/profiles/4Z8NSPnyRH9sZPjBMG6rJJp/ravn?intc_type=promo&amp;intc_location=news&amp;intc_campaign=rutgerhauer&amp;intc_linkname=bbctwo_fac_article1\" class=\"title-link\">\\n                \\n                <h3 class=\"title-link__title\">\\n                    \\n                    <span class=\"title-link__title-text\">Viking veneer</span>\\n                </h3>\\n            </a>            <p class=\"heron__item-summary\">Who\\'s the Hollywood star behind the hair?</p>\\n        </div>\\n        <a href=\"http://www.bbc.co.uk/programmes/profiles/4Z8NSPnyRH9sZPjBMG6rJJp/ravn?intc_type=promo&amp;intc_location=news&amp;intc_campaign=rutgerhauer&amp;intc_linkname=bbctwo_fac_article1\" class=\"faux-block-link__overlay-link\" tabindex=\"-1\" aria-hidden=\"true\">Full article Viking veneer</a>\\n    </div>\\n</div>\\n\\n        \\n    </div>\\n\\n                                \\n<div id=\"bbccom_native_1_2_3_4\" class=\"bbccom_slot native-ad\"  >\\n    <div class=\"bbccom_advert bbccom_display_none\">\\n        <script type=\"text/javascript\">\\n        /*<![CDATA[*/\\n        if (window.bbcdotcom && bbcdotcom.slot) {\\n            bbcdotcom.slot(\\'native\\', [1,2,3,4]);\\n        }\\n        /*]]>*/\\n        </script>\\n    </div>\\n    <script type=\"text/javascript\">\\n        /*<![CDATA[*/\\n        if (window.bbcdotcom && bbcdotcom.show) {\\n            bbcdotcom.show()\\n        }\\n        /*]]>*/\\n    </script>\\n</div>\\n<div id=\"bbccom_mpu_bottom_1_2_3_4\" class=\"bbccom_slot mpu-bottom-ad\"  aria-hidden=\"true\">\\n    <div class=\"bbccom_advert bbccom_display_none\">\\n        <script type=\"text/javascript\">\\n        /*<![CDATA[*/\\n        if (window.bbcdotcom && bbcdotcom.slot) {\\n            bbcdotcom.slot(\\'mpu_bottom\\', [1,2,3,4]);\\n        }\\n        /*]]>*/\\n        </script>\\n    </div>\\n    <script type=\"text/javascript\">\\n        /*<![CDATA[*/\\n        if (window.bbcdotcom && bbcdotcom.show) {\\n            bbcdotcom.show()\\n        }\\n        /*]]>*/\\n    </script>\\n</div>\\n<div id=\"bbccom_adsense_1_2_3_4\" class=\"bbccom_slot adsense-ad\"  aria-hidden=\"true\">\\n    <div class=\"bbccom_advert bbccom_display_none\">\\n        <script type=\"text/javascript\">\\n        /*<![CDATA[*/\\n        if (window.bbcdotcom && bbcdotcom.slot) {\\n            bbcdotcom.slot(\\'adsense\\', [1,2,3,4]);\\n        }\\n        /*]]>*/\\n        </script>\\n    </div>\\n    <script type=\"text/javascript\">\\n        /*<![CDATA[*/\\n        if (window.bbcdotcom && bbcdotcom.show) {\\n            bbcdotcom.show()\\n        }\\n        /*]]>*/\\n    </script>\\n</div>                                        </div>\\n             </div>                          <div class=\"column--single-bottom\">\\n                                                                                    <div id=comp-picture-gallery-promo\\n            class=\"hidden\"\\n            data-post-load-url=\"/news/pattern-library-components?options%5Blink_location%5D=pictures&amp;options%5Bgroup_type%5D=picture-gallery-stories&amp;options%5Bcontainer_class%5D=container-parakeet&amp;options%5Bid%5D=picture-gallery-promo&amp;options%5Bloading_strategy%5D=post_load&amp;options%5Bcomponents%5D%5B0%5D%5Bname%5D=parakeet&amp;options%5Bcomponents%5D%5B0%5D%5Blimit%5D=5&amp;options%5Bcomponents%5D%5B0%5D%5Bitem_slices%5D%5B0%5D=1&amp;options%5Basset_id%5D=front_page\">\\n        </div>                                                                                                    <div id=comp-digest-2\\n            class=\"hidden\"\\n            data-post-load-url=\"/news/pattern-library-components?config_path=idx%2Fnews%2Ffront_page&amp;component_id=digest-2&amp;presenter=pattern-library-presenter\">\\n        </div>                                                                        </div>\\n                </div> </div>      </div> \\n  \\n\\n<div id=\"core-navigation\" class=\"navigation--footer\">\\n    <h2 class=\"navigation--footer__heading\">News navigation</h2>\\n\\n    \\n    <nav id=\"navigation--bottom\" class=\"navigation navigation--bottom \" role=\"navigation\" aria-label=\"News\">\\n                    <span class=\"navigation-core-title\">Sections</span>\\n                <ul class=\"navigation--bottom__toplevel\">\\n                        <li class=\"selected \">\\n                    <a href=\"/news\" class=\"\">\\n                        <span>Home</span>\\n                    </a>\\n                     <span class=\"off-screen\">selected</span>                                    </li>\\n                            <li class=\"navigation-list-item--open\">\\n                    <a href=\"/news/uk\" data-panel-id=\"js-navigation-panel-UK\" class=\"navigation-arrow navigation-arrow--open\">\\n                        <span>UK</span>\\n                    </a>\\n                                                                <div class=\"navigation-panel js-navigation-panel-UK\">\\n                            <div class=\"navigation-panel__content\">\\n                                <ul class=\"navigation-panel-secondary\">\\n                                    <li><a href=\"/news/uk\"><span>UK Home</span></a></li>\\n                                                                            <li>\\n                                            <a href=\"/news/england\"><span>England</span></a>                                        </li>\\n                                                                            <li>\\n                                            <a href=\"/news/northern_ireland\"><span>N. Ireland</span></a>                                        </li>\\n                                                                            <li>\\n                                            <a href=\"/news/scotland\"><span>Scotland</span></a>                                        </li>\\n                                                                            <li>\\n                                            <a href=\"/naidheachdan\"><span>Alba</span></a>                                        </li>\\n                                                                            <li>\\n                                            <a href=\"/news/wales\"><span>Wales</span></a>                                        </li>\\n                                                                            <li>\\n                                            <a href=\"/cymrufyw\"><span>Cymru</span></a>                                        </li>\\n                                                                    </ul>\\n                            </div>\\n                        </div>\\n                                    </li>\\n                            <li class=\"\">\\n                    <a href=\"/news/world\" data-panel-id=\"js-navigation-panel-World\" class=\"navigation-arrow\">\\n                        <span>World</span>\\n                    </a>\\n                                                                <div class=\"navigation-panel navigation-panel--closed js-navigation-panel-World\">\\n                            <div class=\"navigation-panel__content\">\\n                                <ul class=\"navigation-panel-secondary\">\\n                                    <li><a href=\"/news/world\"><span>World Home</span></a></li>\\n                                                                            <li>\\n                                            <a href=\"/news/world/africa\"><span>Africa</span></a>                                        </li>\\n                                                                            <li>\\n                                            <a href=\"/news/world/asia\"><span>Asia</span></a>                                        </li>\\n                                                                            <li>\\n                                            <a href=\"/news/world/australia\"><span>Australia</span></a>                                        </li>\\n                                                                            <li>\\n                                            <a href=\"/news/world/europe\"><span>Europe</span></a>                                        </li>\\n                                                                            <li>\\n                                            <a href=\"/news/world/latin_america\"><span>Latin America</span></a>                                        </li>\\n                                                                            <li>\\n                                            <a href=\"/news/world/middle_east\"><span>Middle East</span></a>                                        </li>\\n                                                                            <li>\\n                                            <a href=\"/news/world/us_and_canada\"><span>US &amp; Canada</span></a>                                        </li>\\n                                                                    </ul>\\n                            </div>\\n                        </div>\\n                                    </li>\\n                            <li class=\"\">\\n                    <a href=\"/news/business\" data-panel-id=\"js-navigation-panel-Business\" class=\"navigation-arrow\">\\n                        <span>Business</span>\\n                    </a>\\n                                                                <div class=\"navigation-panel navigation-panel--closed js-navigation-panel-Business\">\\n                            <div class=\"navigation-panel__content\">\\n                                <ul class=\"navigation-panel-secondary\">\\n                                    <li><a href=\"/news/business\"><span>Business Home</span></a></li>\\n                                                                            <li>\\n                                            <a href=\"/news/business/your_money\"><span>Your Money</span></a>                                        </li>\\n                                                                            <li>\\n                                            <a href=\"http://www.bbc.co.uk/news/business/market_data\"><span>Market Data</span></a>                                        </li>\\n                                                                            <li>\\n                                            <a href=\"/news/business/markets\"><span>Markets</span></a>                                        </li>\\n                                                                            <li>\\n                                            <a href=\"/news/business/companies\"><span>Companies</span></a>                                        </li>\\n                                                                            <li>\\n                                            <a href=\"/news/business/economy\"><span>Economy</span></a>                                        </li>\\n                                                                    </ul>\\n                            </div>\\n                        </div>\\n                                    </li>\\n                            <li class=\"\">\\n                    <a href=\"/news/politics\" data-panel-id=\"js-navigation-panel-Politics\" class=\"navigation-arrow\">\\n                        <span>Politics</span>\\n                    </a>\\n                                                                <div class=\"navigation-panel navigation-panel--closed js-navigation-panel-Politics\">\\n                            <div class=\"navigation-panel__content\">\\n                                <ul class=\"navigation-panel-secondary\">\\n                                    <li><a href=\"/news/politics\"><span>Politics Home</span></a></li>\\n                                                                            <li>\\n                                            <a href=\"/news/politics/parliaments\"><span>Parliaments</span></a>                                        </li>\\n                                                                            <li>\\n                                            <a href=\"/news/election/2015\"><span>Election 2015</span></a>                                        </li>\\n                                                                            <li>\\n                                            <a href=\"/news/events/vote2014\"><span>Vote 2014</span></a>                                        </li>\\n                                                                    </ul>\\n                            </div>\\n                        </div>\\n                                    </li>\\n                            <li class=\"\">\\n                    <a href=\"/news/technology\" class=\"\">\\n                        <span>Tech</span>\\n                    </a>\\n                                                        </li>\\n                            <li class=\"\">\\n                    <a href=\"/news/science_and_environment\" class=\"\">\\n                        <span>Science</span>\\n                    </a>\\n                                                        </li>\\n                            <li class=\"\">\\n                    <a href=\"/news/health\" class=\"\">\\n                        <span>Health</span>\\n                    </a>\\n                                                        </li>\\n                            <li class=\"\">\\n                    <a href=\"/news/education\" data-panel-id=\"js-navigation-panel-Education\" class=\"navigation-arrow\">\\n                        <span>Education</span>\\n                    </a>\\n                                                                <div class=\"navigation-panel navigation-panel--closed js-navigation-panel-Education\">\\n                            <div class=\"navigation-panel__content\">\\n                                <ul class=\"navigation-panel-secondary\">\\n                                    <li><a href=\"/news/education\"><span>Education Home</span></a></li>\\n                                                                            <li>\\n                                            <a href=\"/schoolreport\"><span>School Report</span></a>                                        </li>\\n                                                                    </ul>\\n                            </div>\\n                        </div>\\n                                    </li>\\n                            <li class=\"\">\\n                    <a href=\"/news/entertainment_and_arts\" class=\"\">\\n                        <span>Entertainment &amp; Arts</span>\\n                    </a>\\n                                                        </li>\\n                            <li class=\"\">\\n                    <a href=\"/news/video_and_audio/video\" class=\"\">\\n                        <span>Video &amp; Audio</span>\\n                    </a>\\n                                                        </li>\\n                            <li class=\"\">\\n                    <a href=\"/news/magazine\" class=\"\">\\n                        <span>Magazine</span>\\n                    </a>\\n                                                        </li>\\n                            <li class=\"\">\\n                    <a href=\"/news/in_pictures\" class=\"\">\\n                        <span>In Pictures</span>\\n                    </a>\\n                                                        </li>\\n                            <li class=\"\">\\n                    <a href=\"/news/also_in_the_news\" class=\"\">\\n                        <span>Also in the News</span>\\n                    </a>\\n                                                        </li>\\n                            <li class=\"\">\\n                    <a href=\"/news/special_reports\" class=\"\">\\n                        <span>Special Reports</span>\\n                    </a>\\n                                                        </li>\\n                            <li class=\"\">\\n                    <a href=\"/news/explainers\" class=\"\">\\n                        <span>Explainers</span>\\n                    </a>\\n                                                        </li>\\n                            <li class=\"\">\\n                    <a href=\"/news/the_reporters\" class=\"\">\\n                        <span>The Reporters</span>\\n                    </a>\\n                                                        </li>\\n                            <li class=\"\">\\n                    <a href=\"/news/have_your_say\" class=\"\">\\n                        <span>Have Your Say</span>\\n                    </a>\\n                                                        </li>\\n                            <li class=\"\">\\n                    <a href=\"/news/disability\" class=\"\">\\n                        <span>Disability</span>\\n                    </a>\\n                                                        </li>\\n                    </ul>\\n    </nav>\\n</div>\\n   <div id=\"services-bar\" class=\"blue-tit\" role=\"navigation\" aria-label=\"BBC News Services\">\\n    <div class=\"blue-tit__inner\">\\n        <h2 class=\"blue-tit__title\">BBC News Services</h2>\\n        <ul class=\"blue-tit__list\">\\n            <li class=\"blue-tit__list-item\">\\n                <a href=\"http://www.bbc.co.uk/news/10628994\" class=\"blue-tit__list-item-link mobile\">On your mobile</a>\\n            </li>\\n            <li class=\"blue-tit__list-item\">\\n                <a href=\"http://www.bbc.co.uk/news/help-17655000\" class=\"blue-tit__list-item-link connected-tv\">On your connected TV</a>\\n            </li>\\n            <li class=\"blue-tit__list-item\">\\n                <a href=\"http://www.bbc.co.uk/news/10628323\" class=\"blue-tit__list-item-link newsletter\">Get news alerts</a>\\n            </li>\\n            <li class=\"blue-tit__list-item\">\\n                <a href=\"http://www.bbc.co.uk/news/20039682\" class=\"blue-tit__list-item-link contact-us\">Contact BBC News</a>\\n            </li>\\n        </ul>\\n    </div>\\n</div>\\n </div><!-- closes #site-container -->      </div> <div id=\"orb-footer\"  class=\"orb-footer orb-footer-grey \" >  <div id=\"navp-orb-footer-promo\" class=\"orb-footer-grey\"></div>  <aside role=\"complementary\"> <div id=\"orb-aside\" class=\"orb-nav-sec b-r b-g-p\"> <div class=\"orb-footer-inner\" role=\"navigation\"> <h2 class=\"orb-footer-lead\">Explore the BBC</h2> <div class=\"orb-footer-primary-links\"> <ul>    <li  class=\"orb-nav-news orb-d\"  > <a href=\"http://www.bbc.co.uk/news/\">News</a> </li>    <li  class=\"orb-nav-newsdotcom orb-w\"  > <a href=\"http://www.bbc.com/news/\">News</a> </li>    <li  class=\"orb-nav-sport\"  > <a href=\"/sport/\">Sport</a> </li>    <li  class=\"orb-nav-weather\"  > <a href=\"/weather/\">Weather</a> </li>    <li  class=\"orb-nav-shop orb-w\"  > <a href=\"http://shop.bbc.com/\">Shop</a> </li>    <li  class=\"orb-nav-earthdotcom orb-w\"  > <a href=\"http://www.bbc.com/earth/\">Earth</a> </li>    <li  class=\"orb-nav-travel-dotcom orb-w\"  > <a href=\"http://www.bbc.com/travel/\">Travel</a> </li>    <li  class=\"orb-nav-capital orb-w\"  > <a href=\"http://www.bbc.com/capital/\">Capital</a> </li>    <li  class=\"orb-nav-iplayer orb-d\"  > <a href=\"/iplayer/\">iPlayer</a> </li>    <li  class=\"orb-nav-culture orb-w\"  > <a href=\"http://www.bbc.com/culture/\">Culture</a> </li>    <li  class=\"orb-nav-autos orb-w\"  > <a href=\"http://www.bbc.com/autos/\">Autos</a> </li>    <li  class=\"orb-nav-future orb-w\"  > <a href=\"http://www.bbc.com/future/\">Future</a> </li>    <li  class=\"orb-nav-tv\"  > <a href=\"/tv/\">TV</a> </li>    <li  class=\"orb-nav-radio\"  > <a href=\"/radio/\">Radio</a> </li>    <li  class=\"orb-nav-cbbc\"  > <a href=\"/cbbc\">CBBC</a> </li>    <li  class=\"orb-nav-cbeebies\"  > <a href=\"/cbeebies\">CBeebies</a> </li>    <li  class=\"orb-nav-food\"  > <a href=\"/food/\">Food</a> </li>    <li  class=\"orb-nav-arts orb-d\"  > <a href=\"/arts/\">Arts</a> </li>    <li  class=\"orb-nav-makeitdigital\"  > <a href=\"/makeitdigital\">Make It Digital</a> </li>    <li  > <a href=\"/iwonder\">iWonder</a> </li>    <li  > <a href=\"/education\">Bitesize</a> </li>    <li  class=\"orb-nav-music\"  > <a href=\"/music/\">Music</a> </li>    <li  class=\"orb-nav-nature orb-w\"  > <a href=\"/nature/\">Nature</a> </li>    <li  class=\"orb-nav-earth orb-d\"  > <a href=\"http://www.bbc.com/earth/\">Earth</a> </li>    <li  class=\"orb-nav-local\"  > <a href=\"/local/\">Local</a> </li>    <li  class=\"orb-nav-travel orb-d\"  > <a href=\"/travel/\">Travel</a> </li>    </ul> </div> </div> </div> </aside> <footer role=\"contentinfo\"> <div id=\"orb-contentinfo\" class=\"orb-nav-sec b-r b-g-p\"> <div class=\"orb-footer-inner\"> <ul>        <li  > <a href=\"/terms/\">Terms of Use</a> </li>    <li  > <a href=\"/aboutthebbc/\">About the BBC</a> </li>    <li  > <a href=\"/privacy/\">Privacy Policy</a> </li>    <li  > <a href=\"/privacy/cookies/about\">Cookies</a> </li>    <li  > <a href=\"/accessibility/\">Accessibility Help</a> </li>    <li  > <a href=\"/guidance/\">Parental Guidance</a> </li>    <li  > <a href=\"/contact/\">Contact the BBC</a> </li>        <li  class=\" orb-w\"  > <a href=\"http://advertising.bbcworldwide.com/\">Advertise with us</a> </li>    <li  class=\" orb-w\"  > <a href=\"/privacy/cookies/international/\">Ad choices</a> </li>    </ul> <small> <span class=\"orb-hilight\">Copyright &copy; 2015 BBC.</span> The BBC is not responsible for the content of external sites. <a href=\"/help/web/links/\" class=\"orb-hilight\">Read about our approach to external linking.</a> </small> </div> </div> </footer> </div>     <!-- BBCDOTCOM bodyLast --><div class=\"bbccom_display_none\"><script type=\"text/javascript\"> /*<![CDATA[*/ if (window.bbcdotcom && window.bbcdotcom.analytics) { bbcdotcom.analytics.page(); } if (window.bbcdotcom && bbcdotcom.currencyProviders) { bbcdotcom.currencyProviders.write(); } /*]]>*/ </script><script type=\"text/javascript\"> /*<![CDATA[*/ if (window.bbcdotcom && bbcdotcom.currencyProviders) { bbcdotcom.currencyProviders.postWrite(); } /*]]>*/ </script><script type=\"text/javascript\"> /*<![CDATA[*/ /** * ASNYC waits to make any gpt requests until the bottom of the page */ /*]]>*/ </script><script type=\"text/javascript\"> /*<![CDATA[*/ if (window.bbcdotcom && bbcdotcom.data && bbcdotcom.data.stats && bbcdotcom.data.stats === 1 && bbcdotcom.utils && window.location.pathname === \\'/\\' && window.bbccookies && bbccookies.readPolicy(\\'performance\\') ) { var wwhpEdition = bbcdotcom.utils.getMetaPropertyContent(\\'wwhp-edition\\'); var _sf_async_config={}; /** CONFIGURATION START **/ _sf_async_config.uid = 50924; _sf_async_config.domain = \"bbc.co.uk\"; _sf_async_config.title = \"Homepage\"+(wwhpEdition !== \\'\\' ? \\' - \\'+wwhpEdition : \\'\\'); _sf_async_config.sections = \"Homepage\"+(wwhpEdition !== \\'\\' ? \\', Homepage - \\'+wwhpEdition : \\'\\'); _sf_async_config.region = wwhpEdition; _sf_async_config.path = \"/\"+(wwhpEdition !== \\'\\' ? \\'?\\'+wwhpEdition : \\'\\'); /** CONFIGURATION END **/ (function(){ function loadChartbeat() { window._sf_endpt=(new Date()).getTime(); var e = document.createElement(\"script\"); e.setAttribute(\"language\", \"javascript\"); e.setAttribute(\"type\", \"text/javascript\"); e.setAttribute(\\'src\\', \\'//static.chartbeat.com/js/chartbeat.js\\'); document.body.appendChild(e); } var oldonload = window.onload; window.onload = (typeof window.onload != \"function\") ? loadChartbeat : function() { oldonload(); loadChartbeat(); }; })(); } /*]]>*/ </script></div> <!-- BBCDOTCOM all code in page -->  <script type=\"text/javascript\"> document.write(\\'<\\' + \\'script id=\"orb-js-script\" data-assetpath=\"http://static.bbci.co.uk/frameworks/barlesque/2.91.2/orb/4/\" src=\"http://static.bbci.co.uk/frameworks/barlesque/2.91.2/orb/4/script/orb.min.js\"><\\' + \\'/script>\\'); </script>  <script type=\"text/javascript\"> (function() {\\n    \\'use strict\\';\\n\\n    var promoManager = {\\n        url: \\'\\',\\n        promoLoaded: false,\\n                makeUrl: function (theme, site, win) {\\n            var loc = win? win.location : window.location,\\n                proto = loc.protocol,\\n                host = loc.host,\\n                url = proto + \\'//\\' + ((proto.match(/s:/i) && !host.match(/^www\\\\.(int|test)\\\\./i))? \\'ssl.\\' : \\'www.\\'),\\n                themes = [\\'light\\', \\'dark\\'];\\n\\n            if ( host.match(/^(?:www|ssl|m)\\\\.(int|test|stage|live)\\\\.bbc\\\\./i) ) {\\n                url += RegExp.$1 + \\'.\\';\\n            }\\n            else if ( host.match(/^pal\\\\.sandbox\\\\./i) ) {\\n                url += \\'test.\\';\\n            }\\n\\n                        theme = themes[ +(theme === themes[0]) ];\\n           \\n           return url + \\'bbc.co.uk/navpromo/card/\\' + site + \\'/\\' + theme;\\n        },\\n                init: function(node) {\\n            var disabledByCookie = (document.cookie.indexOf(\\'ckns_orb_nopromo=1\\') > -1),\\n                that = this;\\n            \\n            if (window.promomanagerOverride) {\\n                for (var p in promomanagerOverride) {\\n                    that[p] = promomanagerOverride[p];\\n                }\\n            }\\n                \\n            if ( window.orb.fig(\\'uk\\') && !disabledByCookie ) {\\n                require([\\'orb/async/_footerpromo\\', \\'istats-1\\'], function(promo, istats) {\\n\\n                    var virtualSite = istats.getSite() || \\'default\\';\\n                    that.url = (window.promomanagerOverride || that).makeUrl(\\'light\\', virtualSite);\\n\\n                    if (that.url) { \\n                        promo.load(that.url, node, {\\n                                                          onSuccess: function(e) {\\n                                if(e.status === \\'success\\') {\\n                                    node.parentNode.className = node.parentNode.className + \\' orb-footer-promo-loaded\\';\\n                                    promoManager.promoLoaded = true;\\n                                    promoManager.event(\\'promo-loaded\\').fire(e);\\n                                }\\n                             },\\n                             onError: function() {\\n                                istats.log(\\'error\\', \\'orb-footer-promo-failed\\');\\n                                bbccookies.set(\\'ckns_orb_nopromo=1; expires=\\' + new Date(new Date().getTime() + 1000 * 60 * 10).toGMTString() + \\';path=/;\\');\\n                             }\\n                        });   \\n                    }\\n                });\\n            }\\n        }\\n    };\\n    \\n        \\n    define(\\'orb/promomanager\\', [\\'orb/lib/_event\\'], function (event) {\\n        event.mixin(promoManager);\\n        return promoManager;\\n    });\\n    \\n    require([\\'orb/promomanager\\'], function (promoManager) {\\n        promoManager.init(document.getElementById(\\'navp-orb-footer-promo\\'));\\n    })\\n})();\\n </script>   <script type=\"text/javascript\"> if (typeof require !== \\'undefined\\') { require([\\'istats-1\\'], function(istats){ istats.track(\\'external\\', { region: document.getElementsByTagName(\\'body\\')[0] }); istats.track(\\'download\\', { region: document.getElementsByTagName(\\'body\\')[0] }); }); }  </script>                   <script> window.old_onload = window.onload; window.onload = function() { if(window.old_onload) { window.old_onload(); } window.loaded = true; }; </script> <!-- Chartbeat Web Analytics code - start -->\\n<script type=\"text/javascript\">\\n    var _sf_async_config={};\\n    /** CONFIGURATION START **/\\n    _sf_async_config.uid = \"50924\";\\n    _sf_async_config.domain = \"www.bbc.co.uk\";\\n    _sf_async_config.sections = \"News, News - home, News - IDX, News - home - IDX\";\\n    <!-- if page is an index, add the edition to the path -->\\n    _sf_async_config.path = \"bbc.co.uk/news/?domestic\";\\n    _sf_async_config.title = \"BBC News - Home - domestic\";\\n    (function() {\\n        var noCookies = true;\\n        var cookiePrefix = \\'_chartbeat\\';\\n        if (\"object\" === typeof bbccookies && typeof bbccookies.readPolicy == \\'function\\') {\\n            noCookies = !bbccookies.readPolicy().performance;\\n        }\\n        if (noCookies && document.cookie.indexOf(cookiePrefix) !== -1) {\\n            //Find and remove cookies whose names begin with \\'_chartbeat\\'\\n            var cookieSplit = document.cookie.split(\\';\\');\\n            var cookieLength = cookieSplit.length;\\n            while (cookieLength--) {\\n                var cookie = cookieSplit[cookieLength].replace(/^\\\\s+|\\\\s+$/g, \\'\\');\\n                var cookieName = cookie.split(\\'=\\')[0];\\n\\n                if (cookieName.indexOf(cookiePrefix) === 0) {\\n                    document.cookie = cookieName + \\'=; expires=Thu, 01 Jan 1970 00:00:00 GMT; path=/;\\';\\n                }\\n            }\\n        }\\n        _sf_async_config.noCookies = noCookies;\\n    }());\\n\\n    /** CONFIGURATION END **/\\n    (function(){\\n        function loadChartbeat() {\\n            window._sf_endpt=(new Date()).getTime();\\n            var e = document.createElement(\"script\");\\n            e.setAttribute(\"language\", \"javascript\");\\n            e.setAttribute(\"type\", \"text/javascript\");\\n            e.setAttribute(\\'src\\', \\'//static.chartbeat.com/js/chartbeat.js\\');\\n            document.body.appendChild(e);\\n        }\\n        var oldonload = window.onload;\\n        window.onload = (typeof window.onload != \"function\") ?\\n            loadChartbeat : function() { oldonload(); loadChartbeat(); };\\n    }());\\n</script>\\n<!-- Chartbeat Web Analytics code - end -->\\n <!-- comscore mmx - start -->\\n<script>\\n\\tvar _comscore = _comscore || [];\\n\\t_comscore.push({ c1: \"2\", c2: \"17986528\"});\\n\\n\\t(function() {\\n\\t\\tvar s = document.createElement(\"script\")\\n\\t\\t\\t, el = document.getElementsByTagName(\"script\")[0];\\n\\t\\ts.async = true;\\n\\t\\ts.src = (document.location.protocol == \"https:\" ? \"https://sb\" : \"http://b\") + \".scorecardresearch.com/beacon.js\";\\n\\t\\tel.parentNode.insertBefore(s, el);\\n\\t})();\\n</script>\\n\\n<noscript>\\n\\t<img src=\"http://b.scorecardresearch.com/p?c1=2&c2=17986528&cv=2.0&cj=1\" class=\"image-hide\" />\\n</noscript>\\n<!-- comscore mmx - end -->   <!-- mpulse start -->\\n<script>\\n(function(){\\n\\n    window.bbcnewsperformance = {};\\n    var perf = window.performance;\\n\\n    function firstScrollTimer() {\\n        document.removeEventListener(\\'scroll\\', firstScrollTimer);\\n\\n        perf.mark(\\'firstScroll\\');\\n        perf.measure(\\'scrolltime\\', \\'firstScroll\\');\\n        var timing = perf.getEntriesByName(\\'scrolltime\\');\\n        bbcnewsperformance.firstScrollTime = timing[0].startTime;\\n    }\\n\\n    function primaryImageTimer(src) {\\n        var timing = perf.getEntriesByName(src);\\n        bbcnewsperformance.primaryImageTime = timing[0].responseEnd;\\n    }\\n\\n    if (perf) {\\n        if (perf.mark && perf.measure) {\\n            document.addEventListener(\\'scroll\\', firstScrollTimer);\\n        }\\n\\n        if (perf.getEntriesByName) {\\n            var primaryImage = document.querySelector(\\'.story-body__inner img\\');\\n            if (primaryImage) {\\n                var src = primaryImage.getAttribute(\\'src\\');\\n                primaryImage.addEventListener(\\'load\\', primaryImageTimer.bind(this, src));\\n            }\\n        }\\n    }\\n\\n    var random = Math.random();\\n    var rate   = 1;\\n    if (rate && (random < rate)) {\\n        var accountId = \"WDD4L-XTNMF-UDE8D-52W9K-N4FX8\";\\n\\n        // mpulse vendor code\\n        if(window.BOOMR && window.BOOMR.version){return;}\\n        var dom,doc,where,iframe = document.createElement(\\'iframe\\');\\n        iframe.src = \"javascript:false\";\\n        iframe.title = \"\"; iframe.role=\"presentation\";\\n        (iframe.frameElement || iframe).style.cssText = \"width:0;height:0;border:0;display:none;\";\\n        where = document.getElementsByTagName(\\'script\\')[0];\\n        where.parentNode.insertBefore(iframe, where);\\n\\n        try {\\n            doc = iframe.contentWindow.document;\\n        } catch(e) {\\n            dom = document.domain;\\n            iframe.src=\"javascript:var d=document.open();d.domain=\\'\"+dom+\"\\';void(0);\";\\n            doc = iframe.contentWindow.document;\\n        }\\n        doc.open()._l = function() {\\n            var js = this.createElement(\"script\");\\n            if(dom) this.domain = dom;\\n            js.id = \"boomr-if-as\";\\n            js.src = \\'//c.go-mpulse.net/boomerang/\\' +\\n                accountId;\\n            BOOMR_lstart=new Date().getTime();\\n            this.body.appendChild(js);\\n        };\\n        doc.write(\\'<body onload=\"document._l();\">\\');\\n        doc.close();\\n        // mpulse vendor code - end\\n    }\\n})();\\n</script>\\n<!-- mpulse end -->\\n </body> </html> \\n\\n\\n\\n\\n\\n\\n\\n\\n\\n\\n\\n'"
      ]
     },
     "execution_count": 34,
     "metadata": {},
     "output_type": "execute_result"
    }
   ],
   "source": [
    "text"
   ]
  },
  {
   "cell_type": "code",
   "execution_count": 44,
   "metadata": {
    "collapsed": false
   },
   "outputs": [],
   "source": [
    "bf,ed = re.findall(r\"((?:qu)?[^aeiou]*)(\\w+)\", \"quiet\")[0]"
   ]
  },
  {
   "cell_type": "code",
   "execution_count": 45,
   "metadata": {
    "collapsed": false
   },
   "outputs": [
    {
     "data": {
      "text/plain": [
       "'ietquay'"
      ]
     },
     "execution_count": 45,
     "metadata": {},
     "output_type": "execute_result"
    }
   ],
   "source": [
    "ed + bf +\"ay\""
   ]
  },
  {
   "cell_type": "code",
   "execution_count": 59,
   "metadata": {
    "collapsed": false
   },
   "outputs": [
    {
     "data": {
      "text/plain": [
       "['h']"
      ]
     },
     "execution_count": 59,
     "metadata": {},
     "output_type": "execute_result"
    }
   ],
   "source": [
    "import random\n",
    "[wd for wd in random.choice(\"aehh \")]"
   ]
  },
  {
   "cell_type": "code",
   "execution_count": 79,
   "metadata": {
    "collapsed": false
   },
   "outputs": [
    {
     "name": "stdout",
     "output_type": "stream",
     "text": [
      "an\n",
      "are\n",
      "bland\n",
      "e\n",
      "formed\n",
      "ideas\n",
      "in\n",
      "inexpressibl\n",
      "infuriating\n",
      "newly\n",
      "way\n"
     ]
    }
   ],
   "source": [
    "silly = 'newly formed bland ideas are inexpressibl e in an infuriating way'\n",
    "bland = silly.split(\" \")\n",
    "''.join([word[1] for word in bland if len(word) > 1])\n",
    "' '.join(bland)\n",
    "\n",
    "for wd in sorted(bland): \n",
    "    print wd"
   ]
  },
  {
   "cell_type": "code",
   "execution_count": 75,
   "metadata": {
    "collapsed": false
   },
   "outputs": [
    {
     "data": {
      "text/plain": [
       "5"
      ]
     },
     "execution_count": 75,
     "metadata": {},
     "output_type": "execute_result"
    }
   ],
   "source": [
    "'inexpressible'.index('re')"
   ]
  },
  {
   "cell_type": "code",
   "execution_count": 77,
   "metadata": {
    "collapsed": false
   },
   "outputs": [
    {
     "data": {
      "text/plain": [
       "['newly', 'formed', 'bland', 'ideas', 'are', '']"
      ]
     },
     "execution_count": 77,
     "metadata": {},
     "output_type": "execute_result"
    }
   ],
   "source": [
    "silly[:silly.index('in')].split(\" \")"
   ]
  }
 ],
 "metadata": {
  "kernelspec": {
   "display_name": "Python 2",
   "language": "python",
   "name": "python2"
  },
  "language_info": {
   "codemirror_mode": {
    "name": "ipython",
    "version": 2
   },
   "file_extension": ".py",
   "mimetype": "text/x-python",
   "name": "python",
   "nbconvert_exporter": "python",
   "pygments_lexer": "ipython2",
   "version": "2.7.10"
  }
 },
 "nbformat": 4,
 "nbformat_minor": 0
}
