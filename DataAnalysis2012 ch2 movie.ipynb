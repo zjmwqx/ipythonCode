{
 "metadata": {
  "name": ""
 },
 "nbformat": 3,
 "nbformat_minor": 0,
 "worksheets": [
  {
   "cells": [
    {
     "cell_type": "code",
     "collapsed": false,
     "input": [
      "import pandas as pd"
     ],
     "language": "python",
     "metadata": {},
     "outputs": [],
     "prompt_number": 1
    },
    {
     "cell_type": "code",
     "collapsed": false,
     "input": [
      "unames = ['user_id', 'gender', 'age', 'occupation', 'zip']\n",
      "users = pd.read_table('/home/jiminzhou/pydata-book/ch02/movielens/users.dat', sep='::', header=None,\n",
      "names=unames)"
     ],
     "language": "python",
     "metadata": {},
     "outputs": [],
     "prompt_number": 8
    },
    {
     "cell_type": "code",
     "collapsed": false,
     "input": [
      "rnames = ['user_id', 'movie_id', 'rating', 'timestamp']\n",
      "ratings = pd.read_table('/home/jiminzhou/pydata-book/ch02/movielens/ratings.dat', sep='::', header=None,\n",
      "names=rnames)\n"
     ],
     "language": "python",
     "metadata": {},
     "outputs": [],
     "prompt_number": 10
    },
    {
     "cell_type": "code",
     "collapsed": false,
     "input": [
      "mnames = ['movie_id', 'title', 'genres']\n",
      "movies = pd.read_table('/home/jiminzhou/pydata-book/ch02/movielens/movies.dat', sep='::', header=None,\n",
      "names=mnames)\n"
     ],
     "language": "python",
     "metadata": {},
     "outputs": [],
     "prompt_number": 11
    },
    {
     "cell_type": "code",
     "collapsed": false,
     "input": [
      "data = pd.merge(pd.merge(ratings, users), movies)"
     ],
     "language": "python",
     "metadata": {},
     "outputs": [],
     "prompt_number": 18
    },
    {
     "cell_type": "code",
     "collapsed": false,
     "input": [
      "mean = data.pivot_table('rating', rows = 'title',  cols = 'gender', aggfunc='mean')"
     ],
     "language": "python",
     "metadata": {},
     "outputs": [],
     "prompt_number": 31
    },
    {
     "cell_type": "code",
     "collapsed": false,
     "input": [
      "rating_by_title = data.groupby('title').size()"
     ],
     "language": "python",
     "metadata": {},
     "outputs": [],
     "prompt_number": 29
    },
    {
     "cell_type": "code",
     "collapsed": false,
     "input": [
      "rating_by_title = rating_by_title[rating_by_title>=250]"
     ],
     "language": "python",
     "metadata": {},
     "outputs": [],
     "prompt_number": 30
    },
    {
     "cell_type": "code",
     "collapsed": false,
     "input": [
      "res = mean.loc[rating_by_title.index]"
     ],
     "language": "python",
     "metadata": {},
     "outputs": [],
     "prompt_number": 41
    },
    {
     "cell_type": "code",
     "collapsed": false,
     "input": [
      "pd.Series.sort"
     ],
     "language": "python",
     "metadata": {},
     "outputs": [],
     "prompt_number": 70
    },
    {
     "cell_type": "code",
     "collapsed": false,
     "input": [
      "a =data.groupby('title')['rating'].std()"
     ],
     "language": "python",
     "metadata": {},
     "outputs": [],
     "prompt_number": 72
    },
    {
     "cell_type": "code",
     "collapsed": false,
     "input": [
      "data.pivot_table('rating',rows='title', aggfunc='std').order(ascending=False)"
     ],
     "language": "python",
     "metadata": {},
     "outputs": [
      {
       "metadata": {},
       "output_type": "pyout",
       "prompt_number": 83,
       "text": [
        "title\n",
        "Foreign Student (1994)                                          2.828427\n",
        "Criminal Lovers (Les Amants Criminels) (1999)                   2.309401\n",
        "Zachariah (1971)                                                2.121320\n",
        "Tokyo Fist (1995)                                               2.121320\n",
        "Talk of Angels (1998)                                           2.121320\n",
        "Sunset Park (1996)                                              2.121320\n",
        "Paralyzing Fear: The Story of Polio in America, A (1998)        2.121320\n",
        "Neon Bible, The (1995)                                          2.121320\n",
        "Living Dead Girl, The (La Morte Vivante) (1982)                 2.121320\n",
        "Identification of a Woman (Identificazione di una donna) (1982)    2.121320\n",
        "Eaten Alive (1976)                                              2.121320\n",
        "Better Living (1998)                                            2.121320\n",
        "Vampyros Lesbos (Las Vampiras) (1970)                           2.081666\n",
        "Rosie (1998)                                                    2.061553\n",
        "Paris, France (1993)                                            2.000000\n",
        "...\n",
        "Ten Benny (1997)                              NaN\n",
        "Terror in a Texas Town (1958)                 NaN\n",
        "Tinseltown (1998)                             NaN\n",
        "Trois (2000)                                  NaN\n",
        "Ulysses (Ulisse) (1954)                       NaN\n",
        "Underworld (1997)                             NaN\n",
        "Uninvited Guest, An (2000)                    NaN\n",
        "Voyage to the Beginning of the World (1997)   NaN\n",
        "Waiting Game, The (2000)                      NaN\n",
        "Waltzes from Vienna (1933)                    NaN\n",
        "Wend Kuuni (God's Gift) (1982)                NaN\n",
        "White Boys (1999)                             NaN\n",
        "Windows (1980)                                NaN\n",
        "With Byrd at the South Pole (1930)            NaN\n",
        "Wooden Man's Bride, The (Wu Kui) (1994)       NaN\n",
        "Name: rating, Length: 3706, dtype: float64"
       ]
      }
     ],
     "prompt_number": 83
    },
    {
     "cell_type": "code",
     "collapsed": false,
     "input": [
      "a.sort(ascending=False)"
     ],
     "language": "python",
     "metadata": {},
     "outputs": [],
     "prompt_number": 73
    },
    {
     "cell_type": "code",
     "collapsed": false,
     "input": [
      "a"
     ],
     "language": "python",
     "metadata": {},
     "outputs": [
      {
       "metadata": {},
       "output_type": "pyout",
       "prompt_number": 74,
       "text": [
        "title\n",
        "Foreign Student (1994)                                          2.828427\n",
        "Criminal Lovers (Les Amants Criminels) (1999)                   2.309401\n",
        "Identification of a Woman (Identificazione di una donna) (1982)    2.121320\n",
        "Sunset Park (1996)                                              2.121320\n",
        "Eaten Alive (1976)                                              2.121320\n",
        "Neon Bible, The (1995)                                          2.121320\n",
        "Talk of Angels (1998)                                           2.121320\n",
        "Tokyo Fist (1995)                                               2.121320\n",
        "Paralyzing Fear: The Story of Polio in America, A (1998)        2.121320\n",
        "Better Living (1998)                                            2.121320\n",
        "Zachariah (1971)                                                2.121320\n",
        "Living Dead Girl, The (La Morte Vivante) (1982)                 2.121320\n",
        "Vampyros Lesbos (Las Vampiras) (1970)                           2.081666\n",
        "Rosie (1998)                                                    2.061553\n",
        "Paris, France (1993)                                            2.000000\n",
        "...\n",
        "Ten Benny (1997)                              NaN\n",
        "Terror in a Texas Town (1958)                 NaN\n",
        "Tinseltown (1998)                             NaN\n",
        "Trois (2000)                                  NaN\n",
        "Ulysses (Ulisse) (1954)                       NaN\n",
        "Underworld (1997)                             NaN\n",
        "Uninvited Guest, An (2000)                    NaN\n",
        "Voyage to the Beginning of the World (1997)   NaN\n",
        "Waiting Game, The (2000)                      NaN\n",
        "Waltzes from Vienna (1933)                    NaN\n",
        "Wend Kuuni (God's Gift) (1982)                NaN\n",
        "White Boys (1999)                             NaN\n",
        "Windows (1980)                                NaN\n",
        "With Byrd at the South Pole (1930)            NaN\n",
        "Wooden Man's Bride, The (Wu Kui) (1994)       NaN\n",
        "Name: rating, Length: 3706, dtype: float64"
       ]
      }
     ],
     "prompt_number": 74
    }
   ],
   "metadata": {}
  }
 ]
}