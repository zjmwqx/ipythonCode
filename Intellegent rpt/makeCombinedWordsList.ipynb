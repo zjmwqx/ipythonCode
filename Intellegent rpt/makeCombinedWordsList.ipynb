{
 "metadata": {
  "name": "",
  "signature": "sha256:4a99c6c3c3047213d46157be184649bb58e3cd1938d9baac8d0a2f50944db6f3"
 },
 "nbformat": 3,
 "nbformat_minor": 0,
 "worksheets": [
  {
   "cells": [
    {
     "cell_type": "code",
     "collapsed": false,
     "input": [
      "import pandas as pd\n",
      "import re"
     ],
     "language": "python",
     "metadata": {},
     "outputs": [],
     "prompt_number": 26
    },
    {
     "cell_type": "code",
     "collapsed": false,
     "input": [
      "words = pd.read_csv('/home/jiminzhou/data/\u60c5\u611f\u8bcd/pairs-from-qiangluo.csv')"
     ],
     "language": "python",
     "metadata": {},
     "outputs": [],
     "prompt_number": 2
    },
    {
     "cell_type": "code",
     "collapsed": false,
     "input": [
      "??str.replace\n"
     ],
     "language": "python",
     "metadata": {},
     "outputs": [],
     "prompt_number": 9
    },
    {
     "cell_type": "code",
     "collapsed": false,
     "input": [
      "a =words.pair.apply(lambda x: re.sub('\\'|\\(|\\)| ','',x))"
     ],
     "language": "python",
     "metadata": {},
     "outputs": [],
     "prompt_number": 6
    },
    {
     "cell_type": "code",
     "collapsed": false,
     "input": [
      "a = a.apply(lambda x: x.replace(',','|'))"
     ],
     "language": "python",
     "metadata": {},
     "outputs": [],
     "prompt_number": 7
    },
    {
     "cell_type": "code",
     "collapsed": false,
     "input": [
      "words.pair = a"
     ],
     "language": "python",
     "metadata": {},
     "outputs": [],
     "prompt_number": 11
    },
    {
     "cell_type": "code",
     "collapsed": false,
     "input": [
      "words.sentiment_guess = words.sentiment_guess.apply(lambda x: 'pos' if x=='unknown' else 'neg')"
     ],
     "language": "python",
     "metadata": {},
     "outputs": [],
     "prompt_number": 12
    },
    {
     "cell_type": "code",
     "collapsed": false,
     "input": [
      "words[['pair', 'sentiment_guess']][0:5000].to_csv('/home/jiminzhou/data/\u60c5\u611f\u8bcd/pairs-luoqiang-reg5000.txt',sep = '\\t',index = False)"
     ],
     "language": "python",
     "metadata": {},
     "outputs": [],
     "prompt_number": 17
    },
    {
     "cell_type": "code",
     "collapsed": false,
     "input": [
      "words[['pair', 'sentiment_guess']][0:10000].to_csv('/home/jiminzhou/data/\u60c5\u611f\u8bcd/pairs-luoqiang-reg10000.txt',sep = '\\t',index = False)"
     ],
     "language": "python",
     "metadata": {},
     "outputs": [],
     "prompt_number": 16
    },
    {
     "cell_type": "code",
     "collapsed": false,
     "input": [
      "#my words"
     ],
     "language": "python",
     "metadata": {},
     "outputs": []
    },
    {
     "cell_type": "code",
     "collapsed": false,
     "input": [
      "words = pd.read_csv('/home/jiminzhou/data/\u60c5\u611f\u8bcd/phraseRes.txt',sep=' ')"
     ],
     "language": "python",
     "metadata": {},
     "outputs": [],
     "prompt_number": 20
    },
    {
     "cell_type": "code",
     "collapsed": false,
     "input": [
      "words['sentiment_guess'] = 'pos'"
     ],
     "language": "python",
     "metadata": {},
     "outputs": [],
     "prompt_number": 22
    },
    {
     "cell_type": "code",
     "collapsed": false,
     "input": [
      "words[['phrases','sentiment_guess']].to_csv('/home/jiminzhou/data/\u60c5\u611f\u8bcd/phraseRes.txt',sep = '\\t',index = False)"
     ],
     "language": "python",
     "metadata": {},
     "outputs": [],
     "prompt_number": 25
    }
   ],
   "metadata": {}
  }
 ]
}