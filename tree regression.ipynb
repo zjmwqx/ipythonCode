{
 "metadata": {
  "name": ""
 },
 "nbformat": 3,
 "nbformat_minor": 0,
 "worksheets": [
  {
   "cells": [
    {
     "cell_type": "code",
     "collapsed": false,
     "input": [
      "class treeNode():\n",
      "    def __init__(self, feat, val, right, left):\n",
      "        featureToSplitOn = feat\n",
      "        valueOfSplit = val\n",
      "        rightBranch = right\n",
      "        leftBranch = left"
     ],
     "language": "python",
     "metadata": {},
     "outputs": [],
     "prompt_number": 1
    },
    {
     "cell_type": "code",
     "collapsed": false,
     "input": [
      "def loadDataSet(fileName):\n",
      "    dataMat = []\n",
      "    fr = open(fileName)\n",
      "    for line in fr.readlines():\n",
      "        curLine = line.strip().split('\\t')\n",
      "        fltLine = map(float,curLine)\n",
      "        dataMat.append(fltLine)\n",
      "    return dataMat\n"
     ],
     "language": "python",
     "metadata": {},
     "outputs": [],
     "prompt_number": 18
    },
    {
     "cell_type": "code",
     "collapsed": false,
     "input": [
      "def binSplitDataSet(dataSet, feature, value):\n",
      "    mat0 = dataSet[nonzero(dataSet[:,feature] > value)[0],:][0]\n",
      "    mat1 = dataSet[nonzero(dataSet[:,feature] <= value)[0],:][0]\n",
      "    return mat0,mat1\n"
     ],
     "language": "python",
     "metadata": {},
     "outputs": [],
     "prompt_number": 17
    },
    {
     "cell_type": "code",
     "collapsed": false,
     "input": [
      "def createTree(dataSet, leafType=regLeaf, errType=regErr, ops=(1,4)):\n",
      "    feat, val = chooseBestSplit(dataSet, leafType, errType, ops)\n",
      "    if feat == None:\n",
      "        return val\n",
      "    lt, rt = binSplitDataSet(dataSet, feat, val)\n",
      "    retTree = {}\n",
      "    retTree['spInd'] = feat\n",
      "    retTree['spVal'] = val\n",
      "    retTree['left'] = createTree(lt, leafType, errType, ops)\n",
      "    retTree['right'] = createTree(rt, leafType, errType, ops)\n",
      "    return retTree"
     ],
     "language": "python",
     "metadata": {},
     "outputs": [],
     "prompt_number": 36
    },
    {
     "cell_type": "code",
     "collapsed": false,
     "input": [
      "import numpy as np"
     ],
     "language": "python",
     "metadata": {},
     "outputs": [],
     "prompt_number": 5
    },
    {
     "cell_type": "code",
     "collapsed": false,
     "input": [
      "data = mat(eye((4)))"
     ],
     "language": "python",
     "metadata": {},
     "outputs": [],
     "prompt_number": 8
    },
    {
     "cell_type": "code",
     "collapsed": false,
     "input": [
      "binSplitDataSet(data, 2, 0.5)"
     ],
     "language": "python",
     "metadata": {},
     "outputs": [
      {
       "metadata": {},
       "output_type": "pyout",
       "prompt_number": 10,
       "text": [
        "(matrix([[ 0.,  0.,  1.,  0.]]),\n",
        " matrix([[ 1.,  0.,  0.,  0.],\n",
        "        [ 0.,  1.,  0.,  0.],\n",
        "        [ 0.,  0.,  0.,  1.]]))"
       ]
      }
     ],
     "prompt_number": 10
    },
    {
     "cell_type": "code",
     "collapsed": false,
     "input": [
      "def regLeaf(dataSet):\n",
      "    return mean(dataSet[:,-1])"
     ],
     "language": "python",
     "metadata": {},
     "outputs": [],
     "prompt_number": 11
    },
    {
     "cell_type": "code",
     "collapsed": false,
     "input": [
      "def regErr(dataSet):\n",
      "    return var(dataSet[:,-1]) * shape(dataSet)[0]"
     ],
     "language": "python",
     "metadata": {},
     "outputs": [],
     "prompt_number": 12
    },
    {
     "cell_type": "code",
     "collapsed": false,
     "input": [
      "def chooseBestSplit(dataSet, leafType=regLeaf, errType=regErr, ops=(1,4)):\n",
      "    tolS = ops[0]; tolN = ops[1]\n",
      "    if len(set(dataSet[:,-1].T.tolist()[0])) == 1 :\n",
      "        return None, leafType(dataSet)\n",
      "    m,n = shape(dataSet)\n",
      "    S = errType(dataSet)\n",
      "    bestS = inf; bestIndex = 0; bestValue = 0\n",
      "\n",
      "    for featIndex in range(n-1):\n",
      "        for splitVal in set(dataSet[:,featIndex]):\n",
      "            mat0, mat1 = binSplitDataSet(dataSet, featIndex, splitVal)\n",
      "            if (shape(mat0)[0] < tolN) or (shape(mat1)[0] < tolN): continue\n",
      "            newS = errType(mat0) + errType(mat1)\n",
      "            if newS < bestS:\n",
      "                bestIndex = featIndex\n",
      "                bestValue = splitVal\n",
      "                bestS = newS\n",
      "    if (S - bestS) < tolS:\n",
      "        return None, leafType(dataSet)\n",
      "    mat0, mat1 = binSplitDataSet(dataSet, featIndex, splitVal)\n",
      "    if (shape(mat0)[0] < tolN) or (shape(mat1)[0] < tolN):\n",
      "        return None, leafType(dataSet)\n",
      "    return bestIndex, bestValue\n"
     ],
     "language": "python",
     "metadata": {},
     "outputs": [],
     "prompt_number": 47
    },
    {
     "cell_type": "code",
     "collapsed": false,
     "input": [
      "myDat = loadDataSet('machinelearninginaction/Ch09/ex2.txt')"
     ],
     "language": "python",
     "metadata": {},
     "outputs": [],
     "prompt_number": 65
    },
    {
     "cell_type": "code",
     "collapsed": false,
     "input": [
      "fg = figure()\n",
      "ax = fg.add_subplot(111)\n",
      "ax.scatter(array(myDat)[:,1], array(myDat)[:,2])"
     ],
     "language": "python",
     "metadata": {},
     "outputs": [
      {
       "metadata": {},
       "output_type": "pyout",
       "prompt_number": 64,
       "text": [
        "<matplotlib.collections.PathCollection at 0x3d89490>"
       ]
      },
      {
       "metadata": {},
       "output_type": "display_data",
       "png": "[encoded data removed]",
       "text": [
        "<matplotlib.figure.Figure at 0x3ae79d0>"
       ]
      }
     ],
     "prompt_number": 64
    },
    {
     "cell_type": "code",
     "collapsed": false,
     "input": [
      "def isTree(obj):\n",
      "    return (type(obj).__name__ == 'dict')"
     ],
     "language": "python",
     "metadata": {},
     "outputs": [],
     "prompt_number": 68
    },
    {
     "cell_type": "code",
     "collapsed": false,
     "input": [
      "def getMean(tree):\n",
      "    if isTree(tree['right']): tree['right'] = getMean(tree['right'])\n",
      "    if isTree(tree['left']): tree['left'] = getMean(tree['left'])\n",
      "    return (tree['left']+tree['right'])/2.0"
     ],
     "language": "python",
     "metadata": {},
     "outputs": [],
     "prompt_number": 69
    },
    {
     "cell_type": "code",
     "collapsed": false,
     "input": [
      "def prune(tree, testData):\n",
      "    if shape(testData)[0] == 0: return getMean(tree)\n",
      "    if (isTree(tree['right']) or isTree(tree['left'])):\n",
      "        lSet, rSet = binSplitDataSet(testData, tree['spInd'],\n",
      "            tree['spVal'])\n",
      "    if isTree(tree['left']): tree['left'] = prune(tree['left'], lSet)\n",
      "    if isTree(tree['right']): tree['right'] = prune(tree['right'], rSet)\n",
      "    if not isTree(tree['left']) and not isTree(tree['right']):\n",
      "        lSet, rSet = binSplitDataSet(testData, tree['spInd'],\n",
      "            tree['spVal'])\n",
      "        errorNoMerge = sum(power(lSet[:,-1] - tree['left'],2)) +\\\n",
      "            sum(power(rSet[:,-1] - tree['right'],2))\n",
      "        treeMean = (tree['left']+tree['right'])/2.0\n",
      "        errorMerge = sum(power(testData[:,-1] - treeMean,2))\n",
      "        if errorMerge < errorNoMerge:\n",
      "            print \"merging\"\n",
      "            return treeMean\n",
      "        else: return tree\n",
      "    else: return tree\n"
     ],
     "language": "python",
     "metadata": {},
     "outputs": [],
     "prompt_number": 74
    },
    {
     "cell_type": "code",
     "collapsed": false,
     "input": [
      "myTree = createTree(mat(myDat), ops=(0,1))"
     ],
     "language": "python",
     "metadata": {},
     "outputs": [],
     "prompt_number": 71
    },
    {
     "cell_type": "code",
     "collapsed": false,
     "input": [
      "myDatTest = loadDataSet('machinelearninginaction/Ch09/ex2test.txt')"
     ],
     "language": "python",
     "metadata": {},
     "outputs": [],
     "prompt_number": 72
    },
    {
     "cell_type": "code",
     "collapsed": false,
     "input": [
      "prune(myTree, mat(myDatTest))"
     ],
     "language": "python",
     "metadata": {},
     "outputs": [
      {
       "output_type": "stream",
       "stream": "stdout",
       "text": [
        "merging\n",
        "merging\n",
        "merging\n",
        "merging\n",
        "merging\n",
        "merging\n",
        "merging\n",
        "merging\n",
        "merging\n",
        "merging\n",
        "merging\n",
        "merging\n",
        "merging\n",
        "merging"
       ]
      },
      {
       "output_type": "stream",
       "stream": "stdout",
       "text": [
        "\n"
       ]
      },
      {
       "metadata": {},
       "output_type": "pyout",
       "prompt_number": 78,
       "text": [
        "{'left': {'left': {'left': {'left': 92.523991499999994,\n",
        "    'right': {'left': {'left': 117.97325549999999,\n",
        "      'right': 135.83701300000001,\n",
        "      'spInd': 0,\n",
        "      'spVal': matrix([[ 0.958512]])},\n",
        "     'right': 104.62626999999999,\n",
        "     'spInd': 0,\n",
        "     'spVal': matrix([[ 0.956951]])},\n",
        "    'spInd': 0,\n",
        "    'spVal': matrix([[ 0.965969]])},\n",
        "   'right': {'left': {'left': {'left': {'left': {'left': {'left': {'left': {'left': {'left': {'left': 87.310387500000004,\n",
        "             'right': {'left': {'left': 110.03503850000001,\n",
        "               'right': {'left': 65.548417999999998,\n",
        "                'right': {'left': 115.75399400000001,\n",
        "                 'right': {'left': {'left': 94.396114499999996,\n",
        "                   'right': 85.005351000000005,\n",
        "                   'spInd': 0,\n",
        "                   'spVal': matrix([[ 0.912161]])},\n",
        "                  'right': {'left': 112.66407100000001,\n",
        "                   'right': {'left': 87.300624999999997,\n",
        "                    'right': {'left': {'left': 100.133819,\n",
        "                      'right': 108.09493399999999,\n",
        "                      'spInd': 0,\n",
        "                      'spVal': matrix([[ 0.900699]])},\n",
        "                     'right': {'left': 82.436685999999995,\n",
        "                      'right': {'left': 98.544549499999988,\n",
        "                       'right': 106.16859550000001,\n",
        "                       'spInd': 0,\n",
        "                       'spVal': matrix([[ 0.872199]])},\n",
        "                      'spInd': 0,\n",
        "                      'spVal': matrix([[ 0.888426]])},\n",
        "                     'spInd': 0,\n",
        "                     'spVal': matrix([[ 0.892999]])},\n",
        "                    'spInd': 0,\n",
        "                    'spVal': matrix([[ 0.901421]])},\n",
        "                   'spInd': 0,\n",
        "                   'spVal': matrix([[ 0.901444]])},\n",
        "                  'spInd': 0,\n",
        "                  'spVal': matrix([[ 0.910975]])},\n",
        "                 'spInd': 0,\n",
        "                 'spVal': matrix([[ 0.925782]])},\n",
        "                'spInd': 0,\n",
        "                'spVal': matrix([[ 0.934853]])},\n",
        "               'spInd': 0,\n",
        "               'spVal': matrix([[ 0.936524]])},\n",
        "              'right': {'left': {'left': 89.20993,\n",
        "                'right': 76.240983999999997,\n",
        "                'spInd': 0,\n",
        "                'spVal': matrix([[ 0.847219]])},\n",
        "               'right': 95.893130999999997,\n",
        "               'spInd': 0,\n",
        "               'spVal': matrix([[ 0.84294]])},\n",
        "              'spInd': 0,\n",
        "              'spVal': matrix([[ 0.85497]])},\n",
        "             'spInd': 0,\n",
        "             'spVal': matrix([[ 0.944221]])},\n",
        "            'right': 60.552307999999996,\n",
        "            'spInd': 0,\n",
        "            'spVal': matrix([[ 0.841625]])},\n",
        "           'right': 124.87935300000001,\n",
        "           'spInd': 0,\n",
        "           'spVal': matrix([[ 0.841547]])},\n",
        "          'right': {'left': 76.723834999999994,\n",
        "           'right': {'left': 59.342323,\n",
        "            'right': 70.054507999999998,\n",
        "            'spInd': 0,\n",
        "            'spVal': matrix([[ 0.819722]])},\n",
        "           'spInd': 0,\n",
        "           'spVal': matrix([[ 0.823848]])},\n",
        "          'spInd': 0,\n",
        "          'spVal': matrix([[ 0.833026]])},\n",
        "         'right': 110.38084566666667,\n",
        "         'spInd': 0,\n",
        "         'spVal': matrix([[ 0.815215]])},\n",
        "        'right': 73.494399250000001,\n",
        "        'spInd': 0,\n",
        "        'spVal': matrix([[ 0.806158]])},\n",
        "       'right': {'left': 114.4008695,\n",
        "        'right': 102.82057933333333,\n",
        "        'spInd': 0,\n",
        "        'spVal': matrix([[ 0.786865]])},\n",
        "       'spInd': 0,\n",
        "       'spVal': matrix([[ 0.790312]])},\n",
        "      'right': 64.041940999999994,\n",
        "      'spInd': 0,\n",
        "      'spVal': matrix([[ 0.769043]])},\n",
        "     'right': 115.199195,\n",
        "     'spInd': 0,\n",
        "     'spVal': matrix([[ 0.763328]])},\n",
        "    'right': 78.085643250000004,\n",
        "    'spInd': 0,\n",
        "    'spVal': matrix([[ 0.759504]])},\n",
        "   'spInd': 0,\n",
        "   'spVal': matrix([[ 0.952833]])},\n",
        "  'right': {'left': {'left': {'left': {'left': {'left': {'left': {'left': 110.90282999999999,\n",
        "         'right': {'left': 103.345308,\n",
        "          'right': 108.55391899999999,\n",
        "          'spInd': 0,\n",
        "          'spVal': matrix([[ 0.710234]])},\n",
        "         'spInd': 0,\n",
        "         'spVal': matrix([[ 0.716211]])},\n",
        "        'right': 135.41676699999999,\n",
        "        'spInd': 0,\n",
        "        'spVal': matrix([[ 0.70889]])},\n",
        "       'right': {'left': 100.70684783333334,\n",
        "        'right': {'left': 120.521925,\n",
        "         'right': 108.15153599999999,\n",
        "         'spInd': 0,\n",
        "         'spVal': matrix([[ 0.689099]])},\n",
        "        'spInd': 0,\n",
        "        'spVal': matrix([[ 0.698472]])},\n",
        "       'spInd': 0,\n",
        "       'spVal': matrix([[ 0.706961]])},\n",
        "      'right': 118.09113425000001,\n",
        "      'spInd': 0,\n",
        "      'spVal': matrix([[ 0.665329]])},\n",
        "     'right': 82.500765999999999,\n",
        "     'spInd': 0,\n",
        "     'spVal': matrix([[ 0.642707]])},\n",
        "    'right': 140.61394100000001,\n",
        "    'spInd': 0,\n",
        "    'spVal': matrix([[ 0.642373]])},\n",
        "   'right': {'left': {'left': {'left': 89.338510333333332,\n",
        "      'right': 111.7995445,\n",
        "      'spInd': 0,\n",
        "      'spVal': matrix([[ 0.628061]])},\n",
        "     'right': 82.04976400000001,\n",
        "     'spInd': 0,\n",
        "     'spVal': matrix([[ 0.623909]])},\n",
        "    'right': {'left': 168.180746,\n",
        "     'right': {'left': {'left': {'left': {'left': {'left': {'left': 93.521395999999996,\n",
        "           'right': {'left': 130.37852899999999,\n",
        "            'right': 106.97529274999999,\n",
        "            'spInd': 0,\n",
        "            'spVal': matrix([[ 0.589806]])},\n",
        "           'spInd': 0,\n",
        "           'spVal': matrix([[ 0.599142]])},\n",
        "          'right': 82.903944999999993,\n",
        "          'spInd': 0,\n",
        "          'spVal': matrix([[ 0.560301]])},\n",
        "         'right': 129.06244849999999,\n",
        "         'spInd': 0,\n",
        "         'spVal': matrix([[ 0.553797]])},\n",
        "        'right': {'left': 83.114502000000002,\n",
        "         'right': {'left': 97.340526499999996,\n",
        "          'right': 90.995536000000001,\n",
        "          'spInd': 0,\n",
        "          'spVal': matrix([[ 0.537834]])},\n",
        "         'spInd': 0,\n",
        "         'spVal': matrix([[ 0.546601]])},\n",
        "        'spInd': 0,\n",
        "        'spVal': matrix([[ 0.548539]])},\n",
        "       'right': {'left': {'left': 129.76674299999999,\n",
        "         'right': 124.795495,\n",
        "         'spInd': 0,\n",
        "         'spVal': matrix([[ 0.531944]])},\n",
        "        'right': 116.17616200000001,\n",
        "        'spInd': 0,\n",
        "        'spVal': matrix([[ 0.51915]])},\n",
        "       'spInd': 0,\n",
        "       'spVal': matrix([[ 0.533511]])},\n",
        "      'right': 97.961855,\n",
        "      'spInd': 0,\n",
        "      'spVal': matrix([[ 0.513332]])},\n",
        "     'spInd': 0,\n",
        "     'spVal': matrix([[ 0.606417]])},\n",
        "    'spInd': 0,\n",
        "    'spVal': matrix([[ 0.613004]])},\n",
        "   'spInd': 0,\n",
        "   'spVal': matrix([[ 0.640515]])},\n",
        "  'spInd': 0,\n",
        "  'spVal': matrix([[ 0.729397]])},\n",
        " 'right': {'left': {'left': {'left': {'left': 14.934267666666665,\n",
        "     'right': 5.224234,\n",
        "     'spInd': 0,\n",
        "     'spVal': matrix([[ 0.483803]])},\n",
        "    'right': {'left': -9.7129250000000003,\n",
        "     'right': -23.777531,\n",
        "     'spInd': 0,\n",
        "     'spVal': matrix([[ 0.46568]])},\n",
        "    'spInd': 0,\n",
        "    'spVal': matrix([[ 0.467383]])},\n",
        "   'right': {'left': 30.051931,\n",
        "    'right': 17.171057000000001,\n",
        "    'spInd': 0,\n",
        "    'spVal': matrix([[ 0.463241]])},\n",
        "   'spInd': 0,\n",
        "   'spVal': matrix([[ 0.465561]])},\n",
        "  'right': {'left': -34.044555000000003,\n",
        "   'right': {'left': -4.802765507462686,\n",
        "    'right': {'left': 22.891674999999999,\n",
        "     'right': {'left': {'left': 6.1965159999999999,\n",
        "       'right': {'left': -16.106164,\n",
        "        'right': -5.7151495000000008,\n",
        "        'spInd': 0,\n",
        "        'spVal': matrix([[ 0.10796]])},\n",
        "       'spInd': 0,\n",
        "       'spVal': matrix([[ 0.108801]])},\n",
        "      'right': {'left': 37.820658999999999,\n",
        "       'right': {'left': -24.132225999999999,\n",
        "        'right': 2.2687981000000002,\n",
        "        'spInd': 0,\n",
        "        'spVal': matrix([[ 0.080061]])},\n",
        "       'spInd': 0,\n",
        "       'spVal': matrix([[ 0.084661]])},\n",
        "      'spInd': 0,\n",
        "      'spVal': matrix([[ 0.085111]])},\n",
        "     'spInd': 0,\n",
        "     'spVal': matrix([[ 0.124723]])},\n",
        "    'spInd': 0,\n",
        "    'spVal': matrix([[ 0.126833]])},\n",
        "   'spInd': 0,\n",
        "   'spVal': matrix([[ 0.455761]])},\n",
        "  'spInd': 0,\n",
        "  'spVal': matrix([[ 0.457563]])},\n",
        " 'spInd': 0,\n",
        " 'spVal': matrix([[ 0.499171]])}"
       ]
      }
     ],
     "prompt_number": 78
    }
   ],
   "metadata": {}
  }
 ]
}