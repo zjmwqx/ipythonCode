{
 "metadata": {
  "name": "",
  "signature": "sha256:0b054af7fbdb32b7a66769c85c19d332497489bcab4f9f7310b8ac2df1b562f3"
 },
 "nbformat": 3,
 "nbformat_minor": 0,
 "worksheets": [
  {
   "cells": [
    {
     "cell_type": "code",
     "collapsed": false,
     "input": [
      "import numpy as np\n",
      "import pylab as pl\n",
      "import pandas as pd\n",
      "import json\n",
      "from sklearn.feature_extraction.text import CountVectorizer\n",
      "import os\n",
      "import cPickle\n",
      "import re\n",
      "import regex\n",
      "import mysql.connector\n",
      "import pandas.io.sql as psql\n",
      "import urllib\n",
      "import pickle\n",
      "import jpype\n",
      "import random"
     ],
     "language": "python",
     "metadata": {},
     "outputs": [],
     "prompt_number": 1
    },
    {
     "cell_type": "code",
     "collapsed": false,
     "input": [
      "db = mysql.connector.connect(\n",
      "host='db-news01-dev.datayes.com', db='news', user='news_app', passwd='lKTOAIyoewzvCyc')\n",
      "table_name = 'news_detail_backup'"
     ],
     "language": "python",
     "metadata": {},
     "outputs": [],
     "prompt_number": 13
    },
    {
     "cell_type": "code",
     "collapsed": false,
     "input": [
      "data = psql.read_sql('select news_id, news_title,news_body,main_related_company_id from %s where main_related_company_id != -1 and news_tag = 0 and group_id != -1 and isActive = 1 and source_type in (\\'news_pgenius\\',\\'news_nutch\\') limit 10000;' % table_name, db)\n"
     ],
     "language": "python",
     "metadata": {},
     "outputs": [],
     "prompt_number": 18
    },
    {
     "cell_type": "code",
     "collapsed": false,
     "input": [
      "#ansj segemnt\n",
      "\"\"\"\n",
      "wrapper for java tools\n",
      "\n",
      "Run start_jvm with classpaths first, you must ensure all need jars are supplied\n",
      "\"\"\"\n",
      "import jpype\n",
      "import os\n",
      "class AnsjSplitter:\n",
      "    \"\"\" Wrapper for ansj\n",
      "\n",
      "    Needed jars:\n",
      "    ansj_seg-xxx.jar\n",
      "    tree_split-xxx.jar\n",
      "    \"\"\"\n",
      "    def __init__(self, dict_path=None):\n",
      "        \"\"\" Parameters:\n",
      "        dict_path: path of userLibrary\n",
      "        \"\"\"\n",
      "        self.AnsjConfig = jpype.JClass('org.ansj.util.MyStaticValue')\n",
      "        self.AnsjConfig.ambiguityLibrary = None\n",
      "        self.AnsjConfig.userLibrary = dict_path\n",
      "        self.methods = {\n",
      "            'base': jpype.JClass('org.ansj.splitWord.analysis.BaseAnalysis'),\n",
      "            'to': jpype.JClass('org.ansj.splitWord.analysis.ToAnalysis'),\n",
      "            'nlp': jpype.JClass('org.ansj.splitWord.analysis.NlpAnalysis'),\n",
      "        }\n",
      "    def split(self, txt, method = 'nlp'):\n",
      "        \"\"\" split txt using method\n",
      "        method can be \"base\", \"to\", or \"nlp\"\n",
      "        \"\"\"\n",
      "        if method not in self.methods:\n",
      "            raise RuntimeError('no such method for ansj')\n",
      "        raw_res = self.methods[method].parse(txt).toArray()\n",
      "        res = [(x.offe, x.offe+len(x.realName), x.nature.natureStr) for x in raw_res]\n",
      "        return res\n",
      "\n",
      "def start_jvm(class_path_list):\n",
      "    \"\"\" Start jvm with class_path_list\n",
      "    \"\"\"\n",
      "    jpype.startJVM(jpype.getDefaultJVMPath(), '-ea', \"-Djava.class.path=%s\" % ':'.join(class_path_list))\n",
      "def shutdown_jvm():\n",
      "    \"\"\" shutdown jvm\n",
      "    \"\"\"\n",
      "    jpyte.shutdownJVM()\n",
      "import glob\n",
      "start_jvm(glob.glob('/root/jar_lib/*'))\n",
      "ansj = AnsjSplitter('/root/data/userLibrary.txt')\n",
      "import re \n",
      "def my_tokenizer(s):\n",
      "    regExp = \"[^(\\u4e00-\\u9fa50-9)]\"\n",
      "    s = re.sub(regExp, \" \", s)\n",
      "    ll = ansj.split(s)\n",
      "    res = []\n",
      "    for tt in ll:\n",
      "        res.append(s[tt[0]: tt[1]])\n",
      "    return res"
     ],
     "language": "python",
     "metadata": {},
     "outputs": []
    },
    {
     "cell_type": "code",
     "collapsed": false,
     "input": [
      "my_tokenizer()"
     ],
     "language": "python",
     "metadata": {},
     "outputs": []
    },
    {
     "cell_type": "code",
     "collapsed": false,
     "input": [
      "def findPart(regex, text, name):\n",
      "    res=re.findall(regex, text)\n",
      "    print res"
     ],
     "language": "python",
     "metadata": {},
     "outputs": [],
     "prompt_number": 28
    },
    {
     "cell_type": "code",
     "collapsed": false,
     "input": [
      "a = u\"\u6625\u4e00\u4e1c\uff1a2013\u5e7409\u670824\u65e5\u6700\u65b0\u63d0\u793a \u4eba\u4e8b\u53d8\u52a8\u5176\u4ed6 \"\n",
      "re.sub(u\"[^(\\u4e00-\\u9fa50-9)]\", \" \", a)"
     ],
     "language": "python",
     "metadata": {},
     "outputs": [
      {
       "metadata": {},
       "output_type": "pyout",
       "prompt_number": 38,
       "text": [
        "u'\\u6625\\u4e00\\u4e1c 2013\\u5e7409\\u670824\\u65e5\\u6700\\u65b0\\u63d0\\u793a \\u4eba\\u4e8b\\u53d8\\u52a8\\u5176\\u4ed6 '"
       ]
      }
     ],
     "prompt_number": 38
    },
    {
     "cell_type": "code",
     "collapsed": false,
     "input": [
      "def getNewsCountVec(arg_data):\n",
      "    cv = CountVectorizer(analyzer=my_tokenizer)\n",
      "    cntContentRes = cv.fit_transform(arg_data)\n",
      "    return cv, cntContentRes"
     ],
     "language": "python",
     "metadata": {},
     "outputs": [],
     "prompt_number": 45
    },
    {
     "cell_type": "code",
     "collapsed": false,
     "input": [
      "data.head()"
     ],
     "language": "python",
     "metadata": {},
     "outputs": [
      {
       "html": [
        "<div style=\"max-height:1000px;max-width:1500px;overflow:auto;\">\n",
        "<table border=\"1\" class=\"dataframe\">\n",
        "  <thead>\n",
        "    <tr style=\"text-align: right;\">\n",
        "      <th></th>\n",
        "      <th>news_id</th>\n",
        "      <th>news_title</th>\n",
        "      <th>news_body</th>\n",
        "      <th>main_related_company_id</th>\n",
        "    </tr>\n",
        "  </thead>\n",
        "  <tbody>\n",
        "    <tr>\n",
        "      <th>0</th>\n",
        "      <td> 220070</td>\n",
        "      <td>                            \u516c\u53f8\u89e3\u7801\u4e4b\u7231\u5c14\u773c\u79d1</td>\n",
        "      <td>                     (\u8d23\u4efb\u7f16\u8f91\uff1aDF118)</td>\n",
        "      <td> 35371</td>\n",
        "    </tr>\n",
        "    <tr>\n",
        "      <th>1</th>\n",
        "      <td> 385890</td>\n",
        "      <td> \u957f\u6625\u4e00\u4e1c\uff1a2013\u5e7409\u670824\u65e5\u6700\u65b0\u63d0\u793a \u4eba\u4e8b\u53d8\u52a8\u5176\u4ed6 (600148)</td>\n",
        "      <td> \u3010\u6700\u65b0\u6caa\u6df1\u505c\u724c\u63d0\u793a\u3011\u3010\u6700\u65b0\u6caa\u6df1\u516c\u544a\u63d0\u793a\u3011\u3010\u4e00\u5468\u4ea4\u6613\u63d0\u793a\u3011\u00a0\u00a0\u00a0\u00a0</td>\n",
        "      <td>   724</td>\n",
        "    </tr>\n",
        "    <tr>\n",
        "      <th>2</th>\n",
        "      <td> 232559</td>\n",
        "      <td>   \u6c5f\u5c71\u80a1\u4efd\uff1a2013\u5e7410\u670815\u65e5\u6700\u65b0\u63d0\u793a \u878d\u8d44\u878d\u5238 (600389)</td>\n",
        "      <td> \u3010\u6700\u65b0\u6caa\u6df1\u505c\u724c\u63d0\u793a\u3011\u3010\u6700\u65b0\u6caa\u6df1\u516c\u544a\u63d0\u793a\u3011\u3010\u4e00\u5468\u4ea4\u6613\u63d0\u793a\u3011\u00a0\u00a0\u00a0\u00a0</td>\n",
        "      <td>   941</td>\n",
        "    </tr>\n",
        "    <tr>\n",
        "      <th>3</th>\n",
        "      <td> 232535</td>\n",
        "      <td>   \u4f73\u8baf\u98de\u9e3f\uff1a2013\u5e7410\u670811\u65e5\u6700\u65b0\u63d0\u793a \u4e1a\u7ee9\u9884\u76c8 (300213)</td>\n",
        "      <td> \u3010\u6700\u65b0\u6caa\u6df1\u505c\u724c\u63d0\u793a\u3011\u3010\u6700\u65b0\u6caa\u6df1\u516c\u544a\u63d0\u793a\u3011\u3010\u4e00\u5468\u4ea4\u6613\u63d0\u793a\u3011\u00a0\u00a0\u00a0\u00a0</td>\n",
        "      <td> 31318</td>\n",
        "    </tr>\n",
        "    <tr>\n",
        "      <th>4</th>\n",
        "      <td> 232538</td>\n",
        "      <td>   \u4f73\u8baf\u98de\u9e3f\uff1a2013\u5e7410\u670811\u65e5\u6700\u65b0\u63d0\u793a \u5927\u5b97\u4ea4\u6613 (300213)</td>\n",
        "      <td> \u3010\u6700\u65b0\u6caa\u6df1\u505c\u724c\u63d0\u793a\u3011\u3010\u6700\u65b0\u6caa\u6df1\u516c\u544a\u63d0\u793a\u3011\u3010\u4e00\u5468\u4ea4\u6613\u63d0\u793a\u3011\u00a0\u00a0\u00a0\u00a0</td>\n",
        "      <td> 31318</td>\n",
        "    </tr>\n",
        "  </tbody>\n",
        "</table>\n",
        "<p>5 rows \u00d7 4 columns</p>\n",
        "</div>"
       ],
       "metadata": {},
       "output_type": "pyout",
       "prompt_number": 48,
       "text": [
        "   news_id                            news_title  \\\n",
        "0   220070                             \u516c\u53f8\u89e3\u7801\u4e4b\u7231\u5c14\u773c\u79d1   \n",
        "1   385890  \u957f\u6625\u4e00\u4e1c\uff1a2013\u5e7409\u670824\u65e5\u6700\u65b0\u63d0\u793a \u4eba\u4e8b\u53d8\u52a8\u5176\u4ed6 (600148)   \n",
        "2   232559    \u6c5f\u5c71\u80a1\u4efd\uff1a2013\u5e7410\u670815\u65e5\u6700\u65b0\u63d0\u793a \u878d\u8d44\u878d\u5238 (600389)   \n",
        "3   232535    \u4f73\u8baf\u98de\u9e3f\uff1a2013\u5e7410\u670811\u65e5\u6700\u65b0\u63d0\u793a \u4e1a\u7ee9\u9884\u76c8 (300213)   \n",
        "4   232538    \u4f73\u8baf\u98de\u9e3f\uff1a2013\u5e7410\u670811\u65e5\u6700\u65b0\u63d0\u793a \u5927\u5b97\u4ea4\u6613 (300213)   \n",
        "\n",
        "                          news_body  main_related_company_id  \n",
        "0                      (\u8d23\u4efb\u7f16\u8f91\uff1aDF118)                    35371  \n",
        "1  \u3010\u6700\u65b0\u6caa\u6df1\u505c\u724c\u63d0\u793a\u3011\u3010\u6700\u65b0\u6caa\u6df1\u516c\u544a\u63d0\u793a\u3011\u3010\u4e00\u5468\u4ea4\u6613\u63d0\u793a\u3011\u00a0\u00a0\u00a0\u00a0                      724  \n",
        "2  \u3010\u6700\u65b0\u6caa\u6df1\u505c\u724c\u63d0\u793a\u3011\u3010\u6700\u65b0\u6caa\u6df1\u516c\u544a\u63d0\u793a\u3011\u3010\u4e00\u5468\u4ea4\u6613\u63d0\u793a\u3011\u00a0\u00a0\u00a0\u00a0                      941  \n",
        "3  \u3010\u6700\u65b0\u6caa\u6df1\u505c\u724c\u63d0\u793a\u3011\u3010\u6700\u65b0\u6caa\u6df1\u516c\u544a\u63d0\u793a\u3011\u3010\u4e00\u5468\u4ea4\u6613\u63d0\u793a\u3011\u00a0\u00a0\u00a0\u00a0                    31318  \n",
        "4  \u3010\u6700\u65b0\u6caa\u6df1\u505c\u724c\u63d0\u793a\u3011\u3010\u6700\u65b0\u6caa\u6df1\u516c\u544a\u63d0\u793a\u3011\u3010\u4e00\u5468\u4ea4\u6613\u63d0\u793a\u3011\u00a0\u00a0\u00a0\u00a0                    31318  \n",
        "\n",
        "[5 rows x 4 columns]"
       ]
      }
     ],
     "prompt_number": 48
    },
    {
     "cell_type": "code",
     "collapsed": false,
     "input": [
      "cv, res = getNewsCountVec(data['news_body'].values)"
     ],
     "language": "python",
     "metadata": {},
     "outputs": []
    }
   ],
   "metadata": {}
  }
 ]
}