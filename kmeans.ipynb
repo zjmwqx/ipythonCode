{
 "metadata": {
  "name": ""
 },
 "nbformat": 3,
 "nbformat_minor": 0,
 "worksheets": [
  {
   "cells": [
    {
     "cell_type": "code",
     "collapsed": false,
     "input": [
      "from numpy import *\n",
      "\n",
      "def loadDataSet(fileName):      #general function to parse tab -delimited floats\n",
      "    dataMat = []                #assume last column is target value\n",
      "    fr = open(fileName)\n",
      "    for line in fr.readlines():\n",
      "        curLine = line.strip().split('\\t')\n",
      "        fltLine = map(float,curLine) #map all elements to float()\n",
      "        dataMat.append(fltLine)\n",
      "    return dataMat"
     ],
     "language": "python",
     "metadata": {},
     "outputs": [],
     "prompt_number": 1
    },
    {
     "cell_type": "code",
     "collapsed": false,
     "input": [
      "def distEclud(vecA, vecB):\n",
      "    return sqrt(sum(power(vecA - vecB, 2))) #la.norm(vecA-vecB)"
     ],
     "language": "python",
     "metadata": {},
     "outputs": [],
     "prompt_number": 2
    },
    {
     "cell_type": "code",
     "collapsed": false,
     "input": [
      "def randCent(dataSet, k):\n",
      "    n = shape(dataSet)[1]\n",
      "    centroids = mat(zeros((k,n)))#create centroid mat\n",
      "    for j in range(n):#create random cluster centers, within bounds of each dimension\n",
      "        minJ = min(dataSet[:,j]) \n",
      "        rangeJ = float(max(dataSet[:,j]) - minJ)\n",
      "        centroids[:,j] = mat(minJ + rangeJ * random.rand(k,1))\n",
      "    return centroids"
     ],
     "language": "python",
     "metadata": {},
     "outputs": [],
     "prompt_number": 3
    },
    {
     "cell_type": "code",
     "collapsed": false,
     "input": [
      "def kMeans(dataSet, k, distMeas=distEclud, createCent=randCent):\n",
      "    m = shape(dataSet)[0]\n",
      "    clusterAssment = mat(zeros((m,2)))#create mat to assign data points \n",
      "                                      #to a centroid, also holds SE of each point\n",
      "    centroids = createCent(dataSet, k)\n",
      "    clusterChanged = True\n",
      "    while clusterChanged:\n",
      "        clusterChanged = False\n",
      "        for i in range(m):#for each data point assign it to the closest centroid\n",
      "            minDist = inf; minIndex = -1\n",
      "            for j in range(k):\n",
      "                distJI = distMeas(centroids[j,:],dataSet[i,:])\n",
      "                if distJI < minDist:\n",
      "                    minDist = distJI; minIndex = j\n",
      "            if clusterAssment[i,0] != minIndex: clusterChanged = True\n",
      "            clusterAssment[i,:] = minIndex,minDist**2\n",
      "        print centroids\n",
      "        for cent in range(k):#recalculate centroids\n",
      "            ptsInClust = dataSet[nonzero(clusterAssment[:,0].A==cent)[0]]#get all the point in this cluster\n",
      "            centroids[cent,:] = mean(ptsInClust, axis=0) #assign centroid to mean \n",
      "    return centroids, clusterAssment"
     ],
     "language": "python",
     "metadata": {},
     "outputs": [],
     "prompt_number": 7
    },
    {
     "cell_type": "code",
     "collapsed": false,
     "input": [
      "datMat = loadDataSet('machinelearninginaction/Ch10/testSet.txt')"
     ],
     "language": "python",
     "metadata": {},
     "outputs": [],
     "prompt_number": 9
    },
    {
     "cell_type": "code",
     "collapsed": false,
     "input": [
      "myCentroids, clustAssing = kMeans(mat(datMat),4)"
     ],
     "language": "python",
     "metadata": {},
     "outputs": [
      {
       "output_type": "stream",
       "stream": "stdout",
       "text": [
        "[[-3.17417818 -3.92790092]\n",
        " [-2.83839817 -1.62848631]\n",
        " [ 4.09766609 -0.92574019]\n",
        " [-2.32928444 -3.02937276]]\n",
        "[[-3.96952412 -3.4319155 ]\n",
        " [-2.71514667  1.50734181]\n",
        " [ 2.82102866  0.39129192]\n",
        " [-1.488999   -3.39541457]]"
       ]
      },
      {
       "output_type": "stream",
       "stream": "stdout",
       "text": [
        "\n",
        "[[-3.82248573 -2.80916987]\n",
        " [-2.46154315  2.78737555]\n",
        " [ 2.84688416  0.48771357]\n",
        " [-0.88195275 -3.41390862]]"
       ]
      },
      {
       "output_type": "stream",
       "stream": "stdout",
       "text": [
        "\n",
        "[[-3.61853111 -2.81946867]\n",
        " [-2.46154315  2.78737555]\n",
        " [ 2.8287018   1.4343227 ]\n",
        " [ 1.76785933 -3.64022167]]"
       ]
      },
      {
       "output_type": "stream",
       "stream": "stdout",
       "text": [
        "\n",
        "[[-3.53973889 -2.89384326]\n",
        " [-2.46154315  2.78737555]\n",
        " [ 2.71502526  2.5965363 ]\n",
        " [ 2.54173689 -3.11892933]]"
       ]
      },
      {
       "output_type": "stream",
       "stream": "stdout",
       "text": [
        "\n",
        "[[-3.53973889 -2.89384326]\n",
        " [-2.46154315  2.78737555]\n",
        " [ 2.6265299   3.10868015]\n",
        " [ 2.65077367 -2.79019029]]\n"
       ]
      }
     ],
     "prompt_number": 11
    },
    {
     "cell_type": "code",
     "collapsed": false,
     "input": [],
     "language": "python",
     "metadata": {},
     "outputs": []
    }
   ],
   "metadata": {}
  }
 ]
}