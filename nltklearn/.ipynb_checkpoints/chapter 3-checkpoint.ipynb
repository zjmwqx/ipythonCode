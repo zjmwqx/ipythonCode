{
 "cells": [
  {
   "cell_type": "code",
   "execution_count": 4,
   "metadata": {
    "collapsed": true
   },
   "outputs": [],
   "source": [
    "from __future__ import division\n",
    "import nltk, re, pprint"
   ]
  },
  {
   "cell_type": "code",
   "execution_count": 7,
   "metadata": {
    "collapsed": true
   },
   "outputs": [],
   "source": [
    "from urllib import urlopen\n",
    "url = \"http://www.gutenberg.org/files/2554/2554.txt\"\n",
    "raw = urlopen(url).read()"
   ]
  },
  {
   "cell_type": "code",
   "execution_count": 11,
   "metadata": {
    "collapsed": false
   },
   "outputs": [],
   "source": [
    "tokens = nltk.word_tokenize(raw)"
   ]
  },
  {
   "cell_type": "code",
   "execution_count": 12,
   "metadata": {
    "collapsed": true
   },
   "outputs": [],
   "source": [
    "text = nltk.Text(tokens)"
   ]
  },
  {
   "cell_type": "code",
   "execution_count": 13,
   "metadata": {
    "collapsed": false
   },
   "outputs": [
    {
     "name": "stdout",
     "output_type": "stream",
     "text": [
      "Katerina Ivanovna; Pyotr Petrovitch; Pulcheria Alexandrovna; Avdotya\n",
      "Romanovna; Rodion Romanovitch; Marfa Petrovna; Sofya Semyonovna; old\n",
      "woman; Project Gutenberg-tm; Porfiry Petrovitch; Amalia Ivanovna;\n",
      "great deal; Nikodim Fomitch; young man; Ilya Petrovitch; n't know;\n",
      "Project Gutenberg; Dmitri Prokofitch; Andrey Semyonovitch; Hay Market\n"
     ]
    }
   ],
   "source": [
    "text.collocations()"
   ]
  },
  {
   "cell_type": "code",
   "execution_count": 14,
   "metadata": {
    "collapsed": false
   },
   "outputs": [],
   "source": [
    "raw = raw[5303:1157681]"
   ]
  },
  {
   "cell_type": "code",
   "execution_count": 16,
   "metadata": {
    "collapsed": false
   },
   "outputs": [],
   "source": [
    "raw = raw[35:1157681]"
   ]
  },
  {
   "cell_type": "code",
   "execution_count": 17,
   "metadata": {
    "collapsed": false
   },
   "outputs": [
    {
     "data": {
      "text/plain": [
       "0"
      ]
     },
     "execution_count": 17,
     "metadata": {},
     "output_type": "execute_result"
    }
   ],
   "source": [
    "raw.find(\"PART I\")b"
   ]
  },
  {
   "cell_type": "code",
   "execution_count": 19,
   "metadata": {
    "collapsed": false
   },
   "outputs": [
    {
     "data": {
      "text/plain": [
       "'<!doctype html public \"-//W3C//DTD HTML 4.0 Transitional//EN'"
      ]
     },
     "execution_count": 19,
     "metadata": {},
     "output_type": "execute_result"
    }
   ],
   "source": [
    "url = \"http://news.bbc.co.uk/2/hi/health/2284783.stm\"\n",
    "html = urlopen(url).read()\n",
    "html[:60]"
   ]
  },
  {
   "cell_type": "code",
   "execution_count": 26,
   "metadata": {
    "collapsed": false
   },
   "outputs": [],
   "source": [
    "from BeautifulSoup import BeautifulSoup"
   ]
  },
  {
   "cell_type": "code",
   "execution_count": 28,
   "metadata": {
    "collapsed": false
   },
   "outputs": [],
   "source": [
    "parsed=BeautifulSoup(html)"
   ]
  },
  {
   "cell_type": "code",
   "execution_count": 33,
   "metadata": {
    "collapsed": false
   },
   "outputs": [],
   "source": [
    "# nltk.word_tokenize(parsed.getText())"
   ]
  },
  {
   "cell_type": "code",
   "execution_count": 40,
   "metadata": {
    "collapsed": true
   },
   "outputs": [],
   "source": [
    "import feedparser\n",
    "llog = feedparser.parse(\"http://languagelog.ldc.upenn.edu/nll/?feed=atom\")"
   ]
  },
  {
   "cell_type": "code",
   "execution_count": 2,
   "metadata": {
    "collapsed": false
   },
   "outputs": [
    {
     "data": {
      "text/plain": [
       "['Chapter1.ipynb', '.ipynb_checkpoints', 'chapter 3.ipynb']"
      ]
     },
     "execution_count": 2,
     "metadata": {},
     "output_type": "execute_result"
    }
   ],
   "source": [
    "import os\n",
    "os.listdir('.')"
   ]
  },
  {
   "cell_type": "code",
   "execution_count": 6,
   "metadata": {
    "collapsed": true
   },
   "outputs": [],
   "source": [
    "f = open('Chapter1.ipynb', 'rU')\n",
    "text = f.read()"
   ]
  },
  {
   "cell_type": "code",
   "execution_count": 9,
   "metadata": {
    "collapsed": false
   },
   "outputs": [],
   "source": [
    "import nltk\n",
    "path = nltk.data.find('corpora/gutenberg/melville-moby_dick.txt')\n",
    "raw = open(path, 'rU').read()"
   ]
  },
  {
   "cell_type": "code",
   "execution_count": 11,
   "metadata": {
    "collapsed": false
   },
   "outputs": [],
   "source": [
    "b = ['a', 'b','c','d']"
   ]
  },
  {
   "cell_type": "code",
   "execution_count": 12,
   "metadata": {
    "collapsed": true
   },
   "outputs": [],
   "source": [
    "del b[2]"
   ]
  },
  {
   "cell_type": "code",
   "execution_count": 13,
   "metadata": {
    "collapsed": false
   },
   "outputs": [
    {
     "data": {
      "text/plain": [
       "['a', 'b', 'd']"
      ]
     },
     "execution_count": 13,
     "metadata": {},
     "output_type": "execute_result"
    }
   ],
   "source": [
    "b"
   ]
  },
  {
   "cell_type": "code",
   "execution_count": 3,
   "metadata": {
    "collapsed": false
   },
   "outputs": [],
   "source": [
    "import nltk\n",
    "path = nltk.data.find('corpora/unicode_samples/polish-lat2.txt')"
   ]
  },
  {
   "cell_type": "code",
   "execution_count": 12,
   "metadata": {
    "collapsed": false
   },
   "outputs": [],
   "source": [
    "import codecs\n",
    "f = codecs.open(path, encoding='latin2')"
   ]
  },
  {
   "cell_type": "code",
   "execution_count": 13,
   "metadata": {
    "collapsed": false
   },
   "outputs": [
    {
     "name": "stdout",
     "output_type": "stream",
     "text": [
      "Pruska Biblioteka Pa\\u0144stwowa. Jej dawne zbiory znane pod nazw\\u0105\n",
      "\"Berlinka\" to skarb kultury i sztuki niemieckiej. Przewiezione przez\n",
      "Niemc\\xf3w pod koniec II wojny \\u015bwiatowej na Dolny \\u015al\\u0105sk, zosta\\u0142y\n",
      "odnalezione po 1945 r. na terytorium Polski. Trafi\\u0142y do Biblioteki\n",
      "Jagiello\\u0144skiej w Krakowie, obejmuj\\u0105 ponad 500 tys. zabytkowych\n",
      "archiwali\\xf3w, m.in. manuskrypty Goethego, Mozarta, Beethovena, Bacha.\n"
     ]
    }
   ],
   "source": [
    "for line in f:\n",
    "    line = line.strip()\n",
    "    print line.encode('unicode_escape')"
   ]
  },
  {
   "cell_type": "code",
   "execution_count": 24,
   "metadata": {
    "collapsed": true
   },
   "outputs": [],
   "source": [
    "a = u'\\u0144'"
   ]
  },
  {
   "cell_type": "code",
   "execution_count": 28,
   "metadata": {
    "collapsed": false
   },
   "outputs": [
    {
     "data": {
      "text/plain": [
       "'\\xc5\\x84'"
      ]
     },
     "execution_count": 28,
     "metadata": {},
     "output_type": "execute_result"
    }
   ],
   "source": [
    "a.encode('utf-8')"
   ]
  },
  {
   "cell_type": "code",
   "execution_count": 29,
   "metadata": {
    "collapsed": true
   },
   "outputs": [],
   "source": [
    "import unicodedata\n",
    "line = codecs.open(path, encoding='latin2').readlines()"
   ]
  },
  {
   "cell_type": "code",
   "execution_count": 30,
   "metadata": {
    "collapsed": true
   },
   "outputs": [],
   "source": [
    "lin = line[2]"
   ]
  },
  {
   "cell_type": "code",
   "execution_count": 35,
   "metadata": {
    "collapsed": false
   },
   "outputs": [
    {
     "name": "stdout",
     "output_type": "stream",
     "text": [
      "Niemc\\xf3w pod koniec II wojny \\u015bwiatowej na Dolny \\u015al\\u0105sk, zosta\\u0142y\\n\n"
     ]
    }
   ],
   "source": [
    "print lin.encode('unicode_escape')"
   ]
  },
  {
   "cell_type": "code",
   "execution_count": 37,
   "metadata": {
    "collapsed": false
   },
   "outputs": [
    {
     "name": "stdout",
     "output_type": "stream",
     "text": [
      "ó U+ 00f3 LATIN SMALL LETTER O WITH ACUTE\n",
      "ś U+ 015b LATIN SMALL LETTER S WITH ACUTE\n",
      "Ś U+ 015a LATIN CAPITAL LETTER S WITH ACUTE\n",
      "ą U+ 0105 LATIN SMALL LETTER A WITH OGONEK\n",
      "ł U+ 0142 LATIN SMALL LETTER L WITH STROKE\n"
     ]
    }
   ],
   "source": [
    "for c in lin:\n",
    "    if ord(c) > 127:\n",
    "        print '%s U+ %04x %s' % (c.encode('utf-8'), ord(c), unicodedata.name(c))"
   ]
  },
  {
   "cell_type": "code",
   "execution_count": 39,
   "metadata": {
    "collapsed": false
   },
   "outputs": [
    {
     "data": {
      "text/plain": [
       "54"
      ]
     },
     "execution_count": 39,
     "metadata": {},
     "output_type": "execute_result"
    }
   ],
   "source": [
    "lin.find(u'zosta\\u0142y')"
   ]
  },
  {
   "cell_type": "code",
   "execution_count": 41,
   "metadata": {
    "collapsed": false
   },
   "outputs": [],
   "source": [
    "lin = lin.lower()"
   ]
  },
  {
   "cell_type": "code",
   "execution_count": 42,
   "metadata": {
    "collapsed": false
   },
   "outputs": [
    {
     "name": "stdout",
     "output_type": "stream",
     "text": [
      "niemc\\xf3w pod koniec ii wojny \\u015bwiatowej na dolny \\u015bl\\u0105sk, zosta\\u0142y\\n\n"
     ]
    }
   ],
   "source": [
    "print lin.encode('unicode_escape')"
   ]
  },
  {
   "cell_type": "code",
   "execution_count": 43,
   "metadata": {
    "collapsed": true
   },
   "outputs": [],
   "source": [
    "import re"
   ]
  },
  {
   "cell_type": "code",
   "execution_count": 45,
   "metadata": {
    "collapsed": false
   },
   "outputs": [],
   "source": [
    "m = re.search(u'\\u015b\\w*', lin)"
   ]
  },
  {
   "cell_type": "code",
   "execution_count": 47,
   "metadata": {
    "collapsed": false
   },
   "outputs": [
    {
     "data": {
      "text/plain": [
       "[u'niemc\\xf3w',\n",
       " u'pod',\n",
       " u'koniec',\n",
       " u'ii',\n",
       " u'wojny',\n",
       " u'\\u015bwiatowej',\n",
       " u'na',\n",
       " u'dolny',\n",
       " u'\\u015bl\\u0105sk',\n",
       " u',',\n",
       " u'zosta\\u0142y']"
      ]
     },
     "execution_count": 47,
     "metadata": {},
     "output_type": "execute_result"
    }
   ],
   "source": [
    "nltk.word_tokenize(lin)"
   ]
  },
  {
   "cell_type": "code",
   "execution_count": 48,
   "metadata": {
    "collapsed": true
   },
   "outputs": [],
   "source": [
    "wsj = sorted(set(nltk.corpus.treebank.words()))"
   ]
  },
  {
   "cell_type": "code",
   "execution_count": 51,
   "metadata": {
    "collapsed": false
   },
   "outputs": [
    {
     "data": {
      "text/plain": [
       "[u'62%-owned',\n",
       " u'Absorbed',\n",
       " u'According',\n",
       " u'Adopting',\n",
       " u'Advanced',\n",
       " u'Advancing',\n",
       " u'Alfred',\n",
       " u'Allied',\n",
       " u'Annualized',\n",
       " u'Anything',\n",
       " u'Arbitrage-related',\n",
       " u'Arbitraging',\n",
       " u'Asked',\n",
       " u'Assuming',\n",
       " u'Atlanta-based',\n",
       " u'Baking',\n",
       " u'Banking',\n",
       " u'Beginning',\n",
       " u'Beijing',\n",
       " u'Being',\n",
       " u'Bermuda-based',\n",
       " u'Betting',\n",
       " u'Biedermann',\n",
       " u'Boeing',\n",
       " u'Breeden',\n",
       " u'Broadcasting',\n",
       " u'Bucking',\n",
       " u'Buying',\n",
       " u'Calif.-based',\n",
       " u'Cathedral',\n",
       " u'Cedric',\n",
       " u'Change-ringing',\n",
       " u'Citing',\n",
       " u'Concerned',\n",
       " u'Confederation',\n",
       " u'Confronted',\n",
       " u'Conn.based',\n",
       " u'Consolidated',\n",
       " u'Continued',\n",
       " u'Continuing',\n",
       " u'Credit',\n",
       " u'Declining',\n",
       " u'Defending',\n",
       " u'Depending',\n",
       " u'Designated',\n",
       " u'Determining',\n",
       " u'Developed',\n",
       " u'Died',\n",
       " u'During',\n",
       " u'Encouraged',\n",
       " u'Encouraging',\n",
       " u'English-speaking',\n",
       " u'Estimated',\n",
       " u'Everything',\n",
       " u'Excluding',\n",
       " u'Exxon-owned',\n",
       " u'Faulding',\n",
       " u'Fed',\n",
       " u'Federal',\n",
       " u'Federalist',\n",
       " u'Federation',\n",
       " u'Feeding',\n",
       " u'Filling',\n",
       " u'Filmed',\n",
       " u'Financing',\n",
       " u'Following',\n",
       " u'Founded',\n",
       " u'Fracturing',\n",
       " u'Francisco-based',\n",
       " u'Fred',\n",
       " u'Freddie',\n",
       " u'Frederick',\n",
       " u'Friedrichs',\n",
       " u'Funded',\n",
       " u'Funding',\n",
       " u'Generalized',\n",
       " u'Germany-based',\n",
       " u'Getting',\n",
       " u'Guaranteed',\n",
       " u'Having',\n",
       " u'Heating',\n",
       " u'Heightened',\n",
       " u'Holding',\n",
       " u'Housing',\n",
       " u'Illuminating',\n",
       " u'Impediments',\n",
       " u'Indeed',\n",
       " u'Indexing',\n",
       " u'Intermediate',\n",
       " u'Irving',\n",
       " u'Jersey-based',\n",
       " u'Judging',\n",
       " u'Kennedy',\n",
       " u'Knowing',\n",
       " u'Learning',\n",
       " u'Legislating',\n",
       " u'Leming',\n",
       " u'Limited',\n",
       " u'London-based',\n",
       " u'Manfred',\n",
       " u'Manufacturing',\n",
       " u'Media',\n",
       " u'Medical',\n",
       " u'Medicine',\n",
       " u'Melamed',\n",
       " u'Mercedes',\n",
       " u'Miami-based',\n",
       " u'Mich.-based',\n",
       " u'Mining',\n",
       " u'Minneapolis-based',\n",
       " u'Mo.-based',\n",
       " u'Montedison',\n",
       " u'Mortgage-Backed',\n",
       " u'Moving',\n",
       " u'Muzzling',\n",
       " u'N.J.-based',\n",
       " u'NBC-owned',\n",
       " u'NIH-appointed',\n",
       " u'Named',\n",
       " u'Nederlanden',\n",
       " u'Needham',\n",
       " u'No-Smoking',\n",
       " u'Observing',\n",
       " u'Offering',\n",
       " u'Ohio-based',\n",
       " u'Orleans-based',\n",
       " u'Packaging',\n",
       " u'Performing',\n",
       " u'Philadelphia-based',\n",
       " u'Posted',\n",
       " u'Proceeds',\n",
       " u'Provided',\n",
       " u'Publishing',\n",
       " u'Purchasing',\n",
       " u'Rated',\n",
       " u'Reached',\n",
       " u'Red',\n",
       " u'Red-blooded',\n",
       " u'Reddington',\n",
       " u'Redevelopment',\n",
       " u'Reducing',\n",
       " u'Reed',\n",
       " u'Regarded',\n",
       " u'Rekindled',\n",
       " u'Related',\n",
       " u'Ringing',\n",
       " u'Roederer',\n",
       " u'Rolling',\n",
       " u'Sacramento-based',\n",
       " u'Scoring',\n",
       " u'Seattle-based',\n",
       " u'Seed',\n",
       " u'Skilled',\n",
       " u'Smelting',\n",
       " u'Something',\n",
       " u'Speedway',\n",
       " u'Spending',\n",
       " u'Standardized',\n",
       " u'Standing',\n",
       " u'Starting',\n",
       " u'Sterling',\n",
       " u'Sweden',\n",
       " u'Taking',\n",
       " u'Teddy',\n",
       " u'Texas-based',\n",
       " u'Toledo',\n",
       " u'Toronto-based',\n",
       " u'Traded',\n",
       " u'Trading',\n",
       " u'Troubled',\n",
       " u'U.N.-supervised',\n",
       " u'U.S.-backed',\n",
       " u'United',\n",
       " u'Used',\n",
       " u'Varying',\n",
       " u'Washington-based',\n",
       " u'Wednesday',\n",
       " u'Wedtech',\n",
       " u'Whiting',\n",
       " u'Wilfred',\n",
       " u'Winning',\n",
       " u'Xiaoping',\n",
       " u'York-based',\n",
       " u'Zayed',\n",
       " u'abandoned',\n",
       " u'abating',\n",
       " u'abolishing',\n",
       " u'abortion-related',\n",
       " u'abounding',\n",
       " u'abridging',\n",
       " u'absorbed',\n",
       " u'acceded',\n",
       " u'accelerated',\n",
       " u'accepted',\n",
       " u'accepting',\n",
       " u'according',\n",
       " u'accounted',\n",
       " u'accounting',\n",
       " u'accrued',\n",
       " u'accumulated',\n",
       " u'accused',\n",
       " u'accusing',\n",
       " u'achieved',\n",
       " u'achieving',\n",
       " u'acknowledge',\n",
       " u'acknowledges',\n",
       " u'acknowledging',\n",
       " u'acquired',\n",
       " u'acquiring',\n",
       " u'acquisition-minded',\n",
       " u'acted',\n",
       " u'acting',\n",
       " u'adapted',\n",
       " u'adapting',\n",
       " u'added',\n",
       " u'adding',\n",
       " u'addressing',\n",
       " u'adjusted',\n",
       " u'adjusting',\n",
       " u'admitted',\n",
       " u'admitting',\n",
       " u'adopted',\n",
       " u'advanced',\n",
       " u'advancing',\n",
       " u'advertised',\n",
       " u'advertising',\n",
       " u'advised',\n",
       " u'advocated',\n",
       " u'advocating',\n",
       " u'affecting',\n",
       " u'afflicted',\n",
       " u'aggravated',\n",
       " u'agreed',\n",
       " u'agreed-upon',\n",
       " u'agreeing',\n",
       " u'ailing',\n",
       " u'aimed',\n",
       " u'aiming',\n",
       " u'aired',\n",
       " u'airline-related',\n",
       " u'alarmed',\n",
       " u'alienated',\n",
       " u'alleged',\n",
       " u'allegedly',\n",
       " u'alleging',\n",
       " u'allocated',\n",
       " u'allowed',\n",
       " u'altered',\n",
       " u'altering',\n",
       " u'amended',\n",
       " u'amending',\n",
       " u'amounted',\n",
       " u'amusing',\n",
       " u'angered',\n",
       " u'announced',\n",
       " u'annoyed',\n",
       " u'annualized',\n",
       " u'answered',\n",
       " u'anti-dumping',\n",
       " u'anticipated',\n",
       " u'anticipating',\n",
       " u'anything',\n",
       " u'apologizing',\n",
       " u'appealing',\n",
       " u'appeared',\n",
       " u'appearing',\n",
       " u'applied',\n",
       " u'appointed',\n",
       " u'approached',\n",
       " u'appropriated',\n",
       " u'approved',\n",
       " u'arched',\n",
       " u'argued',\n",
       " u'arguing',\n",
       " u'arising',\n",
       " u'armed',\n",
       " u'arranged',\n",
       " u'arrested',\n",
       " u'arrived',\n",
       " u'asbestos-related',\n",
       " u'asked',\n",
       " u'asking',\n",
       " u'assassinated',\n",
       " u'assembled',\n",
       " u'asserted',\n",
       " u'asserting',\n",
       " u'assessed',\n",
       " u'assigned',\n",
       " u'assisted',\n",
       " u'associated',\n",
       " u'assumed',\n",
       " u'assuming',\n",
       " u'assured',\n",
       " u'attached',\n",
       " u'attacking',\n",
       " u'attempted',\n",
       " u'attempting',\n",
       " u'attended',\n",
       " u'attending',\n",
       " u'attracted',\n",
       " u'attracting',\n",
       " u'attributed',\n",
       " u'auctioned',\n",
       " u'authorized',\n",
       " u'authorizing',\n",
       " u'automated',\n",
       " u'automotive-lighting',\n",
       " u'averaged',\n",
       " u'averted',\n",
       " u'avoiding',\n",
       " u'awarded',\n",
       " u'awarding',\n",
       " u'backed',\n",
       " u'backing',\n",
       " u'balanced',\n",
       " u'bald-faced',\n",
       " u'balkanized',\n",
       " u'balked',\n",
       " u'balloting',\n",
       " u'bank-backed',\n",
       " u'banking',\n",
       " u'banned',\n",
       " u'banning',\n",
       " u'barking',\n",
       " u'barred',\n",
       " u'based',\n",
       " u'battered',\n",
       " u'battery-operated',\n",
       " u'batting',\n",
       " u'bearing',\n",
       " u'becoming',\n",
       " u'bedding',\n",
       " u'beds',\n",
       " u'befuddled',\n",
       " u'beginning',\n",
       " u'behaving',\n",
       " u'beheading',\n",
       " u'being',\n",
       " u'beleaguered',\n",
       " u'believed',\n",
       " u'bell-ringing',\n",
       " u'belonging',\n",
       " u'benefited',\n",
       " u'best-selling',\n",
       " u'betting',\n",
       " u'bickering',\n",
       " u'bidding',\n",
       " u'billed',\n",
       " u'billing',\n",
       " u'blamed',\n",
       " u'bled',\n",
       " u'blessing',\n",
       " u'blighted',\n",
       " u'blocked',\n",
       " u'blurred',\n",
       " u'boarding',\n",
       " u'bolstered',\n",
       " u'bombarding',\n",
       " u'booked',\n",
       " u'booming',\n",
       " u'boosted',\n",
       " u'boosting',\n",
       " u'borrowed',\n",
       " u'borrowing',\n",
       " u'botched',\n",
       " u'bothered',\n",
       " u'bounced',\n",
       " u'bowed',\n",
       " u'breaking',\n",
       " u'breathed',\n",
       " u'breathtaking',\n",
       " u'breed',\n",
       " u'bribed',\n",
       " u'bribing',\n",
       " u'briefing',\n",
       " u'brightened',\n",
       " u'bring',\n",
       " u'bringing',\n",
       " u'broad-based',\n",
       " u'broadcasting',\n",
       " u'broadened',\n",
       " u'brokering',\n",
       " u'brushed',\n",
       " u'budding',\n",
       " u'building',\n",
       " u'bundling',\n",
       " u'buoyed',\n",
       " u'burned',\n",
       " u'buttoned-down',\n",
       " u'buying',\n",
       " u'calculated',\n",
       " u'called',\n",
       " u'calling',\n",
       " u'campaigning',\n",
       " u'cancer-causing',\n",
       " u'capitalized',\n",
       " u'capped',\n",
       " u'captivating',\n",
       " u'cared',\n",
       " u'carried',\n",
       " u'carrying',\n",
       " u'cascading',\n",
       " u'casting',\n",
       " u'caused',\n",
       " u'causing',\n",
       " u'cautioned',\n",
       " u'ceiling',\n",
       " u'centralized',\n",
       " u'certified',\n",
       " u'chaired',\n",
       " u'challenging',\n",
       " u'championing',\n",
       " u'change-ringing',\n",
       " u'changed',\n",
       " u'changing',\n",
       " u'characterized',\n",
       " u'characterizing',\n",
       " u'charged',\n",
       " u'charging',\n",
       " u'chastised',\n",
       " u'cheating',\n",
       " u'checking',\n",
       " u'cheerleading',\n",
       " u'chilled',\n",
       " u'choosing',\n",
       " u'chopped',\n",
       " u'circulated',\n",
       " u'cited',\n",
       " u'citing',\n",
       " u'citizen-sparked',\n",
       " u'city-owned',\n",
       " u'claimed',\n",
       " u'claiming',\n",
       " u'clamped',\n",
       " u'clarified',\n",
       " u'clashed',\n",
       " u'classed',\n",
       " u'classified',\n",
       " u'cleaned',\n",
       " u'cleaner-burning',\n",
       " u'cleared',\n",
       " u'clearing',\n",
       " u'clicked',\n",
       " u'climbed',\n",
       " u'climbing',\n",
       " u'clipped',\n",
       " u'clobbered',\n",
       " u'closed',\n",
       " u'closed-end',\n",
       " u'closing',\n",
       " u'clothing',\n",
       " u'clouding',\n",
       " u'cluttered',\n",
       " u'co-founded',\n",
       " u'coaching',\n",
       " u'coal-fired',\n",
       " u'coated',\n",
       " u'codified',\n",
       " u'collaborated',\n",
       " u'collapsed',\n",
       " u'collected',\n",
       " u'collecting',\n",
       " u'collective-bargaining',\n",
       " u'colored',\n",
       " u'combined',\n",
       " u'comedies',\n",
       " u'coming',\n",
       " u'commanded',\n",
       " u'commenting',\n",
       " u'committed',\n",
       " u'committing',\n",
       " u'compared',\n",
       " u'compelling',\n",
       " u'competed',\n",
       " u'competing',\n",
       " u'compiled',\n",
       " u'complained',\n",
       " u'complaining',\n",
       " u'completed',\n",
       " u'completing',\n",
       " u'complicated',\n",
       " u'composed',\n",
       " u'composting',\n",
       " u'compressed',\n",
       " u'computer-aided',\n",
       " u'computer-assisted',\n",
       " u'computer-generated',\n",
       " u'computerized',\n",
       " u'computing',\n",
       " u'concede',\n",
       " u'concedes',\n",
       " u'conceding',\n",
       " u'concentrated',\n",
       " u'concentrating',\n",
       " u'concerned',\n",
       " u'concluded',\n",
       " u'condemned',\n",
       " u'condemning',\n",
       " u'conducted',\n",
       " u'conducting',\n",
       " u'confined',\n",
       " u'confirmed',\n",
       " u'confused',\n",
       " u'connected',\n",
       " u'consented',\n",
       " u'considered',\n",
       " u'considering',\n",
       " u'consisting',\n",
       " u'construed',\n",
       " u'consulting',\n",
       " u'contacted',\n",
       " u'contained',\n",
       " u'containing',\n",
       " u'contesting',\n",
       " u'continued',\n",
       " u'continuing',\n",
       " u'contracted',\n",
       " u'contributed',\n",
       " u'contributing',\n",
       " u'controlled',\n",
       " u'controlling',\n",
       " u'converted',\n",
       " u'converting',\n",
       " u'convicted',\n",
       " u'convinced',\n",
       " u'cooled',\n",
       " u'cooperating',\n",
       " u'copied',\n",
       " u'copying',\n",
       " u'corn-buying',\n",
       " u'corrected',\n",
       " u'correcting',\n",
       " u'cost-cutting',\n",
       " u'cost-sharing',\n",
       " u'counseling',\n",
       " u'counting',\n",
       " u'coupled',\n",
       " u'court-ordered',\n",
       " u'covered',\n",
       " u'covering',\n",
       " u'cranked',\n",
       " u'crashing',\n",
       " u'created',\n",
       " u'creating',\n",
       " u'credentials',\n",
       " u'credibility',\n",
       " u'credit',\n",
       " u'credit-rating',\n",
       " u'creditor',\n",
       " u'creditors',\n",
       " u'credits',\n",
       " u'creditworthiness',\n",
       " u'crippled',\n",
       " u'criticized',\n",
       " u'crossed',\n",
       " u'crossing',\n",
       " u'crowded',\n",
       " u'cruising',\n",
       " u'crushed',\n",
       " u'crying',\n",
       " u'cultivated',\n",
       " u'curbed',\n",
       " u'curbing',\n",
       " u'curled',\n",
       " u'current-carrying',\n",
       " u'curtailed',\n",
       " u'cushioned',\n",
       " u'customized',\n",
       " u'cutting',\n",
       " u'damaged',\n",
       " u'damaging',\n",
       " u'dancing',\n",
       " u'darned',\n",
       " u'dashed',\n",
       " u'dating',\n",
       " u'dead-eyed',\n",
       " u'dealing',\n",
       " u'decided',\n",
       " u'declared',\n",
       " u'declaring',\n",
       " u'declined',\n",
       " u'declining',\n",
       " u'decorated',\n",
       " u'decried',\n",
       " u'deducting',\n",
       " u'deeds',\n",
       " u'deemed',\n",
       " u'defeated',\n",
       " u'defended',\n",
       " u'defined',\n",
       " u'defying',\n",
       " u'delayed',\n",
       " u'deliberating',\n",
       " u'delisted',\n",
       " u'delivered',\n",
       " u'delivering',\n",
       " u'demanding',\n",
       " u'demonstrating',\n",
       " u'denied',\n",
       " u'denouncing',\n",
       " u'denying',\n",
       " u'depended',\n",
       " u'depending',\n",
       " u'depleted',\n",
       " u'depressed',\n",
       " u'deprived',\n",
       " u'derived',\n",
       " u'descending',\n",
       " u'described',\n",
       " u'deserving',\n",
       " u'designated',\n",
       " u'designed',\n",
       " u'designing',\n",
       " u'desired',\n",
       " u'despised',\n",
       " u'detailed',\n",
       " u'deteriorated',\n",
       " u'deteriorating',\n",
       " u'determined',\n",
       " u'deterring',\n",
       " u'devastating',\n",
       " u'developed',\n",
       " u'developing',\n",
       " u'devised',\n",
       " u'devoted',\n",
       " u'devouring',\n",
       " u'diagnosed',\n",
       " u'died',\n",
       " u'diluted',\n",
       " u'diming',\n",
       " u'diminished',\n",
       " u'directed',\n",
       " u'directing',\n",
       " u'disaffected',\n",
       " u'disagreed',\n",
       " u'disappointed',\n",
       " u'disappointing',\n",
       " u'disapproved',\n",
       " u'discarded',\n",
       " u'disciplined',\n",
       " u'disclosed',\n",
       " u'disclosing',\n",
       " u'discontinued',\n",
       " u'discontinuing',\n",
       " u'discouraging',\n",
       " u'discovered',\n",
       " u'discredit',\n",
       " u'discussed',\n",
       " u'discussing',\n",
       " u'disembodied',\n",
       " u'dismayed',\n",
       " u'dismissed',\n",
       " u'disposed',\n",
       " u'disputed',\n",
       " u'disseminating',\n",
       " u'distinguished',\n",
       " u'distorted',\n",
       " u'distributed',\n",
       " u'disturbing',\n",
       " u'diversified',\n",
       " u'diversifying',\n",
       " u'divided',\n",
       " u'dividing',\n",
       " u'documented',\n",
       " u'doing',\n",
       " u'doling',\n",
       " u'dollar-denominated',\n",
       " u'dominated',\n",
       " u'dominating',\n",
       " u'doubled',\n",
       " u'doubted',\n",
       " u'downgraded',\n",
       " u'downgrading',\n",
       " u'drafted',\n",
       " u'drawing',\n",
       " u'dreamed',\n",
       " u'dressed',\n",
       " u'drifted',\n",
       " u'drinking',\n",
       " u'driving',\n",
       " u'drooled',\n",
       " u'dropped',\n",
       " u'dubbed',\n",
       " u'duckling',\n",
       " u'dumbfounded',\n",
       " u'dumped',\n",
       " u'during',\n",
       " u'dwindling',\n",
       " u'earned',\n",
       " u'earning',\n",
       " u'eased',\n",
       " u'easing',\n",
       " u'eating',\n",
       " u'echoed',\n",
       " u'edged',\n",
       " u'editing',\n",
       " u'edition',\n",
       " u'editions',\n",
       " u'editor',\n",
       " u'editorial',\n",
       " u'editorially',\n",
       " u'editors',\n",
       " u'educated',\n",
       " u'education',\n",
       " u'educational',\n",
       " u'educators',\n",
       " u'elected',\n",
       " u'eliminated',\n",
       " u'eliminating',\n",
       " u'embarrassing',\n",
       " u'embroiled',\n",
       " u'emerged',\n",
       " u'emerging',\n",
       " u'emphasized',\n",
       " u'employed',\n",
       " u'empowered',\n",
       " u'enabled',\n",
       " u'enabling',\n",
       " u'enacted',\n",
       " u'encircling',\n",
       " u'enclosed',\n",
       " u'encouraging',\n",
       " u'encroaching',\n",
       " u'ended',\n",
       " u'ending',\n",
       " u'endorsed',\n",
       " u'engaged',\n",
       " u'engaging',\n",
       " u'engineered',\n",
       " u'engineering',\n",
       " u'enhanced',\n",
       " u'enjoyed',\n",
       " u'enjoying',\n",
       " u'enlarged',\n",
       " u'enraged',\n",
       " u'ensnarled',\n",
       " u'entangled',\n",
       " u'entered',\n",
       " u'entering',\n",
       " u'entertaining',\n",
       " u'enticed',\n",
       " u'entitled',\n",
       " u'entrenched',\n",
       " u'entrusted',\n",
       " u'equaling',\n",
       " u'equipped',\n",
       " u'escalated',\n",
       " u'escaped',\n",
       " u'established',\n",
       " u'establishing',\n",
       " u'estimated',\n",
       " u'evaluated',\n",
       " u'evaluating',\n",
       " u'evaporated',\n",
       " u'evening',\n",
       " u'everything',\n",
       " u'evoking',\n",
       " u'evolved',\n",
       " u'exacerbated',\n",
       " u'examined',\n",
       " u'exceed',\n",
       " u'exceeded',\n",
       " u'exceeding',\n",
       " u'exceedingly',\n",
       " u'exceeds',\n",
       " u'exchanging',\n",
       " u'excited',\n",
       " u'exciting',\n",
       " u'executed',\n",
       " u'executing',\n",
       " u'exercised',\n",
       " u'exerting',\n",
       " u'exhausted',\n",
       " u'exhibited',\n",
       " u'existed',\n",
       " u'existing',\n",
       " u'expanded',\n",
       " u'expanding',\n",
       " u'expected',\n",
       " u'expecting',\n",
       " u'expedited',\n",
       " u'expelled',\n",
       " u'experienced',\n",
       " u'experiencing',\n",
       " u'expired',\n",
       " u'explained',\n",
       " u'explaining',\n",
       " u'exploded',\n",
       " u'export-oriented',\n",
       " u'exposed',\n",
       " u'expressed',\n",
       " u'expressing',\n",
       " u'expunged',\n",
       " u'extended',\n",
       " u'extending',\n",
       " u'exuded',\n",
       " u'eyeing',\n",
       " u'fabled',\n",
       " u'faced',\n",
       " u'facing',\n",
       " u'factoring',\n",
       " u'faded',\n",
       " u'failed',\n",
       " u'failing',\n",
       " u'fainting',\n",
       " u'falling',\n",
       " u'faltered',\n",
       " u'famed',\n",
       " u'family-planning',\n",
       " u'fared',\n",
       " u'fashioned',\n",
       " u'fast-growing',\n",
       " u'fastest-growing',\n",
       " u'fattened',\n",
       " u'favored',\n",
       " u'fawning',\n",
       " u'feared',\n",
       " u'featured',\n",
       " u'featuring',\n",
       " u'fed',\n",
       " u'federal',\n",
       " u'federally',\n",
       " u'feed',\n",
       " u'feeds',\n",
       " u'feeling',\n",
       " u'fetching',\n",
       " u'fielded',\n",
       " u'fighting',\n",
       " u'filed',\n",
       " u'filing',\n",
       " u'filled',\n",
       " u'filling',\n",
       " u'finalized',\n",
       " u'financed',\n",
       " u'financing',\n",
       " u'finding',\n",
       " u'fined',\n",
       " u'finished',\n",
       " u'fired',\n",
       " u'firmed',\n",
       " u'fixed',\n",
       " u'fixed-income',\n",
       " u'fixed-price',\n",
       " u'fixed-rate',\n",
       " u'fizzled',\n",
       " u'fled',\n",
       " u'fledgling',\n",
       " u'fleeting',\n",
       " u'flirted',\n",
       " u'floated',\n",
       " u'flooded',\n",
       " u'focused',\n",
       " u'focusing',\n",
       " u'folded',\n",
       " u'followed',\n",
       " u'following',\n",
       " u'forced',\n",
       " u'forcing',\n",
       " u'forecasting',\n",
       " u'foreign-led',\n",
       " u'formed',\n",
       " u'forthcoming',\n",
       " u'founded',\n",
       " u'foundering',\n",
       " u'freedom',\n",
       " u'freedoms',\n",
       " u'fretted',\n",
       " u'frightened',\n",
       " u'frustrating',\n",
       " u'fueled',\n",
       " u'fueling',\n",
       " u'full-fledged',\n",
       " u'fuming',\n",
       " u'functioning',\n",
       " u'funded',\n",
       " u'funding',\n",
       " u'fundraising',\n",
       " u'futures-related',\n",
       " u'gained',\n",
       " u'gaining',\n",
       " u'galling',\n",
       " u'galvanized',\n",
       " u'gambling',\n",
       " u'gauging',\n",
       " u'generated',\n",
       " u'getting',\n",
       " u'giving',\n",
       " u'going',\n",
       " u'good-hearted',\n",
       " u'good-natured',\n",
       " u'gored',\n",
       " u'government-certified',\n",
       " u'government-funded',\n",
       " u'government-owned',\n",
       " u'graduated',\n",
       " u'granted',\n",
       " u'granting',\n",
       " u'greed',\n",
       " u'greedy',\n",
       " u'gripping',\n",
       " u'growing',\n",
       " u'guaranteed',\n",
       " u'guarding',\n",
       " u'guided',\n",
       " u'gut-wrenching',\n",
       " u'hailed',\n",
       " u'hailing',\n",
       " u'halted',\n",
       " u'hampered',\n",
       " u'handed',\n",
       " u'handled',\n",
       " u'handling',\n",
       " u'happened',\n",
       " u'happening',\n",
       " u'hard-charging',\n",
       " u'hard-drinking',\n",
       " u'hard-hitting',\n",
       " u'harmed',\n",
       " u'harped',\n",
       " u'harvested',\n",
       " u'hauled',\n",
       " u'hauling',\n",
       " u'having',\n",
       " u'headed',\n",
       " u'heading',\n",
       " u'headlined',\n",
       " u'healing',\n",
       " u'hearing',\n",
       " u'heated',\n",
       " u'heating',\n",
       " u'hedging',\n",
       " u'heightened',\n",
       " u'helped',\n",
       " u'helping',\n",
       " u'high-flying',\n",
       " u'high-minded',\n",
       " u'high-polluting',\n",
       " u'high-priced',\n",
       " u'high-rolling',\n",
       " u'high-speed',\n",
       " u'higher-salaried',\n",
       " u'highest-pitched',\n",
       " u'hired',\n",
       " u'hitting',\n",
       " u'holding',\n",
       " u'hoped',\n",
       " u'hosted',\n",
       " u'housing',\n",
       " u'hugging',\n",
       " u'hundred',\n",
       " u'hundreds',\n",
       " u'hunted',\n",
       " u'hurting',\n",
       " u'identified',\n",
       " u'ignored',\n",
       " u'ignoring',\n",
       " u'immediate',\n",
       " u'immediately',\n",
       " u'impaired',\n",
       " u'impede',\n",
       " u'impeding',\n",
       " u'impending',\n",
       " u'implemented',\n",
       " u'implied',\n",
       " u'imported',\n",
       " u'imposed',\n",
       " u'imposing',\n",
       " u'impressed',\n",
       " u'improved',\n",
       " u'improving',\n",
       " u'incentive-backed',\n",
       " u'inched',\n",
       " u'inching',\n",
       " u'included',\n",
       " u'including',\n",
       " u'incorporated',\n",
       " u'increased',\n",
       " u'increasing',\n",
       " u'incredible',\n",
       " u'incurred',\n",
       " u'indeed',\n",
       " u'index-related',\n",
       " u'indicated',\n",
       " u'indicating',\n",
       " u'indulging',\n",
       " u'industrialized',\n",
       " u'industry-supported',\n",
       " u'inflated',\n",
       " u'influenced',\n",
       " u'influencing',\n",
       " u'infringed',\n",
       " u'ingredients',\n",
       " u'inherited',\n",
       " u'initialing',\n",
       " u'initiated',\n",
       " u'initiating',\n",
       " u'injecting',\n",
       " u'injuring',\n",
       " u'inkling',\n",
       " u'inquiring',\n",
       " ...]"
      ]
     },
     "execution_count": 51,
     "metadata": {},
     "output_type": "execute_result"
    }
   ],
   "source": [
    "[w for w in wsj if re.search('ed|ing$', w)]"
   ]
  }
 ],
 "metadata": {
  "kernelspec": {
   "display_name": "Python 2",
   "language": "python",
   "name": "python2"
  },
  "language_info": {
   "codemirror_mode": {
    "name": "ipython",
    "version": 2
   },
   "file_extension": ".py",
   "mimetype": "text/x-python",
   "name": "python",
   "nbconvert_exporter": "python",
   "pygments_lexer": "ipython2",
   "version": "2.7.9"
  }
 },
 "nbformat": 4,
 "nbformat_minor": 0
}
