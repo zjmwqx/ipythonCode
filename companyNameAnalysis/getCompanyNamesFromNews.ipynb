{
 "metadata": {
  "name": "",
  "signature": "sha256:26de0f3d0e90f7289ed78d9c7e5a636eff8da7f06656def16c7b9714f08098f9"
 },
 "nbformat": 3,
 "nbformat_minor": 0,
 "worksheets": [
  {
   "cells": [
    {
     "cell_type": "code",
     "collapsed": false,
     "input": [
      "import pandas as pd\n",
      "import re\n",
      "import regex\n",
      "import json\n",
      "import mysql.connector\n",
      "import pandas.io.sql as psql\n",
      "import urllib\n",
      "import boto\n",
      "import boto.s3.connection\n",
      "import pickle\n",
      "import jpype\n",
      "import re\n",
      "import random"
     ],
     "language": "python",
     "metadata": {},
     "outputs": [],
     "prompt_number": 2
    },
    {
     "cell_type": "code",
     "collapsed": false,
     "input": [
      "db = mysql.connector.connect(\n",
      "host='db-news01-dev.datayes.com', db='news', user='news_app', passwd='lKTOAIyoewzvCyc')\n",
      "table_name = 'news_detail_backup'"
     ],
     "language": "python",
     "metadata": {},
     "outputs": [],
     "prompt_number": 3
    },
    {
     "cell_type": "code",
     "collapsed": false,
     "input": [
      "data = psql.read_sql('select news_id, news_title,news_body,main_related_company_id from %s where isActive = 1 and group_id != -1 and news_tag = 0 and news_publish_time > \"2014-05-01\";' % table_name, db)\n",
      "\n"
     ],
     "language": "python",
     "metadata": {},
     "outputs": [],
     "prompt_number": 4
    },
    {
     "cell_type": "code",
     "collapsed": false,
     "input": [
      "data.to_pickle(\"news.ser\")"
     ],
     "language": "python",
     "metadata": {},
     "outputs": [],
     "prompt_number": 5
    },
    {
     "cell_type": "code",
     "collapsed": false,
     "input": [
      "data.shape"
     ],
     "language": "python",
     "metadata": {},
     "outputs": [
      {
       "metadata": {},
       "output_type": "pyout",
       "prompt_number": 6,
       "text": [
        "(65259, 4)"
       ]
      }
     ],
     "prompt_number": 6
    },
    {
     "cell_type": "code",
     "collapsed": false,
     "input": [
      "#data=pd.read_pickle(\"news.ser\")"
     ],
     "language": "python",
     "metadata": {},
     "outputs": [],
     "prompt_number": 52
    },
    {
     "cell_type": "code",
     "collapsed": false,
     "input": [
      "db2 = mysql.connector.connect(host='security02-dev.datayes.com', db='securityMaster2', user='news_app', \n",
      "                              passwd='lKTOAIyoewzvCyc')"
     ],
     "language": "python",
     "metadata": {},
     "outputs": [],
     "prompt_number": 3
    },
    {
     "cell_type": "code",
     "collapsed": false,
     "input": [
      "selectSql = \"select ins.PARTY_ID, equ.TICKER_SYMBOL, ins.REGISTER_FULL_NAME, sec.SECURITY_NAME_ABBR, ins_ind.LEVEL3_INDUST_NM\";\n",
      "selectSql += \" from INSTITUTION ins, INSTITUTION_INDUSTRY ins_ind, SECURITY sec, EQUITY equ\";\n",
      "selectSql += \" where  ins_ind.DATA_SOURCE_NM ='\u7533\u4e07\u884c\u4e1a\u5206\u7c7b'\";\n",
      "selectSql += \" and ins_ind.IS_CURRENT =1\";\n",
      "selectSql += \" and ins.PARTY_ID = ins_ind.PARTY_ID\";\n",
      "selectSql += \" and sec.ASSET_CLASS=3\";\n",
      "selectSql += \" and sec.PARTY_ID = ins.PARTY_ID\";\n",
      "selectSql += \" and equ.EQUITY_TYPE in(1,2)\";\n",
      "selectSql += \" and equ.SECURITY_ID = sec.SECURITY_ID\";"
     ],
     "language": "python",
     "metadata": {},
     "outputs": [],
     "prompt_number": 4
    },
    {
     "cell_type": "code",
     "collapsed": false,
     "input": [
      "companyInfo = psql.read_sql(selectSql,db2)"
     ],
     "language": "python",
     "metadata": {},
     "outputs": [],
     "prompt_number": 5
    },
    {
     "cell_type": "code",
     "collapsed": false,
     "input": [],
     "language": "python",
     "metadata": {},
     "outputs": []
    },
    {
     "cell_type": "code",
     "collapsed": false,
     "input": [
      "companyInfo"
     ],
     "language": "python",
     "metadata": {},
     "outputs": [
      {
       "html": [
        "<div style=\"max-height:1000px;max-width:1500px;overflow:auto;\">\n",
        "<table border=\"1\" class=\"dataframe\">\n",
        "  <thead>\n",
        "    <tr style=\"text-align: right;\">\n",
        "      <th></th>\n",
        "      <th>PARTY_ID</th>\n",
        "      <th>TICKER_SYMBOL</th>\n",
        "      <th>REGISTER_FULL_NAME</th>\n",
        "      <th>SECURITY_NAME_ABBR</th>\n",
        "      <th>LEVEL3_INDUST_NM</th>\n",
        "    </tr>\n",
        "  </thead>\n",
        "  <tbody>\n",
        "    <tr>\n",
        "      <th>0 </th>\n",
        "      <td>  2</td>\n",
        "      <td> 000001</td>\n",
        "      <td>          \u5e73\u5b89\u94f6\u884c\u80a1\u4efd\u6709\u9650\u516c\u53f8</td>\n",
        "      <td>  \u5e73\u5b89\u94f6\u884c</td>\n",
        "      <td>      \u94f6\u884c</td>\n",
        "    </tr>\n",
        "    <tr>\n",
        "      <th>1 </th>\n",
        "      <td>  3</td>\n",
        "      <td> 000002</td>\n",
        "      <td>          \u4e07\u79d1\u4f01\u4e1a\u80a1\u4efd\u6709\u9650\u516c\u53f8</td>\n",
        "      <td>   \u4e07\u79d1\uff21</td>\n",
        "      <td>   \u623f\u5730\u4ea7\u5f00\u53d1</td>\n",
        "    </tr>\n",
        "    <tr>\n",
        "      <th>2 </th>\n",
        "      <td>  3</td>\n",
        "      <td> 200002</td>\n",
        "      <td>          \u4e07\u79d1\u4f01\u4e1a\u80a1\u4efd\u6709\u9650\u516c\u53f8</td>\n",
        "      <td>   \u4e07\u79d1\uff22</td>\n",
        "      <td>   \u623f\u5730\u4ea7\u5f00\u53d1</td>\n",
        "    </tr>\n",
        "    <tr>\n",
        "      <th>3 </th>\n",
        "      <td>  4</td>\n",
        "      <td> 400016</td>\n",
        "      <td>      \u91d1\u7530\u5b9e\u4e1a(\u96c6\u56e2)\u80a1\u4efd\u6709\u9650\u516c\u53f8</td>\n",
        "      <td>  \u91d1\u7530\uff21\uff13</td>\n",
        "      <td>      \u7efc\u5408</td>\n",
        "    </tr>\n",
        "    <tr>\n",
        "      <th>4 </th>\n",
        "      <td>  4</td>\n",
        "      <td> 420016</td>\n",
        "      <td>      \u91d1\u7530\u5b9e\u4e1a(\u96c6\u56e2)\u80a1\u4efd\u6709\u9650\u516c\u53f8</td>\n",
        "      <td>  \u91d1\u7530\uff22\uff13</td>\n",
        "      <td>      \u7efc\u5408</td>\n",
        "    </tr>\n",
        "    <tr>\n",
        "      <th>5 </th>\n",
        "      <td>  5</td>\n",
        "      <td> 000004</td>\n",
        "      <td>      \u6df1\u5733\u4e2d\u56fd\u519c\u5927\u79d1\u6280\u80a1\u4efd\u6709\u9650\u516c\u53f8</td>\n",
        "      <td>  \u56fd\u519c\u79d1\u6280</td>\n",
        "      <td>    \u751f\u7269\u5236\u54c1</td>\n",
        "    </tr>\n",
        "    <tr>\n",
        "      <th>6 </th>\n",
        "      <td>  6</td>\n",
        "      <td> 000005</td>\n",
        "      <td>        \u6df1\u5733\u4e16\u7eaa\u661f\u6e90\u80a1\u4efd\u6709\u9650\u516c\u53f8</td>\n",
        "      <td>  \u4e16\u7eaa\u661f\u6e90</td>\n",
        "      <td>   \u623f\u5730\u4ea7\u5f00\u53d1</td>\n",
        "    </tr>\n",
        "    <tr>\n",
        "      <th>7 </th>\n",
        "      <td>  7</td>\n",
        "      <td> 000006</td>\n",
        "      <td>     \u6df1\u5733\u5e02\u632f\u4e1a(\u96c6\u56e2)\u80a1\u4efd\u6709\u9650\u516c\u53f8</td>\n",
        "      <td>  \u6df1\u632f\u4e1a\uff21</td>\n",
        "      <td>   \u623f\u5730\u4ea7\u5f00\u53d1</td>\n",
        "    </tr>\n",
        "    <tr>\n",
        "      <th>8 </th>\n",
        "      <td>  8</td>\n",
        "      <td> 000007</td>\n",
        "      <td>         \u6df1\u5733\u5e02\u96f6\u4e03\u80a1\u4efd\u6709\u9650\u516c\u53f8</td>\n",
        "      <td>  \u96f6\u4e03\u80a1\u4efd</td>\n",
        "      <td>      \u9910\u996e</td>\n",
        "    </tr>\n",
        "    <tr>\n",
        "      <th>9 </th>\n",
        "      <td>  9</td>\n",
        "      <td> 000008</td>\n",
        "      <td>       \u5e7f\u4e1c\u5b9d\u5229\u6765\u6295\u8d44\u80a1\u4efd\u6709\u9650\u516c\u53f8</td>\n",
        "      <td>   \u5b9d\u5229\u6765</td>\n",
        "      <td>      \u9152\u5e97</td>\n",
        "    </tr>\n",
        "    <tr>\n",
        "      <th>10</th>\n",
        "      <td> 10</td>\n",
        "      <td> 000009</td>\n",
        "      <td>        \u4e2d\u56fd\u5b9d\u5b89\u96c6\u56e2\u80a1\u4efd\u6709\u9650\u516c\u53f8</td>\n",
        "      <td>  \u4e2d\u56fd\u5b9d\u5b89</td>\n",
        "      <td>      \u7efc\u5408</td>\n",
        "    </tr>\n",
        "    <tr>\n",
        "      <th>11</th>\n",
        "      <td> 11</td>\n",
        "      <td> 000010</td>\n",
        "      <td>         \u5317\u4eac\u6df1\u534e\u65b0\u80a1\u4efd\u6709\u9650\u516c\u53f8</td>\n",
        "      <td>   \u6df1\u534e\u65b0</td>\n",
        "      <td>      \u7efc\u5408</td>\n",
        "    </tr>\n",
        "    <tr>\n",
        "      <th>12</th>\n",
        "      <td> 12</td>\n",
        "      <td> 000011</td>\n",
        "      <td>   \u6df1\u5733\u5e02\u7269\u4e1a\u53d1\u5c55(\u96c6\u56e2)\u80a1\u4efd\u6709\u9650\u516c\u53f8</td>\n",
        "      <td>  \u6df1\u7269\u4e1a\uff21</td>\n",
        "      <td>   \u623f\u5730\u4ea7\u5f00\u53d1</td>\n",
        "    </tr>\n",
        "    <tr>\n",
        "      <th>13</th>\n",
        "      <td> 12</td>\n",
        "      <td> 200011</td>\n",
        "      <td>   \u6df1\u5733\u5e02\u7269\u4e1a\u53d1\u5c55(\u96c6\u56e2)\u80a1\u4efd\u6709\u9650\u516c\u53f8</td>\n",
        "      <td>  \u6df1\u7269\u4e1a\uff22</td>\n",
        "      <td>   \u623f\u5730\u4ea7\u5f00\u53d1</td>\n",
        "    </tr>\n",
        "    <tr>\n",
        "      <th>14</th>\n",
        "      <td> 13</td>\n",
        "      <td> 000012</td>\n",
        "      <td>        \u4e2d\u56fd\u5357\u73bb\u96c6\u56e2\u80a1\u4efd\u6709\u9650\u516c\u53f8</td>\n",
        "      <td>   \u5357\u73bb\uff21</td>\n",
        "      <td>    \u73bb\u7483\u5236\u9020</td>\n",
        "    </tr>\n",
        "    <tr>\n",
        "      <th>15</th>\n",
        "      <td> 13</td>\n",
        "      <td> 200012</td>\n",
        "      <td>        \u4e2d\u56fd\u5357\u73bb\u96c6\u56e2\u80a1\u4efd\u6709\u9650\u516c\u53f8</td>\n",
        "      <td>   \u5357\u73bb\uff22</td>\n",
        "      <td>    \u73bb\u7483\u5236\u9020</td>\n",
        "    </tr>\n",
        "    <tr>\n",
        "      <th>16</th>\n",
        "      <td> 14</td>\n",
        "      <td> 400032</td>\n",
        "      <td>      \u6df1\u5733\u77f3\u5316\u5de5\u4e1a\u96c6\u56e2\u80a1\u4efd\u6709\u9650\u516c\u53f8</td>\n",
        "      <td>  \u77f3\u5316\uff21\uff11</td>\n",
        "      <td>  \u5176\u4ed6\u5851\u6599\u5236\u54c1</td>\n",
        "    </tr>\n",
        "    <tr>\n",
        "      <th>17</th>\n",
        "      <td> 14</td>\n",
        "      <td> 420032</td>\n",
        "      <td>      \u6df1\u5733\u77f3\u5316\u5de5\u4e1a\u96c6\u56e2\u80a1\u4efd\u6709\u9650\u516c\u53f8</td>\n",
        "      <td>  \u77f3\u5316\uff22\uff11</td>\n",
        "      <td>  \u5176\u4ed6\u5851\u6599\u5236\u54c1</td>\n",
        "    </tr>\n",
        "    <tr>\n",
        "      <th>18</th>\n",
        "      <td> 15</td>\n",
        "      <td> 000014</td>\n",
        "      <td>          \u6c99\u6cb3\u5b9e\u4e1a\u80a1\u4efd\u6709\u9650\u516c\u53f8</td>\n",
        "      <td>  \u6c99\u6cb3\u80a1\u4efd</td>\n",
        "      <td>   \u623f\u5730\u4ea7\u5f00\u53d1</td>\n",
        "    </tr>\n",
        "    <tr>\n",
        "      <th>19</th>\n",
        "      <td> 16</td>\n",
        "      <td> 400011</td>\n",
        "      <td>      \u6df1\u5733\u4e2d\u6d69(\u96c6\u56e2)\u80a1\u4efd\u6709\u9650\u516c\u53f8</td>\n",
        "      <td>  \u4e2d\u6d69\uff21\uff13</td>\n",
        "      <td>      \u7efc\u5408</td>\n",
        "    </tr>\n",
        "    <tr>\n",
        "      <th>20</th>\n",
        "      <td> 16</td>\n",
        "      <td> 420011</td>\n",
        "      <td>      \u6df1\u5733\u4e2d\u6d69(\u96c6\u56e2)\u80a1\u4efd\u6709\u9650\u516c\u53f8</td>\n",
        "      <td>  \u4e2d\u6d69\uff22\uff13</td>\n",
        "      <td>      \u7efc\u5408</td>\n",
        "    </tr>\n",
        "    <tr>\n",
        "      <th>21</th>\n",
        "      <td> 17</td>\n",
        "      <td> 000016</td>\n",
        "      <td>          \u5eb7\u4f73\u96c6\u56e2\u80a1\u4efd\u6709\u9650\u516c\u53f8</td>\n",
        "      <td>  \u6df1\u5eb7\u4f73\uff21</td>\n",
        "      <td>      \u5f69\u7535</td>\n",
        "    </tr>\n",
        "    <tr>\n",
        "      <th>22</th>\n",
        "      <td> 17</td>\n",
        "      <td> 200016</td>\n",
        "      <td>          \u5eb7\u4f73\u96c6\u56e2\u80a1\u4efd\u6709\u9650\u516c\u53f8</td>\n",
        "      <td>  \u6df1\u5eb7\u4f73\uff22</td>\n",
        "      <td>      \u5f69\u7535</td>\n",
        "    </tr>\n",
        "    <tr>\n",
        "      <th>23</th>\n",
        "      <td> 18</td>\n",
        "      <td> 000017</td>\n",
        "      <td>   \u6df1\u5733\u4e2d\u534e\u81ea\u884c\u8f66(\u96c6\u56e2)\u80a1\u4efd\u6709\u9650\u516c\u53f8</td>\n",
        "      <td>  \u6df1\u4e2d\u534e\uff21</td>\n",
        "      <td>  \u5176\u4ed6\u4ea4\u8fd0\u8bbe\u5907</td>\n",
        "    </tr>\n",
        "    <tr>\n",
        "      <th>24</th>\n",
        "      <td> 18</td>\n",
        "      <td> 200017</td>\n",
        "      <td>   \u6df1\u5733\u4e2d\u534e\u81ea\u884c\u8f66(\u96c6\u56e2)\u80a1\u4efd\u6709\u9650\u516c\u53f8</td>\n",
        "      <td>  \u6df1\u4e2d\u534e\uff22</td>\n",
        "      <td>  \u5176\u4ed6\u4ea4\u8fd0\u8bbe\u5907</td>\n",
        "    </tr>\n",
        "    <tr>\n",
        "      <th>25</th>\n",
        "      <td> 19</td>\n",
        "      <td> 000018</td>\n",
        "      <td>      \u6df1\u5733\u4e2d\u51a0\u7eba\u7ec7\u5370\u67d3\u80a1\u4efd\u6709\u9650\u516c\u53f8</td>\n",
        "      <td>   \u4e2d\u51a0\uff21</td>\n",
        "      <td>      \u7efc\u5408</td>\n",
        "    </tr>\n",
        "    <tr>\n",
        "      <th>26</th>\n",
        "      <td> 19</td>\n",
        "      <td> 200018</td>\n",
        "      <td>      \u6df1\u5733\u4e2d\u51a0\u7eba\u7ec7\u5370\u67d3\u80a1\u4efd\u6709\u9650\u516c\u53f8</td>\n",
        "      <td>   \u4e2d\u51a0\uff22</td>\n",
        "      <td>      \u7efc\u5408</td>\n",
        "    </tr>\n",
        "    <tr>\n",
        "      <th>27</th>\n",
        "      <td> 20</td>\n",
        "      <td> 000019</td>\n",
        "      <td>       \u6df1\u5733\u5e02\u6df1\u5b9d\u5b9e\u4e1a\u80a1\u4efd\u6709\u9650\u516c\u53f8</td>\n",
        "      <td>  \u6df1\u6df1\u5b9d\uff21</td>\n",
        "      <td>     \u8f6f\u996e\u6599</td>\n",
        "    </tr>\n",
        "    <tr>\n",
        "      <th>28</th>\n",
        "      <td> 20</td>\n",
        "      <td> 200019</td>\n",
        "      <td>       \u6df1\u5733\u5e02\u6df1\u5b9d\u5b9e\u4e1a\u80a1\u4efd\u6709\u9650\u516c\u53f8</td>\n",
        "      <td>  \u6df1\u6df1\u5b9d\uff22</td>\n",
        "      <td>     \u8f6f\u996e\u6599</td>\n",
        "    </tr>\n",
        "    <tr>\n",
        "      <th>29</th>\n",
        "      <td> 21</td>\n",
        "      <td> 000020</td>\n",
        "      <td>        \u6df1\u5733\u4e2d\u6052\u534e\u53d1\u80a1\u4efd\u6709\u9650\u516c\u53f8</td>\n",
        "      <td>  \u6df1\u534e\u53d1\uff21</td>\n",
        "      <td>  \u7535\u5b50\u7cfb\u7edf\u7ec4\u88c5</td>\n",
        "    </tr>\n",
        "    <tr>\n",
        "      <th>30</th>\n",
        "      <td> 21</td>\n",
        "      <td> 200020</td>\n",
        "      <td>        \u6df1\u5733\u4e2d\u6052\u534e\u53d1\u80a1\u4efd\u6709\u9650\u516c\u53f8</td>\n",
        "      <td>  \u6df1\u534e\u53d1\uff22</td>\n",
        "      <td>  \u7535\u5b50\u7cfb\u7edf\u7ec4\u88c5</td>\n",
        "    </tr>\n",
        "    <tr>\n",
        "      <th>31</th>\n",
        "      <td> 22</td>\n",
        "      <td> 000021</td>\n",
        "      <td>      \u6df1\u5733\u957f\u57ce\u5f00\u53d1\u79d1\u6280\u80a1\u4efd\u6709\u9650\u516c\u53f8</td>\n",
        "      <td>  \u957f\u57ce\u5f00\u53d1</td>\n",
        "      <td>   \u8ba1\u7b97\u673a\u8bbe\u5907</td>\n",
        "    </tr>\n",
        "    <tr>\n",
        "      <th>32</th>\n",
        "      <td> 23</td>\n",
        "      <td> 000022</td>\n",
        "      <td>        \u6df1\u5733\u8d64\u6e7e\u6e2f\u822a\u80a1\u4efd\u6709\u9650\u516c\u53f8</td>\n",
        "      <td>  \u6df1\u8d64\u6e7e\uff21</td>\n",
        "      <td>      \u6e2f\u53e3</td>\n",
        "    </tr>\n",
        "    <tr>\n",
        "      <th>33</th>\n",
        "      <td> 23</td>\n",
        "      <td> 200022</td>\n",
        "      <td>        \u6df1\u5733\u8d64\u6e7e\u6e2f\u822a\u80a1\u4efd\u6709\u9650\u516c\u53f8</td>\n",
        "      <td>  \u6df1\u8d64\u6e7e\uff22</td>\n",
        "      <td>      \u6e2f\u53e3</td>\n",
        "    </tr>\n",
        "    <tr>\n",
        "      <th>34</th>\n",
        "      <td> 24</td>\n",
        "      <td> 000023</td>\n",
        "      <td>     \u6df1\u5733\u5e02\u5929\u5730(\u96c6\u56e2)\u80a1\u4efd\u6709\u9650\u516c\u53f8</td>\n",
        "      <td>  \u6df1\u5929\u5730\uff21</td>\n",
        "      <td>    \u5176\u4ed6\u5efa\u6750</td>\n",
        "    </tr>\n",
        "    <tr>\n",
        "      <th>35</th>\n",
        "      <td> 25</td>\n",
        "      <td> 000024</td>\n",
        "      <td>       \u62db\u5546\u5c40\u5730\u4ea7\u63a7\u80a1\u80a1\u4efd\u6709\u9650\u516c\u53f8</td>\n",
        "      <td>  \u62db\u5546\u5730\u4ea7</td>\n",
        "      <td>   \u623f\u5730\u4ea7\u5f00\u53d1</td>\n",
        "    </tr>\n",
        "    <tr>\n",
        "      <th>36</th>\n",
        "      <td> 25</td>\n",
        "      <td> 200024</td>\n",
        "      <td>       \u62db\u5546\u5c40\u5730\u4ea7\u63a7\u80a1\u80a1\u4efd\u6709\u9650\u516c\u53f8</td>\n",
        "      <td>  \u62db\u5546\u5c40\uff22</td>\n",
        "      <td>   \u623f\u5730\u4ea7\u5f00\u53d1</td>\n",
        "    </tr>\n",
        "    <tr>\n",
        "      <th>37</th>\n",
        "      <td> 26</td>\n",
        "      <td> 000025</td>\n",
        "      <td>     \u6df1\u5733\u5e02\u7279\u529b(\u96c6\u56e2)\u80a1\u4efd\u6709\u9650\u516c\u53f8</td>\n",
        "      <td>   \u7279\u529b\uff21</td>\n",
        "      <td>    \u6c7d\u8f66\u670d\u52a1</td>\n",
        "    </tr>\n",
        "    <tr>\n",
        "      <th>38</th>\n",
        "      <td> 26</td>\n",
        "      <td> 200025</td>\n",
        "      <td>     \u6df1\u5733\u5e02\u7279\u529b(\u96c6\u56e2)\u80a1\u4efd\u6709\u9650\u516c\u53f8</td>\n",
        "      <td>   \u7279\u529b\uff22</td>\n",
        "      <td>    \u6c7d\u8f66\u670d\u52a1</td>\n",
        "    </tr>\n",
        "    <tr>\n",
        "      <th>39</th>\n",
        "      <td> 27</td>\n",
        "      <td> 000026</td>\n",
        "      <td>       \u98de\u4e9a\u8fbe(\u96c6\u56e2)\u80a1\u4efd\u6709\u9650\u516c\u53f8</td>\n",
        "      <td>  \u98de\u4e9a\u8fbe\uff21</td>\n",
        "      <td>    \u73e0\u5b9d\u9996\u9970</td>\n",
        "    </tr>\n",
        "    <tr>\n",
        "      <th>40</th>\n",
        "      <td> 27</td>\n",
        "      <td> 200026</td>\n",
        "      <td>       \u98de\u4e9a\u8fbe(\u96c6\u56e2)\u80a1\u4efd\u6709\u9650\u516c\u53f8</td>\n",
        "      <td>  \u98de\u4e9a\u8fbe\uff22</td>\n",
        "      <td>    \u73e0\u5b9d\u9996\u9970</td>\n",
        "    </tr>\n",
        "    <tr>\n",
        "      <th>41</th>\n",
        "      <td> 28</td>\n",
        "      <td> 000027</td>\n",
        "      <td>        \u6df1\u5733\u80fd\u6e90\u96c6\u56e2\u80a1\u4efd\u6709\u9650\u516c\u53f8</td>\n",
        "      <td>  \u6df1\u5733\u80fd\u6e90</td>\n",
        "      <td>      \u706b\u7535</td>\n",
        "    </tr>\n",
        "    <tr>\n",
        "      <th>42</th>\n",
        "      <td> 29</td>\n",
        "      <td> 000028</td>\n",
        "      <td>      \u56fd\u836f\u96c6\u56e2\u4e00\u81f4\u836f\u4e1a\u80a1\u4efd\u6709\u9650\u516c\u53f8</td>\n",
        "      <td>  \u56fd\u836f\u4e00\u81f4</td>\n",
        "      <td>    \u533b\u836f\u5546\u4e1a</td>\n",
        "    </tr>\n",
        "    <tr>\n",
        "      <th>43</th>\n",
        "      <td> 29</td>\n",
        "      <td> 200028</td>\n",
        "      <td>      \u56fd\u836f\u96c6\u56e2\u4e00\u81f4\u836f\u4e1a\u80a1\u4efd\u6709\u9650\u516c\u53f8</td>\n",
        "      <td>   \u4e00\u81f4\uff22</td>\n",
        "      <td>    \u533b\u836f\u5546\u4e1a</td>\n",
        "    </tr>\n",
        "    <tr>\n",
        "      <th>44</th>\n",
        "      <td> 30</td>\n",
        "      <td> 000029</td>\n",
        "      <td> \u6df1\u5733\u7ecf\u6d4e\u7279\u533a\u623f\u5730\u4ea7(\u96c6\u56e2)\u80a1\u4efd\u6709\u9650\u516c\u53f8</td>\n",
        "      <td>  \u6df1\u6df1\u623f\uff21</td>\n",
        "      <td>   \u623f\u5730\u4ea7\u5f00\u53d1</td>\n",
        "    </tr>\n",
        "    <tr>\n",
        "      <th>45</th>\n",
        "      <td> 30</td>\n",
        "      <td> 200029</td>\n",
        "      <td> \u6df1\u5733\u7ecf\u6d4e\u7279\u533a\u623f\u5730\u4ea7(\u96c6\u56e2)\u80a1\u4efd\u6709\u9650\u516c\u53f8</td>\n",
        "      <td>  \u6df1\u6df1\u623f\uff22</td>\n",
        "      <td>   \u623f\u5730\u4ea7\u5f00\u53d1</td>\n",
        "    </tr>\n",
        "    <tr>\n",
        "      <th>46</th>\n",
        "      <td> 31</td>\n",
        "      <td> 000030</td>\n",
        "      <td>       \u5bcc\u5965\u6c7d\u8f66\u96f6\u90e8\u4ef6\u80a1\u4efd\u6709\u9650\u516c\u53f8</td>\n",
        "      <td>  \u5bcc\u5965\u80a1\u4efd</td>\n",
        "      <td>   \u6c7d\u8f66\u96f6\u90e8\u4ef6</td>\n",
        "    </tr>\n",
        "    <tr>\n",
        "      <th>47</th>\n",
        "      <td> 31</td>\n",
        "      <td> 200030</td>\n",
        "      <td>       \u5bcc\u5965\u6c7d\u8f66\u96f6\u90e8\u4ef6\u80a1\u4efd\u6709\u9650\u516c\u53f8</td>\n",
        "      <td>   \u5bcc\u5965\uff22</td>\n",
        "      <td>   \u6c7d\u8f66\u96f6\u90e8\u4ef6</td>\n",
        "    </tr>\n",
        "    <tr>\n",
        "      <th>48</th>\n",
        "      <td> 32</td>\n",
        "      <td> 000031</td>\n",
        "      <td>      \u4e2d\u7cae\u5730\u4ea7(\u96c6\u56e2)\u80a1\u4efd\u6709\u9650\u516c\u53f8</td>\n",
        "      <td>  \u4e2d\u7cae\u5730\u4ea7</td>\n",
        "      <td>   \u623f\u5730\u4ea7\u5f00\u53d1</td>\n",
        "    </tr>\n",
        "    <tr>\n",
        "      <th>49</th>\n",
        "      <td> 33</td>\n",
        "      <td> 000032</td>\n",
        "      <td>       \u6df1\u5733\u5e02\u6851\u8fbe\u5b9e\u4e1a\u80a1\u4efd\u6709\u9650\u516c\u53f8</td>\n",
        "      <td>  \u6df1\u6851\u8fbe\uff21</td>\n",
        "      <td>    \u7ec8\u7aef\u8bbe\u5907</td>\n",
        "    </tr>\n",
        "    <tr>\n",
        "      <th>50</th>\n",
        "      <td> 34</td>\n",
        "      <td> 000033</td>\n",
        "      <td>        \u6df1\u5733\u65b0\u90fd\u9152\u5e97\u80a1\u4efd\u6709\u9650\u516c\u53f8</td>\n",
        "      <td> *ST\u65b0\u90fd</td>\n",
        "      <td>      \u9152\u5e97</td>\n",
        "    </tr>\n",
        "    <tr>\n",
        "      <th>51</th>\n",
        "      <td> 35</td>\n",
        "      <td> 000034</td>\n",
        "      <td>   \u6df1\u5733\u5e02\u6df1\u4fe1\u6cf0\u4e30(\u96c6\u56e2)\u80a1\u4efd\u6709\u9650\u516c\u53f8</td>\n",
        "      <td>  \u6df1\u4fe1\u6cf0\u4e30</td>\n",
        "      <td>    \u7ec8\u7aef\u8bbe\u5907</td>\n",
        "    </tr>\n",
        "    <tr>\n",
        "      <th>52</th>\n",
        "      <td> 36</td>\n",
        "      <td> 000035</td>\n",
        "      <td>          \u4e2d\u56fd\u79d1\u5065\u80a1\u4efd\u6709\u9650\u516c\u53f8</td>\n",
        "      <td>  \u4e2d\u56fd\u5929\u6979</td>\n",
        "      <td> \u73af\u4fdd\u5de5\u7a0b\u53ca\u670d\u52a1</td>\n",
        "    </tr>\n",
        "    <tr>\n",
        "      <th>53</th>\n",
        "      <td> 37</td>\n",
        "      <td> 000036</td>\n",
        "      <td>          \u534e\u8054\u63a7\u80a1\u80a1\u4efd\u6709\u9650\u516c\u53f8</td>\n",
        "      <td>  \u534e\u8054\u63a7\u80a1</td>\n",
        "      <td>   \u623f\u5730\u4ea7\u5f00\u53d1</td>\n",
        "    </tr>\n",
        "    <tr>\n",
        "      <th>54</th>\n",
        "      <td> 38</td>\n",
        "      <td> 000037</td>\n",
        "      <td>        \u6df1\u5733\u5357\u5c71\u70ed\u7535\u80a1\u4efd\u6709\u9650\u516c\u53f8</td>\n",
        "      <td>  \u6df1\u5357\u7535\uff21</td>\n",
        "      <td>    \u71c3\u673a\u53d1\u7535</td>\n",
        "    </tr>\n",
        "    <tr>\n",
        "      <th>55</th>\n",
        "      <td> 38</td>\n",
        "      <td> 200037</td>\n",
        "      <td>        \u6df1\u5733\u5357\u5c71\u70ed\u7535\u80a1\u4efd\u6709\u9650\u516c\u53f8</td>\n",
        "      <td>  \u6df1\u5357\u7535\uff22</td>\n",
        "      <td>    \u71c3\u673a\u53d1\u7535</td>\n",
        "    </tr>\n",
        "    <tr>\n",
        "      <th>56</th>\n",
        "      <td> 39</td>\n",
        "      <td> 000038</td>\n",
        "      <td>        \u6df1\u5733\u5927\u901a\u5b9e\u4e1a\u80a1\u4efd\u6709\u9650\u516c\u53f8</td>\n",
        "      <td>   \u6df1\u5927\u901a</td>\n",
        "      <td>   \u623f\u5730\u4ea7\u5f00\u53d1</td>\n",
        "    </tr>\n",
        "    <tr>\n",
        "      <th>57</th>\n",
        "      <td> 40</td>\n",
        "      <td> 000039</td>\n",
        "      <td> \u4e2d\u56fd\u56fd\u9645\u6d77\u8fd0\u96c6\u88c5\u7bb1(\u96c6\u56e2)\u80a1\u4efd\u6709\u9650\u516c\u53f8</td>\n",
        "      <td>  \u4e2d\u96c6\u96c6\u56e2</td>\n",
        "      <td>    \u91d1\u5c5e\u5236\u54c1</td>\n",
        "    </tr>\n",
        "    <tr>\n",
        "      <th>58</th>\n",
        "      <td> 40</td>\n",
        "      <td> 200039</td>\n",
        "      <td> \u4e2d\u56fd\u56fd\u9645\u6d77\u8fd0\u96c6\u88c5\u7bb1(\u96c6\u56e2)\u80a1\u4efd\u6709\u9650\u516c\u53f8</td>\n",
        "      <td>   \u4e2d\u96c6\uff22</td>\n",
        "      <td>    \u91d1\u5c5e\u5236\u54c1</td>\n",
        "    </tr>\n",
        "    <tr>\n",
        "      <th>59</th>\n",
        "      <td> 41</td>\n",
        "      <td> 000040</td>\n",
        "      <td>      \u5b9d\u5b89\u9e3f\u57fa\u5730\u4ea7\u96c6\u56e2\u80a1\u4efd\u6709\u9650\u516c\u53f8</td>\n",
        "      <td>  \u5b9d\u5b89\u5730\u4ea7</td>\n",
        "      <td>   \u623f\u5730\u4ea7\u5f00\u53d1</td>\n",
        "    </tr>\n",
        "    <tr>\n",
        "      <th></th>\n",
        "      <td>...</td>\n",
        "      <td>...</td>\n",
        "      <td>...</td>\n",
        "      <td>...</td>\n",
        "      <td>...</td>\n",
        "    </tr>\n",
        "  </tbody>\n",
        "</table>\n",
        "<p>2724 rows \u00d7 5 columns</p>\n",
        "</div>"
       ],
       "metadata": {},
       "output_type": "pyout",
       "prompt_number": 6,
       "text": [
        "    PARTY_ID TICKER_SYMBOL   REGISTER_FULL_NAME SECURITY_NAME_ABBR  \\\n",
        "0          2        000001           \u5e73\u5b89\u94f6\u884c\u80a1\u4efd\u6709\u9650\u516c\u53f8               \u5e73\u5b89\u94f6\u884c   \n",
        "1          3        000002           \u4e07\u79d1\u4f01\u4e1a\u80a1\u4efd\u6709\u9650\u516c\u53f8                \u4e07\u79d1\uff21   \n",
        "2          3        200002           \u4e07\u79d1\u4f01\u4e1a\u80a1\u4efd\u6709\u9650\u516c\u53f8                \u4e07\u79d1\uff22   \n",
        "3          4        400016       \u91d1\u7530\u5b9e\u4e1a(\u96c6\u56e2)\u80a1\u4efd\u6709\u9650\u516c\u53f8               \u91d1\u7530\uff21\uff13   \n",
        "4          4        420016       \u91d1\u7530\u5b9e\u4e1a(\u96c6\u56e2)\u80a1\u4efd\u6709\u9650\u516c\u53f8               \u91d1\u7530\uff22\uff13   \n",
        "5          5        000004       \u6df1\u5733\u4e2d\u56fd\u519c\u5927\u79d1\u6280\u80a1\u4efd\u6709\u9650\u516c\u53f8               \u56fd\u519c\u79d1\u6280   \n",
        "6          6        000005         \u6df1\u5733\u4e16\u7eaa\u661f\u6e90\u80a1\u4efd\u6709\u9650\u516c\u53f8               \u4e16\u7eaa\u661f\u6e90   \n",
        "7          7        000006      \u6df1\u5733\u5e02\u632f\u4e1a(\u96c6\u56e2)\u80a1\u4efd\u6709\u9650\u516c\u53f8               \u6df1\u632f\u4e1a\uff21   \n",
        "8          8        000007          \u6df1\u5733\u5e02\u96f6\u4e03\u80a1\u4efd\u6709\u9650\u516c\u53f8               \u96f6\u4e03\u80a1\u4efd   \n",
        "9          9        000008        \u5e7f\u4e1c\u5b9d\u5229\u6765\u6295\u8d44\u80a1\u4efd\u6709\u9650\u516c\u53f8                \u5b9d\u5229\u6765   \n",
        "10        10        000009         \u4e2d\u56fd\u5b9d\u5b89\u96c6\u56e2\u80a1\u4efd\u6709\u9650\u516c\u53f8               \u4e2d\u56fd\u5b9d\u5b89   \n",
        "11        11        000010          \u5317\u4eac\u6df1\u534e\u65b0\u80a1\u4efd\u6709\u9650\u516c\u53f8                \u6df1\u534e\u65b0   \n",
        "12        12        000011    \u6df1\u5733\u5e02\u7269\u4e1a\u53d1\u5c55(\u96c6\u56e2)\u80a1\u4efd\u6709\u9650\u516c\u53f8               \u6df1\u7269\u4e1a\uff21   \n",
        "13        12        200011    \u6df1\u5733\u5e02\u7269\u4e1a\u53d1\u5c55(\u96c6\u56e2)\u80a1\u4efd\u6709\u9650\u516c\u53f8               \u6df1\u7269\u4e1a\uff22   \n",
        "14        13        000012         \u4e2d\u56fd\u5357\u73bb\u96c6\u56e2\u80a1\u4efd\u6709\u9650\u516c\u53f8                \u5357\u73bb\uff21   \n",
        "15        13        200012         \u4e2d\u56fd\u5357\u73bb\u96c6\u56e2\u80a1\u4efd\u6709\u9650\u516c\u53f8                \u5357\u73bb\uff22   \n",
        "16        14        400032       \u6df1\u5733\u77f3\u5316\u5de5\u4e1a\u96c6\u56e2\u80a1\u4efd\u6709\u9650\u516c\u53f8               \u77f3\u5316\uff21\uff11   \n",
        "17        14        420032       \u6df1\u5733\u77f3\u5316\u5de5\u4e1a\u96c6\u56e2\u80a1\u4efd\u6709\u9650\u516c\u53f8               \u77f3\u5316\uff22\uff11   \n",
        "18        15        000014           \u6c99\u6cb3\u5b9e\u4e1a\u80a1\u4efd\u6709\u9650\u516c\u53f8               \u6c99\u6cb3\u80a1\u4efd   \n",
        "19        16        400011       \u6df1\u5733\u4e2d\u6d69(\u96c6\u56e2)\u80a1\u4efd\u6709\u9650\u516c\u53f8               \u4e2d\u6d69\uff21\uff13   \n",
        "20        16        420011       \u6df1\u5733\u4e2d\u6d69(\u96c6\u56e2)\u80a1\u4efd\u6709\u9650\u516c\u53f8               \u4e2d\u6d69\uff22\uff13   \n",
        "21        17        000016           \u5eb7\u4f73\u96c6\u56e2\u80a1\u4efd\u6709\u9650\u516c\u53f8               \u6df1\u5eb7\u4f73\uff21   \n",
        "22        17        200016           \u5eb7\u4f73\u96c6\u56e2\u80a1\u4efd\u6709\u9650\u516c\u53f8               \u6df1\u5eb7\u4f73\uff22   \n",
        "23        18        000017    \u6df1\u5733\u4e2d\u534e\u81ea\u884c\u8f66(\u96c6\u56e2)\u80a1\u4efd\u6709\u9650\u516c\u53f8               \u6df1\u4e2d\u534e\uff21   \n",
        "24        18        200017    \u6df1\u5733\u4e2d\u534e\u81ea\u884c\u8f66(\u96c6\u56e2)\u80a1\u4efd\u6709\u9650\u516c\u53f8               \u6df1\u4e2d\u534e\uff22   \n",
        "25        19        000018       \u6df1\u5733\u4e2d\u51a0\u7eba\u7ec7\u5370\u67d3\u80a1\u4efd\u6709\u9650\u516c\u53f8                \u4e2d\u51a0\uff21   \n",
        "26        19        200018       \u6df1\u5733\u4e2d\u51a0\u7eba\u7ec7\u5370\u67d3\u80a1\u4efd\u6709\u9650\u516c\u53f8                \u4e2d\u51a0\uff22   \n",
        "27        20        000019        \u6df1\u5733\u5e02\u6df1\u5b9d\u5b9e\u4e1a\u80a1\u4efd\u6709\u9650\u516c\u53f8               \u6df1\u6df1\u5b9d\uff21   \n",
        "28        20        200019        \u6df1\u5733\u5e02\u6df1\u5b9d\u5b9e\u4e1a\u80a1\u4efd\u6709\u9650\u516c\u53f8               \u6df1\u6df1\u5b9d\uff22   \n",
        "29        21        000020         \u6df1\u5733\u4e2d\u6052\u534e\u53d1\u80a1\u4efd\u6709\u9650\u516c\u53f8               \u6df1\u534e\u53d1\uff21   \n",
        "30        21        200020         \u6df1\u5733\u4e2d\u6052\u534e\u53d1\u80a1\u4efd\u6709\u9650\u516c\u53f8               \u6df1\u534e\u53d1\uff22   \n",
        "31        22        000021       \u6df1\u5733\u957f\u57ce\u5f00\u53d1\u79d1\u6280\u80a1\u4efd\u6709\u9650\u516c\u53f8               \u957f\u57ce\u5f00\u53d1   \n",
        "32        23        000022         \u6df1\u5733\u8d64\u6e7e\u6e2f\u822a\u80a1\u4efd\u6709\u9650\u516c\u53f8               \u6df1\u8d64\u6e7e\uff21   \n",
        "33        23        200022         \u6df1\u5733\u8d64\u6e7e\u6e2f\u822a\u80a1\u4efd\u6709\u9650\u516c\u53f8               \u6df1\u8d64\u6e7e\uff22   \n",
        "34        24        000023      \u6df1\u5733\u5e02\u5929\u5730(\u96c6\u56e2)\u80a1\u4efd\u6709\u9650\u516c\u53f8               \u6df1\u5929\u5730\uff21   \n",
        "35        25        000024        \u62db\u5546\u5c40\u5730\u4ea7\u63a7\u80a1\u80a1\u4efd\u6709\u9650\u516c\u53f8               \u62db\u5546\u5730\u4ea7   \n",
        "36        25        200024        \u62db\u5546\u5c40\u5730\u4ea7\u63a7\u80a1\u80a1\u4efd\u6709\u9650\u516c\u53f8               \u62db\u5546\u5c40\uff22   \n",
        "37        26        000025      \u6df1\u5733\u5e02\u7279\u529b(\u96c6\u56e2)\u80a1\u4efd\u6709\u9650\u516c\u53f8                \u7279\u529b\uff21   \n",
        "38        26        200025      \u6df1\u5733\u5e02\u7279\u529b(\u96c6\u56e2)\u80a1\u4efd\u6709\u9650\u516c\u53f8                \u7279\u529b\uff22   \n",
        "39        27        000026        \u98de\u4e9a\u8fbe(\u96c6\u56e2)\u80a1\u4efd\u6709\u9650\u516c\u53f8               \u98de\u4e9a\u8fbe\uff21   \n",
        "40        27        200026        \u98de\u4e9a\u8fbe(\u96c6\u56e2)\u80a1\u4efd\u6709\u9650\u516c\u53f8               \u98de\u4e9a\u8fbe\uff22   \n",
        "41        28        000027         \u6df1\u5733\u80fd\u6e90\u96c6\u56e2\u80a1\u4efd\u6709\u9650\u516c\u53f8               \u6df1\u5733\u80fd\u6e90   \n",
        "42        29        000028       \u56fd\u836f\u96c6\u56e2\u4e00\u81f4\u836f\u4e1a\u80a1\u4efd\u6709\u9650\u516c\u53f8               \u56fd\u836f\u4e00\u81f4   \n",
        "43        29        200028       \u56fd\u836f\u96c6\u56e2\u4e00\u81f4\u836f\u4e1a\u80a1\u4efd\u6709\u9650\u516c\u53f8                \u4e00\u81f4\uff22   \n",
        "44        30        000029  \u6df1\u5733\u7ecf\u6d4e\u7279\u533a\u623f\u5730\u4ea7(\u96c6\u56e2)\u80a1\u4efd\u6709\u9650\u516c\u53f8               \u6df1\u6df1\u623f\uff21   \n",
        "45        30        200029  \u6df1\u5733\u7ecf\u6d4e\u7279\u533a\u623f\u5730\u4ea7(\u96c6\u56e2)\u80a1\u4efd\u6709\u9650\u516c\u53f8               \u6df1\u6df1\u623f\uff22   \n",
        "46        31        000030        \u5bcc\u5965\u6c7d\u8f66\u96f6\u90e8\u4ef6\u80a1\u4efd\u6709\u9650\u516c\u53f8               \u5bcc\u5965\u80a1\u4efd   \n",
        "47        31        200030        \u5bcc\u5965\u6c7d\u8f66\u96f6\u90e8\u4ef6\u80a1\u4efd\u6709\u9650\u516c\u53f8                \u5bcc\u5965\uff22   \n",
        "48        32        000031       \u4e2d\u7cae\u5730\u4ea7(\u96c6\u56e2)\u80a1\u4efd\u6709\u9650\u516c\u53f8               \u4e2d\u7cae\u5730\u4ea7   \n",
        "49        33        000032        \u6df1\u5733\u5e02\u6851\u8fbe\u5b9e\u4e1a\u80a1\u4efd\u6709\u9650\u516c\u53f8               \u6df1\u6851\u8fbe\uff21   \n",
        "50        34        000033         \u6df1\u5733\u65b0\u90fd\u9152\u5e97\u80a1\u4efd\u6709\u9650\u516c\u53f8              *ST\u65b0\u90fd   \n",
        "51        35        000034    \u6df1\u5733\u5e02\u6df1\u4fe1\u6cf0\u4e30(\u96c6\u56e2)\u80a1\u4efd\u6709\u9650\u516c\u53f8               \u6df1\u4fe1\u6cf0\u4e30   \n",
        "52        36        000035           \u4e2d\u56fd\u79d1\u5065\u80a1\u4efd\u6709\u9650\u516c\u53f8               \u4e2d\u56fd\u5929\u6979   \n",
        "53        37        000036           \u534e\u8054\u63a7\u80a1\u80a1\u4efd\u6709\u9650\u516c\u53f8               \u534e\u8054\u63a7\u80a1   \n",
        "54        38        000037         \u6df1\u5733\u5357\u5c71\u70ed\u7535\u80a1\u4efd\u6709\u9650\u516c\u53f8               \u6df1\u5357\u7535\uff21   \n",
        "55        38        200037         \u6df1\u5733\u5357\u5c71\u70ed\u7535\u80a1\u4efd\u6709\u9650\u516c\u53f8               \u6df1\u5357\u7535\uff22   \n",
        "56        39        000038         \u6df1\u5733\u5927\u901a\u5b9e\u4e1a\u80a1\u4efd\u6709\u9650\u516c\u53f8                \u6df1\u5927\u901a   \n",
        "57        40        000039  \u4e2d\u56fd\u56fd\u9645\u6d77\u8fd0\u96c6\u88c5\u7bb1(\u96c6\u56e2)\u80a1\u4efd\u6709\u9650\u516c\u53f8               \u4e2d\u96c6\u96c6\u56e2   \n",
        "58        40        200039  \u4e2d\u56fd\u56fd\u9645\u6d77\u8fd0\u96c6\u88c5\u7bb1(\u96c6\u56e2)\u80a1\u4efd\u6709\u9650\u516c\u53f8                \u4e2d\u96c6\uff22   \n",
        "59        41        000040       \u5b9d\u5b89\u9e3f\u57fa\u5730\u4ea7\u96c6\u56e2\u80a1\u4efd\u6709\u9650\u516c\u53f8               \u5b9d\u5b89\u5730\u4ea7   \n",
        "         ...           ...                  ...                ...   \n",
        "\n",
        "   LEVEL3_INDUST_NM  \n",
        "0                \u94f6\u884c  \n",
        "1             \u623f\u5730\u4ea7\u5f00\u53d1  \n",
        "2             \u623f\u5730\u4ea7\u5f00\u53d1  \n",
        "3                \u7efc\u5408  \n",
        "4                \u7efc\u5408  \n",
        "5              \u751f\u7269\u5236\u54c1  \n",
        "6             \u623f\u5730\u4ea7\u5f00\u53d1  \n",
        "7             \u623f\u5730\u4ea7\u5f00\u53d1  \n",
        "8                \u9910\u996e  \n",
        "9                \u9152\u5e97  \n",
        "10               \u7efc\u5408  \n",
        "11               \u7efc\u5408  \n",
        "12            \u623f\u5730\u4ea7\u5f00\u53d1  \n",
        "13            \u623f\u5730\u4ea7\u5f00\u53d1  \n",
        "14             \u73bb\u7483\u5236\u9020  \n",
        "15             \u73bb\u7483\u5236\u9020  \n",
        "16           \u5176\u4ed6\u5851\u6599\u5236\u54c1  \n",
        "17           \u5176\u4ed6\u5851\u6599\u5236\u54c1  \n",
        "18            \u623f\u5730\u4ea7\u5f00\u53d1  \n",
        "19               \u7efc\u5408  \n",
        "20               \u7efc\u5408  \n",
        "21               \u5f69\u7535  \n",
        "22               \u5f69\u7535  \n",
        "23           \u5176\u4ed6\u4ea4\u8fd0\u8bbe\u5907  \n",
        "24           \u5176\u4ed6\u4ea4\u8fd0\u8bbe\u5907  \n",
        "25               \u7efc\u5408  \n",
        "26               \u7efc\u5408  \n",
        "27              \u8f6f\u996e\u6599  \n",
        "28              \u8f6f\u996e\u6599  \n",
        "29           \u7535\u5b50\u7cfb\u7edf\u7ec4\u88c5  \n",
        "30           \u7535\u5b50\u7cfb\u7edf\u7ec4\u88c5  \n",
        "31            \u8ba1\u7b97\u673a\u8bbe\u5907  \n",
        "32               \u6e2f\u53e3  \n",
        "33               \u6e2f\u53e3  \n",
        "34             \u5176\u4ed6\u5efa\u6750  \n",
        "35            \u623f\u5730\u4ea7\u5f00\u53d1  \n",
        "36            \u623f\u5730\u4ea7\u5f00\u53d1  \n",
        "37             \u6c7d\u8f66\u670d\u52a1  \n",
        "38             \u6c7d\u8f66\u670d\u52a1  \n",
        "39             \u73e0\u5b9d\u9996\u9970  \n",
        "40             \u73e0\u5b9d\u9996\u9970  \n",
        "41               \u706b\u7535  \n",
        "42             \u533b\u836f\u5546\u4e1a  \n",
        "43             \u533b\u836f\u5546\u4e1a  \n",
        "44            \u623f\u5730\u4ea7\u5f00\u53d1  \n",
        "45            \u623f\u5730\u4ea7\u5f00\u53d1  \n",
        "46            \u6c7d\u8f66\u96f6\u90e8\u4ef6  \n",
        "47            \u6c7d\u8f66\u96f6\u90e8\u4ef6  \n",
        "48            \u623f\u5730\u4ea7\u5f00\u53d1  \n",
        "49             \u7ec8\u7aef\u8bbe\u5907  \n",
        "50               \u9152\u5e97  \n",
        "51             \u7ec8\u7aef\u8bbe\u5907  \n",
        "52          \u73af\u4fdd\u5de5\u7a0b\u53ca\u670d\u52a1  \n",
        "53            \u623f\u5730\u4ea7\u5f00\u53d1  \n",
        "54             \u71c3\u673a\u53d1\u7535  \n",
        "55             \u71c3\u673a\u53d1\u7535  \n",
        "56            \u623f\u5730\u4ea7\u5f00\u53d1  \n",
        "57             \u91d1\u5c5e\u5236\u54c1  \n",
        "58             \u91d1\u5c5e\u5236\u54c1  \n",
        "59            \u623f\u5730\u4ea7\u5f00\u53d1  \n",
        "                ...  \n",
        "\n",
        "[2724 rows x 5 columns]"
       ]
      }
     ],
     "prompt_number": 6
    },
    {
     "cell_type": "code",
     "collapsed": false,
     "input": [
      "companyInfo[companyInfo.PARTY_ID==29]"
     ],
     "language": "python",
     "metadata": {},
     "outputs": [
      {
       "html": [
        "<div style=\"max-height:1000px;max-width:1500px;overflow:auto;\">\n",
        "<table border=\"1\" class=\"dataframe\">\n",
        "  <thead>\n",
        "    <tr style=\"text-align: right;\">\n",
        "      <th></th>\n",
        "      <th>PARTY_ID</th>\n",
        "      <th>TICKER_SYMBOL</th>\n",
        "      <th>REGISTER_FULL_NAME</th>\n",
        "      <th>SECURITY_NAME_ABBR</th>\n",
        "      <th>LEVEL3_INDUST_NM</th>\n",
        "    </tr>\n",
        "  </thead>\n",
        "  <tbody>\n",
        "    <tr>\n",
        "      <th>36</th>\n",
        "      <td> 29</td>\n",
        "      <td> 000028</td>\n",
        "      <td> \u56fd\u836f\u96c6\u56e2\u4e00\u81f4\u836f\u4e1a\u80a1\u4efd\u6709\u9650\u516c\u53f8</td>\n",
        "      <td> \u56fd\u836f\u4e00\u81f4</td>\n",
        "      <td> \u533b\u836f\u5546\u4e1a</td>\n",
        "    </tr>\n",
        "    <tr>\n",
        "      <th>37</th>\n",
        "      <td> 29</td>\n",
        "      <td> 200028</td>\n",
        "      <td> \u56fd\u836f\u96c6\u56e2\u4e00\u81f4\u836f\u4e1a\u80a1\u4efd\u6709\u9650\u516c\u53f8</td>\n",
        "      <td>  \u4e00\u81f4\uff22</td>\n",
        "      <td> \u533b\u836f\u5546\u4e1a</td>\n",
        "    </tr>\n",
        "  </tbody>\n",
        "</table>\n",
        "<p>2 rows \u00d7 5 columns</p>\n",
        "</div>"
       ],
       "metadata": {},
       "output_type": "pyout",
       "prompt_number": 57,
       "text": [
        "    PARTY_ID TICKER_SYMBOL REGISTER_FULL_NAME SECURITY_NAME_ABBR  \\\n",
        "36        29        000028     \u56fd\u836f\u96c6\u56e2\u4e00\u81f4\u836f\u4e1a\u80a1\u4efd\u6709\u9650\u516c\u53f8               \u56fd\u836f\u4e00\u81f4   \n",
        "37        29        200028     \u56fd\u836f\u96c6\u56e2\u4e00\u81f4\u836f\u4e1a\u80a1\u4efd\u6709\u9650\u516c\u53f8                \u4e00\u81f4\uff22   \n",
        "\n",
        "   LEVEL3_INDUST_NM  \n",
        "36             \u533b\u836f\u5546\u4e1a  \n",
        "37             \u533b\u836f\u5546\u4e1a  \n",
        "\n",
        "[2 rows x 5 columns]"
       ]
      }
     ],
     "prompt_number": 57
    },
    {
     "cell_type": "code",
     "collapsed": false,
     "input": [
      "companyInfo['TICKER_SYMBOL'].to_csv('/home/jiminzhou/data/companyName.txt',encoding='utf-8',)"
     ],
     "language": "python",
     "metadata": {},
     "outputs": [],
     "prompt_number": 59
    },
    {
     "cell_type": "code",
     "collapsed": false,
     "input": [
      "companyInfo.dtypes"
     ],
     "language": "python",
     "metadata": {},
     "outputs": [
      {
       "metadata": {},
       "output_type": "pyout",
       "prompt_number": 37,
       "text": [
        "PARTY_ID               int64\n",
        "TICKER_SYMBOL         object\n",
        "REGISTER_FULL_NAME    object\n",
        "SECURITY_NAME_ABBR    object\n",
        "LEVEL3_INDUST_NM      object\n",
        "dtype: object"
       ]
      }
     ],
     "prompt_number": 37
    },
    {
     "cell_type": "code",
     "collapsed": false,
     "input": [
      "companyShortName = pd.read_csv(\"/home/jiminzhou/data/\u4e0a\u5e02\u516c\u53f8\u5e38\u7528\u540d.txt\")"
     ],
     "language": "python",
     "metadata": {},
     "outputs": [],
     "prompt_number": 60
    },
    {
     "cell_type": "code",
     "collapsed": false,
     "input": [
      "companyShortName = companyShortName[['ticker','security','shortName']]"
     ],
     "language": "python",
     "metadata": {},
     "outputs": [],
     "prompt_number": 61
    },
    {
     "cell_type": "code",
     "collapsed": false,
     "input": [
      "companyShortName = companyShortName.dropna(how = 'any')"
     ],
     "language": "python",
     "metadata": {},
     "outputs": [],
     "prompt_number": 62
    },
    {
     "cell_type": "code",
     "collapsed": false,
     "input": [
      "companyShortName['shortName'] = companyShortName['shortName'].apply(lambda x : x.decode('utf-8'))"
     ],
     "language": "python",
     "metadata": {},
     "outputs": [],
     "prompt_number": 63
    },
    {
     "cell_type": "code",
     "collapsed": false,
     "input": [
      "companyNames = pd.DataFrame(companyInfo['SECURITY_NAME_ABBR'].append(companyInfo['REGISTER_FULL_NAME']).\n",
      "                                                                     append(companyShortName['shortName']), columns=['name'])"
     ],
     "language": "python",
     "metadata": {},
     "outputs": [],
     "prompt_number": 64
    },
    {
     "cell_type": "code",
     "collapsed": false,
     "input": [
      "def hit(content):\n",
      "    return sum(companyNames['name'].apply(lambda x: content.count(x)))"
     ],
     "language": "python",
     "metadata": {},
     "outputs": [],
     "prompt_number": 65
    },
    {
     "cell_type": "code",
     "collapsed": false,
     "input": [
      "#\u53bb\u9664\u7b80\u79f0\u8868\u4e2d\u7684X\u3002\u3002\u3002\u80a1\u8868ticker\n",
      "companyInfo['TICKER_SYMBOL'] = companyInfo['TICKER_SYMBOL'].apply(lambda x : int(x) if x.find('X') < 0 else -1)"
     ],
     "language": "python",
     "metadata": {},
     "outputs": [],
     "prompt_number": 66
    },
    {
     "cell_type": "code",
     "collapsed": false,
     "input": [
      "#combine\u516c\u53f8\u8868\u548c\u7b80\u79f0\u8868\n",
      "companyInfo = companyInfo.merge(companyShortName, right_on='ticker', left_on='TICKER_SYMBOL', how ='outer')"
     ],
     "language": "python",
     "metadata": {},
     "outputs": [],
     "prompt_number": 67
    },
    {
     "cell_type": "code",
     "collapsed": false,
     "input": [
      "companyInfo.ix[2670]"
     ],
     "language": "python",
     "metadata": {},
     "outputs": [
      {
       "metadata": {},
       "output_type": "pyout",
       "prompt_number": 71,
       "text": [
        "PARTY_ID                           4\n",
        "TICKER_SYMBOL                 400016\n",
        "REGISTER_FULL_NAME    \u91d1\u7530\u5b9e\u4e1a(\u96c6\u56e2)\u80a1\u4efd\u6709\u9650\u516c\u53f8\n",
        "SECURITY_NAME_ABBR              \u91d1\u7530\uff21\uff13\n",
        "LEVEL3_INDUST_NM                  \u7efc\u5408\n",
        "ticker                           NaN\n",
        "security                         NaN\n",
        "shortName                        NaN\n",
        "Name: 2670, dtype: object"
       ]
      }
     ],
     "prompt_number": 71
    },
    {
     "cell_type": "code",
     "collapsed": false,
     "input": [
      "#\u53bb\u9664\u7b80\u79f0\u8868\u4e2d\u7684\u975e\u6cd5\u884c\n",
      "#companyInfo = companyInfo.ix[0:2665]"
     ],
     "language": "python",
     "metadata": {},
     "outputs": [],
     "prompt_number": 47
    },
    {
     "cell_type": "code",
     "collapsed": false,
     "input": [
      "#\u5220\u9664AB\uff0c\u5168\u89d2\u534a\u89d2\n",
      "def removeAB(name):\n",
      "    return re.sub('[AB]','',re.sub(ur'[\\uFF21\\uff22]','',name))"
     ],
     "language": "python",
     "metadata": {},
     "outputs": [],
     "prompt_number": 72
    },
    {
     "cell_type": "code",
     "collapsed": false,
     "input": [
      "# companyRef = {}\n",
      "# for index in range(companyInfo.shape[0]):\n",
      "#     info = companyInfo.ix[index]\n",
      "#     stockid = info['TICKER_SYMBOL']\n",
      "#     name = info['REGISTER_FULL_NAME']\n",
      "#     if name != None:\n",
      "#         companyRef[name]=stockid\n",
      "#     name = info['SECURITY_NAME_ABBR']\n",
      "#     if name != None"
     ],
     "language": "python",
     "metadata": {},
     "outputs": [],
     "prompt_number": 76
    },
    {
     "cell_type": "code",
     "collapsed": false,
     "input": [
      "companyInfo['SECURITY_NAME_ABBR'].iloc[2]"
     ],
     "language": "python",
     "metadata": {},
     "outputs": [
      {
       "metadata": {},
       "output_type": "pyout",
       "prompt_number": 73,
       "text": [
        "u'\\u4e07\\u79d1\\uff22'"
       ]
      }
     ],
     "prompt_number": 73
    },
    {
     "cell_type": "code",
     "collapsed": false,
     "input": [
      "removeAB(u'\u4e07\u79d1\uff22')"
     ],
     "language": "python",
     "metadata": {},
     "outputs": [
      {
       "metadata": {},
       "output_type": "pyout",
       "prompt_number": 74,
       "text": [
        "u'\\u4e07\\u79d1'"
       ]
      }
     ],
     "prompt_number": 74
    },
    {
     "cell_type": "code",
     "collapsed": false,
     "input": [
      "companyInfo['SECURITY_NAME_ABBR'] = companyInfo['SECURITY_NAME_ABBR'].apply(removeAB)"
     ],
     "language": "python",
     "metadata": {},
     "outputs": [],
     "prompt_number": 75
    },
    {
     "cell_type": "code",
     "collapsed": false,
     "input": [
      "#\u8fc7\u6ee4\u7a7a\u683c\n",
      "#data['news_title'] = data['news_title'].apply(lambda x: re.sub(' ', '', x))\n",
      "#data['news_body'] = data['news_body'].apply(lambda x: re.sub(' ','',x))"
     ],
     "language": "python",
     "metadata": {},
     "outputs": [],
     "prompt_number": 77
    },
    {
     "cell_type": "code",
     "collapsed": false,
     "input": [
      "#\u7edf\u8ba1\u516c\u53f8\u5173\u8054\u65b0\u95fb\u4e2a\u6570\uff0c\u57fa\u4e8e \u5168\u79f0\uff0c\u5b98\u7b80\u79f0\uff0c \u4fd7\u79f0\n",
      "# def calCount(info):\n",
      "#     newsCnt = [0]\n",
      "#     nameList = []\n",
      "#     name = info.REGISTER_FULL_NAME\n",
      "#     if name is not nan and nameList.count(name) == 0:\n",
      "#         nameList.append(name)\n",
      "#         newsCnt =  newsCnt + data['news_title'].apply(lambda x: x.count(name)) + data['news_body'].apply(lambda x: x.count(name))\n",
      "#     name = info.SECURITY_NAME_ABBR\n",
      "#     if name is not nan and nameList.count(name) == 0:\n",
      "#         nameList.append(name)\n",
      "#         newsCnt =  newsCnt + data['news_title'].apply(lambda x: x.count(name)) + data['news_body'].apply(lambda x: x.count(name))\n",
      "#     name = info.shortName\n",
      "#     if name is not nan and nameList.count(name) == 0:\n",
      "#         nameList.append(name)\n",
      "#         newsCnt =  newsCnt+ data['news_title'].apply(lambda x: x.count(name)) + data['news_body'].apply(lambda x: x.count(name))\n",
      "#     return newsCnt[newsCnt>0].count()"
     ],
     "language": "python",
     "metadata": {},
     "outputs": [],
     "prompt_number": 27
    },
    {
     "cell_type": "code",
     "collapsed": false,
     "input": [],
     "language": "python",
     "metadata": {},
     "outputs": [],
     "prompt_number": 78
    },
    {
     "cell_type": "code",
     "collapsed": false,
     "input": [
      "#caculate company coverage rate\n",
      "#companyInfo['news_cover_count'] = companyInfo.apply(calCount, axis=1)"
     ],
     "language": "python",
     "metadata": {},
     "outputs": [],
     "prompt_number": 79
    },
    {
     "cell_type": "code",
     "collapsed": false,
     "input": [
      "#res=companyInfo['news_cover_count']"
     ],
     "language": "python",
     "metadata": {},
     "outputs": [],
     "prompt_number": 90
    },
    {
     "cell_type": "code",
     "collapsed": false,
     "input": [
      "#res[res>20] = 20"
     ],
     "language": "python",
     "metadata": {},
     "outputs": [],
     "prompt_number": 84
    },
    {
     "cell_type": "code",
     "collapsed": false,
     "input": [
      "#res = res.value_counts()"
     ],
     "language": "python",
     "metadata": {},
     "outputs": [],
     "prompt_number": 85
    },
    {
     "cell_type": "code",
     "collapsed": false,
     "input": [
      "#res.sort_index()[0:19].plot(kind = 'bar')"
     ],
     "language": "python",
     "metadata": {},
     "outputs": [],
     "prompt_number": 89
    },
    {
     "cell_type": "code",
     "collapsed": false,
     "input": [
      "#(2666-res[0])/2666.0"
     ],
     "language": "python",
     "metadata": {},
     "outputs": [],
     "prompt_number": 88
    },
    {
     "cell_type": "code",
     "collapsed": false,
     "input": [
      "#res2 = data[data['main_related_company_id'] != -1]['main_related_company_id'].value_counts().value_counts().sort_index()"
     ],
     "language": "python",
     "metadata": {},
     "outputs": [],
     "prompt_number": 87
    },
    {
     "cell_type": "code",
     "collapsed": false,
     "input": [
      "# sums = 0\n",
      "# for i in res2.index:\n",
      "#     sums = sums + i* res2[i]\n",
      "# print sums\n",
      "        "
     ],
     "language": "python",
     "metadata": {},
     "outputs": [],
     "prompt_number": 86
    },
    {
     "cell_type": "code",
     "collapsed": false,
     "input": [
      "#res2[0] = 33877-2809"
     ],
     "language": "python",
     "metadata": {},
     "outputs": [],
     "prompt_number": 454
    },
    {
     "cell_type": "code",
     "collapsed": false,
     "input": [
      "#res2 = res2.sort_index()"
     ],
     "language": "python",
     "metadata": {},
     "outputs": [],
     "prompt_number": 452
    },
    {
     "cell_type": "code",
     "collapsed": false,
     "input": [
      "#res2 = res2[0:19]"
     ],
     "language": "python",
     "metadata": {},
     "outputs": [],
     "prompt_number": 453
    },
    {
     "cell_type": "code",
     "collapsed": false,
     "input": [
      "#res2.plot(kind = 'bar')"
     ],
     "language": "python",
     "metadata": {},
     "outputs": [],
     "prompt_number": 85
    },
    {
     "cell_type": "code",
     "collapsed": false,
     "input": [
      "#allres=pd.DataFrame(res)"
     ],
     "language": "python",
     "metadata": {},
     "outputs": [],
     "prompt_number": 420
    },
    {
     "cell_type": "code",
     "collapsed": false,
     "input": [
      "#allres[1] = res2"
     ],
     "language": "python",
     "metadata": {},
     "outputs": [],
     "prompt_number": 422
    },
    {
     "cell_type": "code",
     "collapsed": false,
     "input": [
      "#ct = data[data['main_related_company_id'] != -1]['main_related_company_id'].value_counts().shape"
     ],
     "language": "python",
     "metadata": {},
     "outputs": [],
     "prompt_number": 32
    },
    {
     "cell_type": "code",
     "collapsed": false,
     "input": [
      "#ct[0]/2666.0"
     ],
     "language": "python",
     "metadata": {},
     "outputs": [],
     "prompt_number": 84
    },
    {
     "cell_type": "code",
     "collapsed": false,
     "input": [
      "#res[res['news_cover_count']<0]=0"
     ],
     "language": "python",
     "metadata": {},
     "outputs": [],
     "prompt_number": 185
    },
    {
     "cell_type": "code",
     "collapsed": false,
     "input": [
      "#res['seg']"
     ],
     "language": "python",
     "metadata": {},
     "outputs": []
    },
    {
     "cell_type": "code",
     "collapsed": false,
     "input": [
      "#companyNames[companyNames['news_cover_count']==0].count()/companyNames.count()"
     ],
     "language": "python",
     "metadata": {},
     "outputs": [],
     "prompt_number": 83
    },
    {
     "cell_type": "code",
     "collapsed": false,
     "input": [
      "#hit(u\"\u5e73\u5b89\u94f6\u884c\u652f\u884c\u4e07\u79d1\uff21\")"
     ],
     "language": "python",
     "metadata": {},
     "outputs": [],
     "prompt_number": 82
    },
    {
     "cell_type": "code",
     "collapsed": false,
     "input": [
      "#data['news_ac'] = data['news_title'].apply(hit) + data['news_body'].apply(hit)"
     ],
     "language": "python",
     "metadata": {},
     "outputs": [],
     "prompt_number": 81
    },
    {
     "cell_type": "code",
     "collapsed": false,
     "input": [
      "#uncoverd = data.ix[(data['news_ac'] > 0) & (data['main_related_company_id'] == -1)]"
     ],
     "language": "python",
     "metadata": {},
     "outputs": [],
     "prompt_number": 45
    },
    {
     "cell_type": "code",
     "collapsed": false,
     "input": [
      "#uncoverd.iloc[random.sample(range(uncoverd.shape[0]),100)].to_pickle('/home/jiminzhou/newsUncover.txt')"
     ],
     "language": "python",
     "metadata": {},
     "outputs": [],
     "prompt_number": 51
    },
    {
     "cell_type": "code",
     "collapsed": false,
     "input": [
      "#sum(data['news_ac']>0)/(len(data['news_ac'])+0.0)"
     ],
     "language": "python",
     "metadata": {},
     "outputs": [],
     "prompt_number": 91
    },
    {
     "cell_type": "code",
     "collapsed": false,
     "input": [
      "#notRel = data.ix[data['news_ac']==0]"
     ],
     "language": "python",
     "metadata": {},
     "outputs": [],
     "prompt_number": 104
    },
    {
     "cell_type": "code",
     "collapsed": false,
     "input": [
      "#notRel.iloc[21274]"
     ],
     "language": "python",
     "metadata": {},
     "outputs": [],
     "prompt_number": 92
    },
    {
     "cell_type": "code",
     "collapsed": false,
     "input": [
      "#sample_data = notRel.iloc[random.sample(range(notRel.shape[0]),100)]"
     ],
     "language": "python",
     "metadata": {},
     "outputs": [],
     "prompt_number": 121
    },
    {
     "cell_type": "code",
     "collapsed": false,
     "input": [
      "#sample_data.to_csv('sample.txt', sep='\\t', encoding='utf-8')"
     ],
     "language": "python",
     "metadata": {},
     "outputs": [],
     "prompt_number": 132
    },
    {
     "cell_type": "code",
     "collapsed": false,
     "input": [
      "#def func(name):\n",
      "    return data['news_body'].apply(lambda x : x.count(name)) + data['news_title'].apply(lambda x : x.count(name))\n",
      "    "
     ],
     "language": "python",
     "metadata": {},
     "outputs": [],
     "prompt_number": 43
    },
    {
     "cell_type": "code",
     "collapsed": false,
     "input": [
      "#? pd.concat"
     ],
     "language": "python",
     "metadata": {},
     "outputs": [],
     "prompt_number": 192
    },
    {
     "cell_type": "code",
     "collapsed": false,
     "input": [
      "#list1 = func(u'\u5de5\u884c')\n",
      "#list2 = func(u'\u5de5\u5546\u94f6\u884c')\n",
      "#list3 = func(u'\u4e07\u5411\u519c\u4e1a')\n",
      "\n",
      "#allList = list1+list2"
     ],
     "language": "python",
     "metadata": {},
     "outputs": [],
     "prompt_number": 93
    },
    {
     "cell_type": "code",
     "collapsed": false,
     "input": [
      "#ll1 = list1[allList != 0]\n",
      "#ll2 = list2[allList != 0]\n",
      "#ll3 = list3[allList != 0]"
     ],
     "language": "python",
     "metadata": {},
     "outputs": [],
     "prompt_number": 94
    },
    {
     "cell_type": "code",
     "collapsed": false,
     "input": [
      "#ll1.plot()"
     ],
     "language": "python",
     "metadata": {},
     "outputs": [],
     "prompt_number": 95
    },
    {
     "cell_type": "code",
     "collapsed": false,
     "input": [
      "#ll2.plot()"
     ],
     "language": "python",
     "metadata": {},
     "outputs": [],
     "prompt_number": 96
    },
    {
     "cell_type": "code",
     "collapsed": false,
     "input": [
      "#ll3.plot()"
     ],
     "language": "python",
     "metadata": {},
     "outputs": [],
     "prompt_number": 97
    },
    {
     "cell_type": "code",
     "collapsed": false,
     "input": [
      "#ll = pd.concat([ll1,ll2],axis=1)"
     ],
     "language": "python",
     "metadata": {},
     "outputs": [],
     "prompt_number": 86
    },
    {
     "cell_type": "code",
     "collapsed": false,
     "input": [
      "#type(ll[0])"
     ],
     "language": "python",
     "metadata": {},
     "outputs": [],
     "prompt_number": 101
    },
    {
     "cell_type": "code",
     "collapsed": false,
     "input": [
      "#sum(ll[1]>0)"
     ],
     "language": "python",
     "metadata": {},
     "outputs": [],
     "prompt_number": 99
    },
    {
     "cell_type": "code",
     "collapsed": false,
     "input": [
      "#sum(ll[0]>0)"
     ],
     "language": "python",
     "metadata": {},
     "outputs": [],
     "prompt_number": 100
    },
    {
     "cell_type": "code",
     "collapsed": false,
     "input": [
      "#sum((ll[0]>0) & (ll[1]==0))/(len(ll[0])+0.0)"
     ],
     "language": "python",
     "metadata": {},
     "outputs": [],
     "prompt_number": 98
    },
    {
     "cell_type": "code",
     "collapsed": false,
     "input": [
      "#ll.plot()"
     ],
     "language": "python",
     "metadata": {},
     "outputs": [
      {
       "metadata": {},
       "output_type": "pyout",
       "prompt_number": 93,
       "text": [
        "<matplotlib.axes.AxesSubplot at 0x5a9bc10>"
       ]
      },
      {
       "metadata": {},
       "output_type": "display_data",
       "png": "[encoded data removed]",
       "text": [
        "<matplotlib.figure.Figure at 0x5b71a50>"
       ]
      }
     ],
     "prompt_number": 93
    },
    {
     "cell_type": "code",
     "collapsed": false,
     "input": [
      "#nameAppear = pd.concat([companyNames,tmp],axis=1)"
     ],
     "language": "python",
     "metadata": {},
     "outputs": [],
     "prompt_number": 80
    },
    {
     "cell_type": "code",
     "collapsed": false,
     "input": [
      "def locate_company_names(content):\n",
      "    tickerlist = []\n",
      "    if content == None:\n",
      "        return 'hahahah'\n",
      "    for ind in range(companyInfo.shape[0]):\n",
      "#         if content.find(companyInfo.ix[ind].REGISTER_FULL_NAME) >= 0:\n",
      "#             tickerlist.append(companyInfo.ix[ind].TICKER_SYMBOL)\n",
      "        if content.find(companyInfo.ix[ind].SECURITY_NAME_ABBR) >= 0:\n",
      "            tickerlist.append(companyInfo.ix[ind].TICKER_SYMBOL)\n",
      "#         if not isinstance(companyInfo.ix[ind].shortName, float):\n",
      "#             if content.find(companyInfo.ix[ind].shortName) >= 0:\n",
      "#                 tickerlist.append(companyInfo.ix[ind].TICKER_SYMBOL)\n",
      "    return tickerlist"
     ],
     "language": "python",
     "metadata": {},
     "outputs": [],
     "prompt_number": 227
    },
    {
     "cell_type": "code",
     "collapsed": false,
     "input": [
      "news.head()"
     ],
     "language": "python",
     "metadata": {},
     "outputs": [
      {
       "html": [
        "<div style=\"max-height:1000px;max-width:1500px;overflow:auto;\">\n",
        "<table border=\"1\" class=\"dataframe\">\n",
        "  <thead>\n",
        "    <tr style=\"text-align: right;\">\n",
        "      <th></th>\n",
        "      <th>Id</th>\n",
        "      <th>ThemeId</th>\n",
        "      <th>UpdateTime</th>\n",
        "      <th>Information</th>\n",
        "      <th>rel_ticker</th>\n",
        "    </tr>\n",
        "  </thead>\n",
        "  <tbody>\n",
        "    <tr>\n",
        "      <th>0</th>\n",
        "      <td> 1</td>\n",
        "      <td> 34</td>\n",
        "      <td> 2014-03-17 15:21:29</td>\n",
        "      <td>        \u6797\u4e1a\u76f8\u5173\uff0c\u79fb\u9664</td>\n",
        "      <td> []</td>\n",
        "    </tr>\n",
        "    <tr>\n",
        "      <th>1</th>\n",
        "      <td> 2</td>\n",
        "      <td> 30</td>\n",
        "      <td> 2014-03-17 15:22:38</td>\n",
        "      <td>       \u5173\u6ce8\u4e1a\u7ee9\uff0c\u5148\u79fb\u9664</td>\n",
        "      <td> []</td>\n",
        "    </tr>\n",
        "    <tr>\n",
        "      <th>2</th>\n",
        "      <td> 3</td>\n",
        "      <td> 29</td>\n",
        "      <td> 2014-03-17 15:22:41</td>\n",
        "      <td>       \u5173\u6ce8\u4e1a\u7ee9\uff0c\u5148\u79fb\u9664</td>\n",
        "      <td> []</td>\n",
        "    </tr>\n",
        "    <tr>\n",
        "      <th>3</th>\n",
        "      <td> 4</td>\n",
        "      <td> 27</td>\n",
        "      <td> 2014-03-17 15:22:46</td>\n",
        "      <td>       \u5173\u6ce8\u4e1a\u7ee9\uff0c\u5148\u79fb\u9664</td>\n",
        "      <td> []</td>\n",
        "    </tr>\n",
        "    <tr>\n",
        "      <th>4</th>\n",
        "      <td> 5</td>\n",
        "      <td> 26</td>\n",
        "      <td> 2014-03-17 15:23:19</td>\n",
        "      <td> \u53d7\u76ca\u80a1\u5206\u6563\u5728\u5176\u4ed6\u6982\u5ff5\u4e2d\uff0c\u79fb\u9664</td>\n",
        "      <td> []</td>\n",
        "    </tr>\n",
        "  </tbody>\n",
        "</table>\n",
        "<p>5 rows \u00d7 5 columns</p>\n",
        "</div>"
       ],
       "metadata": {},
       "output_type": "pyout",
       "prompt_number": 232,
       "text": [
        "   Id  ThemeId           UpdateTime     Information rel_ticker\n",
        "0   1       34  2014-03-17 15:21:29         \u6797\u4e1a\u76f8\u5173\uff0c\u79fb\u9664         []\n",
        "1   2       30  2014-03-17 15:22:38        \u5173\u6ce8\u4e1a\u7ee9\uff0c\u5148\u79fb\u9664         []\n",
        "2   3       29  2014-03-17 15:22:41        \u5173\u6ce8\u4e1a\u7ee9\uff0c\u5148\u79fb\u9664         []\n",
        "3   4       27  2014-03-17 15:22:46        \u5173\u6ce8\u4e1a\u7ee9\uff0c\u5148\u79fb\u9664         []\n",
        "4   5       26  2014-03-17 15:23:19  \u53d7\u76ca\u80a1\u5206\u6563\u5728\u5176\u4ed6\u6982\u5ff5\u4e2d\uff0c\u79fb\u9664         []\n",
        "\n",
        "[5 rows x 5 columns]"
       ]
      }
     ],
     "prompt_number": 232
    },
    {
     "cell_type": "code",
     "collapsed": false,
     "input": [
      "news[['Id', 'rel_ticker']].to_csv('/home/jiminzhou/data/007/IDstockList.csv', encoding= 'utf-8')"
     ],
     "language": "python",
     "metadata": {},
     "outputs": [],
     "prompt_number": 237
    },
    {
     "cell_type": "code",
     "collapsed": false,
     "input": [
      "news = pd.read_csv('/home/jiminzhou/data/007/\u8f6c\u6362\u6570\u636e.csv')"
     ],
     "language": "python",
     "metadata": {},
     "outputs": [],
     "prompt_number": 159
    },
    {
     "cell_type": "code",
     "collapsed": false,
     "input": [
      "def toutf(x):\n",
      "    if  isinstance(x, str):\n",
      "        return x.decode('utf-8')\n",
      "    else:\n",
      "        0"
     ],
     "language": "python",
     "metadata": {},
     "outputs": [],
     "prompt_number": 191
    },
    {
     "cell_type": "code",
     "collapsed": false,
     "input": [
      "news['Information'] = news['Information'].apply(toutf)"
     ],
     "language": "python",
     "metadata": {},
     "outputs": [],
     "prompt_number": 163
    },
    {
     "cell_type": "code",
     "collapsed": false,
     "input": [
      "not isinstance(companyInfo.ix[0].shortName, float)"
     ],
     "language": "python",
     "metadata": {},
     "outputs": [
      {
       "metadata": {},
       "output_type": "pyout",
       "prompt_number": 192,
       "text": [
        "True"
       ]
      }
     ],
     "prompt_number": 192
    },
    {
     "cell_type": "code",
     "collapsed": false,
     "input": [
      "news['rel_ticker'] = news.Information.apply(locate_company_names)"
     ],
     "language": "python",
     "metadata": {},
     "outputs": [],
     "prompt_number": 228
    },
    {
     "cell_type": "code",
     "collapsed": false,
     "input": [
      "news.to_csv('/home/jiminzhou/data/007/stockList.csv', encoding= 'utf-8')"
     ],
     "language": "python",
     "metadata": {},
     "outputs": [],
     "prompt_number": 230
    },
    {
     "cell_type": "code",
     "collapsed": false,
     "input": [
      "data['news_company_content'] = data['news_body'].apply(lambda x: locate_company_names(x))"
     ],
     "language": "python",
     "metadata": {},
     "outputs": [],
     "prompt_number": 93
    },
    {
     "cell_type": "code",
     "collapsed": false,
     "input": [
      "data['news_company_title'] = data['news_title'].apply(lambda x: locate_company_names(x))"
     ],
     "language": "python",
     "metadata": {},
     "outputs": [],
     "prompt_number": 95
    },
    {
     "cell_type": "code",
     "collapsed": false,
     "input": [
      "data['news_company'] = data['news_company_content'] + data['news_company_title']"
     ],
     "language": "python",
     "metadata": {},
     "outputs": [],
     "prompt_number": 97
    }
   ],
   "metadata": {}
  }
 ]
}