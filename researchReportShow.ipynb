{
 "metadata": {
  "name": "",
  "signature": "sha256:3523e476e5e616e0abee118039634099f4c4d26d889e83c7f58f0f4d8c68b6cb"
 },
 "nbformat": 3,
 "nbformat_minor": 0,
 "worksheets": [
  {
   "cells": [
    {
     "cell_type": "code",
     "collapsed": false,
     "input": [
      "import pandas as pd\n",
      "import re\n",
      "import regex\n",
      "import json\n",
      "import mysql.connector\n",
      "import pandas.io.sql as psql\n",
      "import urllib\n",
      "import boto\n",
      "import boto.s3.connection\n",
      "import pickle"
     ],
     "language": "python",
     "metadata": {},
     "outputs": [],
     "prompt_number": 1
    },
    {
     "cell_type": "code",
     "collapsed": false,
     "input": [
      "db = mysql.connector.connect(host='10.20.111.101', db='caldb', user='app_researchrep', passwd='dG8pqlk5VKOMvDH')\n",
      "table_name = 'c_rr_jyresearchreport'"
     ],
     "language": "python",
     "metadata": {},
     "outputs": [],
     "prompt_number": 2
    },
    {
     "cell_type": "code",
     "collapsed": false,
     "input": [
      "file_db = boto.connect_s3(aws_access_key_id='DRBSPSGTHS8DCJOLAO-B', aws_secret_access_key='oyRmmJhIJK42mvJ2XpTUd6G8VKhJPSJjp4x1Kw==',\n",
      "                          host='10.21.136.81', port=8080,is_secure=False, calling_format=boto.s3.connection.OrdinaryCallingFormat())\n",
      "file_bucket=file_db.get_bucket('jyresearchreport')\n",
      "def get_s3_content(key):\n",
      "    return file_bucket.get_key(key).get_contents_as_string()\n",
      "\n",
      "data = psql.read_sql('select * from %s where ReportCategory=6;' % table_name, db, index_col='id')\n",
      "Body = [get_s3_content(url) if url else None for url in data.Body_s3_url]\n",
      "data['Body'] = Body"
     ],
     "language": "python",
     "metadata": {},
     "outputs": [],
     "prompt_number": 3
    },
    {
     "cell_type": "code",
     "collapsed": false,
     "input": [
      "has_chinese =  lambda x : regex.search('\\p{Script=Hani}',x) is not None"
     ],
     "language": "python",
     "metadata": {},
     "outputs": [],
     "prompt_number": 48
    },
    {
     "cell_type": "code",
     "collapsed": false,
     "input": [
      "data['has_chinese'] = data.Conclusion.apply(lambda x: x is not None and has_chinese(x)) & data.Body.apply(lambda x: x is not None and has_chinese(x))"
     ],
     "language": "python",
     "metadata": {},
     "outputs": [],
     "prompt_number": 49
    },
    {
     "cell_type": "code",
     "collapsed": false,
     "input": [
      "def mysplit(pattern, text):\n",
      "    res = regex.split(pattern, text)\n",
      "    res = list(filter(lambda x: len(x)>0, res))\n",
      "    return res\n",
      "\n",
      "def normalize_whitespace(x):\n",
      "    x = x.strip()\n",
      "    return re.sub('\\s{2,}', ' ',x)\n",
      "\n",
      "# <codecell>\n",
      "\n",
      "def paragraphs(text):\n",
      "    paragraphs = mysplit('\\r\\n|\\n',text)# not capturing newlines\n",
      "    paragraphs = list(map(normalize_whitespace, paragraphs))\n",
      "    paragraphs = list(filter(lambda x: len(x) >0 , paragraphs))\n",
      "    return paragraphs\n",
      "\n",
      "# <codecell>\n",
      "\n",
      "def clean_text(txt):\n",
      "    if txt != None:\n",
      "        return '\\n'.join(paragraphs(txt))\n",
      "    else:\n",
      "        return txt\n"
     ],
     "language": "python",
     "metadata": {},
     "outputs": [],
     "prompt_number": 124
    },
    {
     "cell_type": "code",
     "collapsed": false,
     "input": [
      "data.Conclusion.apply(lambda x: x.encode('utf-8','ignore'))"
     ],
     "language": "python",
     "metadata": {},
     "outputs": [
      {
       "ename": "UnicodeDecodeError",
       "evalue": "'ascii' codec can't decode byte 0xe6 in position 0: ordinal not in range(128)",
       "output_type": "pyerr",
       "traceback": [
        "\u001b[1;31m---------------------------------------------------------------------------\u001b[0m\n\u001b[1;31mUnicodeDecodeError\u001b[0m                        Traceback (most recent call last)",
        "\u001b[1;32m<ipython-input-123-61867a0acc4b>\u001b[0m in \u001b[0;36m<module>\u001b[1;34m()\u001b[0m\n\u001b[1;32m----> 1\u001b[1;33m \u001b[0mdata\u001b[0m\u001b[1;33m.\u001b[0m\u001b[0mConclusion\u001b[0m\u001b[1;33m.\u001b[0m\u001b[0mapply\u001b[0m\u001b[1;33m(\u001b[0m\u001b[1;32mlambda\u001b[0m \u001b[0mx\u001b[0m\u001b[1;33m:\u001b[0m \u001b[0mx\u001b[0m\u001b[1;33m.\u001b[0m\u001b[0mencode\u001b[0m\u001b[1;33m(\u001b[0m\u001b[1;34m'utf-8'\u001b[0m\u001b[1;33m,\u001b[0m\u001b[1;34m'ignore'\u001b[0m\u001b[1;33m)\u001b[0m\u001b[1;33m)\u001b[0m\u001b[1;33m\u001b[0m\u001b[0m\n\u001b[0m",
        "\u001b[1;32m/home/jiminzhou/env1/local/lib/python2.7/site-packages/pandas/core/series.pyc\u001b[0m in \u001b[0;36mapply\u001b[1;34m(self, func, convert_dtype, args, **kwds)\u001b[0m\n\u001b[0;32m   2021\u001b[0m             \u001b[0mvalues\u001b[0m \u001b[1;33m=\u001b[0m \u001b[0mlib\u001b[0m\u001b[1;33m.\u001b[0m\u001b[0mmap_infer\u001b[0m\u001b[1;33m(\u001b[0m\u001b[0mvalues\u001b[0m\u001b[1;33m,\u001b[0m \u001b[0mlib\u001b[0m\u001b[1;33m.\u001b[0m\u001b[0mTimestamp\u001b[0m\u001b[1;33m)\u001b[0m\u001b[1;33m\u001b[0m\u001b[0m\n\u001b[0;32m   2022\u001b[0m \u001b[1;33m\u001b[0m\u001b[0m\n\u001b[1;32m-> 2023\u001b[1;33m         \u001b[0mmapped\u001b[0m \u001b[1;33m=\u001b[0m \u001b[0mlib\u001b[0m\u001b[1;33m.\u001b[0m\u001b[0mmap_infer\u001b[0m\u001b[1;33m(\u001b[0m\u001b[0mvalues\u001b[0m\u001b[1;33m,\u001b[0m \u001b[0mf\u001b[0m\u001b[1;33m,\u001b[0m \u001b[0mconvert\u001b[0m\u001b[1;33m=\u001b[0m\u001b[0mconvert_dtype\u001b[0m\u001b[1;33m)\u001b[0m\u001b[1;33m\u001b[0m\u001b[0m\n\u001b[0m\u001b[0;32m   2024\u001b[0m         \u001b[1;32mif\u001b[0m \u001b[0mlen\u001b[0m\u001b[1;33m(\u001b[0m\u001b[0mmapped\u001b[0m\u001b[1;33m)\u001b[0m \u001b[1;32mand\u001b[0m \u001b[0misinstance\u001b[0m\u001b[1;33m(\u001b[0m\u001b[0mmapped\u001b[0m\u001b[1;33m[\u001b[0m\u001b[1;36m0\u001b[0m\u001b[1;33m]\u001b[0m\u001b[1;33m,\u001b[0m \u001b[0mSeries\u001b[0m\u001b[1;33m)\u001b[0m\u001b[1;33m:\u001b[0m\u001b[1;33m\u001b[0m\u001b[0m\n\u001b[0;32m   2025\u001b[0m             \u001b[1;32mfrom\u001b[0m \u001b[0mpandas\u001b[0m\u001b[1;33m.\u001b[0m\u001b[0mcore\u001b[0m\u001b[1;33m.\u001b[0m\u001b[0mframe\u001b[0m \u001b[1;32mimport\u001b[0m \u001b[0mDataFrame\u001b[0m\u001b[1;33m\u001b[0m\u001b[0m\n",
        "\u001b[1;32m/home/jiminzhou/env1/local/lib/python2.7/site-packages/pandas/lib.so\u001b[0m in \u001b[0;36mpandas.lib.map_infer (pandas/lib.c:43334)\u001b[1;34m()\u001b[0m\n",
        "\u001b[1;32m<ipython-input-123-61867a0acc4b>\u001b[0m in \u001b[0;36m<lambda>\u001b[1;34m(x)\u001b[0m\n\u001b[1;32m----> 1\u001b[1;33m \u001b[0mdata\u001b[0m\u001b[1;33m.\u001b[0m\u001b[0mConclusion\u001b[0m\u001b[1;33m.\u001b[0m\u001b[0mapply\u001b[0m\u001b[1;33m(\u001b[0m\u001b[1;32mlambda\u001b[0m \u001b[0mx\u001b[0m\u001b[1;33m:\u001b[0m \u001b[0mx\u001b[0m\u001b[1;33m.\u001b[0m\u001b[0mencode\u001b[0m\u001b[1;33m(\u001b[0m\u001b[1;34m'utf-8'\u001b[0m\u001b[1;33m,\u001b[0m\u001b[1;34m'ignore'\u001b[0m\u001b[1;33m)\u001b[0m\u001b[1;33m)\u001b[0m\u001b[1;33m\u001b[0m\u001b[0m\n\u001b[0m",
        "\u001b[1;31mUnicodeDecodeError\u001b[0m: 'ascii' codec can't decode byte 0xe6 in position 0: ordinal not in range(128)"
       ]
      }
     ],
     "prompt_number": 123
    },
    {
     "cell_type": "code",
     "collapsed": false,
     "input": [
      "data.Conclusion = data.Conclusion.apply(clean_text)"
     ],
     "language": "python",
     "metadata": {},
     "outputs": [],
     "prompt_number": 125
    },
    {
     "cell_type": "code",
     "collapsed": false,
     "input": [
      "data['Body'] = data.Body.apply(clean_text)"
     ],
     "language": "python",
     "metadata": {},
     "outputs": [],
     "prompt_number": 126
    },
    {
     "cell_type": "code",
     "collapsed": false,
     "input": [
      "f = 'data/data.pickle'\n",
      "data.to_pickle(f)"
     ],
     "language": "python",
     "metadata": {},
     "outputs": [],
     "prompt_number": 128
    },
    {
     "cell_type": "code",
     "collapsed": false,
     "input": [
      "data1 = pd.read_pickle(f)"
     ],
     "language": "python",
     "metadata": {},
     "outputs": [],
     "prompt_number": 130
    },
    {
     "cell_type": "code",
     "collapsed": false,
     "input": [
      "data1.iloc[3]"
     ],
     "language": "python",
     "metadata": {},
     "outputs": [
      {
       "metadata": {},
       "output_type": "pyout",
       "prompt_number": 156,
       "text": [
        "InfoPublDate                                       2013-11-18 00:00:00\n",
        "Colume                                                            3050\n",
        "OrgName                                                           \u5174\u4e1a\u8bc1\u5238\n",
        "Title                               \u4f17\u751f\u836f\u4e1a(002317)\u8c03\u7814\u62a5\u544a\uff1a\u57fa\u836f\u4ee3\u7406\u653e\u91cf\u53ef\u671f \u4e09\u4e03\u8dcc\u4ef7\u8d21\u732e\u5f39\u6027\n",
        "FileType                                                             1\n",
        "Keyword                                                           None\n",
        "ObjectCode                                                        1000\n",
        "AreaCode                                                           142\n",
        "MarketCode                                                        1004\n",
        "ReportCategory                                                       6\n",
        "ReportMining                                                        19\n",
        "Writer                                                           41194\n",
        "Author                                                          \u5f90\u4f73\u71b9/\u9879\u519b\n",
        "RankOrg                                                           None\n",
        "RankJY                                                            None\n",
        "WritingDate                                        2013-11-17 00:00:00\n",
        "ValidDate                                                         None\n",
        "InfoLevel                                                            1\n",
        "InnerCode                                                         None\n",
        "Industry                                                          None\n",
        "IndustrySW                                                        None\n",
        "InstiIndustry                                                     None\n",
        "Conclusion           \u6295\u8d44\u8981\u70b9\\n\u8fd1\u65e5,\u6211\u4eec\u8c03\u7814\u4e86\u4f17\u751f\u836f\u4e1a,\u4e0e\u516c\u53f8\u7ba1\u7406\u5c42\u5c31\u884c\u4e1a\u53d1\u5c55,\u516c\u53f8\u8fd0\u8425\u7b49\u8fdb\u884c\\n\u4e86\u4ea4\u6d41:\\n...\n",
        "InvestAdvice                                                      None\n",
        "InvestStatement                                                     \u589e\u6301\n",
        "InvestLevel                                                       None\n",
        "ReportScore                                                       None\n",
        "ReadingTimes                                                      None\n",
        "RightsLevel                                                          0\n",
        "XGRQ                                               2013-11-18 08:04:03\n",
        "Article_s3_url                                article/438074875206.pdf\n",
        "Body_s3_url                                      body/438074875206.txt\n",
        "Parsed_flag                                                          1\n",
        "First_appear_time                                  2014-03-05 11:27:18\n",
        "DY_updateTime                                      2014-04-14 14:53:58\n",
        "Body                 \u516c\u53f8\u8c03\u7814\u62a5\u544a\u6536\u76d8\u4ef7\uff08\u5143\uff0921.74\u603b\u80a1\u672c\uff08\u767e\u4e07\u80a1\uff09360.00\u6d41\u901a\u80a1\u672c\uff08\u767e\u4e07\u80a1\uff09220.12...\n",
        "has_chinese                                                      False\n",
        "Name: 438074875206, dtype: object"
       ]
      }
     ],
     "prompt_number": 156
    }
   ],
   "metadata": {}
  }
 ]
}