{
 "metadata": {
  "name": "",
  "signature": "sha256:a0ac78988af6fe63f2d9595c40664544fc36fda16c313428fbab70ea10edbbf2"
 },
 "nbformat": 3,
 "nbformat_minor": 0,
 "worksheets": [
  {
   "cells": [
    {
     "cell_type": "code",
     "collapsed": false,
     "input": [
      "import logging\n",
      "from logging.config import fileConfig\n",
      "from datetime import *\n",
      "import traceback\n",
      "import ConfigParser\n",
      "import io\n",
      "import pickle\n",
      "import sys\n",
      "import pymongo\n",
      "import mysql.connector\n",
      "import pandas.io.sql as psql\n",
      "from scipy.sparse import *\n",
      "from sklearn.feature_extraction.text import CountVectorizer\n",
      "from math import *\n",
      "from numpy import *\n",
      "from sklearn.cluster import AffinityPropagation"
     ],
     "language": "python",
     "metadata": {},
     "outputs": [],
     "prompt_number": 528
    },
    {
     "cell_type": "code",
     "collapsed": false,
     "input": [
      "class News:\n",
      "    def __init__(self,newsId, newsTitle, newsContent, publishTime, storyID=-1):\n",
      "        \"\"\"\n",
      "\n",
      "        :type self: object\n",
      "        \"\"\"\n",
      "        self.newsID = newsId\n",
      "        self.newsTitle = newsTitle\n",
      "        self.newsContent = newsContent\n",
      "        self.publishTime = publishTime\n",
      "        self.storyID = -1\n",
      "        self.isMain = False\n",
      "        self.storyID = storyID"
     ],
     "language": "python",
     "metadata": {},
     "outputs": [],
     "prompt_number": 529
    },
    {
     "cell_type": "code",
     "collapsed": false,
     "input": [
      "mysql_url = \"db-news01-dev.datayes.com\"\n",
      "mysql_user = \"news_app\"\n",
      "mysql_password = \"lKTOAIyoewzvCyc\"\n",
      "news_db = mysql.connector.connect(host=mysql_url, db='news', user=mysql_user,\n",
      "                          passwd=mysql_password)"
     ],
     "language": "python",
     "metadata": {},
     "outputs": [],
     "prompt_number": 530
    },
    {
     "cell_type": "code",
     "collapsed": false,
     "input": [
      "def getNewsByPiriod(mysql_db,st_publish_time, ed_publish_time):\n",
      "    selectSql = \"\"\"select news_id, news_title, news_body, news_publish_time\n",
      "        from news_detail_backup\n",
      "        where group_id != -1\n",
      "        and isActive = 1\n",
      "        and news_tag = 0\n",
      "        and source_type in ('news_pgenius','news_nutch','news_spider')\n",
      "        and news_publish_time > '%s'\n",
      "        and news_publish_time < '%s'\"\"\"%(st_publish_time,ed_publish_time)\n",
      "    cursor = mysql_db.cursor()\n",
      "    cursor.execute(selectSql)\n",
      "    news = []\n",
      "    for nn in cursor:\n",
      "        #News(nn[0], nn[1], nn[2], nn[3])\n",
      "        nws = News(nn[0], nn[1], nn[2], nn[3])\n",
      "        news.append(nws)\n",
      "    return news"
     ],
     "language": "python",
     "metadata": {},
     "outputs": [],
     "prompt_number": 531
    },
    {
     "cell_type": "code",
     "collapsed": false,
     "input": [
      "news = getNewsByPiriod(news_db, datetime(2014,5,1), datetime(2014,5,8)+timedelta(1))"
     ],
     "language": "python",
     "metadata": {},
     "outputs": [],
     "prompt_number": 532
    },
    {
     "cell_type": "code",
     "collapsed": false,
     "input": [
      "import jieba\n",
      "import re\n",
      "def my_tokenizer(s):\n",
      "    regExp = u\"[^(\\u4e00-\\u9fa50-9)]\"\n",
      "    s = re.sub(regExp, ' ', s)\n",
      "    ll = jieba.cut(s)\n",
      "    return ' '.join(ll).split()"
     ],
     "language": "python",
     "metadata": {},
     "outputs": [],
     "prompt_number": 533
    },
    {
     "cell_type": "code",
     "collapsed": false,
     "input": [
      "cv = CountVectorizer(analyzer=my_tokenizer)"
     ],
     "language": "python",
     "metadata": {},
     "outputs": [],
     "prompt_number": 534
    },
    {
     "cell_type": "code",
     "collapsed": false,
     "input": [
      "news_contents = [nn.newsContent for nn in news]"
     ],
     "language": "python",
     "metadata": {},
     "outputs": [],
     "prompt_number": 535
    },
    {
     "cell_type": "code",
     "collapsed": false,
     "input": [
      "cntContentRes = cv.fit_transform(news_contents)"
     ],
     "language": "python",
     "metadata": {},
     "outputs": [],
     "prompt_number": 536
    },
    {
     "cell_type": "code",
     "collapsed": false,
     "input": [
      "cntContentRes = cntContentRes.astype(int)"
     ],
     "language": "python",
     "metadata": {},
     "outputs": [],
     "prompt_number": 537
    },
    {
     "cell_type": "code",
     "collapsed": false,
     "input": [
      "feature = cv.get_feature_names()\n",
      "rep = cntContentRes.sum(axis=0).A[0]\n",
      "ind = rep > 1\n",
      "feature = array(feature)[rep>1]"
     ],
     "language": "python",
     "metadata": {},
     "outputs": [],
     "prompt_number": 538
    },
    {
     "cell_type": "code",
     "collapsed": false,
     "input": [
      "cntContentRes = cntContentRes[:, ind]"
     ],
     "language": "python",
     "metadata": {},
     "outputs": [],
     "prompt_number": 540
    },
    {
     "cell_type": "code",
     "collapsed": false,
     "input": [
      "cntContentRes"
     ],
     "language": "python",
     "metadata": {},
     "outputs": [
      {
       "metadata": {},
       "output_type": "pyout",
       "prompt_number": 541,
       "text": [
        "<14274x106786 sparse matrix of type '<type 'numpy.int64'>'\n",
        "\twith 3449094 stored elements in Compressed Sparse Row format>"
       ]
      }
     ],
     "prompt_number": 541
    },
    {
     "cell_type": "code",
     "collapsed": false,
     "input": [
      "wordsDF = pickle.load(file('/root/PycharmProjects/newsContentCls/etc/contentWordsDf.ser'))"
     ],
     "language": "python",
     "metadata": {},
     "outputs": [],
     "prompt_number": 542
    },
    {
     "cell_type": "code",
     "collapsed": false,
     "input": [
      "len(wordsDF)"
     ],
     "language": "python",
     "metadata": {},
     "outputs": [
      {
       "metadata": {},
       "output_type": "pyout",
       "prompt_number": 17,
       "text": [
        "540069"
       ]
      }
     ],
     "prompt_number": 17
    },
    {
     "cell_type": "code",
     "collapsed": false,
     "input": [
      "wdDF_subset = []\n",
      "for wd in feature:\n",
      "    if wordsDF.has_key(wd):\n",
      "        wdDF_subset.append(wordsDF[wd])\n",
      "    else:\n",
      "        wdDF_subset.append(0)"
     ],
     "language": "python",
     "metadata": {},
     "outputs": [],
     "prompt_number": 543
    },
    {
     "cell_type": "code",
     "collapsed": false,
     "input": [
      "maxDF = max(wdDF_subset)"
     ],
     "language": "python",
     "metadata": {},
     "outputs": [],
     "prompt_number": 544
    },
    {
     "cell_type": "code",
     "collapsed": false,
     "input": [
      "wdIdf=[]\n",
      "for x in wdDF_subset:\n",
      "        if x > 0:\n",
      "            wdIdf.append(log((maxDF+0.0)/x))\n",
      "        else:\n",
      "            wdIdf.append(0)"
     ],
     "language": "python",
     "metadata": {},
     "outputs": [],
     "prompt_number": 545
    },
    {
     "cell_type": "code",
     "collapsed": false,
     "input": [
      "wdidfDia = lil_matrix((len(wdIdf),len(wdIdf)))"
     ],
     "language": "python",
     "metadata": {},
     "outputs": [],
     "prompt_number": 546
    },
    {
     "cell_type": "code",
     "collapsed": false,
     "input": [
      "shape(wdidfDia)"
     ],
     "language": "python",
     "metadata": {},
     "outputs": [
      {
       "metadata": {},
       "output_type": "pyout",
       "prompt_number": 547,
       "text": [
        "(106786, 106786)"
       ]
      }
     ],
     "prompt_number": 547
    },
    {
     "cell_type": "code",
     "collapsed": false,
     "input": [
      "wdidfDia.setdiag(wdIdf)\n",
      "cntContentRes = cntContentRes.tocsr()\n",
      "idfVector = cntContentRes*wdidfDia"
     ],
     "language": "python",
     "metadata": {},
     "outputs": [],
     "prompt_number": 548
    },
    {
     "cell_type": "code",
     "collapsed": false,
     "input": [
      "distMatJ = idfVector*idfVector.T\n",
      "dia = distMatJ.diagonal()\n",
      "dia = map(lambda x:1.0/math.sqrt(x) if x!=0 else 1, dia)\n",
      "bfDia = lil_matrix((len(dia),len(dia)))\n",
      "bfDia.setdiag(dia)\n",
      "cosineDist = bfDia*distMatJ*bfDia\n",
      "filterM = cosineDist > 0.3\n",
      "cosineDistSt = cosineDist.multiply(filterM)"
     ],
     "language": "python",
     "metadata": {},
     "outputs": [],
     "prompt_number": 549
    },
    {
     "cell_type": "code",
     "collapsed": false,
     "input": [
      "cosineDistSt"
     ],
     "language": "python",
     "metadata": {},
     "outputs": [
      {
       "metadata": {},
       "output_type": "pyout",
       "prompt_number": 550,
       "text": [
        "<14274x14274 sparse matrix of type '<type 'numpy.float64'>'\n",
        "\twith 208245 stored elements in Compressed Sparse Row format>"
       ]
      }
     ],
     "prompt_number": 550
    },
    {
     "cell_type": "code",
     "collapsed": false,
     "input": [
      "cosineDistSt.setdiag(zeros(cosineDistSt.shape[0]))"
     ],
     "language": "python",
     "metadata": {},
     "outputs": [
      {
       "output_type": "stream",
       "stream": "stderr",
       "text": [
        "/root/env1/local/lib/python2.7/site-packages/scipy/sparse/compressed.py:728: SparseEfficiencyWarning: Changing the sparsity structure of a csr_matrix is expensive. lil_matrix is more efficient.\n",
        "  SparseEfficiencyWarning)\n"
       ]
      }
     ]
    },
    {
     "cell_type": "code",
     "collapsed": false,
     "input": [
      "noZeroInd = zip(cosineDistSt.nonzero()[0],cosineDistSt.nonzero()[1])"
     ],
     "language": "python",
     "metadata": {},
     "outputs": []
    },
    {
     "cell_type": "code",
     "collapsed": false,
     "input": [
      "filteredNum = len(indexMap)"
     ],
     "language": "python",
     "metadata": {},
     "outputs": []
    },
    {
     "cell_type": "code",
     "collapsed": false,
     "input": [
      "from itertools import chain\n",
      "indexMap = sorted(list(set(chain.from_iterable(noZeroInd))))\n",
      "map2Index = dict(zip(indexMap,range(filteredNum)))"
     ],
     "language": "python",
     "metadata": {},
     "outputs": []
    },
    {
     "cell_type": "code",
     "collapsed": false,
     "input": [
      "unset = [-1]*filteredNum"
     ],
     "language": "python",
     "metadata": {},
     "outputs": [],
     "prompt_number": 380
    },
    {
     "cell_type": "code",
     "collapsed": false,
     "input": [
      "def find(x):\n",
      "    p = x\n",
      "    while (unset[p]>=0):\n",
      "        p=unset[p]\n",
      "    while (x!=p):\n",
      "        t = unset[x]\n",
      "        unset[x] = p\n",
      "        x = t\n",
      "    return x\n",
      "    "
     ],
     "language": "python",
     "metadata": {},
     "outputs": [],
     "prompt_number": 384
    },
    {
     "cell_type": "code",
     "collapsed": false,
     "input": [
      "def unionSet(x,y):\n",
      "    x = find(x)\n",
      "    y = find(y)\n",
      "    if (x == y):\n",
      "        return \n",
      "    if unset[x] < unset[y]:\n",
      "        unset[x] = unset[x] + unset[y]\n",
      "        unset[y] = x\n",
      "    else:\n",
      "        unset[y] = unset[y] + unset[x];\n",
      "        unset[x] = y"
     ],
     "language": "python",
     "metadata": {},
     "outputs": [],
     "prompt_number": 385
    },
    {
     "cell_type": "code",
     "collapsed": false,
     "input": [
      "for elm in noZeroInd:\n",
      "    if elm[0] < elm[1]:\n",
      "        unionSet(map2Index[elm[0]], map2Index[elm[1]])"
     ],
     "language": "python",
     "metadata": {},
     "outputs": [],
     "prompt_number": 386
    },
    {
     "cell_type": "code",
     "collapsed": false,
     "input": [
      "nodeLocMap = {}\n",
      "for ind in range(filteredNum):\n",
      "    nodeLocMap[indexMap[ind]] = find(ind)"
     ],
     "language": "python",
     "metadata": {},
     "outputs": [],
     "prompt_number": 387
    },
    {
     "cell_type": "code",
     "collapsed": false,
     "input": [
      "#debug\n",
      "#rrrr = pd.Series(nodeLocMap)\n",
      "#aaa = rrrr.value_counts().value_counts().sort_index()"
     ],
     "language": "python",
     "metadata": {},
     "outputs": [],
     "prompt_number": 109
    },
    {
     "cell_type": "code",
     "collapsed": false,
     "input": [
      "from collections import defaultdict\n",
      "\n",
      "groupedDistMat = defaultdict(list)\n",
      "\n",
      "for key, value in sorted(nodeLocMap.iteritems()):\n",
      "    groupedDistMat[value].append(key)"
     ],
     "language": "python",
     "metadata": {},
     "outputs": [],
     "prompt_number": 388
    },
    {
     "cell_type": "code",
     "collapsed": false,
     "input": [
      "groupNum = len(groupedDistMat.values())"
     ],
     "language": "python",
     "metadata": {},
     "outputs": [],
     "prompt_number": 464
    },
    {
     "cell_type": "code",
     "collapsed": false,
     "input": [
      "import itertools\n",
      "from scipy.cluster.hierarchy import *"
     ],
     "language": "python",
     "metadata": {},
     "outputs": []
    },
    {
     "cell_type": "code",
     "collapsed": false,
     "input": [
      "#news_cls_res = {}\n",
      "news_titles = [nn.newsTitle for nn in news]\n",
      "newsInfoAll = pd.DataFrame({'Title':news_titles,'content':news_contents,'Catg':-1})"
     ],
     "language": "python",
     "metadata": {},
     "outputs": [],
     "prompt_number": 522
    },
    {
     "cell_type": "code",
     "collapsed": false,
     "input": [
      "def cluster(dataList,indx,tol):\n",
      "    distMat = cosineDist[dataList][:,dataList]\n",
      "    ind = list(itertools.combinations(range(len(dataList)),2))\n",
      "    distMat = 1.0- distMat.todense()\n",
      "    distMat[distMat<0]=0.0\n",
      "    distMatCon = [distMat[ii] for ii in ind]\n",
      "    linkJ = scipy.cluster.hierarchy.average(distMatCon)\n",
      "    clusterJ = fcluster(linkJ, 0.7, 'distance')\n",
      "    for ind in range(len(clusterJ)):\n",
      "       # news_cls_res[dataList[ind]]=clusterJ[ind]*tol+indx\n",
      "        newsInfoAll.Catg[dataList[ind]]=clusterJ[ind]*tol+indx"
     ],
     "language": "python",
     "metadata": {},
     "outputs": [],
     "prompt_number": 523
    },
    {
     "cell_type": "code",
     "collapsed": false,
     "input": [
      "for i in range(groupNum):\n",
      "    dataList = groupedDistMat.values()[i]\n",
      "    cluster(dataList,i,groupNum)"
     ],
     "language": "python",
     "metadata": {},
     "outputs": [],
     "prompt_number": 524
    },
    {
     "cell_type": "code",
     "collapsed": false,
     "input": [
      "newsInfoAll.ix[newsInfoAll.Catg!=-1].sort('Catg').to_csv('/root/data/classifyNewsContent.txt',encoding = 'utf-8',sep = '\\t',index = False)"
     ],
     "language": "python",
     "metadata": {},
     "outputs": [],
     "prompt_number": 527
    },
    {
     "cell_type": "code",
     "collapsed": false,
     "input": [
      "newsInfoAll.catg[0]=1"
     ],
     "language": "python",
     "metadata": {},
     "outputs": [],
     "prompt_number": 495
    },
    {
     "cell_type": "code",
     "collapsed": false,
     "input": [
      "print news_contents[dataList[144]]"
     ],
     "language": "python",
     "metadata": {},
     "outputs": [
      {
       "output_type": "stream",
       "stream": "stdout",
       "text": [
        "\u3000\u3000\u6c47\u901a\u7f515\u67081\u65e5\u8baf\u2014\u7f8e\u56fd\u4f9b\u5e94\u7ba1\u7406\u534f\u4f1a(ISM)\u5468\u56db(5\u67081\u65e5)\u516c\u5e03\u7684\u6570\u636e\u663e\u793a\uff0c4\u6708\u7f8e\u56fd\u5236\u9020\u4e1a\u6d3b\u52a8\u589e\u957f\u8fde\u7eed\u7b2c\u4e09\u4e2a\u6708\u52a0\u901f\uff0c\u4e3b\u8981\u662f\u53d7\u5230\u5c31\u4e1a\u589e\u52a0\u7684\u63d0\u632f\u3002\n",
        "\u3000\u3000\u6570\u636e\u663e\u793a\uff0c\u7f8e\u56fd4\u6708ISM\u5236\u9020\u4e1a\u91c7\u8d2d\u7ecf\u7406\u4eba\u6307\u6570(PMI)\u81ea3\u6708\u768453.7\u5347\u81f354.9\uff0c\u521b\u4e0b2013\u5e7412\u6708\u4ee5\u6765\u6700\u9ad8\u503c\uff0c\u9884\u671f\u4e3a54.3\u3002PMI\u9ad8\u4e8e50\u8868\u660e\u884c\u4e1a\u6d3b\u52a8\u6269\u5f20\u3002\n",
        "\u3000\u3000\u8be5\u6570\u5b57\u4ecd\u4f4e\u4e8e\u53bb\u5e7411\u6708\u521b\u4e0b\u76842011\u5e744\u6708\u4ee5\u6765\u6700\u9ad857\u3002\n",
        "\u3000\u30004\u6708\u5236\u9020\u4e1a\u5c31\u4e1a\u5206\u9879\u6307\u6570\u4ece3\u6708\u768451.1\u9aa4\u5347\u81f354.7\uff0c\u9884\u671f\u4e3a52.8\uff1b\u4ea7\u51fa\u5206\u9879\u6307\u6570\u7565\u6709\u4e0b\u6ed1\uff0c\u4ece3\u6708\u768455.9\u964d\u81f355.7\uff1b\u524d\u77bb\u6027\u6307\u6807\u65b0\u8ba2\u5355\u5206\u9879\u6307\u6570\u7ef4\u6301\u572855.1\u3002\n",
        "\u3000\u3000\u6b64\u5916\uff0c4\u6708\u7269\u4ef7\u652f\u4ed8\u5206\u9879\u6307\u6570\u81ea3\u670859.0\u4e0b\u964d\u81f356.5\uff0c\u9884\u671f\u4e3a59.1\uff1b\u5e93\u5b58\u5206\u9879\u6307\u6570\u4e3a\u81ea3\u6708\u768452.5\u5347\u81f353.0\u3002 \u3010\u5728\u7ebf\u7b54\u7591\u3011 \u3010\u5b9a\u5236\u670d\u52a1\u3011\n"
       ]
      }
     ],
     "prompt_number": 458
    },
    {
     "cell_type": "code",
     "collapsed": false,
     "input": [
      "print news_contents[dataList[145]]"
     ],
     "language": "python",
     "metadata": {},
     "outputs": [
      {
       "output_type": "stream",
       "stream": "stdout",
       "text": [
        "\u00a0\u00a0\u00a0\u00a0\u6c47\u901a\u7f515\u67081\u65e5\u8baf\u2015\u2015\u6570\u636e\u7f16\u5236\u673a\u6784Markit\u5468\u56db\uff085\u67081\u65e5\uff09\u516c\u5e03\u7684\u6570\u636e\u663e\u793a\uff0c\u7f8e\u56fd4\u6708\u5236\u9020\u4e1a\u6d3b\u52a8\u8fde\u7eed\u7b2c\u4e8c\u4e2a\u6708\u653e\u7f13\uff0c\u4e0d\u8fc7\u589e\u957f\u901f\u5ea6\u4f9d\u7136\u5f3a\u52b2\u3002\n",
        "\u00a0\u00a0\u00a0\u00a0\u7f8e\u56fd4\u6708Markit\u5236\u9020\u4e1aPMI\u7ec8\u503c\u4e3a55.4\uff0c\u4e0e\u521d\u503c\u4e00\u81f4\uff0c\u4e3a\u4eca\u5e741\u6708\u4ee5\u6765\u6700\u4f4e\u6c34\u5e73\uff0c3\u6708\u7ec8\u503c\u4e3a55.5\u3002PMI\u9ad8\u4e8e50\u8868\u660e\u884c\u4e1a\u6d3b\u52a8\u6269\u5f20\u3002\n",
        "\u00a0\u00a0\u00a0\u00a0\u5c3d\u7ba1\u8be5\u6307\u6570\u4f9d\u65e7\u4f4e\u4e8e2\u6708\u521b\u4e0b\u76842010\u5e745\u6708\u4ee5\u6765\u9ad8\u4f4d\uff0c\u4f46\u4ecd\u9ad8\u4e8e1\u6708\u768453.7\uff0c\u6697\u793a\u4e25\u5bd2\u6c14\u5019\u7684\u8d1f\u9762\u5f71\u54cd\u5f00\u59cb\u51cf\u9000\u3002\n",
        "\u00a0\u00a0\u00a0\u00a0Markit\u6570\u636e\u5e76\u663e\u793a\uff0c4\u6708\u5c31\u4e1a\u5206\u9879\u6307\u6570\u4ece3\u6708\u768453.9\u4e0b\u8dcc\u81f353.7\uff0c\u4e3a\u4e09\u4e2a\u6708\u6700\u4f4e\u6c34\u5e73\u3002\u4ea7\u51fa\u5206\u9879\u6307\u6570\u4ece57.5\u4e0a\u6da8\u523058.2\u3002\u65b0\u8ba2\u5355\u6307\u6570\u4ea6\u4e0a\u5347\u3002\n",
        "\u00a0\u00a0\u00a0\u00a0\u8be5\u673a\u6784\u9996\u5e2d\u7ecf\u6d4e\u5b66\u5bb6ChrisWilliamson\u79f0\uff1a\u201c\u5236\u9020\u4e1a\u4ea7\u51fa\u548c\u65b0\u8ba2\u5355\u7684\u4e0a\u5347\u8d8b\u52bf\u8868\u660e\uff0c\u5728\u4eca\u5e74\u7b2c\u4e00\u5b63\u5ea6\u56fd\u5185\u751f\u4ea7\u603b\u503c\uff08GDP\uff09\u4ec5\u5f55\u5f970.1%\u7684\u5e74\u5316\u5b63\u7387\u589e\u5e45\u4e4b\u540e\uff0c\u5e94\u8be5\u4f1a\u51fa\u73b0\u53cd\u5f39\u3002\u201d \u3010\u5728\u7ebf\u7b54\u7591\u3011 \u3010\u5b9a\u5236\u670d\u52a1\u3011\n"
       ]
      }
     ],
     "prompt_number": 459
    },
    {
     "cell_type": "code",
     "collapsed": false,
     "input": [
      "noZeroDict = {}\n",
      "for x,y in noZeroInd:\n",
      "    if x < y:\n",
      "        noZeroDict[(x,y)] = cosineDist[x,y]"
     ],
     "language": "python",
     "metadata": {},
     "outputs": [],
     "prompt_number": 249
    },
    {
     "cell_type": "code",
     "collapsed": false,
     "input": [
      "simNodes = [x for x in noZeroDict.items() if x[1]>0.4]"
     ],
     "language": "python",
     "metadata": {},
     "outputs": [],
     "prompt_number": 300
    },
    {
     "cell_type": "code",
     "collapsed": false,
     "input": [
      "len(news_contents)"
     ],
     "language": "python",
     "metadata": {},
     "outputs": [
      {
       "metadata": {},
       "output_type": "pyout",
       "prompt_number": 282,
       "text": [
        "1202"
       ]
      }
     ],
     "prompt_number": 282
    },
    {
     "cell_type": "code",
     "collapsed": false,
     "input": [
      "nodeDict = dict(simNodes)"
     ],
     "language": "python",
     "metadata": {},
     "outputs": [],
     "prompt_number": 310
    },
    {
     "cell_type": "code",
     "collapsed": false,
     "input": [
      "nodeDict = nodeDict.keys()"
     ],
     "language": "python",
     "metadata": {},
     "outputs": [],
     "prompt_number": 317
    },
    {
     "cell_type": "code",
     "collapsed": false,
     "input": [
      "from itertools import chain"
     ],
     "language": "python",
     "metadata": {},
     "outputs": [],
     "prompt_number": 325
    },
    {
     "cell_type": "code",
     "collapsed": false,
     "input": [
      "len(set(chain.from_iterable(nodeDict)))"
     ],
     "language": "python",
     "metadata": {},
     "outputs": [
      {
       "metadata": {},
       "output_type": "pyout",
       "prompt_number": 329,
       "text": [
        "448"
       ]
      }
     ],
     "prompt_number": 329
    },
    {
     "cell_type": "code",
     "collapsed": false,
     "input": [
      "map(lambda x : x[0],x[1] nodeDict.keys())"
     ],
     "language": "python",
     "metadata": {},
     "outputs": [
      {
       "ename": "SyntaxError",
       "evalue": "invalid syntax (<ipython-input-315-e3eab1cc421a>, line 1)",
       "output_type": "pyerr",
       "traceback": [
        "\u001b[1;36m  File \u001b[1;32m\"<ipython-input-315-e3eab1cc421a>\"\u001b[1;36m, line \u001b[1;32m1\u001b[0m\n\u001b[1;33m    map(lambda x : x[0],x[1] nodeDict.keys())\u001b[0m\n\u001b[1;37m                                    ^\u001b[0m\n\u001b[1;31mSyntaxError\u001b[0m\u001b[1;31m:\u001b[0m invalid syntax\n"
       ]
      }
     ],
     "prompt_number": 315
    },
    {
     "cell_type": "code",
     "collapsed": false,
     "input": [
      "len(simNodes)"
     ],
     "language": "python",
     "metadata": {},
     "outputs": [
      {
       "metadata": {},
       "output_type": "pyout",
       "prompt_number": 302,
       "text": [
        "622"
       ]
      }
     ],
     "prompt_number": 302
    },
    {
     "cell_type": "code",
     "collapsed": false,
     "input": [
      "len(noZeroDict)"
     ],
     "language": "python",
     "metadata": {},
     "outputs": [
      {
       "metadata": {},
       "output_type": "pyout",
       "prompt_number": 280,
       "text": [
        "718531"
       ]
      }
     ],
     "prompt_number": 280
    },
    {
     "cell_type": "code",
     "collapsed": false,
     "input": [
      "ttt = idfVector[529]"
     ],
     "language": "python",
     "metadata": {},
     "outputs": [],
     "prompt_number": 252
    },
    {
     "cell_type": "code",
     "collapsed": false,
     "input": [
      "ttt.nonzero()"
     ],
     "language": "python",
     "metadata": {},
     "outputs": [
      {
       "metadata": {},
       "output_type": "pyout",
       "prompt_number": 253,
       "text": [
        "(array([0, 0, 0, 0, 0, 0, 0, 0, 0, 0, 0, 0, 0, 0, 0, 0, 0, 0, 0, 0, 0, 0, 0,\n",
        "        0, 0, 0, 0, 0, 0, 0, 0, 0, 0, 0, 0, 0, 0, 0, 0, 0, 0, 0, 0, 0, 0, 0,\n",
        "        0, 0, 0, 0, 0, 0, 0, 0, 0, 0, 0, 0, 0, 0, 0, 0, 0, 0, 0, 0, 0, 0, 0,\n",
        "        0, 0, 0, 0, 0, 0, 0, 0, 0, 0], dtype=int32),\n",
        " array([14414,  7253, 13895, 19976,  1324,  1178, 24476, 12725, 18202,\n",
        "        11130,  3449, 12310, 18822,  7905,  4431,  1225,  5264, 24242,\n",
        "        14497, 12388,  2155, 19908,  7328,  5416,  1929,  9425, 13503,\n",
        "        14168,  8723,  3438, 22976, 24862, 12954, 22482, 17724,  3676,\n",
        "        13901,  7693, 11376, 19777,  3143,  3453,  3201,  2231, 24620,\n",
        "        21872,  5551, 18429, 11943,  2300,  4694,  7266,  5472,  6783,\n",
        "        23294, 25242, 11117, 13199,  8018, 18039,  3452, 22943, 14305,\n",
        "         9999, 23896, 14478, 12701, 13269,  6488,  6491, 10563, 22039,\n",
        "        22350,  2676, 15845, 16811, 19011, 12428,  7217], dtype=int32))"
       ]
      }
     ],
     "prompt_number": 253
    },
    {
     "cell_type": "code",
     "collapsed": false,
     "input": [
      "print feature[16811]"
     ],
     "language": "python",
     "metadata": {},
     "outputs": [
      {
       "output_type": "stream",
       "stream": "stdout",
       "text": [
        "\u6fb3\u5143\n"
       ]
      }
     ],
     "prompt_number": 272
    },
    {
     "cell_type": "code",
     "collapsed": false,
     "input": [
      "ttt.data"
     ],
     "language": "python",
     "metadata": {},
     "outputs": [
      {
       "metadata": {},
       "output_type": "pyout",
       "prompt_number": 218,
       "text": [
        "array([ 5.38089866])"
       ]
      }
     ],
     "prompt_number": 218
    },
    {
     "cell_type": "code",
     "collapsed": false,
     "input": [
      "print news_contents[1130]"
     ],
     "language": "python",
     "metadata": {},
     "outputs": [
      {
       "output_type": "stream",
       "stream": "stdout",
       "text": [
        "\u3000\u3000\u4e1c\u65b9\u7f51\u8bb0\u8005\u848b\u6cfd5\u67081\u65e5\u62a5\u9053\uff1a\u8bb0\u8005\u4ece\u4e0a\u6d77\u5e02\u8def\u653f\u5c40\u4e86\u89e3\u5230\uff0c\u4eca\u59290\u70b9\u81f317\u70b930\u5206\uff0c\u4e0a\u6d77\u5e02\u9ad8\u901f\u8def\u7f51\u603b\u6d41\u91cf\u4e3a93.85\u4e07\u8f86\u6b21\uff0c\u5176\u4e2d\u5c0f\u5ba2\u8f66\u6d41\u91cf\u4e3a83.71\u4e07\u8f86\u6b21\uff0c\u5feb\u901f\u8def\u7f51\u6d41\u91cf\u4e3a144.33\u4e07\u8f86\u6b21\u3002\u51fa\u884c\u9ad8\u5cf0\u51fa\u73b0\u5728\u4e0a\u534810\u70b9\uff0c13\u70b9\u5168\u5e02\u9053\u8def\u901a\u884c\u60c5\u51b5\u9010\u6e10\u6062\u590d\u5e38\u6001\u3002\n",
        "\u3000\u3000\u4eca\u5929\u65e9\u4e0a7\u65f6\uff0c\u51fa\u6caa\u7684\u8f66\u6d41\u5df2\u7ecf\u5f00\u59cb\u589e\u52a0\uff0cG1501\u4e0a\u6d77\u7ed5\u57ce\u9ad8\u901f\u5d07\u660e\u65b9\u5411\u9ad8\u4e1c\u5165\u53e3\u3001G40\u6caa\u9655\u9ad8\u901f\u5d07\u660e\u9648\u6d77\u516c\u8def\u51fa\u53e3\u3001G2\u4eac\u6caa\u9ad8\u901f\u6c5f\u82cf\u65b9\u5411\u6c5f\u6865\u5165\u53e3\u3001G60\u6caa\u6606\u9ad8\u901f\u6d59\u6c5f\u65b9\u5411\u77f3\u6e56\u8361\u533a\u57df\u3001S20\u5916\u73af\u9ad8\u901f\u5185\u5708\u540c\u6d4e\u8def\u7acb\u4ea4\u81f3\u5916\u73af\u96a7\u9053\u7b49\u8def\u6bb5\u6d41\u91cf\u76f8\u5bf9\u8f83\u5927\u3002\n",
        "\u3000\u30008\u70b9\u8fc7\u540e\uff0c\u51fa\u884c\u9ad8\u5cf0\u5f00\u59cb\u663e\u73b0\uff0c10\u70b9\u8fbe\u5230\u4e86\u9ad8\u5cf0\u3002\u57ce\u5e02\u5feb\u901f\u8def\u65b9\u9762\uff0c\u5ef6\u5b89\u9ad8\u67b6\u4e1c\u5411\u897f\u65b9\u5411\u5ef6\u897f\u7acb\u4ea4\u81f3\u8679\u6865\u67a2\u7ebd\uff0c\u5185\u73af\u5916\u5708\u5149\u65b0\u8def\u81f3\u6b66\u5b81\u8def\u3001\u6b66\u5937\u8def\u81f3\u65b0\u534e\u8def\uff0c\u5185\u73af\u5185\u5708\u745e\u91d1\u5357\u8def\u81f3\u6f15\u6eaa\u7acb\u4ea4\uff0c\u5357\u5317\u9ad8\u67b6\u5317\u5411\u897f\u65b9\u5411\u5171\u6c5f\u8def\u81f3\u6c76\u6c34\u8def\u3001\u6d1b\u5ddd\u8def\u81f3\u5ef6\u4e1c\u7acb\u4ea4\uff0c\u6caa\u95f5\u9ad8\u67b6\u5317\u5411\u897f\u65b9\u5411\u6842\u6797\u8def\u81f3\u8398\u5e84\uff0c\u4e2d\u73af\u8def\u5916\u5708\u771f\u5357\u8def\u81f3\u6b66\u5b81\u7acb\u4ea4\u3001\u6f15\u5b9d\u8def\u81f3\u8679\u6885\u7acb\u4ea4\uff0c\u4e2d\u73af\u8def\u5185\u5708\u56fd\u5b9a\u8def\u81f3\u7fd4\u6bb7\u8def\u96a7\u9053\u7b49\u591a\u4e2a\u8def\u6bb5\u62e5\u6324\u3002\n",
        "\u3000\u3000\u9ad8\u901f\u516c\u8def\u65b9\u9762\uff0cG1501\u4e0a\u6d77\u7ed5\u57ce\u9ad8\u901f\u5d07\u660e\u65b9\u5411\u9ad8\u4e1c\u5165\u53e3\u62e5\u58351\u516c\u91cc\u3001G40\u6caa\u9655\u9ad8\u901f\u6c5f\u82cf\u65b9\u5411\u957f\u6c5f\u96a7\u9053\u5185\u62e5\u58353\u516c\u91cc\u3001\u5d07\u660e\u9648\u6d77\u516c\u8def\u51fa\u53e3\u62e5\u58351\u516c\u91cc\u3001G50\u6caa\u6e1d\u9ad8\u901f\u5f80\u6c5f\u82cf\u65b9\u5411\u5916\u73af\u7acb\u4ea4\u81f3\u8679\u6865\u67a2\u7ebd\u6bb5\u62e5\u58351\u516c\u91cc\u3002G60\u6caa\u6606\u9ad8\u901f\u6d59\u6c5f\u65b9\u5411\uff0c\u7531\u4e8e\u5927\u84b8\u6e2f\u6865\u65bd\u5de5\uff0c\u4e00\u5ea6\u9020\u621010\u516c\u91cc\u5835\u585e\uff0c\u6210\u4e3a\u4eca\u5929\u6700\u5835\u7684\u9ad8\u901f\u516c\u8def\u3002\u5348\u540e13\u65f6\uff0c\u5168\u5e02\u9053\u8def\u901a\u884c\u60c5\u51b5\u9010\u6e10\u6062\u590d\u5e38\u6001\u3002\n",
        "\u3000\u3000\u6628\u5929\u7531\u4e8e\u90e8\u5206\u5e02\u6c11\u9519\u5cf0\u51fa\u884c\uff0c\u9ad8\u901f\u516c\u8def\u7f51\u6d41\u91cf\u4e5f\u521b\u65b0\u9ad8\u3002\u636e\u8def\u653f\u5c40\u8def\u7f51\u4e2d\u5fc3\u7edf\u8ba1\uff0c4\u670830\u65e50\u81f324\u70b9\uff0c\u4e0a\u6d77\u9ad8\u901f\u516c\u8def\u7f51\u603b\u6d41\u91cf\u4e3a107.67\u4e07\u8f86\u6b21\uff0c\u521b\u4e0b\u4e86\u5386\u53f2\u65b0\u9ad8\uff0c\u8f83\u53bb\u5e74\u540c\u671f\u589e\u52a033.52%\uff0c\u5176\u4e2d\u5c0f\u578b\u5ba2\u8f6676.39\u4e07\u8f86\u6b21\uff0c\u8f83\u53bb\u5e74\u540c\u671f\u589e\u52a0\u4e00\u534a\u4ee5\u4e0a\u3002\u57ce\u5e02\u5feb\u901f\u8def\u603b\u6d41\u91cf\u4e3a240.25\u4e07\u8f86\u6b21\uff0c\u8f83\u53bb\u5e74\u540c\u671f\u589e\u52a04.09%\u3002\n",
        "\u3000\u3000\u8def\u653f\u90e8\u95e8\u7279\u522b\u63d0\u9192\uff0c\u76ee\u524dG60\u6caa\u6606\u9ad8\u901f\u5927\u84b8\u6e2f\u6865\u8def\u6bb5\u5904\u4e8e\u9053\u8def\u65bd\u5de5\u671f\uff0c\u8f66\u9053\u53d8\u5c11\uff0c\u9053\u8def\u62e5\u5835\u6210\u4e3a\u5e38\u6001\u3002\u524d\u5f80\u6d59\u6c5f\u7684\u9a7e\u9a76\u5458\u53ef\u7531G60\u2014G15\u2014G1501\u2014S36\u2014G60\u7ed5\u884c\uff0c\u907f\u5f00\u65bd\u5de5\u8def\u6bb5\uff0c\u867d\u7136\u8def\u7a0b\u6709\u6240\u589e\u52a0\uff0c\u4f46\u662f\u9053\u8def\u7545\u901a\u3002\n"
       ]
      }
     ],
     "prompt_number": 298
    },
    {
     "cell_type": "code",
     "collapsed": false,
     "input": [
      "print news_contents[1143]"
     ],
     "language": "python",
     "metadata": {},
     "outputs": [
      {
       "output_type": "stream",
       "stream": "stdout",
       "text": [
        "\u3000\u3000\u65b0\u534e\u7f51\u5317\u4eac5\u67081\u65e5\u7535\uff08\u8bb0\u8005\u6797\u7ea2\u6885\uff09\u8bb0\u8005\u4ece\u4ea4\u901a\u8fd0\u8f93\u90e8\u8def\u7f51\u4e2d\u5fc3\u83b7\u6089\uff0c5\u67081\u65e5\uff0c\u5168\u56fd\u9ad8\u901f\u516c\u8def\u53ca\u56fd\u7701\u5e72\u7ebf\u516c\u8def\u8fd0\u884c\u57fa\u672c\u6b63\u5e38\uff0c\u4eac\u6caa\u7b49\u5927\u57ce\u5e02\u51fa\u57ce\u65b9\u5411\u8f66\u6d41\u91cf\u660e\u663e\u589e\u591a\uff0c\u672a\u53d1\u751f\u4e25\u91cd\u62e5\u5835\u4e8b\u4ef6\u548c\u91cd\u7279\u5927\u4ea4\u901a\u5b89\u5168\u4e8b\u6545\u3002\n",
        "\u3000\u3000\u6839\u636e\u8def\u7f51\u4e2d\u5fc3\u76d1\u6d4b\uff0c\u4ee5\u4e2d\u77ed\u9014\u65c5\u6e38\u4e3a\u4e3b\u7684\u81ea\u9a7e\u8f66\u51fa\u884c\u5927\u5e45\u6500\u5347\uff0c\u5927\u4e2d\u57ce\u5e02\u5468\u8fb9\u3001\u91cd\u70b9\u666f\u533a\u9053\u8def\u4ea4\u901a\u538b\u529b\u589e\u52a0\u660e\u663e\u3002\u4ece5\u67081\u65e57\u65f6\u8d77\uff0c\u5317\u4eac\u3001\u4e0a\u6d77\u3001\u5e7f\u5dde\u3001\u91cd\u5e86\u3001\u676d\u5dde\u3001\u6210\u90fd\u3001\u5357\u4eac\u7b49\u5927\u4e2d\u57ce\u5e02\u7684\u4e3b\u8981\u9ad8\u901f\u516c\u8def\u3001\u56fd\u7701\u5e72\u7ebf\u516c\u8def\u8f66\u6d41\u91cf\u660e\u663e\u589e\u591a\uff0c\u51fa\u57ce\u65b9\u5411\u9ad8\u5cf0\u65f6\u6bb5\u6301\u7eed\u65f6\u95f4\u8f83\u957f\u3002\u81f3\u5f53\u65e511\u65f6\uff0c\u5927\u90e8\u5206\u62e5\u5835\u8def\u6bb5\u901a\u884c\u6062\u590d\u6b63\u5e38\u3002\u4f46\u53d7\u65bd\u5de5\u3001\u4ea4\u901a\u4e8b\u6545\u548c\u964d\u96e8\u7b49\u5f71\u54cd\uff0c\u4eac\u627f\u9ad8\u901f\u5317\u4eac\u6bb5\u3001\u4eac\u85cf\u9ad8\u901f\u5317\u4eac\u6bb5\u3001\u4eac\u6e2f\u6fb3\u9ad8\u901f\u6f2f\u6cb3\u81f3\u9a7b\u9a6c\u5e97\u6bb5\u7b49\u5c40\u90e8\u8def\u6bb5\u62e5\u5835\u6301\u7eed\u81f315\u65f6\u5de6\u53f3\uff0c\u622a\u81f3\u5f53\u65e516\u65f6\u4eac\u85cf\u9ad8\u901f\u6cb3\u5317\u7701\u4eac\u5f20\u6bb5\u4ecd\u5728\u62e5\u5835\u4e2d\u3002\n",
        "\u3000\u3000\u5404\u5730\u4ea4\u901a\u8fd0\u8f93\u90e8\u95e8\u5728\u7ee7\u7eed\u5b9e\u65bd\u4ee5\u5f80\u514d\u8d39\u901a\u884c\u5404\u9879\u6709\u6548\u63aa\u65bd\u7684\u57fa\u7840\u4e0a\uff0c\u7ed3\u5408\u4eca\u5e74\u4e94\u4e00\u5c0f\u957f\u5047\u90ca\u533a\u77ed\u9014\u65c5\u6e38\u66b4\u589e\u7684\u7279\u70b9\uff0c\u91c7\u53d6\u4e86\u4e00\u7cfb\u5217\u6709\u9488\u5bf9\u6027\u7684\u63aa\u65bd\uff0c\u4fdd\u969c\u516c\u4f17\u51fa\u884c\u5b89\u5168\uff0c\u786e\u4fdd\u8def\u7f51\u8fd0\u884c\u5e73\u7a33\u6709\u5e8f\u3002\n"
       ]
      }
     ],
     "prompt_number": 299
    },
    {
     "cell_type": "code",
     "collapsed": false,
     "input": [
      "cosineDist[1033,466]"
     ],
     "language": "python",
     "metadata": {},
     "outputs": [
      {
       "metadata": {},
       "output_type": "pyout",
       "prompt_number": 174,
       "text": [
        "4.1347405085139832e-05"
       ]
      }
     ],
     "prompt_number": 174
    },
    {
     "cell_type": "code",
     "collapsed": false,
     "input": [
      "#simNodes"
     ],
     "language": "python",
     "metadata": {},
     "outputs": [],
     "prompt_number": 277
    },
    {
     "cell_type": "code",
     "collapsed": false,
     "input": [
      "len(noZeroVal)"
     ],
     "language": "python",
     "metadata": {},
     "outputs": [
      {
       "metadata": {},
       "output_type": "pyout",
       "prompt_number": 279,
       "text": [
        "79934"
       ]
      }
     ],
     "prompt_number": 279
    },
    {
     "cell_type": "code",
     "collapsed": false,
     "input": [
      "simNodes"
     ],
     "language": "python",
     "metadata": {},
     "outputs": [
      {
       "metadata": {},
       "output_type": "pyout",
       "prompt_number": 301,
       "text": [
        "[((1108, 1177), 0.55467391094855156),\n",
        " ((90, 92), 0.4328151087809613),\n",
        " ((236, 399), 0.64543398565411747),\n",
        " ((63, 183), 0.4160680614176861),\n",
        " ((1084, 1094), 0.82828099179423442),\n",
        " ((1158, 1164), 0.57045426352858686),\n",
        " ((364, 914), 0.56477538690162565),\n",
        " ((608, 973), 0.47341975929576963),\n",
        " ((151, 725), 0.48377263963618039),\n",
        " ((9, 183), 0.42240502302293892),\n",
        " ((381, 657), 0.58340764685791746),\n",
        " ((356, 575), 0.58867805452141853),\n",
        " ((307, 762), 0.74833427691838861),\n",
        " ((237, 311), 0.87206498053528425),\n",
        " ((69, 787), 0.49522928606614303),\n",
        " ((9, 632), 0.5869272843722787),\n",
        " ((29, 30), 0.67575307432115417),\n",
        " ((69, 185), 0.53551517026956963),\n",
        " ((1113, 1122), 0.89486835987944824),\n",
        " ((200, 744), 0.52664375511224393),\n",
        " ((853, 869), 0.41353147182021094),\n",
        " ((996, 1154), 0.41056423957895338),\n",
        " ((382, 936), 0.46128547675356713),\n",
        " ((167, 403), 0.41148338145950697),\n",
        " ((154, 189), 0.41904947552644495),\n",
        " ((364, 385), 0.45175620354575402),\n",
        " ((1164, 1167), 0.63270305178202024),\n",
        " ((1016, 1100), 0.4892072856049926),\n",
        " ((308, 380), 0.72365242743770575),\n",
        " ((151, 533), 0.56883237691782673),\n",
        " ((52, 567), 0.40181766169444644),\n",
        " ((1109, 1139), 0.78300751975504956),\n",
        " ((616, 1047), 0.62870580658447628),\n",
        " ((1131, 1138), 0.72295430186107124),\n",
        " ((68, 69), 0.42285569693565561),\n",
        " ((191, 575), 0.43195518447043801),\n",
        " ((69, 167), 0.41172400115970514),\n",
        " ((52, 850), 0.50648715391917509),\n",
        " ((66, 787), 0.41288772694576736),\n",
        " ((187, 664), 0.47329481113165972),\n",
        " ((69, 491), 0.51464058082714337),\n",
        " ((351, 806), 0.42087255370923632),\n",
        " ((1027, 1166), 0.48553785517627779),\n",
        " ((40, 488), 0.94115514651057119),\n",
        " ((186, 399), 0.67554013493218668),\n",
        " ((449, 541), 0.46198602843842373),\n",
        " ((470, 798), 0.48101091195416246),\n",
        " ((605, 875), 0.5992016200321798),\n",
        " ((279, 949), 0.87194772615762317),\n",
        " ((996, 1166), 0.48026335184101032),\n",
        " ((484, 489), 0.55769491288695672),\n",
        " ((237, 659), 0.50009369956788374),\n",
        " ((557, 852), 0.51214504829301866),\n",
        " ((744, 869), 0.51135354873637096),\n",
        " ((191, 491), 0.50228110434417705),\n",
        " ((104, 191), 0.58383110778475367),\n",
        " ((996, 1026), 0.75556472906576333),\n",
        " ((3, 983), 0.60974541943721872),\n",
        " ((521, 741), 0.53175674521121474),\n",
        " ((1028, 1119), 0.40211259809460193),\n",
        " ((744, 1035), 0.4493406212844166),\n",
        " ((3, 1200), 0.52524551997820856),\n",
        " ((481, 832), 0.44040338661823936),\n",
        " ((334, 1200), 0.54971531296298148),\n",
        " ((250, 380), 0.76665104242521454),\n",
        " ((801, 802), 0.78485054829071599),\n",
        " ((47, 184), 0.48967720849566898),\n",
        " ((70, 250), 0.41706153243549199),\n",
        " ((1013, 1101), 0.50487595741584435),\n",
        " ((577, 1015), 0.6739538944268797),\n",
        " ((990, 1065), 0.63015225747366366),\n",
        " ((167, 632), 0.46196642350649003),\n",
        " ((1026, 1154), 0.45680426951654307),\n",
        " ((137, 456), 0.76650146859703672),\n",
        " ((78, 914), 0.40214828410745762),\n",
        " ((167, 189), 0.66352606614372378),\n",
        " ((322, 482), 0.44792074587321223),\n",
        " ((254, 776), 0.9108151784798254),\n",
        " ((6, 832), 0.42827289274523561),\n",
        " ((272, 997), 0.42984763032843182),\n",
        " ((232, 686), 0.52919340604517984),\n",
        " ((577, 616), 0.42269546658213236),\n",
        " ((37, 612), 0.4080637459869399),\n",
        " ((279, 812), 0.66989353126015394),\n",
        " ((665, 818), 0.60654246011004787),\n",
        " ((628, 1001), 0.58113884812820915),\n",
        " ((185, 189), 0.4172120756511169),\n",
        " ((290, 732), 0.57069890706372872),\n",
        " ((114, 673), 0.6393027255168563),\n",
        " ((387, 541), 0.44685646795933565),\n",
        " ((52, 798), 0.48823975586503843),\n",
        " ((266, 395), 0.4026391332323308),\n",
        " ((468, 501), 0.44624680287665891),\n",
        " ((700, 1096), 0.49598411085403399),\n",
        " ((104, 632), 0.41467495351521694),\n",
        " ((267, 604), 0.63096676662411744),\n",
        " ((715, 745), 0.43074984332860849),\n",
        " ((68, 139), 0.61133356399705363),\n",
        " ((405, 1156), 0.59860207620756301),\n",
        " ((331, 937), 0.98891792604417839),\n",
        " ((6, 491), 0.46697897982826514),\n",
        " ((84, 176), 0.93006638406062536),\n",
        " ((506, 518), 0.5462343325345177),\n",
        " ((191, 481), 0.40634308847609962),\n",
        " ((665, 816), 0.47965261778168178),\n",
        " ((382, 536), 0.84415574768523394),\n",
        " ((318, 971), 0.55497000068560476),\n",
        " ((823, 1188), 0.53356710835251331),\n",
        " ((635, 881), 0.44419262119682679),\n",
        " ((135, 189), 0.60341793021958989),\n",
        " ((853, 875), 0.4286789021779871),\n",
        " ((222, 341), 0.46570127739837713),\n",
        " ((135, 787), 0.41961365497910214),\n",
        " ((491, 632), 0.75651464698899529),\n",
        " ((187, 237), 0.48077690936899525),\n",
        " ((310, 399), 0.60085444443377589),\n",
        " ((189, 491), 0.50383114656714412),\n",
        " ((353, 971), 0.52604414928314802),\n",
        " ((711, 1078), 0.58512066976338484),\n",
        " ((104, 787), 0.41715664548506781),\n",
        " ((461, 633), 0.83729299958425307),\n",
        " ((215, 402), 0.81415808616181484),\n",
        " ((342, 672), 0.62697303788270053),\n",
        " ((301, 672), 0.73236805751781253),\n",
        " ((9, 63), 0.78679518128916659),\n",
        " ((790, 1057), 0.45989839740635852),\n",
        " ((121, 722), 0.41146299304597223),\n",
        " ((1020, 1021), 0.95942072585126126),\n",
        " ((529, 853), 0.41759291352007721),\n",
        " ((261, 672), 0.48995697360611146),\n",
        " ((154, 575), 0.45055104642685334),\n",
        " ((384, 387), 0.53941430614156149),\n",
        " ((0, 4), 0.96807159336493354),\n",
        " ((77, 125), 0.61566395073035685),\n",
        " ((9, 491), 0.55395654935335681),\n",
        " ((306, 727), 1.0000000000000002),\n",
        " ((119, 341), 0.40818350122468422),\n",
        " ((992, 1102), 0.47784233634611056),\n",
        " ((356, 491), 0.50071644848962382),\n",
        " ((364, 867), 0.56034194162237561),\n",
        " ((449, 479), 0.60387504827477312),\n",
        " ((343, 1175), 0.41626808783535357),\n",
        " ((529, 605), 0.47381677729640831),\n",
        " ((187, 720), 0.40197366444942662),\n",
        " ((193, 303), 0.53727828872885652),\n",
        " ((200, 1035), 0.59389224191317946),\n",
        " ((67, 356), 0.41269299557972144),\n",
        " ((1013, 1026), 0.77114565125316603),\n",
        " ((325, 633), 0.43429414147241224),\n",
        " ((141, 1090), 0.51140418569468782),\n",
        " ((468, 1015), 0.46316066274634415),\n",
        " ((363, 741), 0.70100527624818831),\n",
        " ((154, 491), 0.60216179775811962),\n",
        " ((104, 154), 0.42931907998141178),\n",
        " ((548, 986), 0.98594918295474188),\n",
        " ((155, 377), 0.98606920233732687),\n",
        " ((135, 185), 0.42003850372947399),\n",
        " ((1157, 1160), 0.48319604077994088),\n",
        " ((1153, 1166), 0.82131316804185939),\n",
        " ((1151, 1158), 0.44639431524247164),\n",
        " ((222, 345), 0.55659426735709205),\n",
        " ((564, 698), 0.65647731321863123),\n",
        " ((187, 192), 0.44672461049931572),\n",
        " ((915, 981), 0.68116579779731345),\n",
        " ((395, 405), 0.41063739647719938),\n",
        " ((632, 787), 0.41942566542015081),\n",
        " ((1016, 1114), 0.79694658923462791),\n",
        " ((744, 1046), 0.40406020686958793),\n",
        " ((183, 415), 0.44600660691540089),\n",
        " ((127, 1048), 0.4744030658365308),\n",
        " ((277, 608), 0.40283544239543118),\n",
        " ((490, 633), 0.47936469117078961),\n",
        " ((820, 1058), 0.85287906826833726),\n",
        " ((374, 628), 0.50706717681547253),\n",
        " ((9, 403), 0.5512683321431826),\n",
        " ((291, 294), 0.99395739498079982),\n",
        " ((303, 792), 0.526849585223225),\n",
        " ((138, 193), 0.49595904872144791),\n",
        " ((395, 1139), 0.49499142369081833),\n",
        " ((373, 587), 0.64105939496446529),\n",
        " ((1087, 1097), 0.80751699821955936),\n",
        " ((424, 659), 0.41192052992454697),\n",
        " ((301, 914), 0.49649511092099746),\n",
        " ((179, 222), 0.66022869806105899),\n",
        " ((297, 385), 0.41678189741145183),\n",
        " ((992, 1071), 0.42215807066110272),\n",
        " ((577, 788), 0.52460214769261337),\n",
        " ((69, 415), 0.41023651846892911),\n",
        " ((63, 481), 0.45332905936045065),\n",
        " ((261, 914), 0.43017485540076472),\n",
        " ((672, 867), 0.69115362432086425),\n",
        " ((1111, 1118), 0.77318709423051935),\n",
        " ((154, 415), 0.47695892808005003),\n",
        " ((378, 1030), 0.42888154307064863),\n",
        " ((845, 1079), 0.4626630598219888),\n",
        " ((219, 878), 0.64412952213226438),\n",
        " ((115, 426), 0.50944714638405264),\n",
        " ((491, 575), 0.45558130453272722),\n",
        " ((481, 491), 0.48481085851133299),\n",
        " ((325, 461), 0.4349375534628685),\n",
        " ((182, 184), 0.98335937637210968),\n",
        " ((1153, 1154), 0.55158005615272365),\n",
        " ((334, 853), 0.40435811749423106),\n",
        " ((802, 805), 0.81194751910000085),\n",
        " ((331, 333), 0.83008616465252216),\n",
        " ((177, 794), 0.76518867229315468),\n",
        " ((506, 788), 0.58295084976372991),\n",
        " ((381, 536), 0.84907890804205444),\n",
        " ((38, 303), 0.50130558581967366),\n",
        " ((63, 632), 0.59707497706191159),\n",
        " ((405, 658), 0.41947587056676183),\n",
        " ((12, 835), 0.52342333742218794),\n",
        " ((185, 787), 0.48110622300344841),\n",
        " ((64, 65), 0.68280585547308348),\n",
        " ((311, 424), 0.59619548199202754),\n",
        " ((290, 720), 0.59729904700012149),\n",
        " ((311, 393), 0.49472665972882884),\n",
        " ((605, 701), 0.62825556504977242),\n",
        " ((66, 154), 0.4533033147877939),\n",
        " ((392, 399), 0.64393161893683848),\n",
        " ((250, 1078), 0.49631859203941192),\n",
        " ((57, 441), 0.6558924525850327),\n",
        " ((486, 545), 0.78559311049431624),\n",
        " ((470, 696), 0.54998674714383466),\n",
        " ((744, 853), 0.45869215376050193),\n",
        " ((47, 1023), 0.56243203558844335),\n",
        " ((616, 788), 0.50389185839256634),\n",
        " ((872, 1069), 0.42028460133344653),\n",
        " ((529, 1057), 0.48066196109926651),\n",
        " ((68, 185), 0.45243254787666315),\n",
        " ((189, 481), 0.43000219842736254),\n",
        " ((6, 191), 0.42066192225685417),\n",
        " ((1038, 1148), 0.47318716070338013),\n",
        " ((652, 722), 0.47984469668376672),\n",
        " ((169, 170), 0.96752342358426024),\n",
        " ((187, 311), 0.43587370788325874),\n",
        " ((481, 790), 0.49368560450015025),\n",
        " ((67, 491), 0.43628578030518667),\n",
        " ((135, 491), 0.54697420325641344),\n",
        " ((393, 424), 0.78426109142729072),\n",
        " ((380, 1078), 0.58882578328769042),\n",
        " ((650, 703), 0.8653459696629725),\n",
        " ((1100, 1114), 0.47222226063804573),\n",
        " ((290, 387), 0.47835442203098261),\n",
        " ((307, 871), 0.7449143694575433),\n",
        " ((862, 1065), 0.62769649243718517),\n",
        " ((800, 801), 0.77627291586904135),\n",
        " ((557, 997), 0.42300882687629343),\n",
        " ((67, 154), 0.43714980697414368),\n",
        " ((6, 787), 0.42667450361261455),\n",
        " ((5, 127), 0.66476283490535992),\n",
        " ((215, 708), 0.79779946269998891),\n",
        " ((403, 415), 0.50198444098106287),\n",
        " ((415, 787), 0.43593997450189015),\n",
        " ((468, 788), 0.40575646445719366),\n",
        " ((476, 822), 0.4260895858755786),\n",
        " ((1072, 1143), 0.51363490292437186),\n",
        " ((386, 842), 0.5608324470908399),\n",
        " ((501, 1047), 0.4406253496440255),\n",
        " ((374, 1001), 0.59145461848321879),\n",
        " ((402, 708), 0.7889928809272243),\n",
        " ((519, 1069), 0.41183308888400011),\n",
        " ((1013, 1153), 0.42818760749020079),\n",
        " ((141, 987), 0.40109904522940132),\n",
        " ((472, 699), 0.97194030230121686),\n",
        " ((672, 914), 0.48194376404099559),\n",
        " ((179, 341), 0.50249257070336739),\n",
        " ((30, 49), 0.49011770888913636),\n",
        " ((341, 436), 0.63208803040546302),\n",
        " ((788, 1015), 0.68120155022225604),\n",
        " ((405, 1139), 0.40675008980582855),\n",
        " ((541, 732), 0.50057101415413174),\n",
        " ((506, 1015), 0.51518264148518222),\n",
        " ((290, 1178), 0.53666479989261384),\n",
        " ((187, 393), 0.43574070555535238),\n",
        " ((415, 481), 0.41422413824558757),\n",
        " ((387, 720), 0.40722167770712669),\n",
        " ((862, 990), 0.71722737655792212),\n",
        " ((942, 995), 0.87799033290638018),\n",
        " ((701, 853), 0.43913836475076512),\n",
        " ((461, 490), 0.80697929388057099),\n",
        " ((800, 805), 0.78148038029031985),\n",
        " ((309, 943), 0.48220060782389029),\n",
        " ((442, 1189), 0.48503374304062441),\n",
        " ((385, 867), 0.63975512867671991),\n",
        " ((938, 991), 0.97512312099442122),\n",
        " ((721, 936), 0.62262189773458487),\n",
        " ((187, 424), 0.62213230352789073),\n",
        " ((115, 502), 0.52111734623771189),\n",
        " ((9, 415), 0.43859506077700866),\n",
        " ((625, 790), 0.41883966436167996),\n",
        " ((104, 491), 0.53547563980824164),\n",
        " ((501, 616), 0.58156395991974164),\n",
        " ((127, 940), 0.6284280189193332),\n",
        " ((468, 616), 0.42299941184473827),\n",
        " ((63, 575), 0.4014539994772231),\n",
        " ((1086, 1091), 0.57508701258681227),\n",
        " ((308, 494), 0.71852859869145236),\n",
        " ((621, 1198), 0.44059726256503295),\n",
        " ((282, 1023), 0.58181513595734236),\n",
        " ((800, 802), 0.78606642453626618),\n",
        " ((1027, 1101), 0.53466145730458881),\n",
        " ((723, 871), 0.41590426014123727),\n",
        " ((696, 798), 0.61031218399427922),\n",
        " ((451, 658), 0.555893689847478),\n",
        " ((867, 914), 0.57778499455820309),\n",
        " ((1142, 1163), 0.4512358866736807),\n",
        " ((616, 1015), 0.48273841952536201),\n",
        " ((506, 1166), 0.50817325181415762),\n",
        " ((382, 657), 0.62066168484700279),\n",
        " ((696, 1175), 0.44411495487816066),\n",
        " ((745, 861), 0.98567521166051186),\n",
        " ((213, 451), 0.45224134923907539),\n",
        " ((251, 718), 0.48585435234668212),\n",
        " ((825, 997), 0.51818522613938711),\n",
        " ((940, 1048), 0.55042677499367665),\n",
        " ((190, 846), 0.94972370913681003),\n",
        " ((1024, 1043), 0.70513865625133931),\n",
        " ((744, 996), 0.43086068817043105),\n",
        " ((308, 1078), 0.5040318249244613),\n",
        " ((239, 819), 0.45676751726501075),\n",
        " ((46, 657), 0.66957175169557703),\n",
        " ((996, 1153), 0.47721261004739807),\n",
        " ((342, 867), 0.56136844210612069),\n",
        " ((534, 1001), 0.59216536564206035),\n",
        " ((236, 392), 0.71440045629985305),\n",
        " ((101, 366), 0.60239202893125887),\n",
        " ((67, 575), 0.46006842031530165),\n",
        " ((380, 711), 0.91712792647469643),\n",
        " ((49, 152), 0.40115011630224712),\n",
        " ((63, 403), 0.54987976870931077),\n",
        " ((1047, 1166), 0.48874611494775005),\n",
        " ((298, 374), 0.4496942851300299),\n",
        " ((1026, 1101), 0.50608497074580183),\n",
        " ((36, 524), 0.75459338625410621),\n",
        " ((333, 937), 0.82504408341513447),\n",
        " ((154, 787), 0.46209575139237646),\n",
        " ((52, 1175), 0.59398389323114231),\n",
        " ((5, 940), 0.61178272138728074),\n",
        " ((1103, 1123), 0.75669829372111963),\n",
        " ((63, 415), 0.45194715262862906),\n",
        " ((250, 494), 0.6646649341389842),\n",
        " ((66, 700), 0.44440223244393889),\n",
        " ((417, 827), 0.67417173688583065),\n",
        " ((5, 1048), 0.54516846668406027),\n",
        " ((301, 364), 0.53368617576813315),\n",
        " ((796, 797), 0.47975073407065033),\n",
        " ((200, 869), 0.81052200370185057),\n",
        " ((7, 1004), 0.89131730393259911),\n",
        " ((63, 167), 0.40796173887013876),\n",
        " ((845, 1169), 0.47818052439360015),\n",
        " ((436, 797), 0.45048822576089609),\n",
        " ((261, 385), 0.78106549215320886),\n",
        " ((1144, 1177), 0.50476055526567976),\n",
        " ((381, 382), 0.88366122815050363),\n",
        " ((66, 104), 0.42571926371268032),\n",
        " ((309, 1162), 0.42619561839525222),\n",
        " ((104, 403), 0.41129255975721324),\n",
        " ((46, 381), 0.87741405554794993),\n",
        " ((364, 672), 0.58557348822546496),\n",
        " ((69, 135), 0.42996739658678768),\n",
        " ((819, 841), 0.47755708680378262),\n",
        " ((272, 825), 0.49451712172287376),\n",
        " ((403, 632), 0.95270144659843503),\n",
        " ((135, 632), 0.42217885516908404),\n",
        " ((432, 822), 0.50505105585362853),\n",
        " ((108, 822), 0.40244322797014959),\n",
        " ((183, 491), 0.55617740292436835),\n",
        " ((565, 1033), 0.76796079642539616),\n",
        " ((46, 936), 0.44039872300246669),\n",
        " ((104, 415), 0.71829102190975658),\n",
        " ((178, 354), 0.73673438373816325),\n",
        " ((415, 491), 0.62339932421362243),\n",
        " ((87, 456), 0.66111431630073991),\n",
        " ((699, 704), 0.97539597106754494),\n",
        " ((983, 1171), 0.430406439116573),\n",
        " ((183, 191), 0.40186336810606776),\n",
        " ((135, 167), 0.62423868446632924),\n",
        " ((415, 632), 0.51227512146676324),\n",
        " ((519, 1057), 0.49666712509041616),\n",
        " ((996, 1101), 0.49463787034441431),\n",
        " ((10, 11), 0.40116723248459224),\n",
        " ((38, 193), 0.50113188331493697),\n",
        " ((191, 787), 0.42787344755174),\n",
        " ((222, 436), 0.56326707215678129),\n",
        " ((701, 875), 0.97506460967206654),\n",
        " ((996, 1027), 0.85512816566986805),\n",
        " ((154, 167), 0.47789321442521582),\n",
        " ((1096, 1097), 0.52510667681716938),\n",
        " ((341, 345), 0.49056855907585267),\n",
        " ((326, 672), 0.42010081300684343),\n",
        " ((311, 659), 0.51698221307175074),\n",
        " ((812, 949), 0.73610739885749688),\n",
        " ((46, 536), 0.78332348210216529),\n",
        " ((179, 436), 0.64628114810070936),\n",
        " ((112, 417), 0.58559398848908617),\n",
        " ((112, 827), 0.77913810686820872),\n",
        " ((541, 720), 0.53614180511102527),\n",
        " ((845, 1121), 0.50780102837522401),\n",
        " ((146, 447), 0.58846021522254643),\n",
        " ((52, 470), 0.44701257709892483),\n",
        " ((490, 1089), 0.41820426475769823),\n",
        " ((261, 342), 0.42526199656568109),\n",
        " ((1110, 1123), 0.40353246329204145),\n",
        " ((42, 892), 0.40162094893251754),\n",
        " ((6, 104), 0.43508800213733512),\n",
        " ((191, 632), 0.41861988397480859),\n",
        " ((888, 1161), 0.4175571401033748),\n",
        " ((516, 659), 0.80566259989324684),\n",
        " ((1013, 1027), 0.87274313291112704),\n",
        " ((298, 534), 0.47388474846787088),\n",
        " ((1159, 1200), 0.46386616390341451),\n",
        " ((63, 69), 0.40629181463808217),\n",
        " ((167, 491), 0.60433785819092212),\n",
        " ((66, 415), 0.41738954954085727),\n",
        " ((138, 303), 0.5696308931275883),\n",
        " ((186, 392), 0.72569708722550053),\n",
        " ((1108, 1144), 0.47509181887590995),\n",
        " ((526, 1155), 0.43277184221999832),\n",
        " ((66, 69), 0.40924681790454837),\n",
        " ((666, 1048), 0.45003001098729589),\n",
        " ((606, 915), 0.96974372410830167),\n",
        " ((330, 411), 0.424471560002676),\n",
        " ((534, 628), 0.51387280847618244),\n",
        " ((715, 861), 0.43696631100089384),\n",
        " ((506, 1026), 0.41827926373361207),\n",
        " ((342, 364), 0.48814399952237281),\n",
        " ((167, 787), 0.44123779812870417),\n",
        " ((363, 521), 0.48308018245655815),\n",
        " ((1026, 1153), 0.51924899575118799),\n",
        " ((353, 939), 0.56046591286588843),\n",
        " ((78, 913), 0.4833091094322009),\n",
        " ((237, 424), 0.77501427957459257),\n",
        " ((788, 1047), 0.55257153178615581),\n",
        " ((237, 393), 0.67062661711262583),\n",
        " ((1151, 1167), 0.63610107185557707),\n",
        " ((383, 807), 0.53002303077824975),\n",
        " ((801, 805), 0.78742680638529816),\n",
        " ((723, 1171), 0.45690015793380456),\n",
        " ((723, 1200), 0.40644441759516892),\n",
        " ((939, 971), 0.90795887393143904),\n",
        " ((290, 541), 0.57775617244990496),\n",
        " ((380, 630), 0.49838985907075195),\n",
        " ((46, 382), 0.89155085910998877),\n",
        " ((98, 845), 0.48249979838568602),\n",
        " ((723, 762), 0.41459897934408857),\n",
        " ((576, 1042), 0.60364616178131048),\n",
        " ((1026, 1027), 0.68694019126271511),\n",
        " ((423, 562), 0.44742561455757213),\n",
        " ((476, 1017), 0.40541483545272339),\n",
        " ((1132, 1177), 0.54297408437309069),\n",
        " ((374, 534), 0.98610723835769032),\n",
        " ((606, 981), 0.7337272293871886),\n",
        " ((529, 875), 0.50111392910531138),\n",
        " ((726, 1189), 0.45295388143723581),\n",
        " ((98, 1161), 0.54860878915298239),\n",
        " ((186, 310), 0.69670519561017907),\n",
        " ((266, 405), 0.58454414565012136),\n",
        " ((318, 939), 0.59108402419967487),\n",
        " ((577, 1047), 0.40625998842580913),\n",
        " ((63, 67), 0.42812809404621976),\n",
        " ((52, 696), 0.45000969773324012),\n",
        " ((185, 415), 0.40069514104169557),\n",
        " ((853, 1057), 0.45132959548922386),\n",
        " ((261, 613), 0.63500500272167826),\n",
        " ((167, 481), 0.43098782567186594),\n",
        " ((154, 356), 0.54698359152466502),\n",
        " ((67, 183), 0.43469052816743642),\n",
        " ((491, 787), 0.58270268179170648),\n",
        " ((1121, 1161), 0.41510137254508994),\n",
        " ((138, 792), 0.94139350061482807),\n",
        " ((231, 322), 0.47341535551981923),\n",
        " ((1158, 1167), 0.86763592276233181),\n",
        " ((286, 865), 0.40740719171061396),\n",
        " ((47, 182), 0.48404868921057986),\n",
        " ((869, 1035), 0.44740165045255548),\n",
        " ((272, 557), 0.42420811313647677),\n",
        " ((115, 913), 0.54723000622388818),\n",
        " ((413, 684), 0.72776745694045775),\n",
        " ((744, 1013), 0.43970919426100519),\n",
        " ((69, 139), 0.48268943367774997),\n",
        " ((478, 822), 0.4722258635704607),\n",
        " ((888, 1169), 0.40997980308949911),\n",
        " ((720, 732), 0.90339079052310844),\n",
        " ((342, 914), 0.66192312939219278),\n",
        " ((342, 385), 0.46445144363506036),\n",
        " ((825, 852), 0.58950071387992253),\n",
        " ((501, 506), 0.60052269291907168),\n",
        " ((501, 1015), 0.42647076288127872),\n",
        " ((301, 385), 0.48638172449458328),\n",
        " ((1139, 1156), 0.46664131348562682),\n",
        " ((179, 797), 0.45102903840580172),\n",
        " ((1108, 1132), 0.49527913832540121),\n",
        " ((193, 792), 0.46165201546647888),\n",
        " ((481, 787), 0.41749401846348216),\n",
        " ((1022, 1085), 0.6108329876977725),\n",
        " ((403, 491), 0.76381683783242738),\n",
        " ((852, 997), 0.43365780039581597),\n",
        " ((385, 914), 0.46292871565378696),\n",
        " ((966, 1171), 0.4632967832999545),\n",
        " ((308, 711), 0.65740182249365697),\n",
        " ((603, 780), 0.96113853331282628),\n",
        " ((776, 1069), 0.44159083498553758),\n",
        " ((63, 491), 0.58181909171068746),\n",
        " ((381, 936), 0.41719638712547691),\n",
        " ((473, 717), 0.83101646181842559),\n",
        " ((724, 862), 0.42148470140172972),\n",
        " ((517, 641), 0.8135271106197498),\n",
        " ((179, 345), 0.5907327646216427),\n",
        " ((224, 345), 0.45804974329469467),\n",
        " ((272, 852), 0.48244287216974907),\n",
        " ((494, 1078), 0.44722039962239613),\n",
        " ((996, 1013), 0.97978721042021633),\n",
        " ((189, 787), 0.40074900558622301),\n",
        " ((1154, 1166), 0.5248295709535481),\n",
        " ((266, 658), 0.64610680874789328),\n",
        " ((529, 701), 0.49047380154943976),\n",
        " ((318, 353), 0.57559312935830387),\n",
        " ((345, 797), 0.44510576996738666),\n",
        " ((402, 1073), 0.41424870093076011),\n",
        " ((506, 577), 0.5238260642419833),\n",
        " ((1110, 1121), 0.40642173768547862),\n",
        " ((70, 380), 0.44978561893655505),\n",
        " ((183, 632), 0.42254995948733265),\n",
        " ((69, 104), 0.40179581871303405),\n",
        " ((261, 867), 0.54490230055544819),\n",
        " ((494, 711), 0.63608515860759396),\n",
        " ((154, 632), 0.42534175216642633),\n",
        " ((189, 415), 0.40589163813051049),\n",
        " ((852, 1141), 0.43563747106592848),\n",
        " ((167, 415), 0.45573474799477831),\n",
        " ((878, 1056), 0.44342853993476222),\n",
        " ((822, 1017), 0.40785751873497161),\n",
        " ((526, 815), 0.69095912264691617),\n",
        " ((395, 1109), 0.40873716120137871),\n",
        " ((816, 818), 0.45338542727444325),\n",
        " ((798, 1175), 0.5972798252167475),\n",
        " ((501, 518), 0.84107205869099833),\n",
        " ((419, 920), 0.82168094344647824),\n",
        " ((264, 589), 0.82297990310303015),\n",
        " ((575, 1200), 0.41765992881894787),\n",
        " ((480, 963), 0.49685988849834228),\n",
        " ((34, 845), 0.43601866911817144),\n",
        " ((326, 385), 0.47192580682568441),\n",
        " ((468, 506), 0.43112028129163682),\n",
        " ((724, 990), 0.47728308669890479),\n",
        " ((45, 200), 0.40244609703331669),\n",
        " ((185, 481), 0.41747401451396776),\n",
        " ((3, 966), 0.65188428351786754),\n",
        " ((845, 1103), 0.43804076584393131),\n",
        " ((666, 940), 0.47416664591000407),\n",
        " ((735, 761), 0.53422361374546723),\n",
        " ((3, 723), 0.43709043976773854),\n",
        " ((930, 1166), 0.43829324824896299),\n",
        " ((426, 502), 0.4376825719597649),\n",
        " ((621, 1102), 0.51153375519998134),\n",
        " ((66, 491), 0.52631107194738935),\n",
        " ((3, 1171), 0.59244677390086953),\n",
        " ((966, 983), 0.45942373381357271),\n",
        " ((385, 672), 0.54778229998000849),\n",
        " ((301, 342), 0.5958045991695532),\n",
        " ((481, 632), 0.44277030990292554),\n",
        " ((236, 310), 0.65063489262315),\n",
        " ((290, 384), 0.45362688634419723),\n",
        " ((310, 392), 0.70228882529829062),\n",
        " ((250, 711), 0.75323576741565157),\n",
        " ((345, 436), 0.63553375072437801),\n",
        " ((1010, 1037), 0.56468153232492768),\n",
        " ((625, 715), 0.42266157631845308),\n",
        " ((1026, 1047), 0.42107245584933711),\n",
        " ((301, 867), 0.64014703414251273),\n",
        " ((154, 403), 0.4106912505603168),\n",
        " ((432, 1017), 0.42537712677069173),\n",
        " ((1015, 1047), 0.42097301273448051),\n",
        " ((334, 1159), 0.50504339202741888),\n",
        " ((1013, 1166), 0.49001741671167859),\n",
        " ((45, 102), 0.79976524822793371),\n",
        " ((89, 219), 0.42271082216984202),\n",
        " ((59, 575), 0.42265063866799341),\n",
        " ((186, 236), 0.79634418537125617),\n",
        " ((225, 504), 0.9060548270505866),\n",
        " ((575, 787), 0.40825637926592029),\n",
        " ((1026, 1166), 0.5811175554580249),\n",
        " ((506, 1047), 0.80914519803321194),\n",
        " ((1059, 1069), 0.42826093048703928),\n",
        " ((108, 432), 0.45575316489277268),\n",
        " ((468, 577), 0.4481774857843342),\n",
        " ((845, 1161), 0.5874095633815456),\n",
        " ((135, 154), 0.435019783196268),\n",
        " ((250, 308), 0.63538008503535259),\n",
        " ((191, 415), 0.47196996573248073),\n",
        " ((671, 807), 0.44038545872302032),\n",
        " ((630, 711), 0.4069773465018971),\n",
        " ((1132, 1144), 0.90301675359574973),\n",
        " ((69, 189), 0.47751610434471642),\n",
        " ((605, 853), 0.50851014580901255),\n",
        " ((506, 616), 0.8009491119890958),\n",
        " ((89, 878), 0.66879989841095278),\n",
        " ((430, 1153), 0.40253247561986588),\n",
        " ((233, 234), 0.54114045066654592),\n",
        " ((557, 825), 0.56536149741045516),\n",
        " ((472, 704), 0.98220928406278474),\n",
        " ((380, 494), 0.67853412095881205),\n",
        " ((670, 714), 0.47897873318749679),\n",
        " ((104, 183), 0.41330368714100479),\n",
        " ((139, 185), 0.52276025247692559),\n",
        " ((535, 905), 0.51998171015427763),\n",
        " ((69, 481), 0.46787619190698476),\n",
        " ((215, 1073), 0.40824070617518038),\n",
        " ((185, 491), 0.49052972265896949),\n",
        " ((762, 871), 0.992372787665601),\n",
        " ((87, 137), 0.5341621433964312),\n",
        " ((476, 478), 0.70276461331285067),\n",
        " ((1103, 1110), 0.53801235878187126),\n",
        " ((744, 1027), 0.46970901020778721),\n",
        " ((518, 616), 0.56675621455979208),\n",
        " ((261, 301), 0.43959024354888659),\n",
        " ((1101, 1166), 0.48359278191609872),\n",
        " ((47, 282), 0.49368712024417405),\n",
        " ((266, 451), 0.53978722889449016),\n",
        " ((70, 308), 0.50125905582091657),\n",
        " ((616, 1166), 0.41775823724074618)]"
       ]
      }
     ],
     "prompt_number": 301
    },
    {
     "cell_type": "code",
     "collapsed": false,
     "input": [
      "sortRes = sorted(noZeroVal.items(), lambda x, y: cmp(x[1], y[1]), reverse=True)"
     ],
     "language": "python",
     "metadata": {},
     "outputs": [],
     "prompt_number": 125
    },
    {
     "cell_type": "code",
     "collapsed": false,
     "input": [
      "sortRes = dict(sortRes)"
     ],
     "language": "python",
     "metadata": {},
     "outputs": [],
     "prompt_number": 121
    },
    {
     "cell_type": "code",
     "collapsed": false,
     "input": [],
     "language": "python",
     "metadata": {},
     "outputs": [],
     "prompt_number": 210
    },
    {
     "cell_type": "code",
     "collapsed": false,
     "input": [],
     "language": "python",
     "metadata": {},
     "outputs": [],
     "prompt_number": 210
    },
    {
     "cell_type": "code",
     "collapsed": false,
     "input": [
      "cosineDist.toarray()"
     ],
     "language": "python",
     "metadata": {},
     "outputs": [
      {
       "metadata": {},
       "output_type": "pyout",
       "prompt_number": 81,
       "text": [
        "array([[ 1.,  0.,  0., ...,  0.,  0.,  0.],\n",
        "       [ 0.,  0.,  0., ...,  0.,  0.,  0.],\n",
        "       [ 0.,  0.,  1., ...,  0.,  0.,  0.],\n",
        "       ..., \n",
        "       [ 0.,  0.,  0., ...,  1.,  0.,  0.],\n",
        "       [ 0.,  0.,  0., ...,  0.,  1.,  0.],\n",
        "       [ 0.,  0.,  0., ...,  0.,  0.,  1.]])"
       ]
      }
     ],
     "prompt_number": 81
    },
    {
     "cell_type": "code",
     "collapsed": false,
     "input": [
      "def classify(all_news):\n",
      "    global wordsDF\n",
      "    cv = CountVectorizer(analyzer=my_tokenizer)\n",
      "    cntContentRes = cv.fit_transform(all_news)\n",
      "    cntContentRes = cntContentRes.astype(int)\n",
      "\n",
      "    feature = cv.get_feature_names()\n",
      "    rep = cntContentRes.sum(axis=0).A[0]\n",
      "    ind = rep > 1\n",
      "    feature = array(feature)[rep>1]\n",
      "\n",
      "    #\u6ca1\u6709\u5171\u7528\u7684\u7279\u5f81\uff0c\u5b8c\u5168\u4e0d\u540c\n",
      "    # if sum(array(ind))==0:\n",
      "    #     return range(len(all_news)), range(len(all_news))\n",
      "    cntContentRes = cntContentRes[:, ind]\n",
      "    feature = array(feature)[rep>1]\n",
      "    wdDF_subset = []\n",
      "    for wd in feature:\n",
      "        if wordsDF.has_key(wd):\n",
      "            wdDF_subset.append(wordsDF[wd])\n",
      "        else:\n",
      "            wdDF_subset.append(0)\n",
      "    wdIdf = []\n",
      "    maxDF = max(wdDF_subset)\n",
      "    for x in wdDF_subset:\n",
      "        if x > 0:\n",
      "            wdIdf.append(log(maxDF/x))\n",
      "        else:\n",
      "            wdIdf.append(0)\n",
      "    wdidfDia = lil_matrix((len(wdIdf),len(wdIdf)))\n",
      "    wdidfDia.setdiag(wdIdf)\n",
      "    cntContentRes = cntContentRes.tocsr()\n",
      "    idfVector = cntContentRes*wdidfDia\n",
      "    filterMat = idfVector>0\n",
      "    distMatJ = idfVector*filterMat.T\n",
      "    JDia = 1/log(distMatJ.diagonal())\n",
      "    regMat = lil_matrix((len(JDia),len(JDia)))\n",
      "    regMat.setdiag(JDia)\n",
      "    distMatJ = distMatJ*regMat\n",
      "    return distMatJ"
     ],
     "language": "python",
     "metadata": {},
     "outputs": [],
     "prompt_number": 144
    },
    {
     "cell_type": "code",
     "collapsed": false,
     "input": [
      "def doClassifyAllnews(news):\n",
      "    news_contents = [nn.newsContent for nn in news]\n",
      "    if len(news_contents) > 1:\n",
      "        #res,cluster_centers_indices =\n",
      "        classify(news_contents)\n",
      "    #   print res, cluster_centers_indices\n",
      "    #    res = array(res).astype(int)\n",
      "    #     ll = len(titles)\n",
      "    #     #debug\n",
      "    #     # rr = pd.DataFrame({'title':titles, 'category': res, 'center':0})\n",
      "    #     #\n",
      "    #     # for ind in cluster_centers_indices:\n",
      "    #     #     rr['center'].ix[ind] = 1\n",
      "    #     # rr = rr.sort('category')\n",
      "    #     # rr.to_csv('/root/data/classifyNewsTitle/'+str(cc)+'clsResWithWord2VecPropagation.txt',encoding = 'utf-8',sep = '\\t',index = False)\n",
      "    #\n",
      "    #     #print res\n",
      "    #     for ind in range(ll):\n",
      "    #         nwsList[ind].storyID = nwsList[cluster_centers_indices[res[ind]]].id\n",
      "    #     for ind in cluster_centers_indices:\n",
      "    #         nwsList[ind].isMain = True\n",
      "    # else:\n",
      "    #     nwsList[0].storyID = nwsList[0].id\n",
      "    #     nwsList[0].isMain = True\n",
      "\n",
      "\n",
      "\n",
      "def doJobBatchWeek(news_db):\n",
      "    # global mongo_base\n",
      "    y = int(sys.argv[1])\n",
      "    m = int(sys.argv[2])\n",
      "    d = int(sys.argv[3])\n",
      "    initTime = datetime(y,m,d)+timedelta(1)\n",
      "    news = getNewsByPiriod(news_db, datetime(y,m,d), initTime)\n",
      "\n",
      "    \n",
      "    # updateMongo(newsCompanyMap,True)\n",
      "    # while True:\n",
      "    #     if(initTime > datetime.today()):\n",
      "    #         break;\n",
      "    #     initTime = initTime+ timedelta(1)\n",
      "    #     doJobAcc(mongodb,initTime)"
     ],
     "language": "python",
     "metadata": {},
     "outputs": [],
     "prompt_number": 7
    },
    {
     "cell_type": "code",
     "collapsed": false,
     "input": [
      "news_contents = [nn.newsContent for nn in news]"
     ],
     "language": "python",
     "metadata": {},
     "outputs": [],
     "prompt_number": 10
    },
    {
     "cell_type": "code",
     "collapsed": false,
     "input": [
      "cv = CountVectorizer(analyzer=my_tokenizer)\n",
      "cntContentRes = cv.fit_transform(news_contents)\n"
     ],
     "language": "python",
     "metadata": {},
     "outputs": [],
     "prompt_number": 12
    },
    {
     "cell_type": "code",
     "collapsed": false,
     "input": [
      "cntContentRes = cntContentRes.astype(int)\n",
      "\n",
      "feature = cv.get_feature_names()\n",
      "rep = cntContentRes.sum(axis=0).A[0]\n",
      "ind = rep > 1\n",
      "feature = array(feature)[rep>1]\n",
      "\n",
      "#\u6ca1\u6709\u5171\u7528\u7684\u7279\u5f81\uff0c\u5b8c\u5168\u4e0d\u540c\n",
      "# if sum(array(ind))==0:\n",
      "#     return range(len(all_news)), range(len(all_news))\n",
      "cntContentRes = cntContentRes[:, ind]\n",
      "feature = array(feature)[rep>1]\n",
      "wdDF_subset = []"
     ],
     "language": "python",
     "metadata": {},
     "outputs": []
    },
    {
     "cell_type": "code",
     "collapsed": false,
     "input": [
      "doClassifyAllnews(news)"
     ],
     "language": "python",
     "metadata": {},
     "outputs": [
      {
       "ename": "KeyboardInterrupt",
       "evalue": "",
       "output_type": "pyerr",
       "traceback": [
        "\u001b[1;31m---------------------------------------------------------------------------\u001b[0m\n\u001b[1;31mKeyboardInterrupt\u001b[0m                         Traceback (most recent call last)",
        "\u001b[1;32m<ipython-input-9-c7e1527852e4>\u001b[0m in \u001b[0;36m<module>\u001b[1;34m()\u001b[0m\n\u001b[1;32m----> 1\u001b[1;33m \u001b[0mdoClassifyAllnews\u001b[0m\u001b[1;33m(\u001b[0m\u001b[0mnews\u001b[0m\u001b[1;33m)\u001b[0m\u001b[1;33m\u001b[0m\u001b[0m\n\u001b[0m",
        "\u001b[1;32m<ipython-input-7-309dccac052c>\u001b[0m in \u001b[0;36mdoClassifyAllnews\u001b[1;34m(news)\u001b[0m\n\u001b[0;32m      3\u001b[0m     \u001b[1;32mif\u001b[0m \u001b[0mlen\u001b[0m\u001b[1;33m(\u001b[0m\u001b[0mnews_contents\u001b[0m\u001b[1;33m)\u001b[0m \u001b[1;33m>\u001b[0m \u001b[1;36m1\u001b[0m\u001b[1;33m:\u001b[0m\u001b[1;33m\u001b[0m\u001b[0m\n\u001b[0;32m      4\u001b[0m         \u001b[1;31m#res,cluster_centers_indices =\u001b[0m\u001b[1;33m\u001b[0m\u001b[1;33m\u001b[0m\u001b[0m\n\u001b[1;32m----> 5\u001b[1;33m         \u001b[1;32mprint\u001b[0m \u001b[0mclassify\u001b[0m\u001b[1;33m(\u001b[0m\u001b[0mnews_contents\u001b[0m\u001b[1;33m)\u001b[0m\u001b[1;33m\u001b[0m\u001b[0m\n\u001b[0m\u001b[0;32m      6\u001b[0m     \u001b[1;31m#   print res, cluster_centers_indices\u001b[0m\u001b[1;33m\u001b[0m\u001b[1;33m\u001b[0m\u001b[0m\n\u001b[0;32m      7\u001b[0m     \u001b[1;31m#    res = array(res).astype(int)\u001b[0m\u001b[1;33m\u001b[0m\u001b[1;33m\u001b[0m\u001b[0m\n",
        "\u001b[1;32m<ipython-input-8-2bf07793520a>\u001b[0m in \u001b[0;36mclassify\u001b[1;34m(all_news)\u001b[0m\n\u001b[0;32m      2\u001b[0m     \u001b[1;32mglobal\u001b[0m \u001b[0mwordsDF\u001b[0m\u001b[1;33m\u001b[0m\u001b[0m\n\u001b[0;32m      3\u001b[0m     \u001b[0mcv\u001b[0m \u001b[1;33m=\u001b[0m \u001b[0mCountVectorizer\u001b[0m\u001b[1;33m(\u001b[0m\u001b[0manalyzer\u001b[0m\u001b[1;33m=\u001b[0m\u001b[0mmy_tokenizer\u001b[0m\u001b[1;33m)\u001b[0m\u001b[1;33m\u001b[0m\u001b[0m\n\u001b[1;32m----> 4\u001b[1;33m     \u001b[0mcntContentRes\u001b[0m \u001b[1;33m=\u001b[0m \u001b[0mcv\u001b[0m\u001b[1;33m.\u001b[0m\u001b[0mfit_transform\u001b[0m\u001b[1;33m(\u001b[0m\u001b[0mall_news\u001b[0m\u001b[1;33m)\u001b[0m\u001b[1;33m\u001b[0m\u001b[0m\n\u001b[0m\u001b[0;32m      5\u001b[0m     \u001b[0mcntContentRes\u001b[0m \u001b[1;33m=\u001b[0m \u001b[0mcntContentRes\u001b[0m\u001b[1;33m.\u001b[0m\u001b[0mastype\u001b[0m\u001b[1;33m(\u001b[0m\u001b[0mint\u001b[0m\u001b[1;33m)\u001b[0m\u001b[1;33m\u001b[0m\u001b[0m\n\u001b[0;32m      6\u001b[0m \u001b[1;33m\u001b[0m\u001b[0m\n",
        "\u001b[1;32m/root/env1/lib/python2.7/site-packages/sklearn/feature_extraction/text.pyc\u001b[0m in \u001b[0;36mfit_transform\u001b[1;34m(self, raw_documents, y)\u001b[0m\n\u001b[0;32m    806\u001b[0m         \u001b[0mmax_features\u001b[0m \u001b[1;33m=\u001b[0m \u001b[0mself\u001b[0m\u001b[1;33m.\u001b[0m\u001b[0mmax_features\u001b[0m\u001b[1;33m\u001b[0m\u001b[0m\n\u001b[0;32m    807\u001b[0m \u001b[1;33m\u001b[0m\u001b[0m\n\u001b[1;32m--> 808\u001b[1;33m         \u001b[0mvocabulary\u001b[0m\u001b[1;33m,\u001b[0m \u001b[0mX\u001b[0m \u001b[1;33m=\u001b[0m \u001b[0mself\u001b[0m\u001b[1;33m.\u001b[0m\u001b[0m_count_vocab\u001b[0m\u001b[1;33m(\u001b[0m\u001b[0mraw_documents\u001b[0m\u001b[1;33m,\u001b[0m \u001b[0mself\u001b[0m\u001b[1;33m.\u001b[0m\u001b[0mfixed_vocabulary\u001b[0m\u001b[1;33m)\u001b[0m\u001b[1;33m\u001b[0m\u001b[0m\n\u001b[0m\u001b[0;32m    809\u001b[0m \u001b[1;33m\u001b[0m\u001b[0m\n\u001b[0;32m    810\u001b[0m         \u001b[1;32mif\u001b[0m \u001b[0mself\u001b[0m\u001b[1;33m.\u001b[0m\u001b[0mbinary\u001b[0m\u001b[1;33m:\u001b[0m\u001b[1;33m\u001b[0m\u001b[0m\n",
        "\u001b[1;32m/root/env1/lib/python2.7/site-packages/sklearn/feature_extraction/text.pyc\u001b[0m in \u001b[0;36m_count_vocab\u001b[1;34m(self, raw_documents, fixed_vocab)\u001b[0m\n\u001b[0;32m    739\u001b[0m         \u001b[0mindptr\u001b[0m\u001b[1;33m.\u001b[0m\u001b[0mappend\u001b[0m\u001b[1;33m(\u001b[0m\u001b[1;36m0\u001b[0m\u001b[1;33m)\u001b[0m\u001b[1;33m\u001b[0m\u001b[0m\n\u001b[0;32m    740\u001b[0m         \u001b[1;32mfor\u001b[0m \u001b[0mdoc\u001b[0m \u001b[1;32min\u001b[0m \u001b[0mraw_documents\u001b[0m\u001b[1;33m:\u001b[0m\u001b[1;33m\u001b[0m\u001b[0m\n\u001b[1;32m--> 741\u001b[1;33m             \u001b[1;32mfor\u001b[0m \u001b[0mfeature\u001b[0m \u001b[1;32min\u001b[0m \u001b[0manalyze\u001b[0m\u001b[1;33m(\u001b[0m\u001b[0mdoc\u001b[0m\u001b[1;33m)\u001b[0m\u001b[1;33m:\u001b[0m\u001b[1;33m\u001b[0m\u001b[0m\n\u001b[0m\u001b[0;32m    742\u001b[0m                 \u001b[1;32mtry\u001b[0m\u001b[1;33m:\u001b[0m\u001b[1;33m\u001b[0m\u001b[0m\n\u001b[0;32m    743\u001b[0m                     \u001b[0mj_indices\u001b[0m\u001b[1;33m.\u001b[0m\u001b[0mappend\u001b[0m\u001b[1;33m(\u001b[0m\u001b[0mvocabulary\u001b[0m\u001b[1;33m[\u001b[0m\u001b[0mfeature\u001b[0m\u001b[1;33m]\u001b[0m\u001b[1;33m)\u001b[0m\u001b[1;33m\u001b[0m\u001b[0m\n",
        "\u001b[1;32m<ipython-input-6-c494777908ac>\u001b[0m in \u001b[0;36mmy_tokenizer\u001b[1;34m(s)\u001b[0m\n\u001b[0;32m     51\u001b[0m     \u001b[0mregExp\u001b[0m \u001b[1;33m=\u001b[0m \u001b[1;34mu\"[^(\\u4e00-\\u9fa50-9)]\"\u001b[0m\u001b[1;33m\u001b[0m\u001b[0m\n\u001b[0;32m     52\u001b[0m     \u001b[0ms\u001b[0m \u001b[1;33m=\u001b[0m \u001b[0mre\u001b[0m\u001b[1;33m.\u001b[0m\u001b[0msub\u001b[0m\u001b[1;33m(\u001b[0m\u001b[0mregExp\u001b[0m\u001b[1;33m,\u001b[0m \u001b[1;34m\" \"\u001b[0m\u001b[1;33m,\u001b[0m \u001b[0ms\u001b[0m\u001b[1;33m)\u001b[0m\u001b[1;33m\u001b[0m\u001b[0m\n\u001b[1;32m---> 53\u001b[1;33m     \u001b[0mll\u001b[0m \u001b[1;33m=\u001b[0m \u001b[0mansj\u001b[0m\u001b[1;33m.\u001b[0m\u001b[0msplit\u001b[0m\u001b[1;33m(\u001b[0m\u001b[0ms\u001b[0m\u001b[1;33m)\u001b[0m\u001b[1;33m\u001b[0m\u001b[0m\n\u001b[0m\u001b[0;32m     54\u001b[0m     \u001b[0mres\u001b[0m \u001b[1;33m=\u001b[0m \u001b[1;33m[\u001b[0m\u001b[1;33m]\u001b[0m\u001b[1;33m\u001b[0m\u001b[0m\n\u001b[0;32m     55\u001b[0m     \u001b[1;32mfor\u001b[0m \u001b[0mtt\u001b[0m \u001b[1;32min\u001b[0m \u001b[0mll\u001b[0m\u001b[1;33m:\u001b[0m\u001b[1;33m\u001b[0m\u001b[0m\n",
        "\u001b[1;32m<ipython-input-6-c494777908ac>\u001b[0m in \u001b[0;36msplit\u001b[1;34m(self, txt, method)\u001b[0m\n\u001b[0;32m     33\u001b[0m             \u001b[1;32mraise\u001b[0m \u001b[0mRuntimeError\u001b[0m\u001b[1;33m(\u001b[0m\u001b[1;34m'no such method for ansj'\u001b[0m\u001b[1;33m)\u001b[0m\u001b[1;33m\u001b[0m\u001b[0m\n\u001b[0;32m     34\u001b[0m         \u001b[0mraw_res\u001b[0m \u001b[1;33m=\u001b[0m \u001b[0mself\u001b[0m\u001b[1;33m.\u001b[0m\u001b[0mmethods\u001b[0m\u001b[1;33m[\u001b[0m\u001b[0mmethod\u001b[0m\u001b[1;33m]\u001b[0m\u001b[1;33m.\u001b[0m\u001b[0mparse\u001b[0m\u001b[1;33m(\u001b[0m\u001b[0mtxt\u001b[0m\u001b[1;33m)\u001b[0m\u001b[1;33m.\u001b[0m\u001b[0mtoArray\u001b[0m\u001b[1;33m(\u001b[0m\u001b[1;33m)\u001b[0m\u001b[1;33m\u001b[0m\u001b[0m\n\u001b[1;32m---> 35\u001b[1;33m         \u001b[0mres\u001b[0m \u001b[1;33m=\u001b[0m \u001b[1;33m[\u001b[0m\u001b[1;33m(\u001b[0m\u001b[0mx\u001b[0m\u001b[1;33m.\u001b[0m\u001b[0moffe\u001b[0m\u001b[1;33m,\u001b[0m \u001b[0mx\u001b[0m\u001b[1;33m.\u001b[0m\u001b[0moffe\u001b[0m\u001b[1;33m+\u001b[0m\u001b[0mlen\u001b[0m\u001b[1;33m(\u001b[0m\u001b[0mx\u001b[0m\u001b[1;33m.\u001b[0m\u001b[0mrealName\u001b[0m\u001b[1;33m)\u001b[0m\u001b[1;33m,\u001b[0m \u001b[0mx\u001b[0m\u001b[1;33m.\u001b[0m\u001b[0mnature\u001b[0m\u001b[1;33m.\u001b[0m\u001b[0mnatureStr\u001b[0m\u001b[1;33m)\u001b[0m \u001b[1;32mfor\u001b[0m \u001b[0mx\u001b[0m \u001b[1;32min\u001b[0m \u001b[0mraw_res\u001b[0m\u001b[1;33m]\u001b[0m\u001b[1;33m\u001b[0m\u001b[0m\n\u001b[0m\u001b[0;32m     36\u001b[0m         \u001b[1;32mreturn\u001b[0m \u001b[0mres\u001b[0m\u001b[1;33m\u001b[0m\u001b[0m\n\u001b[0;32m     37\u001b[0m \u001b[1;33m\u001b[0m\u001b[0m\n",
        "\u001b[1;32m/root/env1/local/lib/python2.7/site-packages/jpype/_jclass.pyc\u001b[0m in \u001b[0;36m_javaGetAttr\u001b[1;34m(self, name)\u001b[0m\n\u001b[0;32m     81\u001b[0m \u001b[1;32mdef\u001b[0m \u001b[0m_javaGetAttr\u001b[0m\u001b[1;33m(\u001b[0m\u001b[0mself\u001b[0m\u001b[1;33m,\u001b[0m \u001b[0mname\u001b[0m\u001b[1;33m)\u001b[0m \u001b[1;33m:\u001b[0m\u001b[1;33m\u001b[0m\u001b[0m\n\u001b[0;32m     82\u001b[0m         \u001b[1;32mtry\u001b[0m \u001b[1;33m:\u001b[0m\u001b[1;33m\u001b[0m\u001b[0m\n\u001b[1;32m---> 83\u001b[1;33m                 \u001b[0mr\u001b[0m \u001b[1;33m=\u001b[0m \u001b[0mobject\u001b[0m\u001b[1;33m.\u001b[0m\u001b[0m__getattribute__\u001b[0m\u001b[1;33m(\u001b[0m\u001b[0mself\u001b[0m\u001b[1;33m,\u001b[0m \u001b[0mname\u001b[0m\u001b[1;33m)\u001b[0m\u001b[1;33m\u001b[0m\u001b[0m\n\u001b[0m\u001b[0;32m     84\u001b[0m         \u001b[1;32mexcept\u001b[0m \u001b[0mAttributeError\u001b[0m\u001b[1;33m,\u001b[0m \u001b[0mex\u001b[0m \u001b[1;33m:\u001b[0m\u001b[1;33m\u001b[0m\u001b[0m\n\u001b[0;32m     85\u001b[0m                 \u001b[1;32mif\u001b[0m \u001b[0mname\u001b[0m \u001b[1;32min\u001b[0m \u001b[0mdir\u001b[0m\u001b[1;33m(\u001b[0m\u001b[0mself\u001b[0m\u001b[1;33m.\u001b[0m\u001b[0m__class__\u001b[0m\u001b[1;33m.\u001b[0m\u001b[0m__metaclass__\u001b[0m\u001b[1;33m)\u001b[0m \u001b[1;33m:\u001b[0m\u001b[1;33m\u001b[0m\u001b[0m\n",
        "\u001b[1;31mKeyboardInterrupt\u001b[0m: "
       ]
      }
     ],
     "prompt_number": 9
    }
   ],
   "metadata": {}
  }
 ]
}