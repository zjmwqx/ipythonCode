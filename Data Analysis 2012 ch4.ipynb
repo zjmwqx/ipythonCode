{
 "metadata": {
  "name": ""
 },
 "nbformat": 3,
 "nbformat_minor": 0,
 "worksheets": [
  {
   "cells": [
    {
     "cell_type": "code",
     "collapsed": false,
     "input": [
      "data1 = [6, 7.5,8,0.1]"
     ],
     "language": "python",
     "metadata": {},
     "outputs": [],
     "prompt_number": 1
    },
    {
     "cell_type": "code",
     "collapsed": false,
     "input": [
      "arr1 = np.array(data1)"
     ],
     "language": "python",
     "metadata": {},
     "outputs": [],
     "prompt_number": 2
    },
    {
     "cell_type": "code",
     "collapsed": false,
     "input": [
      "data2 = [[1,2,3,4],[5,6,7,8]]"
     ],
     "language": "python",
     "metadata": {},
     "outputs": [],
     "prompt_number": 4
    },
    {
     "cell_type": "code",
     "collapsed": false,
     "input": [
      "np.array(['1.25','-9.6','42'],dtype=string_)"
     ],
     "language": "python",
     "metadata": {},
     "outputs": [
      {
       "metadata": {},
       "output_type": "pyout",
       "prompt_number": 28,
       "text": [
        "array(['1.25', '-9.6', '42'], \n",
        "      dtype='|S4')"
       ]
      }
     ],
     "prompt_number": 28
    },
    {
     "cell_type": "code",
     "collapsed": false,
     "input": [
      "data = np.empty((8,4))"
     ],
     "language": "python",
     "metadata": {},
     "outputs": [],
     "prompt_number": 40
    },
    {
     "cell_type": "code",
     "collapsed": false,
     "input": [
      "data"
     ],
     "language": "python",
     "metadata": {},
     "outputs": [
      {
       "metadata": {},
       "output_type": "pyout",
       "prompt_number": 41,
       "text": [
        "array([[  6.93938216e-310,   2.74833225e-316,   7.21478569e-313,\n",
        "          1.37929726e-312],\n",
        "       [  1.80369642e-312,   2.22809558e-312,   2.35541533e-312,\n",
        "          2.14321575e-312],\n",
        "       [  2.44029516e-312,   2.07955588e-312,   2.29175545e-312,\n",
        "          2.44029516e-312],\n",
        "       [  6.79038654e-313,   2.35541533e-312,   2.50395503e-312,\n",
        "          2.29175545e-312],\n",
        "       [  2.12199579e-312,   2.46151512e-312,   6.79038654e-313,\n",
        "          2.14321575e-312],\n",
        "       [  2.05833592e-312,   2.05833592e-312,   2.14321575e-312,\n",
        "          2.22809558e-312],\n",
        "       [  9.33678149e-313,   2.44029516e-312,   2.37663529e-312,\n",
        "          2.41907520e-312],\n",
        "       [  2.46151512e-312,   2.01589600e-312,   2.48273508e-312,\n",
        "          9.33678149e-313]])"
       ]
      }
     ],
     "prompt_number": 41
    },
    {
     "cell_type": "code",
     "collapsed": false,
     "input": [
      "data = randn(3,5)"
     ],
     "language": "python",
     "metadata": {},
     "outputs": [],
     "prompt_number": 54
    },
    {
     "cell_type": "code",
     "collapsed": false,
     "input": [
      "data.swapaxes(1,0)"
     ],
     "language": "python",
     "metadata": {},
     "outputs": [
      {
       "metadata": {},
       "output_type": "pyout",
       "prompt_number": 60,
       "text": [
        "array([[ 0.59631793,  0.88417292,  0.55380299],\n",
        "       [-1.06573883,  0.4304267 , -2.21328543],\n",
        "       [ 1.19849052,  0.82869858, -0.57678446],\n",
        "       [-0.86350825,  1.25895041, -0.93030448],\n",
        "       [ 1.03213002, -1.07718595,  0.00238476]])"
       ]
      }
     ],
     "prompt_number": 60
    },
    {
     "cell_type": "code",
     "collapsed": false,
     "input": [
      "data = arange(0,5,0.01)"
     ],
     "language": "python",
     "metadata": {},
     "outputs": [],
     "prompt_number": 64
    },
    {
     "cell_type": "code",
     "collapsed": false,
     "input": [
      "x,y = np.meshgrid(data,data)"
     ],
     "language": "python",
     "metadata": {},
     "outputs": [],
     "prompt_number": 69
    },
    {
     "cell_type": "code",
     "collapsed": false,
     "input": [
      "import matplotlib.pyplot as plt\n"
     ],
     "language": "python",
     "metadata": {},
     "outputs": [],
     "prompt_number": 67
    },
    {
     "cell_type": "code",
     "collapsed": false,
     "input": [
      "z = np.sqrt(x**2+y**2)"
     ],
     "language": "python",
     "metadata": {},
     "outputs": [],
     "prompt_number": 71
    },
    {
     "cell_type": "code",
     "collapsed": false,
     "input": [
      "plt.imshow(z); plt.colorbar()"
     ],
     "language": "python",
     "metadata": {},
     "outputs": [
      {
       "metadata": {},
       "output_type": "pyout",
       "prompt_number": 73,
       "text": [
        "<matplotlib.colorbar.Colorbar instance at 0x407f5a8>"
       ]
      },
      {
       "metadata": {},
       "output_type": "display_data",
       "png": "[encoded data removed]",
       "text": [
        "<matplotlib.figure.Figure at 0x35505d0>"
       ]
      }
     ],
     "prompt_number": 73
    },
    {
     "cell_type": "code",
     "collapsed": false,
     "input": [
      "xarr = np.array([1.1, 1.2, 1.3, 1.4, 1.5])"
     ],
     "language": "python",
     "metadata": {},
     "outputs": [],
     "prompt_number": 79
    },
    {
     "cell_type": "code",
     "collapsed": false,
     "input": [
      "yarr = np.array([2.1, 2.2, 2.3, 2.4, 2.5])"
     ],
     "language": "python",
     "metadata": {},
     "outputs": [],
     "prompt_number": 78
    },
    {
     "cell_type": "code",
     "collapsed": false,
     "input": [
      "cond = np.array([True, False, True, True, False])"
     ],
     "language": "python",
     "metadata": {},
     "outputs": [],
     "prompt_number": 77
    },
    {
     "cell_type": "code",
     "collapsed": false,
     "input": [
      "result = [(x if c else y) for x,y,c in zip(xarr,yarr,cond)]"
     ],
     "language": "python",
     "metadata": {},
     "outputs": [],
     "prompt_number": 80
    },
    {
     "cell_type": "code",
     "collapsed": false,
     "input": [
      "result =  np.where(cond, xarr, yarr)"
     ],
     "language": "python",
     "metadata": {},
     "outputs": [],
     "prompt_number": 82
    },
    {
     "cell_type": "code",
     "collapsed": false,
     "input": [
      "data = arange(1,5,0.001)"
     ],
     "language": "python",
     "metadata": {},
     "outputs": [],
     "prompt_number": 88
    },
    {
     "cell_type": "code",
     "collapsed": false,
     "input": [
      "data =np.where(data>1, 1,0)"
     ],
     "language": "python",
     "metadata": {},
     "outputs": [],
     "prompt_number": 90
    },
    {
     "cell_type": "code",
     "collapsed": false,
     "input": [
      "data = np.random.randint(10,size=(2,3))"
     ],
     "language": "python",
     "metadata": {},
     "outputs": [],
     "prompt_number": 105
    },
    {
     "cell_type": "code",
     "collapsed": false,
     "input": [
      "data.cumprod(1)"
     ],
     "language": "python",
     "metadata": {},
     "outputs": [
      {
       "metadata": {},
       "output_type": "pyout",
       "prompt_number": 107,
       "text": [
        "array([[  8,  64, 320],\n",
        "       [  2,  14,  28]])"
       ]
      }
     ],
     "prompt_number": 107
    },
    {
     "cell_type": "code",
     "collapsed": false,
     "input": [
      "data = np.random.randint(2,size=(2,3))"
     ],
     "language": "python",
     "metadata": {},
     "outputs": [],
     "prompt_number": 120
    },
    {
     "cell_type": "code",
     "collapsed": false,
     "input": [
      "data = np.where(data>0,True,False)"
     ],
     "language": "python",
     "metadata": {},
     "outputs": [],
     "prompt_number": 121
    },
    {
     "cell_type": "code",
     "collapsed": false,
     "input": [
      "data = data.astype(bool)"
     ],
     "language": "python",
     "metadata": {},
     "outputs": [],
     "prompt_number": 114
    },
    {
     "cell_type": "code",
     "collapsed": false,
     "input": [
      "data.any()"
     ],
     "language": "python",
     "metadata": {},
     "outputs": [
      {
       "metadata": {},
       "output_type": "pyout",
       "prompt_number": 125,
       "text": [
        "True"
       ]
      }
     ],
     "prompt_number": 125
    },
    {
     "cell_type": "code",
     "collapsed": false,
     "input": [
      "data = randn(3,5)"
     ],
     "language": "python",
     "metadata": {},
     "outputs": [],
     "prompt_number": 126
    },
    {
     "cell_type": "code",
     "collapsed": false,
     "input": [
      "names = np.array(['Bob', 'Joe', 'Will', 'Bob', 'Will', 'Joe', 'Joe'])\n",
      "np.unique(names)"
     ],
     "language": "python",
     "metadata": {},
     "outputs": [
      {
       "metadata": {},
       "output_type": "pyout",
       "prompt_number": 131,
       "text": [
        "array(['Bob', 'Joe', 'Will'], \n",
        "      dtype='|S4')"
       ]
      }
     ],
     "prompt_number": 131
    },
    {
     "cell_type": "code",
     "collapsed": false,
     "input": [
      "listNames = np.array(['Joe','James', 'Marry','Joe'])"
     ],
     "language": "python",
     "metadata": {},
     "outputs": [],
     "prompt_number": 133
    },
    {
     "cell_type": "code",
     "collapsed": false,
     "input": [
      "np.in1d(names, listNames)"
     ],
     "language": "python",
     "metadata": {},
     "outputs": [
      {
       "metadata": {},
       "output_type": "pyout",
       "prompt_number": 134,
       "text": [
        "array([False,  True, False, False, False,  True,  True], dtype=bool)"
       ]
      }
     ],
     "prompt_number": 134
    },
    {
     "cell_type": "code",
     "collapsed": false,
     "input": [
      "np.unique(names)"
     ],
     "language": "python",
     "metadata": {},
     "outputs": [
      {
       "metadata": {},
       "output_type": "pyout",
       "prompt_number": 135,
       "text": [
        "array(['Bob', 'Joe', 'Will'], \n",
        "      dtype='|S4')"
       ]
      }
     ],
     "prompt_number": 135
    },
    {
     "cell_type": "code",
     "collapsed": false,
     "input": [
      "np.save('names', names)"
     ],
     "language": "python",
     "metadata": {},
     "outputs": [],
     "prompt_number": 138
    },
    {
     "cell_type": "code",
     "collapsed": false,
     "input": [
      "kk = np.load('names.npy')"
     ],
     "language": "python",
     "metadata": {},
     "outputs": [],
     "prompt_number": 145
    },
    {
     "cell_type": "code",
     "collapsed": false,
     "input": [
      "type(kk)"
     ],
     "language": "python",
     "metadata": {},
     "outputs": [
      {
       "metadata": {},
       "output_type": "pyout",
       "prompt_number": 147,
       "text": [
        "numpy.ndarray"
       ]
      }
     ],
     "prompt_number": 147
    },
    {
     "cell_type": "code",
     "collapsed": false,
     "input": [
      "np.savetxt('kk.txt',kk,delimiter=',',fmt=str('%s'))"
     ],
     "language": "python",
     "metadata": {},
     "outputs": [],
     "prompt_number": 153
    },
    {
     "cell_type": "code",
     "collapsed": false,
     "input": [
      "np.loadtxt('kk.txt',delimiter=',',dtype=string_)"
     ],
     "language": "python",
     "metadata": {},
     "outputs": [
      {
       "metadata": {},
       "output_type": "pyout",
       "prompt_number": 158,
       "text": [
        "array(['Bob', 'Joe', 'Will', 'Bob', 'Will', 'Joe', 'Joe'], \n",
        "      dtype='|S4')"
       ]
      }
     ],
     "prompt_number": 158
    },
    {
     "cell_type": "code",
     "collapsed": false,
     "input": [
      "matrix = randn(3,6)"
     ],
     "language": "python",
     "metadata": {},
     "outputs": [],
     "prompt_number": 159
    },
    {
     "cell_type": "code",
     "collapsed": false,
     "input": [
      "matrix = matrix.dot(matrix.T)"
     ],
     "language": "python",
     "metadata": {},
     "outputs": [],
     "prompt_number": 162
    },
    {
     "cell_type": "code",
     "collapsed": false,
     "input": [
      "np.linalg.inv(matrix)"
     ],
     "language": "python",
     "metadata": {},
     "outputs": [
      {
       "metadata": {},
       "output_type": "pyout",
       "prompt_number": 164,
       "text": [
        "array([[ 0.37052296,  0.13841775, -0.04933832],\n",
        "       [ 0.13841775,  0.51567089,  0.02269774],\n",
        "       [-0.04933832,  0.02269774,  0.30551576]])"
       ]
      }
     ],
     "prompt_number": 164
    },
    {
     "cell_type": "code",
     "collapsed": false,
     "input": [
      "np.random.normal(size= (4,5))"
     ],
     "language": "python",
     "metadata": {},
     "outputs": [
      {
       "metadata": {},
       "output_type": "pyout",
       "prompt_number": 167,
       "text": [
        "array([[-0.46382245,  1.15363621, -0.72526582,  0.38155111, -1.71225199],\n",
        "       [-0.64498152,  1.06800439, -0.86670235,  0.12557184,  1.43628425],\n",
        "       [ 0.12712024, -0.7789562 ,  0.3456481 ,  0.42434931,  1.09404658],\n",
        "       [-0.95195975, -0.02224573,  0.1669986 ,  1.02693293, -0.07249334]])"
       ]
      }
     ],
     "prompt_number": 167
    },
    {
     "cell_type": "code",
     "collapsed": false,
     "input": [
      "%timeit [np.random.normal(0,1) for i in range(10000)]"
     ],
     "language": "python",
     "metadata": {},
     "outputs": [
      {
       "output_type": "stream",
       "stream": "stdout",
       "text": [
        "100 loops, best of 3: 4.29 ms per loop\n"
       ]
      }
     ],
     "prompt_number": 169
    },
    {
     "cell_type": "heading",
     "level": 3,
     "metadata": {},
     "source": [
      "random walk:"
     ]
    },
    {
     "cell_type": "code",
     "collapsed": false,
     "input": [
      "import random\n",
      "position = 0 \n",
      "pos = [0]\n",
      "steps = 1000\n",
      "for i in range(steps):\n",
      "    position = position + (1 if random.randint(0,1) else -1) \n",
      "    pos.append(position)"
     ],
     "language": "python",
     "metadata": {},
     "outputs": [],
     "prompt_number": 200
    },
    {
     "cell_type": "code",
     "collapsed": false,
     "input": [
      "st = randint(0,2,size=1000)"
     ],
     "language": "python",
     "metadata": {},
     "outputs": [],
     "prompt_number": 224
    },
    {
     "cell_type": "code",
     "collapsed": false,
     "input": [
      "st = np.where(st>0,1,-1)"
     ],
     "language": "python",
     "metadata": {},
     "outputs": [],
     "prompt_number": 225
    },
    {
     "cell_type": "code",
     "collapsed": false,
     "input": [
      "st = st.cumsum()"
     ],
     "language": "python",
     "metadata": {},
     "outputs": [],
     "prompt_number": 226
    },
    {
     "cell_type": "code",
     "collapsed": false,
     "input": [
      "st.sort()"
     ],
     "language": "python",
     "metadata": {},
     "outputs": [
      {
       "metadata": {},
       "output_type": "pyout",
       "prompt_number": 232,
       "text": [
        "4"
       ]
      }
     ],
     "prompt_number": 232
    },
    {
     "cell_type": "code",
     "collapsed": false,
     "input": [
      "np.unique(st)"
     ],
     "language": "python",
     "metadata": {},
     "outputs": [
      {
       "metadata": {},
       "output_type": "pyout",
       "prompt_number": 231,
       "text": [
        "array([-31, -30, -29, -28, -27, -26, -25, -24, -23, -22, -21, -20, -19,\n",
        "       -18, -17, -16, -15, -14, -13, -12, -11, -10,  -9,  -8,  -7,  -6,\n",
        "        -5,  -4,  -3,  -2,  -1,   0,   1,   2,   3,   4])"
       ]
      }
     ],
     "prompt_number": 231
    },
    {
     "cell_type": "code",
     "collapsed": false,
     "input": [
      "st = np.random.randint(0,2,size=(5000,1000))"
     ],
     "language": "python",
     "metadata": {},
     "outputs": [],
     "prompt_number": 233
    },
    {
     "cell_type": "code",
     "collapsed": false,
     "input": [
      "st = where(st>0,1,-1)"
     ],
     "language": "python",
     "metadata": {},
     "outputs": [],
     "prompt_number": 234
    },
    {
     "cell_type": "code",
     "collapsed": false,
     "input": [
      "walks = st.cumsum(1)"
     ],
     "language": "python",
     "metadata": {},
     "outputs": [],
     "prompt_number": 236
    },
    {
     "cell_type": "code",
     "collapsed": false,
     "input": [
      "(np.abs(walks)>=30).any(1)"
     ],
     "language": "python",
     "metadata": {},
     "outputs": [
      {
       "metadata": {},
       "output_type": "pyout",
       "prompt_number": 240,
       "text": [
        "array([False,  True, False, ..., False, False,  True], dtype=bool)"
       ]
      }
     ],
     "prompt_number": 240
    },
    {
     "cell_type": "code",
     "collapsed": false,
     "input": [
      "import pandas as pd\n",
      "from pandas import Series"
     ],
     "language": "python",
     "metadata": {},
     "outputs": [],
     "prompt_number": 245
    },
    {
     "cell_type": "code",
     "collapsed": false,
     "input": [
      "obj2 = Series([4,7,-5,3], index=['d','a','c','b'])"
     ],
     "language": "python",
     "metadata": {},
     "outputs": [],
     "prompt_number": 246
    },
    {
     "cell_type": "code",
     "collapsed": false,
     "input": [
      "np.exp(obj2)"
     ],
     "language": "python",
     "metadata": {},
     "outputs": [
      {
       "metadata": {},
       "output_type": "pyout",
       "prompt_number": 250,
       "text": [
        "d      54.598150\n",
        "a    1096.633158\n",
        "c       0.006738\n",
        "b      20.085537\n",
        "dtype: float64"
       ]
      }
     ],
     "prompt_number": 250
    },
    {
     "cell_type": "code",
     "collapsed": false,
     "input": [
      "'b' in obj2"
     ],
     "language": "python",
     "metadata": {},
     "outputs": [
      {
       "metadata": {},
       "output_type": "pyout",
       "prompt_number": 253,
       "text": [
        "True"
       ]
      }
     ],
     "prompt_number": 253
    },
    {
     "cell_type": "code",
     "collapsed": false,
     "input": [
      "a = {}\n",
      "a['b'] = 2"
     ],
     "language": "python",
     "metadata": {},
     "outputs": [],
     "prompt_number": 254
    },
    {
     "cell_type": "code",
     "collapsed": false,
     "input": [
      "'b' in a"
     ],
     "language": "python",
     "metadata": {},
     "outputs": [
      {
       "metadata": {},
       "output_type": "pyout",
       "prompt_number": 255,
       "text": [
        "True"
       ]
      }
     ],
     "prompt_number": 255
    },
    {
     "cell_type": "code",
     "collapsed": false,
     "input": [
      "sdata = {'Ohio': 35000, 'Texas': 71000, 'Oregon': 16000, 'Utah': 5000}"
     ],
     "language": "python",
     "metadata": {},
     "outputs": [],
     "prompt_number": 256
    },
    {
     "cell_type": "code",
     "collapsed": false,
     "input": [
      "obj = Series(sdata, ['Ohio', 'Utah'])"
     ],
     "language": "python",
     "metadata": {},
     "outputs": [],
     "prompt_number": 259
    },
    {
     "cell_type": "code",
     "collapsed": false,
     "input": [
      "obj.name = 'population'"
     ],
     "language": "python",
     "metadata": {},
     "outputs": [],
     "prompt_number": 262
    },
    {
     "cell_type": "code",
     "collapsed": false,
     "input": [
      "obj.index.name = 'state'"
     ],
     "language": "python",
     "metadata": {},
     "outputs": [],
     "prompt_number": 268
    },
    {
     "cell_type": "code",
     "collapsed": false,
     "input": [
      "from pandas import DataFrame"
     ],
     "language": "python",
     "metadata": {},
     "outputs": [],
     "prompt_number": 269
    },
    {
     "cell_type": "code",
     "collapsed": false,
     "input": [
      "data = {'a':[1,2,3],'b':[2,3,4]}"
     ],
     "language": "python",
     "metadata": {},
     "outputs": [],
     "prompt_number": 270
    },
    {
     "cell_type": "code",
     "collapsed": false,
     "input": [
      "frame = DataFrame(data, columns=['b','a','f'], index=['c','v','b'])"
     ],
     "language": "python",
     "metadata": {},
     "outputs": [],
     "prompt_number": 285
    },
    {
     "cell_type": "code",
     "collapsed": false,
     "input": [
      "frame.isnull()"
     ],
     "language": "python",
     "metadata": {},
     "outputs": [
      {
       "html": [
        "<div style=\"max-height:1000px;max-width:1500px;overflow:auto;\">\n",
        "<table border=\"1\" class=\"dataframe\">\n",
        "  <thead>\n",
        "    <tr style=\"text-align: right;\">\n",
        "      <th></th>\n",
        "      <th>b</th>\n",
        "      <th>a</th>\n",
        "      <th>f</th>\n",
        "    </tr>\n",
        "  </thead>\n",
        "  <tbody>\n",
        "    <tr>\n",
        "      <th>0</th>\n",
        "      <td> False</td>\n",
        "      <td> False</td>\n",
        "      <td> True</td>\n",
        "    </tr>\n",
        "    <tr>\n",
        "      <th>1</th>\n",
        "      <td> False</td>\n",
        "      <td> False</td>\n",
        "      <td> True</td>\n",
        "    </tr>\n",
        "    <tr>\n",
        "      <th>2</th>\n",
        "      <td> False</td>\n",
        "      <td> False</td>\n",
        "      <td> True</td>\n",
        "    </tr>\n",
        "  </tbody>\n",
        "</table>\n",
        "<p>3 rows \u00d7 3 columns</p>\n",
        "</div>"
       ],
       "metadata": {},
       "output_type": "pyout",
       "prompt_number": 279,
       "text": [
        "       b      a     f\n",
        "0  False  False  True\n",
        "1  False  False  True\n",
        "2  False  False  True\n",
        "\n",
        "[3 rows x 3 columns]"
       ]
      }
     ],
     "prompt_number": 279
    },
    {
     "cell_type": "code",
     "collapsed": false,
     "input": [
      "obj = Series(range(3))"
     ],
     "language": "python",
     "metadata": {},
     "outputs": [],
     "prompt_number": 294
    },
    {
     "cell_type": "code",
     "collapsed": false,
     "input": [
      "obj.index"
     ],
     "language": "python",
     "metadata": {},
     "outputs": [
      {
       "metadata": {},
       "output_type": "pyout",
       "prompt_number": 295,
       "text": [
        "Int64Index([0, 1, 2], dtype='int64')"
       ]
      }
     ],
     "prompt_number": 295
    },
    {
     "cell_type": "code",
     "collapsed": false,
     "input": [
      "index = pd.Index(np.arange(3))"
     ],
     "language": "python",
     "metadata": {},
     "outputs": [],
     "prompt_number": 296
    },
    {
     "cell_type": "code",
     "collapsed": false,
     "input": [
      "obj2 = Series([1.5, -2.5, 0], index=index)"
     ],
     "language": "python",
     "metadata": {},
     "outputs": [],
     "prompt_number": 326
    },
    {
     "cell_type": "code",
     "collapsed": false,
     "input": [
      "obj2.index is index"
     ],
     "language": "python",
     "metadata": {},
     "outputs": [
      {
       "metadata": {},
       "output_type": "pyout",
       "prompt_number": 298,
       "text": [
        "True"
       ]
      }
     ],
     "prompt_number": 298
    },
    {
     "cell_type": "code",
     "collapsed": false,
     "input": [
      "a = Series([1,2,34])"
     ],
     "language": "python",
     "metadata": {},
     "outputs": [],
     "prompt_number": 303
    },
    {
     "cell_type": "code",
     "collapsed": false,
     "input": [
      "index.intersection"
     ],
     "language": "python",
     "metadata": {},
     "outputs": []
    },
    {
     "cell_type": "code",
     "collapsed": false,
     "input": [
      "a = [1,2,3]"
     ],
     "language": "python",
     "metadata": {},
     "outputs": [
      {
       "metadata": {},
       "output_type": "pyout",
       "prompt_number": 301,
       "text": [
        "True"
       ]
      }
     ],
     "prompt_number": 301
    },
    {
     "cell_type": "code",
     "collapsed": false,
     "input": [
      "a = DataFrame({'a':range(5),'b':range(5)})"
     ],
     "language": "python",
     "metadata": {},
     "outputs": [],
     "prompt_number": 323
    },
    {
     "cell_type": "code",
     "collapsed": false,
     "input": [
      "obj = Series(['a','c'], index = [0,10])"
     ],
     "language": "python",
     "metadata": {},
     "outputs": [],
     "prompt_number": 324
    },
    {
     "cell_type": "code",
     "collapsed": false,
     "input": [
      "obj.reindex(range(20),method = 'ffill')"
     ],
     "language": "python",
     "metadata": {},
     "outputs": [
      {
       "metadata": {},
       "output_type": "pyout",
       "prompt_number": 321,
       "text": [
        "0     a\n",
        "1     a\n",
        "2     a\n",
        "3     a\n",
        "4     a\n",
        "5     a\n",
        "6     a\n",
        "7     a\n",
        "8     a\n",
        "9     a\n",
        "10    c\n",
        "11    c\n",
        "12    c\n",
        "13    c\n",
        "14    c\n",
        "15    c\n",
        "16    c\n",
        "17    c\n",
        "18    c\n",
        "19    c\n",
        "dtype: object"
       ]
      }
     ],
     "prompt_number": 321
    },
    {
     "cell_type": "code",
     "collapsed": false,
     "input": [
      "obj2 = obj.reindex(['a', 'b', 'c', 'd', 'e'])"
     ],
     "language": "python",
     "metadata": {},
     "outputs": [],
     "prompt_number": 317
    },
    {
     "cell_type": "code",
     "collapsed": false,
     "input": [
      "obj2"
     ],
     "language": "python",
     "metadata": {},
     "outputs": [
      {
       "metadata": {},
       "output_type": "pyout",
       "prompt_number": 327,
       "text": [
        "0    1.5\n",
        "1   -2.5\n",
        "2    0.0\n",
        "dtype: float64"
       ]
      }
     ],
     "prompt_number": 327
    },
    {
     "cell_type": "code",
     "collapsed": false,
     "input": [
      "obj2.reindex(['a', 'b', 'c', 'd', 'e'], fill_value = 0)"
     ],
     "language": "python",
     "metadata": {},
     "outputs": [
      {
       "metadata": {},
       "output_type": "pyout",
       "prompt_number": 328,
       "text": [
        "a    0\n",
        "b    0\n",
        "c    0\n",
        "d    0\n",
        "e    0\n",
        "dtype: float64"
       ]
      }
     ],
     "prompt_number": 328
    },
    {
     "cell_type": "code",
     "collapsed": false,
     "input": [
      "a = DataFrame({'a':range(1,6),'b':range(1,6)},index=[0,10,20,30,40])"
     ],
     "language": "python",
     "metadata": {},
     "outputs": [],
     "prompt_number": 332
    },
    {
     "cell_type": "code",
     "collapsed": false,
     "input": [
      "a.reindex(range(50),method='ffill')"
     ],
     "language": "python",
     "metadata": {},
     "outputs": [
      {
       "html": [
        "<div style=\"max-height:1000px;max-width:1500px;overflow:auto;\">\n",
        "<table border=\"1\" class=\"dataframe\">\n",
        "  <thead>\n",
        "    <tr style=\"text-align: right;\">\n",
        "      <th></th>\n",
        "      <th>a</th>\n",
        "      <th>b</th>\n",
        "    </tr>\n",
        "  </thead>\n",
        "  <tbody>\n",
        "    <tr>\n",
        "      <th>0 </th>\n",
        "      <td> 1</td>\n",
        "      <td> 1</td>\n",
        "    </tr>\n",
        "    <tr>\n",
        "      <th>1 </th>\n",
        "      <td> 1</td>\n",
        "      <td> 1</td>\n",
        "    </tr>\n",
        "    <tr>\n",
        "      <th>2 </th>\n",
        "      <td> 1</td>\n",
        "      <td> 1</td>\n",
        "    </tr>\n",
        "    <tr>\n",
        "      <th>3 </th>\n",
        "      <td> 1</td>\n",
        "      <td> 1</td>\n",
        "    </tr>\n",
        "    <tr>\n",
        "      <th>4 </th>\n",
        "      <td> 1</td>\n",
        "      <td> 1</td>\n",
        "    </tr>\n",
        "    <tr>\n",
        "      <th>5 </th>\n",
        "      <td> 1</td>\n",
        "      <td> 1</td>\n",
        "    </tr>\n",
        "    <tr>\n",
        "      <th>6 </th>\n",
        "      <td> 1</td>\n",
        "      <td> 1</td>\n",
        "    </tr>\n",
        "    <tr>\n",
        "      <th>7 </th>\n",
        "      <td> 1</td>\n",
        "      <td> 1</td>\n",
        "    </tr>\n",
        "    <tr>\n",
        "      <th>8 </th>\n",
        "      <td> 1</td>\n",
        "      <td> 1</td>\n",
        "    </tr>\n",
        "    <tr>\n",
        "      <th>9 </th>\n",
        "      <td> 1</td>\n",
        "      <td> 1</td>\n",
        "    </tr>\n",
        "    <tr>\n",
        "      <th>10</th>\n",
        "      <td> 2</td>\n",
        "      <td> 2</td>\n",
        "    </tr>\n",
        "    <tr>\n",
        "      <th>11</th>\n",
        "      <td> 2</td>\n",
        "      <td> 2</td>\n",
        "    </tr>\n",
        "    <tr>\n",
        "      <th>12</th>\n",
        "      <td> 2</td>\n",
        "      <td> 2</td>\n",
        "    </tr>\n",
        "    <tr>\n",
        "      <th>13</th>\n",
        "      <td> 2</td>\n",
        "      <td> 2</td>\n",
        "    </tr>\n",
        "    <tr>\n",
        "      <th>14</th>\n",
        "      <td> 2</td>\n",
        "      <td> 2</td>\n",
        "    </tr>\n",
        "    <tr>\n",
        "      <th>15</th>\n",
        "      <td> 2</td>\n",
        "      <td> 2</td>\n",
        "    </tr>\n",
        "    <tr>\n",
        "      <th>16</th>\n",
        "      <td> 2</td>\n",
        "      <td> 2</td>\n",
        "    </tr>\n",
        "    <tr>\n",
        "      <th>17</th>\n",
        "      <td> 2</td>\n",
        "      <td> 2</td>\n",
        "    </tr>\n",
        "    <tr>\n",
        "      <th>18</th>\n",
        "      <td> 2</td>\n",
        "      <td> 2</td>\n",
        "    </tr>\n",
        "    <tr>\n",
        "      <th>19</th>\n",
        "      <td> 2</td>\n",
        "      <td> 2</td>\n",
        "    </tr>\n",
        "    <tr>\n",
        "      <th>20</th>\n",
        "      <td> 3</td>\n",
        "      <td> 3</td>\n",
        "    </tr>\n",
        "    <tr>\n",
        "      <th>21</th>\n",
        "      <td> 3</td>\n",
        "      <td> 3</td>\n",
        "    </tr>\n",
        "    <tr>\n",
        "      <th>22</th>\n",
        "      <td> 3</td>\n",
        "      <td> 3</td>\n",
        "    </tr>\n",
        "    <tr>\n",
        "      <th>23</th>\n",
        "      <td> 3</td>\n",
        "      <td> 3</td>\n",
        "    </tr>\n",
        "    <tr>\n",
        "      <th>24</th>\n",
        "      <td> 3</td>\n",
        "      <td> 3</td>\n",
        "    </tr>\n",
        "    <tr>\n",
        "      <th>25</th>\n",
        "      <td> 3</td>\n",
        "      <td> 3</td>\n",
        "    </tr>\n",
        "    <tr>\n",
        "      <th>26</th>\n",
        "      <td> 3</td>\n",
        "      <td> 3</td>\n",
        "    </tr>\n",
        "    <tr>\n",
        "      <th>27</th>\n",
        "      <td> 3</td>\n",
        "      <td> 3</td>\n",
        "    </tr>\n",
        "    <tr>\n",
        "      <th>28</th>\n",
        "      <td> 3</td>\n",
        "      <td> 3</td>\n",
        "    </tr>\n",
        "    <tr>\n",
        "      <th>29</th>\n",
        "      <td> 3</td>\n",
        "      <td> 3</td>\n",
        "    </tr>\n",
        "    <tr>\n",
        "      <th>30</th>\n",
        "      <td> 4</td>\n",
        "      <td> 4</td>\n",
        "    </tr>\n",
        "    <tr>\n",
        "      <th>31</th>\n",
        "      <td> 4</td>\n",
        "      <td> 4</td>\n",
        "    </tr>\n",
        "    <tr>\n",
        "      <th>32</th>\n",
        "      <td> 4</td>\n",
        "      <td> 4</td>\n",
        "    </tr>\n",
        "    <tr>\n",
        "      <th>33</th>\n",
        "      <td> 4</td>\n",
        "      <td> 4</td>\n",
        "    </tr>\n",
        "    <tr>\n",
        "      <th>34</th>\n",
        "      <td> 4</td>\n",
        "      <td> 4</td>\n",
        "    </tr>\n",
        "    <tr>\n",
        "      <th>35</th>\n",
        "      <td> 4</td>\n",
        "      <td> 4</td>\n",
        "    </tr>\n",
        "    <tr>\n",
        "      <th>36</th>\n",
        "      <td> 4</td>\n",
        "      <td> 4</td>\n",
        "    </tr>\n",
        "    <tr>\n",
        "      <th>37</th>\n",
        "      <td> 4</td>\n",
        "      <td> 4</td>\n",
        "    </tr>\n",
        "    <tr>\n",
        "      <th>38</th>\n",
        "      <td> 4</td>\n",
        "      <td> 4</td>\n",
        "    </tr>\n",
        "    <tr>\n",
        "      <th>39</th>\n",
        "      <td> 4</td>\n",
        "      <td> 4</td>\n",
        "    </tr>\n",
        "    <tr>\n",
        "      <th>40</th>\n",
        "      <td> 5</td>\n",
        "      <td> 5</td>\n",
        "    </tr>\n",
        "    <tr>\n",
        "      <th>41</th>\n",
        "      <td> 5</td>\n",
        "      <td> 5</td>\n",
        "    </tr>\n",
        "    <tr>\n",
        "      <th>42</th>\n",
        "      <td> 5</td>\n",
        "      <td> 5</td>\n",
        "    </tr>\n",
        "    <tr>\n",
        "      <th>43</th>\n",
        "      <td> 5</td>\n",
        "      <td> 5</td>\n",
        "    </tr>\n",
        "    <tr>\n",
        "      <th>44</th>\n",
        "      <td> 5</td>\n",
        "      <td> 5</td>\n",
        "    </tr>\n",
        "    <tr>\n",
        "      <th>45</th>\n",
        "      <td> 5</td>\n",
        "      <td> 5</td>\n",
        "    </tr>\n",
        "    <tr>\n",
        "      <th>46</th>\n",
        "      <td> 5</td>\n",
        "      <td> 5</td>\n",
        "    </tr>\n",
        "    <tr>\n",
        "      <th>47</th>\n",
        "      <td> 5</td>\n",
        "      <td> 5</td>\n",
        "    </tr>\n",
        "    <tr>\n",
        "      <th>48</th>\n",
        "      <td> 5</td>\n",
        "      <td> 5</td>\n",
        "    </tr>\n",
        "    <tr>\n",
        "      <th>49</th>\n",
        "      <td> 5</td>\n",
        "      <td> 5</td>\n",
        "    </tr>\n",
        "  </tbody>\n",
        "</table>\n",
        "<p>50 rows \u00d7 2 columns</p>\n",
        "</div>"
       ],
       "metadata": {},
       "output_type": "pyout",
       "prompt_number": 335,
       "text": [
        "    a  b\n",
        "0   1  1\n",
        "1   1  1\n",
        "2   1  1\n",
        "3   1  1\n",
        "4   1  1\n",
        "5   1  1\n",
        "6   1  1\n",
        "7   1  1\n",
        "8   1  1\n",
        "9   1  1\n",
        "10  2  2\n",
        "11  2  2\n",
        "12  2  2\n",
        "13  2  2\n",
        "14  2  2\n",
        "15  2  2\n",
        "16  2  2\n",
        "17  2  2\n",
        "18  2  2\n",
        "19  2  2\n",
        "20  3  3\n",
        "21  3  3\n",
        "22  3  3\n",
        "23  3  3\n",
        "24  3  3\n",
        "25  3  3\n",
        "26  3  3\n",
        "27  3  3\n",
        "28  3  3\n",
        "29  3  3\n",
        "30  4  4\n",
        "31  4  4\n",
        "32  4  4\n",
        "33  4  4\n",
        "34  4  4\n",
        "35  4  4\n",
        "36  4  4\n",
        "37  4  4\n",
        "38  4  4\n",
        "39  4  4\n",
        "40  5  5\n",
        "41  5  5\n",
        "42  5  5\n",
        "43  5  5\n",
        "44  5  5\n",
        "45  5  5\n",
        "46  5  5\n",
        "47  5  5\n",
        "48  5  5\n",
        "49  5  5\n",
        "\n",
        "[50 rows x 2 columns]"
       ]
      }
     ],
     "prompt_number": 335
    },
    {
     "cell_type": "code",
     "collapsed": false,
     "input": [
      "mat = DataFrame(np.random.randint(0,2,size=(3,3)), index=['a','b','c'], columns=['ah','nd','qw'])"
     ],
     "language": "python",
     "metadata": {},
     "outputs": [],
     "prompt_number": 346
    },
    {
     "cell_type": "code",
     "collapsed": false,
     "input": [
      "mat[mat==0]  =True"
     ],
     "language": "python",
     "metadata": {},
     "outputs": [],
     "prompt_number": 353
    },
    {
     "cell_type": "code",
     "collapsed": false,
     "input": [
      "mat"
     ],
     "language": "python",
     "metadata": {},
     "outputs": [
      {
       "html": [
        "<div style=\"max-height:1000px;max-width:1500px;overflow:auto;\">\n",
        "<table border=\"1\" class=\"dataframe\">\n",
        "  <thead>\n",
        "    <tr style=\"text-align: right;\">\n",
        "      <th></th>\n",
        "      <th>ah</th>\n",
        "      <th>nd</th>\n",
        "      <th>qw</th>\n",
        "    </tr>\n",
        "  </thead>\n",
        "  <tbody>\n",
        "    <tr>\n",
        "      <th>a</th>\n",
        "      <td> 1</td>\n",
        "      <td> 1</td>\n",
        "      <td> 1</td>\n",
        "    </tr>\n",
        "    <tr>\n",
        "      <th>b</th>\n",
        "      <td> 1</td>\n",
        "      <td> 1</td>\n",
        "      <td> 1</td>\n",
        "    </tr>\n",
        "    <tr>\n",
        "      <th>c</th>\n",
        "      <td> 1</td>\n",
        "      <td> 1</td>\n",
        "      <td> 1</td>\n",
        "    </tr>\n",
        "  </tbody>\n",
        "</table>\n",
        "<p>3 rows \u00d7 3 columns</p>\n",
        "</div>"
       ],
       "metadata": {},
       "output_type": "pyout",
       "prompt_number": 354,
       "text": [
        "   ah  nd  qw\n",
        "a   1   1   1\n",
        "b   1   1   1\n",
        "c   1   1   1\n",
        "\n",
        "[3 rows x 3 columns]"
       ]
      }
     ],
     "prompt_number": 354
    },
    {
     "cell_type": "code",
     "collapsed": false,
     "input": [
      "df1 = DataFrame(np.arange(10).reshape((2,5)), columns=list('asdgw'))"
     ],
     "language": "python",
     "metadata": {},
     "outputs": [],
     "prompt_number": 359
    },
    {
     "cell_type": "code",
     "collapsed": false,
     "input": [
      "df2 = DataFrame(np.arange(16).reshape((4,4)), columns=list('fjwh'))"
     ],
     "language": "python",
     "metadata": {},
     "outputs": [],
     "prompt_number": 360
    },
    {
     "cell_type": "code",
     "collapsed": false,
     "input": [
      "t = df1.add(df2, fill_value=0)"
     ],
     "language": "python",
     "metadata": {},
     "outputs": [],
     "prompt_number": 365
    },
    {
     "cell_type": "code",
     "collapsed": false,
     "input": [
      "obj = Series([7,-3,2,3,2,1],index=[3,2,1,6,5,4])"
     ],
     "language": "python",
     "metadata": {},
     "outputs": [],
     "prompt_number": 373
    },
    {
     "cell_type": "code",
     "collapsed": false,
     "input": [
      "obj = DataFrame(np.random.randint(0,10,size=(5,10)),index=['a','c','d','h','e'],columns=list('asdqwjknlv'))"
     ],
     "language": "python",
     "metadata": {},
     "outputs": [],
     "prompt_number": 381
    },
    {
     "cell_type": "code",
     "collapsed": false,
     "input": [
      "obj.sort()"
     ],
     "language": "python",
     "metadata": {},
     "outputs": [
      {
       "html": [
        "<div style=\"max-height:1000px;max-width:1500px;overflow:auto;\">\n",
        "<table border=\"1\" class=\"dataframe\">\n",
        "  <thead>\n",
        "    <tr style=\"text-align: right;\">\n",
        "      <th></th>\n",
        "      <th>a</th>\n",
        "      <th>s</th>\n",
        "      <th>d</th>\n",
        "      <th>q</th>\n",
        "      <th>w</th>\n",
        "      <th>j</th>\n",
        "      <th>k</th>\n",
        "      <th>n</th>\n",
        "      <th>l</th>\n",
        "      <th>v</th>\n",
        "    </tr>\n",
        "  </thead>\n",
        "  <tbody>\n",
        "    <tr>\n",
        "      <th>a</th>\n",
        "      <td> 2</td>\n",
        "      <td> 1</td>\n",
        "      <td> 5</td>\n",
        "      <td> 8</td>\n",
        "      <td> 3</td>\n",
        "      <td> 7</td>\n",
        "      <td> 1</td>\n",
        "      <td> 9</td>\n",
        "      <td> 0</td>\n",
        "      <td> 2</td>\n",
        "    </tr>\n",
        "    <tr>\n",
        "      <th>c</th>\n",
        "      <td> 6</td>\n",
        "      <td> 4</td>\n",
        "      <td> 9</td>\n",
        "      <td> 3</td>\n",
        "      <td> 8</td>\n",
        "      <td> 1</td>\n",
        "      <td> 2</td>\n",
        "      <td> 4</td>\n",
        "      <td> 5</td>\n",
        "      <td> 6</td>\n",
        "    </tr>\n",
        "    <tr>\n",
        "      <th>d</th>\n",
        "      <td> 7</td>\n",
        "      <td> 0</td>\n",
        "      <td> 5</td>\n",
        "      <td> 0</td>\n",
        "      <td> 4</td>\n",
        "      <td> 5</td>\n",
        "      <td> 9</td>\n",
        "      <td> 4</td>\n",
        "      <td> 1</td>\n",
        "      <td> 6</td>\n",
        "    </tr>\n",
        "    <tr>\n",
        "      <th>e</th>\n",
        "      <td> 3</td>\n",
        "      <td> 6</td>\n",
        "      <td> 0</td>\n",
        "      <td> 5</td>\n",
        "      <td> 6</td>\n",
        "      <td> 1</td>\n",
        "      <td> 4</td>\n",
        "      <td> 7</td>\n",
        "      <td> 4</td>\n",
        "      <td> 9</td>\n",
        "    </tr>\n",
        "    <tr>\n",
        "      <th>h</th>\n",
        "      <td> 7</td>\n",
        "      <td> 6</td>\n",
        "      <td> 6</td>\n",
        "      <td> 9</td>\n",
        "      <td> 6</td>\n",
        "      <td> 6</td>\n",
        "      <td> 8</td>\n",
        "      <td> 0</td>\n",
        "      <td> 4</td>\n",
        "      <td> 3</td>\n",
        "    </tr>\n",
        "  </tbody>\n",
        "</table>\n",
        "<p>5 rows \u00d7 10 columns</p>\n",
        "</div>"
       ],
       "metadata": {},
       "output_type": "pyout",
       "prompt_number": 394,
       "text": [
        "   a  s  d  q  w  j  k  n  l  v\n",
        "a  2  1  5  8  3  7  1  9  0  2\n",
        "c  6  4  9  3  8  1  2  4  5  6\n",
        "d  7  0  5  0  4  5  9  4  1  6\n",
        "e  3  6  0  5  6  1  4  7  4  9\n",
        "h  7  6  6  9  6  6  8  0  4  3\n",
        "\n",
        "[5 rows x 10 columns]"
       ]
      }
     ],
     "prompt_number": 394
    },
    {
     "cell_type": "code",
     "collapsed": false,
     "input": [
      "obj.sort_index()"
     ],
     "language": "python",
     "metadata": {},
     "outputs": [
      {
       "html": [
        "<div style=\"max-height:1000px;max-width:1500px;overflow:auto;\">\n",
        "<table border=\"1\" class=\"dataframe\">\n",
        "  <thead>\n",
        "    <tr style=\"text-align: right;\">\n",
        "      <th></th>\n",
        "      <th>a</th>\n",
        "      <th>s</th>\n",
        "      <th>d</th>\n",
        "      <th>q</th>\n",
        "      <th>w</th>\n",
        "      <th>j</th>\n",
        "      <th>k</th>\n",
        "      <th>n</th>\n",
        "      <th>l</th>\n",
        "      <th>v</th>\n",
        "    </tr>\n",
        "  </thead>\n",
        "  <tbody>\n",
        "    <tr>\n",
        "      <th>a</th>\n",
        "      <td> 2</td>\n",
        "      <td> 1</td>\n",
        "      <td> 5</td>\n",
        "      <td> 8</td>\n",
        "      <td> 3</td>\n",
        "      <td> 7</td>\n",
        "      <td> 1</td>\n",
        "      <td> 9</td>\n",
        "      <td> 0</td>\n",
        "      <td> 2</td>\n",
        "    </tr>\n",
        "    <tr>\n",
        "      <th>c</th>\n",
        "      <td> 6</td>\n",
        "      <td> 4</td>\n",
        "      <td> 9</td>\n",
        "      <td> 3</td>\n",
        "      <td> 8</td>\n",
        "      <td> 1</td>\n",
        "      <td> 2</td>\n",
        "      <td> 4</td>\n",
        "      <td> 5</td>\n",
        "      <td> 6</td>\n",
        "    </tr>\n",
        "    <tr>\n",
        "      <th>d</th>\n",
        "      <td> 7</td>\n",
        "      <td> 0</td>\n",
        "      <td> 5</td>\n",
        "      <td> 0</td>\n",
        "      <td> 4</td>\n",
        "      <td> 5</td>\n",
        "      <td> 9</td>\n",
        "      <td> 4</td>\n",
        "      <td> 1</td>\n",
        "      <td> 6</td>\n",
        "    </tr>\n",
        "    <tr>\n",
        "      <th>e</th>\n",
        "      <td> 3</td>\n",
        "      <td> 6</td>\n",
        "      <td> 0</td>\n",
        "      <td> 5</td>\n",
        "      <td> 6</td>\n",
        "      <td> 1</td>\n",
        "      <td> 4</td>\n",
        "      <td> 7</td>\n",
        "      <td> 4</td>\n",
        "      <td> 9</td>\n",
        "    </tr>\n",
        "    <tr>\n",
        "      <th>h</th>\n",
        "      <td> 7</td>\n",
        "      <td> 6</td>\n",
        "      <td> 6</td>\n",
        "      <td> 9</td>\n",
        "      <td> 6</td>\n",
        "      <td> 6</td>\n",
        "      <td> 8</td>\n",
        "      <td> 0</td>\n",
        "      <td> 4</td>\n",
        "      <td> 3</td>\n",
        "    </tr>\n",
        "  </tbody>\n",
        "</table>\n",
        "<p>5 rows \u00d7 10 columns</p>\n",
        "</div>"
       ],
       "metadata": {},
       "output_type": "pyout",
       "prompt_number": 395,
       "text": [
        "   a  s  d  q  w  j  k  n  l  v\n",
        "a  2  1  5  8  3  7  1  9  0  2\n",
        "c  6  4  9  3  8  1  2  4  5  6\n",
        "d  7  0  5  0  4  5  9  4  1  6\n",
        "e  3  6  0  5  6  1  4  7  4  9\n",
        "h  7  6  6  9  6  6  8  0  4  3\n",
        "\n",
        "[5 rows x 10 columns]"
       ]
      }
     ],
     "prompt_number": 395
    },
    {
     "cell_type": "code",
     "collapsed": false,
     "input": [
      "obj.describe()"
     ],
     "language": "python",
     "metadata": {},
     "outputs": [
      {
       "html": [
        "<div style=\"max-height:1000px;max-width:1500px;overflow:auto;\">\n",
        "<table border=\"1\" class=\"dataframe\">\n",
        "  <thead>\n",
        "    <tr style=\"text-align: right;\">\n",
        "      <th></th>\n",
        "      <th>a</th>\n",
        "      <th>s</th>\n",
        "      <th>d</th>\n",
        "      <th>q</th>\n",
        "      <th>w</th>\n",
        "      <th>j</th>\n",
        "      <th>k</th>\n",
        "      <th>n</th>\n",
        "      <th>l</th>\n",
        "      <th>v</th>\n",
        "    </tr>\n",
        "  </thead>\n",
        "  <tbody>\n",
        "    <tr>\n",
        "      <th>count</th>\n",
        "      <td> 5.000000</td>\n",
        "      <td> 5.000000</td>\n",
        "      <td> 5.00000</td>\n",
        "      <td> 5.000000</td>\n",
        "      <td> 5.000000</td>\n",
        "      <td> 5.000000</td>\n",
        "      <td> 5.000000</td>\n",
        "      <td> 5.000000</td>\n",
        "      <td> 5.000000</td>\n",
        "      <td> 5.000000</td>\n",
        "    </tr>\n",
        "    <tr>\n",
        "      <th>mean</th>\n",
        "      <td> 5.000000</td>\n",
        "      <td> 3.400000</td>\n",
        "      <td> 5.00000</td>\n",
        "      <td> 5.000000</td>\n",
        "      <td> 5.400000</td>\n",
        "      <td> 4.000000</td>\n",
        "      <td> 4.800000</td>\n",
        "      <td> 4.800000</td>\n",
        "      <td> 2.800000</td>\n",
        "      <td> 5.200000</td>\n",
        "    </tr>\n",
        "    <tr>\n",
        "      <th>std</th>\n",
        "      <td> 2.345208</td>\n",
        "      <td> 2.792848</td>\n",
        "      <td> 3.24037</td>\n",
        "      <td> 3.674235</td>\n",
        "      <td> 1.949359</td>\n",
        "      <td> 2.828427</td>\n",
        "      <td> 3.563706</td>\n",
        "      <td> 3.420526</td>\n",
        "      <td> 2.167948</td>\n",
        "      <td> 2.774887</td>\n",
        "    </tr>\n",
        "    <tr>\n",
        "      <th>min</th>\n",
        "      <td> 2.000000</td>\n",
        "      <td> 0.000000</td>\n",
        "      <td> 0.00000</td>\n",
        "      <td> 0.000000</td>\n",
        "      <td> 3.000000</td>\n",
        "      <td> 1.000000</td>\n",
        "      <td> 1.000000</td>\n",
        "      <td> 0.000000</td>\n",
        "      <td> 0.000000</td>\n",
        "      <td> 2.000000</td>\n",
        "    </tr>\n",
        "    <tr>\n",
        "      <th>25%</th>\n",
        "      <td> 3.000000</td>\n",
        "      <td> 1.000000</td>\n",
        "      <td> 5.00000</td>\n",
        "      <td> 3.000000</td>\n",
        "      <td> 4.000000</td>\n",
        "      <td> 1.000000</td>\n",
        "      <td> 2.000000</td>\n",
        "      <td> 4.000000</td>\n",
        "      <td> 1.000000</td>\n",
        "      <td> 3.000000</td>\n",
        "    </tr>\n",
        "    <tr>\n",
        "      <th>50%</th>\n",
        "      <td> 6.000000</td>\n",
        "      <td> 4.000000</td>\n",
        "      <td> 5.00000</td>\n",
        "      <td> 5.000000</td>\n",
        "      <td> 6.000000</td>\n",
        "      <td> 5.000000</td>\n",
        "      <td> 4.000000</td>\n",
        "      <td> 4.000000</td>\n",
        "      <td> 4.000000</td>\n",
        "      <td> 6.000000</td>\n",
        "    </tr>\n",
        "    <tr>\n",
        "      <th>75%</th>\n",
        "      <td> 7.000000</td>\n",
        "      <td> 6.000000</td>\n",
        "      <td> 6.00000</td>\n",
        "      <td> 8.000000</td>\n",
        "      <td> 6.000000</td>\n",
        "      <td> 6.000000</td>\n",
        "      <td> 8.000000</td>\n",
        "      <td> 7.000000</td>\n",
        "      <td> 4.000000</td>\n",
        "      <td> 6.000000</td>\n",
        "    </tr>\n",
        "    <tr>\n",
        "      <th>max</th>\n",
        "      <td> 7.000000</td>\n",
        "      <td> 6.000000</td>\n",
        "      <td> 9.00000</td>\n",
        "      <td> 9.000000</td>\n",
        "      <td> 8.000000</td>\n",
        "      <td> 7.000000</td>\n",
        "      <td> 9.000000</td>\n",
        "      <td> 9.000000</td>\n",
        "      <td> 5.000000</td>\n",
        "      <td> 9.000000</td>\n",
        "    </tr>\n",
        "  </tbody>\n",
        "</table>\n",
        "<p>8 rows \u00d7 10 columns</p>\n",
        "</div>"
       ],
       "metadata": {},
       "output_type": "pyout",
       "prompt_number": 398,
       "text": [
        "              a         s        d         q         w         j         k  \\\n",
        "count  5.000000  5.000000  5.00000  5.000000  5.000000  5.000000  5.000000   \n",
        "mean   5.000000  3.400000  5.00000  5.000000  5.400000  4.000000  4.800000   \n",
        "std    2.345208  2.792848  3.24037  3.674235  1.949359  2.828427  3.563706   \n",
        "min    2.000000  0.000000  0.00000  0.000000  3.000000  1.000000  1.000000   \n",
        "25%    3.000000  1.000000  5.00000  3.000000  4.000000  1.000000  2.000000   \n",
        "50%    6.000000  4.000000  5.00000  5.000000  6.000000  5.000000  4.000000   \n",
        "75%    7.000000  6.000000  6.00000  8.000000  6.000000  6.000000  8.000000   \n",
        "max    7.000000  6.000000  9.00000  9.000000  8.000000  7.000000  9.000000   \n",
        "\n",
        "              n         l         v  \n",
        "count  5.000000  5.000000  5.000000  \n",
        "mean   4.800000  2.800000  5.200000  \n",
        "std    3.420526  2.167948  2.774887  \n",
        "min    0.000000  0.000000  2.000000  \n",
        "25%    4.000000  1.000000  3.000000  \n",
        "50%    4.000000  4.000000  6.000000  \n",
        "75%    7.000000  4.000000  6.000000  \n",
        "max    9.000000  5.000000  9.000000  \n",
        "\n",
        "[8 rows x 10 columns]"
       ]
      }
     ],
     "prompt_number": 398
    },
    {
     "cell_type": "code",
     "collapsed": false,
     "input": [
      "import pandas.io.data as web"
     ],
     "language": "python",
     "metadata": {},
     "outputs": [],
     "prompt_number": 399
    },
    {
     "cell_type": "code",
     "collapsed": false,
     "input": [
      "all_data = {}\n",
      "for tiker in ['AAPL', 'IBM']:\n",
      "    all_data[tiker] = web.get_data_yahoo(tiker, '1/1/2000', '1/1/2010')"
     ],
     "language": "python",
     "metadata": {},
     "outputs": [],
     "prompt_number": 401
    },
    {
     "cell_type": "code",
     "collapsed": false,
     "input": [
      "type(all_data)"
     ],
     "language": "python",
     "metadata": {},
     "outputs": [
      {
       "metadata": {},
       "output_type": "pyout",
       "prompt_number": 404,
       "text": [
        "dict"
       ]
      }
     ],
     "prompt_number": 404
    },
    {
     "cell_type": "code",
     "collapsed": false,
     "input": [
      "price = DataFrame({tic: data['Adj Close'] for  tic,data in all_data.iteritems()})"
     ],
     "language": "python",
     "metadata": {},
     "outputs": [],
     "prompt_number": 407
    },
    {
     "cell_type": "code",
     "collapsed": false,
     "input": [
      "returns = price.pct_change()"
     ],
     "language": "python",
     "metadata": {},
     "outputs": [],
     "prompt_number": 410
    },
    {
     "cell_type": "code",
     "collapsed": false,
     "input": [
      "df = DataFrame(np.random.randn(7, 3))"
     ],
     "language": "python",
     "metadata": {},
     "outputs": [],
     "prompt_number": 426
    },
    {
     "cell_type": "code",
     "collapsed": false,
     "input": [
      "df.ix[:4, 1] = np.nan; df.ix[:2, 2] = np.nan\n",
      "df\n",
      "df.dropna(thresh=2)\n",
      "\n"
     ],
     "language": "python",
     "metadata": {},
     "outputs": [
      {
       "html": [
        "<div style=\"max-height:1000px;max-width:1500px;overflow:auto;\">\n",
        "<table border=\"1\" class=\"dataframe\">\n",
        "  <thead>\n",
        "    <tr style=\"text-align: right;\">\n",
        "      <th></th>\n",
        "      <th>0</th>\n",
        "      <th>1</th>\n",
        "      <th>2</th>\n",
        "    </tr>\n",
        "  </thead>\n",
        "  <tbody>\n",
        "    <tr>\n",
        "      <th>3</th>\n",
        "      <td>-0.093175</td>\n",
        "      <td>      NaN</td>\n",
        "      <td> 2.273447</td>\n",
        "    </tr>\n",
        "    <tr>\n",
        "      <th>4</th>\n",
        "      <td> 0.030345</td>\n",
        "      <td>      NaN</td>\n",
        "      <td> 1.051683</td>\n",
        "    </tr>\n",
        "    <tr>\n",
        "      <th>5</th>\n",
        "      <td> 0.074042</td>\n",
        "      <td>-0.626653</td>\n",
        "      <td> 0.351051</td>\n",
        "    </tr>\n",
        "    <tr>\n",
        "      <th>6</th>\n",
        "      <td> 1.565071</td>\n",
        "      <td>-0.107824</td>\n",
        "      <td> 1.539347</td>\n",
        "    </tr>\n",
        "  </tbody>\n",
        "</table>\n",
        "<p>4 rows \u00d7 3 columns</p>\n",
        "</div>"
       ],
       "metadata": {},
       "output_type": "pyout",
       "prompt_number": 433,
       "text": [
        "          0         1         2\n",
        "3 -0.093175       NaN  2.273447\n",
        "4  0.030345       NaN  1.051683\n",
        "5  0.074042 -0.626653  0.351051\n",
        "6  1.565071 -0.107824  1.539347\n",
        "\n",
        "[4 rows x 3 columns]"
       ]
      }
     ],
     "prompt_number": 433
    },
    {
     "cell_type": "code",
     "collapsed": false,
     "input": [
      "returns.corrwith(returns.IBM)"
     ],
     "language": "python",
     "metadata": {},
     "outputs": [
      {
       "metadata": {},
       "output_type": "pyout",
       "prompt_number": 417,
       "text": [
        "AAPL    0.409913\n",
        "IBM     1.000000\n",
        "dtype: float64"
       ]
      }
     ],
     "prompt_number": 417
    },
    {
     "cell_type": "code",
     "collapsed": false,
     "input": [
      "data = Series(np.random.randn(10),index=[['a', 'a', 'a', 'e', 'e', 'e', 'c', 'c', 'g', 'g'],[1,2,3,1,2,3,1,2,2,3]])\n"
     ],
     "language": "python",
     "metadata": {},
     "outputs": [],
     "prompt_number": 529
    },
    {
     "cell_type": "code",
     "collapsed": false,
     "input": [
      "data.sort_index()['a':'g']"
     ],
     "language": "python",
     "metadata": {},
     "outputs": [
      {
       "metadata": {},
       "output_type": "pyout",
       "prompt_number": 535,
       "text": [
        "a  1   -0.172887\n",
        "   2    0.015992\n",
        "   3    1.125347\n",
        "c  1   -0.276114\n",
        "   2    0.441497\n",
        "e  1    0.642924\n",
        "   2    0.179327\n",
        "   3    0.603837\n",
        "g  2   -0.418315\n",
        "   3   -2.115305\n",
        "dtype: float64"
       ]
      }
     ],
     "prompt_number": 535
    },
    {
     "cell_type": "code",
     "collapsed": false,
     "input": [
      "data.index"
     ],
     "language": "python",
     "metadata": {},
     "outputs": [
      {
       "metadata": {},
       "output_type": "pyout",
       "prompt_number": 436,
       "text": [
        "MultiIndex(levels=[[u'a', u'b', u'c', u'd'], [1, 2, 3]],\n",
        "           labels=[[0, 0, 0, 1, 1, 1, 2, 2, 3, 3], [0, 1, 2, 0, 1, 2, 0, 1, 1, 2]])"
       ]
      }
     ],
     "prompt_number": 436
    },
    {
     "cell_type": "code",
     "collapsed": false,
     "input": [
      "frame = DataFrame(np.arange(12).reshape((4, 3)),\n",
      "index=[['a', 'a', 'b', 'b'], [1, 2, 1, 2]],\n",
      "columns=[['Ohio', 'Ohio', 'Colorado'],\n",
      "['Green', 'Red', 'Green']])\n"
     ],
     "language": "python",
     "metadata": {},
     "outputs": [],
     "prompt_number": 439
    },
    {
     "cell_type": "code",
     "collapsed": false,
     "input": [
      "frame.index.names = ['key1','key2']"
     ],
     "language": "python",
     "metadata": {},
     "outputs": [],
     "prompt_number": 442
    },
    {
     "cell_type": "code",
     "collapsed": false,
     "input": [
      "frame.columns.names = ['state','color']"
     ],
     "language": "python",
     "metadata": {},
     "outputs": [],
     "prompt_number": 443
    },
    {
     "cell_type": "code",
     "collapsed": false,
     "input": [
      "frame"
     ],
     "language": "python",
     "metadata": {},
     "outputs": [
      {
       "html": [
        "<div style=\"max-height:1000px;max-width:1500px;overflow:auto;\">\n",
        "<table border=\"1\" class=\"dataframe\">\n",
        "  <thead>\n",
        "    <tr>\n",
        "      <th></th>\n",
        "      <th>state</th>\n",
        "      <th colspan=\"2\" halign=\"left\">Ohio</th>\n",
        "      <th>Colorado</th>\n",
        "    </tr>\n",
        "    <tr>\n",
        "      <th></th>\n",
        "      <th>color</th>\n",
        "      <th>Green</th>\n",
        "      <th>Red</th>\n",
        "      <th>Green</th>\n",
        "    </tr>\n",
        "    <tr>\n",
        "      <th>key1</th>\n",
        "      <th>key2</th>\n",
        "      <th></th>\n",
        "      <th></th>\n",
        "      <th></th>\n",
        "    </tr>\n",
        "  </thead>\n",
        "  <tbody>\n",
        "    <tr>\n",
        "      <th rowspan=\"2\" valign=\"top\">a</th>\n",
        "      <th>1</th>\n",
        "      <td> 0</td>\n",
        "      <td>  1</td>\n",
        "      <td>  2</td>\n",
        "    </tr>\n",
        "    <tr>\n",
        "      <th>2</th>\n",
        "      <td> 3</td>\n",
        "      <td>  4</td>\n",
        "      <td>  5</td>\n",
        "    </tr>\n",
        "    <tr>\n",
        "      <th rowspan=\"2\" valign=\"top\">b</th>\n",
        "      <th>1</th>\n",
        "      <td> 6</td>\n",
        "      <td>  7</td>\n",
        "      <td>  8</td>\n",
        "    </tr>\n",
        "    <tr>\n",
        "      <th>2</th>\n",
        "      <td> 9</td>\n",
        "      <td> 10</td>\n",
        "      <td> 11</td>\n",
        "    </tr>\n",
        "  </tbody>\n",
        "</table>\n",
        "<p>4 rows \u00d7 3 columns</p>\n",
        "</div>"
       ],
       "metadata": {},
       "output_type": "pyout",
       "prompt_number": 445,
       "text": [
        "state       Ohio       Colorado\n",
        "color      Green  Red     Green\n",
        "key1 key2                      \n",
        "a    1         0    1         2\n",
        "     2         3    4         5\n",
        "b    1         6    7         8\n",
        "     2         9   10        11\n",
        "\n",
        "[4 rows x 3 columns]"
       ]
      }
     ],
     "prompt_number": 445
    },
    {
     "cell_type": "code",
     "collapsed": false,
     "input": [
      "%timeit frame.Ohio.Green"
     ],
     "language": "python",
     "metadata": {},
     "outputs": [
      {
       "output_type": "stream",
       "stream": "stdout",
       "text": [
        "1000 loops, best of 3: 445 \u00b5s per loop\n"
       ]
      }
     ],
     "prompt_number": 449
    },
    {
     "cell_type": "code",
     "collapsed": false,
     "input": [
      "frame.swaplevel(0,1,axis=1).sortlevel(0,axis=1)"
     ],
     "language": "python",
     "metadata": {},
     "outputs": [
      {
       "html": [
        "<div style=\"max-height:1000px;max-width:1500px;overflow:auto;\">\n",
        "<table border=\"1\" class=\"dataframe\">\n",
        "  <thead>\n",
        "    <tr>\n",
        "      <th></th>\n",
        "      <th>color</th>\n",
        "      <th colspan=\"2\" halign=\"left\">Green</th>\n",
        "      <th>Red</th>\n",
        "    </tr>\n",
        "    <tr>\n",
        "      <th></th>\n",
        "      <th>state</th>\n",
        "      <th>Colorado</th>\n",
        "      <th>Ohio</th>\n",
        "      <th>Ohio</th>\n",
        "    </tr>\n",
        "    <tr>\n",
        "      <th>key1</th>\n",
        "      <th>key2</th>\n",
        "      <th></th>\n",
        "      <th></th>\n",
        "      <th></th>\n",
        "    </tr>\n",
        "  </thead>\n",
        "  <tbody>\n",
        "    <tr>\n",
        "      <th rowspan=\"2\" valign=\"top\">a</th>\n",
        "      <th>1</th>\n",
        "      <td>  2</td>\n",
        "      <td> 0</td>\n",
        "      <td>  1</td>\n",
        "    </tr>\n",
        "    <tr>\n",
        "      <th>2</th>\n",
        "      <td>  5</td>\n",
        "      <td> 3</td>\n",
        "      <td>  4</td>\n",
        "    </tr>\n",
        "    <tr>\n",
        "      <th rowspan=\"2\" valign=\"top\">b</th>\n",
        "      <th>1</th>\n",
        "      <td>  8</td>\n",
        "      <td> 6</td>\n",
        "      <td>  7</td>\n",
        "    </tr>\n",
        "    <tr>\n",
        "      <th>2</th>\n",
        "      <td> 11</td>\n",
        "      <td> 9</td>\n",
        "      <td> 10</td>\n",
        "    </tr>\n",
        "  </tbody>\n",
        "</table>\n",
        "<p>4 rows \u00d7 3 columns</p>\n",
        "</div>"
       ],
       "metadata": {},
       "output_type": "pyout",
       "prompt_number": 457,
       "text": [
        "color         Green         Red\n",
        "state      Colorado  Ohio  Ohio\n",
        "key1 key2                      \n",
        "a    1            2     0     1\n",
        "     2            5     3     4\n",
        "b    1            8     6     7\n",
        "     2           11     9    10\n",
        "\n",
        "[4 rows x 3 columns]"
       ]
      }
     ],
     "prompt_number": 457
    },
    {
     "cell_type": "code",
     "collapsed": false,
     "input": [
      "A= frame.set_index('Colorado',drop=False)#.swaplevel(0,1)"
     ],
     "language": "python",
     "metadata": {},
     "outputs": [],
     "prompt_number": 469
    },
    {
     "cell_type": "code",
     "collapsed": false,
     "input": [
      "C = A.reset_index().reset_index()"
     ],
     "language": "python",
     "metadata": {},
     "outputs": [],
     "prompt_number": 473
    },
    {
     "cell_type": "code",
     "collapsed": false,
     "input": [
      "A.reset_index()"
     ],
     "language": "python",
     "metadata": {},
     "outputs": [
      {
       "html": [
        "<div style=\"max-height:1000px;max-width:1500px;overflow:auto;\">\n",
        "<table border=\"1\" class=\"dataframe\">\n",
        "  <thead>\n",
        "    <tr>\n",
        "      <th>state</th>\n",
        "      <th>Colorado</th>\n",
        "      <th colspan=\"2\" halign=\"left\">Ohio</th>\n",
        "      <th>Colorado</th>\n",
        "    </tr>\n",
        "    <tr>\n",
        "      <th>color</th>\n",
        "      <th></th>\n",
        "      <th>Green</th>\n",
        "      <th>Red</th>\n",
        "      <th>Green</th>\n",
        "    </tr>\n",
        "  </thead>\n",
        "  <tbody>\n",
        "    <tr>\n",
        "      <th>0</th>\n",
        "      <td>  2</td>\n",
        "      <td> 0</td>\n",
        "      <td>  1</td>\n",
        "      <td>  2</td>\n",
        "    </tr>\n",
        "    <tr>\n",
        "      <th>1</th>\n",
        "      <td>  5</td>\n",
        "      <td> 3</td>\n",
        "      <td>  4</td>\n",
        "      <td>  5</td>\n",
        "    </tr>\n",
        "    <tr>\n",
        "      <th>2</th>\n",
        "      <td>  8</td>\n",
        "      <td> 6</td>\n",
        "      <td>  7</td>\n",
        "      <td>  8</td>\n",
        "    </tr>\n",
        "    <tr>\n",
        "      <th>3</th>\n",
        "      <td> 11</td>\n",
        "      <td> 9</td>\n",
        "      <td> 10</td>\n",
        "      <td> 11</td>\n",
        "    </tr>\n",
        "  </tbody>\n",
        "</table>\n",
        "<p>4 rows \u00d7 4 columns</p>\n",
        "</div>"
       ],
       "metadata": {},
       "output_type": "pyout",
       "prompt_number": 481,
       "text": [
        "state  Colorado   Ohio       Colorado\n",
        "color            Green  Red     Green\n",
        "0             2      0    1         2\n",
        "1             5      3    4         5\n",
        "2             8      6    7         8\n",
        "3            11      9   10        11\n",
        "\n",
        "[4 rows x 4 columns]"
       ]
      }
     ],
     "prompt_number": 481
    },
    {
     "cell_type": "code",
     "collapsed": false,
     "input": [
      "kk = Series(np.arange(3), index=['a','b','c'])"
     ],
     "language": "python",
     "metadata": {},
     "outputs": [],
     "prompt_number": 483
    },
    {
     "cell_type": "code",
     "collapsed": false,
     "input": [
      "kk.ix[:-1]"
     ],
     "language": "python",
     "metadata": {},
     "outputs": [
      {
       "metadata": {},
       "output_type": "pyout",
       "prompt_number": 487,
       "text": [
        "a    0\n",
        "b    1\n",
        "dtype: int64"
       ]
      }
     ],
     "prompt_number": 487
    },
    {
     "cell_type": "code",
     "collapsed": false,
     "input": [
      "ser3= Series(range(3),index=[1,2,3])"
     ],
     "language": "python",
     "metadata": {},
     "outputs": [],
     "prompt_number": 488
    },
    {
     "cell_type": "code",
     "collapsed": false,
     "input": [
      "frame = DataFrame(np.arange(6).reshape(3,2),index=[4,6,3])"
     ],
     "language": "python",
     "metadata": {},
     "outputs": [],
     "prompt_number": 503
    },
    {
     "cell_type": "code",
     "collapsed": false,
     "input": [
      "frame.iget_value(2,1)"
     ],
     "language": "python",
     "metadata": {},
     "outputs": [
      {
       "metadata": {},
       "output_type": "pyout",
       "prompt_number": 509,
       "text": [
        "5"
       ]
      }
     ],
     "prompt_number": 509
    },
    {
     "cell_type": "code",
     "collapsed": false,
     "input": [
      "C.sortlevel(level = 0,axis=1)"
     ],
     "language": "python",
     "metadata": {},
     "outputs": [
      {
       "html": [
        "<div style=\"max-height:1000px;max-width:1500px;overflow:auto;\">\n",
        "<table border=\"1\" class=\"dataframe\">\n",
        "  <thead>\n",
        "    <tr>\n",
        "      <th>state</th>\n",
        "      <th colspan=\"2\" halign=\"left\">Colorado</th>\n",
        "      <th colspan=\"2\" halign=\"left\">Ohio</th>\n",
        "      <th>index</th>\n",
        "    </tr>\n",
        "    <tr>\n",
        "      <th>color</th>\n",
        "      <th>Green</th>\n",
        "      <th></th>\n",
        "      <th>Green</th>\n",
        "      <th>Red</th>\n",
        "      <th></th>\n",
        "    </tr>\n",
        "  </thead>\n",
        "  <tbody>\n",
        "    <tr>\n",
        "      <th>0</th>\n",
        "      <td>  2</td>\n",
        "      <td>  2</td>\n",
        "      <td> 0</td>\n",
        "      <td>  1</td>\n",
        "      <td> 0</td>\n",
        "    </tr>\n",
        "    <tr>\n",
        "      <th>1</th>\n",
        "      <td>  5</td>\n",
        "      <td>  5</td>\n",
        "      <td> 3</td>\n",
        "      <td>  4</td>\n",
        "      <td> 1</td>\n",
        "    </tr>\n",
        "    <tr>\n",
        "      <th>2</th>\n",
        "      <td>  8</td>\n",
        "      <td>  8</td>\n",
        "      <td> 6</td>\n",
        "      <td>  7</td>\n",
        "      <td> 2</td>\n",
        "    </tr>\n",
        "    <tr>\n",
        "      <th>3</th>\n",
        "      <td> 11</td>\n",
        "      <td> 11</td>\n",
        "      <td> 9</td>\n",
        "      <td> 10</td>\n",
        "      <td> 3</td>\n",
        "    </tr>\n",
        "  </tbody>\n",
        "</table>\n",
        "<p>4 rows \u00d7 5 columns</p>\n",
        "</div>"
       ],
       "metadata": {},
       "output_type": "pyout",
       "prompt_number": 478,
       "text": [
        "state  Colorado       Ohio       index\n",
        "color     Green      Green  Red       \n",
        "0             2   2      0    1      0\n",
        "1             5   5      3    4      1\n",
        "2             8   8      6    7      2\n",
        "3            11  11      9   10      3\n",
        "\n",
        "[4 rows x 5 columns]"
       ]
      }
     ],
     "prompt_number": 478
    },
    {
     "cell_type": "code",
     "collapsed": false,
     "input": [
      "A = C.describe()\n"
     ],
     "language": "python",
     "metadata": {},
     "outputs": [],
     "prompt_number": 549
    },
    {
     "cell_type": "code",
     "collapsed": false,
     "input": [],
     "language": "python",
     "metadata": {},
     "outputs": []
    },
    {
     "cell_type": "code",
     "collapsed": false,
     "input": [
      "A.swapaxes(0,1)"
     ],
     "language": "python",
     "metadata": {},
     "outputs": [
      {
       "html": [
        "<div style=\"max-height:1000px;max-width:1500px;overflow:auto;\">\n",
        "<table border=\"1\" class=\"dataframe\">\n",
        "  <thead>\n",
        "    <tr style=\"text-align: right;\">\n",
        "      <th></th>\n",
        "      <th></th>\n",
        "      <th>count</th>\n",
        "      <th>mean</th>\n",
        "      <th>std</th>\n",
        "      <th>min</th>\n",
        "      <th>25%</th>\n",
        "      <th>50%</th>\n",
        "      <th>75%</th>\n",
        "      <th>max</th>\n",
        "    </tr>\n",
        "    <tr>\n",
        "      <th>state</th>\n",
        "      <th>color</th>\n",
        "      <th></th>\n",
        "      <th></th>\n",
        "      <th></th>\n",
        "      <th></th>\n",
        "      <th></th>\n",
        "      <th></th>\n",
        "      <th></th>\n",
        "      <th></th>\n",
        "    </tr>\n",
        "  </thead>\n",
        "  <tbody>\n",
        "    <tr>\n",
        "      <th>index</th>\n",
        "      <th></th>\n",
        "      <td> 4</td>\n",
        "      <td> 1.5</td>\n",
        "      <td> 1.290994</td>\n",
        "      <td> 0</td>\n",
        "      <td> 0.75</td>\n",
        "      <td> 1.5</td>\n",
        "      <td> 2.25</td>\n",
        "      <td>  3</td>\n",
        "    </tr>\n",
        "    <tr>\n",
        "      <th>Colorado</th>\n",
        "      <th></th>\n",
        "      <td> 4</td>\n",
        "      <td> 6.5</td>\n",
        "      <td> 3.872983</td>\n",
        "      <td> 2</td>\n",
        "      <td> 4.25</td>\n",
        "      <td> 6.5</td>\n",
        "      <td> 8.75</td>\n",
        "      <td> 11</td>\n",
        "    </tr>\n",
        "    <tr>\n",
        "      <th rowspan=\"2\" valign=\"top\">Ohio</th>\n",
        "      <th>Green</th>\n",
        "      <td> 4</td>\n",
        "      <td> 4.5</td>\n",
        "      <td> 3.872983</td>\n",
        "      <td> 0</td>\n",
        "      <td> 2.25</td>\n",
        "      <td> 4.5</td>\n",
        "      <td> 6.75</td>\n",
        "      <td>  9</td>\n",
        "    </tr>\n",
        "    <tr>\n",
        "      <th>Red</th>\n",
        "      <td> 4</td>\n",
        "      <td> 5.5</td>\n",
        "      <td> 3.872983</td>\n",
        "      <td> 1</td>\n",
        "      <td> 3.25</td>\n",
        "      <td> 5.5</td>\n",
        "      <td> 7.75</td>\n",
        "      <td> 10</td>\n",
        "    </tr>\n",
        "    <tr>\n",
        "      <th>Colorado</th>\n",
        "      <th>Green</th>\n",
        "      <td> 4</td>\n",
        "      <td> 6.5</td>\n",
        "      <td> 3.872983</td>\n",
        "      <td> 2</td>\n",
        "      <td> 4.25</td>\n",
        "      <td> 6.5</td>\n",
        "      <td> 8.75</td>\n",
        "      <td> 11</td>\n",
        "    </tr>\n",
        "  </tbody>\n",
        "</table>\n",
        "<p>5 rows \u00d7 8 columns</p>\n",
        "</div>"
       ],
       "metadata": {},
       "output_type": "pyout",
       "prompt_number": 550,
       "text": [
        "                count  mean       std  min   25%  50%   75%  max\n",
        "state    color                                                  \n",
        "index               4   1.5  1.290994    0  0.75  1.5  2.25    3\n",
        "Colorado            4   6.5  3.872983    2  4.25  6.5  8.75   11\n",
        "Ohio     Green      4   4.5  3.872983    0  2.25  4.5  6.75    9\n",
        "         Red        4   5.5  3.872983    1  3.25  5.5  7.75   10\n",
        "Colorado Green      4   6.5  3.872983    2  4.25  6.5  8.75   11\n",
        "\n",
        "[5 rows x 8 columns]"
       ]
      }
     ],
     "prompt_number": 550
    },
    {
     "cell_type": "code",
     "collapsed": false,
     "input": [
      "pdata = pd.Panel(dict((stk, web.get_data_yahoo(stk, '1/1/2009', '6/1/2012'))\n",
      "for stk in ['AAPL', 'GOOG', 'MSFT', 'DELL']))\n"
     ],
     "language": "python",
     "metadata": {},
     "outputs": [],
     "prompt_number": 536
    },
    {
     "cell_type": "code",
     "collapsed": false,
     "input": [
      "pdata"
     ],
     "language": "python",
     "metadata": {},
     "outputs": [
      {
       "metadata": {},
       "output_type": "pyout",
       "prompt_number": 541,
       "text": [
        "<class 'pandas.core.panel.Panel'>\n",
        "Dimensions: 4 (items) x 861 (major_axis) x 6 (minor_axis)\n",
        "Items axis: AAPL to MSFT\n",
        "Major_axis axis: 2009-01-02 00:00:00 to 2012-06-01 00:00:00\n",
        "Minor_axis axis: Open to Adj Close"
       ]
      }
     ],
     "prompt_number": 541
    },
    {
     "cell_type": "code",
     "collapsed": false,
     "input": [
      "pdata = pdata.swapaxes(1,2)"
     ],
     "language": "python",
     "metadata": {},
     "outputs": [],
     "prompt_number": 558
    },
    {
     "cell_type": "code",
     "collapsed": false,
     "input": [
      "pdata['Adj Close']"
     ],
     "language": "python",
     "metadata": {},
     "outputs": [
      {
       "html": [
        "<div style=\"max-height:1000px;max-width:1500px;overflow:auto;\">\n",
        "<table border=\"1\" class=\"dataframe\">\n",
        "  <thead>\n",
        "    <tr style=\"text-align: right;\">\n",
        "      <th>Date</th>\n",
        "      <th>2009-01-02 00:00:00</th>\n",
        "      <th>2009-01-05 00:00:00</th>\n",
        "      <th>2009-01-06 00:00:00</th>\n",
        "      <th>2009-01-07 00:00:00</th>\n",
        "      <th>2009-01-08 00:00:00</th>\n",
        "      <th>2009-01-09 00:00:00</th>\n",
        "      <th>2009-01-12 00:00:00</th>\n",
        "      <th>2009-01-13 00:00:00</th>\n",
        "      <th>2009-01-14 00:00:00</th>\n",
        "      <th>2009-01-15 00:00:00</th>\n",
        "      <th>2009-01-16 00:00:00</th>\n",
        "      <th>2009-01-20 00:00:00</th>\n",
        "      <th>2009-01-21 00:00:00</th>\n",
        "      <th>2009-01-22 00:00:00</th>\n",
        "      <th>2009-01-23 00:00:00</th>\n",
        "      <th>2009-01-26 00:00:00</th>\n",
        "      <th>2009-01-27 00:00:00</th>\n",
        "      <th>2009-01-28 00:00:00</th>\n",
        "      <th>2009-01-29 00:00:00</th>\n",
        "      <th>2009-01-30 00:00:00</th>\n",
        "      <th></th>\n",
        "    </tr>\n",
        "  </thead>\n",
        "  <tbody>\n",
        "    <tr>\n",
        "      <th>AAPL</th>\n",
        "      <td>  87.22</td>\n",
        "      <td>  90.91</td>\n",
        "      <td>  89.41</td>\n",
        "      <td>  87.47</td>\n",
        "      <td>  89.10</td>\n",
        "      <td>  87.06</td>\n",
        "      <td>  85.22</td>\n",
        "      <td>  84.30</td>\n",
        "      <td>  82.02</td>\n",
        "      <td>  80.14</td>\n",
        "      <td>  79.13</td>\n",
        "      <td>  75.16</td>\n",
        "      <td>  79.61</td>\n",
        "      <td>  84.93</td>\n",
        "      <td>  84.93</td>\n",
        "      <td>  86.16</td>\n",
        "      <td>  87.21</td>\n",
        "      <td>  90.54</td>\n",
        "      <td>  89.39</td>\n",
        "      <td>  86.63</td>\n",
        "      <td>...</td>\n",
        "    </tr>\n",
        "    <tr>\n",
        "      <th>DELL</th>\n",
        "      <td>  10.40</td>\n",
        "      <td>  10.26</td>\n",
        "      <td>  10.69</td>\n",
        "      <td>  10.79</td>\n",
        "      <td>  10.90</td>\n",
        "      <td>  10.76</td>\n",
        "      <td>  10.30</td>\n",
        "      <td>  10.41</td>\n",
        "      <td>   9.97</td>\n",
        "      <td>  10.20</td>\n",
        "      <td>   9.93</td>\n",
        "      <td>   9.53</td>\n",
        "      <td>   9.87</td>\n",
        "      <td>   9.65</td>\n",
        "      <td>   9.81</td>\n",
        "      <td>   9.97</td>\n",
        "      <td>   9.74</td>\n",
        "      <td>  10.52</td>\n",
        "      <td>   9.63</td>\n",
        "      <td>   9.19</td>\n",
        "      <td>...</td>\n",
        "    </tr>\n",
        "    <tr>\n",
        "      <th>GOOG</th>\n",
        "      <td> 321.32</td>\n",
        "      <td> 328.05</td>\n",
        "      <td> 334.06</td>\n",
        "      <td> 322.01</td>\n",
        "      <td> 325.19</td>\n",
        "      <td> 315.07</td>\n",
        "      <td> 312.69</td>\n",
        "      <td> 314.32</td>\n",
        "      <td> 300.97</td>\n",
        "      <td> 298.99</td>\n",
        "      <td> 299.67</td>\n",
        "      <td> 282.75</td>\n",
        "      <td> 303.08</td>\n",
        "      <td> 306.50</td>\n",
        "      <td> 324.70</td>\n",
        "      <td> 323.87</td>\n",
        "      <td> 331.48</td>\n",
        "      <td> 348.67</td>\n",
        "      <td> 343.32</td>\n",
        "      <td> 338.53</td>\n",
        "      <td>...</td>\n",
        "    </tr>\n",
        "    <tr>\n",
        "      <th>MSFT</th>\n",
        "      <td>  17.76</td>\n",
        "      <td>  17.93</td>\n",
        "      <td>  18.13</td>\n",
        "      <td>  17.04</td>\n",
        "      <td>  17.58</td>\n",
        "      <td>  17.05</td>\n",
        "      <td>  17.01</td>\n",
        "      <td>  17.31</td>\n",
        "      <td>  16.68</td>\n",
        "      <td>  16.81</td>\n",
        "      <td>  17.22</td>\n",
        "      <td>  16.14</td>\n",
        "      <td>  16.93</td>\n",
        "      <td>  14.95</td>\n",
        "      <td>  15.03</td>\n",
        "      <td>  15.40</td>\n",
        "      <td>  15.43</td>\n",
        "      <td>  15.76</td>\n",
        "      <td>  15.37</td>\n",
        "      <td>  14.94</td>\n",
        "      <td>...</td>\n",
        "    </tr>\n",
        "  </tbody>\n",
        "</table>\n",
        "<p>4 rows \u00d7 861 columns</p>\n",
        "</div>"
       ],
       "metadata": {},
       "output_type": "pyout",
       "prompt_number": 559,
       "text": [
        "Date  2009-01-02  2009-01-05  2009-01-06  2009-01-07  2009-01-08  2009-01-09  \\\n",
        "AAPL       87.22       90.91       89.41       87.47       89.10       87.06   \n",
        "DELL       10.40       10.26       10.69       10.79       10.90       10.76   \n",
        "GOOG      321.32      328.05      334.06      322.01      325.19      315.07   \n",
        "MSFT       17.76       17.93       18.13       17.04       17.58       17.05   \n",
        "\n",
        "Date  2009-01-12  2009-01-13  2009-01-14  2009-01-15  2009-01-16  2009-01-20  \\\n",
        "AAPL       85.22       84.30       82.02       80.14       79.13       75.16   \n",
        "DELL       10.30       10.41        9.97       10.20        9.93        9.53   \n",
        "GOOG      312.69      314.32      300.97      298.99      299.67      282.75   \n",
        "MSFT       17.01       17.31       16.68       16.81       17.22       16.14   \n",
        "\n",
        "Date  2009-01-21  2009-01-22  2009-01-23  2009-01-26  2009-01-27  2009-01-28  \\\n",
        "AAPL       79.61       84.93       84.93       86.16       87.21       90.54   \n",
        "DELL        9.87        9.65        9.81        9.97        9.74       10.52   \n",
        "GOOG      303.08      306.50      324.70      323.87      331.48      348.67   \n",
        "MSFT       16.93       14.95       15.03       15.40       15.43       15.76   \n",
        "\n",
        "Date  2009-01-29  2009-01-30      \n",
        "AAPL       89.39       86.63 ...  \n",
        "DELL        9.63        9.19 ...  \n",
        "GOOG      343.32      338.53 ...  \n",
        "MSFT       15.37       14.94 ...  \n",
        "\n",
        "[4 rows x 861 columns]"
       ]
      }
     ],
     "prompt_number": 559
    },
    {
     "cell_type": "code",
     "collapsed": false,
     "input": [
      "pdata.to_frame()"
     ],
     "language": "python",
     "metadata": {},
     "outputs": [
      {
       "html": [
        "<div style=\"max-height:1000px;max-width:1500px;overflow:auto;\">\n",
        "<table border=\"1\" class=\"dataframe\">\n",
        "  <thead>\n",
        "    <tr style=\"text-align: right;\">\n",
        "      <th></th>\n",
        "      <th></th>\n",
        "      <th>Open</th>\n",
        "      <th>High</th>\n",
        "      <th>Low</th>\n",
        "      <th>Close</th>\n",
        "      <th>Volume</th>\n",
        "      <th>Adj Close</th>\n",
        "    </tr>\n",
        "    <tr>\n",
        "      <th>major</th>\n",
        "      <th>Date</th>\n",
        "      <th></th>\n",
        "      <th></th>\n",
        "      <th></th>\n",
        "      <th></th>\n",
        "      <th></th>\n",
        "      <th></th>\n",
        "    </tr>\n",
        "  </thead>\n",
        "  <tbody>\n",
        "    <tr>\n",
        "      <th rowspan=\"60\" valign=\"top\">AAPL</th>\n",
        "      <th>2009-01-02</th>\n",
        "      <td>  85.88</td>\n",
        "      <td>  91.04</td>\n",
        "      <td>  85.16</td>\n",
        "      <td>  90.75</td>\n",
        "      <td> 26643400</td>\n",
        "      <td>  87.22</td>\n",
        "    </tr>\n",
        "    <tr>\n",
        "      <th>2009-01-05</th>\n",
        "      <td>  93.17</td>\n",
        "      <td>  96.18</td>\n",
        "      <td>  92.71</td>\n",
        "      <td>  94.58</td>\n",
        "      <td> 42200300</td>\n",
        "      <td>  90.91</td>\n",
        "    </tr>\n",
        "    <tr>\n",
        "      <th>2009-01-06</th>\n",
        "      <td>  95.95</td>\n",
        "      <td>  97.17</td>\n",
        "      <td>  92.39</td>\n",
        "      <td>  93.02</td>\n",
        "      <td> 46046800</td>\n",
        "      <td>  89.41</td>\n",
        "    </tr>\n",
        "    <tr>\n",
        "      <th>2009-01-07</th>\n",
        "      <td>  91.81</td>\n",
        "      <td>  92.50</td>\n",
        "      <td>  90.26</td>\n",
        "      <td>  91.01</td>\n",
        "      <td> 26894600</td>\n",
        "      <td>  87.47</td>\n",
        "    </tr>\n",
        "    <tr>\n",
        "      <th>2009-01-08</th>\n",
        "      <td>  90.43</td>\n",
        "      <td>  93.15</td>\n",
        "      <td>  90.04</td>\n",
        "      <td>  92.70</td>\n",
        "      <td> 23912000</td>\n",
        "      <td>  89.10</td>\n",
        "    </tr>\n",
        "    <tr>\n",
        "      <th>2009-01-09</th>\n",
        "      <td>  93.21</td>\n",
        "      <td>  93.38</td>\n",
        "      <td>  90.14</td>\n",
        "      <td>  90.58</td>\n",
        "      <td> 19530200</td>\n",
        "      <td>  87.06</td>\n",
        "    </tr>\n",
        "    <tr>\n",
        "      <th>2009-01-12</th>\n",
        "      <td>  90.46</td>\n",
        "      <td>  90.99</td>\n",
        "      <td>  87.55</td>\n",
        "      <td>  88.66</td>\n",
        "      <td> 22061300</td>\n",
        "      <td>  85.22</td>\n",
        "    </tr>\n",
        "    <tr>\n",
        "      <th>2009-01-13</th>\n",
        "      <td>  88.24</td>\n",
        "      <td>  89.74</td>\n",
        "      <td>  86.35</td>\n",
        "      <td>  87.71</td>\n",
        "      <td> 28514200</td>\n",
        "      <td>  84.30</td>\n",
        "    </tr>\n",
        "    <tr>\n",
        "      <th>2009-01-14</th>\n",
        "      <td>  86.24</td>\n",
        "      <td>  87.25</td>\n",
        "      <td>  84.72</td>\n",
        "      <td>  85.33</td>\n",
        "      <td> 36488000</td>\n",
        "      <td>  82.02</td>\n",
        "    </tr>\n",
        "    <tr>\n",
        "      <th>2009-01-15</th>\n",
        "      <td>  80.57</td>\n",
        "      <td>  84.12</td>\n",
        "      <td>  80.05</td>\n",
        "      <td>  83.38</td>\n",
        "      <td> 65415500</td>\n",
        "      <td>  80.14</td>\n",
        "    </tr>\n",
        "    <tr>\n",
        "      <th>2009-01-16</th>\n",
        "      <td>  84.30</td>\n",
        "      <td>  84.38</td>\n",
        "      <td>  80.40</td>\n",
        "      <td>  82.33</td>\n",
        "      <td> 37415200</td>\n",
        "      <td>  79.13</td>\n",
        "    </tr>\n",
        "    <tr>\n",
        "      <th>2009-01-20</th>\n",
        "      <td>  81.93</td>\n",
        "      <td>  82.00</td>\n",
        "      <td>  78.20</td>\n",
        "      <td>  78.20</td>\n",
        "      <td> 32854100</td>\n",
        "      <td>  75.16</td>\n",
        "    </tr>\n",
        "    <tr>\n",
        "      <th>2009-01-21</th>\n",
        "      <td>  79.39</td>\n",
        "      <td>  82.88</td>\n",
        "      <td>  79.31</td>\n",
        "      <td>  82.83</td>\n",
        "      <td> 38902500</td>\n",
        "      <td>  79.61</td>\n",
        "    </tr>\n",
        "    <tr>\n",
        "      <th>2009-01-22</th>\n",
        "      <td>  88.04</td>\n",
        "      <td>  90.00</td>\n",
        "      <td>  85.82</td>\n",
        "      <td>  88.36</td>\n",
        "      <td> 50340300</td>\n",
        "      <td>  84.93</td>\n",
        "    </tr>\n",
        "    <tr>\n",
        "      <th>2009-01-23</th>\n",
        "      <td>  86.82</td>\n",
        "      <td>  89.87</td>\n",
        "      <td>  86.50</td>\n",
        "      <td>  88.36</td>\n",
        "      <td> 27277500</td>\n",
        "      <td>  84.93</td>\n",
        "    </tr>\n",
        "    <tr>\n",
        "      <th>2009-01-26</th>\n",
        "      <td>  88.86</td>\n",
        "      <td>  90.97</td>\n",
        "      <td>  88.30</td>\n",
        "      <td>  89.64</td>\n",
        "      <td> 24722800</td>\n",
        "      <td>  86.16</td>\n",
        "    </tr>\n",
        "    <tr>\n",
        "      <th>2009-01-27</th>\n",
        "      <td>  90.19</td>\n",
        "      <td>  91.55</td>\n",
        "      <td>  89.74</td>\n",
        "      <td>  90.73</td>\n",
        "      <td> 22072800</td>\n",
        "      <td>  87.21</td>\n",
        "    </tr>\n",
        "    <tr>\n",
        "      <th>2009-01-28</th>\n",
        "      <td>  92.12</td>\n",
        "      <td>  95.00</td>\n",
        "      <td>  91.50</td>\n",
        "      <td>  94.20</td>\n",
        "      <td> 30764500</td>\n",
        "      <td>  90.54</td>\n",
        "    </tr>\n",
        "    <tr>\n",
        "      <th>2009-01-29</th>\n",
        "      <td>  93.09</td>\n",
        "      <td>  94.34</td>\n",
        "      <td>  92.60</td>\n",
        "      <td>  93.00</td>\n",
        "      <td> 21168900</td>\n",
        "      <td>  89.39</td>\n",
        "    </tr>\n",
        "    <tr>\n",
        "      <th>2009-01-30</th>\n",
        "      <td>  92.60</td>\n",
        "      <td>  93.62</td>\n",
        "      <td>  90.01</td>\n",
        "      <td>  90.13</td>\n",
        "      <td> 23267100</td>\n",
        "      <td>  86.63</td>\n",
        "    </tr>\n",
        "    <tr>\n",
        "      <th>2009-02-02</th>\n",
        "      <td>  89.10</td>\n",
        "      <td>  92.00</td>\n",
        "      <td>  88.90</td>\n",
        "      <td>  91.51</td>\n",
        "      <td> 19937400</td>\n",
        "      <td>  87.96</td>\n",
        "    </tr>\n",
        "    <tr>\n",
        "      <th>2009-02-03</th>\n",
        "      <td>  91.92</td>\n",
        "      <td>  93.38</td>\n",
        "      <td>  90.28</td>\n",
        "      <td>  92.98</td>\n",
        "      <td> 21403900</td>\n",
        "      <td>  89.37</td>\n",
        "    </tr>\n",
        "    <tr>\n",
        "      <th>2009-02-04</th>\n",
        "      <td>  93.22</td>\n",
        "      <td>  96.25</td>\n",
        "      <td>  93.10</td>\n",
        "      <td>  93.55</td>\n",
        "      <td> 28872200</td>\n",
        "      <td>  89.92</td>\n",
        "    </tr>\n",
        "    <tr>\n",
        "      <th>2009-02-05</th>\n",
        "      <td>  92.77</td>\n",
        "      <td>  97.25</td>\n",
        "      <td>  92.62</td>\n",
        "      <td>  96.46</td>\n",
        "      <td> 26758800</td>\n",
        "      <td>  92.71</td>\n",
        "    </tr>\n",
        "    <tr>\n",
        "      <th>2009-02-06</th>\n",
        "      <td>  97.02</td>\n",
        "      <td> 100.00</td>\n",
        "      <td>  97.00</td>\n",
        "      <td>  99.72</td>\n",
        "      <td> 24543200</td>\n",
        "      <td>  95.85</td>\n",
        "    </tr>\n",
        "    <tr>\n",
        "      <th>2009-02-09</th>\n",
        "      <td> 100.00</td>\n",
        "      <td> 103.00</td>\n",
        "      <td>  99.50</td>\n",
        "      <td> 102.51</td>\n",
        "      <td> 25536100</td>\n",
        "      <td>  98.53</td>\n",
        "    </tr>\n",
        "    <tr>\n",
        "      <th>2009-02-10</th>\n",
        "      <td> 101.33</td>\n",
        "      <td> 102.51</td>\n",
        "      <td>  97.06</td>\n",
        "      <td>  97.83</td>\n",
        "      <td> 30323600</td>\n",
        "      <td>  94.03</td>\n",
        "    </tr>\n",
        "    <tr>\n",
        "      <th>2009-02-11</th>\n",
        "      <td>  96.37</td>\n",
        "      <td>  98.31</td>\n",
        "      <td>  95.77</td>\n",
        "      <td>  96.82</td>\n",
        "      <td> 24106200</td>\n",
        "      <td>  93.06</td>\n",
        "    </tr>\n",
        "    <tr>\n",
        "      <th>2009-02-12</th>\n",
        "      <td>  95.83</td>\n",
        "      <td>  99.75</td>\n",
        "      <td>  95.83</td>\n",
        "      <td>  99.27</td>\n",
        "      <td> 29185300</td>\n",
        "      <td>  95.41</td>\n",
        "    </tr>\n",
        "    <tr>\n",
        "      <th>2009-02-13</th>\n",
        "      <td>  98.99</td>\n",
        "      <td>  99.94</td>\n",
        "      <td>  98.12</td>\n",
        "      <td>  99.16</td>\n",
        "      <td> 21749200</td>\n",
        "      <td>  95.31</td>\n",
        "    </tr>\n",
        "    <tr>\n",
        "      <th>2009-02-17</th>\n",
        "      <td>  96.87</td>\n",
        "      <td>  97.04</td>\n",
        "      <td>  94.28</td>\n",
        "      <td>  94.53</td>\n",
        "      <td> 24222800</td>\n",
        "      <td>  90.86</td>\n",
        "    </tr>\n",
        "    <tr>\n",
        "      <th>2009-02-18</th>\n",
        "      <td>  95.05</td>\n",
        "      <td>  95.85</td>\n",
        "      <td>  92.72</td>\n",
        "      <td>  94.37</td>\n",
        "      <td> 24456400</td>\n",
        "      <td>  90.70</td>\n",
        "    </tr>\n",
        "    <tr>\n",
        "      <th>2009-02-19</th>\n",
        "      <td>  93.37</td>\n",
        "      <td>  94.25</td>\n",
        "      <td>  90.11</td>\n",
        "      <td>  90.64</td>\n",
        "      <td> 32957300</td>\n",
        "      <td>  87.12</td>\n",
        "    </tr>\n",
        "    <tr>\n",
        "      <th>2009-02-20</th>\n",
        "      <td>  89.40</td>\n",
        "      <td>  92.40</td>\n",
        "      <td>  89.00</td>\n",
        "      <td>  91.20</td>\n",
        "      <td> 26797000</td>\n",
        "      <td>  87.66</td>\n",
        "    </tr>\n",
        "    <tr>\n",
        "      <th>2009-02-23</th>\n",
        "      <td>  91.65</td>\n",
        "      <td>  92.00</td>\n",
        "      <td>  86.51</td>\n",
        "      <td>  86.95</td>\n",
        "      <td> 28106500</td>\n",
        "      <td>  83.57</td>\n",
        "    </tr>\n",
        "    <tr>\n",
        "      <th>2009-02-24</th>\n",
        "      <td>  87.45</td>\n",
        "      <td>  90.89</td>\n",
        "      <td>  87.00</td>\n",
        "      <td>  90.25</td>\n",
        "      <td> 28825200</td>\n",
        "      <td>  86.74</td>\n",
        "    </tr>\n",
        "    <tr>\n",
        "      <th>2009-02-25</th>\n",
        "      <td>  89.86</td>\n",
        "      <td>  92.92</td>\n",
        "      <td>  89.25</td>\n",
        "      <td>  91.16</td>\n",
        "      <td> 29751900</td>\n",
        "      <td>  87.62</td>\n",
        "    </tr>\n",
        "    <tr>\n",
        "      <th>2009-02-26</th>\n",
        "      <td>  92.00</td>\n",
        "      <td>  92.92</td>\n",
        "      <td>  88.96</td>\n",
        "      <td>  89.19</td>\n",
        "      <td> 22495300</td>\n",
        "      <td>  85.73</td>\n",
        "    </tr>\n",
        "    <tr>\n",
        "      <th>2009-02-27</th>\n",
        "      <td>  87.93</td>\n",
        "      <td>  91.30</td>\n",
        "      <td>  87.67</td>\n",
        "      <td>  89.31</td>\n",
        "      <td> 25237800</td>\n",
        "      <td>  85.84</td>\n",
        "    </tr>\n",
        "    <tr>\n",
        "      <th>2009-03-02</th>\n",
        "      <td>  88.12</td>\n",
        "      <td>  91.20</td>\n",
        "      <td>  87.67</td>\n",
        "      <td>  87.94</td>\n",
        "      <td> 27533200</td>\n",
        "      <td>  84.52</td>\n",
        "    </tr>\n",
        "    <tr>\n",
        "      <th>2009-03-03</th>\n",
        "      <td>  88.93</td>\n",
        "      <td>  90.74</td>\n",
        "      <td>  87.88</td>\n",
        "      <td>  88.37</td>\n",
        "      <td> 25869300</td>\n",
        "      <td>  84.94</td>\n",
        "    </tr>\n",
        "    <tr>\n",
        "      <th>2009-03-04</th>\n",
        "      <td>  90.18</td>\n",
        "      <td>  92.77</td>\n",
        "      <td>  89.45</td>\n",
        "      <td>  91.17</td>\n",
        "      <td> 26478700</td>\n",
        "      <td>  87.63</td>\n",
        "    </tr>\n",
        "    <tr>\n",
        "      <th>2009-03-05</th>\n",
        "      <td>  90.46</td>\n",
        "      <td>  91.87</td>\n",
        "      <td>  88.45</td>\n",
        "      <td>  88.84</td>\n",
        "      <td> 25246400</td>\n",
        "      <td>  85.39</td>\n",
        "    </tr>\n",
        "    <tr>\n",
        "      <th>2009-03-06</th>\n",
        "      <td>  88.34</td>\n",
        "      <td>  88.40</td>\n",
        "      <td>  82.33</td>\n",
        "      <td>  85.30</td>\n",
        "      <td> 36112400</td>\n",
        "      <td>  81.99</td>\n",
        "    </tr>\n",
        "    <tr>\n",
        "      <th>2009-03-09</th>\n",
        "      <td>  84.18</td>\n",
        "      <td>  87.60</td>\n",
        "      <td>  82.57</td>\n",
        "      <td>  83.11</td>\n",
        "      <td> 24939200</td>\n",
        "      <td>  79.88</td>\n",
        "    </tr>\n",
        "    <tr>\n",
        "      <th>2009-03-10</th>\n",
        "      <td>  84.87</td>\n",
        "      <td>  89.17</td>\n",
        "      <td>  84.36</td>\n",
        "      <td>  88.63</td>\n",
        "      <td> 30152100</td>\n",
        "      <td>  85.19</td>\n",
        "    </tr>\n",
        "    <tr>\n",
        "      <th>2009-03-11</th>\n",
        "      <td>  89.81</td>\n",
        "      <td>  94.07</td>\n",
        "      <td>  89.58</td>\n",
        "      <td>  92.68</td>\n",
        "      <td> 30227600</td>\n",
        "      <td>  89.08</td>\n",
        "    </tr>\n",
        "    <tr>\n",
        "      <th>2009-03-12</th>\n",
        "      <td>  92.90</td>\n",
        "      <td>  96.58</td>\n",
        "      <td>  92.00</td>\n",
        "      <td>  96.35</td>\n",
        "      <td> 27444900</td>\n",
        "      <td>  92.61</td>\n",
        "    </tr>\n",
        "    <tr>\n",
        "      <th>2009-03-13</th>\n",
        "      <td>  96.30</td>\n",
        "      <td>  97.20</td>\n",
        "      <td>  95.01</td>\n",
        "      <td>  95.93</td>\n",
        "      <td> 21470300</td>\n",
        "      <td>  92.20</td>\n",
        "    </tr>\n",
        "    <tr>\n",
        "      <th>2009-03-16</th>\n",
        "      <td>  96.53</td>\n",
        "      <td>  97.39</td>\n",
        "      <td>  94.18</td>\n",
        "      <td>  95.42</td>\n",
        "      <td> 28473000</td>\n",
        "      <td>  91.71</td>\n",
        "    </tr>\n",
        "    <tr>\n",
        "      <th>2009-03-17</th>\n",
        "      <td>  95.24</td>\n",
        "      <td>  99.69</td>\n",
        "      <td>  95.07</td>\n",
        "      <td>  99.66</td>\n",
        "      <td> 28094500</td>\n",
        "      <td>  95.79</td>\n",
        "    </tr>\n",
        "    <tr>\n",
        "      <th>2009-03-18</th>\n",
        "      <td>  99.91</td>\n",
        "      <td> 103.48</td>\n",
        "      <td>  99.72</td>\n",
        "      <td> 101.52</td>\n",
        "      <td> 28429900</td>\n",
        "      <td>  97.58</td>\n",
        "    </tr>\n",
        "    <tr>\n",
        "      <th>2009-03-19</th>\n",
        "      <td> 101.85</td>\n",
        "      <td> 103.20</td>\n",
        "      <td> 100.25</td>\n",
        "      <td> 101.62</td>\n",
        "      <td> 17863600</td>\n",
        "      <td>  97.67</td>\n",
        "    </tr>\n",
        "    <tr>\n",
        "      <th>2009-03-20</th>\n",
        "      <td> 102.09</td>\n",
        "      <td> 103.11</td>\n",
        "      <td> 100.57</td>\n",
        "      <td> 101.59</td>\n",
        "      <td> 24842400</td>\n",
        "      <td>  97.64</td>\n",
        "    </tr>\n",
        "    <tr>\n",
        "      <th>2009-03-23</th>\n",
        "      <td> 102.71</td>\n",
        "      <td> 108.16</td>\n",
        "      <td> 101.75</td>\n",
        "      <td> 107.66</td>\n",
        "      <td> 23799900</td>\n",
        "      <td> 103.48</td>\n",
        "    </tr>\n",
        "    <tr>\n",
        "      <th>2009-03-24</th>\n",
        "      <td> 106.36</td>\n",
        "      <td> 109.44</td>\n",
        "      <td> 105.39</td>\n",
        "      <td> 106.50</td>\n",
        "      <td> 22879000</td>\n",
        "      <td> 102.36</td>\n",
        "    </tr>\n",
        "    <tr>\n",
        "      <th>2009-03-25</th>\n",
        "      <td> 107.58</td>\n",
        "      <td> 108.36</td>\n",
        "      <td> 103.86</td>\n",
        "      <td> 106.49</td>\n",
        "      <td> 23093500</td>\n",
        "      <td> 102.35</td>\n",
        "    </tr>\n",
        "    <tr>\n",
        "      <th>2009-03-26</th>\n",
        "      <td> 107.83</td>\n",
        "      <td> 109.98</td>\n",
        "      <td> 107.58</td>\n",
        "      <td> 109.87</td>\n",
        "      <td> 22009000</td>\n",
        "      <td> 105.60</td>\n",
        "    </tr>\n",
        "    <tr>\n",
        "      <th>2009-03-27</th>\n",
        "      <td> 108.23</td>\n",
        "      <td> 108.53</td>\n",
        "      <td> 106.40</td>\n",
        "      <td> 106.85</td>\n",
        "      <td> 17602600</td>\n",
        "      <td> 102.70</td>\n",
        "    </tr>\n",
        "    <tr>\n",
        "      <th>2009-03-30</th>\n",
        "      <td> 104.51</td>\n",
        "      <td> 105.01</td>\n",
        "      <td> 102.61</td>\n",
        "      <td> 104.49</td>\n",
        "      <td> 17957000</td>\n",
        "      <td> 100.43</td>\n",
        "    </tr>\n",
        "    <tr>\n",
        "      <td></td>\n",
        "      <td></td>\n",
        "      <td>...</td>\n",
        "      <td>...</td>\n",
        "      <td>...</td>\n",
        "      <td>...</td>\n",
        "      <td>...</td>\n",
        "      <td>...</td>\n",
        "    </tr>\n",
        "  </tbody>\n",
        "</table>\n",
        "<p>3444 rows \u00d7 6 columns</p>\n",
        "</div>"
       ],
       "metadata": {},
       "output_type": "pyout",
       "prompt_number": 560,
       "text": [
        "                    Open    High     Low   Close    Volume  Adj Close\n",
        "major Date                                                           \n",
        "AAPL  2009-01-02   85.88   91.04   85.16   90.75  26643400      87.22\n",
        "      2009-01-05   93.17   96.18   92.71   94.58  42200300      90.91\n",
        "      2009-01-06   95.95   97.17   92.39   93.02  46046800      89.41\n",
        "      2009-01-07   91.81   92.50   90.26   91.01  26894600      87.47\n",
        "      2009-01-08   90.43   93.15   90.04   92.70  23912000      89.10\n",
        "      2009-01-09   93.21   93.38   90.14   90.58  19530200      87.06\n",
        "      2009-01-12   90.46   90.99   87.55   88.66  22061300      85.22\n",
        "      2009-01-13   88.24   89.74   86.35   87.71  28514200      84.30\n",
        "      2009-01-14   86.24   87.25   84.72   85.33  36488000      82.02\n",
        "      2009-01-15   80.57   84.12   80.05   83.38  65415500      80.14\n",
        "      2009-01-16   84.30   84.38   80.40   82.33  37415200      79.13\n",
        "      2009-01-20   81.93   82.00   78.20   78.20  32854100      75.16\n",
        "      2009-01-21   79.39   82.88   79.31   82.83  38902500      79.61\n",
        "      2009-01-22   88.04   90.00   85.82   88.36  50340300      84.93\n",
        "      2009-01-23   86.82   89.87   86.50   88.36  27277500      84.93\n",
        "      2009-01-26   88.86   90.97   88.30   89.64  24722800      86.16\n",
        "      2009-01-27   90.19   91.55   89.74   90.73  22072800      87.21\n",
        "      2009-01-28   92.12   95.00   91.50   94.20  30764500      90.54\n",
        "      2009-01-29   93.09   94.34   92.60   93.00  21168900      89.39\n",
        "      2009-01-30   92.60   93.62   90.01   90.13  23267100      86.63\n",
        "      2009-02-02   89.10   92.00   88.90   91.51  19937400      87.96\n",
        "      2009-02-03   91.92   93.38   90.28   92.98  21403900      89.37\n",
        "      2009-02-04   93.22   96.25   93.10   93.55  28872200      89.92\n",
        "      2009-02-05   92.77   97.25   92.62   96.46  26758800      92.71\n",
        "      2009-02-06   97.02  100.00   97.00   99.72  24543200      95.85\n",
        "      2009-02-09  100.00  103.00   99.50  102.51  25536100      98.53\n",
        "      2009-02-10  101.33  102.51   97.06   97.83  30323600      94.03\n",
        "      2009-02-11   96.37   98.31   95.77   96.82  24106200      93.06\n",
        "      2009-02-12   95.83   99.75   95.83   99.27  29185300      95.41\n",
        "      2009-02-13   98.99   99.94   98.12   99.16  21749200      95.31\n",
        "      2009-02-17   96.87   97.04   94.28   94.53  24222800      90.86\n",
        "      2009-02-18   95.05   95.85   92.72   94.37  24456400      90.70\n",
        "      2009-02-19   93.37   94.25   90.11   90.64  32957300      87.12\n",
        "      2009-02-20   89.40   92.40   89.00   91.20  26797000      87.66\n",
        "      2009-02-23   91.65   92.00   86.51   86.95  28106500      83.57\n",
        "      2009-02-24   87.45   90.89   87.00   90.25  28825200      86.74\n",
        "      2009-02-25   89.86   92.92   89.25   91.16  29751900      87.62\n",
        "      2009-02-26   92.00   92.92   88.96   89.19  22495300      85.73\n",
        "      2009-02-27   87.93   91.30   87.67   89.31  25237800      85.84\n",
        "      2009-03-02   88.12   91.20   87.67   87.94  27533200      84.52\n",
        "      2009-03-03   88.93   90.74   87.88   88.37  25869300      84.94\n",
        "      2009-03-04   90.18   92.77   89.45   91.17  26478700      87.63\n",
        "      2009-03-05   90.46   91.87   88.45   88.84  25246400      85.39\n",
        "      2009-03-06   88.34   88.40   82.33   85.30  36112400      81.99\n",
        "      2009-03-09   84.18   87.60   82.57   83.11  24939200      79.88\n",
        "      2009-03-10   84.87   89.17   84.36   88.63  30152100      85.19\n",
        "      2009-03-11   89.81   94.07   89.58   92.68  30227600      89.08\n",
        "      2009-03-12   92.90   96.58   92.00   96.35  27444900      92.61\n",
        "      2009-03-13   96.30   97.20   95.01   95.93  21470300      92.20\n",
        "      2009-03-16   96.53   97.39   94.18   95.42  28473000      91.71\n",
        "      2009-03-17   95.24   99.69   95.07   99.66  28094500      95.79\n",
        "      2009-03-18   99.91  103.48   99.72  101.52  28429900      97.58\n",
        "      2009-03-19  101.85  103.20  100.25  101.62  17863600      97.67\n",
        "      2009-03-20  102.09  103.11  100.57  101.59  24842400      97.64\n",
        "      2009-03-23  102.71  108.16  101.75  107.66  23799900     103.48\n",
        "      2009-03-24  106.36  109.44  105.39  106.50  22879000     102.36\n",
        "      2009-03-25  107.58  108.36  103.86  106.49  23093500     102.35\n",
        "      2009-03-26  107.83  109.98  107.58  109.87  22009000     105.60\n",
        "      2009-03-27  108.23  108.53  106.40  106.85  17602600     102.70\n",
        "      2009-03-30  104.51  105.01  102.61  104.49  17957000     100.43\n",
        "                     ...     ...     ...     ...       ...        ...\n",
        "\n",
        "[3444 rows x 6 columns]"
       ]
      }
     ],
     "prompt_number": 560
    }
   ],
   "metadata": {}
  }
 ]
}