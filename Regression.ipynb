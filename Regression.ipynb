{
 "metadata": {
  "name": ""
 },
 "nbformat": 3,
 "nbformat_minor": 0,
 "worksheets": [
  {
   "cells": [
    {
     "cell_type": "code",
     "collapsed": false,
     "input": [
      "from numpy import *"
     ],
     "language": "python",
     "metadata": {},
     "outputs": [],
     "prompt_number": 1
    },
    {
     "cell_type": "code",
     "collapsed": false,
     "input": [
      "def loadDataSet(fileName):      #general function to parse tab -delimited floats\n",
      "    numFeat = len(open(fileName).readline().split('\\t')) - 1 #get number of fields \n",
      "    dataMat = []; labelMat = []\n",
      "    fr = open(fileName)\n",
      "    for line in fr.readlines():\n",
      "        lineArr =[]\n",
      "        curLine = line.strip().split('\\t')\n",
      "        for i in range(numFeat):\n",
      "            lineArr.append(float(curLine[i]))\n",
      "        dataMat.append(lineArr)\n",
      "        labelMat.append(float(curLine[-1]))\n",
      "    return dataMat,labelMat"
     ],
     "language": "python",
     "metadata": {},
     "outputs": [],
     "prompt_number": 203
    },
    {
     "cell_type": "code",
     "collapsed": false,
     "input": [
      "a = (1,2,3)\n",
      "a = [float(k) for k in a]\n",
      "a"
     ],
     "language": "python",
     "metadata": {},
     "outputs": [
      {
       "metadata": {},
       "output_type": "pyout",
       "prompt_number": 18,
       "text": [
        "[1.0, 2.0, 3.0]"
       ]
      }
     ],
     "prompt_number": 18
    },
    {
     "cell_type": "code",
     "collapsed": false,
     "input": [
      "dataMat, label = loadDataSet('machinelearninginaction/Ch08/ex0.txt')"
     ],
     "language": "python",
     "metadata": {},
     "outputs": [],
     "prompt_number": 37
    },
    {
     "cell_type": "code",
     "collapsed": false,
     "input": [
      "shape(label)"
     ],
     "language": "python",
     "metadata": {},
     "outputs": [
      {
       "metadata": {},
       "output_type": "pyout",
       "prompt_number": 45,
       "text": [
        "(199, 1)"
       ]
      }
     ],
     "prompt_number": 45
    },
    {
     "cell_type": "code",
     "collapsed": false,
     "input": [
      "def standRegres(xArr, yArr):\n",
      "    xMat = mat(xArr); yMat = mat(yArr)\n",
      "    xTx = xMat.T*xMat\n",
      "    if linalg.det(xTx) == 0.0:\n",
      "        print \"This matrix is singular\"\n",
      "        return\n",
      "    ws = xTx.I*(xMat.T*yMat)\n",
      "    return ws\n",
      "        "
     ],
     "language": "python",
     "metadata": {},
     "outputs": [],
     "prompt_number": 48
    },
    {
     "cell_type": "code",
     "collapsed": false,
     "input": [
      "ws = standRegres(dataMat,label)"
     ],
     "language": "python",
     "metadata": {},
     "outputs": [],
     "prompt_number": 50
    },
    {
     "cell_type": "code",
     "collapsed": false,
     "input": [
      "xMat = mat(dataMat)\n",
      "yMat = mat(label)\n",
      "ty = mat(dataMat)*ws"
     ],
     "language": "python",
     "metadata": {},
     "outputs": [],
     "prompt_number": 59
    },
    {
     "cell_type": "code",
     "collapsed": false,
     "input": [
      "xCopy=xMat.copy()\n",
      "xCopy.sort(0)\n",
      "shape(xMat[:,1].flatten().A[0])\n",
      "xCopy[:,1].flatten().A[0]"
     ],
     "language": "python",
     "metadata": {},
     "outputs": [
      {
       "metadata": {},
       "output_type": "pyout",
       "prompt_number": 113,
       "text": [
        "array([ 0.014855,  0.015371,  0.033859,  0.038326,  0.040486,  0.045353,\n",
        "        0.047744,  0.058014,  0.066379,  0.067119,  0.067154,  0.068854,\n",
        "        0.070095,  0.070237,  0.073224,  0.085031,  0.106352,  0.110521,\n",
        "        0.115487,  0.116089,  0.116163,  0.116598,  0.124931,  0.126762,\n",
        "        0.132791,  0.133295,  0.138306,  0.147846,  0.148364,  0.15335 ,\n",
        "        0.156383,  0.156433,  0.162176,  0.166819,  0.171846,  0.175724,\n",
        "        0.178449,  0.181951,  0.182026,  0.189912,  0.19683 ,  0.199526,\n",
        "        0.201473,  0.204337,  0.212575,  0.218023,  0.223855,  0.230372,\n",
        "        0.231214,  0.235419,  0.236833,  0.247809,  0.251821,  0.253574,\n",
        "        0.254884,  0.255212,  0.257017,  0.263727,  0.27276 ,  0.274561,\n",
        "        0.277261,  0.278213,  0.279101,  0.286515,  0.295434,  0.297038,\n",
        "        0.307047,  0.307928,  0.315044,  0.333288,  0.334116,  0.33507 ,\n",
        "        0.335691,  0.335751,  0.336647,  0.33863 ,  0.344584,  0.357767,\n",
        "        0.358622,  0.359274,  0.365746,  0.378887,  0.381086,  0.385643,\n",
        "        0.387125,  0.394396,  0.395746,  0.398556,  0.409932,  0.41732 ,\n",
        "        0.426863,  0.427035,  0.42781 ,  0.429492,  0.434811,  0.441815,\n",
        "        0.445674,  0.452584,  0.466369,  0.466776,  0.470557,  0.480369,\n",
        "        0.482978,  0.493466,  0.493829,  0.495002,  0.503495,  0.509381,\n",
        "        0.526171,  0.52707 ,  0.528301,  0.53205 ,  0.541196,  0.549236,\n",
        "        0.550659,  0.552928,  0.556486,  0.567682,  0.569488,  0.583888,\n",
        "        0.590902,  0.599122,  0.603535,  0.604755,  0.607492,  0.616418,\n",
        "        0.617218,  0.618286,  0.621523,  0.63782 ,  0.64827 ,  0.651362,\n",
        "        0.652565,  0.656662,  0.66351 ,  0.665016,  0.666109,  0.666886,\n",
        "        0.671279,  0.674722,  0.687006,  0.693007,  0.694221,  0.69477 ,\n",
        "        0.696081,  0.70218 ,  0.717733,  0.721544,  0.730546,  0.731209,\n",
        "        0.733165,  0.736021,  0.738336,  0.745797,  0.749442,  0.76966 ,\n",
        "        0.771184,  0.777175,  0.78088 ,  0.792101,  0.808177,  0.814811,\n",
        "        0.833735,  0.844027,  0.848142,  0.853428,  0.867082,  0.869778,\n",
        "        0.87003 ,  0.87248 ,  0.884739,  0.886555,  0.890192,  0.901144,\n",
        "        0.901225,  0.908969,  0.917064,  0.917886,  0.918769,  0.918916,\n",
        "        0.920461,  0.925577,  0.939368,  0.947054,  0.949123,  0.949655,\n",
        "        0.952523,  0.958178,  0.958476,  0.963924,  0.969788,  0.972673,\n",
        "        0.981083,  0.98139 ,  0.982243,  0.987911,  0.990947,  0.993888,\n",
        "        0.995731])"
       ]
      }
     ],
     "prompt_number": 113
    },
    {
     "cell_type": "code",
     "collapsed": false,
     "input": [
      "import matplotlib.pyplot as plt\n",
      "fig = plt.figure()\n",
      "ax = fig.add_subplot(111)\n",
      "ax.scatter(xMat[:,1].flatten().A[0], yMat.flatten().A[0])\n",
      "xCopy=xMat.copy()\n",
      "xCopy.sort(0)\n",
      "yHat = xCopy*ws\n",
      "\n",
      "ax.plot(xCopy[:,1].flatten().A[0],yHat.flatten().A[0])"
     ],
     "language": "python",
     "metadata": {},
     "outputs": [
      {
       "metadata": {},
       "output_type": "pyout",
       "prompt_number": 123,
       "text": [
        "[<matplotlib.lines.Line2D at 0x3079490>]"
       ]
      },
      {
       "metadata": {},
       "output_type": "display_data",
       "png": "[encoded data removed]",
       "text": [
        "<matplotlib.figure.Figure at 0x32603d0>"
       ]
      }
     ],
     "prompt_number": 123
    },
    {
     "cell_type": "code",
     "collapsed": false,
     "input": [
      "corrcoef(yHat.T, yMat.T)"
     ],
     "language": "python",
     "metadata": {},
     "outputs": [
      {
       "metadata": {},
       "output_type": "pyout",
       "prompt_number": 126,
       "text": [
        "array([[ 1.        ,  0.12696698],\n",
        "       [ 0.12696698,  1.        ]])"
       ]
      }
     ],
     "prompt_number": 126
    },
    {
     "cell_type": "code",
     "collapsed": false,
     "input": [
      "def lwlr(testPoint,xArr,yArr,k=1.0):\n",
      "    xMat = mat(xArr); yMat = mat(yArr).T\n",
      "    m = shape(xMat)[0]\n",
      "    weights = mat(eye((m)))\n",
      "    for j in range(m):                      #next 2 lines create weights matrix\n",
      "        diffMat = testPoint - xMat[j,:]     #\n",
      "        weights[j,j] = exp(diffMat*diffMat.T/(-2.0*k**2))\n",
      "    xTx = xMat.T * (weights * xMat)\n",
      "    if linalg.det(xTx) == 0.0:\n",
      "        print \"This matrix is singular, cannot do inverse\"\n",
      "        return\n",
      "    ws = xTx.I * (xMat.T * (weights * yMat))\n",
      "    return testPoint * ws"
     ],
     "language": "python",
     "metadata": {},
     "outputs": [],
     "prompt_number": 216
    },
    {
     "cell_type": "code",
     "collapsed": false,
     "input": [
      "def lwlrTest(testArr,xArr,yArr,k=1.0):\n",
      "    m = shape(testArr)[0]\n",
      "    yHat = zeros(m)\n",
      "    for i in range(m):\n",
      "        yHat[i] = lwlr(testArr[i],xArr,yArr,k)\n",
      "    return yHat"
     ],
     "language": "python",
     "metadata": {},
     "outputs": [],
     "prompt_number": 217
    },
    {
     "cell_type": "code",
     "collapsed": false,
     "input": [
      "xArr,yArr = loadDataSet('machinelearninginaction/Ch08/ex0.txt')\n",
      "yArr[0]"
     ],
     "language": "python",
     "metadata": {},
     "outputs": [
      {
       "metadata": {},
       "output_type": "pyout",
       "prompt_number": 218,
       "text": [
        "3.176513"
       ]
      }
     ],
     "prompt_number": 218
    },
    {
     "cell_type": "code",
     "collapsed": false,
     "input": [
      "lwlr(xArr[0],xArr,yArr,1.0)"
     ],
     "language": "python",
     "metadata": {},
     "outputs": [
      {
       "metadata": {},
       "output_type": "pyout",
       "prompt_number": 219,
       "text": [
        "matrix([[ 3.12204471]])"
       ]
      }
     ],
     "prompt_number": 219
    },
    {
     "cell_type": "code",
     "collapsed": false,
     "input": [
      "lwlrTest(xArr, xArr, yArr,0.003)"
     ],
     "language": "python",
     "metadata": {},
     "outputs": [
      {
       "metadata": {},
       "output_type": "pyout",
       "prompt_number": 220,
       "text": [
        "array([ 3.20200665,  3.75940186,  4.53670134,  4.25050564,  4.56094936,\n",
        "        3.93721635,  3.53392289,  3.15405352,  3.12604366,  3.14881027,\n",
        "        3.47887849,  4.1229893 ,  4.24110737,  3.47648492,  4.6329319 ,\n",
        "        3.96601531,  3.52772681,  3.15257242,  4.09411431,  3.4534635 ,\n",
        "        3.21009102,  3.19948401,  4.63028986,  4.2958291 ,  3.08502796,\n",
        "        3.50177161,  3.14348409,  3.36386424,  3.99136073,  3.89052382,\n",
        "        3.15925294,  3.15754913,  3.85062092,  4.63492639,  4.56823397,\n",
        "        3.59158542,  3.59663089,  4.60657847,  3.6768816 ,  4.64165522,\n",
        "        3.18193434,  4.23203805,  3.5596501 ,  3.45576256,  3.83408612,\n",
        "        3.1760528 ,  3.49935304,  3.92943323,  3.90635534,  4.23852193,\n",
        "        4.21692815,  3.50430539,  3.22426953,  4.27810533,  3.51013716,\n",
        "        3.50537991,  3.85983822,  4.27479904,  3.91450832,  3.57019624,\n",
        "        3.15346336,  4.22473636,  4.23785765,  4.23873712,  3.17953817,\n",
        "        3.99733495,  3.55097598,  3.56148314,  4.24145117,  3.16047076,\n",
        "        3.16317973,  4.22052596,  3.5266624 ,  4.56107586,  3.56025311,\n",
        "        4.60859282,  3.57133032,  3.56372874,  3.54480841,  3.19996078,\n",
        "        3.1669876 ,  4.23826143,  4.43272797,  4.21125453,  3.76490301,\n",
        "        3.19033253,  4.64750711,  3.51020663,  3.29812639,  3.57335614,\n",
        "        3.49592186,  4.23745735,  3.91374784,  3.22898998,  4.28626922,\n",
        "        4.60871673,  3.24144774,  4.45541455,  3.51964767,  3.75550696,\n",
        "        3.86577687,  3.83156274,  3.55181785,  4.64260163,  4.60557376,\n",
        "        3.86513782,  3.19622004,  3.49788851,  3.75439157,  3.61196603,\n",
        "        4.27967077,  3.59846718,  3.90750548,  3.19932967,  3.13581147,\n",
        "        3.87456645,  4.61069986,  4.23779844,  3.78410921,  3.96826832,\n",
        "        4.2540934 ,  3.19462205,  3.99183909,  3.8693666 ,  3.51526666,\n",
        "        4.6076421 ,  3.70027919,  4.63583972,  3.16726261,  4.20096748,\n",
        "        3.98509526,  4.47561612,  3.12681476,  4.28535723,  3.20899058,\n",
        "        3.28902737,  3.21259919,  3.62816953,  3.22460405,  4.00017596,\n",
        "        3.56293819,  3.6514392 ,  3.95400273,  3.15694322,  3.18622273,\n",
        "        4.62605573,  3.40806156,  3.9073609 ,  4.63288392,  3.1558463 ,\n",
        "        4.64600944,  3.07813201,  3.91130643,  3.20633481,  3.93466364,\n",
        "        3.87902786,  4.16439379,  4.6350347 ,  3.32362401,  4.26167979,\n",
        "        4.55643324,  4.56131127,  4.60269707,  4.59904848,  4.24040637,\n",
        "        3.51436635,  4.24413976,  4.60526682,  3.46790943,  3.1703476 ,\n",
        "        3.38161835,  4.59695575,  3.27950504,  4.57052216,  4.63382538,\n",
        "        4.27422223,  3.830904  ,  3.89311059,  3.83784061,  3.49815252,\n",
        "        4.59210492,  4.64195243,  3.77455306,  3.15869965,  3.53083121,\n",
        "        4.363382  ,  3.56369754,  4.56582461,  4.21695559,  4.17629485,\n",
        "        4.59615412,  3.94905609,  3.53068964,  4.24176723,  3.91318336,\n",
        "        3.55276633,  4.37439431,  3.20979053,  3.92311812,  3.16015883])"
       ]
      }
     ],
     "prompt_number": 220
    },
    {
     "cell_type": "code",
     "collapsed": false,
     "input": [
      "xMat=mat(xArr)\n",
      "srtInd = xMat[:,1].argsort(0)\n",
      "xSort = xMat[srtInd][:,0,:]"
     ],
     "language": "python",
     "metadata": {},
     "outputs": [],
     "prompt_number": 223
    },
    {
     "cell_type": "code",
     "collapsed": false,
     "input": [
      "yHat[srtInd][:,0,:].flatten().A[0]"
     ],
     "language": "python",
     "metadata": {},
     "outputs": [
      {
       "metadata": {},
       "output_type": "pyout",
       "prompt_number": 198,
       "text": [
        "array([ 4.2507509 ,  3.22188399,  3.08781637,  3.93868374,  3.23296835,\n",
        "        3.2669951 ,  3.36748049,  4.00937727,  3.84666644,  3.9250425 ,\n",
        "        3.20390096,  4.25952439,  4.68812237,  3.20377541,  4.13512441,\n",
        "        3.73266366,  4.24630732,  4.4829659 ,  3.57229084,  3.54133676,\n",
        "        4.69623925,  4.60060973,  3.49293241,  3.27214111,  3.10524119,\n",
        "        4.11195805,  3.11943385,  3.18725492,  3.4726504 ,  4.18467571,\n",
        "        3.61638056,  4.05583894,  3.66363457,  3.32902882,  4.18560719,\n",
        "        3.61527433,  4.12095042,  3.42726103,  4.13829719,  3.75642555,\n",
        "        4.5110034 ,  4.13256922,  3.68302922,  4.32542143,  3.24147037,\n",
        "        4.48712275,  4.19817953,  3.20275401,  3.34864404,  4.48253834,\n",
        "        3.12573868,  3.12068939,  3.40863836,  4.44582915,  3.57531431,\n",
        "        4.65711739,  4.67335454,  3.34534062,  3.90316392,  3.29837674,\n",
        "        3.59145645,  3.82183904,  3.61382368,  4.13697887,  3.57646975,\n",
        "        3.70233056,  3.58135447,  3.46959469,  3.67826158,  3.77469701,\n",
        "        3.43704234,  3.23211322,  4.56565999,  3.86107627,  3.71486558,\n",
        "        3.43926498,  4.15159231,  4.03288127,  3.15108018,  4.61365035,\n",
        "        3.37672396,  3.08375963,  3.51078649,  3.52776848,  4.6180634 ,\n",
        "        3.30495644,  3.89955001,  4.17243423,  3.31552161,  4.05266955,\n",
        "        3.87106289,  3.79808563,  3.03201453,  3.6611201 ,  3.96998055,\n",
        "        4.57721093,  4.54903261,  3.43982149,  3.79877618,  4.03081133,\n",
        "        4.56276717,  4.18261596,  4.02332392,  3.39767616,  4.67190728,\n",
        "        3.38661895,  3.90952474,  3.97304474,  3.07550193,  4.69311229,\n",
        "        4.22456786,  4.27836763,  3.25853549,  4.56416183,  3.8051913 ,\n",
        "        3.35350331,  3.27222594,  4.2555966 ,  3.84467624,  3.73134874,\n",
        "        3.45426865,  3.94109811,  4.27218326,  4.65222249,  3.13104757,\n",
        "        4.08898172,  3.25765662,  3.50806503,  4.14575067,  3.19432834,\n",
        "        3.12074877,  4.31267094,  4.63302974,  4.06133106,  3.57369569,\n",
        "        3.34076639,  3.73105692,  3.48035329,  3.95098461,  4.45479775,\n",
        "        3.73551747,  4.11399915,  3.90107531,  3.44288398,  4.3317076 ,\n",
        "        3.47723141,  3.21877738,  3.47884664,  4.6713864 ,  3.12363311,\n",
        "        3.62736142,  4.43884734,  3.06425808,  4.53589358,  3.99747682,\n",
        "        3.40623927,  3.65338837,  3.52926325,  4.63252413,  3.39910476,\n",
        "        3.43406808,  4.61716077,  4.68297128,  3.76297301,  3.64965739,\n",
        "        4.10671195,  4.18783152,  4.50792225,  4.64227321,  3.30957987,\n",
        "        4.5659094 ,  3.84406035,  4.23103388,  3.28196993,  4.31525667,\n",
        "        3.31564886,  3.67597107,  4.24743221,  3.82626566,  4.56853076,\n",
        "        4.05402689,  3.20463902,  4.47796411,  3.94494786,  4.03752506,\n",
        "        3.74454206,  3.57798997,  4.5171742 ,  3.28984757,  4.35074596,\n",
        "        3.12597961,  4.53575615,  3.07183712,  4.37802165,  4.62292945,\n",
        "        4.38927738,  4.42138519,  3.57636795,  3.03289001])"
       ]
      }
     ],
     "prompt_number": 198
    },
    {
     "cell_type": "code",
     "collapsed": false,
     "input": [
      "shape(yHat)"
     ],
     "language": "python",
     "metadata": {},
     "outputs": [
      {
       "metadata": {},
       "output_type": "pyout",
       "prompt_number": 213,
       "text": [
        "(199, 1)"
       ]
      }
     ],
     "prompt_number": 213
    },
    {
     "cell_type": "code",
     "collapsed": false,
     "input": [
      "shape(yHat)"
     ],
     "language": "python",
     "metadata": {},
     "outputs": [
      {
       "metadata": {},
       "output_type": "pyout",
       "prompt_number": 226,
       "text": [
        "(199, 1)"
       ]
      }
     ],
     "prompt_number": 226
    },
    {
     "cell_type": "code",
     "collapsed": false,
     "input": [
      "def rssError(yArr,yHatArr):\n",
      "    return ((yArr-yHatArr)**2).sum()"
     ],
     "language": "python",
     "metadata": {},
     "outputs": [],
     "prompt_number": 229
    },
    {
     "cell_type": "code",
     "collapsed": false,
     "input": [
      "abX,abY=loadDataSet('machinelearninginaction/Ch08/abalone.txt')"
     ],
     "language": "python",
     "metadata": {},
     "outputs": [],
     "prompt_number": 232
    },
    {
     "cell_type": "code",
     "collapsed": false,
     "input": [
      "yHat01=lwlrTest(abX[0:99],abX[0:99],abY[0:99],0.1)"
     ],
     "language": "python",
     "metadata": {},
     "outputs": [],
     "prompt_number": 233
    },
    {
     "cell_type": "code",
     "collapsed": false,
     "input": [
      "yHat1=lwlrTest(abX[0:99],abX[0:99],abY[0:99],1)"
     ],
     "language": "python",
     "metadata": {},
     "outputs": [],
     "prompt_number": 234
    },
    {
     "cell_type": "code",
     "collapsed": false,
     "input": [
      "yHat10=lwlrTest(abX[0:99],abX[0:99],abY[0:99],10)"
     ],
     "language": "python",
     "metadata": {},
     "outputs": [],
     "prompt_number": 235
    },
    {
     "cell_type": "code",
     "collapsed": false,
     "input": [
      "rssError(abY[0:99],yHat01.T)"
     ],
     "language": "python",
     "metadata": {},
     "outputs": [
      {
       "metadata": {},
       "output_type": "pyout",
       "prompt_number": 236,
       "text": [
        "56.793354193427326"
       ]
      }
     ],
     "prompt_number": 236
    },
    {
     "cell_type": "code",
     "collapsed": false,
     "input": [
      "rssError(abY[0:99],yHat1.T)"
     ],
     "language": "python",
     "metadata": {},
     "outputs": [
      {
       "metadata": {},
       "output_type": "pyout",
       "prompt_number": 237,
       "text": [
        "429.89056187002961"
       ]
      }
     ],
     "prompt_number": 237
    },
    {
     "cell_type": "code",
     "collapsed": false,
     "input": [
      "rssError(abY[0:99],yHat10.T)"
     ],
     "language": "python",
     "metadata": {},
     "outputs": [
      {
       "metadata": {},
       "output_type": "pyout",
       "prompt_number": 238,
       "text": [
        "549.11817088256851"
       ]
      }
     ],
     "prompt_number": 238
    },
    {
     "cell_type": "code",
     "collapsed": false,
     "input": [
      "yHat01 = lwlrTest(abX[100:199],abX[0:99],abY[0:99],0.1)"
     ],
     "language": "python",
     "metadata": {},
     "outputs": [],
     "prompt_number": 241
    },
    {
     "cell_type": "code",
     "collapsed": false,
     "input": [
      "rssError(abY[100:199],yHat01.T)"
     ],
     "language": "python",
     "metadata": {},
     "outputs": [
      {
       "metadata": {},
       "output_type": "pyout",
       "prompt_number": 242,
       "text": [
        "99197.168614306676"
       ]
      }
     ],
     "prompt_number": 242
    }
   ],
   "metadata": {}
  }
 ]
}