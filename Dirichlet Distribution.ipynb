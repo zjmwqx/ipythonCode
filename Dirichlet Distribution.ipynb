{
 "cells": [
  {
   "cell_type": "code",
   "execution_count": 1,
   "metadata": {
    "collapsed": true
   },
   "outputs": [],
   "source": [
    "%matplotlib inline"
   ]
  },
  {
   "cell_type": "code",
   "execution_count": 13,
   "metadata": {
    "collapsed": false
   },
   "outputs": [
    {
     "name": "stdout",
     "output_type": "stream",
     "text": [
      "[ 0.01  0.01  0.03]\n",
      "                          alpha: 0.1\n",
      "              element-wise mean: [ 0.2   0.21  0.59]\n",
      "element-wise standard deviation: [ 0.39  0.39  0.48]\n",
      "\n",
      "[ 0.2  0.2  0.6]\n",
      "                          alpha: 2\n",
      "              element-wise mean: [ 0.2  0.2  0.6]\n",
      "element-wise standard deviation: [ 0.28  0.28  0.35]\n",
      "\n",
      "[ 1.  1.  3.]\n",
      "                          alpha: 10\n",
      "              element-wise mean: [ 0.2  0.2  0.6]\n",
      "element-wise standard deviation: [ 0.16  0.16  0.2 ]\n",
      "\n",
      "[ 10.  10.  30.]\n",
      "                          alpha: 100\n",
      "              element-wise mean: [ 0.2  0.2  0.6]\n",
      "element-wise standard deviation: [ 0.06  0.06  0.07]\n",
      "\n",
      "[ 100.  100.  300.]\n",
      "                          alpha: 1000\n",
      "              element-wise mean: [ 0.2  0.2  0.6]\n",
      "element-wise standard deviation: [ 0.02  0.02  0.02]\n",
      "\n"
     ]
    }
   ],
   "source": [
    "import numpy as np\n",
    "from scipy.stats import dirichlet\n",
    "np.set_printoptions(precision=2)\n",
    "\n",
    "def stats(scale_factor, G0=[.1, .1, .3], N=10000):\n",
    "    print scale_factor*np.array(G0)\n",
    "    samples = dirichlet(alpha = scale_factor * np.array(G0)).rvs(N)\n",
    "    print \"                          alpha:\", scale_factor\n",
    "    print \"              element-wise mean:\", samples.mean(axis=0)\n",
    "    print \"element-wise standard deviation:\", samples.std(axis=0)\n",
    "    print\n",
    "    \n",
    "for scale in [0.1, 2, 10, 100, 1000]:\n",
    "    stats(scale)"
   ]
  },
  {
   "cell_type": "code",
   "execution_count": 3,
   "metadata": {
    "collapsed": false
   },
   "outputs": [],
   "source": [
    "import numpy as np\n",
    "from scipy.stats import dirichlet\n",
    "np.set_printoptions(precision=2)"
   ]
  },
  {
   "cell_type": "code",
   "execution_count": 7,
   "metadata": {
    "collapsed": false
   },
   "outputs": [],
   "source": [
    "def stats(scale_factor, G0=[.2, .2, .6], N=10000):\n",
    "    samples = dirichlet(alpha = scale_factor * np.array(G0)).rvs(N)\n",
    "    print \"                          alpha:\", scale_factor\n",
    "    print \"              element-wise mean:\", samples.mean(axis=0)\n",
    "    print \"element-wise standard deviation:\", samples.std(axis=0)\n",
    "    print"
   ]
  },
  {
   "cell_type": "code",
   "execution_count": 9,
   "metadata": {
    "collapsed": true
   },
   "outputs": [],
   "source": [
    "??dirichlet"
   ]
  },
  {
   "cell_type": "code",
   "execution_count": 8,
   "metadata": {
    "collapsed": false
   },
   "outputs": [
    {
     "name": "stdout",
     "output_type": "stream",
     "text": [
      "                          alpha: 0.1\n",
      "              element-wise mean: [ 0.19  0.21  0.6 ]\n",
      "element-wise standard deviation: [ 0.37  0.38  0.47]\n",
      "\n",
      "                          alpha: 1\n",
      "              element-wise mean: [ 0.2   0.21  0.6 ]\n",
      "element-wise standard deviation: [ 0.28  0.29  0.35]\n",
      "\n",
      "                          alpha: 10\n",
      "              element-wise mean: [ 0.2  0.2  0.6]\n",
      "element-wise standard deviation: [ 0.12  0.12  0.15]\n",
      "\n",
      "                          alpha: 100\n",
      "              element-wise mean: [ 0.2  0.2  0.6]\n",
      "element-wise standard deviation: [ 0.04  0.04  0.05]\n",
      "\n",
      "                          alpha: 1000\n",
      "              element-wise mean: [ 0.2  0.2  0.6]\n",
      "element-wise standard deviation: [ 0.01  0.01  0.02]\n",
      "\n"
     ]
    }
   ],
   "source": [
    "for scale in [0.1, 1, 10, 100, 1000]:\n",
    "    stats(scale)"
   ]
  }
 ],
 "metadata": {
  "kernelspec": {
   "display_name": "Python 2",
   "language": "python",
   "name": "python2"
  },
  "language_info": {
   "codemirror_mode": {
    "name": "ipython",
    "version": 2
   },
   "file_extension": ".py",
   "mimetype": "text/x-python",
   "name": "python",
   "nbconvert_exporter": "python",
   "pygments_lexer": "ipython2",
   "version": "2.7.9"
  }
 },
 "nbformat": 4,
 "nbformat_minor": 0
}
