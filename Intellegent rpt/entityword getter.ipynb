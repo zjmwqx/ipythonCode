{
 "metadata": {
  "name": "",
  "signature": "sha256:813e37e0b49309e0c3d2e67e9c6c531ac7e9fdf280b8b2430c7f7d9f78e8a149"
 },
 "nbformat": 3,
 "nbformat_minor": 0,
 "worksheets": [
  {
   "cells": [
    {
     "cell_type": "code",
     "collapsed": false,
     "input": [
      "import pandas as pd\n",
      "import re\n",
      "import regex\n",
      "import json\n",
      "import mysql.connector\n",
      "import pandas.io.sql as psql\n",
      "import urllib\n",
      "import boto\n",
      "import boto.s3.connection\n",
      "import pickle\n",
      "import jpype\n",
      "import re\n",
      "import random"
     ],
     "language": "python",
     "metadata": {},
     "outputs": [],
     "prompt_number": 2
    },
    {
     "cell_type": "code",
     "collapsed": false,
     "input": [
      "db = mysql.connector.connect(\n",
      "host='security01-dev.datayes.com', db='news', user='news_app', passwd='lKTOAIyoewzvCyc')\n",
      "table_name = 'news_detail_backup'"
     ],
     "language": "python",
     "metadata": {},
     "outputs": [],
     "prompt_number": 2
    },
    {
     "cell_type": "code",
     "collapsed": false,
     "input": [
      "data = psql.read_sql('select news_id, news_title,news_body,main_related_company_id from %s where isActive = 1 and news_tag = 0 and main_related_company_id != -1 and news_publish_time > \"2014-05-01\";' % table_name, db)\n",
      "\n"
     ],
     "language": "python",
     "metadata": {},
     "outputs": [],
     "prompt_number": 3
    },
    {
     "cell_type": "code",
     "collapsed": false,
     "input": [
      "sample = data.iloc[random.sample(range(data.shape[0]), 2)]"
     ],
     "language": "python",
     "metadata": {},
     "outputs": [],
     "prompt_number": 25
    },
    {
     "cell_type": "code",
     "collapsed": false,
     "input": [
      "sample.to_csv(\"/home/jiminzhou/data/news_sample.txt\",sep='\\t', encoding='utf-8')"
     ],
     "language": "python",
     "metadata": {},
     "outputs": [],
     "prompt_number": 24
    },
    {
     "cell_type": "code",
     "collapsed": false,
     "input": [
      "import pandas\n",
      "import json\n",
      "import os\n",
      "\n",
      "from IPython.display import HTML\n",
      "\n",
      " \n",
      "\n",
      "def read_record_from_dir(d):\n",
      "\n",
      "    res = []\n",
      "\n",
      "    for f in os.listdir(d):\n",
      "\n",
      "        for l in open(os.path.join(d,f)):\n",
      "\n",
      "            record = json.loads(l)\n",
      "\n",
      "            record['file'] = f\n",
      "\n",
      "            res.append(record)\n",
      "\n",
      "    return res\n",
      "\n",
      " \n",
      "\n",
      "pos_records = read_record_from_dir('/home/jiminzhou/data/\u51e4\u51f0\u8d22\u7ecf\u6b63\u8d1f\u9762\u65b0\u95fb/\u6b63\u9762/')\n",
      "\n",
      "neg_records = read_record_from_dir('/home/jiminzhou/data/\u51e4\u51f0\u8d22\u7ecf\u6b63\u8d1f\u9762\u65b0\u95fb/\u8d1f\u9762/')\n",
      "\n",
      "pos_data = pd.DataFrame(pos_records)\n",
      "\n",
      "neg_data = pd.DataFrame(neg_records)\n",
      "\n",
      "pos_data['orientation'] = 1\n",
      "\n",
      "neg_data['orientation'] =0\n",
      "\n",
      "data = pd.concat((pos_data,neg_data),axis=0)\n",
      "\n",
      " \n",
      "\n",
      "data.to_pickle('/home/jiminzhou/data/news_sample.pickle')\n",
      "\n",
      "ls = pd.read_pickle('/home/jiminzhou/data/news_sample.pickle')"
     ],
     "language": "python",
     "metadata": {},
     "outputs": [],
     "prompt_number": 11
    },
    {
     "cell_type": "code",
     "collapsed": false,
     "input": [
      "data.to_pickle('/home/jiminzhou/data/news_sample.pickle')"
     ],
     "language": "python",
     "metadata": {},
     "outputs": [],
     "prompt_number": 9
    },
    {
     "cell_type": "code",
     "collapsed": false,
     "input": [
      "data.paragraphs.to_csv(\"/home/jiminzhou/data/news_sample.txt\",sep='\\t', encoding='utf-8')"
     ],
     "language": "python",
     "metadata": {},
     "outputs": [],
     "prompt_number": 4
    }
   ],
   "metadata": {}
  }
 ]
}