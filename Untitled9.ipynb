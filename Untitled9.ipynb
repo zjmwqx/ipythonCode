{
 "metadata": {
  "name": "",
  "signature": "sha256:9f9d24998055be42a2c8e98e4053e8286f7d9251c774c84f57adcbc2322bfe01"
 },
 "nbformat": 3,
 "nbformat_minor": 0,
 "worksheets": [
  {
   "cells": [
    {
     "cell_type": "code",
     "collapsed": false,
     "input": [
      "from itertools import *\n",
      "from operator import itemgetter"
     ],
     "language": "python",
     "metadata": {},
     "outputs": [],
     "prompt_number": 16
    },
    {
     "cell_type": "code",
     "collapsed": false,
     "input": [
      "d = dict(a=1, b=2, c=1, d=2, e=1, f=2, g=3)"
     ],
     "language": "python",
     "metadata": {},
     "outputs": [],
     "prompt_number": 5
    },
    {
     "cell_type": "code",
     "collapsed": false,
     "input": [
      "di = sorted(d.iteritems(), key=itemgetter(1))"
     ],
     "language": "python",
     "metadata": {},
     "outputs": [],
     "prompt_number": 10
    },
    {
     "cell_type": "code",
     "collapsed": false,
     "input": [
      "list(groupby(di, key=itemgetter(1)))"
     ],
     "language": "python",
     "metadata": {},
     "outputs": [
      {
       "metadata": {},
       "output_type": "pyout",
       "prompt_number": 18,
       "text": [
        "[(1, <itertools._grouper at 0x185c210>),\n",
        " (2, <itertools._grouper at 0x1851850>),\n",
        " (3, <itertools._grouper at 0x1851b90>)]"
       ]
      }
     ],
     "prompt_number": 18
    },
    {
     "cell_type": "code",
     "collapsed": false,
     "input": [
      "d = dict(a=1, b=2, c=1, d=2, e=1, f=2, g=3)\n",
      "di = sorted(d.iteritems(), key=itemgetter(1))\n",
      "for k, g in groupby(di, key=itemgetter(1)):\n",
      "    print k, map(itemgetter(0), g)"
     ],
     "language": "python",
     "metadata": {},
     "outputs": [
      {
       "output_type": "stream",
       "stream": "stdout",
       "text": [
        "1 ['a', 'c', 'e']\n",
        "2 ['b', 'd', 'f']\n",
        "3 ['g']\n"
       ]
      }
     ],
     "prompt_number": 19
    }
   ],
   "metadata": {}
  }
 ]
}