{
 "metadata": {
  "name": "",
  "signature": "sha256:b127302104c23985cc66d96efa1a8848e52a97b5ed76e0c6ff0004232720c63f"
 },
 "nbformat": 3,
 "nbformat_minor": 0,
 "worksheets": [
  {
   "cells": [
    {
     "cell_type": "code",
     "collapsed": false,
     "input": [
      "import numpy as np\n",
      "import pylab as pl\n",
      "import pandas as pd\n",
      "from sklearn import metrics\n",
      "from sklearn.cluster import KMeans\n",
      "from sklearn.datasets import load_digits\n",
      "from sklearn.decomposition import PCA\n",
      "from sklearn.preprocessing import scale"
     ],
     "language": "python",
     "metadata": {},
     "outputs": [],
     "prompt_number": 4
    },
    {
     "cell_type": "code",
     "collapsed": false,
     "input": [
      "from __future__ import print_function\n",
      "from pprint import pprint\n",
      "from time import time\n",
      "import logging\n",
      "\n",
      "from sklearn.datasets import fetch_20newsgroups\n",
      "from sklearn.feature_extraction.text import CountVectorizer\n",
      "from sklearn.feature_extraction.text import TfidfTransformer\n",
      "from sklearn.linear_model import SGDClassifier\n",
      "from sklearn.grid_search import GridSearchCV\n",
      "from sklearn.pipeline import Pipeline"
     ],
     "language": "python",
     "metadata": {},
     "outputs": [],
     "prompt_number": 5
    },
    {
     "cell_type": "code",
     "collapsed": false,
     "input": [
      "import jpype\n",
      "import os\n",
      "class AnsjSplitter:\n",
      "    \"\"\" Wrapper for ansj\n",
      "\n",
      "    Needed jars:\n",
      "    ansj_seg-xxx.jar\n",
      "    tree_split-xxx.jar\n",
      "    \"\"\"\n",
      "    def __init__(self, dict_path=None):\n",
      "        \"\"\" Parameters:\n",
      "        dict_path: path of userLibrary\n",
      "        \"\"\"\n",
      "        self.AnsjConfig = jpype.JClass('org.ansj.util.MyStaticValue')\n",
      "        self.AnsjConfig.ambiguityLibrary = None\n",
      "        self.AnsjConfig.userLibrary = dict_path\n",
      "        self.methods = {\n",
      "            'base': jpype.JClass('org.ansj.splitWord.analysis.BaseAnalysis'),\n",
      "            'to': jpype.JClass('org.ansj.splitWord.analysis.ToAnalysis'),\n",
      "            'nlp': jpype.JClass('org.ansj.splitWord.analysis.NlpAnalysis'),\n",
      "        }\n",
      "    def split(self, txt, method = 'nlp'):\n",
      "        \"\"\" split txt using method\n",
      "        method can be \"base\", \"to\", or \"nlp\"\n",
      "        \"\"\"\n",
      "        if method not in self.methods:\n",
      "            raise RuntimeError('no such method for ansj')\n",
      "        raw_res = self.methods[method].parse(txt).toArray()\n",
      "        res = [(x.offe, x.offe+len(x.realName), x.nature.natureStr) for x in raw_res]\n",
      "        return res\n",
      "\n",
      "def start_jvm(class_path_list):\n",
      "    \"\"\" Start jvm with class_path_list\n",
      "    \"\"\"\n",
      "    jpype.startJVM(jpype.getDefaultJVMPath(), '-ea', \"-Djava.class.path=%s\" % ':'.join(class_path_list))\n",
      "def shutdown_jvm():\n",
      "    \"\"\" shutdown jvm\n",
      "    \"\"\"\n",
      "    jpyte.shutdownJVM()\n"
     ],
     "language": "python",
     "metadata": {},
     "outputs": [
      {
       "output_type": "stream",
       "stream": "stderr",
       "text": [
        "/home/jiminzhou/env1/local/lib/python2.7/site-packages/jpype/_pykeywords.py:18: DeprecationWarning: the sets module is deprecated\n",
        "  import sets\n"
       ]
      }
     ],
     "prompt_number": 7
    },
    {
     "cell_type": "code",
     "collapsed": false,
     "input": [
      "import glob\n",
      "start_jvm(glob.glob('/home/jiminzhou/jar_lib/*'))"
     ],
     "language": "python",
     "metadata": {},
     "outputs": [],
     "prompt_number": 8
    },
    {
     "cell_type": "code",
     "collapsed": false,
     "input": [
      "ansj = AnsjSplitter('/home/jiminzhou/data/userLibrary.txt')"
     ],
     "language": "python",
     "metadata": {},
     "outputs": [],
     "prompt_number": 9
    },
    {
     "cell_type": "code",
     "collapsed": false,
     "input": [
      "def my_tokenizer(s):\n",
      "    ll = ansj.split(s)\n",
      "    res = []\n",
      "    for tt in ll:\n",
      "        res.append(s[tt[0]: tt[1]])\n",
      "    return res"
     ],
     "language": "python",
     "metadata": {},
     "outputs": [],
     "prompt_number": 10
    },
    {
     "cell_type": "code",
     "collapsed": false,
     "input": [
      "cv = CountVectorizer(analyzer=my_tokenizer)"
     ],
     "language": "python",
     "metadata": {},
     "outputs": [],
     "prompt_number": 11
    },
    {
     "cell_type": "code",
     "collapsed": false,
     "input": [
      "ls = pd.read_pickle('/home/jiminzhou/data/news_sample.pickle')"
     ],
     "language": "python",
     "metadata": {},
     "outputs": [],
     "prompt_number": 19
    },
    {
     "cell_type": "code",
     "collapsed": false,
     "input": [
      "x = cv.fit_transform(ls['paragraphs'].values[:10])"
     ],
     "language": "python",
     "metadata": {},
     "outputs": [],
     "prompt_number": 15
    },
    {
     "cell_type": "code",
     "collapsed": false,
     "input": [
      "x.toarray()"
     ],
     "language": "python",
     "metadata": {},
     "outputs": [
      {
       "metadata": {},
       "output_type": "pyout",
       "prompt_number": 17,
       "text": [
        "array([[ 8,  8,  2, ...,  0,  0,  0],\n",
        "       [18, 18,  3, ...,  0,  0,  0],\n",
        "       [12, 12,  2, ...,  0,  0,  0],\n",
        "       ..., \n",
        "       [14, 14,  4, ...,  0,  0,  0],\n",
        "       [12, 12,  3, ...,  0,  1,  0],\n",
        "       [12, 12,  1, ...,  0,  0,  0]])"
       ]
      }
     ],
     "prompt_number": 17
    },
    {
     "cell_type": "code",
     "collapsed": false,
     "input": [
      "?? CountVectorizer"
     ],
     "language": "python",
     "metadata": {},
     "outputs": [],
     "prompt_number": 25
    }
   ],
   "metadata": {}
  }
 ]
}