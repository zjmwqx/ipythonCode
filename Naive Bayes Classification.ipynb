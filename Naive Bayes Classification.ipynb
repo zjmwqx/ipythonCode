{
 "metadata": {
  "name": ""
 },
 "nbformat": 3,
 "nbformat_minor": 0,
 "worksheets": [
  {
   "cells": [
    {
     "cell_type": "code",
     "collapsed": false,
     "input": [
      "def loadDataSet():\n",
      "    postingList=[['my', 'dog', 'has', 'flea', \\\n",
      "    'problems', 'help', 'please'],\n",
      "    ['maybe', 'not', 'take', 'him', \\\n",
      "    'to', 'dog', 'park', 'stupid'],\n",
      "    ['my', 'dalmation', 'is', 'so', 'cute', \\\n",
      "    'I', 'love', 'him'],\n",
      "    ['stop', 'posting', 'stupid', 'worthless', 'garbage'],\n",
      "    ['mr', 'licks', 'ate', 'my', 'steak', 'how',\\\n",
      "    'to', 'stop', 'him'],\n",
      "    ['quit', 'buying', 'worthless', 'dog', 'food', 'stupid']]\n",
      "    classVec = [0,1,0,1,0,1]\n",
      "    #1 is abusive, 0 not\n",
      "    return postingList,classVec\n"
     ],
     "language": "python",
     "metadata": {},
     "outputs": [],
     "prompt_number": 1
    },
    {
     "cell_type": "code",
     "collapsed": false,
     "input": [
      "dataset,lavels = loadDataSet()"
     ],
     "language": "python",
     "metadata": {},
     "outputs": [],
     "prompt_number": 25
    },
    {
     "cell_type": "code",
     "collapsed": false,
     "input": [
      "def createVocabList(dataSet):\n",
      "    unionSet = set([])\n",
      "    for data in dataSet:\n",
      "        unionSet = unionSet | set(data)\n",
      "    return list(unionSet)"
     ],
     "language": "python",
     "metadata": {},
     "outputs": [],
     "prompt_number": 26
    },
    {
     "cell_type": "code",
     "collapsed": false,
     "input": [
      "def setOfWords2Vec(words, docSet):\n",
      "    vec = [0]*len(words)\n",
      "    for wd in docSet:\n",
      "        if wd in words:\n",
      "            vec[words.index(wd)]=1\n",
      "        else:\n",
      "            print \"%s is not in my dic\" %wd\n",
      "    return vec"
     ],
     "language": "python",
     "metadata": {},
     "outputs": [],
     "prompt_number": 27
    },
    {
     "cell_type": "code",
     "collapsed": false,
     "input": [
      "v = setOfWords2Vec(createVocabList(dataset), dataset[1])"
     ],
     "language": "python",
     "metadata": {},
     "outputs": [],
     "prompt_number": 28
    },
    {
     "cell_type": "code",
     "collapsed": false,
     "input": [
      "def trainNB0(trainMatrix, trainCategory):\n",
      "    numDoc = len(trainMatrix)\n",
      "    numWords = len(trainMatrix[0])\n",
      "    pAbusive = sum(trainCategory)/float(numDoc)\n",
      "    p1Num = ones(numWords)\n",
      "    p0Num = ones(numWords)\n",
      "    p1Norm = 2.0\n",
      "    p0Norm = 2.0\n",
      "    for v in range(numDoc):\n",
      "        if trainCategory[v] == 1:\n",
      "            p1Num += trainMatrix[v]\n",
      "            p1Norm += sum(trainMatrix[v])\n",
      "        else:\n",
      "            p0Num +=trainMatrix[v]\n",
      "            p0Norm += sum(trainMatrix[v])\n",
      "    p1Vec = p1Num/p1Norm\n",
      "    p0Vec = p0Num/p0Norm\n",
      "    return p0Vec,p1Vec,pAbusive\n",
      "    \n",
      "            "
     ],
     "language": "python",
     "metadata": {},
     "outputs": [],
     "prompt_number": 37
    },
    {
     "cell_type": "code",
     "collapsed": false,
     "input": [
      "voc = createVocabList(dataset)"
     ],
     "language": "python",
     "metadata": {},
     "outputs": [],
     "prompt_number": 30
    },
    {
     "cell_type": "code",
     "collapsed": false,
     "input": [
      "trainM = [setOfWords2Vec(voc, x) for x in dataset]"
     ],
     "language": "python",
     "metadata": {},
     "outputs": [],
     "prompt_number": 31
    },
    {
     "cell_type": "code",
     "collapsed": false,
     "input": [
      "p0,p1,pa = trainNB0(trainM, labels)"
     ],
     "language": "python",
     "metadata": {},
     "outputs": [],
     "prompt_number": 38
    },
    {
     "cell_type": "code",
     "collapsed": false,
     "input": [
      "p1"
     ],
     "language": "python",
     "metadata": {},
     "outputs": [
      {
       "metadata": {},
       "output_type": "pyout",
       "prompt_number": 39,
       "text": [
        "array([ 0.04761905,  0.04761905,  0.04761905,  0.0952381 ,  0.0952381 ,\n",
        "        0.04761905,  0.04761905,  0.04761905,  0.0952381 ,  0.0952381 ,\n",
        "        0.04761905,  0.04761905,  0.04761905,  0.0952381 ,  0.0952381 ,\n",
        "        0.0952381 ,  0.0952381 ,  0.0952381 ,  0.04761905,  0.14285714,\n",
        "        0.04761905,  0.0952381 ,  0.0952381 ,  0.04761905,  0.14285714,\n",
        "        0.04761905,  0.19047619,  0.04761905,  0.0952381 ,  0.04761905,\n",
        "        0.04761905,  0.04761905])"
       ]
      }
     ],
     "prompt_number": 39
    },
    {
     "cell_type": "code",
     "collapsed": false,
     "input": [
      "def classifyNB(vec2Classify, p0Vec, p1Vec, pClass1):\n",
      "    p1 = sum(vec2Classify*p1Vec)+log(pClass1)\n",
      "    p0 = sum(vec2Classify*p0Vec)+log(1-pClass1)\n",
      "    if p1 > p0:\n",
      "        return 1\n",
      "    else:\n",
      "        return 0"
     ],
     "language": "python",
     "metadata": {},
     "outputs": [],
     "prompt_number": 45
    },
    {
     "cell_type": "code",
     "collapsed": false,
     "input": [
      "testEntry = ['stupid', 'garbage']\n",
      "thisDoc = array(setOfWords2Vec(voc, testEntry))\n",
      "print testEntry,'classified as: ',classifyNB(thisDoc,p0,p1,pa)"
     ],
     "language": "python",
     "metadata": {},
     "outputs": [
      {
       "output_type": "stream",
       "stream": "stdout",
       "text": [
        "['stupid', 'garbage'] classified as:  1\n"
       ]
      }
     ],
     "prompt_number": 50
    }
   ],
   "metadata": {}
  }
 ]
}