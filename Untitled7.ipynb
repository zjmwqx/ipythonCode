{
 "metadata": {
  "name": ""
 },
 "nbformat": 3,
 "nbformat_minor": 0,
 "worksheets": [
  {
   "cells": [
    {
     "cell_type": "code",
     "collapsed": false,
     "input": [
      "import pandas as pd"
     ],
     "language": "python",
     "metadata": {},
     "outputs": [],
     "prompt_number": 3
    },
    {
     "cell_type": "code",
     "collapsed": false,
     "input": [
      "fec = pd.read_csv('pydata-book/ch09/P00000001-ALL.csv')"
     ],
     "language": "python",
     "metadata": {},
     "outputs": [],
     "prompt_number": 5
    },
    {
     "cell_type": "code",
     "collapsed": false,
     "input": [
      "fec.ix[123456]"
     ],
     "language": "python",
     "metadata": {},
     "outputs": [
      {
       "metadata": {},
       "output_type": "pyout",
       "prompt_number": 7,
       "text": [
        "cmte_id                             C00431445\n",
        "cand_id                             P80003338\n",
        "cand_nm                         Obama, Barack\n",
        "contbr_nm                         ELLMAN, IRA\n",
        "contbr_city                             TEMPE\n",
        "contbr_st                                  AZ\n",
        "contbr_zip                          852816719\n",
        "contbr_employer      ARIZONA STATE UNIVERSITY\n",
        "contbr_occupation                   PROFESSOR\n",
        "contb_receipt_amt                          50\n",
        "contb_receipt_dt                    01-DEC-11\n",
        "receipt_desc                              NaN\n",
        "memo_cd                                   NaN\n",
        "memo_text                                 NaN\n",
        "form_tp                                 SA17A\n",
        "file_num                               772372\n",
        "Name: 123456, dtype: object"
       ]
      }
     ],
     "prompt_number": 7
    },
    {
     "cell_type": "code",
     "collapsed": false,
     "input": [
      "fec.cand_nm.unique()"
     ],
     "language": "python",
     "metadata": {},
     "outputs": [
      {
       "metadata": {},
       "output_type": "pyout",
       "prompt_number": 9,
       "text": [
        "array(['Bachmann, Michelle', 'Romney, Mitt', 'Obama, Barack',\n",
        "       \"Roemer, Charles E. 'Buddy' III\", 'Pawlenty, Timothy',\n",
        "       'Johnson, Gary Earl', 'Paul, Ron', 'Santorum, Rick', 'Cain, Herman',\n",
        "       'Gingrich, Newt', 'McCotter, Thaddeus G', 'Huntsman, Jon',\n",
        "       'Perry, Rick'], dtype=object)"
       ]
      }
     ],
     "prompt_number": 9
    },
    {
     "cell_type": "code",
     "collapsed": false,
     "input": [
      "parties = {'Bachmann, Michelle': 'Republican',\n",
      "'Cain, Herman': 'Republican',\n",
      "'Gingrich, Newt': 'Republican',\n",
      "'Huntsman, Jon': 'Republican',\n",
      "'Johnson, Gary Earl': 'Republican',\n",
      "'McCotter, Thaddeus G': 'Republican',\n",
      "'Obama, Barack': 'Democrat',\n",
      "'Paul, Ron': 'Republican',\n",
      "'Pawlenty, Timothy': 'Republican',\n",
      "'Perry, Rick': 'Republican',\n",
      "\"Roemer, Charles E. 'Buddy' III\": 'Republican',\n",
      "'Romney, Mitt': 'Republican',\n",
      "'Santorum, Rick': 'Republican'}"
     ],
     "language": "python",
     "metadata": {},
     "outputs": [],
     "prompt_number": 10
    },
    {
     "cell_type": "code",
     "collapsed": false,
     "input": [
      "fec.cand_nm[123456:123461].map(parties)"
     ],
     "language": "python",
     "metadata": {},
     "outputs": [
      {
       "metadata": {},
       "output_type": "pyout",
       "prompt_number": 12,
       "text": [
        "123456    Democrat\n",
        "123457    Democrat\n",
        "123458    Democrat\n",
        "123459    Democrat\n",
        "123460    Democrat\n",
        "Name: cand_nm, dtype: object"
       ]
      }
     ],
     "prompt_number": 12
    },
    {
     "cell_type": "code",
     "collapsed": false,
     "input": [
      "fec['party'] = fec.cand_nm.map(parties)"
     ],
     "language": "python",
     "metadata": {},
     "outputs": [],
     "prompt_number": 27
    },
    {
     "cell_type": "code",
     "collapsed": false,
     "input": [
      "fec.dtypes"
     ],
     "language": "python",
     "metadata": {},
     "outputs": [
      {
       "metadata": {},
       "output_type": "pyout",
       "prompt_number": 28,
       "text": [
        "cmte_id               object\n",
        "cand_id               object\n",
        "cand_nm               object\n",
        "contbr_nm             object\n",
        "contbr_city           object\n",
        "contbr_st             object\n",
        "contbr_zip            object\n",
        "contbr_employer       object\n",
        "contbr_occupation     object\n",
        "contb_receipt_amt    float64\n",
        "contb_receipt_dt      object\n",
        "receipt_desc          object\n",
        "memo_cd               object\n",
        "memo_text             object\n",
        "form_tp               object\n",
        "file_num               int64\n",
        "party                 object\n",
        "dtype: object"
       ]
      }
     ],
     "prompt_number": 28
    },
    {
     "cell_type": "code",
     "collapsed": false,
     "input": [
      "occ_mapping = {\n",
      "'INFORMATION REQUESTED PER BEST EFFORTS' : 'NOT PROVIDED',\n",
      "'INFORMATION REQUESTED' : 'NOT PROVIDED',\n",
      "'INFORMATION REQUESTED (BEST EFFORTS)' : 'NOT PROVIDED',\n",
      "'C.E.O.': 'CEO'\n",
      "}"
     ],
     "language": "python",
     "metadata": {},
     "outputs": [],
     "prompt_number": 13
    },
    {
     "cell_type": "code",
     "collapsed": false,
     "input": [
      "f = lambda x: occ_mapping.get(x, x)"
     ],
     "language": "python",
     "metadata": {},
     "outputs": [],
     "prompt_number": 14
    },
    {
     "cell_type": "code",
     "collapsed": false,
     "input": [
      "fec.contbr_occupation = fec.contbr_occupation.map(f)"
     ],
     "language": "python",
     "metadata": {},
     "outputs": [],
     "prompt_number": 17
    },
    {
     "cell_type": "code",
     "collapsed": false,
     "input": [
      "emp_mapping = {\n",
      "'INFORMATION REQUESTED PER BEST EFFORTS' : 'NOT PROVIDED',\n",
      "'INFORMATION REQUESTED' : 'NOT PROVIDED',\n",
      "'SELF' : 'SELF-EMPLOYED',\n",
      "'SELF EMPLOYED' : 'SELF-EMPLOYED',\n",
      "}"
     ],
     "language": "python",
     "metadata": {},
     "outputs": [],
     "prompt_number": 19
    },
    {
     "cell_type": "code",
     "collapsed": false,
     "input": [
      "# If no mapping provided, return x\n",
      "f = lambda x: emp_mapping.get(x, x)\n",
      "fec.contbr_employer = fec.contbr_employer.map(f)"
     ],
     "language": "python",
     "metadata": {},
     "outputs": [],
     "prompt_number": 21
    },
    {
     "cell_type": "code",
     "collapsed": false,
     "input": [
      "fec.dtypes"
     ],
     "language": "python",
     "metadata": {},
     "outputs": [
      {
       "metadata": {},
       "output_type": "pyout",
       "prompt_number": 23,
       "text": [
        "cmte_id               object\n",
        "cand_id               object\n",
        "cand_nm               object\n",
        "contbr_nm             object\n",
        "contbr_city           object\n",
        "contbr_st             object\n",
        "contbr_zip            object\n",
        "contbr_employer       object\n",
        "contbr_occupation     object\n",
        "contb_receipt_amt    float64\n",
        "contb_receipt_dt      object\n",
        "receipt_desc          object\n",
        "memo_cd               object\n",
        "memo_text             object\n",
        "form_tp               object\n",
        "file_num               int64\n",
        "dtype: object"
       ]
      }
     ],
     "prompt_number": 23
    },
    {
     "cell_type": "code",
     "collapsed": false,
     "input": [
      "by_occupation = fec.pivot_table('contb_receipt_amt',rows='contbr_occupation',cols='party', aggfunc='sum')"
     ],
     "language": "python",
     "metadata": {},
     "outputs": [],
     "prompt_number": 29
    },
    {
     "cell_type": "code",
     "collapsed": false,
     "input": [
      "over_2mm = by_occupation[by_occupation.sum(1) > 2000000]"
     ],
     "language": "python",
     "metadata": {},
     "outputs": [],
     "prompt_number": 30
    },
    {
     "cell_type": "code",
     "collapsed": false,
     "input": [
      "over_2mm.plot(kind = 'barh')"
     ],
     "language": "python",
     "metadata": {},
     "outputs": [
      {
       "metadata": {},
       "output_type": "pyout",
       "prompt_number": 33,
       "text": [
        "<matplotlib.axes.AxesSubplot at 0xe239950>"
       ]
      },
      {
       "metadata": {},
       "output_type": "display_data",
       "png": "[encoded data removed]",
       "text": [
        "<matplotlib.figure.Figure at 0xe239ed0>"
       ]
      }
     ],
     "prompt_number": 33
    },
    {
     "cell_type": "code",
     "collapsed": false,
     "input": [
      "def get_top_amounts(group, key, n=5):\n",
      "    total = group.groupby(key)['contb_receipt_amt'].sum()\n",
      "    return total.order(ascending=False)[-n:]"
     ],
     "language": "python",
     "metadata": {},
     "outputs": [],
     "prompt_number": 39
    },
    {
     "cell_type": "code",
     "collapsed": false,
     "input": [
      "grouped = fec.groupby('cand_nm')"
     ],
     "language": "python",
     "metadata": {},
     "outputs": [],
     "prompt_number": 37
    },
    {
     "cell_type": "code",
     "collapsed": false,
     "input": [
      "grouped.apply(get_top_amounts, 'contbr_occupation', n=7)"
     ],
     "language": "python",
     "metadata": {},
     "outputs": [
      {
       "metadata": {},
       "output_type": "pyout",
       "prompt_number": 40,
       "text": [
        "cand_nm             contbr_occupation                \n",
        "Bachmann, Michelle  COUNSELOR                            14.50\n",
        "                    SUBSITUTE TEACHER                    10.00\n",
        "                    VICE PRESIDENT, REAL ESTATE           1.00\n",
        "                    FREELANCE VOICE-OVER                  1.00\n",
        "                    VENTURE CAPITALIST                    0.00\n",
        "                    GOVERNMENT MEMBER                     0.00\n",
        "                    MFG. REP                            -50.00\n",
        "Cain, Herman        APPRAISER                            25.00\n",
        "                    SR SPECIALIST - CLIENT TECH ADMIN    20.00\n",
        "                    MEDICAL SALES                        20.00\n",
        "                    LOCKSMITH                            20.00\n",
        "                    LABORATORY MANAGER                   20.00\n",
        "                    RN, MSN                              17.76\n",
        "                    TECHNICAL WRITER FOR IT               5.00\n",
        "Gingrich, Newt      OWNER-BROKER                         15.00\n",
        "...\n",
        "Roemer, Charles E. 'Buddy' III  MEDIA & FINANCIAL SERVICE                    4.00\n",
        "Romney, Mitt                    AFFORDABLE REAL ESTATE DEVELOPER             3.00\n",
        "                                3RD GENERATION FAMILY BUSINESS OWNER         3.00\n",
        "                                VICE PRESIDENT OF ADVANCEMENT/PHILANTH       0.00\n",
        "                                V.P. BUSINESS DEVELOPMENT                    0.00\n",
        "                                SURGERY SCHEDULER                            0.00\n",
        "                                PUBLIC HEALTH CONSULTANT                     0.00\n",
        "                                MUSCULER THERAPIST                           0.00\n",
        "Santorum, Rick                  ACQUISITION MGR.                            11.85\n",
        "                                TAX EXAMINER                                 0.00\n",
        "                                MANAGE                                       0.00\n",
        "                                LOCATION AGENT FOR FILM AND TV               0.00\n",
        "                                DESIGNER - JAYHAWK DESIGNS                   0.00\n",
        "                                PART TIME CONSULTANT                       -25.00\n",
        "                                FLOORING CONTRACTOR                      -2500.00\n",
        "Name: contb_receipt_amt, Length: 91, dtype: float64"
       ]
      }
     ],
     "prompt_number": 40
    }
   ],
   "metadata": {}
  }
 ]
}