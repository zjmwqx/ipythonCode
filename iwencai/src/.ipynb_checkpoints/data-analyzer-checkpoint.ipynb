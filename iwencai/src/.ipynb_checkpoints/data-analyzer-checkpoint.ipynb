{
 "cells": [
  {
   "cell_type": "code",
   "execution_count": 1,
   "metadata": {
    "collapsed": true
   },
   "outputs": [],
   "source": [
    "import re\n",
    "import logging\n",
    "import traceback\n",
    "import os\n",
    "import sys\n",
    "import commands\n",
    "%matplotlib inline"
   ]
  },
  {
   "cell_type": "code",
   "execution_count": 2,
   "metadata": {
    "collapsed": true
   },
   "outputs": [],
   "source": [
    "#read in data\n",
    "import pandas as pd\n",
    "import numpy as np\n",
    "import matplotlib.pyplot as plt\n",
    "from sklearn.feature_extraction.text import CountVectorizer\n",
    "from sklearn.feature_extraction.text import TfidfVectorizer\n",
    "from sklearn.feature_extraction.text import HashingVectorizer\n",
    "from sklearn.preprocessing import scale\n",
    "import nltk\n",
    "from nltk import bigrams\n",
    "from nltk import trigrams\n",
    "from sklearn.preprocessing import StandardScaler\n",
    "from sklearn.ensemble import ExtraTreesClassifier"
   ]
  },
  {
   "cell_type": "code",
   "execution_count": 3,
   "metadata": {
    "collapsed": true
   },
   "outputs": [],
   "source": [
    "def segmenter2(ss):\n",
    "    return ss.split(\" \")\n",
    "def convert_label(label):\n",
    "    if label == 'y':\n",
    "        return 1\n",
    "    else:\n",
    "        return 0\n",
    "from sklearn.svm import LinearSVC\n",
    "from sklearn.ensemble import RandomForestClassifier\n"
   ]
  },
  {
   "cell_type": "code",
   "execution_count": 5,
   "metadata": {
    "collapsed": false
   },
   "outputs": [],
   "source": [
    "# rr = classifier.predict(cntModel_test)"
   ]
  },
  {
   "cell_type": "code",
   "execution_count": 39,
   "metadata": {
    "collapsed": true
   },
   "outputs": [],
   "source": [
    "def do_compare(train_file, test_file, iter_num, classifier):\n",
    "    train_h = pd.read_csv(train_file, sep=\"\\t\",header=0,names=[\"id\",\"label\",\"content\",\"seg\"], encoding=\"utf-8\").dropna()\n",
    "    test_h = pd.read_csv(test_file, sep=\"\\t\",header=0,names=[\"id\",\"label\",\"content\", \"seg\"],  encoding=\"utf-8\").dropna()\n",
    "    test_h['predict'] = 0\n",
    "    pos = train_h[train_h.label == 'y']\n",
    "    neg = train_h[train_h.label == 'n']\n",
    "    pos.index = range(0,len(pos))\n",
    "    for i in range(iter_num):\n",
    "        sub_sample = pos.iloc[np.random.choice(pos.index, neg.shape[0], replace=False)]\n",
    "        train_set = pd.concat([neg, sub_sample])\n",
    "        total_label = train_set.label.map(lambda x:convert_label(x))\n",
    "        cv = TfidfVectorizer(analyzer=segmenter2, min_df = 2)\n",
    "        cntModel = cv.fit_transform(train_set['seg'].values)\n",
    "#         clf = ExtraTreesClassifier()\n",
    "#         cntModel = clf.fit(cntModel, total_label).transform(cntModel)\n",
    "#         scaler = StandardScaler(with_mean=False)\n",
    "#         cntModel = scaler.fit_transform(cntModel)\n",
    "        \n",
    "        #ch2\n",
    "#         from sklearn.feature_selection import SelectKBest, chi2\n",
    "#         ch2 = SelectKBest(chi2, k=20000)\n",
    "#         cntModel = ch2.fit_transform(cntModel, total_label)\n",
    "        \n",
    "        classifier.fit(cntModel, total_label)\n",
    "        cntModel_test = cv.transform(test_h['seg'].values)\n",
    "#         cntModel_test = clf.transform(cntModel_test)\n",
    "#         cntModel_test = scaler.transform(cntModel_test)\n",
    "        #ch2\n",
    "#         cntModel_test = ch2.transform(cntModel_test)\n",
    "        \n",
    "        total_label_test = test_h.label.map(lambda x:convert_label(x))\n",
    "        \n",
    "        print \"test acc: \" + str(1 - (total_label_test  ^ classifier.predict(cntModel_test)).sum() / (cntModel_test.shape[0] + 0.0))\n",
    "        test_h['predict'] = test_h['predict'] + classifier.predict(cntModel_test)\n",
    "    print \"bagging acc: \" + str(1 - ((test_h['predict'] > iter_num/1.5) ^ total_label_test).sum()/(cntModel_test.shape[0] + 0.0))\n",
    "#     print test_h[(test_h['predict'] > 0) & (test_h['predict'] < iter_num)].to_string\n",
    "    return (test_h, cntModel, total_label, cv)"
   ]
  },
  {
   "cell_type": "code",
   "execution_count": 23,
   "metadata": {
    "collapsed": false
   },
   "outputs": [],
   "source": [
    "# test_h = pinyin_res[0]"
   ]
  },
  {
   "cell_type": "code",
   "execution_count": 24,
   "metadata": {
    "collapsed": false
   },
   "outputs": [
    {
     "data": {
      "text/plain": [
       "id                          6cc6ef8572d87098be81dd35ce895457\n",
       "label                                                      n\n",
       "content    在下跌浪时，找支撑是件吃力不讨好的事，下跌的速度比上涨的速度大3倍，因为恐惧比乐观还可怕。来...\n",
       "seg        在 zai4 下跌 xia4die1 浪 lang4 时 shi2 ， none5 找 zh...\n",
       "predict                                                    0\n",
       "Name: 9457, dtype: object"
      ]
     },
     "execution_count": 24,
     "metadata": {},
     "output_type": "execute_result"
    }
   ],
   "source": [
    "# test_h.iloc[9457]"
   ]
  },
  {
   "cell_type": "code",
   "execution_count": 25,
   "metadata": {
    "collapsed": false
   },
   "outputs": [
    {
     "data": {
      "text/plain": [
       "<86828x73112 sparse matrix of type '<type 'numpy.float64'>'\n",
       "\twith 3804522 stored elements in Compressed Sparse Row format>"
      ]
     },
     "execution_count": 25,
     "metadata": {},
     "output_type": "execute_result"
    }
   ],
   "source": [
    "# pinyin_res[1]"
   ]
  },
  {
   "cell_type": "code",
   "execution_count": 21,
   "metadata": {
    "collapsed": false
   },
   "outputs": [],
   "source": [
    "# cv = pinyin_res[3]"
   ]
  },
  {
   "cell_type": "code",
   "execution_count": 13,
   "metadata": {
    "collapsed": false
   },
   "outputs": [],
   "source": [
    "# features = cv.get_feature_names()"
   ]
  },
  {
   "cell_type": "code",
   "execution_count": 14,
   "metadata": {
    "collapsed": false
   },
   "outputs": [],
   "source": [
    "# features = pd.Series(features)"
   ]
  },
  {
   "cell_type": "code",
   "execution_count": 30,
   "metadata": {
    "collapsed": false
   },
   "outputs": [],
   "source": [
    "res = test_h[test_h['predict']//3 != test_h.label.map(lambda x:convert_label(x))]"
   ]
  },
  {
   "cell_type": "code",
   "execution_count": 31,
   "metadata": {
    "collapsed": false
   },
   "outputs": [],
   "source": [
    "res.to_csv(\"wrong.data\",sep=\"\\t\",encoding=\"utf-8\")"
   ]
  },
  {
   "cell_type": "markdown",
   "metadata": {},
   "source": [
    "## feature process:\n",
    "- origin: 75%\n",
    "- pinyin: 80%\n",
    "- remove Number head : 83%\n",
    "- regularize han number: 83.2%\n",
    "- qq bi tr gram: 84.4%\n",
    "- NR: nearly 85%\n",
    "- negtive weight: 88%"
   ]
  },
  {
   "cell_type": "code",
   "execution_count": 36,
   "metadata": {
    "collapsed": false,
    "scrolled": true
   },
   "outputs": [
    {
     "name": "stdout",
     "output_type": "stream",
     "text": [
      "test acc: 0.877553053701\n",
      "test acc: 0.880143469164\n",
      "test acc: 0.88432798645\n",
      "bagging acc: 0.879645312344\n"
     ]
    }
   ],
   "source": [
    "pinyin_res = do_compare(\"../corpus/seg.data.pinyin\", \"../corpus/seg.test.data.pinyin\", 3, LinearSVC(C = 0.01, class_weight={0:5, 1:1}))"
   ]
  },
  {
   "cell_type": "code",
   "execution_count": 37,
   "metadata": {
    "collapsed": true
   },
   "outputs": [],
   "source": [
    "classifier = LinearSVC(C = 0.01, class_weight={0:5, 1:1})"
   ]
  },
  {
   "cell_type": "code",
   "execution_count": null,
   "metadata": {
    "collapsed": false
   },
   "outputs": [],
   "source": [
    "# normal_res = do_compare(\"../corpus/seg.data\", \"../corpus/seg.test.data\", 10, LinearSVC(C = 0.01))"
   ]
  },
  {
   "cell_type": "code",
   "execution_count": 75,
   "metadata": {
    "collapsed": false
   },
   "outputs": [],
   "source": [
    "# rf_classifier = RandomForestClassifier(n_estimators=1000)\n",
    "# normal_res =  do_compare(\"../corpus/seg.data\", \"../corpus/seg.test.data\", 10, rf_classifier)"
   ]
  },
  {
   "cell_type": "code",
   "execution_count": 38,
   "metadata": {
    "collapsed": false
   },
   "outputs": [
    {
     "data": {
      "image/png": "[encoded data removed]",
      "text/plain": [
       "<matplotlib.figure.Figure at 0x7fe285beabd0>"
      ]
     },
     "metadata": {},
     "output_type": "display_data"
    }
   ],
   "source": [
    "import numpy as np\n",
    "from scipy import interp\n",
    "import matplotlib.pyplot as plt\n",
    "\n",
    "from sklearn import svm, datasets\n",
    "from sklearn.metrics import roc_curve, auc\n",
    "from sklearn.cross_validation import StratifiedKFold\n",
    "\n",
    "def correctForm(x):\n",
    "    if x >= 1: return 1\n",
    "    else: return 0\n",
    "def crossValidationWithROC(X, y, n_folds):\n",
    "    ###############################################################################\n",
    "    # Classification and ROC analysis\n",
    "    # Run classifier with cross-validation and plot ROC curves\n",
    "    cv = StratifiedKFold(y, n_folds,shuffle=True)\n",
    "    mean_tpr = 0.0\n",
    "    mean_fpr = np.linspace(0, 1, 100)\n",
    "    all_tpr = []\n",
    "\n",
    "    for i, (train, test) in enumerate(cv):\n",
    "        probas_ = classifier.fit(X[train], y[train].map(lambda x: correctForm(x))).predict(X[test])\n",
    "        # Compute ROC curve and area the curve\n",
    "        fpr, tpr, thresholds = roc_curve(y[test].map(lambda x: correctForm(x)), probas_)\n",
    "        mean_tpr += interp(mean_fpr, fpr, tpr)\n",
    "        mean_tpr[0] = 0.0\n",
    "        roc_auc = auc(fpr, tpr)\n",
    "        plt.plot(fpr, tpr, lw=1, label='ROC fold %d (area = %0.2f)' % (i, roc_auc))\n",
    "\n",
    "    plt.plot([0, 1], [0, 1], '--', color=(0.6, 0.6, 0.6), label='Luck')\n",
    "\n",
    "    mean_tpr /= len(cv)\n",
    "    mean_tpr[-1] = 1.0\n",
    "    mean_auc = auc(mean_fpr, mean_tpr)\n",
    "    plt.plot(mean_fpr, mean_tpr, 'k--',\n",
    "             label='Mean ROC (area = %0.2f)' % mean_auc, lw=2)\n",
    "\n",
    "    plt.xlim([-0.05, 1.05])\n",
    "    plt.ylim([-0.05, 1.05])\n",
    "    plt.xlabel('False Positive Rate')\n",
    "    plt.ylabel('True Positive Rate')\n",
    "    plt.title('Receiver operating characteristic example')\n",
    "    plt.legend(loc=\"lower right\")\n",
    "    plt.show()\n",
    "pinyin_res[2].index=range(0,len(pinyin_res[2]))\n",
    "crossValidationWithROC(pinyin_res[1], pinyin_res[2], 6)"
   ]
  },
  {
   "cell_type": "code",
   "execution_count": 28,
   "metadata": {
    "collapsed": false
   },
   "outputs": [],
   "source": [
    "# def getWord(aa):\n",
    "#     if aa.flag == u'm':\n",
    "#         return aa.word[0] + 'NUM' + str(len(aa.word))\n",
    "#     else:\n",
    "#         return aa.word\n",
    "# dict_ = pd.read_csv(\"lungutang.guanggao.words\", \"\\t\")\n",
    "# dict_.label = 3\n",
    "# dict_.to_csv(\"user_dict.data\", sep=\" \", index=False, header=False)\n",
    "# #jieba segmenter\n",
    "# import jieba\n",
    "# import jieba.posseg as pseg\n",
    "# jieba.load_userdict(\"user_dict.data\")\n",
    "# jieba.enable_parallel(4)\n",
    "# def segmenter(line):\n",
    "#     words = pseg.cut(line)\n",
    "#     return ' '.join(map(getWord, list(words)))\n",
    "#feature selection\n",
    "# from sklearn.feature_selection import SelectKBest, chi2\n",
    "# ch2 = SelectKBest(chi2, k=10000)\n",
    "# cntModel = ch2.fit_transform(cntModel, total_label)\n",
    "# bb = ch2.get_support()\n",
    "# features =cv.get_feature_names()\n",
    "# features= np.array(features)\n",
    "# topFeature = np.array(features)[bb == True]\n",
    "# pd.DataFrame(topFeature).to_csv(\"feature.data\", encoding=\"utf-8\")\n",
    "# from sklearn.linear_model import SGDClassifier\n",
    "#logistic\n",
    "# classifier = SGDClassifier(loss=\"log\", penalty=\"l2\",class_weight={0:10,1:1}, average=True, n_iter = 100, alpha=0.001)\n",
    "# clf.fit(cntModel, total_label)"
   ]
  },
  {
   "cell_type": "markdown",
   "metadata": {},
   "source": [
    "# one gram\n",
    "## initial: default n_iter=100\n",
    "stable\n",
    "## alpha=0.001\n",
    "because high dimension: deal with overfitting\n",
    "\n",
    "## hash vs count vs tfidf\n",
    "count\n",
    "- lr l2 0.48550724637681164 0.67\n",
    "- lr l1 \n",
    "- hinge l1\n",
    "- hinge l2\n",
    "\n",
    "tfidf\n",
    "- lr l2 0.66304347826086962 0.66\n",
    "- lr l1 0.44202898550724634 0.64\n",
    "- hinge l1 0.49637681159420288 0.63\n",
    "- hinge l2 0.69565217391304346 0.64\n",
    "- svc 0.52173913043478259 0.62\n",
    "- svc with ch2 top 200 0.59 0.63\n",
    "\n",
    "## after change : n_iter = 100, alpha=0.1\n",
    "lr : 0.97826086956521741 overall:0.92960971480852683"
   ]
  },
  {
   "cell_type": "markdown",
   "metadata": {},
   "source": [
    "# bigram top 1000\n",
    "- lr l2 0.49 0.52\n",
    "- svc l2 0.58 0.64\n",
    "# bigram top 10000\n",
    "- lr 0.57 0.59\n",
    "# bigram top 100000\n",
    "- lr 0.60 0.62\n",
    "- svc 0.61 0.64 "
   ]
  },
  {
   "cell_type": "markdown",
   "metadata": {},
   "source": [
    "# pos sub sample + jieba seg + user difine user dict\n",
    "\n",
    "- svc : auc: 94%\n"
   ]
  }
 ],
 "metadata": {
  "kernelspec": {
   "display_name": "Python 2",
   "language": "python",
   "name": "python2"
  },
  "language_info": {
   "codemirror_mode": {
    "name": "ipython",
    "version": 2
   },
   "file_extension": ".py",
   "mimetype": "text/x-python",
   "name": "python",
   "nbconvert_exporter": "python",
   "pygments_lexer": "ipython2",
   "version": "2.7.9"
  }
 },
 "nbformat": 4,
 "nbformat_minor": 0
}
