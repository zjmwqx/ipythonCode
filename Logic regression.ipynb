{
 "metadata": {
  "name": ""
 },
 "nbformat": 3,
 "nbformat_minor": 0,
 "worksheets": [
  {
   "cells": [
    {
     "cell_type": "code",
     "collapsed": false,
     "input": [
      "def loadData():\n",
      "    ft = open('machinelearninginaction/Ch05/testSet.txt')\n",
      "    dataSet = []\n",
      "    dataLabel = []\n",
      "    for line in ft.readlines():\n",
      "        dataAr = line.strip().split('\\t')\n",
      "        dataSet.append([1.0, float(dataAr[0]), float(dataAr[1])])\n",
      "        dataLabel.append(int(dataAr[2]))\n",
      "    return dataSet,dataLabel"
     ],
     "language": "python",
     "metadata": {},
     "outputs": [],
     "prompt_number": 5
    },
    {
     "cell_type": "code",
     "collapsed": false,
     "input": [
      "def sigmoid(intX):\n",
      "    return 1.0/(1+exp(-intX))"
     ],
     "language": "python",
     "metadata": {},
     "outputs": [],
     "prompt_number": 22
    },
    {
     "cell_type": "code",
     "collapsed": false,
     "input": [
      "def gradAscent(dataSet, dataLabel):\n",
      "    dataMat = mat(dataSet)\n",
      "    m,n = shape(dataMat)\n",
      "    labelMat = mat(dataLabel).transpose()\n",
      "    ww = ones((n,1))\n",
      "    alpha = 0.01\n",
      "    maxCycles = 550\n",
      "    for k in range(maxCycles):\n",
      "        error = labelMat - sigmoid(dataMat * ww)\n",
      "        ww = ww + alpha * dataMat.transpose()*error\n",
      "    print sum(array(labelMat - sigmoid(dataMat * ww))**2)\n",
      "    return ww"
     ],
     "language": "python",
     "metadata": {},
     "outputs": [],
     "prompt_number": 54
    },
    {
     "cell_type": "code",
     "collapsed": false,
     "input": [
      "dataset, labels = loadData()"
     ],
     "language": "python",
     "metadata": {},
     "outputs": [],
     "prompt_number": 37
    },
    {
     "cell_type": "code",
     "collapsed": false,
     "input": [
      "ww = gradAscent(dataset,labels)"
     ],
     "language": "python",
     "metadata": {},
     "outputs": [
      {
       "output_type": "stream",
       "stream": "stdout",
       "text": [
        "2.98443449548\n"
       ]
      }
     ],
     "prompt_number": 59
    },
    {
     "cell_type": "code",
     "collapsed": false,
     "input": [
      "#\u6807\u51c6\u800c\u5206\u7c7b\u53ef\u89c6\u5316\n",
      "def plotBestFit(wei):\n",
      "    import matplotlib.pyplot as plt\n",
      "    weights = wei.getA()#\u5f97\u5230ndarray\n",
      "    dataMat,labelMat=loadData()\n",
      "    dataArr = dataMat\n",
      "    n = shape(dataArr)[0]\n",
      "    xcord1 = []; ycord1 = []\n",
      "    xcord2 = []; ycord2 = []\n",
      "    for i in range(n):\n",
      "        if int(labelMat[i])== 1:\n",
      "            xcord1.append(dataArr[i][1]); ycord1.append(dataArr[i][2])\n",
      "        else:\n",
      "            xcord2.append(dataArr[i][1]); ycord2.append(dataArr[i][2])\n",
      "    fig = plt.figure()\n",
      "    ax = fig.add_subplot(111)\n",
      "    ax.scatter(xcord1, ycord1, s=30, c='red', marker='s')\n",
      "    ax.scatter(xcord2, ycord2, s=30, c='green')\n",
      "    x = arange(-3.0, 3.0, 0.1)\n",
      "    y = (-weights[0]-weights[1]*x)/weights[2]#\u66ff\u6362\u4e3a\u5206\u7c7b\u51fd\u6570\uff0c\n",
      "    ax.plot(x, y)\n",
      "    plt.xlabel('X1'); plt.ylabel('X2');\n",
      "    plt.show()\n"
     ],
     "language": "python",
     "metadata": {},
     "outputs": [],
     "prompt_number": 85
    },
    {
     "cell_type": "code",
     "collapsed": false,
     "input": [
      "k = [[1,2,3],[2,3,4]]"
     ],
     "language": "python",
     "metadata": {},
     "outputs": [],
     "prompt_number": 78
    },
    {
     "cell_type": "code",
     "collapsed": false,
     "input": [
      "plotBestFit(ww)"
     ],
     "language": "python",
     "metadata": {},
     "outputs": [
      {
       "metadata": {},
       "output_type": "display_data",
       "png": "[encoded data removed]",
       "text": [
        "<matplotlib.figure.Figure at 0x4535990>"
       ]
      }
     ],
     "prompt_number": 86
    },
    {
     "cell_type": "code",
     "collapsed": false,
     "input": [
      "k[1][1]"
     ],
     "language": "python",
     "metadata": {},
     "outputs": [
      {
       "metadata": {},
       "output_type": "pyout",
       "prompt_number": 84,
       "text": [
        "3"
       ]
      }
     ],
     "prompt_number": 84
    },
    {
     "cell_type": "code",
     "collapsed": false,
     "input": [
      "shape(array(k))"
     ],
     "language": "python",
     "metadata": {},
     "outputs": [
      {
       "metadata": {},
       "output_type": "pyout",
       "prompt_number": 72,
       "text": [
        "(3,)"
       ]
      }
     ],
     "prompt_number": 72
    },
    {
     "cell_type": "code",
     "collapsed": false,
     "input": [
      "def stocGradAscent1(dataMatrix, classLabels, numIter=150):\n",
      "    m,n = shape(dataMatrix)\n",
      "    weights = ones(n)\n",
      "    for j in range(numIter):\n",
      "        dataIndex = range(m)\n",
      "        for i in range(m):\n",
      "            alpha = 4/(1.0+j+i)+0.01\n",
      "            randIndex = int(random.uniform(0,len(dataIndex)))\n",
      "            h = sigmoid(sum(dataMatrix[randIndex]*weights))\n",
      "            error = classLabels[randIndex] - h\n",
      "            weights = weights + alpha * error * dataMatrix[randIndex]\n",
      "            del(dataIndex[randIndex])\n",
      "    return weights"
     ],
     "language": "python",
     "metadata": {},
     "outputs": [],
     "prompt_number": 94
    },
    {
     "cell_type": "code",
     "collapsed": false,
     "input": [
      "ww = stocGradAscent1(array(dataset),labels)"
     ],
     "language": "python",
     "metadata": {},
     "outputs": [],
     "prompt_number": 96
    }
   ],
   "metadata": {}
  }
 ]
}