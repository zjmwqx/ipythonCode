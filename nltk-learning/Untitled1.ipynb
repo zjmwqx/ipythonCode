{
 "metadata": {
  "name": "",
  "signature": "sha256:7f0efb553fb39662c6ef749cd2de9d6aad9fab81709a1b372a01b634e0751679"
 },
 "nbformat": 3,
 "nbformat_minor": 0,
 "worksheets": [
  {
   "cells": [
    {
     "cell_type": "code",
     "collapsed": false,
     "input": [
      ">>> import numpy as np\n",
      ">>> from sklearn import datasets\n",
      ">>> iris = datasets.load_iris()\n",
      ">>> iris_X = iris.data\n",
      ">>> iris_y = iris.target\n",
      ">>> np.unique(iris_y)\n",
      "array([0, 1, 2])"
     ],
     "language": "python",
     "metadata": {},
     "outputs": [
      {
       "metadata": {},
       "output_type": "pyout",
       "prompt_number": 132,
       "text": [
        "array([0, 1, 2])"
       ]
      }
     ],
     "prompt_number": 132
    },
    {
     "cell_type": "code",
     "collapsed": false,
     "input": [
      "np.random.seed(0)"
     ],
     "language": "python",
     "metadata": {},
     "outputs": [],
     "prompt_number": 133
    },
    {
     "cell_type": "code",
     "collapsed": false,
     "input": [
      "indices = np.random.permutation(len(iris_X))"
     ],
     "language": "python",
     "metadata": {},
     "outputs": [],
     "prompt_number": 134
    },
    {
     "cell_type": "code",
     "collapsed": false,
     "input": [
      ">>> iris_X_train = iris_X[indices[:-10]]\n",
      ">>> iris_y_train = iris_y[indices[:-10]]\n",
      ">>> iris_X_test  = iris_X[indices[-10:]]\n",
      ">>> iris_y_test  = iris_y[indices[-10:]]"
     ],
     "language": "python",
     "metadata": {},
     "outputs": [],
     "prompt_number": 135
    },
    {
     "cell_type": "code",
     "collapsed": false,
     "input": [
      "from sklearn.neighbors import KNeighborsClassifier"
     ],
     "language": "python",
     "metadata": {},
     "outputs": [],
     "prompt_number": 136
    },
    {
     "cell_type": "code",
     "collapsed": false,
     "input": [
      "knn = KNeighborsClassifier()"
     ],
     "language": "python",
     "metadata": {},
     "outputs": [],
     "prompt_number": 137
    },
    {
     "cell_type": "code",
     "collapsed": false,
     "input": [
      "knn.fit(iris_X_train, iris_y_train)"
     ],
     "language": "python",
     "metadata": {},
     "outputs": [
      {
       "metadata": {},
       "output_type": "pyout",
       "prompt_number": 138,
       "text": [
        "KNeighborsClassifier(algorithm='auto', leaf_size=30, metric='minkowski',\n",
        "           n_neighbors=5, p=2, weights='uniform')"
       ]
      }
     ],
     "prompt_number": 138
    },
    {
     "cell_type": "code",
     "collapsed": false,
     "input": [
      "knn.predict(iris_X_test)"
     ],
     "language": "python",
     "metadata": {},
     "outputs": [
      {
       "metadata": {},
       "output_type": "pyout",
       "prompt_number": 139,
       "text": [
        "array([1, 2, 1, 0, 0, 0, 2, 1, 2, 0])"
       ]
      }
     ],
     "prompt_number": 139
    },
    {
     "cell_type": "code",
     "collapsed": false,
     "input": [
      "from sklearn import linear_model"
     ],
     "language": "python",
     "metadata": {},
     "outputs": [],
     "prompt_number": 140
    },
    {
     "cell_type": "code",
     "collapsed": false,
     "input": [
      "X = np.c_[.5, 1].T\n",
      "y = [.5, 1]\n",
      "test = np.c_[0, 2].T\n",
      "regr = linear_model.Ridge(alpha=.1)"
     ],
     "language": "python",
     "metadata": {},
     "outputs": [],
     "prompt_number": 144
    },
    {
     "cell_type": "code",
     "collapsed": false,
     "input": [
      "import matplotlib.pylab as plt"
     ],
     "language": "python",
     "metadata": {},
     "outputs": [],
     "prompt_number": 45
    },
    {
     "cell_type": "code",
     "collapsed": false,
     "input": [
      "np.c_[.5, 1].T"
     ],
     "language": "python",
     "metadata": {},
     "outputs": [
      {
       "metadata": {},
       "output_type": "pyout",
       "prompt_number": 40,
       "text": [
        "array([[ 0.5],\n",
        "       [ 1. ]])"
       ]
      }
     ],
     "prompt_number": 40
    },
    {
     "cell_type": "code",
     "collapsed": false,
     "input": [
      "np.random.seed(0)"
     ],
     "language": "python",
     "metadata": {},
     "outputs": [],
     "prompt_number": 25
    },
    {
     "cell_type": "code",
     "collapsed": false,
     "input": [
      "np.mat([ 0.5,  1.]).T"
     ],
     "language": "python",
     "metadata": {},
     "outputs": [
      {
       "metadata": {},
       "output_type": "pyout",
       "prompt_number": 54,
       "text": [
        "matrix([[ 0.5],\n",
        "        [ 1. ]])"
       ]
      }
     ],
     "prompt_number": 54
    },
    {
     "cell_type": "code",
     "collapsed": false,
     "input": [
      "for _ in range(6):\n",
      "    this_X = .1*np.random.normal(size=(2, 1)) + X\n",
      "    regr.fit(this_X, y)\n",
      "    plt.plot(test, regr.predict(test))\n",
      "    plt.scatter(this_X, y, s = 10)"
     ],
     "language": "python",
     "metadata": {},
     "outputs": [
      {
       "metadata": {},
       "output_type": "display_data",
       "png": "[encoded data removed]",
       "text": [
        "<matplotlib.figure.Figure at 0x5275dd0>"
       ]
      }
     ],
     "prompt_number": 145
    },
    {
     "cell_type": "code",
     "collapsed": false,
     "input": [
      "import numpy as np\n",
      "from sklearn import datasets, svm\n",
      "digits = datasets.load_digits()"
     ],
     "language": "python",
     "metadata": {},
     "outputs": [],
     "prompt_number": 98
    },
    {
     "cell_type": "code",
     "collapsed": false,
     "input": [
      "X_digits = digits.data\n",
      "Y_digits = digits.target"
     ],
     "language": "python",
     "metadata": {},
     "outputs": [],
     "prompt_number": 99
    },
    {
     "cell_type": "code",
     "collapsed": false,
     "input": [
      "X_folds = np.array_split(X_digits, 3)\n",
      "Y_folds = np.array_split(Y_digits, 3)"
     ],
     "language": "python",
     "metadata": {},
     "outputs": [],
     "prompt_number": 100
    },
    {
     "cell_type": "code",
     "collapsed": false,
     "input": [
      "scores = list()\n",
      "for k in range(3):\n",
      "    x_train = list(X_folds)\n",
      "    y_train = list(Y_folds)\n",
      "    x_test = x_train.pop(k)\n",
      "    y_test = y_train.pop(k)\n",
      "    x_train = np.concatenate(x_train)\n",
      "    y_train = np.concatenate(y_train)\n",
      "    clf = svm.LinearSVC()\n",
      "    \n",
      "    scores.append(clf.fit(x_train, y_train).score(x_test, y_test))"
     ],
     "language": "python",
     "metadata": {},
     "outputs": [],
     "prompt_number": 122
    },
    {
     "cell_type": "code",
     "collapsed": false,
     "input": [
      "clf"
     ],
     "language": "python",
     "metadata": {},
     "outputs": [
      {
       "metadata": {},
       "output_type": "pyout",
       "prompt_number": 123,
       "text": [
        "LinearSVC(C=1.0, class_weight=None, dual=True, fit_intercept=True,\n",
        "     intercept_scaling=1, loss='l2', multi_class='ovr', penalty='l2',\n",
        "     random_state=None, tol=0.0001, verbose=0)"
       ]
      }
     ],
     "prompt_number": 123
    },
    {
     "cell_type": "code",
     "collapsed": false,
     "input": [
      ">>> from sklearn import datasets, svm\n",
      ">>> digits = datasets.load_digits()\n",
      ">>> X_digits = digits.data\n",
      ">>> y_digits = digits.target\n",
      ">>> svc = svm.SVC(C=1, kernel='linear')\n",
      ">>> svc.fit(X_digits[:-100], y_digits[:-100]).score(X_digits[-100:], y_digits[-100:])\n",
      ">>> import numpy as np\n",
      ">>> X_folds = np.array_split(X_digits, 3)\n",
      ">>> y_folds = np.array_split(y_digits, 3)\n",
      ">>> scores = list()\n",
      ">>> for k in range(3):\n",
      "...     # We use 'list' to copy, in order to 'pop' later on\n",
      "...     X_train = list(X_folds)\n",
      "...     X_test  = X_train.pop(k)\n",
      "...     X_train = np.concatenate(X_train)\n",
      "...     y_train = list(y_folds)\n",
      "...     y_test  = y_train.pop(k)\n",
      "...     y_train = np.concatenate(y_train)\n",
      "...     scores.append(svc.fit(X_train, y_train).score(X_test, y_test))\n",
      ">>> print(scores)"
     ],
     "language": "python",
     "metadata": {},
     "outputs": [
      {
       "output_type": "stream",
       "stream": "stdout",
       "text": [
        "[0.93489148580968284, 0.95659432387312182, 0.93989983305509184]\n"
       ]
      }
     ],
     "prompt_number": 116
    },
    {
     "cell_type": "code",
     "collapsed": false,
     "input": [
      "from sklearn import linear_model, datasets\n",
      "lasso = linear_model.LassoCV()\n",
      "diabetes = datasets.load_diabetes()\n",
      "X_diabetes = diabetes.data\n",
      "y_diabetes = diabetes.target"
     ],
     "language": "python",
     "metadata": {},
     "outputs": [],
     "prompt_number": 147
    },
    {
     "cell_type": "code",
     "collapsed": false,
     "input": [
      "lasso.fit(X_diabetes, y_diabetes)"
     ],
     "language": "python",
     "metadata": {},
     "outputs": [
      {
       "metadata": {},
       "output_type": "pyout",
       "prompt_number": 150,
       "text": [
        "LassoCV(alphas=None, copy_X=True, cv=None, eps=0.001, fit_intercept=True,\n",
        "    max_iter=1000, n_alphas=100, normalize=False, precompute='auto',\n",
        "    tol=0.0001, verbose=False)"
       ]
      }
     ],
     "prompt_number": 150
    },
    {
     "cell_type": "code",
     "collapsed": false,
     "input": [
      "from __future__ import print_function\n",
      "\n",
      "import numpy as np\n",
      "import pylab as pl\n",
      "\n",
      "from sklearn import cross_validation, datasets, linear_model\n",
      "\n",
      "print(__doc__)\n",
      "\n",
      "diabetes = datasets.load_diabetes()\n",
      "X = diabetes.data[:150]\n",
      "y = diabetes.target[:150]\n",
      "\n",
      "lasso = linear_model.Lasso()\n",
      "\n",
      "alphas = np.logspace(-4, -.5, 30)\n",
      "\n",
      "scores = list()\n",
      "scores_std = list()\n",
      "\n",
      "for alpha in alphas:\n",
      "    lasso.alpha = alpha\n",
      "    this_scores = cross_validation.cross_val_score(lasso, X, y, n_jobs=1)\n",
      "    scores.append(np.mean(this_scores))\n",
      "    scores_std.append(np.std(this_scores))\n",
      "\n",
      "pl.figure(figsize=(4, 3))\n",
      "pl.semilogx(alphas, scores)\n",
      "# plot error lines showing +/- std. errors of the scores\n",
      "pl.semilogx(alphas, np.array(scores) + np.array(scores_std) / np.sqrt(len(X)),\n",
      "            'b--')\n",
      "pl.semilogx(alphas, np.array(scores) - np.array(scores_std) / np.sqrt(len(X)),\n",
      "            'b--')\n",
      "pl.ylabel('CV score')\n",
      "pl.xlabel('alpha')\n",
      "pl.axhline(np.max(scores), linestyle='--', color='.5')\n",
      "\n",
      "##############################################################################\n",
      "# Bonus: how much can you trust the selection of alpha?\n",
      "\n",
      "# To answer this question we use the LassoCV object that sets its alpha\n",
      "# parameter automatically from the data by internal cross-validation (i.e. it\n",
      "# performs cross-validation on the training data it receives).\n",
      "# We use external cross-validation to see how much the automatically obtained\n",
      "# alphas differ across different cross-validation folds.\n",
      "lasso_cv = linear_model.LassoCV(alphas=alphas)\n",
      "k_fold = cross_validation.KFold(len(X), 3)\n",
      "\n",
      "print(\"Answer to the bonus question:\",\n",
      "      \"how much can you trust the selection of alpha?\")\n",
      "print()\n",
      "print(\"Alpha parameters maximising the generalization score on different\")\n",
      "print(\"subsets of the data:\")\n",
      "for k, (train, test) in enumerate(k_fold):\n",
      "    lasso_cv.fit(X[train], y[train])\n",
      "    print(\"[fold {0}] alpha: {1:.5f}, score: {2:.5f}\".\n",
      "          format(k, lasso_cv.alpha_, lasso_cv.score(X[test], y[test])))\n",
      "print()\n",
      "print(\"Answer: Not very much since we obtained different alphas for different\")\n",
      "print(\"subsets of the data and moreover, the scores for these alphas differ\")\n",
      "print(\"quite substantially.\")\n",
      "\n",
      "pl.show()"
     ],
     "language": "python",
     "metadata": {},
     "outputs": [
      {
       "output_type": "stream",
       "stream": "stdout",
       "text": [
        "Automatically created module for IPython interactive environment\n",
        "Answer to the bonus question:"
       ]
      },
      {
       "output_type": "stream",
       "stream": "stdout",
       "text": [
        " how much can you trust the selection of alpha?\n",
        "\n",
        "Alpha parameters maximising the generalization score on different\n",
        "subsets of the data:\n",
        "[fold 0] alpha: 0.00030, score: 0.49984"
       ]
      },
      {
       "output_type": "stream",
       "stream": "stdout",
       "text": [
        "\n",
        "[fold 1] alpha: 0.00053, score: 0.10660"
       ]
      },
      {
       "output_type": "stream",
       "stream": "stdout",
       "text": [
        "\n",
        "[fold 2] alpha: 0.00030, score: 0.44419"
       ]
      },
      {
       "output_type": "stream",
       "stream": "stdout",
       "text": [
        "\n",
        "\n",
        "Answer: Not very much since we obtained different alphas for different\n",
        "subsets of the data and moreover, the scores for these alphas differ\n",
        "quite substantially.\n"
       ]
      },
      {
       "metadata": {},
       "output_type": "display_data",
       "png": "[encoded data removed]",
       "text": [
        "<matplotlib.figure.Figure at 0x4fb7d90>"
       ]
      }
     ],
     "prompt_number": 155
    },
    {
     "cell_type": "code",
     "collapsed": false,
     "input": [
      "import numpy as np\n",
      "import pylab as pl\n",
      "from sklearn import datasets, svm\n",
      "irirs = datasets.load_iris()\n",
      "x = irirs.data\n",
      "y = irirs.target\n",
      "x = x[y != 0, :2]\n",
      "y = y[y != 0]"
     ],
     "language": "python",
     "metadata": {},
     "outputs": [],
     "prompt_number": 159
    },
    {
     "cell_type": "code",
     "collapsed": false,
     "input": [
      "n_sample = len(x)"
     ],
     "language": "python",
     "metadata": {},
     "outputs": [],
     "prompt_number": 160
    },
    {
     "cell_type": "code",
     "collapsed": false,
     "input": [
      "np.random.seed(0)\n",
      "order = np.random.permutation(n_sample)\n",
      "X = X[order]\n",
      "y = y[order].astype(np.float)\n",
      "\n",
      "X_train = X[:.9 * n_sample]\n",
      "y_train = y[:.9 * n_sample]\n",
      "X_test = X[.9 * n_sample:]\n",
      "y_test = y[.9 * n_sample:]"
     ],
     "language": "python",
     "metadata": {},
     "outputs": [
      {
       "output_type": "stream",
       "stream": "stderr",
       "text": [
        "-c:6: DeprecationWarning: using a non-integer number instead of an integer will result in an error in the future\n",
        "-c:7: DeprecationWarning: using a non-integer number instead of an integer will result in an error in the future\n",
        "-c:8: DeprecationWarning: using a non-integer number instead of an integer will result in an error in the future\n",
        "-c:9: DeprecationWarning: using a non-integer number instead of an integer will result in an error in the future\n"
       ]
      }
     ],
     "prompt_number": 167
    }
   ],
   "metadata": {}
  }
 ]
}