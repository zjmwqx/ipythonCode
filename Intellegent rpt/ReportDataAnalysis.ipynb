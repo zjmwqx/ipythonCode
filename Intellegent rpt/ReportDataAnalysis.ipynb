{
 "metadata": {
  "name": ""
 },
 "nbformat": 3,
 "nbformat_minor": 0,
 "worksheets": [
  {
   "cells": [
    {
     "cell_type": "code",
     "collapsed": false,
     "input": [
      "import pymongo\n",
      "import pandas as pd\n",
      "import imp\n",
      "import matplotlib.pylab as plt\n",
      "import matplotlib.font_manager"
     ],
     "language": "python",
     "metadata": {},
     "outputs": [],
     "prompt_number": 330
    },
    {
     "cell_type": "code",
     "collapsed": false,
     "input": [
      "matplotlib.font_manager.__file__"
     ],
     "language": "python",
     "metadata": {},
     "outputs": [
      {
       "metadata": {},
       "output_type": "pyout",
       "prompt_number": 331,
       "text": [
        "'/home/jiminzhou/.virtualenv/python3.3/lib/python3.3/site-packages/matplotlib/font_manager.py'"
       ]
      }
     ],
     "prompt_number": 331
    },
    {
     "cell_type": "code",
     "collapsed": false,
     "input": [
      "matplotlib.rcParams['font.family'] = 'WenQuanYi Zen Hei'"
     ],
     "language": "python",
     "metadata": {},
     "outputs": [],
     "prompt_number": 332
    },
    {
     "cell_type": "code",
     "collapsed": false,
     "input": [
      "db = pymongo.Connection(host='nosql01-dev.datayes.com',port=27017)"
     ],
     "language": "python",
     "metadata": {},
     "outputs": [],
     "prompt_number": 333
    },
    {
     "cell_type": "code",
     "collapsed": false,
     "input": [
      "algName='alg1'"
     ],
     "language": "python",
     "metadata": {},
     "outputs": [],
     "prompt_number": 367
    },
    {
     "cell_type": "code",
     "collapsed": false,
     "input": [
      "result = pd.DataFrame(list(db.reportQA.reportsInfo.find({'qaUpdateTime': {'$gte': '2013-12-01'} },\n",
      "                                                              {'_id':0,'title':1,'qaCategory':1,algName:1})))"
     ],
     "language": "python",
     "metadata": {},
     "outputs": [],
     "prompt_number": 368
    },
    {
     "cell_type": "code",
     "collapsed": false,
     "input": [
      "def isNullCate(cateList):\n",
      "    return len(set(cateList).intersection(['\u672a\u5206\u7c7b'])) == 0"
     ],
     "language": "python",
     "metadata": {},
     "outputs": [],
     "prompt_number": 369
    },
    {
     "cell_type": "code",
     "collapsed": false,
     "input": [
      "a = isNullCate(['\u672a\u5206\u7c7b'])\n",
      "print(a)"
     ],
     "language": "python",
     "metadata": {},
     "outputs": [
      {
       "output_type": "stream",
       "stream": "stdout",
       "text": [
        "False\n"
       ]
      }
     ],
     "prompt_number": 370
    },
    {
     "cell_type": "code",
     "collapsed": false,
     "input": [
      "result = result.dropna()"
     ],
     "language": "python",
     "metadata": {},
     "outputs": [],
     "prompt_number": 371
    },
    {
     "cell_type": "code",
     "collapsed": false,
     "input": [
      "result = result[result['qaCategory'].apply(isNullCate)]"
     ],
     "language": "python",
     "metadata": {},
     "outputs": [],
     "prompt_number": 373
    },
    {
     "cell_type": "code",
     "collapsed": false,
     "input": [
      "result.head()"
     ],
     "language": "python",
     "metadata": {},
     "outputs": [
      {
       "html": [
        "<div style=\"max-height:1000px;max-width:1500px;overflow:auto;\">\n",
        "<table border=\"1\" class=\"dataframe\">\n",
        "  <thead>\n",
        "    <tr style=\"text-align: right;\">\n",
        "      <th></th>\n",
        "      <th>alg1</th>\n",
        "      <th>qaCategory</th>\n",
        "      <th>title</th>\n",
        "    </tr>\n",
        "  </thead>\n",
        "  <tbody>\n",
        "    <tr>\n",
        "      <th>3 </th>\n",
        "      <td>       [\u62c5\u4fdd\u4e8b\u9879]</td>\n",
        "      <td>        [\u672a\u5206\u7c7b]</td>\n",
        "      <td>            \u5180\u4e1c\u6c34\u6ce5\uff1a\u5bf9\u5916\u62c5\u4fdd\u7ba1\u7406\u529e\u6cd5\uff082013\u5e7410\u6708\uff09.pdf</td>\n",
        "    </tr>\n",
        "    <tr>\n",
        "      <th>14</th>\n",
        "      <td>       [\u62c5\u4fdd\u4e8b\u9879]</td>\n",
        "      <td>        [\u672a\u5206\u7c7b]</td>\n",
        "      <td>                       \u957f\u6c5f\u4f20\u5a92\u5bf9\u5916\u62c5\u4fdd\u7ba1\u7406\u529e\u6cd5.pdf</td>\n",
        "    </tr>\n",
        "    <tr>\n",
        "      <th>18</th>\n",
        "      <td>       [\u62c5\u4fdd\u4e8b\u9879]</td>\n",
        "      <td>       [\u62c5\u4fdd\u4e8b\u9879]</td>\n",
        "      <td>                  \u5927\u6052\u79d1\u6280\u4e3a\u63a7\u80a1\u5b50\u516c\u53f8\u63d0\u4f9b\u62c5\u4fdd\u7684\u516c\u544a.pdf</td>\n",
        "    </tr>\n",
        "    <tr>\n",
        "      <th>19</th>\n",
        "      <td> [\u5173\u8054\u4ea4\u6613, \u62c5\u4fdd\u4e8b\u9879]</td>\n",
        "      <td> [\u62c5\u4fdd\u4e8b\u9879, \u5173\u8054\u4ea4\u6613]</td>\n",
        "      <td>                    \u946b\u79d1\u6750\u6599\u5bf9\u5916\u62c5\u4fdd\u66a8\u5173\u8054\u4ea4\u6613\u516c\u544a.pdf</td>\n",
        "    </tr>\n",
        "    <tr>\n",
        "      <th>20</th>\n",
        "      <td>       [\u62c5\u4fdd\u4e8b\u9879]</td>\n",
        "      <td>       [\u62c5\u4fdd\u4e8b\u9879]</td>\n",
        "      <td> \u4e9a\u590f\u6c7d\u8f66\uff1a\u5173\u4e8e\u65b0\u589e\u516c\u53f8\u53ca\u5176\u5168\u8d44\u5b50\u516c\u53f82013\u5e74\u5ea6\u878d\u8d44\u53ca\u62c5\u4fdd\u989d\u5ea6\u7684\u516c\u544a.pdf</td>\n",
        "    </tr>\n",
        "  </tbody>\n",
        "</table>\n",
        "<p>5 rows \u00d7 3 columns</p>\n",
        "</div>"
       ],
       "metadata": {},
       "output_type": "pyout",
       "prompt_number": 340,
       "text": [
        "            alg1    qaCategory                                   title\n",
        "3         [\u62c5\u4fdd\u4e8b\u9879]         [\u672a\u5206\u7c7b]             \u5180\u4e1c\u6c34\u6ce5\uff1a\u5bf9\u5916\u62c5\u4fdd\u7ba1\u7406\u529e\u6cd5\uff082013\u5e7410\u6708\uff09.pdf\n",
        "14        [\u62c5\u4fdd\u4e8b\u9879]         [\u672a\u5206\u7c7b]                        \u957f\u6c5f\u4f20\u5a92\u5bf9\u5916\u62c5\u4fdd\u7ba1\u7406\u529e\u6cd5.pdf\n",
        "18        [\u62c5\u4fdd\u4e8b\u9879]        [\u62c5\u4fdd\u4e8b\u9879]                   \u5927\u6052\u79d1\u6280\u4e3a\u63a7\u80a1\u5b50\u516c\u53f8\u63d0\u4f9b\u62c5\u4fdd\u7684\u516c\u544a.pdf\n",
        "19  [\u5173\u8054\u4ea4\u6613, \u62c5\u4fdd\u4e8b\u9879]  [\u62c5\u4fdd\u4e8b\u9879, \u5173\u8054\u4ea4\u6613]                     \u946b\u79d1\u6750\u6599\u5bf9\u5916\u62c5\u4fdd\u66a8\u5173\u8054\u4ea4\u6613\u516c\u544a.pdf\n",
        "20        [\u62c5\u4fdd\u4e8b\u9879]        [\u62c5\u4fdd\u4e8b\u9879]  \u4e9a\u590f\u6c7d\u8f66\uff1a\u5173\u4e8e\u65b0\u589e\u516c\u53f8\u53ca\u5176\u5168\u8d44\u5b50\u516c\u53f82013\u5e74\u5ea6\u878d\u8d44\u53ca\u62c5\u4fdd\u989d\u5ea6\u7684\u516c\u544a.pdf\n",
        "\n",
        "[5 rows x 3 columns]"
       ]
      }
     ],
     "prompt_number": 340
    },
    {
     "cell_type": "code",
     "collapsed": false,
     "input": [
      "result = result.dropna()"
     ],
     "language": "python",
     "metadata": {},
     "outputs": [],
     "prompt_number": 341
    },
    {
     "cell_type": "code",
     "collapsed": false,
     "input": [
      "result.qaCategory.apply(len).value_counts()"
     ],
     "language": "python",
     "metadata": {},
     "outputs": [
      {
       "metadata": {},
       "output_type": "pyout",
       "prompt_number": 374,
       "text": [
        "1    2647\n",
        "2     386\n",
        "3     108\n",
        "4      32\n",
        "5       5\n",
        "6       2\n",
        "7       1\n",
        "dtype: int64"
       ]
      }
     ],
     "prompt_number": 374
    },
    {
     "cell_type": "code",
     "collapsed": false,
     "input": [
      "def scores(pred, real):\n",
      "    n1=len(pred)\n",
      "    n2=len(real)\n",
      "    a=len(set(pred).intersection(real))\n",
      "    return a/n1,a/n2"
     ],
     "language": "python",
     "metadata": {},
     "outputs": [],
     "prompt_number": 343
    },
    {
     "cell_type": "code",
     "collapsed": false,
     "input": [
      "tmp = result.apply(lambda row: scores(row[algName], row['qaCategory']),axis=1)"
     ],
     "language": "python",
     "metadata": {},
     "outputs": [],
     "prompt_number": 344
    },
    {
     "cell_type": "code",
     "collapsed": false,
     "input": [
      "result['precision'] = tmp.apply(lambda x:x[0])\n",
      "result['recall'] = tmp.apply(lambda x:x[1])"
     ],
     "language": "python",
     "metadata": {},
     "outputs": [],
     "prompt_number": 345
    },
    {
     "cell_type": "code",
     "collapsed": false,
     "input": [
      "plt.figure(figsize=(10,6))\n",
      "plt.subplot(1,2,1)\n",
      "result.precision.hist()\n",
      "plt.subplot(1,2,2)\n",
      "result.recall.hist()\n"
     ],
     "language": "python",
     "metadata": {},
     "outputs": [
      {
       "metadata": {},
       "output_type": "pyout",
       "prompt_number": 346,
       "text": [
        "<matplotlib.axes.AxesSubplot at 0x7feb3cdd30d0>"
       ]
      },
      {
       "metadata": {},
       "output_type": "display_data",
       "png": "[encoded data removed]",
       "text": [
        "<matplotlib.figure.Figure at 0x7feb3c626b90>"
       ]
      }
     ],
     "prompt_number": 346
    },
    {
     "cell_type": "code",
     "collapsed": false,
     "input": [
      "result.precision.value_counts()"
     ],
     "language": "python",
     "metadata": {},
     "outputs": [
      {
       "metadata": {},
       "output_type": "pyout",
       "prompt_number": 347,
       "text": [
        "1.000000    1807\n",
        "0.000000     324\n",
        "0.500000      25\n",
        "0.333333       3\n",
        "0.750000       3\n",
        "0.666667       1\n",
        "dtype: int64"
       ]
      }
     ],
     "prompt_number": 347
    },
    {
     "cell_type": "code",
     "collapsed": false,
     "input": [
      "scores(result[algName].iloc[1], result.qaCategory.iloc[1])"
     ],
     "language": "python",
     "metadata": {},
     "outputs": [
      {
       "metadata": {},
       "output_type": "pyout",
       "prompt_number": 348,
       "text": [
        "(0.0, 0.0)"
       ]
      }
     ],
     "prompt_number": 348
    },
    {
     "cell_type": "code",
     "collapsed": false,
     "input": [
      "hit = len(result[result['precision']>0])"
     ],
     "language": "python",
     "metadata": {},
     "outputs": [],
     "prompt_number": 349
    },
    {
     "cell_type": "code",
     "collapsed": false,
     "input": [
      "precision = hit/len(result)"
     ],
     "language": "python",
     "metadata": {},
     "outputs": [],
     "prompt_number": 350
    },
    {
     "cell_type": "code",
     "collapsed": false,
     "input": [
      "precision"
     ],
     "language": "python",
     "metadata": {},
     "outputs": [
      {
       "metadata": {},
       "output_type": "pyout",
       "prompt_number": 351,
       "text": [
        "0.8502080443828016"
       ]
      }
     ],
     "prompt_number": 351
    },
    {
     "cell_type": "code",
     "collapsed": false,
     "input": [
      "def takeValueOut(nameList):\n",
      "    return nameList[0]\n",
      "    "
     ],
     "language": "python",
     "metadata": {},
     "outputs": [],
     "prompt_number": 352
    },
    {
     "cell_type": "code",
     "collapsed": false,
     "input": [
      "aa = ['\u672a\u5206\u7c7b']\n",
      "aa = takeValueOut(aa)\n",
      "aa"
     ],
     "language": "python",
     "metadata": {},
     "outputs": [
      {
       "metadata": {},
       "output_type": "pyout",
       "prompt_number": 353,
       "text": [
        "'\u672a\u5206\u7c7b'"
       ]
      }
     ],
     "prompt_number": 353
    },
    {
     "cell_type": "code",
     "collapsed": false,
     "input": [
      "result.loc[:,algName] = result[algName].apply(lambda x: takeValueOut(x))"
     ],
     "language": "python",
     "metadata": {},
     "outputs": [],
     "prompt_number": 354
    },
    {
     "cell_type": "code",
     "collapsed": false,
     "input": [
      "result.describe()"
     ],
     "language": "python",
     "metadata": {},
     "outputs": [
      {
       "html": [
        "<div style=\"max-height:1000px;max-width:1500px;overflow:auto;\">\n",
        "<table border=\"1\" class=\"dataframe\">\n",
        "  <thead>\n",
        "    <tr style=\"text-align: right;\">\n",
        "      <th></th>\n",
        "      <th>precision</th>\n",
        "      <th>recall</th>\n",
        "    </tr>\n",
        "  </thead>\n",
        "  <tbody>\n",
        "    <tr>\n",
        "      <th>count</th>\n",
        "      <td> 2163.000000</td>\n",
        "      <td> 2163.000000</td>\n",
        "    </tr>\n",
        "    <tr>\n",
        "      <th>mean</th>\n",
        "      <td>    0.843004</td>\n",
        "      <td>    0.841886</td>\n",
        "    </tr>\n",
        "    <tr>\n",
        "      <th>std</th>\n",
        "      <td>    0.358954</td>\n",
        "      <td>    0.359433</td>\n",
        "    </tr>\n",
        "    <tr>\n",
        "      <th>min</th>\n",
        "      <td>    0.000000</td>\n",
        "      <td>    0.000000</td>\n",
        "    </tr>\n",
        "    <tr>\n",
        "      <th>25%</th>\n",
        "      <td>    1.000000</td>\n",
        "      <td>    1.000000</td>\n",
        "    </tr>\n",
        "    <tr>\n",
        "      <th>50%</th>\n",
        "      <td>    1.000000</td>\n",
        "      <td>    1.000000</td>\n",
        "    </tr>\n",
        "    <tr>\n",
        "      <th>75%</th>\n",
        "      <td>    1.000000</td>\n",
        "      <td>    1.000000</td>\n",
        "    </tr>\n",
        "    <tr>\n",
        "      <th>max</th>\n",
        "      <td>    1.000000</td>\n",
        "      <td>    1.000000</td>\n",
        "    </tr>\n",
        "  </tbody>\n",
        "</table>\n",
        "<p>8 rows \u00d7 2 columns</p>\n",
        "</div>"
       ],
       "metadata": {},
       "output_type": "pyout",
       "prompt_number": 355,
       "text": [
        "         precision       recall\n",
        "count  2163.000000  2163.000000\n",
        "mean      0.843004     0.841886\n",
        "std       0.358954     0.359433\n",
        "min       0.000000     0.000000\n",
        "25%       1.000000     1.000000\n",
        "50%       1.000000     1.000000\n",
        "75%       1.000000     1.000000\n",
        "max       1.000000     1.000000\n",
        "\n",
        "[8 rows x 2 columns]"
       ]
      }
     ],
     "prompt_number": 355
    },
    {
     "cell_type": "code",
     "collapsed": false,
     "input": [
      "result = result.groupby(algName).mean()"
     ],
     "language": "python",
     "metadata": {},
     "outputs": [],
     "prompt_number": 356
    },
    {
     "cell_type": "code",
     "collapsed": false,
     "input": [
      "#result.head()\n"
     ],
     "language": "python",
     "metadata": {},
     "outputs": [],
     "prompt_number": 357
    },
    {
     "cell_type": "code",
     "collapsed": false,
     "input": [
      "#imp.reload(matplotlib)"
     ],
     "language": "python",
     "metadata": {},
     "outputs": [],
     "prompt_number": 358
    },
    {
     "cell_type": "code",
     "collapsed": false,
     "input": [
      "#fontP = matplotlib.font_manager.FontProperties(fname='/usr/share/fonts/truetype/wqy/wqy-zenhei.ttc')"
     ],
     "language": "python",
     "metadata": {},
     "outputs": [],
     "prompt_number": 359
    },
    {
     "cell_type": "code",
     "collapsed": false,
     "input": [
      "#matplotlib.font_manager.findfont('WenQuanYi Zen Hei')"
     ],
     "language": "python",
     "metadata": {},
     "outputs": [],
     "prompt_number": 360
    },
    {
     "cell_type": "code",
     "collapsed": false,
     "input": [
      "#result.head()"
     ],
     "language": "python",
     "metadata": {},
     "outputs": [],
     "prompt_number": 361
    },
    {
     "cell_type": "code",
     "collapsed": false,
     "input": [
      "ax = result.plot(kind = 'bar',figsize=(10,5),legend=False)\n",
      "#fig = plt.figure()\n",
      "#ax = plt.subplot(111)\n",
      "#ax.bar(range(26), result['precision'], width=100)\n",
      "#ax.xaxis_date()"
     ],
     "language": "python",
     "metadata": {},
     "outputs": [
      {
       "metadata": {},
       "output_type": "display_data",
       "png": "[encoded data removed]",
       "text": [
        "<matplotlib.figure.Figure at 0x7feb3eea9890>"
       ]
      }
     ],
     "prompt_number": 362
    },
    {
     "cell_type": "code",
     "collapsed": false,
     "input": [
      "a = range(26)"
     ],
     "language": "python",
     "metadata": {},
     "outputs": [],
     "prompt_number": 363
    },
    {
     "cell_type": "code",
     "collapsed": false,
     "input": [],
     "language": "python",
     "metadata": {},
     "outputs": [],
     "prompt_number": 363
    },
    {
     "cell_type": "code",
     "collapsed": false,
     "input": [
      "? plot"
     ],
     "language": "python",
     "metadata": {},
     "outputs": [],
     "prompt_number": 364
    },
    {
     "cell_type": "code",
     "collapsed": false,
     "input": [],
     "language": "python",
     "metadata": {},
     "outputs": [],
     "prompt_number": 364
    }
   ],
   "metadata": {}
  }
 ]
}