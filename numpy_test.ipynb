{
 "metadata": {
  "name": ""
 },
 "nbformat": 3,
 "nbformat_minor": 0,
 "worksheets": [
  {
   "cells": [
    {
     "cell_type": "code",
     "collapsed": false,
     "input": [
      "import numpy as np"
     ],
     "language": "python",
     "metadata": {},
     "outputs": [],
     "prompt_number": 1
    },
    {
     "cell_type": "code",
     "collapsed": false,
     "input": [
      "A = mat(np.random.rand(4,4))"
     ],
     "language": "python",
     "metadata": {},
     "outputs": [],
     "prompt_number": 14
    },
    {
     "cell_type": "code",
     "collapsed": false,
     "input": [
      "A*A.I"
     ],
     "language": "python",
     "metadata": {},
     "outputs": [
      {
       "metadata": {},
       "output_type": "pyout",
       "prompt_number": 15,
       "text": [
        "matrix([[  1.00000000e+00,  -1.11022302e-16,   1.11022302e-16,\n",
        "           0.00000000e+00],\n",
        "        [  0.00000000e+00,   1.00000000e+00,   0.00000000e+00,\n",
        "           0.00000000e+00],\n",
        "        [  0.00000000e+00,  -1.11022302e-16,   1.00000000e+00,\n",
        "           0.00000000e+00],\n",
        "        [ -1.11022302e-16,  -2.77555756e-17,   5.55111512e-17,\n",
        "           1.00000000e+00]])"
       ]
      }
     ],
     "prompt_number": 15
    }
   ],
   "metadata": {}
  }
 ]
}