{
 "metadata": {
  "name": ""
 },
 "nbformat": 3,
 "nbformat_minor": 0,
 "worksheets": [
  {
   "cells": [
    {
     "cell_type": "code",
     "collapsed": false,
     "input": [
      "def ridgeRegres(xMat,yMat,lam=0.2):\n",
      "    xTx = xMat.T*xMat\n",
      "    denom = xTx + eye(shape(xMat)[1])*lam\n",
      "    if linalg.det(denom) == 0.0:\n",
      "        print \"This matrix is singular, cannot do inverse\"\n",
      "        return\n",
      "    ws = denom.I * (xMat.T*yMat)\n",
      "    return ws"
     ],
     "language": "python",
     "metadata": {},
     "outputs": [],
     "prompt_number": 1
    },
    {
     "cell_type": "code",
     "collapsed": false,
     "input": [
      "def ridgeTest(xArr,yArr):\n",
      "    xMat = mat(xArr); yMat=mat(yArr).T\n",
      "    yMean = mean(yMat,0)\n",
      "    yMat = yMat - yMean\n",
      "    xMeans = mean(xMat,0)\n",
      "    xVar = var(xMat,0)\n",
      "    xMat = (xMat - xMeans)/xVar\n",
      "    numTestPts = 30\n",
      "    wMat = zeros((numTestPts,shape(xMat)[1]))\n",
      "    for i in range(numTestPts):\n",
      "        ws = ridgeRegres(xMat,yMat,exp(i-10))\n",
      "        wMat[i,:]=ws.T\n",
      "    return wMat"
     ],
     "language": "python",
     "metadata": {},
     "outputs": []
    }
   ],
   "metadata": {}
  }
 ]
}