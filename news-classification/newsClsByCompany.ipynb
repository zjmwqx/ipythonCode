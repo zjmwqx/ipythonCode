{
 "metadata": {
  "name": "",
  "signature": "sha256:a534b6028baec4969bfd740c05c44d5b81747724b60081500bfaa29a2c83d47a"
 },
 "nbformat": 3,
 "nbformat_minor": 0,
 "worksheets": [
  {
   "cells": [
    {
     "cell_type": "code",
     "collapsed": false,
     "input": [
      "# step 1: classify all news by company\n",
      "# step 2: attach the other news to classified news, (strong cluster become stronger)\n",
      "# step 3: cluster the left news\n",
      "# step 4: time continous analysis"
     ],
     "language": "python",
     "metadata": {},
     "outputs": [],
     "prompt_number": 1
    },
    {
     "cell_type": "code",
     "collapsed": false,
     "input": [
      "from sklearn.cluster import AffinityPropagation\n",
      "from sklearn import metrics\n",
      "from sklearn.datasets.samples_generator import make_blobs\n",
      "import pandas as pd\n",
      "import re\n",
      "import regex\n",
      "import json\n",
      "import mysql.connector\n",
      "import pandas.io.sql as psql\n",
      "import urllib\n",
      "import boto\n",
      "import boto.s3.connection\n",
      "import pickle\n",
      "import re\n",
      "from sklearn.feature_extraction.text import CountVectorizer\n",
      "import random"
     ],
     "language": "python",
     "metadata": {},
     "outputs": [],
     "prompt_number": 4
    },
    {
     "cell_type": "code",
     "collapsed": false,
     "input": [
      "db2 = mysql.connector.connect(host='security02-dev.datayes.com', db='securityMaster2', user='news_app', \n",
      "                              passwd='lKTOAIyoewzvCyc')\n",
      "selectSql = \"select ins.PARTY_ID, equ.TICKER_SYMBOL, ins.REGISTER_FULL_NAME, sec.SECURITY_NAME_ABBR\";\n",
      "selectSql += \" from INSTITUTION ins, SECURITY sec, EQUITY equ\";\n",
      "selectSql += \" where sec.ASSET_CLASS=3\";\n",
      "selectSql += \" and sec.PARTY_ID = ins.PARTY_ID\";\n",
      "selectSql += \" and equ.EQUITY_TYPE in(1,2)\";\n",
      "selectSql += \" and equ.SECURITY_ID = sec.SECURITY_ID\";\n",
      "companyInfo = psql.read_sql(selectSql,db2)"
     ],
     "language": "python",
     "metadata": {},
     "outputs": [],
     "prompt_number": 5
    },
    {
     "cell_type": "code",
     "collapsed": false,
     "input": [
      "db = mysql.connector.connect(\n",
      "host='db-news01-dev.datayes.com', db='news', user='news_app', passwd='lKTOAIyoewzvCyc')\n",
      "table_name = 'news_detail_backup'\n",
      "dateSt = '2014-04-01'\n",
      "dateEd = '2014-04-07'\n",
      "sql = 'select news_id, news_title,news_body,news_publish_time,main_related_company_id from %s where isActive = 1 and group_id != -1 and news_tag = 0 and source_type in (\"news_pgenius\",\"news_nutch\") and news_publish_time > \"'+dateSt+'\" and news_publish_time < \"'+dateEd+'\";'\n",
      "data = psql.read_sql(sql % table_name, db)"
     ],
     "language": "python",
     "metadata": {},
     "outputs": [],
     "prompt_number": 20
    },
    {
     "cell_type": "code",
     "collapsed": false,
     "input": [
      "shape(data)"
     ],
     "language": "python",
     "metadata": {},
     "outputs": [
      {
       "metadata": {},
       "output_type": "pyout",
       "prompt_number": 21,
       "text": [
        "(19804, 5)"
       ]
      }
     ],
     "prompt_number": 21
    },
    {
     "cell_type": "code",
     "collapsed": false,
     "input": [
      "pd.to_pickle(data, 'news_' + dateSt+'_'+dateEd+'.ser')"
     ],
     "language": "python",
     "metadata": {},
     "outputs": [],
     "prompt_number": 7
    },
    {
     "cell_type": "code",
     "collapsed": false,
     "input": [
      "data = pd.read_pickle('news_' + dateSt+'_'+dateEd+'.ser')"
     ],
     "language": "python",
     "metadata": {},
     "outputs": [],
     "prompt_number": 8
    },
    {
     "cell_type": "code",
     "collapsed": false,
     "input": [
      "#ansj segemnt\n",
      "\"\"\"\n",
      "wrapper for java tools\n",
      "\n",
      "Run start_jvm with classpaths first, you must ensure all need jars are supplied\n",
      "\"\"\"\n",
      "import jpype\n",
      "import os\n",
      "class AnsjSplitter:\n",
      "    \"\"\" Wrapper for ansj\n",
      "\n",
      "    Needed jars:\n",
      "    ansj_seg-xxx.jar\n",
      "    tree_split-xxx.jar\n",
      "    \"\"\"\n",
      "    def __init__(self, dict_path=None):\n",
      "        \"\"\" Parameters:\n",
      "        dict_path: path of userLibrary\n",
      "        \"\"\"\n",
      "        self.AnsjConfig = jpype.JClass('org.ansj.util.MyStaticValue')\n",
      "        self.AnsjConfig.ambiguityLibrary = None\n",
      "        self.AnsjConfig.userLibrary = dict_path\n",
      "        self.methods = {\n",
      "            'base': jpype.JClass('org.ansj.splitWord.analysis.BaseAnalysis'),\n",
      "            'to': jpype.JClass('org.ansj.splitWord.analysis.ToAnalysis'),\n",
      "            'nlp': jpype.JClass('org.ansj.splitWord.analysis.NlpAnalysis'),\n",
      "        }\n",
      "    def split(self, txt, method = 'nlp'):\n",
      "        \"\"\" split txt using method\n",
      "        method can be \"base\", \"to\", or \"nlp\"\n",
      "        \"\"\"\n",
      "        if method not in self.methods:\n",
      "            raise RuntimeError('no such method for ansj')\n",
      "        raw_res = self.methods[method].parse(txt).toArray()\n",
      "        res = [(x.offe, x.offe+len(x.realName), x.nature.natureStr) for x in raw_res]\n",
      "        return res\n",
      "\n",
      "def start_jvm(class_path_list):\n",
      "    \"\"\" Start jvm with class_path_list\n",
      "    \"\"\"\n",
      "    jpype.startJVM(jpype.getDefaultJVMPath(), '-ea', \"-Djava.class.path=%s\" % ':'.join(class_path_list))\n",
      "def shutdown_jvm():\n",
      "    \"\"\" shutdown jvm\n",
      "    \"\"\"\n",
      "    jpyte.shutdownJVM()\n",
      "import glob\n",
      "start_jvm(glob.glob('/root/jar_lib/*'))\n",
      "ansj = AnsjSplitter('/root/data/userLibrary.txt')"
     ],
     "language": "python",
     "metadata": {},
     "outputs": [
      {
       "output_type": "stream",
       "stream": "stderr",
       "text": [
        "/root/env1/local/lib/python2.7/site-packages/jpype/_pykeywords.py:18: DeprecationWarning: the sets module is deprecated\n",
        "  import sets\n"
       ]
      }
     ],
     "prompt_number": 11
    },
    {
     "cell_type": "code",
     "collapsed": false,
     "input": [
      "def my_tokenizer(s):\n",
      "    s = s.replace(' ',',')\n",
      "    ll = ansj.split(s)\n",
      "    res = []\n",
      "    comwds = {}\n",
      "    flag = False\n",
      "    for tt in ll:\n",
      "        if tt[1]-tt[0]==1:\n",
      "            if flag:\n",
      "               res.append(s[tt[0]-1:tt[1]]) \n",
      "            flag = True\n",
      "        else: \n",
      "            flag = False\n",
      "            if tt[2][0]==u'n':\n",
      "                res.append(s[tt[0]:tt[1]])\n",
      "    return res"
     ],
     "language": "python",
     "metadata": {},
     "outputs": [],
     "prompt_number": 9
    },
    {
     "cell_type": "code",
     "collapsed": false,
     "input": [
      "#debug\n",
      "res = my_tokenizer(u'\u627f\u8ba4\u542b\u8349\u4e4c \u5883\u5185\u5916\u914d\u65b9\u6709\u522b\u201c\u8fdb\u9000\u4e24\u96be\u201d')\n",
      "pd.Series(res)"
     ],
     "language": "python",
     "metadata": {},
     "outputs": [
      {
       "output_type": "stream",
       "stream": "stdout",
       "text": [
        "[(0, 2, u'v'), (2, 3, u'v'), (3, 5, u'nw'), (5, 6, u'null'), (6, 9, u's'), (9, 11, u'n'), (11, 13, u'v'), (13, 14, u'w'), (14, 18, u'i'), (18, 19, u'w')]\n"
       ]
      }
     ],
     "prompt_number": 86
    },
    {
     "cell_type": "code",
     "collapsed": false,
     "input": [
      "shape(data)"
     ],
     "language": "python",
     "metadata": {},
     "outputs": [
      {
       "metadata": {},
       "output_type": "pyout",
       "prompt_number": 17,
       "text": [
        "(4209, 5)"
       ]
      }
     ],
     "prompt_number": 17
    },
    {
     "cell_type": "code",
     "collapsed": false,
     "input": [
      "data['newsBodySp'] = data.news_body.apply(my_tokenizer)\n",
      "data['newsTitleSp'] = data.news_title.apply(my_tokenizer)"
     ],
     "language": "python",
     "metadata": {},
     "outputs": [],
     "prompt_number": 15
    },
    {
     "cell_type": "code",
     "collapsed": false,
     "input": [
      "a =[]\n",
      "a.append(1)"
     ],
     "language": "python",
     "metadata": {},
     "outputs": [],
     "prompt_number": 22
    },
    {
     "cell_type": "code",
     "collapsed": false,
     "input": [
      "class Company:\n",
      "    def __init__(self, companyID):\n",
      "        self.companyID = companyID\n",
      "        self.storyList = []\n",
      "        self.newsList = []\n",
      "    def addNews(self, nws):\n",
      "        self.newsList.append(nws)"
     ],
     "language": "python",
     "metadata": {},
     "outputs": [],
     "prompt_number": 35
    },
    {
     "cell_type": "code",
     "collapsed": false,
     "input": [
      "class News:\n",
      "    def __init__(self, _oid, newsID,companyID, newsTitle, publishTime):\n",
      "        \"\"\"\n",
      "\n",
      "        :type self: object\n",
      "        \"\"\"\n",
      "        self.id=_oid\n",
      "        self.newsID = newsID\n",
      "        self.companyID = companyID\n",
      "        self.newsTitle = newsTitle\n",
      "        self.publishTime = publishTime\n",
      "        self.storyID = -1\n",
      "        self.isMain = False"
     ],
     "language": "python",
     "metadata": {},
     "outputs": [],
     "prompt_number": 43
    },
    {
     "cell_type": "code",
     "collapsed": false,
     "input": [
      "class Story:\n",
      "    def __init__(self):\n",
      "        self.newsList = []\n"
     ],
     "language": "python",
     "metadata": {},
     "outputs": [],
     "prompt_number": 37
    },
    {
     "cell_type": "code",
     "collapsed": false,
     "input": [
      "a =Company('asda')"
     ],
     "language": "python",
     "metadata": {},
     "outputs": [],
     "prompt_number": 38
    },
    {
     "cell_type": "code",
     "collapsed": false,
     "input": [
      "nn = News(1,2,3,4,5)"
     ],
     "language": "python",
     "metadata": {},
     "outputs": [],
     "prompt_number": 45
    },
    {
     "cell_type": "code",
     "collapsed": false,
     "input": [
      "nn.newsTitle"
     ],
     "language": "python",
     "metadata": {},
     "outputs": [
      {
       "metadata": {},
       "output_type": "pyout",
       "prompt_number": 48,
       "text": [
        "4"
       ]
      }
     ],
     "prompt_number": 48
    },
    {
     "cell_type": "code",
     "collapsed": false,
     "input": [
      "a.addNews(News(1,2,3,4,5))"
     ],
     "language": "python",
     "metadata": {},
     "outputs": [],
     "prompt_number": 51
    },
    {
     "cell_type": "code",
     "collapsed": false,
     "input": [
      "titles = [nws.newsTitle for nws in a.newsList]"
     ],
     "language": "python",
     "metadata": {},
     "outputs": [],
     "prompt_number": 53
    },
    {
     "cell_type": "code",
     "collapsed": false,
     "input": [
      "mm={}\n",
      "mm[1]=a"
     ],
     "language": "python",
     "metadata": {},
     "outputs": [],
     "prompt_number": 55
    },
    {
     "cell_type": "code",
     "collapsed": false,
     "input": [
      "mm[1].addNews(News(1,2,3,4,5))"
     ],
     "language": "python",
     "metadata": {},
     "outputs": [],
     "prompt_number": 60
    },
    {
     "cell_type": "code",
     "collapsed": false,
     "input": [
      "mm[1].newsList"
     ],
     "language": "python",
     "metadata": {},
     "outputs": [
      {
       "metadata": {},
       "output_type": "pyout",
       "prompt_number": 61,
       "text": [
        "[<__main__.News instance at 0x4be2560>,\n",
        " <__main__.News instance at 0x4be53f8>,\n",
        " <__main__.News instance at 0xfcfe440>,\n",
        " <__main__.News instance at 0xfcfe320>,\n",
        " <__main__.News instance at 0x150dda28>,\n",
        " <__main__.News instance at 0xbeea128>]"
       ]
      }
     ],
     "prompt_number": 61
    },
    {
     "cell_type": "code",
     "collapsed": false,
     "input": [
      "titles"
     ],
     "language": "python",
     "metadata": {},
     "outputs": [
      {
       "metadata": {},
       "output_type": "pyout",
       "prompt_number": 54,
       "text": [
        "[4, 4, 4, 4]"
       ]
      }
     ],
     "prompt_number": 54
    },
    {
     "cell_type": "code",
     "collapsed": false,
     "input": [
      "mm.has_key(1)"
     ],
     "language": "python",
     "metadata": {},
     "outputs": [
      {
       "metadata": {},
       "output_type": "pyout",
       "prompt_number": 62,
       "text": [
        "True"
       ]
      }
     ],
     "prompt_number": 62
    },
    {
     "cell_type": "code",
     "collapsed": false,
     "input": [
      "a.newsList"
     ],
     "language": "python",
     "metadata": {},
     "outputs": [
      {
       "metadata": {},
       "output_type": "pyout",
       "prompt_number": 52,
       "text": [
        "[<__main__.News instance at 0x4be2560>,\n",
        " <__main__.News instance at 0x4be53f8>,\n",
        " <__main__.News instance at 0xfcfe440>,\n",
        " <__main__.News instance at 0xfcfe320>]"
       ]
      }
     ],
     "prompt_number": 52
    }
   ],
   "metadata": {}
  }
 ]
}