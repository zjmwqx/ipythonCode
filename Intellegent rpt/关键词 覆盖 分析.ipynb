{
 "metadata": {
  "name": "",
  "signature": "sha256:6159389d2a2d8a43574a00f504331c834060c479bd66b961cb6b454938c20e12"
 },
 "nbformat": 3,
 "nbformat_minor": 0,
 "worksheets": [
  {
   "cells": [
    {
     "cell_type": "code",
     "collapsed": false,
     "input": [
      "import pandas as pd\n",
      "import re\n",
      "import regex\n",
      "import json\n",
      "import mysql.connector\n",
      "import pandas.io.sql as psql\n",
      "import urllib\n",
      "import boto\n",
      "import boto.s3.connection\n",
      "import pickle\n",
      "import jpype\n",
      "import re\n",
      "import random"
     ],
     "language": "python",
     "metadata": {},
     "outputs": [],
     "prompt_number": 1
    },
    {
     "cell_type": "code",
     "collapsed": false,
     "input": [
      "treeWords = pd.read_csv('/home/jiminzhou/data/wordList.txt',sep=' ')"
     ],
     "language": "python",
     "metadata": {},
     "outputs": [
      {
       "ename": "CParserError",
       "evalue": "Passed header=0 but only 0 lines in file",
       "output_type": "pyerr",
       "traceback": [
        "\u001b[1;31m---------------------------------------------------------------------------\u001b[0m\n\u001b[1;31mCParserError\u001b[0m                              Traceback (most recent call last)",
        "\u001b[1;32m<ipython-input-2-da43b8580593>\u001b[0m in \u001b[0;36m<module>\u001b[1;34m()\u001b[0m\n\u001b[1;32m----> 1\u001b[1;33m \u001b[0mtreeWords\u001b[0m \u001b[1;33m=\u001b[0m \u001b[0mpd\u001b[0m\u001b[1;33m.\u001b[0m\u001b[0mread_csv\u001b[0m\u001b[1;33m(\u001b[0m\u001b[1;34m'/home/jiminzhou/data/wordList.txt'\u001b[0m\u001b[1;33m,\u001b[0m\u001b[0msep\u001b[0m\u001b[1;33m=\u001b[0m\u001b[1;34m' '\u001b[0m\u001b[1;33m)\u001b[0m\u001b[1;33m\u001b[0m\u001b[0m\n\u001b[0m",
        "\u001b[1;32m/home/jiminzhou/env1/local/lib/python2.7/site-packages/pandas/io/parsers.pyc\u001b[0m in \u001b[0;36mparser_f\u001b[1;34m(filepath_or_buffer, sep, dialect, compression, doublequote, escapechar, quotechar, quoting, skipinitialspace, lineterminator, header, index_col, names, prefix, skiprows, skipfooter, skip_footer, na_values, na_fvalues, true_values, false_values, delimiter, converters, dtype, usecols, engine, delim_whitespace, as_recarray, na_filter, compact_ints, use_unsigned, low_memory, buffer_lines, warn_bad_lines, error_bad_lines, keep_default_na, thousands, comment, decimal, parse_dates, keep_date_col, dayfirst, date_parser, memory_map, nrows, iterator, chunksize, verbose, encoding, squeeze, mangle_dupe_cols, tupleize_cols, infer_datetime_format)\u001b[0m\n\u001b[0;32m    418\u001b[0m                     infer_datetime_format=infer_datetime_format)\n\u001b[0;32m    419\u001b[0m \u001b[1;33m\u001b[0m\u001b[0m\n\u001b[1;32m--> 420\u001b[1;33m         \u001b[1;32mreturn\u001b[0m \u001b[0m_read\u001b[0m\u001b[1;33m(\u001b[0m\u001b[0mfilepath_or_buffer\u001b[0m\u001b[1;33m,\u001b[0m \u001b[0mkwds\u001b[0m\u001b[1;33m)\u001b[0m\u001b[1;33m\u001b[0m\u001b[0m\n\u001b[0m\u001b[0;32m    421\u001b[0m \u001b[1;33m\u001b[0m\u001b[0m\n\u001b[0;32m    422\u001b[0m     \u001b[0mparser_f\u001b[0m\u001b[1;33m.\u001b[0m\u001b[0m__name__\u001b[0m \u001b[1;33m=\u001b[0m \u001b[0mname\u001b[0m\u001b[1;33m\u001b[0m\u001b[0m\n",
        "\u001b[1;32m/home/jiminzhou/env1/local/lib/python2.7/site-packages/pandas/io/parsers.pyc\u001b[0m in \u001b[0;36m_read\u001b[1;34m(filepath_or_buffer, kwds)\u001b[0m\n\u001b[0;32m    216\u001b[0m \u001b[1;33m\u001b[0m\u001b[0m\n\u001b[0;32m    217\u001b[0m     \u001b[1;31m# Create the parser.\u001b[0m\u001b[1;33m\u001b[0m\u001b[1;33m\u001b[0m\u001b[0m\n\u001b[1;32m--> 218\u001b[1;33m     \u001b[0mparser\u001b[0m \u001b[1;33m=\u001b[0m \u001b[0mTextFileReader\u001b[0m\u001b[1;33m(\u001b[0m\u001b[0mfilepath_or_buffer\u001b[0m\u001b[1;33m,\u001b[0m \u001b[1;33m**\u001b[0m\u001b[0mkwds\u001b[0m\u001b[1;33m)\u001b[0m\u001b[1;33m\u001b[0m\u001b[0m\n\u001b[0m\u001b[0;32m    219\u001b[0m \u001b[1;33m\u001b[0m\u001b[0m\n\u001b[0;32m    220\u001b[0m     \u001b[1;32mif\u001b[0m \u001b[0mnrows\u001b[0m \u001b[1;32mis\u001b[0m \u001b[1;32mnot\u001b[0m \u001b[0mNone\u001b[0m\u001b[1;33m:\u001b[0m\u001b[1;33m\u001b[0m\u001b[0m\n",
        "\u001b[1;32m/home/jiminzhou/env1/local/lib/python2.7/site-packages/pandas/io/parsers.pyc\u001b[0m in \u001b[0;36m__init__\u001b[1;34m(self, f, engine, **kwds)\u001b[0m\n\u001b[0;32m    500\u001b[0m             \u001b[0mself\u001b[0m\u001b[1;33m.\u001b[0m\u001b[0moptions\u001b[0m\u001b[1;33m[\u001b[0m\u001b[1;34m'has_index_names'\u001b[0m\u001b[1;33m]\u001b[0m \u001b[1;33m=\u001b[0m \u001b[0mkwds\u001b[0m\u001b[1;33m[\u001b[0m\u001b[1;34m'has_index_names'\u001b[0m\u001b[1;33m]\u001b[0m\u001b[1;33m\u001b[0m\u001b[0m\n\u001b[0;32m    501\u001b[0m \u001b[1;33m\u001b[0m\u001b[0m\n\u001b[1;32m--> 502\u001b[1;33m         \u001b[0mself\u001b[0m\u001b[1;33m.\u001b[0m\u001b[0m_make_engine\u001b[0m\u001b[1;33m(\u001b[0m\u001b[0mself\u001b[0m\u001b[1;33m.\u001b[0m\u001b[0mengine\u001b[0m\u001b[1;33m)\u001b[0m\u001b[1;33m\u001b[0m\u001b[0m\n\u001b[0m\u001b[0;32m    503\u001b[0m \u001b[1;33m\u001b[0m\u001b[0m\n\u001b[0;32m    504\u001b[0m     \u001b[1;32mdef\u001b[0m \u001b[0m_get_options_with_defaults\u001b[0m\u001b[1;33m(\u001b[0m\u001b[0mself\u001b[0m\u001b[1;33m,\u001b[0m \u001b[0mengine\u001b[0m\u001b[1;33m)\u001b[0m\u001b[1;33m:\u001b[0m\u001b[1;33m\u001b[0m\u001b[0m\n",
        "\u001b[1;32m/home/jiminzhou/env1/local/lib/python2.7/site-packages/pandas/io/parsers.pyc\u001b[0m in \u001b[0;36m_make_engine\u001b[1;34m(self, engine)\u001b[0m\n\u001b[0;32m    608\u001b[0m     \u001b[1;32mdef\u001b[0m \u001b[0m_make_engine\u001b[0m\u001b[1;33m(\u001b[0m\u001b[0mself\u001b[0m\u001b[1;33m,\u001b[0m \u001b[0mengine\u001b[0m\u001b[1;33m=\u001b[0m\u001b[1;34m'c'\u001b[0m\u001b[1;33m)\u001b[0m\u001b[1;33m:\u001b[0m\u001b[1;33m\u001b[0m\u001b[0m\n\u001b[0;32m    609\u001b[0m         \u001b[1;32mif\u001b[0m \u001b[0mengine\u001b[0m \u001b[1;33m==\u001b[0m \u001b[1;34m'c'\u001b[0m\u001b[1;33m:\u001b[0m\u001b[1;33m\u001b[0m\u001b[0m\n\u001b[1;32m--> 610\u001b[1;33m             \u001b[0mself\u001b[0m\u001b[1;33m.\u001b[0m\u001b[0m_engine\u001b[0m \u001b[1;33m=\u001b[0m \u001b[0mCParserWrapper\u001b[0m\u001b[1;33m(\u001b[0m\u001b[0mself\u001b[0m\u001b[1;33m.\u001b[0m\u001b[0mf\u001b[0m\u001b[1;33m,\u001b[0m \u001b[1;33m**\u001b[0m\u001b[0mself\u001b[0m\u001b[1;33m.\u001b[0m\u001b[0moptions\u001b[0m\u001b[1;33m)\u001b[0m\u001b[1;33m\u001b[0m\u001b[0m\n\u001b[0m\u001b[0;32m    611\u001b[0m         \u001b[1;32melse\u001b[0m\u001b[1;33m:\u001b[0m\u001b[1;33m\u001b[0m\u001b[0m\n\u001b[0;32m    612\u001b[0m             \u001b[1;32mif\u001b[0m \u001b[0mengine\u001b[0m \u001b[1;33m==\u001b[0m \u001b[1;34m'python'\u001b[0m\u001b[1;33m:\u001b[0m\u001b[1;33m\u001b[0m\u001b[0m\n",
        "\u001b[1;32m/home/jiminzhou/env1/local/lib/python2.7/site-packages/pandas/io/parsers.pyc\u001b[0m in \u001b[0;36m__init__\u001b[1;34m(self, src, **kwds)\u001b[0m\n\u001b[0;32m    970\u001b[0m         \u001b[0mkwds\u001b[0m\u001b[1;33m[\u001b[0m\u001b[1;34m'allow_leading_cols'\u001b[0m\u001b[1;33m]\u001b[0m \u001b[1;33m=\u001b[0m \u001b[0mself\u001b[0m\u001b[1;33m.\u001b[0m\u001b[0mindex_col\u001b[0m \u001b[1;32mis\u001b[0m \u001b[1;32mnot\u001b[0m \u001b[0mFalse\u001b[0m\u001b[1;33m\u001b[0m\u001b[0m\n\u001b[0;32m    971\u001b[0m \u001b[1;33m\u001b[0m\u001b[0m\n\u001b[1;32m--> 972\u001b[1;33m         \u001b[0mself\u001b[0m\u001b[1;33m.\u001b[0m\u001b[0m_reader\u001b[0m \u001b[1;33m=\u001b[0m \u001b[0m_parser\u001b[0m\u001b[1;33m.\u001b[0m\u001b[0mTextReader\u001b[0m\u001b[1;33m(\u001b[0m\u001b[0msrc\u001b[0m\u001b[1;33m,\u001b[0m \u001b[1;33m**\u001b[0m\u001b[0mkwds\u001b[0m\u001b[1;33m)\u001b[0m\u001b[1;33m\u001b[0m\u001b[0m\n\u001b[0m\u001b[0;32m    973\u001b[0m \u001b[1;33m\u001b[0m\u001b[0m\n\u001b[0;32m    974\u001b[0m         \u001b[1;31m# XXX\u001b[0m\u001b[1;33m\u001b[0m\u001b[1;33m\u001b[0m\u001b[0m\n",
        "\u001b[1;32m/home/jiminzhou/env1/local/lib/python2.7/site-packages/pandas/parser.so\u001b[0m in \u001b[0;36mpandas.parser.TextReader.__cinit__ (pandas/parser.c:4412)\u001b[1;34m()\u001b[0m\n",
        "\u001b[1;32m/home/jiminzhou/env1/local/lib/python2.7/site-packages/pandas/parser.so\u001b[0m in \u001b[0;36mpandas.parser.TextReader._get_header (pandas/parser.c:5799)\u001b[1;34m()\u001b[0m\n",
        "\u001b[1;31mCParserError\u001b[0m: Passed header=0 but only 0 lines in file"
       ]
      }
     ],
     "prompt_number": 2
    },
    {
     "cell_type": "code",
     "collapsed": false,
     "input": [
      "treeWords = pd.DataFrame({'word':treeWords['\u53d1\u5e03\u516c\u544a\u79f0'],'fre':treeWords['603']})"
     ],
     "language": "python",
     "metadata": {},
     "outputs": [],
     "prompt_number": 3
    },
    {
     "cell_type": "code",
     "collapsed": false,
     "input": [
      "a='\u6210\u672c\u4e0b\u8dcc'\n",
      "locateKeyword(a)"
     ],
     "language": "python",
     "metadata": {},
     "outputs": [
      {
       "ename": "NameError",
       "evalue": "name 'locateKeyword' is not defined",
       "output_type": "pyerr",
       "traceback": [
        "\u001b[1;31m---------------------------------------------------------------------------\u001b[0m\n\u001b[1;31mNameError\u001b[0m                                 Traceback (most recent call last)",
        "\u001b[1;32m<ipython-input-4-287cae6ca004>\u001b[0m in \u001b[0;36m<module>\u001b[1;34m()\u001b[0m\n\u001b[0;32m      1\u001b[0m \u001b[0ma\u001b[0m\u001b[1;33m=\u001b[0m\u001b[1;34m'\u6210\u672c\u4e0b\u8dcc'\u001b[0m\u001b[1;33m\u001b[0m\u001b[0m\n\u001b[1;32m----> 2\u001b[1;33m \u001b[0mlocateKeyword\u001b[0m\u001b[1;33m(\u001b[0m\u001b[0ma\u001b[0m\u001b[1;33m)\u001b[0m\u001b[1;33m\u001b[0m\u001b[0m\n\u001b[0m",
        "\u001b[1;31mNameError\u001b[0m: name 'locateKeyword' is not defined"
       ]
      }
     ],
     "prompt_number": 4
    },
    {
     "cell_type": "code",
     "collapsed": false,
     "input": [
      "def locateKeyword(phrase):\n",
      "    return phrase.find(keyword)>=0"
     ],
     "language": "python",
     "metadata": {},
     "outputs": [],
     "prompt_number": 5
    },
    {
     "cell_type": "code",
     "collapsed": false,
     "input": [
      "res.shape"
     ],
     "language": "python",
     "metadata": {},
     "outputs": [
      {
       "metadata": {},
       "output_type": "pyout",
       "prompt_number": 84,
       "text": [
        "(161, 2)"
       ]
      }
     ],
     "prompt_number": 84
    },
    {
     "cell_type": "code",
     "collapsed": false,
     "input": [
      "keyword = '\u80a1\u4ef7'\n",
      "res = treeWords.ix[treeWords['word'].apply(locateKeyword)]\n",
      "%load_ext rmagic\n",
      "%R -i res -i keyword"
     ],
     "language": "python",
     "metadata": {},
     "outputs": [
      {
       "output_type": "stream",
       "stream": "stdout",
       "text": [
        "The rmagic extension is already loaded. To reload it, use:\n",
        "  %reload_ext rmagic\n"
       ]
      }
     ],
     "prompt_number": 201
    },
    {
     "cell_type": "code",
     "collapsed": false,
     "input": [
      "%%R\n",
      "png(file=paste(\"/home/jiminzhou/data/\",keyword,\".png\"), bg=\"white\")\n",
      "require(wordcloud)\n",
      "wordcloud(res$word,sqrt(res$fre),min.freq=1,colors=brewer.pal(2, \"Dark2\"))\n",
      "dev.off()"
     ],
     "language": "python",
     "metadata": {},
     "outputs": [
      {
       "metadata": {},
       "output_type": "display_data",
       "text": [
        "png \n",
        "  2 \n"
       ]
      }
     ],
     "prompt_number": 202
    },
    {
     "cell_type": "code",
     "collapsed": false,
     "input": [
      "savedWords = pd.read_csv('/home/jiminzhou/data/\u60c5\u611f\u8bcd/\u76ee\u524d\u6240\u6709\u7684\u60c5\u611f\u5148\u5173\u8bcd/sentiment_combination.txt',sep='\\t')"
     ],
     "language": "python",
     "metadata": {},
     "outputs": [],
     "prompt_number": 203
    },
    {
     "cell_type": "code",
     "collapsed": false,
     "input": [
      "selectWords = savedWords[savedWords['\u8d44\u4ea7\u6536\u76ca\u7387|\u63d0\u5347'].apply(locateKeyword)]['\u8d44\u4ea7\u6536\u76ca\u7387|\u63d0\u5347']"
     ],
     "language": "python",
     "metadata": {},
     "outputs": [],
     "prompt_number": 204
    },
    {
     "cell_type": "code",
     "collapsed": false,
     "input": [
      "savedWords[savedWords['\u8d44\u4ea7\u6536\u76ca\u7387|\u63d0\u5347'].apply(locateKeyword)]['\u8d44\u4ea7\u6536\u76ca\u7387|\u63d0\u5347'].to_csv('/home/jiminzhou/data/temp.txt', \n",
      "                                                                           index = False)"
     ],
     "language": "python",
     "metadata": {},
     "outputs": [],
     "prompt_number": 205
    },
    {
     "cell_type": "code",
     "collapsed": false,
     "input": [
      "savedWords"
     ],
     "language": "python",
     "metadata": {},
     "outputs": [
      {
       "html": [
        "<div style=\"max-height:1000px;max-width:1500px;overflow:auto;\">\n",
        "<table border=\"1\" class=\"dataframe\">\n",
        "  <thead>\n",
        "    <tr style=\"text-align: right;\">\n",
        "      <th></th>\n",
        "      <th>\u8d44\u4ea7\u6536\u76ca\u7387|\u63d0\u5347</th>\n",
        "      <th>pos</th>\n",
        "    </tr>\n",
        "  </thead>\n",
        "  <tbody>\n",
        "    <tr>\n",
        "      <th>0 </th>\n",
        "      <td>   \u589e\u957f\u7a7a\u95f4|\u5e7f\u9614</td>\n",
        "      <td> pos</td>\n",
        "    </tr>\n",
        "    <tr>\n",
        "      <th>1 </th>\n",
        "      <td>     \u7ade\u4e89|\u52a0\u5267</td>\n",
        "      <td> neg</td>\n",
        "    </tr>\n",
        "    <tr>\n",
        "      <th>2 </th>\n",
        "      <td>     \u9762\u79ef|\u8fc7\u5927</td>\n",
        "      <td> neg</td>\n",
        "    </tr>\n",
        "    <tr>\n",
        "      <th>3 </th>\n",
        "      <td>   \u76c8\u5229\u9884\u671f|\u4e0a\u8c03</td>\n",
        "      <td> pos</td>\n",
        "    </tr>\n",
        "    <tr>\n",
        "      <th>4 </th>\n",
        "      <td>     \u5747\u4ef7|\u4e0a\u6da8</td>\n",
        "      <td> pos</td>\n",
        "    </tr>\n",
        "    <tr>\n",
        "      <th>5 </th>\n",
        "      <td>     \u589e\u901f|\u63d0\u5347</td>\n",
        "      <td> pos</td>\n",
        "    </tr>\n",
        "    <tr>\n",
        "      <th>6 </th>\n",
        "      <td>     \u9700\u6c42|\u7206\u53d1</td>\n",
        "      <td> pos</td>\n",
        "    </tr>\n",
        "    <tr>\n",
        "      <th>7 </th>\n",
        "      <td>    \u54c1\u724c\u529b|\u826f\u597d</td>\n",
        "      <td> pos</td>\n",
        "    </tr>\n",
        "    <tr>\n",
        "      <th>8 </th>\n",
        "      <td>     \u8425\u9500|\u79ef\u6781</td>\n",
        "      <td> pos</td>\n",
        "    </tr>\n",
        "    <tr>\n",
        "      <th>9 </th>\n",
        "      <td>     \u8d28\u91cf|\u4e0b\u964d</td>\n",
        "      <td> neg</td>\n",
        "    </tr>\n",
        "    <tr>\n",
        "      <th>10</th>\n",
        "      <td>  \u4ea7\u4e1a\u94fe|\u65e5\u8d8b\u5b8c\u6574</td>\n",
        "      <td> pos</td>\n",
        "    </tr>\n",
        "    <tr>\n",
        "      <th>11</th>\n",
        "      <td>   \u9500\u552e\u52bf\u5934|\u826f\u597d</td>\n",
        "      <td> pos</td>\n",
        "    </tr>\n",
        "    <tr>\n",
        "      <th>12</th>\n",
        "      <td>     \u4e1a\u52a1|\u4e0b\u6ed1</td>\n",
        "      <td> neg</td>\n",
        "    </tr>\n",
        "    <tr>\n",
        "      <th>13</th>\n",
        "      <td>   \u8425\u9500\u961f\u4f0d|\u6210\u719f</td>\n",
        "      <td> pos</td>\n",
        "    </tr>\n",
        "    <tr>\n",
        "      <th>14</th>\n",
        "      <td>   \u4f01\u4e1a\u7ba1\u7406|\u6df7\u4e71</td>\n",
        "      <td> neg</td>\n",
        "    </tr>\n",
        "    <tr>\n",
        "      <th>15</th>\n",
        "      <td> \u9500\u552e\u673a\u6784\u89c4\u6a21|\u6269\u5927</td>\n",
        "      <td> pos</td>\n",
        "    </tr>\n",
        "    <tr>\n",
        "      <th>16</th>\n",
        "      <td>    \u6b7b\u4ea1\u7387|\u63d0\u5347</td>\n",
        "      <td> neg</td>\n",
        "    </tr>\n",
        "    <tr>\n",
        "      <th>17</th>\n",
        "      <td>     \u6210\u672c|\u4fbf\u5b9c</td>\n",
        "      <td> pos</td>\n",
        "    </tr>\n",
        "    <tr>\n",
        "      <th>18</th>\n",
        "      <td>      \u7597\u6548|\u5f3a</td>\n",
        "      <td> pos</td>\n",
        "    </tr>\n",
        "    <tr>\n",
        "      <th>19</th>\n",
        "      <td>     \u51c0\u5229|\u9aa4\u964d</td>\n",
        "      <td> neg</td>\n",
        "    </tr>\n",
        "    <tr>\n",
        "      <th>20</th>\n",
        "      <td>  \u539f\u6750\u6599\u4ef7\u683c|\u9ad8\u4f01</td>\n",
        "      <td> neg</td>\n",
        "    </tr>\n",
        "    <tr>\n",
        "      <th>21</th>\n",
        "      <td>   \u5ba2\u6237\u53cd\u6620|\u826f\u597d</td>\n",
        "      <td> pos</td>\n",
        "    </tr>\n",
        "    <tr>\n",
        "      <th>22</th>\n",
        "      <td>     \u56de\u5f52|\u6b63\u8f68</td>\n",
        "      <td> pos</td>\n",
        "    </tr>\n",
        "    <tr>\n",
        "      <th>23</th>\n",
        "      <td>    \u6d88\u8d39\u5730\u4f4d|\u5f3a</td>\n",
        "      <td> pos</td>\n",
        "    </tr>\n",
        "    <tr>\n",
        "      <th>24</th>\n",
        "      <td>     \u7ade\u4e89\u529b|\u9ad8</td>\n",
        "      <td> pos</td>\n",
        "    </tr>\n",
        "    <tr>\n",
        "      <th>25</th>\n",
        "      <td>    \u7ecf\u6d4e\u6548\u76ca|\u597d</td>\n",
        "      <td> pos</td>\n",
        "    </tr>\n",
        "    <tr>\n",
        "      <th>26</th>\n",
        "      <td>     \u9884\u671f|\u900f\u652f</td>\n",
        "      <td> neg</td>\n",
        "    </tr>\n",
        "    <tr>\n",
        "      <th>27</th>\n",
        "      <td>     \u4f9b\u9700|\u5747\u8861</td>\n",
        "      <td> pos</td>\n",
        "    </tr>\n",
        "    <tr>\n",
        "      <th>28</th>\n",
        "      <td>     \u51fa\u53e3|\u51cf\u5c11</td>\n",
        "      <td> neg</td>\n",
        "    </tr>\n",
        "    <tr>\n",
        "      <th>29</th>\n",
        "      <td>     \u89c4\u6a21|\u589e\u957f</td>\n",
        "      <td> pos</td>\n",
        "    </tr>\n",
        "    <tr>\n",
        "      <th>30</th>\n",
        "      <td>     \u8dcc\u5e45|\u6269\u5927</td>\n",
        "      <td> neg</td>\n",
        "    </tr>\n",
        "    <tr>\n",
        "      <th>31</th>\n",
        "      <td>  \u5e02\u573a\u5360\u6709\u7387|\u63d0\u5347</td>\n",
        "      <td> pos</td>\n",
        "    </tr>\n",
        "    <tr>\n",
        "      <th>32</th>\n",
        "      <td>      \u5e94\u529b|\u4f4e</td>\n",
        "      <td> pos</td>\n",
        "    </tr>\n",
        "    <tr>\n",
        "      <th>33</th>\n",
        "      <td>    \u6355\u635e\u91cf|\u589e\u957f</td>\n",
        "      <td> pos</td>\n",
        "    </tr>\n",
        "    <tr>\n",
        "      <th>34</th>\n",
        "      <td>    \u6210\u529f\u6982\u7387|\u9ad8</td>\n",
        "      <td> pos</td>\n",
        "    </tr>\n",
        "    <tr>\n",
        "      <th>35</th>\n",
        "      <td>  \u5e02\u573a\u5360\u6709\u7387|\u9886\u5148</td>\n",
        "      <td> pos</td>\n",
        "    </tr>\n",
        "    <tr>\n",
        "      <th>36</th>\n",
        "      <td>   \u8d39\u7528\u63a7\u5236|\u4e25\u683c</td>\n",
        "      <td> pos</td>\n",
        "    </tr>\n",
        "    <tr>\n",
        "      <th>37</th>\n",
        "      <td>     \u4ea7\u80fd|\u6269\u5145</td>\n",
        "      <td> pos</td>\n",
        "    </tr>\n",
        "    <tr>\n",
        "      <th>38</th>\n",
        "      <td>     \u4ef7\u683c|\u4e0a\u5347</td>\n",
        "      <td> pos</td>\n",
        "    </tr>\n",
        "    <tr>\n",
        "      <th>39</th>\n",
        "      <td>   \u4e1a\u7ee9|\u5267\u70c8\u6ce2\u52a8</td>\n",
        "      <td> neg</td>\n",
        "    </tr>\n",
        "    <tr>\n",
        "      <th>40</th>\n",
        "      <td>   \u9700\u6c42\u589e\u901f|\u589e\u957f</td>\n",
        "      <td> pos</td>\n",
        "    </tr>\n",
        "    <tr>\n",
        "      <th>41</th>\n",
        "      <td>  \u4ea7\u54c1\u8f6c\u5316\u7387|\u63d0\u9ad8</td>\n",
        "      <td> pos</td>\n",
        "    </tr>\n",
        "    <tr>\n",
        "      <th>42</th>\n",
        "      <td>     \u6f5c\u529b|\u8f83\u5927</td>\n",
        "      <td> pos</td>\n",
        "    </tr>\n",
        "    <tr>\n",
        "      <th>43</th>\n",
        "      <td>   \u5b8c\u5584|\u4f9b\u5e94\u80fd\u529b</td>\n",
        "      <td> pos</td>\n",
        "    </tr>\n",
        "    <tr>\n",
        "      <th>44</th>\n",
        "      <td> \u589e\u957f\u5f15\u64ce|\u6e90\u6e90\u4e0d\u65ad</td>\n",
        "      <td> pos</td>\n",
        "    </tr>\n",
        "    <tr>\n",
        "      <th>45</th>\n",
        "      <td>     \u7597\u6548|\u826f\u597d</td>\n",
        "      <td> pos</td>\n",
        "    </tr>\n",
        "    <tr>\n",
        "      <th>46</th>\n",
        "      <td>    \u4ea7\u9500\u91cf|\u589e\u957f</td>\n",
        "      <td> pos</td>\n",
        "    </tr>\n",
        "    <tr>\n",
        "      <th>47</th>\n",
        "      <td>     \u9700\u6c42|\u6fc0\u6d3b</td>\n",
        "      <td> pos</td>\n",
        "    </tr>\n",
        "    <tr>\n",
        "      <th>48</th>\n",
        "      <td>     \u67d4\u97e7\u6027|\u5dee</td>\n",
        "      <td> neg</td>\n",
        "    </tr>\n",
        "    <tr>\n",
        "      <th>49</th>\n",
        "      <td>   \u8fbe\u6210|\u6218\u7565\u5408\u4f5c</td>\n",
        "      <td> pos</td>\n",
        "    </tr>\n",
        "    <tr>\n",
        "      <th>50</th>\n",
        "      <td>   \u4ef7\u683c\u8dcc\u52bf|\u8d8b\u7f13</td>\n",
        "      <td> pos</td>\n",
        "    </tr>\n",
        "    <tr>\n",
        "      <th>51</th>\n",
        "      <td>   \u6d88\u8d39\u4e60\u60ef|\u63a8\u5e7f</td>\n",
        "      <td> pos</td>\n",
        "    </tr>\n",
        "    <tr>\n",
        "      <th>52</th>\n",
        "      <td>    \u4e0a\u6da8\u5e45\u5ea6|\u9ad8</td>\n",
        "      <td> pos</td>\n",
        "    </tr>\n",
        "    <tr>\n",
        "      <th>53</th>\n",
        "      <td>     \u8bbe\u5907|\u5148\u8fdb</td>\n",
        "      <td> pos</td>\n",
        "    </tr>\n",
        "    <tr>\n",
        "      <th>54</th>\n",
        "      <td>    \u5e02\u573a\u57fa\u6570|\u4f4e</td>\n",
        "      <td> neg</td>\n",
        "    </tr>\n",
        "    <tr>\n",
        "      <th>55</th>\n",
        "      <td>      \u6f5c\u529b|\u5927</td>\n",
        "      <td> pos</td>\n",
        "    </tr>\n",
        "    <tr>\n",
        "      <th>56</th>\n",
        "      <td>     \u5b58\u8d27|\u6ede\u9500</td>\n",
        "      <td> neg</td>\n",
        "    </tr>\n",
        "    <tr>\n",
        "      <th>57</th>\n",
        "      <td>   \u6355\u635e\u9762\u79ef|\u589e\u52a0</td>\n",
        "      <td> pos</td>\n",
        "    </tr>\n",
        "    <tr>\n",
        "      <th>58</th>\n",
        "      <td>      \u76c8\u5229|\u964d</td>\n",
        "      <td> neg</td>\n",
        "    </tr>\n",
        "    <tr>\n",
        "      <th>59</th>\n",
        "      <td>   \u54c1\u724c\u6548\u5e94|\u51f8\u73b0</td>\n",
        "      <td> pos</td>\n",
        "    </tr>\n",
        "    <tr>\n",
        "      <th></th>\n",
        "      <td>...</td>\n",
        "      <td>...</td>\n",
        "    </tr>\n",
        "  </tbody>\n",
        "</table>\n",
        "<p>1490 rows \u00d7 2 columns</p>\n",
        "</div>"
       ],
       "metadata": {},
       "output_type": "pyout",
       "prompt_number": 169,
       "text": [
        "     \u8d44\u4ea7\u6536\u76ca\u7387|\u63d0\u5347  pos\n",
        "0     \u589e\u957f\u7a7a\u95f4|\u5e7f\u9614  pos\n",
        "1       \u7ade\u4e89|\u52a0\u5267  neg\n",
        "2       \u9762\u79ef|\u8fc7\u5927  neg\n",
        "3     \u76c8\u5229\u9884\u671f|\u4e0a\u8c03  pos\n",
        "4       \u5747\u4ef7|\u4e0a\u6da8  pos\n",
        "5       \u589e\u901f|\u63d0\u5347  pos\n",
        "6       \u9700\u6c42|\u7206\u53d1  pos\n",
        "7      \u54c1\u724c\u529b|\u826f\u597d  pos\n",
        "8       \u8425\u9500|\u79ef\u6781  pos\n",
        "9       \u8d28\u91cf|\u4e0b\u964d  neg\n",
        "10   \u4ea7\u4e1a\u94fe|\u65e5\u8d8b\u5b8c\u6574  pos\n",
        "11    \u9500\u552e\u52bf\u5934|\u826f\u597d  pos\n",
        "12      \u4e1a\u52a1|\u4e0b\u6ed1  neg\n",
        "13    \u8425\u9500\u961f\u4f0d|\u6210\u719f  pos\n",
        "14    \u4f01\u4e1a\u7ba1\u7406|\u6df7\u4e71  neg\n",
        "15  \u9500\u552e\u673a\u6784\u89c4\u6a21|\u6269\u5927  pos\n",
        "16     \u6b7b\u4ea1\u7387|\u63d0\u5347  neg\n",
        "17      \u6210\u672c|\u4fbf\u5b9c  pos\n",
        "18       \u7597\u6548|\u5f3a  pos\n",
        "19      \u51c0\u5229|\u9aa4\u964d  neg\n",
        "20   \u539f\u6750\u6599\u4ef7\u683c|\u9ad8\u4f01  neg\n",
        "21    \u5ba2\u6237\u53cd\u6620|\u826f\u597d  pos\n",
        "22      \u56de\u5f52|\u6b63\u8f68  pos\n",
        "23     \u6d88\u8d39\u5730\u4f4d|\u5f3a  pos\n",
        "24      \u7ade\u4e89\u529b|\u9ad8  pos\n",
        "25     \u7ecf\u6d4e\u6548\u76ca|\u597d  pos\n",
        "26      \u9884\u671f|\u900f\u652f  neg\n",
        "27      \u4f9b\u9700|\u5747\u8861  pos\n",
        "28      \u51fa\u53e3|\u51cf\u5c11  neg\n",
        "29      \u89c4\u6a21|\u589e\u957f  pos\n",
        "30      \u8dcc\u5e45|\u6269\u5927  neg\n",
        "31   \u5e02\u573a\u5360\u6709\u7387|\u63d0\u5347  pos\n",
        "32       \u5e94\u529b|\u4f4e  pos\n",
        "33     \u6355\u635e\u91cf|\u589e\u957f  pos\n",
        "34     \u6210\u529f\u6982\u7387|\u9ad8  pos\n",
        "35   \u5e02\u573a\u5360\u6709\u7387|\u9886\u5148  pos\n",
        "36    \u8d39\u7528\u63a7\u5236|\u4e25\u683c  pos\n",
        "37      \u4ea7\u80fd|\u6269\u5145  pos\n",
        "38      \u4ef7\u683c|\u4e0a\u5347  pos\n",
        "39    \u4e1a\u7ee9|\u5267\u70c8\u6ce2\u52a8  neg\n",
        "40    \u9700\u6c42\u589e\u901f|\u589e\u957f  pos\n",
        "41   \u4ea7\u54c1\u8f6c\u5316\u7387|\u63d0\u9ad8  pos\n",
        "42      \u6f5c\u529b|\u8f83\u5927  pos\n",
        "43    \u5b8c\u5584|\u4f9b\u5e94\u80fd\u529b  pos\n",
        "44  \u589e\u957f\u5f15\u64ce|\u6e90\u6e90\u4e0d\u65ad  pos\n",
        "45      \u7597\u6548|\u826f\u597d  pos\n",
        "46     \u4ea7\u9500\u91cf|\u589e\u957f  pos\n",
        "47      \u9700\u6c42|\u6fc0\u6d3b  pos\n",
        "48      \u67d4\u97e7\u6027|\u5dee  neg\n",
        "49    \u8fbe\u6210|\u6218\u7565\u5408\u4f5c  pos\n",
        "50    \u4ef7\u683c\u8dcc\u52bf|\u8d8b\u7f13  pos\n",
        "51    \u6d88\u8d39\u4e60\u60ef|\u63a8\u5e7f  pos\n",
        "52     \u4e0a\u6da8\u5e45\u5ea6|\u9ad8  pos\n",
        "53      \u8bbe\u5907|\u5148\u8fdb  pos\n",
        "54     \u5e02\u573a\u57fa\u6570|\u4f4e  neg\n",
        "55       \u6f5c\u529b|\u5927  pos\n",
        "56      \u5b58\u8d27|\u6ede\u9500  neg\n",
        "57    \u6355\u635e\u9762\u79ef|\u589e\u52a0  pos\n",
        "58       \u76c8\u5229|\u964d  neg\n",
        "59    \u54c1\u724c\u6548\u5e94|\u51f8\u73b0  pos\n",
        "          ...  ...\n",
        "\n",
        "[1490 rows x 2 columns]"
       ]
      }
     ],
     "prompt_number": 169
    },
    {
     "cell_type": "code",
     "collapsed": false,
     "input": [
      "a = 'asasa'\n",
      "re.match('[as]','asasa',0) == None"
     ],
     "language": "python",
     "metadata": {},
     "outputs": [
      {
       "metadata": {},
       "output_type": "pyout",
       "prompt_number": 108,
       "text": [
        "False"
       ]
      }
     ],
     "prompt_number": 108
    },
    {
     "cell_type": "code",
     "collapsed": false,
     "input": [
      "x = '\u80a1\u4ef7|\u4e0b\u8dcc'\n",
      "y = '\u80a1\u4ef7'"
     ],
     "language": "python",
     "metadata": {},
     "outputs": [],
     "prompt_number": 139
    },
    {
     "cell_type": "code",
     "collapsed": false,
     "input": [
      "len(re.findall(unicode(x,'utf8'), unicode(y,'utf8')))"
     ],
     "language": "python",
     "metadata": {},
     "outputs": [
      {
       "metadata": {},
       "output_type": "pyout",
       "prompt_number": 150,
       "text": [
        "1"
       ]
      }
     ],
     "prompt_number": 150
    },
    {
     "cell_type": "code",
     "collapsed": false,
     "input": [
      "def existed(wd):\n",
      "    return sum(selectWords.apply(lambda x : len(re.findall(unicode(x,'utf8'), unicode(wd,'utf8')))) > 1)"
     ],
     "language": "python",
     "metadata": {},
     "outputs": [],
     "prompt_number": 175
    },
    {
     "cell_type": "code",
     "collapsed": false,
     "input": [
      "res['ex'] = res['word'].apply(existed)"
     ],
     "language": "python",
     "metadata": {},
     "outputs": [],
     "prompt_number": 206
    },
    {
     "cell_type": "code",
     "collapsed": false,
     "input": [
      "res = res[res['word'].apply(len)<20]"
     ],
     "language": "python",
     "metadata": {},
     "outputs": [],
     "prompt_number": 207
    },
    {
     "cell_type": "code",
     "collapsed": false,
     "input": [
      "res.shape"
     ],
     "language": "python",
     "metadata": {},
     "outputs": [
      {
       "metadata": {},
       "output_type": "pyout",
       "prompt_number": 208,
       "text": [
        "(148, 3)"
       ]
      }
     ],
     "prompt_number": 208
    },
    {
     "cell_type": "code",
     "collapsed": false,
     "input": [
      "res[res['ex'] == 0]['word'].to_csv('/home/jiminzhou/data/temp.txt', index = False)"
     ],
     "language": "python",
     "metadata": {},
     "outputs": [],
     "prompt_number": 209
    }
   ],
   "metadata": {}
  }
 ]
}