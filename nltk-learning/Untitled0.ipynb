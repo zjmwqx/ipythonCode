{
 "metadata": {
  "name": "",
  "signature": "sha256:48ddd60cfbc854e1aefb6f3a576515f0c252730d575f222f6201102a90f2cd14"
 },
 "nbformat": 3,
 "nbformat_minor": 0,
 "worksheets": [
  {
   "cells": [
    {
     "cell_type": "code",
     "collapsed": false,
     "input": [
      "import nltk\n",
      "import pandas as pd"
     ],
     "language": "python",
     "metadata": {},
     "outputs": [],
     "prompt_number": 6
    },
    {
     "cell_type": "code",
     "collapsed": false,
     "input": [
      "from nltk.book import *"
     ],
     "language": "python",
     "metadata": {},
     "outputs": [
      {
       "output_type": "stream",
       "stream": "stdout",
       "text": [
        "*** Introductory Examples for the NLTK Book ***\n",
        "Loading text1, ..., text9 and sent1, ..., sent9\n",
        "Type the name of the text or sentence to view it.\n",
        "Type: 'texts()' or 'sents()' to list the materials.\n",
        "text1:"
       ]
      },
      {
       "output_type": "stream",
       "stream": "stdout",
       "text": [
        " Moby Dick by Herman Melville 1851\n",
        "text2:"
       ]
      },
      {
       "output_type": "stream",
       "stream": "stdout",
       "text": [
        " Sense and Sensibility by Jane Austen 1811\n",
        "text3:"
       ]
      },
      {
       "output_type": "stream",
       "stream": "stdout",
       "text": [
        " The Book of Genesis\n",
        "text4:"
       ]
      },
      {
       "output_type": "stream",
       "stream": "stdout",
       "text": [
        " Inaugural Address Corpus\n",
        "text5:"
       ]
      },
      {
       "output_type": "stream",
       "stream": "stdout",
       "text": [
        " Chat Corpus\n",
        "text6:"
       ]
      },
      {
       "output_type": "stream",
       "stream": "stdout",
       "text": [
        " Monty Python and the Holy Grail\n",
        "text7:"
       ]
      },
      {
       "output_type": "stream",
       "stream": "stdout",
       "text": [
        " Wall Street Journal\n",
        "text8: Personals Corpus\n",
        "text9:"
       ]
      },
      {
       "output_type": "stream",
       "stream": "stdout",
       "text": [
        " The Man Who Was Thursday by G . K . Chesterton 1908\n"
       ]
      }
     ],
     "prompt_number": 3
    },
    {
     "cell_type": "code",
     "collapsed": false,
     "input": [
      "t = nltk.Text(['a','b','c'])"
     ],
     "language": "python",
     "metadata": {},
     "outputs": [],
     "prompt_number": 15
    },
    {
     "cell_type": "code",
     "collapsed": false,
     "input": [
      "text1.concordance('mastrous')"
     ],
     "language": "python",
     "metadata": {},
     "outputs": [
      {
       "output_type": "stream",
       "stream": "stdout",
       "text": [
        "Building index...\n",
        "No matches"
       ]
      },
      {
       "output_type": "stream",
       "stream": "stdout",
       "text": [
        "\n"
       ]
      }
     ],
     "prompt_number": 16
    },
    {
     "cell_type": "code",
     "collapsed": false,
     "input": [
      "frq = [len(w) for w in text1]"
     ],
     "language": "python",
     "metadata": {},
     "outputs": [],
     "prompt_number": 17
    },
    {
     "cell_type": "code",
     "collapsed": false,
     "input": [
      "fdist = FreqDist(frq)"
     ],
     "language": "python",
     "metadata": {},
     "outputs": [],
     "prompt_number": 18
    },
    {
     "cell_type": "code",
     "collapsed": false,
     "input": [
      "from __future__ import division\n",
      "import nltk, re, pprint"
     ],
     "language": "python",
     "metadata": {},
     "outputs": [],
     "prompt_number": 28
    },
    {
     "cell_type": "code",
     "collapsed": false,
     "input": [
      "from urllib import urlopen\n",
      "url = \"http://www.gutenberg.org/files/2554/2554.txt\"\n",
      "raw = urlopen(url).read()"
     ],
     "language": "python",
     "metadata": {},
     "outputs": [],
     "prompt_number": 31
    },
    {
     "cell_type": "code",
     "collapsed": false,
     "input": [
      "proxies = {'http': 'http://www.someproxy.com:3128'}"
     ],
     "language": "python",
     "metadata": {},
     "outputs": [],
     "prompt_number": 33
    },
    {
     "cell_type": "code",
     "collapsed": false,
     "input": [
      "tokens = nltk.word_tokenize(raw)"
     ],
     "language": "python",
     "metadata": {},
     "outputs": [],
     "prompt_number": 35
    },
    {
     "cell_type": "code",
     "collapsed": false,
     "input": [
      "text = nltk.Text(tokens)"
     ],
     "language": "python",
     "metadata": {},
     "outputs": [],
     "prompt_number": 38
    },
    {
     "cell_type": "code",
     "collapsed": false,
     "input": [
      "text.collocations()"
     ],
     "language": "python",
     "metadata": {},
     "outputs": [
      {
       "output_type": "stream",
       "stream": "stdout",
       "text": [
        "Building collocations list\n",
        "Katerina Ivanovna; Pyotr Petrovitch; Pulcheria Alexandrovna; Avdotya\n",
        "Romanovna; Marfa Petrovna; Rodion Romanovitch; Sofya Semyonovna; old\n",
        "woman; Project Gutenberg-tm; Porfiry Petrovitch; Amalia Ivanovna;\n",
        "great deal; Project Gutenberg; Andrey Semyonovitch; Nikodim Fomitch;\n",
        "young man; Dmitri Prokofitch; n't know; Ilya Petrovitch; Good heavens"
       ]
      },
      {
       "output_type": "stream",
       "stream": "stdout",
       "text": [
        "\n"
       ]
      }
     ],
     "prompt_number": 40
    },
    {
     "cell_type": "code",
     "collapsed": false,
     "input": [
      "url = \"http://news.bbc.co.uk/2/hi/health/2284783.stm\"\n",
      "html = urlopen(url).read()\n",
      "raw = nltk.clean_html(html)"
     ],
     "language": "python",
     "metadata": {},
     "outputs": [],
     "prompt_number": 42
    },
    {
     "cell_type": "code",
     "collapsed": false,
     "input": [
      "tokens = raw"
     ],
     "language": "python",
     "metadata": {},
     "outputs": [],
     "prompt_number": 47
    },
    {
     "cell_type": "code",
     "collapsed": false,
     "input": [
      "text = nltk.Text(tokens)"
     ],
     "language": "python",
     "metadata": {},
     "outputs": [],
     "prompt_number": 49
    },
    {
     "cell_type": "code",
     "collapsed": false,
     "input": [
      "text.concordance(\"gene\")"
     ],
     "language": "python",
     "metadata": {},
     "outputs": [
      {
       "output_type": "stream",
       "stream": "stdout",
       "text": [
        "Building index...\n",
        "Displaying 6 of 6 matches:\n",
        "hey say too few people now carry the gene for blondes to last beyond the next \n",
        " have blonde hair , it must have the gene on both sides of the family in the g\n",
        "ere is a disadvantage of having that gene or by chance. They do n't disappear \n",
        "des would disappear is if having the gene was a disadvantage and I do not thin\n",
        "r 's Polio campaign launched in Iraq Gene defect explains high blood pressure \n",
        "r 's Polio campaign launched in Iraq Gene defect explains high blood pressure \n"
       ]
      }
     ],
     "prompt_number": 52
    },
    {
     "cell_type": "code",
     "collapsed": false,
     "input": [
      "text = nltk.corpus.genesis.words('english-kjv.txt')\n",
      "bigrams = nltk.bigrams(text)\n",
      "cfd = nltk.ConditionalFreqDist(bigrams)"
     ],
     "language": "python",
     "metadata": {},
     "outputs": [],
     "prompt_number": 25
    },
    {
     "cell_type": "code",
     "collapsed": false,
     "input": [
      "generate_model"
     ],
     "language": "python",
     "metadata": {},
     "outputs": [
      {
       "ename": "NameError",
       "evalue": "name 'generate_model' is not defined",
       "output_type": "pyerr",
       "traceback": [
        "\u001b[1;31m---------------------------------------------------------------------------\u001b[0m\n\u001b[1;31mNameError\u001b[0m                                 Traceback (most recent call last)",
        "\u001b[1;32m<ipython-input-30-6f45f64d2b5a>\u001b[0m in \u001b[0;36m<module>\u001b[1;34m()\u001b[0m\n\u001b[1;32m----> 1\u001b[1;33m \u001b[0mgenerate_model\u001b[0m\u001b[1;33m\u001b[0m\u001b[0m\n\u001b[0m",
        "\u001b[1;31mNameError\u001b[0m: name 'generate_model' is not defined"
       ]
      }
     ],
     "prompt_number": 30
    },
    {
     "cell_type": "code",
     "collapsed": false,
     "input": [
      "import nltk\n",
      "text = nltk.corpus.gutenberg.words()"
     ],
     "language": "python",
     "metadata": {},
     "outputs": [],
     "prompt_number": 19
    },
    {
     "cell_type": "code",
     "collapsed": false,
     "input": [
      "text = nltk.Text(text)"
     ],
     "language": "python",
     "metadata": {},
     "outputs": [],
     "prompt_number": 23
    },
    {
     "cell_type": "code",
     "collapsed": false,
     "input": [
      "text.concordance('surprise')"
     ],
     "language": "python",
     "metadata": {},
     "outputs": [
      {
       "output_type": "stream",
       "stream": "stdout",
       "text": [
        "Building index...\n",
        "Displaying 25 of 153 matches:"
       ]
      },
      {
       "output_type": "stream",
       "stream": "stdout",
       "text": [
        "\n",
        " that Emma could not but feel some surprise , and a little displeasure , on he\n",
        "re upon , that it will not greatly surprise me if , with all our caution , som\n",
        "was the reply , and with a look of surprise . \" Yes ; it is in two points offe\n",
        "t all hours , that it was rather a surprise to her to find Mary alone ; but be\n",
        " , food , hours , & c ., and their surprise at his accounts , at learning the \n",
        " , who was lying on the sofa . The surprise of finding himself almost alone wi\n",
        "rt of the street ; but his evident surprise and vexation at the substitution o\n",
        "h amusement at his little start of surprise , that he had not been at all awar\n",
        "think differently ; and it did not surprise her , therefore , that Lady Russel\n",
        " and , to quicken the pleasure and surprise , with Admiral and Mrs Croft ' s c\n",
        "you shall hear something that will surprise you . But first of all , you must \n",
        "ildering , first effects of strong surprise were over with her . Still , howev\n",
        " to feign that he was . It did not surprise , but it grieved Anne to observe t\n",
        "hing to encounter Lady Russell ' s surprise ; and now , if she were by any cha\n",
        "attaching himself to her with some surprise . Had it been the effect of gratit\n",
        " be Lady Elliot , and as general a surprise that Miss Elliot should be apparen\n",
        " , Anne could not but express some surprise at Mrs Smith ' s having spoken of \n",
        "ove \" were ushered into the room . Surprise was the strongest emotion raised b\n",
        "uisa at Uppercross . Anne ' s only surprise was , that affairs should be in fo\n",
        " latter could not be more than the surprise of the moment . It was impossible \n",
        "ff on the other ; and checking the surprise which she could not but feel at su\n",
        " a manner of doubtful meaning , of surprise rather than gratification , of pol\n",
        " think , Miss Elliot , to my great surprise I met with Mr Elliot in Bath Stree\n",
        "use could have conceived . All the surprise and suspense , and every other pai\n",
        "ne , \" I may consider it with some surprise . Edward is very amiable , and I l\n"
       ]
      }
     ],
     "prompt_number": 24
    },
    {
     "cell_type": "code",
     "collapsed": false,
     "input": [
      "word = fdist1.keys()"
     ],
     "language": "python",
     "metadata": {},
     "outputs": [
      {
       "ename": "NameError",
       "evalue": "name 'fdist1' is not defined",
       "output_type": "pyerr",
       "traceback": [
        "\u001b[1;31m---------------------------------------------------------------------------\u001b[0m\n\u001b[1;31mNameError\u001b[0m                                 Traceback (most recent call last)",
        "\u001b[1;32m<ipython-input-129-79dfbfda090d>\u001b[0m in \u001b[0;36m<module>\u001b[1;34m()\u001b[0m\n\u001b[1;32m----> 1\u001b[1;33m \u001b[0mword\u001b[0m \u001b[1;33m=\u001b[0m \u001b[0mfdist1\u001b[0m\u001b[1;33m.\u001b[0m\u001b[0mkeys\u001b[0m\u001b[1;33m(\u001b[0m\u001b[1;33m)\u001b[0m\u001b[1;33m\u001b[0m\u001b[0m\n\u001b[0m",
        "\u001b[1;31mNameError\u001b[0m: name 'fdist1' is not defined"
       ]
      }
     ],
     "prompt_number": 129
    },
    {
     "cell_type": "code",
     "collapsed": false,
     "input": [
      "randMat = random.rand(4,4)"
     ],
     "language": "python",
     "metadata": {},
     "outputs": [],
     "prompt_number": 7
    },
    {
     "cell_type": "code",
     "collapsed": false,
     "input": [
      "mat(randMat)*(mat(randMat).I)"
     ],
     "language": "python",
     "metadata": {},
     "outputs": [
      {
       "metadata": {},
       "output_type": "pyout",
       "prompt_number": 13,
       "text": [
        "matrix([[  1.00000000e+00,   3.81639165e-17,   4.85722573e-17,\n",
        "          -8.32667268e-17],\n",
        "        [  2.22044605e-16,   1.00000000e+00,   8.32667268e-17,\n",
        "           2.22044605e-16],\n",
        "        [  0.00000000e+00,  -2.77555756e-17,   1.00000000e+00,\n",
        "          -2.22044605e-16],\n",
        "        [  0.00000000e+00,  -2.77555756e-17,   1.11022302e-16,\n",
        "           1.00000000e+00]])"
       ]
      }
     ],
     "prompt_number": 13
    },
    {
     "cell_type": "code",
     "collapsed": false,
     "input": [
      "mat(eye(4))"
     ],
     "language": "python",
     "metadata": {},
     "outputs": [
      {
       "metadata": {},
       "output_type": "pyout",
       "prompt_number": 15,
       "text": [
        "matrix([[ 1.,  0.,  0.,  0.],\n",
        "        [ 0.,  1.,  0.,  0.],\n",
        "        [ 0.,  0.,  1.,  0.],\n",
        "        [ 0.,  0.,  0.,  1.]])"
       ]
      }
     ],
     "prompt_number": 15
    },
    {
     "cell_type": "code",
     "collapsed": false,
     "input": [
      "def prepareData():\n",
      "    data = array([[1.0,2.0],[1.0,1.0],[0,0],[0,0.1]])\n",
      "    labels = ['A','A','B','B']\n",
      "    return data,labels"
     ],
     "language": "python",
     "metadata": {},
     "outputs": [],
     "prompt_number": 18
    },
    {
     "cell_type": "code",
     "collapsed": false,
     "input": [
      "import operator\n",
      "def classify(intX, dataSet, labels, k):\n",
      "    dataSetSize = dataSet.shape[0]\n",
      "    diffMat = dataSet - tile(intX, (dataSetSize,1))\n",
      "    sqDiffMat = diffMat**2\n",
      "    distances = sqDiffMat.sum(axis=1)**0.5\n",
      "    sortedDistIndicies = distances.argsort()\n",
      "    classCount = {}\n",
      "    for i in range(k):\n",
      "        voteIlabel =  labels[sortedDistIndicies[i]]\n",
      "        classCount[voteIlabel] = classCount.get(voteIlabel, 0) + 1\n",
      "    sortedClassCount = sorted(classCount.iteritems(), key = operator.itemgetter(1), reverse=True)\n",
      "    return sortedClassCount[0][0]"
     ],
     "language": "python",
     "metadata": {},
     "outputs": [],
     "prompt_number": 64
    },
    {
     "cell_type": "code",
     "collapsed": false,
     "input": [
      "prepareData()[0]"
     ],
     "language": "python",
     "metadata": {},
     "outputs": [
      {
       "metadata": {},
       "output_type": "pyout",
       "prompt_number": 61,
       "text": [
        "array([[ 1. ,  2. ],\n",
        "       [ 1. ,  1. ],\n",
        "       [ 0. ,  0. ],\n",
        "       [ 0. ,  0.1]])"
       ]
      }
     ],
     "prompt_number": 61
    },
    {
     "cell_type": "code",
     "collapsed": false,
     "input": [
      "data, label = prepareData()"
     ],
     "language": "python",
     "metadata": {},
     "outputs": [],
     "prompt_number": 66
    },
    {
     "cell_type": "code",
     "collapsed": false,
     "input": [
      "type(list([]))"
     ],
     "language": "python",
     "metadata": {},
     "outputs": [
      {
       "metadata": {},
       "output_type": "pyout",
       "prompt_number": 90,
       "text": [
        "list"
       ]
      }
     ],
     "prompt_number": 90
    },
    {
     "cell_type": "code",
     "collapsed": false,
     "input": [
      "import matplotlib.pyplot as plt\n",
      "fig = plt.figure()\n",
      "ax = fig.add_subplot(111)\n",
      "ax.scatter(data[:,0],data[:,1],15.0*array(label), 15.0*array(label))"
     ],
     "language": "python",
     "metadata": {},
     "outputs": [
      {
       "metadata": {},
       "output_type": "pyout",
       "prompt_number": 84,
       "text": [
        "<matplotlib.collections.PathCollection at 0x46bbcd0>"
       ]
      },
      {
       "metadata": {},
       "output_type": "display_data",
       "png": "[encoded data removed]",
       "text": [
        "<matplotlib.figure.Figure at 0x7f5a0422d590>"
       ]
      }
     ],
     "prompt_number": 84
    }
   ],
   "metadata": {}
  }
 ]
}