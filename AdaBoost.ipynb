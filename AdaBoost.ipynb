{
 "metadata": {
  "name": ""
 },
 "nbformat": 3,
 "nbformat_minor": 0,
 "worksheets": [
  {
   "cells": [
    {
     "cell_type": "code",
     "collapsed": false,
     "input": [
      "def loadSimpData():\n",
      "    datMat = matrix([[ 1. , 2.1],\n",
      "    [ 2. , 1.1],\n",
      "    [ 1.3, 1. ],\n",
      "    [ 1. , 1. ],\n",
      "    [ 2. , 1. ]])\n",
      "    classLabels = [1.0, 1.0, -1.0, -1.0, 1.0]\n",
      "    return datMat,classLabels\n"
     ],
     "language": "python",
     "metadata": {},
     "outputs": [],
     "prompt_number": 1
    },
    {
     "cell_type": "code",
     "collapsed": false,
     "input": [
      "datMat,label = loadSimpData()"
     ],
     "language": "python",
     "metadata": {},
     "outputs": [],
     "prompt_number": 2
    },
    {
     "cell_type": "code",
     "collapsed": false,
     "input": [
      "def stumpClassify(dataset, dim, threashold, threshIneq):\n",
      "    retArray = ones((shape(dataset)[0],1))\n",
      "    if threshIneq == 'lt':\n",
      "        retArray[dataset[:,dim]<=threashold] = -1\n",
      "    else:\n",
      "        retArray[dataset[:,dim]>threashold] = -1\n",
      "    return retArray"
     ],
     "language": "python",
     "metadata": {},
     "outputs": [],
     "prompt_number": 7
    },
    {
     "cell_type": "code",
     "collapsed": false,
     "input": [
      "def buildStump(dataset, classifyLabel, D):\n",
      "    m,n = shape(dataset);classifyLabel = mat(classifyLabel).T\n",
      "    numsteps = 10\n",
      "    bestStump = {}\n",
      "    minError = inf\n",
      "    for i in range(n):\n",
      "        rangeMax = dataset[:,i].max()\n",
      "        rangeMin = dataset[:,i].min()\n",
      "        stepsize = (rangeMax - rangeMin)/float(numsteps)\n",
      "        for j in range(-1, int(numsteps)+1):\n",
      "            for inequality in ['lt','gt']:\n",
      "                predictVal = \\\n",
      "                    stumpClassify(dataset, i, float(j)*stepsize+ rangeMin, inequality)\n",
      "                errArr =  mat(ones((m,1)))\n",
      "                errArr[classifyLabel==predictVal] = 0\n",
      "                weightedError = D.T*errArr\n",
      "                print \"split: dim %d, thresh %.2f, thresh ineqal: \\\n",
      "                    %s, the weighted error is %.3f\" %(i, float(j)*stepsize+ rangeMin, inequality, weightedError)\n",
      "                if weightedError < minError:\n",
      "                    minError = weightedError\n",
      "                    bestClasEst = predictVal.copy()\n",
      "                    bestStump['dim'] = i\n",
      "                    bestStump['thresh'] = float(j)*stepsize+ rangeMin\n",
      "                    bestStump['ineq'] = inequality\n",
      "    return bestStump, minError, bestClasEst\n",
      "\n",
      "                "
     ],
     "language": "python",
     "metadata": {},
     "outputs": [],
     "prompt_number": 36
    },
    {
     "cell_type": "code",
     "collapsed": false,
     "input": [
      "D = mat(ones((5,1))/5)\n",
      "buildStump(datMat,label,D)\n"
     ],
     "language": "python",
     "metadata": {},
     "outputs": [
      {
       "output_type": "stream",
       "stream": "stdout",
       "text": [
        "split: dim 0, thresh 0.90, thresh ineqal:                     lt, the weighted error is 0.400\n",
        "split: dim 0, thresh 0.90, thresh ineqal:                     gt, the weighted error is 0.600\n",
        "split: dim 0, thresh 1.00, thresh ineqal:                     lt, the weighted error is 0.400\n",
        "split: dim 0, thresh 1.00, thresh ineqal:                     gt, the weighted error is 0.600\n",
        "split: dim 0, thresh 1.10, thresh ineqal:                     lt, the weighted error is 0.400\n",
        "split: dim 0, thresh 1.10, thresh ineqal:                     gt, the weighted error is 0.600\n",
        "split: dim 0, thresh 1.20, thresh ineqal:                     lt, the weighted error is 0.400\n",
        "split: dim 0, thresh 1.20, thresh ineqal:                     gt, the weighted error is 0.600\n",
        "split: dim 0, thresh 1.30, thresh ineqal:                     lt, the weighted error is 0.200\n",
        "split: dim 0, thresh 1.30, thresh ineqal:                     gt, the weighted error is 0.800\n",
        "split: dim 0, thresh 1.40, thresh ineqal:                     lt, the weighted error is 0.200\n",
        "split: dim 0, thresh 1.40, thresh ineqal:                     gt, the weighted error is 0.800\n",
        "split: dim 0, thresh 1.50, thresh ineqal:                     lt, the weighted error is 0.200\n",
        "split: dim 0, thresh 1.50, thresh ineqal:                     gt, the weighted error is 0.800\n",
        "split: dim 0, thresh 1.60, thresh ineqal:                     lt, the weighted error is 0.200\n",
        "split: dim 0, thresh 1.60, thresh ineqal:                     gt, the weighted error is 0.800\n",
        "split: dim 0, thresh 1.70, thresh ineqal:                     lt, the weighted error is 0.200\n",
        "split: dim 0, thresh 1.70, thresh ineqal:                     gt, the weighted error is 0.800\n",
        "split: dim 0, thresh 1.80, thresh ineqal:                     lt, the weighted error is 0.200\n",
        "split: dim 0, thresh 1.80, thresh ineqal:                     gt, the weighted error is 0.800\n",
        "split: dim 0, thresh 1.90, thresh ineqal:                     lt, the weighted error is 0.200\n",
        "split: dim 0, thresh 1.90, thresh ineqal:                     gt, the weighted error is 0.800\n",
        "split: dim 0, thresh 2.00, thresh ineqal:                     lt, the weighted error is 0.600\n",
        "split: dim 0, thresh 2.00, thresh ineqal:                     gt, the weighted error is 0.400\n",
        "split: dim 1, thresh 0.89, thresh ineqal:                     lt, the weighted error is 0.400\n",
        "split: dim 1, thresh 0.89, thresh ineqal:                     gt, the weighted error is 0.600\n",
        "split: dim 1, thresh 1.00, thresh ineqal:                     lt, the weighted error is 0.200\n",
        "split: dim 1, thresh 1.00, thresh ineqal:                     gt, the weighted error is 0.800\n",
        "split: dim 1, thresh 1.11, thresh ineqal:                     lt, the weighted error is 0.400\n",
        "split: dim 1, thresh 1.11, thresh ineqal:                     gt, the weighted error is 0.600\n",
        "split: dim 1, thresh 1.22, thresh ineqal:                     lt, the weighted error is 0.400\n",
        "split: dim 1, thresh 1.22, thresh ineqal:                     gt, the weighted error is 0.600\n",
        "split: dim 1, thresh 1.33, thresh ineqal:                     lt, the weighted error is 0.400\n",
        "split: dim 1, thresh 1.33, thresh ineqal:                     gt, the weighted error is 0.600\n",
        "split: dim 1, thresh 1.44, thresh ineqal:                     lt, the weighted error is 0.400\n",
        "split: dim 1, thresh 1.44, thresh ineqal:                     gt, the weighted error is 0.600\n",
        "split: dim 1, thresh 1.55, thresh ineqal:                     lt, the weighted error is 0.400\n",
        "split: dim 1, thresh 1.55, thresh ineqal:                     gt, the weighted error is 0.600\n",
        "split: dim 1, thresh 1.66, thresh ineqal:                     lt, the weighted error is 0.400\n",
        "split: dim 1, thresh 1.66, thresh ineqal:                     gt, the weighted error is 0.600\n",
        "split: dim 1, thresh 1.77, thresh ineqal:                     lt, the weighted error is 0.400\n",
        "split: dim 1, thresh 1.77, thresh ineqal:                     gt, the weighted error is 0.600\n",
        "split: dim 1, thresh 1.88, thresh ineqal:                     lt, the weighted error is 0.400\n",
        "split: dim 1, thresh 1.88, thresh ineqal:                     gt, the weighted error is 0.600\n",
        "split: dim 1, thresh 1.99, thresh ineqal:                     lt, the weighted error is 0.400\n",
        "split: dim 1, thresh 1.99, thresh ineqal:                     gt, the weighted error is 0.600\n",
        "split: dim 1, thresh 2.10, thresh ineqal:                     lt, the weighted error is 0.600\n",
        "split: dim 1, thresh 2.10, thresh ineqal:                     gt, the weighted error is 0.400\n"
       ]
      },
      {
       "metadata": {},
       "output_type": "pyout",
       "prompt_number": 37,
       "text": [
        "({'dim': 0, 'ineq': 'lt', 'thresh': 1.3},\n",
        " matrix([[ 0.2]]),\n",
        " array([[-1.],\n",
        "       [ 1.],\n",
        "       [-1.],\n",
        "       [-1.],\n",
        "       [ 1.]]))"
       ]
      }
     ],
     "prompt_number": 37
    },
    {
     "cell_type": "code",
     "collapsed": false,
     "input": [
      "def adaBoostTrainDS(dataArr,classLabels,numIt=40):\n",
      "    weakClassArr = []\n",
      "    m = shape(dataArr)[0]\n",
      "    D = mat(ones((m,1))/m)   #init D to all equal\n",
      "    aggClassEst = mat(zeros((m,1)))\n",
      "    for i in range(numIt):\n",
      "        bestStump,error,classEst = buildStump(dataArr,classLabels,D)#build Stump\n",
      "        #print \"D:\",D.T\n",
      "        alpha = float(0.5*log((1.0-error)/max(error,1e-16)))#calc alpha, throw in max(error,eps) to account for error=0\n",
      "        bestStump['alpha'] = alpha  \n",
      "        weakClassArr.append(bestStump)                  #store Stump Params in Array\n",
      "        #print \"classEst: \",classEst.T\n",
      "        expon = multiply(-1*alpha*mat(classLabels).T,classEst) #exponent for D calc, getting messy\n",
      "        D = multiply(D,exp(expon))                              #Calc New D for next iteration\n",
      "        D = D/D.sum()\n",
      "        #calc training error of all classifiers, if this is 0 quit for loop early (use break)\n",
      "        aggClassEst += alpha*classEst\n",
      "        #print \"aggClassEst: \",aggClassEst.T\n",
      "        aggErrors = multiply(sign(aggClassEst) != mat(classLabels).T,ones((m,1)))\n",
      "        errorRate = aggErrors.sum()/m\n",
      "        print \"total error: \",errorRate\n",
      "        if errorRate == 0.0: break\n",
      "    return weakClassArr,aggClassEst"
     ],
     "language": "python",
     "metadata": {},
     "outputs": [],
     "prompt_number": 52
    },
    {
     "cell_type": "code",
     "collapsed": false,
     "input": [
      "def adaClassify(datToClass,classifierArr):\n",
      "    dataMatrix = mat(datToClass)#do stuff similar to last aggClassEst in adaBoostTrainDS\n",
      "    m = shape(dataMatrix)[0]\n",
      "    aggClassEst = mat(zeros((m,1)))\n",
      "    for i in range(len(classifierArr)):\n",
      "        classEst = stumpClassify(dataMatrix,classifierArr[i]['dim'],\\\n",
      "                                 classifierArr[i]['thresh'],\\\n",
      "                                 classifierArr[i]['ineq'])#call stump classify\n",
      "        aggClassEst += classifierArr[i]['alpha']*classEst\n",
      "        print aggClassEst\n",
      "    return sign(aggClassEst)"
     ],
     "language": "python",
     "metadata": {},
     "outputs": []
    },
    {
     "cell_type": "code",
     "collapsed": false,
     "input": [
      "def plotROC(predStrengths, classLabels):\n",
      "    import matplotlib.pyplot as plt\n",
      "    cur = (1.0,1.0) #cursor\n",
      "    ySum = 0.0 #variable to calculate AUC\n",
      "    numPosClas = sum(array(classLabels)==1.0)\n",
      "    yStep = 1/float(numPosClas); xStep = 1/float(len(classLabels)-numPosClas)\n",
      "    sortedIndicies = predStrengths.argsort()#get sorted index, it's reverse\n",
      "    fig = plt.figure()\n",
      "    fig.clf()\n",
      "    ax = plt.subplot(111)\n",
      "    #loop through all the values, drawing a line segment at each point\n",
      "    for index in sortedIndicies.tolist()[0]:\n",
      "        if classLabels[index] == 1.0:\n",
      "            delX = 0; delY = yStep;\n",
      "        else:\n",
      "            delX = xStep; delY = 0;\n",
      "            ySum += cur[1]\n",
      "        #draw line from cur to (cur[0]-delX,cur[1]-delY)\n",
      "        ax.plot([cur[0],cur[0]-delX],[cur[1],cur[1]-delY], c='b')\n",
      "        cur = (cur[0]-delX,cur[1]-delY)\n",
      "    ax.plot([0,1],[0,1],'b--')\n",
      "    plt.xlabel('False positive rate'); plt.ylabel('True positive rate')\n",
      "    plt.title('ROC curve for AdaBoost horse colic detection system')\n",
      "    ax.axis([0,1,0,1])\n",
      "    plt.show()\n",
      "    print \"the Area Under the Curve is: \",ySum*xStep"
     ],
     "language": "python",
     "metadata": {},
     "outputs": []
    },
    {
     "cell_type": "code",
     "collapsed": false,
     "input": [
      "a = array([1,2,3])\n",
      "a.argsort()"
     ],
     "language": "python",
     "metadata": {},
     "outputs": [
      {
       "metadata": {},
       "output_type": "pyout",
       "prompt_number": 41,
       "text": [
        "array([0, 1, 2])"
       ]
      }
     ],
     "prompt_number": 41
    },
    {
     "cell_type": "code",
     "collapsed": false,
     "input": [
      "def loadDataSet(fileName):      #general function to parse tab -delimited floats\n",
      "    numFeat = len(open(fileName).readline().split('\\t')) #get number of fields \n",
      "    dataMat = []; labelMat = []\n",
      "    fr = open(fileName)\n",
      "    for line in fr.readlines():\n",
      "        lineArr =[]\n",
      "        curLine = line.strip().split('\\t')\n",
      "        for i in range(numFeat-1):\n",
      "            lineArr.append(float(curLine[i]))\n",
      "        dataMat.append(lineArr)\n",
      "        labelMat.append(float(curLine[-1]))\n",
      "    return dataMat,labelMat"
     ],
     "language": "python",
     "metadata": {},
     "outputs": [],
     "prompt_number": 43
    },
    {
     "cell_type": "code",
     "collapsed": false,
     "input": [
      "datArr,labelArr = loadDataSet('machinelearninginaction/Ch07/horseColicTraining2.txt')"
     ],
     "language": "python",
     "metadata": {},
     "outputs": [],
     "prompt_number": 46
    },
    {
     "cell_type": "code",
     "collapsed": false,
     "input": [
      "classifierArray,aggClassEst = adaBoostTrainDS(datArr,labelArr,40)"
     ],
     "language": "python",
     "metadata": {},
     "outputs": [
      {
       "output_type": "stream",
       "stream": "stdout",
       "text": [
        "total error:  0.284280936455\n",
        "total error: "
       ]
      },
      {
       "output_type": "stream",
       "stream": "stdout",
       "text": [
        " 0.284280936455\n",
        "total error: "
       ]
      },
      {
       "output_type": "stream",
       "stream": "stdout",
       "text": [
        " 0.247491638796\n",
        "total error: "
       ]
      },
      {
       "output_type": "stream",
       "stream": "stdout",
       "text": [
        " 0.247491638796\n",
        "total error: "
       ]
      },
      {
       "output_type": "stream",
       "stream": "stdout",
       "text": [
        " 0.254180602007\n",
        "total error: "
       ]
      },
      {
       "output_type": "stream",
       "stream": "stdout",
       "text": [
        " 0.240802675585\n",
        "total error: "
       ]
      },
      {
       "output_type": "stream",
       "stream": "stdout",
       "text": [
        " 0.240802675585\n",
        "total error: "
       ]
      },
      {
       "output_type": "stream",
       "stream": "stdout",
       "text": [
        " 0.220735785953\n",
        "total error: "
       ]
      },
      {
       "output_type": "stream",
       "stream": "stdout",
       "text": [
        " 0.247491638796\n",
        "total error: "
       ]
      },
      {
       "output_type": "stream",
       "stream": "stdout",
       "text": [
        " 0.230769230769\n",
        "total error: "
       ]
      },
      {
       "output_type": "stream",
       "stream": "stdout",
       "text": [
        " 0.240802675585\n",
        "total error: "
       ]
      },
      {
       "output_type": "stream",
       "stream": "stdout",
       "text": [
        " 0.214046822742\n",
        "total error: "
       ]
      },
      {
       "output_type": "stream",
       "stream": "stdout",
       "text": [
        " 0.227424749164\n",
        "total error: "
       ]
      },
      {
       "output_type": "stream",
       "stream": "stdout",
       "text": [
        " 0.217391304348\n",
        "total error: "
       ]
      },
      {
       "output_type": "stream",
       "stream": "stdout",
       "text": [
        " 0.220735785953\n",
        "total error: "
       ]
      },
      {
       "output_type": "stream",
       "stream": "stdout",
       "text": [
        " 0.217391304348\n",
        "total error: "
       ]
      },
      {
       "output_type": "stream",
       "stream": "stdout",
       "text": [
        " 0.224080267559\n",
        "total error: "
       ]
      },
      {
       "output_type": "stream",
       "stream": "stdout",
       "text": [
        " 0.224080267559\n",
        "total error: "
       ]
      },
      {
       "output_type": "stream",
       "stream": "stdout",
       "text": [
        " 0.230769230769\n",
        "total error: "
       ]
      },
      {
       "output_type": "stream",
       "stream": "stdout",
       "text": [
        " 0.224080267559\n",
        "total error: "
       ]
      },
      {
       "output_type": "stream",
       "stream": "stdout",
       "text": [
        " 0.214046822742\n",
        "total error: "
       ]
      },
      {
       "output_type": "stream",
       "stream": "stdout",
       "text": [
        " 0.207357859532\n",
        "total error: "
       ]
      },
      {
       "output_type": "stream",
       "stream": "stdout",
       "text": [
        " 0.224080267559\n",
        "total error: "
       ]
      },
      {
       "output_type": "stream",
       "stream": "stdout",
       "text": [
        " 0.224080267559\n",
        "total error: "
       ]
      },
      {
       "output_type": "stream",
       "stream": "stdout",
       "text": [
        " 0.214046822742\n",
        "total error: "
       ]
      },
      {
       "output_type": "stream",
       "stream": "stdout",
       "text": [
        " 0.220735785953\n",
        "total error: "
       ]
      },
      {
       "output_type": "stream",
       "stream": "stdout",
       "text": [
        " 0.204013377926\n",
        "total error: "
       ]
      },
      {
       "output_type": "stream",
       "stream": "stdout",
       "text": [
        " 0.207357859532\n",
        "total error: "
       ]
      },
      {
       "output_type": "stream",
       "stream": "stdout",
       "text": [
        " 0.210702341137\n",
        "total error: "
       ]
      },
      {
       "output_type": "stream",
       "stream": "stdout",
       "text": [
        " 0.217391304348\n",
        "total error: "
       ]
      },
      {
       "output_type": "stream",
       "stream": "stdout",
       "text": [
        " 0.210702341137\n",
        "total error: "
       ]
      },
      {
       "output_type": "stream",
       "stream": "stdout",
       "text": [
        " 0.217391304348\n",
        "total error: "
       ]
      },
      {
       "output_type": "stream",
       "stream": "stdout",
       "text": [
        " 0.207357859532\n",
        "total error: "
       ]
      },
      {
       "output_type": "stream",
       "stream": "stdout",
       "text": [
        " 0.210702341137\n",
        "total error: "
       ]
      },
      {
       "output_type": "stream",
       "stream": "stdout",
       "text": [
        " 0.207357859532\n",
        "total error: "
       ]
      },
      {
       "output_type": "stream",
       "stream": "stdout",
       "text": [
        " 0.207357859532\n",
        "total error: "
       ]
      },
      {
       "output_type": "stream",
       "stream": "stdout",
       "text": [
        " 0.197324414716\n",
        "total error: "
       ]
      },
      {
       "output_type": "stream",
       "stream": "stdout",
       "text": [
        " 0.190635451505\n",
        "total error: "
       ]
      },
      {
       "output_type": "stream",
       "stream": "stdout",
       "text": [
        " 0.200668896321\n",
        "total error: "
       ]
      },
      {
       "output_type": "stream",
       "stream": "stdout",
       "text": [
        " 0.197324414716\n"
       ]
      }
     ],
     "prompt_number": 53
    },
    {
     "cell_type": "code",
     "collapsed": false,
     "input": [
      "def plotROC(predStrengths, classLabels):\n",
      "    import matplotlib.pyplot as plt\n",
      "    cur = (1.0,1.0) #cursor\n",
      "    ySum = 0.0 #variable to calculate AUC\n",
      "    numPosClas = sum(array(classLabels)==1.0)\n",
      "    yStep = 1/float(numPosClas); xStep = 1/float(len(classLabels)-numPosClas)\n",
      "    sortedIndicies = predStrengths.argsort()#get sorted index, it's reverse\n",
      "    fig = plt.figure()\n",
      "    fig.clf()\n",
      "    ax = plt.subplot(111)\n",
      "    #loop through all the values, drawing a line segment at each point\n",
      "    for index in sortedIndicies.tolist()[0]:\n",
      "        if classLabels[index] == 1.0:\n",
      "            delX = 0; delY = yStep;\n",
      "        else:\n",
      "            delX = xStep; delY = 0;\n",
      "            ySum += cur[1]\n",
      "        #draw line from cur to (cur[0]-delX,cur[1]-delY)\n",
      "        ax.plot([cur[0],cur[0]-delX],[cur[1],cur[1]-delY], c='b')\n",
      "        cur = (cur[0]-delX,cur[1]-delY)\n",
      "    ax.plot([0,1],[0,1],'b--')\n",
      "    plt.xlabel('False positive rate'); plt.ylabel('True positive rate')\n",
      "    plt.title('ROC curve for AdaBoost horse colic detection system')\n",
      "    ax.axis([0,1,0,1])\n",
      "    plt.show()\n",
      "    print \"the Area Under the Curve is: \",ySum*xStep"
     ],
     "language": "python",
     "metadata": {},
     "outputs": [],
     "prompt_number": 50
    },
    {
     "cell_type": "code",
     "collapsed": false,
     "input": [
      "plotROC(aggClassEst.T,labelArr)"
     ],
     "language": "python",
     "metadata": {},
     "outputs": [
      {
       "metadata": {},
       "output_type": "display_data",
       "png": "[encoded data removed]",
       "text": [
        "<matplotlib.figure.Figure at 0x38f6a10>"
       ]
      },
      {
       "output_type": "stream",
       "stream": "stdout",
       "text": [
        "the Area Under the Curve is:  0.89181911041\n"
       ]
      }
     ],
     "prompt_number": 54
    }
   ],
   "metadata": {}
  }
 ]
}