{
 "metadata": {
  "name": "",
  "signature": "sha256:abec3d2039a0d386cabd7fd6396316beeea1a054ace41b187990d1a18795bd91"
 },
 "nbformat": 3,
 "nbformat_minor": 0,
 "worksheets": [
  {
   "cells": [
    {
     "cell_type": "code",
     "collapsed": false,
     "input": [
      "selectSql = \"select ins.PARTY_ID, equ.TICKER_SYMBOL, ins.REGISTER_FULL_NAME, sec.SECURITY_NAME_ABBR\";\n",
      "selectSql += \" from INSTITUTION ins, SECURITY sec, EQUITY equ\";\n",
      "selectSql += \" where sec.ASSET_CLASS=3\";\n",
      "selectSql += \" and sec.PARTY_ID = ins.PARTY_ID\";\n",
      "selectSql += \" and equ.EQUITY_TYPE in(1,2)\";\n",
      "selectSql += \" and equ.SECURITY_ID = sec.SECURITY_ID\";"
     ],
     "language": "python",
     "metadata": {},
     "outputs": []
    }
   ],
   "metadata": {}
  }
 ]
}