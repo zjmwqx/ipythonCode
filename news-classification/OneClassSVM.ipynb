{
 "metadata": {
  "name": "",
  "signature": "sha256:640fbe34c7a2f76d893e57eca592310a9bc90067c609d6a30f6d8b82e562e7c2"
 },
 "nbformat": 3,
 "nbformat_minor": 0,
 "worksheets": [
  {
   "cells": [
    {
     "cell_type": "code",
     "collapsed": false,
     "input": [
      "import numpy as np\n",
      "import pylab as pl\n",
      "import pandas as pd\n",
      "from sklearn import svm\n",
      "import json\n",
      "from sklearn.feature_extraction.text import CountVectorizer\n",
      "from sklearn import grid_search\n",
      "from sklearn.metrics import precision_recall_fscore_support\n",
      "from sklearn import StratifiedKFold\n",
      "import os\n",
      "import cPickle"
     ],
     "language": "python",
     "metadata": {},
     "outputs": [],
     "prompt_number": 72
    },
    {
     "cell_type": "code",
     "collapsed": false,
     "input": [
      "dataMapping = pd.read_csv('/home/jiminzhou/data/newsClassify/categoriesMap.txt', sep=' ')\n",
      "dataMapping['index'] =1"
     ],
     "language": "python",
     "metadata": {},
     "outputs": [],
     "prompt_number": 257
    },
    {
     "cell_type": "code",
     "collapsed": false,
     "input": [
      "pardir = os.listdir('/home/jiminzhou/data/newsTagged/')\n",
      "curdir = []\n",
      "foPath = []\n",
      "cnt = 0\n",
      "for d in pardir:\n",
      "    if not d.startswith('tao'):\n",
      "        dataMapping['index'][dataMapping['shortName']==d]=cnt\n",
      "        curdir.append('/home/jiminzhou/data/newsTagged/'+d+'/parse_text/') \n",
      "        foPath.append('/home/jiminzhou/data/newsClassify/'+d+'.txt')\n",
      "        cnt = cnt+1"
     ],
     "language": "python",
     "metadata": {},
     "outputs": [],
     "prompt_number": 258
    },
    {
     "cell_type": "code",
     "collapsed": false,
     "input": [
      "# path = ['/home/jiminzhou/data/newsTagged/ifenggpbkzt/parse_text/20140619',\n",
      "#         '/home/jiminzhou/data/newsTagged/ifenggpdpgg/parse_text/20140619',]\n",
      "# path = ['/home/jiminzhou/data/output/ifenghgzc/pasre_text/20140617',\n",
      "#         '/home/jiminzhou/data/output/ifengqqjj/pasre_text/20140617']\n",
      "# foPath = ['/home/jiminzhou/data/tempNews-ifenggpbkzt.txt', \n",
      "#           '/home/jiminzhou/data/tempNews-ifenggpdpgg.txt']"
     ],
     "language": "python",
     "metadata": {},
     "outputs": [],
     "prompt_number": 164
    },
    {
     "cell_type": "code",
     "collapsed": false,
     "input": [
      "from numpy import genfromtxt\n",
      "def readInFiles(path):\n",
      "    newsdata = []\n",
      "    for ind in range(len(path)):\n",
      " #       print foPath[ind]+' is processing..'\n",
      "        fo = open(foPath[ind], 'w')\n",
      "        for daydir in os.listdir(path[ind]):\n",
      "            for ff in os.listdir(path[ind]+'/'+daydir):\n",
      "                fi = open(path[ind]+'/'+daydir+'/'+ff)\n",
      "                while True:\n",
      "                    ss = fi.read()\n",
      "                    if not ss:\n",
      "                        break;\n",
      "                    fo.write(ss)\n",
      "                fi.close()\n",
      "        fo.close()\n",
      "#        data = genfromtxt(foPath[ind], dtype=str,delimiter='\\n')\n",
      "#        data = pd.read_csv(foPath[ind], sep='\\n')\n",
      "        dataList = []\n",
      "        for line in open(foPath[ind]):\n",
      "            try:\n",
      "               dataList = dataList +  [json.loads(line)]\n",
      "            except Exception as err:\n",
      "                print line\n",
      "                print err\n",
      "#         data = data.fillna(value = '')\n",
      "        if(len(dataList)>100):\n",
      "            newsdata.append(dataList[0:100])\n",
      "        else:\n",
      "            newsdata.append(dataList)\n",
      "       \n",
      "    return newsdata"
     ],
     "language": "python",
     "metadata": {},
     "outputs": [],
     "prompt_number": 13
    },
    {
     "cell_type": "code",
     "collapsed": false,
     "input": [
      "newsdata[0] = newsdata[0][0:100]"
     ],
     "language": "python",
     "metadata": {},
     "outputs": [],
     "prompt_number": 14
    },
    {
     "cell_type": "code",
     "collapsed": false,
     "input": [
      "#read in files\n",
      "newsdata = readInFiles(curdir);"
     ],
     "language": "python",
     "metadata": {},
     "outputs": [
      {
       "output_type": "stream",
       "stream": "stdout",
       "text": [
        "/home/jiminzhou/data/newsClassify/jrjxxhz.txt is processing..\n",
        "/home/jiminzhou/data/newsClassify/jrjzyrw.txt is processing.."
       ]
      },
      {
       "output_type": "stream",
       "stream": "stdout",
       "text": [
        "\n",
        "/home/jiminzhou/data/newsClassify/ifengybshxw.txt is processing.."
       ]
      },
      {
       "output_type": "stream",
       "stream": "stdout",
       "text": [
        "\n",
        "/home/jiminzhou/data/newsClassify/ifengthfy.txt is processing.."
       ]
      },
      {
       "output_type": "stream",
       "stream": "stdout",
       "text": [
        "\n",
        "/home/jiminzhou/data/newsClassify/jrjcyxw.txt is processing.."
       ]
      },
      {
       "output_type": "stream",
       "stream": "stdout",
       "text": [
        "\n",
        "/home/jiminzhou/data/newsClassify/ifengzgjq.txt is processing.."
       ]
      },
      {
       "output_type": "stream",
       "stream": "stdout",
       "text": [
        "\n",
        "/home/jiminzhou/data/newsClassify/ifengfwgc.txt is processing.."
       ]
      },
      {
       "output_type": "stream",
       "stream": "stdout",
       "text": [
        "\n",
        "/home/jiminzhou/data/newsClassify/ifenghqjq.txt is processing.."
       ]
      },
      {
       "output_type": "stream",
       "stream": "stdout",
       "text": [
        "\n",
        "/home/jiminzhou/data/newsClassify/ifenglbsm.txt is processing.."
       ]
      },
      {
       "output_type": "stream",
       "stream": "stdout",
       "text": [
        "\n",
        "/home/jiminzhou/data/newsClassify/ifenggpdpgg.txt is processing.."
       ]
      },
      {
       "output_type": "stream",
       "stream": "stdout",
       "text": [
        "\n",
        "/home/jiminzhou/data/newsClassify/ifenggpdphy.txt is processing.."
       ]
      },
      {
       "output_type": "stream",
       "stream": "stdout",
       "text": [
        "\n",
        "/home/jiminzhou/data/newsClassify/ifenggpbkzt.txt is processing.."
       ]
      },
      {
       "output_type": "stream",
       "stream": "stdout",
       "text": [
        "\n",
        "/home/jiminzhou/data/newsClassify/ifenggpsczj.txt is processing.."
       ]
      },
      {
       "output_type": "stream",
       "stream": "stdout",
       "text": [
        "\n",
        "/home/jiminzhou/data/newsClassify/ifenggsxw.txt is processing.."
       ]
      },
      {
       "output_type": "stream",
       "stream": "stdout",
       "text": [
        "\n",
        "/home/jiminzhou/data/newsClassify/ifenggpscyw.txt is processing.."
       ]
      },
      {
       "output_type": "stream",
       "stream": "stdout",
       "text": [
        "\n",
        "/home/jiminzhou/data/newsClassify/ifenghgsj.txt is processing.."
       ]
      },
      {
       "output_type": "stream",
       "stream": "stdout",
       "text": [
        "\n",
        "/home/jiminzhou/data/newsClassify/ifengzgjj.txt is processing.."
       ]
      },
      {
       "output_type": "stream",
       "stream": "stdout",
       "text": [
        "\n",
        "/home/jiminzhou/data/newsClassify/ifenghgzc.txt is processing.."
       ]
      },
      {
       "output_type": "stream",
       "stream": "stdout",
       "text": [
        "\n",
        "/home/jiminzhou/data/newsClassify/ifengqqjj.txt is processing.."
       ]
      },
      {
       "output_type": "stream",
       "stream": "stdout",
       "text": [
        "\n"
       ]
      }
     ],
     "prompt_number": 4
    },
    {
     "cell_type": "code",
     "collapsed": false,
     "input": [
      "#cPickle.dump(newsdata, open('/home/jiminzhou/data/newsClassify/newsPickle.pickle','w') )\n",
      "newsdata = cPickle.load(open('/home/jiminzhou/data/newsClassify/newsPickle.pickle'))"
     ],
     "language": "python",
     "metadata": {},
     "outputs": [],
     "prompt_number": 280
    },
    {
     "cell_type": "code",
     "collapsed": false,
     "input": [
      "#ansj segemnt\n",
      "\"\"\"\n",
      "wrapper for java tools\n",
      "\n",
      "Run start_jvm with classpaths first, you must ensure all need jars are supplied\n",
      "\"\"\"\n",
      "import jpype\n",
      "import os\n",
      "class AnsjSplitter:\n",
      "    \"\"\" Wrapper for ansj\n",
      "\n",
      "    Needed jars:\n",
      "    ansj_seg-xxx.jar\n",
      "    tree_split-xxx.jar\n",
      "    \"\"\"\n",
      "    def __init__(self, dict_path=None):\n",
      "        \"\"\" Parameters:\n",
      "        dict_path: path of userLibrary\n",
      "        \"\"\"\n",
      "        self.AnsjConfig = jpype.JClass('org.ansj.util.MyStaticValue')\n",
      "        self.AnsjConfig.ambiguityLibrary = None\n",
      "        self.AnsjConfig.userLibrary = dict_path\n",
      "        self.methods = {\n",
      "            'base': jpype.JClass('org.ansj.splitWord.analysis.BaseAnalysis'),\n",
      "            'to': jpype.JClass('org.ansj.splitWord.analysis.ToAnalysis'),\n",
      "            'nlp': jpype.JClass('org.ansj.splitWord.analysis.NlpAnalysis'),\n",
      "        }\n",
      "    def split(self, txt, method = 'nlp'):\n",
      "        \"\"\" split txt using method\n",
      "        method can be \"base\", \"to\", or \"nlp\"\n",
      "        \"\"\"\n",
      "        if method not in self.methods:\n",
      "            raise RuntimeError('no such method for ansj')\n",
      "        raw_res = self.methods[method].parse(txt).toArray()\n",
      "        res = [(x.offe, x.offe+len(x.realName), x.nature.natureStr) for x in raw_res]\n",
      "        return res\n",
      "\n",
      "def start_jvm(class_path_list):\n",
      "    \"\"\" Start jvm with class_path_list\n",
      "    \"\"\"\n",
      "    jpype.startJVM(jpype.getDefaultJVMPath(), '-ea', \"-Djava.class.path=%s\" % ':'.join(class_path_list))\n",
      "def shutdown_jvm():\n",
      "    \"\"\" shutdown jvm\n",
      "    \"\"\"\n",
      "    jpyte.shutdownJVM()\n",
      "import glob\n",
      "start_jvm(glob.glob('/home/jiminzhou/jar_lib/*'))\n",
      "ansj = AnsjSplitter('/home/jiminzhou/data/userLibrary.txt')\n",
      "def my_tokenizer(s):\n",
      "    ll = ansj.split(s)\n",
      "    res = []\n",
      "    for tt in ll:\n",
      "        res.append(s[tt[0]: tt[1]])\n",
      "    return res"
     ],
     "language": "python",
     "metadata": {},
     "outputs": [
      {
       "output_type": "stream",
       "stream": "stderr",
       "text": [
        "/home/jiminzhou/env1/local/lib/python2.7/site-packages/jpype/_pykeywords.py:18: DeprecationWarning: the sets module is deprecated\n",
        "  import sets\n"
       ]
      }
     ],
     "prompt_number": 3
    },
    {
     "cell_type": "code",
     "collapsed": false,
     "input": [
      "def getNewsCountVec(arg_data):\n",
      "    cv1 = CountVectorizer(analyzer=my_tokenizer)\n",
      "    cv2 = CountVectorizer(analyzer=my_tokenizer)\n",
      "    cntContentRes = cv1.fit_transform([el['content'] for el in arg_data]).toarray()\n",
      "    cntTitleRes = cv2.fit_transform([el['title'] for el in arg_data]).toarray()\n",
      "    res = np.append(cntContentRes.T, cntTitleRes.T, axis=0).T\n",
      "    return cv1,cv2, res"
     ],
     "language": "python",
     "metadata": {},
     "outputs": [],
     "prompt_number": 15
    },
    {
     "cell_type": "code",
     "collapsed": false,
     "input": [
      "countVecList = []\n",
      "newsAll = []\n",
      "for ll in newsdata:\n",
      "    newsAll.extend(ll)\n",
      "cv1,cv2,res = getNewsCountVec(newsAll)\n",
      "# for ind in range(len(path)):\n",
      "#     cv1,cv2,res = getNewsCountVec(newsdata[ind])\n",
      "#     countVecList.append((cv1,cv2,res))\n",
      "# cPickle.dump(countVecList, open(\"/home/jiminzhou/data/newsClassify/countVec.pickle\",'w'))"
     ],
     "language": "python",
     "metadata": {},
     "outputs": [],
     "prompt_number": 16
    },
    {
     "cell_type": "code",
     "collapsed": false,
     "input": [
      "savedData = pd.DataFrame([cv1,cv2,res])\n",
      "savedData.to_pickle('/home/jiminzhou/data/newsClassify/countVec.pickle')"
     ],
     "language": "python",
     "metadata": {},
     "outputs": [],
     "prompt_number": 18
    },
    {
     "cell_type": "code",
     "collapsed": false,
     "input": [
      "target = []\n",
      "for nn in range(len(newsdata)):\n",
      "    target.extend([nn]*100)"
     ],
     "language": "python",
     "metadata": {},
     "outputs": [],
     "prompt_number": 21
    },
    {
     "cell_type": "code",
     "collapsed": false,
     "input": [
      "from sklearn import cross_validation\n",
      "cross_validation.cross_val_score(clf, res, np.array(target), cv =5, scoring = 'f1')"
     ],
     "language": "python",
     "metadata": {},
     "outputs": []
    },
    {
     "cell_type": "code",
     "collapsed": false,
     "input": [
      "#init model\n",
      "clf = svm.LinearSVC(C=1)\n",
      "#get straitifiedKFold : training set and predict set\n",
      "cv = cross_validation.StratifiedKFold(np.array(target), n_folds=2)\n",
      "for train, predict in cv:\n",
      "    train_set = train,\n",
      "    predict_set = predict"
     ],
     "language": "python",
     "metadata": {},
     "outputs": [],
     "prompt_number": 177
    },
    {
     "cell_type": "code",
     "collapsed": false,
     "input": [
      "#get model\n",
      "clf.fit(res[train_set] , np.array(target)[train_set])"
     ],
     "language": "python",
     "metadata": {},
     "outputs": [
      {
       "metadata": {},
       "output_type": "pyout",
       "prompt_number": 167,
       "text": [
        "LinearSVC(C=2, class_weight=None, dual=True, fit_intercept=True,\n",
        "     intercept_scaling=1, loss='l2', multi_class='ovr', penalty='l2',\n",
        "     random_state=None, tol=0.0001, verbose=0)"
       ]
      }
     ],
     "prompt_number": 167
    },
    {
     "cell_type": "code",
     "collapsed": false,
     "input": [
      "#get predict results\n",
      "predict_res = clf.predict(res[predict_set])"
     ],
     "language": "python",
     "metadata": {},
     "outputs": [],
     "prompt_number": 168
    },
    {
     "cell_type": "code",
     "collapsed": false,
     "input": [
      "#calculate the index of predict results\n",
      "(precision, recall, f_score, num) = precision_recall_fscore_support(np.array(target)[predict_set], predict_res)"
     ],
     "language": "python",
     "metadata": {},
     "outputs": [],
     "prompt_number": 162
    },
    {
     "cell_type": "code",
     "collapsed": false,
     "input": [
      "dataToShow = pd.DataFrame({'precision':precision, 'recall':recall, 'f_value': f_score})"
     ],
     "language": "python",
     "metadata": {},
     "outputs": [],
     "prompt_number": 190
    },
    {
     "cell_type": "code",
     "collapsed": false,
     "input": [
      "dataMapping.sort('index').head()"
     ],
     "language": "python",
     "metadata": {},
     "outputs": [
      {
       "html": [
        "<div style=\"max-height:1000px;max-width:1500px;overflow:auto;\">\n",
        "<table border=\"1\" class=\"dataframe\">\n",
        "  <thead>\n",
        "    <tr style=\"text-align: right;\">\n",
        "      <th></th>\n",
        "      <th>source</th>\n",
        "      <th>shortName</th>\n",
        "      <th>category</th>\n",
        "      <th>index</th>\n",
        "    </tr>\n",
        "  </thead>\n",
        "  <tbody>\n",
        "    <tr>\n",
        "      <th>18</th>\n",
        "      <td> \u91d1\u878d\u754c\u8d22\u7ecf\u6d88\u606f\u6c47\u603b\u6d88\u606f\u6c47\u603b\u5217\u8868</td>\n",
        "      <td>     jrjxxhz</td>\n",
        "      <td>   \u6d88\u606f\u6c47\u603b</td>\n",
        "      <td> 0</td>\n",
        "    </tr>\n",
        "    <tr>\n",
        "      <th>17</th>\n",
        "      <td>   \u91d1\u878d\u754c\u8d22\u7ecf\u4eba\u7269\u91cd\u8981\u4eba\u7269\u5217\u8868</td>\n",
        "      <td>     jrjzyrw</td>\n",
        "      <td>   \u91cd\u8981\u4eba\u7269</td>\n",
        "      <td> 1</td>\n",
        "    </tr>\n",
        "    <tr>\n",
        "      <th>16</th>\n",
        "      <td> \u51e4\u51f0\u7f51\u65b0\u95fb\u793e\u4f1a\u4e00\u822c\u793e\u4f1a\u65b0\u95fb\u5217\u8868</td>\n",
        "      <td> ifengybshxw</td>\n",
        "      <td> \u4e00\u822c\u793e\u4f1a\u65b0\u95fb</td>\n",
        "      <td> 2</td>\n",
        "    </tr>\n",
        "    <tr>\n",
        "      <th>12</th>\n",
        "      <td> \u51e4\u51f0\u7f51\u65b0\u95fb\u519b\u4e8b\u65b0\u95fb\u53f0\u6d77\u98ce\u4e91\u5217\u8868</td>\n",
        "      <td>   ifengthfy</td>\n",
        "      <td>   \u519b\u4e8b\u65b0\u95fb</td>\n",
        "      <td> 3</td>\n",
        "    </tr>\n",
        "    <tr>\n",
        "      <th>10</th>\n",
        "      <td> \u91d1\u878d\u754c\u8bc4\u8bba\u5b9e\u4f53\u7ecf\u6d4e\u4ea7\u4e1a\u65b0\u95fb\u5217\u8868</td>\n",
        "      <td>     jrjcyxw</td>\n",
        "      <td>   \u4ea7\u4e1a\u65b0\u95fb</td>\n",
        "      <td> 4</td>\n",
        "    </tr>\n",
        "  </tbody>\n",
        "</table>\n",
        "<p>5 rows \u00d7 4 columns</p>\n",
        "</div>"
       ],
       "metadata": {},
       "output_type": "pyout",
       "prompt_number": 272,
       "text": [
        "             source    shortName category  index\n",
        "18  \u91d1\u878d\u754c\u8d22\u7ecf\u6d88\u606f\u6c47\u603b\u6d88\u606f\u6c47\u603b\u5217\u8868      jrjxxhz     \u6d88\u606f\u6c47\u603b      0\n",
        "17    \u91d1\u878d\u754c\u8d22\u7ecf\u4eba\u7269\u91cd\u8981\u4eba\u7269\u5217\u8868      jrjzyrw     \u91cd\u8981\u4eba\u7269      1\n",
        "16  \u51e4\u51f0\u7f51\u65b0\u95fb\u793e\u4f1a\u4e00\u822c\u793e\u4f1a\u65b0\u95fb\u5217\u8868  ifengybshxw   \u4e00\u822c\u793e\u4f1a\u65b0\u95fb      2\n",
        "12  \u51e4\u51f0\u7f51\u65b0\u95fb\u519b\u4e8b\u65b0\u95fb\u53f0\u6d77\u98ce\u4e91\u5217\u8868    ifengthfy     \u519b\u4e8b\u65b0\u95fb      3\n",
        "10  \u91d1\u878d\u754c\u8bc4\u8bba\u5b9e\u4f53\u7ecf\u6d4e\u4ea7\u4e1a\u65b0\u95fb\u5217\u8868      jrjcyxw     \u4ea7\u4e1a\u65b0\u95fb      4\n",
        "\n",
        "[5 rows x 4 columns]"
       ]
      }
     ],
     "prompt_number": 272
    },
    {
     "cell_type": "code",
     "collapsed": false,
     "input": [
      "??pd.DataFrame.set_index"
     ],
     "language": "python",
     "metadata": {},
     "outputs": [],
     "prompt_number": 279
    },
    {
     "cell_type": "code",
     "collapsed": false,
     "input": [
      "dataMapping.sort('index').set_index('index',)."
     ],
     "language": "python",
     "metadata": {},
     "outputs": [
      {
       "html": [
        "<div style=\"max-height:1000px;max-width:1500px;overflow:auto;\">\n",
        "<table border=\"1\" class=\"dataframe\">\n",
        "  <thead>\n",
        "    <tr style=\"text-align: right;\">\n",
        "      <th></th>\n",
        "      <th>source</th>\n",
        "      <th>shortName</th>\n",
        "      <th>category</th>\n",
        "    </tr>\n",
        "    <tr>\n",
        "      <th>index</th>\n",
        "      <th></th>\n",
        "      <th></th>\n",
        "      <th></th>\n",
        "    </tr>\n",
        "  </thead>\n",
        "  <tbody>\n",
        "    <tr>\n",
        "      <th>0 </th>\n",
        "      <td>   \u91d1\u878d\u754c\u8d22\u7ecf\u6d88\u606f\u6c47\u603b\u6d88\u606f\u6c47\u603b\u5217\u8868</td>\n",
        "      <td>     jrjxxhz</td>\n",
        "      <td>   \u6d88\u606f\u6c47\u603b</td>\n",
        "    </tr>\n",
        "    <tr>\n",
        "      <th>1 </th>\n",
        "      <td>     \u91d1\u878d\u754c\u8d22\u7ecf\u4eba\u7269\u91cd\u8981\u4eba\u7269\u5217\u8868</td>\n",
        "      <td>     jrjzyrw</td>\n",
        "      <td>   \u91cd\u8981\u4eba\u7269</td>\n",
        "    </tr>\n",
        "    <tr>\n",
        "      <th>2 </th>\n",
        "      <td>   \u51e4\u51f0\u7f51\u65b0\u95fb\u793e\u4f1a\u4e00\u822c\u793e\u4f1a\u65b0\u95fb\u5217\u8868</td>\n",
        "      <td> ifengybshxw</td>\n",
        "      <td> \u4e00\u822c\u793e\u4f1a\u65b0\u95fb</td>\n",
        "    </tr>\n",
        "    <tr>\n",
        "      <th>3 </th>\n",
        "      <td>   \u51e4\u51f0\u7f51\u65b0\u95fb\u519b\u4e8b\u65b0\u95fb\u53f0\u6d77\u98ce\u4e91\u5217\u8868</td>\n",
        "      <td>   ifengthfy</td>\n",
        "      <td>   \u519b\u4e8b\u65b0\u95fb</td>\n",
        "    </tr>\n",
        "    <tr>\n",
        "      <th>4 </th>\n",
        "      <td>   \u91d1\u878d\u754c\u8bc4\u8bba\u5b9e\u4f53\u7ecf\u6d4e\u4ea7\u4e1a\u65b0\u95fb\u5217\u8868</td>\n",
        "      <td>     jrjcyxw</td>\n",
        "      <td>   \u4ea7\u4e1a\u65b0\u95fb</td>\n",
        "    </tr>\n",
        "    <tr>\n",
        "      <th>5 </th>\n",
        "      <td>   \u51e4\u51f0\u7f51\u65b0\u95fb\u519b\u4e8b\u65b0\u95fb\u4e2d\u56fd\u519b\u60c5\u5217\u8868</td>\n",
        "      <td>   ifengzgjq</td>\n",
        "      <td>   \u519b\u4e8b\u65b0\u95fb</td>\n",
        "    </tr>\n",
        "    <tr>\n",
        "      <th>6 </th>\n",
        "      <td>   \u51e4\u51f0\u7f51\u65b0\u95fb\u519b\u4e8b\u65b0\u95fb\u9632\u96fe\u89c2\u5bdf\u5217\u8868</td>\n",
        "      <td>   ifengfwgc</td>\n",
        "      <td>   \u519b\u4e8b\u65b0\u95fb</td>\n",
        "    </tr>\n",
        "    <tr>\n",
        "      <th>7 </th>\n",
        "      <td>   \u51e4\u51f0\u7f51\u65b0\u95fb\u519b\u4e8b\u65b0\u95fb\u73af\u7403\u519b\u60c5\u5217\u8868</td>\n",
        "      <td>   ifenghqjq</td>\n",
        "      <td>   \u519b\u4e8b\u65b0\u95fb</td>\n",
        "    </tr>\n",
        "    <tr>\n",
        "      <th>8 </th>\n",
        "      <td>   \u51e4\u51f0\u7f51\u65b0\u95fb\u519b\u4e8b\u65b0\u95fb\u90bb\u90a6\u626b\u63cf\u5217\u8868</td>\n",
        "      <td>   ifenglbsm</td>\n",
        "      <td>   \u519b\u4e8b\u65b0\u95fb</td>\n",
        "    </tr>\n",
        "    <tr>\n",
        "      <th>9 </th>\n",
        "      <td> \u51e4\u51f0\u7f51\u8d22\u7ecf\u80a1\u5e02\u80a1\u7968\u70b9\u8bc4\u4e2a\u80a1\u7814\u62a5\u5217\u8868</td>\n",
        "      <td> ifenggpdpgg</td>\n",
        "      <td> \u80a1\u7968\u70b9\u8bc4\u7814\u62a5</td>\n",
        "    </tr>\n",
        "    <tr>\n",
        "      <th>10</th>\n",
        "      <td> \u51e4\u51f0\u7f51\u8d22\u7ecf\u80a1\u5e02\u80a1\u7968\u70b9\u8bc4\u884c\u4e1a\u7814\u62a5\u5217\u8868</td>\n",
        "      <td> ifenggpdphy</td>\n",
        "      <td> \u80a1\u7968\u70b9\u8bc4\u7814\u62a5</td>\n",
        "    </tr>\n",
        "    <tr>\n",
        "      <th>11</th>\n",
        "      <td>   \u51e4\u51f0\u7f51\u8d22\u7ecf\u80a1\u5e02\u80a1\u7968\u677f\u5757\u4e3b\u9898\u5217\u8868</td>\n",
        "      <td> ifenggpbkzt</td>\n",
        "      <td> \u80a1\u7968\u677f\u5757\u4e3b\u9898</td>\n",
        "    </tr>\n",
        "    <tr>\n",
        "      <th>12</th>\n",
        "      <td>   \u51e4\u51f0\u7f51\u8d22\u7ecf\u80a1\u5e02\u80a1\u7968\u5e02\u573a\u603b\u7ed3\u5217\u8868</td>\n",
        "      <td> ifenggpsczj</td>\n",
        "      <td> \u80a1\u7968\u5e02\u573a\u603b\u7ed3</td>\n",
        "    </tr>\n",
        "    <tr>\n",
        "      <th>13</th>\n",
        "      <td>     \u51e4\u51f0\u7f51\u8d22\u7ecf\u80a1\u5e02\u516c\u53f8\u65b0\u95fb\u5217\u8868</td>\n",
        "      <td>   ifenggsxw</td>\n",
        "      <td>   \u516c\u53f8\u65b0\u95fb</td>\n",
        "    </tr>\n",
        "    <tr>\n",
        "      <th>14</th>\n",
        "      <td>   \u51e4\u51f0\u7f51\u8d22\u7ecf\u80a1\u5e02\u80a1\u7968\u5e02\u573a\u8981\u95fb\u5217\u8868</td>\n",
        "      <td> ifenggpscyw</td>\n",
        "      <td> \u80a1\u7968\u5e02\u573a\u8981\u95fb</td>\n",
        "    </tr>\n",
        "    <tr>\n",
        "      <th>15</th>\n",
        "      <td>     \u51e4\u51f0\u7f51\u8d22\u7ecf\u5b8f\u89c2\u5b8f\u89c2\u6570\u636e\u5217\u8868</td>\n",
        "      <td>   ifenghgsj</td>\n",
        "      <td>   \u5b8f\u89c2\u6570\u636e</td>\n",
        "    </tr>\n",
        "    <tr>\n",
        "      <th>16</th>\n",
        "      <td>     \u51e4\u51f0\u7f51\u8d22\u7ecf\u5b8f\u89c2\u4e2d\u56fd\u7ecf\u6d4e\u5217\u8868</td>\n",
        "      <td>   ifengzgjj</td>\n",
        "      <td>   \u4e2d\u56fd\u7ecf\u6d4e</td>\n",
        "    </tr>\n",
        "    <tr>\n",
        "      <th>17</th>\n",
        "      <td>       \u51e4\u51f0\u7f51\u8d22\u7ecf\u5b8f\u89c2\u653f\u7b56\u5217\u8868</td>\n",
        "      <td>   ifenghgzc</td>\n",
        "      <td>     \u653f\u7b56</td>\n",
        "    </tr>\n",
        "    <tr>\n",
        "      <th>18</th>\n",
        "      <td>     \u51e4\u51f0\u7f51\u8d22\u7ecf\u5b8f\u89c2\u5168\u7403\u7ecf\u6d4e\u5217\u8868</td>\n",
        "      <td>   ifengqqjj</td>\n",
        "      <td>   \u5168\u7403\u7ecf\u6d4e</td>\n",
        "    </tr>\n",
        "  </tbody>\n",
        "</table>\n",
        "<p>19 rows \u00d7 3 columns</p>\n",
        "</div>"
       ],
       "metadata": {},
       "output_type": "pyout",
       "prompt_number": 276,
       "text": [
        "                  source    shortName category\n",
        "index                                         \n",
        "0        \u91d1\u878d\u754c\u8d22\u7ecf\u6d88\u606f\u6c47\u603b\u6d88\u606f\u6c47\u603b\u5217\u8868      jrjxxhz     \u6d88\u606f\u6c47\u603b\n",
        "1          \u91d1\u878d\u754c\u8d22\u7ecf\u4eba\u7269\u91cd\u8981\u4eba\u7269\u5217\u8868      jrjzyrw     \u91cd\u8981\u4eba\u7269\n",
        "2        \u51e4\u51f0\u7f51\u65b0\u95fb\u793e\u4f1a\u4e00\u822c\u793e\u4f1a\u65b0\u95fb\u5217\u8868  ifengybshxw   \u4e00\u822c\u793e\u4f1a\u65b0\u95fb\n",
        "3        \u51e4\u51f0\u7f51\u65b0\u95fb\u519b\u4e8b\u65b0\u95fb\u53f0\u6d77\u98ce\u4e91\u5217\u8868    ifengthfy     \u519b\u4e8b\u65b0\u95fb\n",
        "4        \u91d1\u878d\u754c\u8bc4\u8bba\u5b9e\u4f53\u7ecf\u6d4e\u4ea7\u4e1a\u65b0\u95fb\u5217\u8868      jrjcyxw     \u4ea7\u4e1a\u65b0\u95fb\n",
        "5        \u51e4\u51f0\u7f51\u65b0\u95fb\u519b\u4e8b\u65b0\u95fb\u4e2d\u56fd\u519b\u60c5\u5217\u8868    ifengzgjq     \u519b\u4e8b\u65b0\u95fb\n",
        "6        \u51e4\u51f0\u7f51\u65b0\u95fb\u519b\u4e8b\u65b0\u95fb\u9632\u96fe\u89c2\u5bdf\u5217\u8868    ifengfwgc     \u519b\u4e8b\u65b0\u95fb\n",
        "7        \u51e4\u51f0\u7f51\u65b0\u95fb\u519b\u4e8b\u65b0\u95fb\u73af\u7403\u519b\u60c5\u5217\u8868    ifenghqjq     \u519b\u4e8b\u65b0\u95fb\n",
        "8        \u51e4\u51f0\u7f51\u65b0\u95fb\u519b\u4e8b\u65b0\u95fb\u90bb\u90a6\u626b\u63cf\u5217\u8868    ifenglbsm     \u519b\u4e8b\u65b0\u95fb\n",
        "9      \u51e4\u51f0\u7f51\u8d22\u7ecf\u80a1\u5e02\u80a1\u7968\u70b9\u8bc4\u4e2a\u80a1\u7814\u62a5\u5217\u8868  ifenggpdpgg   \u80a1\u7968\u70b9\u8bc4\u7814\u62a5\n",
        "10     \u51e4\u51f0\u7f51\u8d22\u7ecf\u80a1\u5e02\u80a1\u7968\u70b9\u8bc4\u884c\u4e1a\u7814\u62a5\u5217\u8868  ifenggpdphy   \u80a1\u7968\u70b9\u8bc4\u7814\u62a5\n",
        "11       \u51e4\u51f0\u7f51\u8d22\u7ecf\u80a1\u5e02\u80a1\u7968\u677f\u5757\u4e3b\u9898\u5217\u8868  ifenggpbkzt   \u80a1\u7968\u677f\u5757\u4e3b\u9898\n",
        "12       \u51e4\u51f0\u7f51\u8d22\u7ecf\u80a1\u5e02\u80a1\u7968\u5e02\u573a\u603b\u7ed3\u5217\u8868  ifenggpsczj   \u80a1\u7968\u5e02\u573a\u603b\u7ed3\n",
        "13         \u51e4\u51f0\u7f51\u8d22\u7ecf\u80a1\u5e02\u516c\u53f8\u65b0\u95fb\u5217\u8868    ifenggsxw     \u516c\u53f8\u65b0\u95fb\n",
        "14       \u51e4\u51f0\u7f51\u8d22\u7ecf\u80a1\u5e02\u80a1\u7968\u5e02\u573a\u8981\u95fb\u5217\u8868  ifenggpscyw   \u80a1\u7968\u5e02\u573a\u8981\u95fb\n",
        "15         \u51e4\u51f0\u7f51\u8d22\u7ecf\u5b8f\u89c2\u5b8f\u89c2\u6570\u636e\u5217\u8868    ifenghgsj     \u5b8f\u89c2\u6570\u636e\n",
        "16         \u51e4\u51f0\u7f51\u8d22\u7ecf\u5b8f\u89c2\u4e2d\u56fd\u7ecf\u6d4e\u5217\u8868    ifengzgjj     \u4e2d\u56fd\u7ecf\u6d4e\n",
        "17           \u51e4\u51f0\u7f51\u8d22\u7ecf\u5b8f\u89c2\u653f\u7b56\u5217\u8868    ifenghgzc       \u653f\u7b56\n",
        "18         \u51e4\u51f0\u7f51\u8d22\u7ecf\u5b8f\u89c2\u5168\u7403\u7ecf\u6d4e\u5217\u8868    ifengqqjj     \u5168\u7403\u7ecf\u6d4e\n",
        "\n",
        "[19 rows x 3 columns]"
       ]
      }
     ],
     "prompt_number": 276
    },
    {
     "cell_type": "code",
     "collapsed": false,
     "input": [
      "dataToShow.plot(kind= 'bar')"
     ],
     "language": "python",
     "metadata": {},
     "outputs": [
      {
       "metadata": {},
       "output_type": "pyout",
       "prompt_number": 191,
       "text": [
        "<matplotlib.axes.AxesSubplot at 0xdcb5f90>"
       ]
      },
      {
       "metadata": {},
       "output_type": "display_data",
       "png": "[encoded data removed]",
       "text": [
        "<matplotlib.figure.Figure at 0xdfd7490>"
       ]
      }
     ],
     "prompt_number": 191
    },
    {
     "cell_type": "code",
     "collapsed": false,
     "input": [
      "#plot result\n",
      "fig,(ax1,ax2) = plt.subplots(121)\n",
      "ax1.bar(pd.Series(precision),kind='bar')\n",
      "print 'everage precision: ' + str(sum(precision)/19.0)\n",
      "ax2.bar(pd.Series(recall),kind='bar')\n",
      "print 'everage recall: ' + str(sum(recall)/19.0)"
     ],
     "language": "python",
     "metadata": {},
     "outputs": [
      {
       "ename": "ValueError",
       "evalue": "too many values to unpack",
       "output_type": "pyerr",
       "traceback": [
        "\u001b[1;31m---------------------------------------------------------------------------\u001b[0m\n\u001b[1;31mValueError\u001b[0m                                Traceback (most recent call last)",
        "\u001b[1;32m<ipython-input-188-f5db6351c40a>\u001b[0m in \u001b[0;36m<module>\u001b[1;34m()\u001b[0m\n\u001b[0;32m      1\u001b[0m \u001b[1;31m#plot result\u001b[0m\u001b[1;33m\u001b[0m\u001b[1;33m\u001b[0m\u001b[0m\n\u001b[1;32m----> 2\u001b[1;33m \u001b[0mfig\u001b[0m\u001b[1;33m,\u001b[0m\u001b[1;33m(\u001b[0m\u001b[0max1\u001b[0m\u001b[1;33m,\u001b[0m\u001b[0max2\u001b[0m\u001b[1;33m)\u001b[0m \u001b[1;33m=\u001b[0m \u001b[0mplt\u001b[0m\u001b[1;33m.\u001b[0m\u001b[0msubplots\u001b[0m\u001b[1;33m(\u001b[0m\u001b[1;36m121\u001b[0m\u001b[1;33m)\u001b[0m\u001b[1;33m\u001b[0m\u001b[0m\n\u001b[0m\u001b[0;32m      3\u001b[0m \u001b[0max1\u001b[0m\u001b[1;33m.\u001b[0m\u001b[0mbar\u001b[0m\u001b[1;33m(\u001b[0m\u001b[0mpd\u001b[0m\u001b[1;33m.\u001b[0m\u001b[0mSeries\u001b[0m\u001b[1;33m(\u001b[0m\u001b[0mprecision\u001b[0m\u001b[1;33m)\u001b[0m\u001b[1;33m,\u001b[0m\u001b[0mkind\u001b[0m\u001b[1;33m=\u001b[0m\u001b[1;34m'bar'\u001b[0m\u001b[1;33m)\u001b[0m\u001b[1;33m\u001b[0m\u001b[0m\n\u001b[0;32m      4\u001b[0m \u001b[1;32mprint\u001b[0m \u001b[1;34m'everage precision: '\u001b[0m \u001b[1;33m+\u001b[0m \u001b[0mstr\u001b[0m\u001b[1;33m(\u001b[0m\u001b[0msum\u001b[0m\u001b[1;33m(\u001b[0m\u001b[0mprecision\u001b[0m\u001b[1;33m)\u001b[0m\u001b[1;33m/\u001b[0m\u001b[1;36m19.0\u001b[0m\u001b[1;33m)\u001b[0m\u001b[1;33m\u001b[0m\u001b[0m\n\u001b[0;32m      5\u001b[0m \u001b[0max2\u001b[0m\u001b[1;33m.\u001b[0m\u001b[0mbar\u001b[0m\u001b[1;33m(\u001b[0m\u001b[0mpd\u001b[0m\u001b[1;33m.\u001b[0m\u001b[0mSeries\u001b[0m\u001b[1;33m(\u001b[0m\u001b[0mrecall\u001b[0m\u001b[1;33m)\u001b[0m\u001b[1;33m,\u001b[0m\u001b[0mkind\u001b[0m\u001b[1;33m=\u001b[0m\u001b[1;34m'bar'\u001b[0m\u001b[1;33m)\u001b[0m\u001b[1;33m\u001b[0m\u001b[0m\n",
        "\u001b[1;31mValueError\u001b[0m: too many values to unpack"
       ]
      },
      {
       "metadata": {},
       "output_type": "display_data",
       "png": "[encoded data removed]",
       "text": [
        "<matplotlib.figure.Figure at 0x701fad0>"
       ]
      }
     ],
     "prompt_number": 188
    },
    {
     "cell_type": "code",
     "collapsed": false,
     "input": [],
     "language": "python",
     "metadata": {},
     "outputs": [
      {
       "output_type": "stream",
       "stream": "stdout",
       "text": [
        "everage precision: 0.682696176349\n"
       ]
      },
      {
       "metadata": {},
       "output_type": "display_data",
       "png": "[encoded data removed]",
       "text": [
        "<matplotlib.figure.Figure at 0x6bee650>"
       ]
      }
     ],
     "prompt_number": 176
    },
    {
     "cell_type": "code",
     "collapsed": false,
     "input": [
      "res[it.next()[0]]"
     ],
     "language": "python",
     "metadata": {},
     "outputs": [
      {
       "metadata": {},
       "output_type": "pyout",
       "prompt_number": 131,
       "text": [
        "array([[ 0,  4,  0, ...,  0,  0,  0],\n",
        "       [ 0,  5,  0, ...,  0,  0,  0],\n",
        "       [ 0,  8,  0, ...,  0,  0,  0],\n",
        "       ..., \n",
        "       [ 0,  0,  0, ...,  0,  0,  0],\n",
        "       [15,  3,  0, ...,  0,  0,  0],\n",
        "       [ 8,  1,  0, ...,  0,  0,  0]])"
       ]
      }
     ],
     "prompt_number": 131
    },
    {
     "cell_type": "code",
     "collapsed": false,
     "input": [
      "clf.fit(res, np.array(target))"
     ],
     "language": "python",
     "metadata": {},
     "outputs": [
      {
       "metadata": {},
       "output_type": "pyout",
       "prompt_number": 36,
       "text": [
        "SVC(C=1, cache_size=200, class_weight=None, coef0=0.0, degree=3, gamma=0.0,\n",
        "  kernel='linear', max_iter=-1, probability=False, random_state=None,\n",
        "  shrinking=True, tol=0.001, verbose=False)"
       ]
      }
     ],
     "prompt_number": 36
    },
    {
     "cell_type": "code",
     "collapsed": false,
     "input": [
      "predict_res = clf.predict(res)"
     ],
     "language": "python",
     "metadata": {},
     "outputs": [],
     "prompt_number": 75
    },
    {
     "cell_type": "code",
     "collapsed": false,
     "input": [
      "precision_recall_fscore_support(np.array(target), clf.predict(res))"
     ],
     "language": "python",
     "metadata": {},
     "outputs": [
      {
       "metadata": {},
       "output_type": "pyout",
       "prompt_number": 74,
       "text": [
        "(array([ 1.        ,  1.        ,  1.        ,  0.82644628,  1.        ,\n",
        "         1.        ,  1.        ,  1.        ,  1.        ,  1.        ,\n",
        "         1.        ,  1.        ,  1.        ,  1.        ,  1.        ,\n",
        "         1.        ,  1.        ,  1.        ,  1.        ]),\n",
        " array([ 0.81,  1.  ,  0.99,  1.  ,  1.  ,  0.99,  1.  ,  1.  ,  1.  ,\n",
        "         1.  ,  1.  ,  1.  ,  1.  ,  1.  ,  1.  ,  1.  ,  1.  ,  1.  ,  1.  ]),\n",
        " array([ 0.89502762,  1.        ,  0.99497487,  0.90497738,  1.        ,\n",
        "         0.99497487,  1.        ,  1.        ,  1.        ,  1.        ,\n",
        "         1.        ,  1.        ,  1.        ,  1.        ,  1.        ,\n",
        "         1.        ,  1.        ,  1.        ,  1.        ]),\n",
        " array([100, 100, 100, 100, 100, 100, 100, 100, 100, 100, 100, 100, 100,\n",
        "        100, 100, 100, 100, 100, 100]))"
       ]
      }
     ],
     "prompt_number": 74
    },
    {
     "cell_type": "code",
     "collapsed": false,
     "input": [
      "clf.classes_"
     ],
     "language": "python",
     "metadata": {},
     "outputs": [
      {
       "metadata": {},
       "output_type": "pyout",
       "prompt_number": 66,
       "text": [
        "array([ 0,  1,  2,  3,  4,  5,  6,  7,  8,  9, 10, 11, 12, 13, 14, 15, 16,\n",
        "       17, 18])"
       ]
      }
     ],
     "prompt_number": 66
    },
    {
     "cell_type": "code",
     "collapsed": false,
     "input": [
      "clf.score(1)"
     ],
     "language": "python",
     "metadata": {},
     "outputs": [
      {
       "ename": "TypeError",
       "evalue": "score() takes exactly 3 arguments (2 given)",
       "output_type": "pyerr",
       "traceback": [
        "\u001b[1;31m---------------------------------------------------------------------------\u001b[0m\n\u001b[1;31mTypeError\u001b[0m                                 Traceback (most recent call last)",
        "\u001b[1;32m<ipython-input-68-2491ed2f5331>\u001b[0m in \u001b[0;36m<module>\u001b[1;34m()\u001b[0m\n\u001b[1;32m----> 1\u001b[1;33m \u001b[0mclf\u001b[0m\u001b[1;33m.\u001b[0m\u001b[0mscore\u001b[0m\u001b[1;33m(\u001b[0m\u001b[1;36m1\u001b[0m\u001b[1;33m)\u001b[0m\u001b[1;33m\u001b[0m\u001b[0m\n\u001b[0m",
        "\u001b[1;31mTypeError\u001b[0m: score() takes exactly 3 arguments (2 given)"
       ]
      }
     ],
     "prompt_number": 68
    },
    {
     "cell_type": "code",
     "collapsed": false,
     "input": [
      "svr = svm.SVC()\n",
      "parameters = {'kernel':('linear',), 'C':[1,2]}\n",
      "clf = grid_search.GridSearchCV(svr, parameters)\n",
      "clf.fit(res, target)"
     ],
     "language": "python",
     "metadata": {},
     "outputs": [
      {
       "metadata": {},
       "output_type": "pyout",
       "prompt_number": 86,
       "text": [
        "GridSearchCV(cv=None,\n",
        "       estimator=SVC(C=1.0, cache_size=200, class_weight=None, coef0=0.0, degree=3, gamma=0.0,\n",
        "  kernel='rbf', max_iter=-1, probability=False, random_state=None,\n",
        "  shrinking=True, tol=0.001, verbose=False),\n",
        "       fit_params={}, iid=True, loss_func=None, n_jobs=1,\n",
        "       param_grid={'kernel': ('linear',), 'C': [1, 2]},\n",
        "       pre_dispatch='2*n_jobs', refit=True, score_func=None, scoring=None,\n",
        "       verbose=0)"
       ]
      }
     ],
     "prompt_number": 86
    },
    {
     "cell_type": "code",
     "collapsed": false,
     "input": [
      "clf."
     ],
     "language": "python",
     "metadata": {},
     "outputs": [
      {
       "metadata": {},
       "output_type": "pyout",
       "prompt_number": 89,
       "text": [
        "{'C': 1, 'kernel': 'linear'}"
       ]
      }
     ],
     "prompt_number": 89
    },
    {
     "cell_type": "code",
     "collapsed": false,
     "input": [
      "svmclf = svm.OneClassSVM(nu=0.2, kernel=\"linear\")\n",
      "svmclf.fit(res[0:41])"
     ],
     "language": "python",
     "metadata": {},
     "outputs": [
      {
       "metadata": {},
       "output_type": "pyout",
       "prompt_number": 142,
       "text": [
        "OneClassSVM(cache_size=200, coef0=0.0, degree=3, gamma=0.0, kernel='linear',\n",
        "      max_iter=-1, nu=0.2, random_state=None, shrinking=True, tol=0.001,\n",
        "      verbose=False)"
       ]
      }
     ],
     "prompt_number": 142
    },
    {
     "cell_type": "code",
     "collapsed": false,
     "input": [
      "countVecList[0][2].shape"
     ],
     "language": "python",
     "metadata": {},
     "outputs": [
      {
       "metadata": {},
       "output_type": "pyout",
       "prompt_number": 30,
       "text": [
        "(46, 5659)"
       ]
      }
     ],
     "prompt_number": 30
    },
    {
     "cell_type": "code",
     "collapsed": false,
     "input": [
      "rr1 = svmclf.predict(res[0:41])"
     ],
     "language": "python",
     "metadata": {},
     "outputs": [],
     "prompt_number": 143
    },
    {
     "cell_type": "code",
     "collapsed": false,
     "input": [
      "rr2 = svmclf.predict(res[41:82])"
     ],
     "language": "python",
     "metadata": {},
     "outputs": [],
     "prompt_number": 144
    },
    {
     "cell_type": "code",
     "collapsed": false,
     "input": [
      "sum(rr1==-1)"
     ],
     "language": "python",
     "metadata": {},
     "outputs": [
      {
       "metadata": {},
       "output_type": "pyout",
       "prompt_number": 124,
       "text": [
        "7"
       ]
      }
     ],
     "prompt_number": 124
    },
    {
     "cell_type": "code",
     "collapsed": false,
     "input": [
      "sum(rr2==-1)-sum(rr1==-1)"
     ],
     "language": "python",
     "metadata": {},
     "outputs": [
      {
       "metadata": {},
       "output_type": "pyout",
       "prompt_number": 145,
       "text": [
        "10"
       ]
      }
     ],
     "prompt_number": 145
    },
    {
     "cell_type": "code",
     "collapsed": false,
     "input": [
      "svmclf = svm.OneClassSVM()"
     ],
     "language": "python",
     "metadata": {},
     "outputs": [
      {
       "metadata": {},
       "output_type": "pyout",
       "prompt_number": 5,
       "text": [
        "OneClassSVM(cache_size=200, coef0=0.0, degree=3, gamma=0.0, kernel='rbf',\n",
        "      max_iter=-1, nu=0.5, random_state=None, shrinking=True, tol=0.001,\n",
        "      verbose=False)"
       ]
      }
     ],
     "prompt_number": 5
    },
    {
     "cell_type": "code",
     "collapsed": false,
     "input": [
      "gammaList = np.array(range(0,100,1))/100.0\n",
      "nuList = np.array(range(1,3,1))/10.0"
     ],
     "language": "python",
     "metadata": {},
     "outputs": [],
     "prompt_number": 6
    },
    {
     "cell_type": "code",
     "collapsed": false,
     "input": [
      "repeat(1,res.shape[0])"
     ],
     "language": "python",
     "metadata": {},
     "outputs": [
      {
       "metadata": {},
       "output_type": "pyout",
       "prompt_number": 7,
       "text": [
        "array([1, 1, 1, ..., 1, 1, 1])"
       ]
      }
     ],
     "prompt_number": 7
    },
    {
     "cell_type": "code",
     "collapsed": false,
     "input": [
      "nuList"
     ],
     "language": "python",
     "metadata": {},
     "outputs": [
      {
       "metadata": {},
       "output_type": "pyout",
       "prompt_number": 8,
       "text": [
        "array([ 0.1,  0.2])"
       ]
      }
     ],
     "prompt_number": 8
    },
    {
     "cell_type": "code",
     "collapsed": false,
     "input": [
      "res.shape"
     ],
     "language": "python",
     "metadata": {},
     "outputs": [
      {
       "metadata": {},
       "output_type": "pyout",
       "prompt_number": 86,
       "text": [
        "(1120, 50849)"
       ]
      }
     ],
     "prompt_number": 86
    },
    {
     "cell_type": "code",
     "collapsed": false,
     "input": [
      "parameters = {'kernel':('linear',), 'nu' : nuList}\n",
      "clf = grid_search.GridSearchCV(svmclf, parameters, scoring='accuracy', n_jobs =2)\n",
      "clf.fit(res, repeat(1,res.shape[0]))"
     ],
     "language": "python",
     "metadata": {},
     "outputs": [
      {
       "metadata": {},
       "output_type": "pyout",
       "prompt_number": 9,
       "text": [
        "GridSearchCV(cv=None,\n",
        "       estimator=OneClassSVM(cache_size=200, coef0=0.0, degree=3, gamma=0.0, kernel='rbf',\n",
        "      max_iter=-1, nu=0.5, random_state=None, shrinking=True, tol=0.001,\n",
        "      verbose=False),\n",
        "       fit_params={}, iid=True, loss_func=None, n_jobs=2,\n",
        "       param_grid={'kernel': ('linear',), 'nu': array([ 0.1,  0.2])},\n",
        "       pre_dispatch='2*n_jobs', refit=True, score_func=None,\n",
        "       scoring='accuracy', verbose=0)"
       ]
      }
     ],
     "prompt_number": 9
    },
    {
     "cell_type": "code",
     "collapsed": false,
     "input": [
      "res1 = res"
     ],
     "language": "python",
     "metadata": {},
     "outputs": [],
     "prompt_number": 23
    },
    {
     "cell_type": "code",
     "collapsed": false,
     "input": [
      "clf."
     ],
     "language": "python",
     "metadata": {},
     "outputs": [],
     "prompt_number": 25
    },
    {
     "cell_type": "code",
     "collapsed": false,
     "input": [
      "y_pred_train = cntContentRes.predict(res)"
     ],
     "language": "python",
     "metadata": {},
     "outputs": [],
     "prompt_number": 36
    },
    {
     "cell_type": "code",
     "collapsed": false,
     "input": [
      "cv1."
     ],
     "language": "python",
     "metadata": {},
     "outputs": [
      {
       "metadata": {},
       "output_type": "pyout",
       "prompt_number": 47,
       "text": [
        "CountVectorizer(analyzer=<function my_tokenizer at 0x3920398>, binary=False,\n",
        "        charset=None, charset_error=None, decode_error=u'strict',\n",
        "        dtype=<type 'numpy.int64'>, encoding=u'utf-8', input=u'content',\n",
        "        lowercase=True, max_df=1.0, max_features=None, min_df=1,\n",
        "        ngram_range=(1, 1), preprocessor=None, stop_words=None,\n",
        "        strip_accents=None, token_pattern=u'(?u)\\\\b\\\\w\\\\w+\\\\b',\n",
        "        tokenizer=None, vocabulary=None)"
       ]
      }
     ],
     "prompt_number": 47
    },
    {
     "cell_type": "code",
     "collapsed": false,
     "input": [
      "len(svmclf.coef_[0])"
     ],
     "language": "python",
     "metadata": {},
     "outputs": [
      {
       "metadata": {},
       "output_type": "pyout",
       "prompt_number": 60,
       "text": [
        "50849"
       ]
      }
     ],
     "prompt_number": 60
    },
    {
     "cell_type": "code",
     "collapsed": false,
     "input": [
      "coef = pd.Series(clf.best_estimator_.coef_[0])"
     ],
     "language": "python",
     "metadata": {},
     "outputs": [],
     "prompt_number": 105
    },
    {
     "cell_type": "code",
     "collapsed": false,
     "input": [
      "coef"
     ],
     "language": "python",
     "metadata": {},
     "outputs": [
      {
       "metadata": {},
       "output_type": "pyout",
       "prompt_number": 108,
       "text": [
        "36326    0.176492\n",
        "35370    0.176492\n",
        "33778    0.176492\n",
        "32592    0.176492\n",
        "30858    0.171241\n",
        "32851    0.136759\n",
        "30638    0.085040\n",
        "30646    0.084898\n",
        "3833     0.044421\n",
        "26163    0.032873\n",
        "14232    0.026976\n",
        "7668     0.024339\n",
        "5818     0.022483\n",
        "25590    0.021273\n",
        "17546    0.019735\n",
        "...\n",
        "32949   -0.062954\n",
        "30436   -0.066811\n",
        "30437   -0.066811\n",
        "32078   -0.068686\n",
        "36845   -0.068686\n",
        "31910   -0.068686\n",
        "597     -0.072037\n",
        "30422   -0.079187\n",
        "19119   -0.099481\n",
        "9867    -0.107170\n",
        "35416   -0.115470\n",
        "1       -0.119808\n",
        "30433   -0.137372\n",
        "30434   -0.145112\n",
        "33000   -0.206058\n",
        "Length: 36869, dtype: float64"
       ]
      }
     ],
     "prompt_number": 108
    },
    {
     "cell_type": "code",
     "collapsed": false,
     "input": [
      "coef.sort(ascending = False)"
     ],
     "language": "python",
     "metadata": {},
     "outputs": [],
     "prompt_number": 107
    },
    {
     "cell_type": "code",
     "collapsed": false,
     "input": [
      "feature = np.append(cv1.get_feature_names(), cv2.get_feature_names())"
     ],
     "language": "python",
     "metadata": {},
     "outputs": [],
     "prompt_number": 93
    },
    {
     "cell_type": "code",
     "collapsed": false,
     "input": [
      "coef.index"
     ],
     "language": "python",
     "metadata": {},
     "outputs": [
      {
       "metadata": {},
       "output_type": "pyout",
       "prompt_number": 95,
       "text": [
        "Int64Index([33000, 30434, 30433, 1, 35416, 9867, 19119, 30422, 597, 31910, 36845, 32078, 30437, 30436, 32949, 4161, 2712, 36862, 36863, 32869, 33462, 35908, 34863, 35496, 32561, 33429, 34524, 35824, 16806, 6135, 21894, 31130, 30969, 30971, 31193, 4782, 17236, 20550, 5074, 4330, 16413, 8911, 32992, 35721, 12934, 35614, 33687, 34275, 32056, 16766, 33988, 33875, 35049, 22018, 10640, 25138, 16893, 30904, 24656, 35078, 20509, 23832, 16001, 9213, 22957, 27622, 25690, 19481, 32479, 23825, 36267, 20985, 33412, 16482, 34947, 34826, 32900, 32568, 33807, 21481, 14810, 6127, 11024, 3187, 30397, 30396, 12510, 33123, 31272, 35987, 31085, 3858, 3857, 5446, 33945, 35427, 26420, 13527, 18408, 11298, ...], dtype='int64')"
       ]
      }
     ],
     "prompt_number": 95
    },
    {
     "cell_type": "code",
     "collapsed": false,
     "input": [
      "pd.Series(feature)[33000]"
     ],
     "language": "python",
     "metadata": {},
     "outputs": [
      {
       "metadata": {},
       "output_type": "pyout",
       "prompt_number": 114,
       "text": [
        "u'\\u5b57\\u53f7'"
       ]
      }
     ],
     "prompt_number": 114
    },
    {
     "cell_type": "code",
     "collapsed": false,
     "input": [
      "pd.Series(feature)[coef.index].to_csv('/home/jiminzhou/data/newsClassify/cofFeature.txt', encoding = 'utf=8')"
     ],
     "language": "python",
     "metadata": {},
     "outputs": [],
     "prompt_number": 109
    },
    {
     "cell_type": "code",
     "collapsed": false,
     "input": [
      "len(feature)"
     ],
     "language": "python",
     "metadata": {},
     "outputs": [
      {
       "metadata": {},
       "output_type": "pyout",
       "prompt_number": 54,
       "text": [
        "3346"
       ]
      }
     ],
     "prompt_number": 54
    }
   ],
   "metadata": {}
  }
 ]
}