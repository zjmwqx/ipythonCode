{
 "metadata": {
  "name": "",
  "signature": "sha256:604bf9fc1a0459198c39293c90b035b861dc6b85bd525001faf74d2a4bf57fdc"
 },
 "nbformat": 3,
 "nbformat_minor": 0,
 "worksheets": [
  {
   "cells": [
    {
     "cell_type": "code",
     "collapsed": false,
     "input": [
      "import pandas as pd"
     ],
     "language": "python",
     "metadata": {},
     "outputs": [],
     "prompt_number": 2
    },
    {
     "cell_type": "code",
     "collapsed": false,
     "input": [
      "df = pd.DataFrame(np.random.randn(10, 4))"
     ],
     "language": "python",
     "metadata": {},
     "outputs": [],
     "prompt_number": 4
    },
    {
     "cell_type": "code",
     "collapsed": false,
     "input": [
      "pieces = [df[:3], df[3:7], df[7:]]"
     ],
     "language": "python",
     "metadata": {},
     "outputs": [],
     "prompt_number": 5
    },
    {
     "cell_type": "code",
     "collapsed": false,
     "input": [
      "pd.concat(pieces)"
     ],
     "language": "python",
     "metadata": {},
     "outputs": [
      {
       "html": [
        "<div style=\"max-height:1000px;max-width:1500px;overflow:auto;\">\n",
        "<table border=\"1\" class=\"dataframe\">\n",
        "  <thead>\n",
        "    <tr style=\"text-align: right;\">\n",
        "      <th></th>\n",
        "      <th>0</th>\n",
        "      <th>1</th>\n",
        "      <th>2</th>\n",
        "      <th>3</th>\n",
        "    </tr>\n",
        "  </thead>\n",
        "  <tbody>\n",
        "    <tr>\n",
        "      <th>0</th>\n",
        "      <td> 0.782162</td>\n",
        "      <td>-0.384202</td>\n",
        "      <td>-0.575160</td>\n",
        "      <td>-0.836144</td>\n",
        "    </tr>\n",
        "    <tr>\n",
        "      <th>1</th>\n",
        "      <td> 1.618302</td>\n",
        "      <td>-0.892936</td>\n",
        "      <td>-0.503431</td>\n",
        "      <td>-0.398482</td>\n",
        "    </tr>\n",
        "    <tr>\n",
        "      <th>2</th>\n",
        "      <td> 0.225920</td>\n",
        "      <td>-1.391005</td>\n",
        "      <td>-0.801647</td>\n",
        "      <td>-0.066882</td>\n",
        "    </tr>\n",
        "    <tr>\n",
        "      <th>3</th>\n",
        "      <td> 0.607570</td>\n",
        "      <td>-0.212103</td>\n",
        "      <td>-0.254832</td>\n",
        "      <td>-1.327408</td>\n",
        "    </tr>\n",
        "    <tr>\n",
        "      <th>4</th>\n",
        "      <td>-0.396818</td>\n",
        "      <td> 0.278906</td>\n",
        "      <td> 0.701089</td>\n",
        "      <td>-0.732739</td>\n",
        "    </tr>\n",
        "    <tr>\n",
        "      <th>5</th>\n",
        "      <td> 0.794338</td>\n",
        "      <td> 0.883803</td>\n",
        "      <td> 0.589739</td>\n",
        "      <td> 0.367989</td>\n",
        "    </tr>\n",
        "    <tr>\n",
        "      <th>6</th>\n",
        "      <td> 1.339983</td>\n",
        "      <td>-0.389586</td>\n",
        "      <td> 0.005854</td>\n",
        "      <td> 0.015876</td>\n",
        "    </tr>\n",
        "    <tr>\n",
        "      <th>7</th>\n",
        "      <td>-0.496422</td>\n",
        "      <td>-0.365647</td>\n",
        "      <td>-0.648098</td>\n",
        "      <td>-0.700551</td>\n",
        "    </tr>\n",
        "    <tr>\n",
        "      <th>8</th>\n",
        "      <td>-0.288466</td>\n",
        "      <td> 1.355557</td>\n",
        "      <td>-0.342258</td>\n",
        "      <td> 0.661166</td>\n",
        "    </tr>\n",
        "    <tr>\n",
        "      <th>9</th>\n",
        "      <td> 0.072913</td>\n",
        "      <td>-1.252266</td>\n",
        "      <td> 0.949093</td>\n",
        "      <td> 1.159455</td>\n",
        "    </tr>\n",
        "  </tbody>\n",
        "</table>\n",
        "<p>10 rows \u00d7 4 columns</p>\n",
        "</div>"
       ],
       "metadata": {},
       "output_type": "pyout",
       "prompt_number": 11,
       "text": [
        "          0         1         2         3\n",
        "0  0.782162 -0.384202 -0.575160 -0.836144\n",
        "1  1.618302 -0.892936 -0.503431 -0.398482\n",
        "2  0.225920 -1.391005 -0.801647 -0.066882\n",
        "3  0.607570 -0.212103 -0.254832 -1.327408\n",
        "4 -0.396818  0.278906  0.701089 -0.732739\n",
        "5  0.794338  0.883803  0.589739  0.367989\n",
        "6  1.339983 -0.389586  0.005854  0.015876\n",
        "7 -0.496422 -0.365647 -0.648098 -0.700551\n",
        "8 -0.288466  1.355557 -0.342258  0.661166\n",
        "9  0.072913 -1.252266  0.949093  1.159455\n",
        "\n",
        "[10 rows x 4 columns]"
       ]
      }
     ],
     "prompt_number": 11
    }
   ],
   "metadata": {}
  }
 ]
}