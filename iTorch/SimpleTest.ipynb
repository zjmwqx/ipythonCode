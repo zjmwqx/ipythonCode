{
 "cells": [
  {
   "cell_type": "code",
   "execution_count": 2,
   "metadata": {
    "collapsed": false
   },
   "outputs": [],
   "source": [
    "a = 'hello'"
   ]
  },
  {
   "cell_type": "code",
   "execution_count": 3,
   "metadata": {
    "collapsed": false
   },
   "outputs": [
    {
     "data": {
      "text/plain": [
       "hello\t\n"
      ]
     },
     "execution_count": 3,
     "metadata": {},
     "output_type": "execute_result"
    }
   ],
   "source": [
    "print(a)"
   ]
  },
  {
   "cell_type": "code",
   "execution_count": 4,
   "metadata": {
    "collapsed": true
   },
   "outputs": [],
   "source": [
    "b = {}\n",
    "b[1] = a\n",
    "b[2] = 30"
   ]
  },
  {
   "cell_type": "code",
   "execution_count": 7,
   "metadata": {
    "collapsed": false
   },
   "outputs": [
    {
     "data": {
      "text/plain": [
       "hello\t\n",
       "30\t\n"
      ]
     },
     "execution_count": 7,
     "metadata": {},
     "output_type": "execute_result"
    }
   ],
   "source": [
    "for i=1,#b do -- the # operator is the length operator in Lua\n",
    "    print(b[i]) \n",
    "end"
   ]
  },
  {
   "cell_type": "code",
   "execution_count": 8,
   "metadata": {
    "collapsed": true
   },
   "outputs": [],
   "source": [
    "a = torch.Tensor(5, 3)"
   ]
  },
  {
   "cell_type": "code",
   "execution_count": 10,
   "metadata": {
    "collapsed": false
   },
   "outputs": [
    {
     "data": {
      "text/plain": [
       " 0.1656  0.5610  0.4508\n",
       " 0.6637  0.4741  0.8643\n",
       " 0.0181  0.4127  0.1881\n",
       " 0.8346  0.0883  0.1986\n",
       " 0.7652  0.3298  0.5772\n",
       "[torch.DoubleTensor of size 5x3]\n",
       "\n"
      ]
     },
     "execution_count": 10,
     "metadata": {},
     "output_type": "execute_result"
    }
   ],
   "source": [
    "a = torch.rand(5, 3)\n",
    "print(a)"
   ]
  },
  {
   "cell_type": "code",
   "execution_count": 11,
   "metadata": {
    "collapsed": true
   },
   "outputs": [],
   "source": [
    "b=torch.rand(3,4)"
   ]
  },
  {
   "cell_type": "code",
   "execution_count": 13,
   "metadata": {
    "collapsed": false
   },
   "outputs": [
    {
     "data": {
      "text/plain": [
       " 0.7897  0.3213  0.2718  0.4336\n",
       " 1.0682  0.6313  0.4645  0.9254\n",
       " 0.4758  0.1460  0.1328  0.1977\n",
       " 0.4101  0.3582  0.1381  0.7954\n",
       " 0.8116  0.5258  0.3278  0.9009\n",
       "[torch.DoubleTensor of size 5x4]\n",
       "\n"
      ]
     },
     "execution_count": 13,
     "metadata": {},
     "output_type": "execute_result"
    }
   ],
   "source": [
    "a*b"
   ]
  },
  {
   "cell_type": "code",
   "execution_count": 1,
   "metadata": {
    "collapsed": false
   },
   "outputs": [],
   "source": [
    "function addTensors(a,b)\n",
    "    return a\n",
    "end"
   ]
  },
  {
   "cell_type": "code",
   "execution_count": 2,
   "metadata": {
    "collapsed": true
   },
   "outputs": [],
   "source": [
    "a = torch.ones(5,2)\n",
    "b = torch.Tensor(2,5):fill(4)"
   ]
  },
  {
   "cell_type": "code",
   "execution_count": 3,
   "metadata": {
    "collapsed": false
   },
   "outputs": [
    {
     "data": {
      "text/plain": [
       " 1  1\n",
       " 1  1\n",
       " 1  1\n",
       " 1  1\n",
       " 1  1\n",
       "[torch.DoubleTensor of size 5x2]\n",
       "\n"
      ]
     },
     "execution_count": 3,
     "metadata": {},
     "output_type": "execute_result"
    }
   ],
   "source": [
    "print(addTensors(a,b))\n"
   ]
  },
  {
   "cell_type": "code",
   "execution_count": 5,
   "metadata": {
    "collapsed": false
   },
   "outputs": [],
   "source": [
    "require 'nn';"
   ]
  },
  {
   "cell_type": "code",
   "execution_count": 27,
   "metadata": {
    "collapsed": false
   },
   "outputs": [
    {
     "data": {
      "text/plain": [
       "Lenet5\n",
       "nn.Sequential {\n",
       "  [input -> (1) -> (2) -> (3) -> (4) -> (5) -> (6) -> (7) -> (8) -> (9) -> output]\n",
       "  (1): nn.SpatialConvolution(1 -> 6, 5x5)\n",
       "  (2): nn.SpatialMaxPooling(2,2,2,2)\n",
       "  (3): nn.SpatialConvolution(6 -> 16, 5x5)\n",
       "  (4): nn.SpatialMaxPooling(2,2,2,2)\n",
       "  (5): nn.View\n",
       "  (6): nn.Linear(400 -> 120)\n",
       "  (7): nn.Linear(120 -> 84)\n",
       "  (8): nn.Linear(84 -> 10)\n",
       "  (9): nn.LogSoftMax\n",
       "}\t\n"
      ]
     },
     "execution_count": 27,
     "metadata": {},
     "output_type": "execute_result"
    }
   ],
   "source": [
    "net = nn.Sequential()\n",
    "net:add(nn.SpatialConvolution(1, 6, 5, 5)) -- 1 input image channel, 6 output channels, 5x5 convolution kernel\n",
    "net:add(nn.SpatialMaxPooling(2,2,2,2))     -- A max-pooling operation that looks at 2x2 windows and finds the max.\n",
    "net:add(nn.SpatialConvolution(6, 16, 5, 5))\n",
    "net:add(nn.SpatialMaxPooling(2,2,2,2))\n",
    "net:add(nn.View(16*5*5))                    -- reshapes from a 3D tensor of 16x5x5 into 1D tensor of 16*5*5\n",
    "net:add(nn.Linear(16*5*5, 120))             -- fully connected layer (matrix multiplication between input and weights)\n",
    "net:add(nn.Linear(120, 84))\n",
    "net:add(nn.Linear(84, 10))                   -- 10 is the number of outputs of the network (in this case, 10 digits)\n",
    "net:add(nn.LogSoftMax())                     -- converts the output to a log-probability. Useful for classification problems\n",
    "print('Lenet5\\n' .. net:__tostring());"
   ]
  },
  {
   "cell_type": "code",
   "execution_count": 28,
   "metadata": {
    "collapsed": false
   },
   "outputs": [],
   "source": [
    "input = torch.rand(1,32,32)\n",
    "output = net:forward(input)"
   ]
  },
  {
   "cell_type": "code",
   "execution_count": 29,
   "metadata": {
    "collapsed": false
   },
   "outputs": [
    {
     "data": {
      "text/plain": [
       "-2.4824\n",
       "-2.3372\n",
       "-2.3054\n",
       "-2.3419\n",
       "-2.3253\n",
       "-2.2936\n",
       "-2.0894\n",
       "-2.2550\n",
       "-2.3946\n",
       "-2.2492\n",
       "[torch.DoubleTensor of size 10]\n",
       "\n"
      ]
     },
     "execution_count": 29,
     "metadata": {},
     "output_type": "execute_result"
    }
   ],
   "source": [
    "print(output)"
   ]
  },
  {
   "cell_type": "code",
   "execution_count": 30,
   "metadata": {
    "collapsed": false
   },
   "outputs": [
    {
     "data": {
      "text/plain": [
       "\n"
      ]
     },
     "execution_count": 30,
     "metadata": {},
     "output_type": "execute_result"
    }
   ],
   "source": [
    "net:zeroGradParameters()"
   ]
  },
  {
   "cell_type": "code",
   "execution_count": 31,
   "metadata": {
    "collapsed": true
   },
   "outputs": [],
   "source": [
    "gradInput = net:backward(input, torch.rand(10))"
   ]
  },
  {
   "cell_type": "code",
   "execution_count": 32,
   "metadata": {
    "collapsed": false
   },
   "outputs": [
    {
     "data": {
      "text/plain": [
       "\n",
       "  1\n",
       " 32\n",
       " 32\n",
       "[torch.LongStorage of size 3]\n",
       "\n"
      ]
     },
     "execution_count": 32,
     "metadata": {},
     "output_type": "execute_result"
    }
   ],
   "source": [
    "print(#gradInput)"
   ]
  },
  {
   "cell_type": "code",
   "execution_count": 34,
   "metadata": {
    "collapsed": true
   },
   "outputs": [],
   "source": [
    "criterion =  nn.ClassNLLCriterion()\n",
    "criterion:forward(output, 3)\n",
    "gradients = criterion:backward(output, 3)"
   ]
  },
  {
   "cell_type": "code",
   "execution_count": 35,
   "metadata": {
    "collapsed": true
   },
   "outputs": [],
   "source": [
    "gradInput = net:backward(input, gradients)"
   ]
  },
  {
   "cell_type": "code",
   "execution_count": 62,
   "metadata": {
    "collapsed": false
   },
   "outputs": [
    {
     "data": {
      "text/plain": [
       "\n",
       " 10\n",
       "[torch.LongStorage of size 1]\n",
       "\n"
      ]
     },
     "execution_count": 62,
     "metadata": {},
     "output_type": "execute_result"
    }
   ],
   "source": [
    "#gradients"
   ]
  },
  {
   "cell_type": "code",
   "execution_count": 67,
   "metadata": {
    "collapsed": false
   },
   "outputs": [
    {
     "data": {
      "text/plain": [
       "+++++++++++++++++++++++++++++++++++++++++++++++++++++++++++++++++++++\t\n",
       "\u001b[1;35mSequential\u001b[0m\n",
       "\n",
       "\n",
       "Sequential provides a means to plug layers together\n",
       "in a feed-forward fully connected manner.\n",
       "\n",
       "E.g. \n",
       "creating a one hidden-layer multi-layer perceptron is thus just as easy \n",
       "as:\n",
       "\u001b[0;36m\u001b[0;36m mlp = nn.Sequential()\n",
       "mlp:add( nn.Linear(10, 25) ) -- 10 input, 25 hidden units\n",
       "mlp:add( nn.Tanh() ) -- some hyperbolic tangent transfer function\n",
       "mlp:add( nn.Linear(25, 1) ) -- 1 output\n",
       "print(mlp:forward(torch.randn(10))) \u001b[0m\u001b[0m\n",
       "\n",
       "which gives the output:\n",
       "\u001b[0;36m\u001b[0;36m -0.1815\n",
       "[torch.Tensor of dimension 1] \u001b[0m\u001b[0m\t\n",
       "+++++++++++++++++++++++++++++++++++++++++++++++++++++++++++++++++++++\t\n",
       "\n"
      ]
     },
     "execution_count": 67,
     "metadata": {},
     "output_type": "execute_result"
    }
   ],
   "source": [
    "? nn.Sequential"
   ]
  },
  {
   "cell_type": "code",
   "execution_count": 77,
   "metadata": {
    "collapsed": false
   },
   "outputs": [
    {
     "data": {
      "text/plain": [
       "Columns 1 to 10\n",
       " 0.1120 -0.0862 -0.1753 -0.1731 -0.1815 -0.1095  0.0652  0.0686 -0.0345  0.1993\n",
       " 0.0691 -0.1769  0.0705  0.0642 -0.1647 -0.1345  0.0951 -0.1023 -0.1637  0.1922\n",
       " 0.0825 -0.1293  0.1769 -0.1371 -0.1418  0.0376  0.1584 -0.0741  0.1329  0.1938\n",
       " 0.0491  0.0872 -0.1504 -0.0892 -0.1819  0.1540 -0.1084 -0.0061 -0.0943  0.1089\n",
       " 0.1545 -0.1739  0.1801 -0.1845  0.1283 -0.0463  0.0960 -0.0792  0.1925  0.0056\n",
       "-0.1148 -0.0850 -0.1629 -0.1728  0.1465  0.1921  0.1136  0.0144  0.0145  0.1689\n",
       "\n",
       "Columns 11 to 20\n",
       "-0.0964 -0.0441  0.1520 -0.0349 -0.0388 -0.0212  0.1704  0.1567 -0.1583  0.1024\n",
       " 0.1524  0.1658  0.0759  0.1701 -0.0265  0.1426 -0.1083 -0.0872 -0.0949  0.0559\n",
       " 0.1454  0.0917 -0.1585  0.1667 -0.1318 -0.1359 -0.0508 -0.0428 -0.1429  0.0962\n",
       " 0.1996  0.1249 -0.1047 -0.0866 -0.0232  0.1809  0.1059 -0.1088 -0.1234  0.1048\n",
       "-0.1904 -0.1042 -0.0899  0.0002  0.1356  0.1643 -0.0837 -0.0015  0.0304  0.0529\n",
       " 0.0931  0.1896  0.0239 -0.0548  0.0685  0.0315 -0.0217 -0.0309  0.0463 -0.0618\n",
       "\n",
       "Columns 21 to 25\n",
       "-0.1202 -0.1520  0.0218  0.0594 -0.0819\n",
       " 0.1502 -0.1572 -0.0001  0.1073 -0.0203\n",
       " 0.0855 -0.0927 -0.1983  0.1801 -0.0200\n",
       " 0.1383 -0.1818  0.1097 -0.0690  0.0925\n",
       "-0.1912 -0.1303 -0.1809  0.1661  0.0877\n",
       " 0.0279 -0.0025  0.1490  0.1096 -0.1742\n",
       "[torch.DoubleTensor of size 6x25]\n",
       "\n"
      ]
     },
     "execution_count": 77,
     "metadata": {},
     "output_type": "execute_result"
    }
   ],
   "source": [
    "net:get(1).weight"
   ]
  }
 ],
 "metadata": {
  "kernelspec": {
   "display_name": "iTorch",
   "language": "lua",
   "name": "itorch"
  },
  "language_info": {
   "name": "lua",
   "version": "20100"
  }
 },
 "nbformat": 4,
 "nbformat_minor": 0
}
