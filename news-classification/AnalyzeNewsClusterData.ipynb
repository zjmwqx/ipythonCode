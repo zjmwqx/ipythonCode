{
 "metadata": {
  "name": "",
  "signature": "sha256:4ea0b0f0efb234e5a499f360794336ba2d123f119cb56cf5847c53ffebe423aa"
 },
 "nbformat": 3,
 "nbformat_minor": 0,
 "worksheets": [
  {
   "cells": [
    {
     "cell_type": "code",
     "collapsed": false,
     "input": [
      "import pandas as pd"
     ],
     "language": "python",
     "metadata": {},
     "outputs": [],
     "prompt_number": 2
    },
    {
     "cell_type": "code",
     "collapsed": false,
     "input": [
      "pd.read_excel??"
     ],
     "language": "python",
     "metadata": {},
     "outputs": [],
     "prompt_number": 3
    },
    {
     "cell_type": "code",
     "collapsed": false,
     "input": [
      "data  = pd.read_csv('/root/data/classifyNewsContent7.csv',encoding = 'utf-8',sep = '\\t')"
     ],
     "language": "python",
     "metadata": {},
     "outputs": [],
     "prompt_number": 4
    },
    {
     "cell_type": "code",
     "collapsed": false,
     "input": [
      "len(data)"
     ],
     "language": "python",
     "metadata": {},
     "outputs": [
      {
       "metadata": {},
       "output_type": "pyout",
       "prompt_number": 5,
       "text": [
        "8725"
       ]
      }
     ],
     "prompt_number": 5
    },
    {
     "cell_type": "code",
     "collapsed": false,
     "input": [
      "data.Catg.value_counts()"
     ],
     "language": "python",
     "metadata": {},
     "outputs": [
      {
       "metadata": {},
       "output_type": "pyout",
       "prompt_number": 9,
       "text": [
        "905087     139\n",
        "1040747    105\n",
        "782993      57\n",
        "398623      52\n",
        "297201      48\n",
        "721623      43\n",
        "772011      39\n",
        "884415      39\n",
        "1111807     37\n",
        "836611      37\n",
        "1141523     35\n",
        "857929      34\n",
        "843717      34\n",
        "885061      33\n",
        "780409      33\n",
        "...\n",
        "1307       1\n",
        "869557     1\n",
        "5433       1\n",
        "542035     1\n",
        "1371       1\n",
        "505213     1\n",
        "1419       1\n",
        "1427       1\n",
        "480665     1\n",
        "456117     1\n",
        "660253     1\n",
        "1177053    1\n",
        "1140231    1\n",
        "1555       1\n",
        "152497     1\n",
        "Length: 2727, dtype: int64"
       ]
      }
     ],
     "prompt_number": 9
    }
   ],
   "metadata": {}
  }
 ]
}