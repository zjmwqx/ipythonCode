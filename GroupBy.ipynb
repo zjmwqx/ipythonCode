{
 "metadata": {
  "name": ""
 },
 "nbformat": 3,
 "nbformat_minor": 0,
 "worksheets": [
  {
   "cells": [
    {
     "cell_type": "code",
     "collapsed": false,
     "input": [
      "from pandas import DataFrame\n",
      "import pandas as pd"
     ],
     "language": "python",
     "metadata": {},
     "outputs": [],
     "prompt_number": 2
    },
    {
     "cell_type": "code",
     "collapsed": false,
     "input": [
      "df = DataFrame({'key1' : ['a', 'a', 'b', 'b', 'a'],\n",
      "'key2' : ['one', 'two', 'one', 'two', 'one'],\n",
      "'data1' : np.random.randn(5),\n",
      "'data2' : np.random.randn(5)})\n"
     ],
     "language": "python",
     "metadata": {},
     "outputs": [],
     "prompt_number": 3
    },
    {
     "cell_type": "code",
     "collapsed": false,
     "input": [
      "grouped = df['data1'].groupby(df['key1'])"
     ],
     "language": "python",
     "metadata": {},
     "outputs": [],
     "prompt_number": 6
    },
    {
     "cell_type": "code",
     "collapsed": false,
     "input": [
      "grouped.mean()"
     ],
     "language": "python",
     "metadata": {},
     "outputs": [
      {
       "metadata": {},
       "output_type": "pyout",
       "prompt_number": 8,
       "text": [
        "key1\n",
        "a      -0.435838\n",
        "b       0.456670\n",
        "dtype: float64"
       ]
      }
     ],
     "prompt_number": 8
    },
    {
     "cell_type": "code",
     "collapsed": false,
     "input": [
      "grouped = df.groupby('key1')['data1'].mean()"
     ],
     "language": "python",
     "metadata": {},
     "outputs": [],
     "prompt_number": 9
    },
    {
     "cell_type": "code",
     "collapsed": false,
     "input": [
      "states = np.array(['Ohio', 'California', 'California', 'Ohio', 'Ohio'])"
     ],
     "language": "python",
     "metadata": {},
     "outputs": [],
     "prompt_number": 11
    },
    {
     "cell_type": "code",
     "collapsed": false,
     "input": [
      "for name, group in df.groupby('key1'):\n",
      "    print name\n",
      "    print group"
     ],
     "language": "python",
     "metadata": {},
     "outputs": [
      {
       "output_type": "stream",
       "stream": "stdout",
       "text": [
        "a\n",
        "      data1     data2 key1 key2\n",
        "0 -0.295373 -1.338825    a  one\n",
        "1  0.105250 -1.335567    a  two\n",
        "4 -1.117391  0.442198    a  one\n",
        "\n",
        "[3 rows x 4 columns]\n",
        "b\n",
        "      data1     data2 key1 key2\n",
        "2  2.036702 -0.881064    b  one\n",
        "3 -1.123362 -1.054485    b  two\n",
        "\n",
        "[2 rows x 4 columns]\n"
       ]
      }
     ],
     "prompt_number": 14
    },
    {
     "cell_type": "code",
     "collapsed": false,
     "input": [
      "for (k1,k2),group in df.groupby(['key1','key2']):\n",
      "    print k1,k2\n",
      "    print group"
     ],
     "language": "python",
     "metadata": {},
     "outputs": [
      {
       "output_type": "stream",
       "stream": "stdout",
       "text": [
        "a one\n",
        "      data1     data2 key1 key2\n",
        "0 -0.295373 -1.338825    a  one\n",
        "4 -1.117391  0.442198    a  one\n",
        "\n",
        "[2 rows x 4 columns]\n",
        "a two\n",
        "     data1     data2 key1 key2\n",
        "1  0.10525 -1.335567    a  two\n",
        "\n",
        "[1 rows x 4 columns]\n",
        "b one\n",
        "      data1     data2 key1 key2\n",
        "2  2.036702 -0.881064    b  one\n",
        "\n",
        "[1 rows x 4 columns]\n",
        "b two\n",
        "      data1     data2 key1 key2\n",
        "3 -1.123362 -1.054485    b  two\n",
        "\n",
        "[1 rows x 4 columns]"
       ]
      },
      {
       "output_type": "stream",
       "stream": "stdout",
       "text": [
        "\n"
       ]
      }
     ],
     "prompt_number": 18
    },
    {
     "cell_type": "code",
     "collapsed": false,
     "input": [
      "dict(list(df.groupby('key1')))"
     ],
     "language": "python",
     "metadata": {},
     "outputs": [
      {
       "metadata": {},
       "output_type": "pyout",
       "prompt_number": 21,
       "text": [
        "{'a':       data1     data2 key1 key2\n",
        "0 -0.295373 -1.338825    a  one\n",
        "1  0.105250 -1.335567    a  two\n",
        "4 -1.117391  0.442198    a  one\n",
        "\n",
        "[3 rows x 4 columns],\n",
        " 'b':       data1     data2 key1 key2\n",
        "2  2.036702 -0.881064    b  one\n",
        "3 -1.123362 -1.054485    b  two\n",
        "\n",
        "[2 rows x 4 columns]}"
       ]
      }
     ],
     "prompt_number": 21
    },
    {
     "cell_type": "code",
     "collapsed": false,
     "input": [
      "list(df.groupby('key1'))"
     ],
     "language": "python",
     "metadata": {},
     "outputs": [
      {
       "metadata": {},
       "output_type": "pyout",
       "prompt_number": 23,
       "text": [
        "[('a',\n",
        "        data1     data2 key1 key2\n",
        "0 -0.295373 -1.338825    a  one\n",
        "1  0.105250 -1.335567    a  two\n",
        "4 -1.117391  0.442198    a  one\n",
        "\n",
        "[3 rows x 4 columns]),\n",
        " ('b',\n",
        "        data1     data2 key1 key2\n",
        "2  2.036702 -0.881064    b  one\n",
        "3 -1.123362 -1.054485    b  two\n",
        "\n",
        "[2 rows x 4 columns])]"
       ]
      }
     ],
     "prompt_number": 23
    },
    {
     "cell_type": "code",
     "collapsed": false,
     "input": [
      "df.groupby(['key1', 'key2'])[['data2']].mean()"
     ],
     "language": "python",
     "metadata": {},
     "outputs": [
      {
       "html": [
        "<div style=\"max-height:1000px;max-width:1500px;overflow:auto;\">\n",
        "<table border=\"1\" class=\"dataframe\">\n",
        "  <thead>\n",
        "    <tr style=\"text-align: right;\">\n",
        "      <th></th>\n",
        "      <th></th>\n",
        "      <th>data2</th>\n",
        "    </tr>\n",
        "    <tr>\n",
        "      <th>key1</th>\n",
        "      <th>key2</th>\n",
        "      <th></th>\n",
        "    </tr>\n",
        "  </thead>\n",
        "  <tbody>\n",
        "    <tr>\n",
        "      <th rowspan=\"2\" valign=\"top\">a</th>\n",
        "      <th>one</th>\n",
        "      <td>-0.448313</td>\n",
        "    </tr>\n",
        "    <tr>\n",
        "      <th>two</th>\n",
        "      <td>-1.335567</td>\n",
        "    </tr>\n",
        "    <tr>\n",
        "      <th rowspan=\"2\" valign=\"top\">b</th>\n",
        "      <th>one</th>\n",
        "      <td>-0.881064</td>\n",
        "    </tr>\n",
        "    <tr>\n",
        "      <th>two</th>\n",
        "      <td>-1.054485</td>\n",
        "    </tr>\n",
        "  </tbody>\n",
        "</table>\n",
        "<p>4 rows \u00d7 1 columns</p>\n",
        "</div>"
       ],
       "metadata": {},
       "output_type": "pyout",
       "prompt_number": 32,
       "text": [
        "              data2\n",
        "key1 key2          \n",
        "a    one  -0.448313\n",
        "     two  -1.335567\n",
        "b    one  -0.881064\n",
        "     two  -1.054485\n",
        "\n",
        "[4 rows x 1 columns]"
       ]
      }
     ],
     "prompt_number": 32
    },
    {
     "cell_type": "code",
     "collapsed": false,
     "input": [
      "for (k1, k2), group in df.groupby(['key1', 'key2'])\n"
     ],
     "language": "python",
     "metadata": {},
     "outputs": [
      {
       "metadata": {},
       "output_type": "pyout",
       "prompt_number": 31,
       "text": [
        "pandas.core.frame.DataFrame"
       ]
      }
     ],
     "prompt_number": 31
    },
    {
     "cell_type": "code",
     "collapsed": false,
     "input": [
      "peoples = DataFrame(np.random.randn(5,5), columns=['Joe,Jimmy,Ham,Jenny,Lau'.split(',')], index=list('abcde'))"
     ],
     "language": "python",
     "metadata": {},
     "outputs": [],
     "prompt_number": 39
    },
    {
     "cell_type": "code",
     "collapsed": false,
     "input": [
      "dict(zip(list(peoples.columns),['red']*3+['blue']*2))"
     ],
     "language": "python",
     "metadata": {},
     "outputs": [
      {
       "metadata": {},
       "output_type": "pyout",
       "prompt_number": 47,
       "text": [
        "{'Ham': 'red', 'Jenny': 'blue', 'Jimmy': 'red', 'Joe': 'red', 'Lau': 'blue'}"
       ]
      }
     ],
     "prompt_number": 47
    },
    {
     "cell_type": "code",
     "collapsed": false,
     "input": [
      "mapp = dict(zip(list(peoples.columns),['red']*3+['blue']*2))"
     ],
     "language": "python",
     "metadata": {},
     "outputs": [],
     "prompt_number": 49
    },
    {
     "cell_type": "code",
     "collapsed": false,
     "input": [
      "peoples.groupby(mapp,axis=1).sum()"
     ],
     "language": "python",
     "metadata": {},
     "outputs": [
      {
       "html": [
        "<div style=\"max-height:1000px;max-width:1500px;overflow:auto;\">\n",
        "<table border=\"1\" class=\"dataframe\">\n",
        "  <thead>\n",
        "    <tr style=\"text-align: right;\">\n",
        "      <th></th>\n",
        "      <th>blue</th>\n",
        "      <th>red</th>\n",
        "    </tr>\n",
        "  </thead>\n",
        "  <tbody>\n",
        "    <tr>\n",
        "      <th>a</th>\n",
        "      <td>-0.664410</td>\n",
        "      <td> 0.081899</td>\n",
        "    </tr>\n",
        "    <tr>\n",
        "      <th>b</th>\n",
        "      <td>-1.310498</td>\n",
        "      <td>-1.016279</td>\n",
        "    </tr>\n",
        "    <tr>\n",
        "      <th>c</th>\n",
        "      <td>-0.993917</td>\n",
        "      <td> 3.996279</td>\n",
        "    </tr>\n",
        "    <tr>\n",
        "      <th>d</th>\n",
        "      <td> 0.851973</td>\n",
        "      <td>-0.175868</td>\n",
        "    </tr>\n",
        "    <tr>\n",
        "      <th>e</th>\n",
        "      <td> 1.486756</td>\n",
        "      <td> 1.159421</td>\n",
        "    </tr>\n",
        "  </tbody>\n",
        "</table>\n",
        "<p>5 rows \u00d7 2 columns</p>\n",
        "</div>"
       ],
       "metadata": {},
       "output_type": "pyout",
       "prompt_number": 53,
       "text": [
        "       blue       red\n",
        "a -0.664410  0.081899\n",
        "b -1.310498 -1.016279\n",
        "c -0.993917  3.996279\n",
        "d  0.851973 -0.175868\n",
        "e  1.486756  1.159421\n",
        "\n",
        "[5 rows x 2 columns]"
       ]
      }
     ],
     "prompt_number": 53
    },
    {
     "cell_type": "code",
     "collapsed": false,
     "input": [
      "peoples"
     ],
     "language": "python",
     "metadata": {},
     "outputs": [
      {
       "html": [
        "<div style=\"max-height:1000px;max-width:1500px;overflow:auto;\">\n",
        "<table border=\"1\" class=\"dataframe\">\n",
        "  <thead>\n",
        "    <tr style=\"text-align: right;\">\n",
        "      <th></th>\n",
        "      <th>Joe</th>\n",
        "      <th>Jimmy</th>\n",
        "      <th>Ham</th>\n",
        "      <th>Jenny</th>\n",
        "      <th>Lau</th>\n",
        "    </tr>\n",
        "  </thead>\n",
        "  <tbody>\n",
        "    <tr>\n",
        "      <th>a</th>\n",
        "      <td>-0.207533</td>\n",
        "      <td> 0.896431</td>\n",
        "      <td>-0.606999</td>\n",
        "      <td>-0.798238</td>\n",
        "      <td> 0.133828</td>\n",
        "    </tr>\n",
        "    <tr>\n",
        "      <th>b</th>\n",
        "      <td>-1.497846</td>\n",
        "      <td>-0.079284</td>\n",
        "      <td> 0.560851</td>\n",
        "      <td> 0.572508</td>\n",
        "      <td>-1.883006</td>\n",
        "    </tr>\n",
        "    <tr>\n",
        "      <th>c</th>\n",
        "      <td> 1.074278</td>\n",
        "      <td> 1.621350</td>\n",
        "      <td> 1.300651</td>\n",
        "      <td>-1.585703</td>\n",
        "      <td> 0.591786</td>\n",
        "    </tr>\n",
        "    <tr>\n",
        "      <th>d</th>\n",
        "      <td> 0.235601</td>\n",
        "      <td>-0.753431</td>\n",
        "      <td> 0.341962</td>\n",
        "      <td> 0.747398</td>\n",
        "      <td> 0.104574</td>\n",
        "    </tr>\n",
        "    <tr>\n",
        "      <th>e</th>\n",
        "      <td> 0.315925</td>\n",
        "      <td> 0.193948</td>\n",
        "      <td> 0.649548</td>\n",
        "      <td> 2.396927</td>\n",
        "      <td>-0.910172</td>\n",
        "    </tr>\n",
        "  </tbody>\n",
        "</table>\n",
        "<p>5 rows \u00d7 5 columns</p>\n",
        "</div>"
       ],
       "metadata": {},
       "output_type": "pyout",
       "prompt_number": 54,
       "text": [
        "        Joe     Jimmy       Ham     Jenny       Lau\n",
        "a -0.207533  0.896431 -0.606999 -0.798238  0.133828\n",
        "b -1.497846 -0.079284  0.560851  0.572508 -1.883006\n",
        "c  1.074278  1.621350  1.300651 -1.585703  0.591786\n",
        "d  0.235601 -0.753431  0.341962  0.747398  0.104574\n",
        "e  0.315925  0.193948  0.649548  2.396927 -0.910172\n",
        "\n",
        "[5 rows x 5 columns]"
       ]
      }
     ],
     "prompt_number": 54
    },
    {
     "cell_type": "code",
     "collapsed": false,
     "input": [
      "key = ['one', 'two', 'one', 'two', 'one']"
     ],
     "language": "python",
     "metadata": {},
     "outputs": [],
     "prompt_number": 55
    },
    {
     "cell_type": "code",
     "collapsed": false,
     "input": [
      "peoples.groupby(key).transform(np.mean)\n"
     ],
     "language": "python",
     "metadata": {},
     "outputs": [
      {
       "html": [
        "<div style=\"max-height:1000px;max-width:1500px;overflow:auto;\">\n",
        "<table border=\"1\" class=\"dataframe\">\n",
        "  <thead>\n",
        "    <tr style=\"text-align: right;\">\n",
        "      <th></th>\n",
        "      <th>Joe</th>\n",
        "      <th>Jimmy</th>\n",
        "      <th>Ham</th>\n",
        "      <th>Jenny</th>\n",
        "      <th>Lau</th>\n",
        "    </tr>\n",
        "  </thead>\n",
        "  <tbody>\n",
        "    <tr>\n",
        "      <th>a</th>\n",
        "      <td> 0.394223</td>\n",
        "      <td> 0.903910</td>\n",
        "      <td> 0.447733</td>\n",
        "      <td> 0.004329</td>\n",
        "      <td>-0.061519</td>\n",
        "    </tr>\n",
        "    <tr>\n",
        "      <th>b</th>\n",
        "      <td>-0.631122</td>\n",
        "      <td>-0.416357</td>\n",
        "      <td> 0.451406</td>\n",
        "      <td> 0.659953</td>\n",
        "      <td>-0.889216</td>\n",
        "    </tr>\n",
        "    <tr>\n",
        "      <th>c</th>\n",
        "      <td> 0.394223</td>\n",
        "      <td> 0.903910</td>\n",
        "      <td> 0.447733</td>\n",
        "      <td> 0.004329</td>\n",
        "      <td>-0.061519</td>\n",
        "    </tr>\n",
        "    <tr>\n",
        "      <th>d</th>\n",
        "      <td>-0.631122</td>\n",
        "      <td>-0.416357</td>\n",
        "      <td> 0.451406</td>\n",
        "      <td> 0.659953</td>\n",
        "      <td>-0.889216</td>\n",
        "    </tr>\n",
        "    <tr>\n",
        "      <th>e</th>\n",
        "      <td> 0.394223</td>\n",
        "      <td> 0.903910</td>\n",
        "      <td> 0.447733</td>\n",
        "      <td> 0.004329</td>\n",
        "      <td>-0.061519</td>\n",
        "    </tr>\n",
        "  </tbody>\n",
        "</table>\n",
        "<p>5 rows \u00d7 5 columns</p>\n",
        "</div>"
       ],
       "metadata": {},
       "output_type": "pyout",
       "prompt_number": 57,
       "text": [
        "        Joe     Jimmy       Ham     Jenny       Lau\n",
        "a  0.394223  0.903910  0.447733  0.004329 -0.061519\n",
        "b -0.631122 -0.416357  0.451406  0.659953 -0.889216\n",
        "c  0.394223  0.903910  0.447733  0.004329 -0.061519\n",
        "d -0.631122 -0.416357  0.451406  0.659953 -0.889216\n",
        "e  0.394223  0.903910  0.447733  0.004329 -0.061519\n",
        "\n",
        "[5 rows x 5 columns]"
       ]
      }
     ],
     "prompt_number": 57
    },
    {
     "cell_type": "code",
     "collapsed": false,
     "input": [
      "from pandas import Series"
     ],
     "language": "python",
     "metadata": {},
     "outputs": [],
     "prompt_number": 61
    },
    {
     "cell_type": "code",
     "collapsed": false,
     "input": [
      "states = ['Ohio', 'New York', 'Vermont', 'Florida','Oregon', 'Nevada', 'California', 'Idaho']"
     ],
     "language": "python",
     "metadata": {},
     "outputs": [],
     "prompt_number": 58
    },
    {
     "cell_type": "code",
     "collapsed": false,
     "input": [
      "group_key = ['East'] * 4 + ['West'] * 4"
     ],
     "language": "python",
     "metadata": {},
     "outputs": [],
     "prompt_number": 59
    },
    {
     "cell_type": "code",
     "collapsed": false,
     "input": [
      "data = Series(np.random.randn(8), index=states)"
     ],
     "language": "python",
     "metadata": {},
     "outputs": [],
     "prompt_number": 62
    },
    {
     "cell_type": "code",
     "collapsed": false,
     "input": [
      "data[['Vermont', 'Nevada', 'Idaho']] = np.nan"
     ],
     "language": "python",
     "metadata": {},
     "outputs": [],
     "prompt_number": 63
    },
    {
     "cell_type": "code",
     "collapsed": false,
     "input": [
      "data.groupby(group_key).mean()"
     ],
     "language": "python",
     "metadata": {},
     "outputs": [
      {
       "metadata": {},
       "output_type": "pyout",
       "prompt_number": 65,
       "text": [
        "East    0.427858\n",
        "West    0.045282\n",
        "dtype: float64"
       ]
      }
     ],
     "prompt_number": 65
    },
    {
     "cell_type": "code",
     "collapsed": false,
     "input": [
      "fill_mean = lambda g: g.fillna(g.mean())"
     ],
     "language": "python",
     "metadata": {},
     "outputs": [],
     "prompt_number": 66
    },
    {
     "cell_type": "code",
     "collapsed": false,
     "input": [
      "data.groupby(group_key).apply(fill_mean)"
     ],
     "language": "python",
     "metadata": {},
     "outputs": [
      {
       "metadata": {},
       "output_type": "pyout",
       "prompt_number": 68,
       "text": [
        "Ohio          0.403172\n",
        "New York      0.169335\n",
        "Vermont       0.427858\n",
        "Florida       0.711067\n",
        "Oregon        0.065102\n",
        "Nevada        0.045282\n",
        "California    0.025463\n",
        "Idaho         0.045282\n",
        "dtype: float64"
       ]
      }
     ],
     "prompt_number": 68
    },
    {
     "cell_type": "code",
     "collapsed": false,
     "input": [
      "fill_values = {'East': 0.5, 'West': -1}"
     ],
     "language": "python",
     "metadata": {},
     "outputs": [],
     "prompt_number": 70
    },
    {
     "cell_type": "code",
     "collapsed": false,
     "input": [
      "fill_func = lambda g: g.fillna(fill_values[g.name])"
     ],
     "language": "python",
     "metadata": {},
     "outputs": [],
     "prompt_number": 74
    },
    {
     "cell_type": "code",
     "collapsed": false,
     "input": [
      "data.groupby(group_key).apply(fill_func)"
     ],
     "language": "python",
     "metadata": {},
     "outputs": [
      {
       "metadata": {},
       "output_type": "pyout",
       "prompt_number": 76,
       "text": [
        "Ohio          0.403172\n",
        "New York      0.169335\n",
        "Vermont       0.500000\n",
        "Florida       0.711067\n",
        "Oregon        0.065102\n",
        "Nevada       -1.000000\n",
        "California    0.025463\n",
        "Idaho        -1.000000\n",
        "dtype: float64"
       ]
      }
     ],
     "prompt_number": 76
    },
    {
     "cell_type": "code",
     "collapsed": false,
     "input": [
      "suits = ['H', 'S', 'C', 'D']"
     ],
     "language": "python",
     "metadata": {},
     "outputs": [],
     "prompt_number": 77
    },
    {
     "cell_type": "code",
     "collapsed": false,
     "input": [
      "card_val = (range(1, 11) + [10] * 3) * 4"
     ],
     "language": "python",
     "metadata": {},
     "outputs": [],
     "prompt_number": 78
    },
    {
     "cell_type": "code",
     "collapsed": false,
     "input": [],
     "language": "python",
     "metadata": {},
     "outputs": [],
     "prompt_number": 83
    },
    {
     "cell_type": "code",
     "collapsed": false,
     "input": [
      "base_names = ['A'] + range(2, 11) + ['J', 'K', 'Q']"
     ],
     "language": "python",
     "metadata": {},
     "outputs": [],
     "prompt_number": 96
    },
    {
     "cell_type": "code",
     "collapsed": false,
     "input": [
      "cards = []"
     ],
     "language": "python",
     "metadata": {},
     "outputs": [],
     "prompt_number": 101
    },
    {
     "cell_type": "code",
     "collapsed": false,
     "input": [
      "for suit in ['H', 'S', 'C', 'D']:\n",
      "    cards.extend(str(num) + suit for num in base_names)"
     ],
     "language": "python",
     "metadata": {},
     "outputs": [],
     "prompt_number": 102
    },
    {
     "cell_type": "code",
     "collapsed": false,
     "input": [
      "len(card_val)"
     ],
     "language": "python",
     "metadata": {},
     "outputs": [
      {
       "metadata": {},
       "output_type": "pyout",
       "prompt_number": 104,
       "text": [
        "52"
       ]
      }
     ],
     "prompt_number": 104
    },
    {
     "cell_type": "code",
     "collapsed": false,
     "input": [
      "deck = Series(card_val, index=cards)"
     ],
     "language": "python",
     "metadata": {},
     "outputs": [],
     "prompt_number": 105
    },
    {
     "cell_type": "code",
     "collapsed": false,
     "input": [
      "def draw(deck, n=5):\n",
      "    return deck.take(np.random.permutation(len(deck))[:n])"
     ],
     "language": "python",
     "metadata": {},
     "outputs": [],
     "prompt_number": 109
    },
    {
     "cell_type": "code",
     "collapsed": false,
     "input": [
      "draw(deck)"
     ],
     "language": "python",
     "metadata": {},
     "outputs": [
      {
       "metadata": {},
       "output_type": "pyout",
       "prompt_number": 110,
       "text": [
        "3H    3\n",
        "5D    5\n",
        "7H    7\n",
        "3D    3\n",
        "3C    3\n",
        "dtype: int64"
       ]
      }
     ],
     "prompt_number": 110
    },
    {
     "cell_type": "code",
     "collapsed": false,
     "input": [
      "get_suit = lambda card: card[-1] # last letter is suit"
     ],
     "language": "python",
     "metadata": {},
     "outputs": [],
     "prompt_number": 111
    },
    {
     "cell_type": "code",
     "collapsed": false,
     "input": [
      "deck.groupby(get_suit).apply(draw, n=2)"
     ],
     "language": "python",
     "metadata": {},
     "outputs": [
      {
       "metadata": {},
       "output_type": "pyout",
       "prompt_number": 112,
       "text": [
        "C  3C    3\n",
        "   4C    4\n",
        "D  5D    5\n",
        "   2D    2\n",
        "H  7H    7\n",
        "   3H    3\n",
        "S  7S    7\n",
        "   2S    2\n",
        "dtype: int64"
       ]
      }
     ],
     "prompt_number": 112
    },
    {
     "cell_type": "code",
     "collapsed": false,
     "input": [
      "deck.groupby(get_suit, group_keys=False).apply(draw, n=2)"
     ],
     "language": "python",
     "metadata": {},
     "outputs": [
      {
       "metadata": {},
       "output_type": "pyout",
       "prompt_number": 113,
       "text": [
        "6C      6\n",
        "JC     10\n",
        "7D      7\n",
        "10D    10\n",
        "QH     10\n",
        "4H      4\n",
        "9S      9\n",
        "QS     10\n",
        "dtype: int64"
       ]
      }
     ],
     "prompt_number": 113
    },
    {
     "cell_type": "code",
     "collapsed": false,
     "input": [
      "df = DataFrame({'category':['a']*3+['b']*4, 'data':np.random.randn(7), 'weights':np.random.randn(7)})"
     ],
     "language": "python",
     "metadata": {},
     "outputs": [],
     "prompt_number": 117
    },
    {
     "cell_type": "code",
     "collapsed": false,
     "input": [
      "avg = lambda x: np.average(x['data'],weights=x['weights'])"
     ],
     "language": "python",
     "metadata": {},
     "outputs": [],
     "prompt_number": 119
    },
    {
     "cell_type": "code",
     "collapsed": false,
     "input": [],
     "language": "python",
     "metadata": {},
     "outputs": []
    },
    {
     "cell_type": "code",
     "collapsed": false,
     "input": [
      "df.groupby('category').apply(avg)"
     ],
     "language": "python",
     "metadata": {},
     "outputs": [
      {
       "metadata": {},
       "output_type": "pyout",
       "prompt_number": 120,
       "text": [
        "category\n",
        "a          -2.397392\n",
        "b           0.051224\n",
        "dtype: float64"
       ]
      }
     ],
     "prompt_number": 120
    },
    {
     "cell_type": "code",
     "collapsed": false,
     "input": [
      "close_px = pd.read_csv('pydata-book/ch09/stock_px.csv', parse_dates=True, index_col=0)\n"
     ],
     "language": "python",
     "metadata": {},
     "outputs": [],
     "prompt_number": 121
    },
    {
     "cell_type": "code",
     "collapsed": false,
     "input": [
      "rets = close_px.pct_change().dropna()"
     ],
     "language": "python",
     "metadata": {},
     "outputs": [],
     "prompt_number": 126
    },
    {
     "cell_type": "code",
     "collapsed": false,
     "input": [
      "rets.dtypes"
     ],
     "language": "python",
     "metadata": {},
     "outputs": [
      {
       "metadata": {},
       "output_type": "pyout",
       "prompt_number": 134,
       "text": [
        "AAPL    float64\n",
        "MSFT    float64\n",
        "XOM     float64\n",
        "SPX     float64\n",
        "dtype: object"
       ]
      }
     ],
     "prompt_number": 134
    },
    {
     "cell_type": "code",
     "collapsed": false,
     "input": [
      "year = rets.index.year"
     ],
     "language": "python",
     "metadata": {},
     "outputs": [],
     "prompt_number": 140
    },
    {
     "cell_type": "code",
     "collapsed": false,
     "input": [
      "by_year = rets.groupby(year)"
     ],
     "language": "python",
     "metadata": {},
     "outputs": [],
     "prompt_number": 142
    },
    {
     "cell_type": "code",
     "collapsed": false,
     "input": [
      "by_year.apply(lambda x : x.corrwith(x['SPX']))\n",
      "DataFrame.corrwith?"
     ],
     "language": "python",
     "metadata": {},
     "outputs": [],
     "prompt_number": 149
    },
    {
     "cell_type": "code",
     "collapsed": false,
     "input": [
      "from statsmodels import api as sm"
     ],
     "language": "python",
     "metadata": {},
     "outputs": [],
     "prompt_number": 153
    },
    {
     "cell_type": "code",
     "collapsed": false,
     "input": [
      "def regress(data, yvar, xvars):\n",
      "    set_trace()\n",
      "    Y = data[yvar]\n",
      "    X = data[xvars]\n",
      "    X['intercept'] = 1.\n",
      "    result = sm.OLS(Y, X).fit()\n",
      "    return result.params\n"
     ],
     "language": "python",
     "metadata": {},
     "outputs": [],
     "prompt_number": 168
    },
    {
     "cell_type": "code",
     "collapsed": false,
     "input": [
      "sm.OLS("
     ],
     "language": "python",
     "metadata": {},
     "outputs": [
      {
       "metadata": {},
       "output_type": "pyout",
       "prompt_number": 156,
       "text": [
        "<pandas.core.groupby.DataFrameGroupBy object at 0x4d50c10>"
       ]
      }
     ],
     "prompt_number": 156
    },
    {
     "cell_type": "code",
     "collapsed": false,
     "input": [
      "def f():\n",
      "    by_year.apply(regress, 'AAPL', ['SPX'])"
     ],
     "language": "python",
     "metadata": {},
     "outputs": [],
     "prompt_number": 162
    },
    {
     "cell_type": "code",
     "collapsed": false,
     "input": [
      "def set_trace():\n",
      "    from IPython.core.debugger import Pdb\n",
      "    Pdb(color_scheme='Linux').set_trace(sys._getframe().f_back)\n",
      "\n",
      "\n",
      "def debug(f, *args, **kwargs):\n",
      "    from IPython.core.debugger import Pdb\n",
      "    pdb = Pdb(color_scheme='Linux')\n",
      "    return pdb.runcall(f, *args, **kwargs)"
     ],
     "language": "python",
     "metadata": {},
     "outputs": [],
     "prompt_number": 166
    },
    {
     "cell_type": "code",
     "collapsed": false,
     "input": [
      "debug(f)"
     ],
     "language": "python",
     "metadata": {},
     "outputs": [
      {
       "output_type": "stream",
       "stream": "stdout",
       "text": [
        "> \u001b[1;32m<ipython-input-162-c9565ac3f55b>\u001b[0m(2)\u001b[0;36mf\u001b[1;34m()\u001b[0m\n",
        "\u001b[1;32m      1 \u001b[1;33m\u001b[1;32mdef\u001b[0m \u001b[0mf\u001b[0m\u001b[1;33m(\u001b[0m\u001b[1;33m)\u001b[0m\u001b[1;33m:\u001b[0m\u001b[1;33m\u001b[0m\u001b[0m\n",
        "\u001b[0m\u001b[1;32m----> 2 \u001b[1;33m    \u001b[0mby_year\u001b[0m\u001b[1;33m.\u001b[0m\u001b[0mapply\u001b[0m\u001b[1;33m(\u001b[0m\u001b[0mregress\u001b[0m\u001b[1;33m,\u001b[0m \u001b[1;34m'AAPL'\u001b[0m\u001b[1;33m,\u001b[0m \u001b[1;33m[\u001b[0m\u001b[1;34m'SPX'\u001b[0m\u001b[1;33m]\u001b[0m\u001b[1;33m)\u001b[0m\u001b[1;33m\u001b[0m\u001b[0m\n",
        "\u001b[0m\n"
       ]
      },
      {
       "name": "stdout",
       "output_type": "stream",
       "stream": "stdout",
       "text": [
        "ipdb> c\n"
       ]
      },
      {
       "output_type": "stream",
       "stream": "stdout",
       "text": [
        "> \u001b[1;32m<ipython-input-168-ba3afc54a051>\u001b[0m(3)\u001b[0;36mregress\u001b[1;34m()\u001b[0m\n",
        "\u001b[1;32m      2 \u001b[1;33m    \u001b[0mset_trace\u001b[0m\u001b[1;33m(\u001b[0m\u001b[1;33m)\u001b[0m\u001b[1;33m\u001b[0m\u001b[0m\n",
        "\u001b[0m\u001b[1;32m----> 3 \u001b[1;33m    \u001b[0mY\u001b[0m \u001b[1;33m=\u001b[0m \u001b[0mdata\u001b[0m\u001b[1;33m[\u001b[0m\u001b[0myvar\u001b[0m\u001b[1;33m]\u001b[0m\u001b[1;33m\u001b[0m\u001b[0m\n",
        "\u001b[0m\u001b[1;32m      4 \u001b[1;33m    \u001b[0mX\u001b[0m \u001b[1;33m=\u001b[0m \u001b[0mdata\u001b[0m\u001b[1;33m[\u001b[0m\u001b[0mxvars\u001b[0m\u001b[1;33m]\u001b[0m\u001b[1;33m\u001b[0m\u001b[0m\n",
        "\u001b[0m\n"
       ]
      },
      {
       "name": "stdout",
       "output_type": "stream",
       "stream": "stdout",
       "text": [
        "ipdb> n\n"
       ]
      },
      {
       "output_type": "stream",
       "stream": "stdout",
       "text": [
        "> \u001b[1;32m<ipython-input-168-ba3afc54a051>\u001b[0m(4)\u001b[0;36mregress\u001b[1;34m()\u001b[0m\n",
        "\u001b[1;32m      3 \u001b[1;33m    \u001b[0mY\u001b[0m \u001b[1;33m=\u001b[0m \u001b[0mdata\u001b[0m\u001b[1;33m[\u001b[0m\u001b[0myvar\u001b[0m\u001b[1;33m]\u001b[0m\u001b[1;33m\u001b[0m\u001b[0m\n",
        "\u001b[0m\u001b[1;32m----> 4 \u001b[1;33m    \u001b[0mX\u001b[0m \u001b[1;33m=\u001b[0m \u001b[0mdata\u001b[0m\u001b[1;33m[\u001b[0m\u001b[0mxvars\u001b[0m\u001b[1;33m]\u001b[0m\u001b[1;33m\u001b[0m\u001b[0m\n",
        "\u001b[0m\u001b[1;32m      5 \u001b[1;33m    \u001b[0mX\u001b[0m\u001b[1;33m[\u001b[0m\u001b[1;34m'intercept'\u001b[0m\u001b[1;33m]\u001b[0m \u001b[1;33m=\u001b[0m \u001b[1;36m1.\u001b[0m\u001b[1;33m\u001b[0m\u001b[0m\n",
        "\u001b[0m\n"
       ]
      },
      {
       "name": "stdout",
       "output_type": "stream",
       "stream": "stdout",
       "text": [
        "ipdb> Y\n"
       ]
      },
      {
       "output_type": "stream",
       "stream": "stdout",
       "text": [
        "2003-01-03    0.006757\n",
        "2003-01-06    0.000000\n",
        "2003-01-07   -0.002685\n",
        "2003-01-08   -0.020188\n",
        "2003-01-09    0.008242\n",
        "2003-01-10    0.002725\n",
        "2003-01-13   -0.005435\n",
        "2003-01-14   -0.002732\n",
        "2003-01-15   -0.010959\n",
        "2003-01-16    0.012465\n",
        "2003-01-17   -0.035568\n",
        "2003-01-21   -0.005674\n",
        "2003-01-22   -0.009986\n",
        "2003-01-23    0.021614\n",
        "2003-01-24   -0.026798\n",
        "...\n",
        "2003-12-10   -0.003910\n",
        "2003-12-11    0.040236\n",
        "2003-12-12   -0.015094\n",
        "2003-12-15   -0.033525\n",
        "2003-12-16   -0.002973\n",
        "2003-12-17   -0.011928\n",
        "2003-12-18    0.008048\n",
        "2003-12-19   -0.016966\n",
        "2003-12-22    0.008122\n",
        "2003-12-23   -0.003021\n",
        "2003-12-24    0.030303\n",
        "2003-12-26    0.018627\n",
        "2003-12-29    0.017324\n",
        "2003-12-30    0.006623\n",
        "2003-12-31    0.004699\n",
        "Name: AAPL, Length: 251\n"
       ]
      },
      {
       "name": "stdout",
       "output_type": "stream",
       "stream": "stdout",
       "text": [
        "ipdb> n\n"
       ]
      },
      {
       "output_type": "stream",
       "stream": "stdout",
       "text": [
        "> \u001b[1;32m<ipython-input-168-ba3afc54a051>\u001b[0m(5)\u001b[0;36mregress\u001b[1;34m()\u001b[0m\n",
        "\u001b[1;32m      4 \u001b[1;33m    \u001b[0mX\u001b[0m \u001b[1;33m=\u001b[0m \u001b[0mdata\u001b[0m\u001b[1;33m[\u001b[0m\u001b[0mxvars\u001b[0m\u001b[1;33m]\u001b[0m\u001b[1;33m\u001b[0m\u001b[0m\n",
        "\u001b[0m\u001b[1;32m----> 5 \u001b[1;33m    \u001b[0mX\u001b[0m\u001b[1;33m[\u001b[0m\u001b[1;34m'intercept'\u001b[0m\u001b[1;33m]\u001b[0m \u001b[1;33m=\u001b[0m \u001b[1;36m1.\u001b[0m\u001b[1;33m\u001b[0m\u001b[0m\n",
        "\u001b[0m\u001b[1;32m      6 \u001b[1;33m    \u001b[0mresult\u001b[0m \u001b[1;33m=\u001b[0m \u001b[0msm\u001b[0m\u001b[1;33m.\u001b[0m\u001b[0mOLS\u001b[0m\u001b[1;33m(\u001b[0m\u001b[0mY\u001b[0m\u001b[1;33m,\u001b[0m \u001b[0mX\u001b[0m\u001b[1;33m)\u001b[0m\u001b[1;33m.\u001b[0m\u001b[0mfit\u001b[0m\u001b[1;33m(\u001b[0m\u001b[1;33m)\u001b[0m\u001b[1;33m\u001b[0m\u001b[0m\n",
        "\u001b[0m\n"
       ]
      },
      {
       "name": "stdout",
       "output_type": "stream",
       "stream": "stdout",
       "text": [
        "ipdb> n\n"
       ]
      },
      {
       "output_type": "stream",
       "stream": "stdout",
       "text": [
        "> \u001b[1;32m<ipython-input-168-ba3afc54a051>\u001b[0m(6)\u001b[0;36mregress\u001b[1;34m()\u001b[0m\n",
        "\u001b[1;32m      5 \u001b[1;33m    \u001b[0mX\u001b[0m\u001b[1;33m[\u001b[0m\u001b[1;34m'intercept'\u001b[0m\u001b[1;33m]\u001b[0m \u001b[1;33m=\u001b[0m \u001b[1;36m1.\u001b[0m\u001b[1;33m\u001b[0m\u001b[0m\n",
        "\u001b[0m\u001b[1;32m----> 6 \u001b[1;33m    \u001b[0mresult\u001b[0m \u001b[1;33m=\u001b[0m \u001b[0msm\u001b[0m\u001b[1;33m.\u001b[0m\u001b[0mOLS\u001b[0m\u001b[1;33m(\u001b[0m\u001b[0mY\u001b[0m\u001b[1;33m,\u001b[0m \u001b[0mX\u001b[0m\u001b[1;33m)\u001b[0m\u001b[1;33m.\u001b[0m\u001b[0mfit\u001b[0m\u001b[1;33m(\u001b[0m\u001b[1;33m)\u001b[0m\u001b[1;33m\u001b[0m\u001b[0m\n",
        "\u001b[0m\u001b[1;32m      7 \u001b[1;33m    \u001b[1;32mreturn\u001b[0m \u001b[0mresult\u001b[0m\u001b[1;33m.\u001b[0m\u001b[0mparams\u001b[0m\u001b[1;33m\u001b[0m\u001b[0m\n",
        "\u001b[0m\n"
       ]
      },
      {
       "name": "stdout",
       "output_type": "stream",
       "stream": "stdout",
       "text": [
        "ipdb> n\n"
       ]
      },
      {
       "output_type": "stream",
       "stream": "stdout",
       "text": [
        "> \u001b[1;32m<ipython-input-168-ba3afc54a051>\u001b[0m(7)\u001b[0;36mregress\u001b[1;34m()\u001b[0m\n",
        "\u001b[1;32m      5 \u001b[1;33m    \u001b[0mX\u001b[0m\u001b[1;33m[\u001b[0m\u001b[1;34m'intercept'\u001b[0m\u001b[1;33m]\u001b[0m \u001b[1;33m=\u001b[0m \u001b[1;36m1.\u001b[0m\u001b[1;33m\u001b[0m\u001b[0m\n",
        "\u001b[0m\u001b[1;32m      6 \u001b[1;33m    \u001b[0mresult\u001b[0m \u001b[1;33m=\u001b[0m \u001b[0msm\u001b[0m\u001b[1;33m.\u001b[0m\u001b[0mOLS\u001b[0m\u001b[1;33m(\u001b[0m\u001b[0mY\u001b[0m\u001b[1;33m,\u001b[0m \u001b[0mX\u001b[0m\u001b[1;33m)\u001b[0m\u001b[1;33m.\u001b[0m\u001b[0mfit\u001b[0m\u001b[1;33m(\u001b[0m\u001b[1;33m)\u001b[0m\u001b[1;33m\u001b[0m\u001b[0m\n",
        "\u001b[0m\u001b[1;32m----> 7 \u001b[1;33m    \u001b[1;32mreturn\u001b[0m \u001b[0mresult\u001b[0m\u001b[1;33m.\u001b[0m\u001b[0mparams\u001b[0m\u001b[1;33m\u001b[0m\u001b[0m\n",
        "\u001b[0m\n"
       ]
      },
      {
       "name": "stdout",
       "output_type": "stream",
       "stream": "stdout",
       "text": [
        "ipdb> result\n"
       ]
      },
      {
       "output_type": "stream",
       "stream": "stdout",
       "text": [
        "<statsmodels.regression.linear_model.RegressionResultsWrapper object at 0x5d0be50>\n"
       ]
      },
      {
       "name": "stdout",
       "output_type": "stream",
       "stream": "stdout",
       "text": [
        "ipdb> result.params\n"
       ]
      },
      {
       "output_type": "stream",
       "stream": "stdout",
       "text": [
        "SPX          1.195406\n",
        "intercept    0.000710\n",
        "dtype: float64\n"
       ]
      },
      {
       "name": "stdout",
       "output_type": "stream",
       "stream": "stdout",
       "text": [
        "ipdb> X\n"
       ]
      },
      {
       "output_type": "stream",
       "stream": "stdout",
       "text": [
        "                 SPX  intercept\n",
        "2003-01-03 -0.000484          1\n",
        "2003-01-06  0.022474          1\n",
        "2003-01-07 -0.006545          1\n",
        "2003-01-08 -0.014086          1\n",
        "2003-01-09  0.019386          1\n",
        "2003-01-10  0.000000          1\n",
        "2003-01-13 -0.001412          1\n",
        "2003-01-14  0.005830          1\n",
        "2003-01-15 -0.014426          1\n",
        "2003-01-16 -0.003942          1\n",
        "2003-01-17 -0.014017          1\n",
        "2003-01-21 -0.015702          1\n",
        "2003-01-22 -0.010432          1\n",
        "2003-01-23  0.010224          1\n",
        "2003-01-24 -0.029233          1\n",
        "2003-01-27 -0.016160          1\n",
        "2003-01-28  0.013050          1\n",
        "2003-01-29  0.006779          1\n",
        "2003-01-30 -0.022849          1\n",
        "2003-01-31  0.013130          1\n",
        "2003-02-03  0.005399          1\n",
        "2003-02-04 -0.014088          1\n",
        "2003-02-05 -0.005435          1\n",
        "2003-02-06 -0.006449          1\n",
        "2003-02-07 -0.010094          1\n",
        "2003-02-10  0.007569          1\n",
        "2003-02-11 -0.008098          1\n",
        "2003-02-12 -0.012687          1\n",
        "2003-02-13 -0.001600          1\n",
        "2003-02-14  0.021435          1\n",
        "2003-02-18  0.019500          1\n",
        "2003-02-19 -0.007096          1\n",
        "2003-02-20 -0.009501          1\n",
        "2003-02-21  0.013224          1\n",
        "2003-02-24 -0.018381          1\n",
        "2003-02-25  0.007195          1\n",
        "2003-02-26 -0.013141          1\n",
        "2003-02-27  0.011758          1\n",
        "2003-02-28  0.004622          1\n",
        "2003-03-03 -0.007537          1\n",
        "2003-03-04 -0.015357          1\n",
        "2003-03-05  0.009562          1\n",
        "2003-03-06 -0.009339          1\n",
        "2003-03-07  0.008259          1\n",
        "2003-03-10 -0.025830          1\n",
        "2003-03-11 -0.008359          1\n",
        "2003-03-12  0.004321          1\n",
        "2003-03-13  0.034457          1\n",
        "2003-03-14  0.001647          1\n",
        "2003-03-17  0.035427          1\n",
        "2003-03-18  0.004242          1\n",
        "2003-03-19  0.008737          1\n",
        "2003-03-20  0.001888          1\n",
        "2003-03-21  0.022977          1\n",
        "2003-03-24 -0.035231          1\n",
        "2003-03-25  0.012161          1\n",
        "2003-03-26 -0.005476          1\n",
        "2003-03-27 -0.001644          1\n",
        "2003-03-28 -0.005780          1\n",
        "2003-03-31 -0.017742          1\n",
        "                 ...        ...\n",
        "\n",
        "[251 rows x 2 columns]\n"
       ]
      },
      {
       "name": "stdout",
       "output_type": "stream",
       "stream": "stdout",
       "text": [
        "ipdb> c\n"
       ]
      },
      {
       "output_type": "stream",
       "stream": "stdout",
       "text": [
        "> \u001b[1;32m<ipython-input-168-ba3afc54a051>\u001b[0m(3)\u001b[0;36mregress\u001b[1;34m()\u001b[0m\n",
        "\u001b[1;32m      2 \u001b[1;33m    \u001b[0mset_trace\u001b[0m\u001b[1;33m(\u001b[0m\u001b[1;33m)\u001b[0m\u001b[1;33m\u001b[0m\u001b[0m\n",
        "\u001b[0m\u001b[1;32m----> 3 \u001b[1;33m    \u001b[0mY\u001b[0m \u001b[1;33m=\u001b[0m \u001b[0mdata\u001b[0m\u001b[1;33m[\u001b[0m\u001b[0myvar\u001b[0m\u001b[1;33m]\u001b[0m\u001b[1;33m\u001b[0m\u001b[0m\n",
        "\u001b[0m\u001b[1;32m      4 \u001b[1;33m    \u001b[0mX\u001b[0m \u001b[1;33m=\u001b[0m \u001b[0mdata\u001b[0m\u001b[1;33m[\u001b[0m\u001b[0mxvars\u001b[0m\u001b[1;33m]\u001b[0m\u001b[1;33m\u001b[0m\u001b[0m\n",
        "\u001b[0m\n"
       ]
      },
      {
       "name": "stdout",
       "output_type": "stream",
       "stream": "stdout",
       "text": [
        "ipdb> c\n"
       ]
      },
      {
       "output_type": "stream",
       "stream": "stdout",
       "text": [
        "> \u001b[1;32m<ipython-input-168-ba3afc54a051>\u001b[0m(3)\u001b[0;36mregress\u001b[1;34m()\u001b[0m\n",
        "\u001b[1;32m      2 \u001b[1;33m    \u001b[0mset_trace\u001b[0m\u001b[1;33m(\u001b[0m\u001b[1;33m)\u001b[0m\u001b[1;33m\u001b[0m\u001b[0m\n",
        "\u001b[0m\u001b[1;32m----> 3 \u001b[1;33m    \u001b[0mY\u001b[0m \u001b[1;33m=\u001b[0m \u001b[0mdata\u001b[0m\u001b[1;33m[\u001b[0m\u001b[0myvar\u001b[0m\u001b[1;33m]\u001b[0m\u001b[1;33m\u001b[0m\u001b[0m\n",
        "\u001b[0m\u001b[1;32m      4 \u001b[1;33m    \u001b[0mX\u001b[0m \u001b[1;33m=\u001b[0m \u001b[0mdata\u001b[0m\u001b[1;33m[\u001b[0m\u001b[0mxvars\u001b[0m\u001b[1;33m]\u001b[0m\u001b[1;33m\u001b[0m\u001b[0m\n",
        "\u001b[0m\n"
       ]
      },
      {
       "output_type": "stream",
       "stream": "stdout",
       "text": [
        "\n",
        "KeyboardInterrupt\n",
        "> \u001b[1;32m<ipython-input-168-ba3afc54a051>\u001b[0m(3)\u001b[0;36mregress\u001b[1;34m()\u001b[0m\n",
        "\u001b[1;32m      2 \u001b[1;33m    \u001b[0mset_trace\u001b[0m\u001b[1;33m(\u001b[0m\u001b[1;33m)\u001b[0m\u001b[1;33m\u001b[0m\u001b[0m\n",
        "\u001b[0m\u001b[1;32m----> 3 \u001b[1;33m    \u001b[0mY\u001b[0m \u001b[1;33m=\u001b[0m \u001b[0mdata\u001b[0m\u001b[1;33m[\u001b[0m\u001b[0myvar\u001b[0m\u001b[1;33m]\u001b[0m\u001b[1;33m\u001b[0m\u001b[0m\n",
        "\u001b[0m\u001b[1;32m      4 \u001b[1;33m    \u001b[0mX\u001b[0m \u001b[1;33m=\u001b[0m \u001b[0mdata\u001b[0m\u001b[1;33m[\u001b[0m\u001b[0mxvars\u001b[0m\u001b[1;33m]\u001b[0m\u001b[1;33m\u001b[0m\u001b[0m\n",
        "\u001b[0m\n"
       ]
      },
      {
       "name": "stdout",
       "output_type": "stream",
       "stream": "stdout",
       "text": [
        "ipdb> c\n"
       ]
      },
      {
       "output_type": "stream",
       "stream": "stdout",
       "text": [
        "> \u001b[1;32m<ipython-input-168-ba3afc54a051>\u001b[0m(3)\u001b[0;36mregress\u001b[1;34m()\u001b[0m\n",
        "\u001b[1;32m      2 \u001b[1;33m    \u001b[0mset_trace\u001b[0m\u001b[1;33m(\u001b[0m\u001b[1;33m)\u001b[0m\u001b[1;33m\u001b[0m\u001b[0m\n",
        "\u001b[0m\u001b[1;32m----> 3 \u001b[1;33m    \u001b[0mY\u001b[0m \u001b[1;33m=\u001b[0m \u001b[0mdata\u001b[0m\u001b[1;33m[\u001b[0m\u001b[0myvar\u001b[0m\u001b[1;33m]\u001b[0m\u001b[1;33m\u001b[0m\u001b[0m\n",
        "\u001b[0m\u001b[1;32m      4 \u001b[1;33m    \u001b[0mX\u001b[0m \u001b[1;33m=\u001b[0m \u001b[0mdata\u001b[0m\u001b[1;33m[\u001b[0m\u001b[0mxvars\u001b[0m\u001b[1;33m]\u001b[0m\u001b[1;33m\u001b[0m\u001b[0m\n",
        "\u001b[0m\n"
       ]
      },
      {
       "output_type": "stream",
       "stream": "stdout",
       "text": [
        "\n",
        "KeyboardInterrupt\n",
        "> \u001b[1;32m<ipython-input-168-ba3afc54a051>\u001b[0m(3)\u001b[0;36mregress\u001b[1;34m()\u001b[0m\n",
        "\u001b[1;32m      2 \u001b[1;33m    \u001b[0mset_trace\u001b[0m\u001b[1;33m(\u001b[0m\u001b[1;33m)\u001b[0m\u001b[1;33m\u001b[0m\u001b[0m\n",
        "\u001b[0m\u001b[1;32m----> 3 \u001b[1;33m    \u001b[0mY\u001b[0m \u001b[1;33m=\u001b[0m \u001b[0mdata\u001b[0m\u001b[1;33m[\u001b[0m\u001b[0myvar\u001b[0m\u001b[1;33m]\u001b[0m\u001b[1;33m\u001b[0m\u001b[0m\n",
        "\u001b[0m\u001b[1;32m      4 \u001b[1;33m    \u001b[0mX\u001b[0m \u001b[1;33m=\u001b[0m \u001b[0mdata\u001b[0m\u001b[1;33m[\u001b[0m\u001b[0mxvars\u001b[0m\u001b[1;33m]\u001b[0m\u001b[1;33m\u001b[0m\u001b[0m\n",
        "\u001b[0m\n"
       ]
      },
      {
       "output_type": "stream",
       "stream": "stdout",
       "text": [
        "\n",
        "KeyboardInterrupt\n",
        "> \u001b[1;32m<ipython-input-168-ba3afc54a051>\u001b[0m(3)\u001b[0;36mregress\u001b[1;34m()\u001b[0m\n",
        "\u001b[1;32m      2 \u001b[1;33m    \u001b[0mset_trace\u001b[0m\u001b[1;33m(\u001b[0m\u001b[1;33m)\u001b[0m\u001b[1;33m\u001b[0m\u001b[0m\n",
        "\u001b[0m\u001b[1;32m----> 3 \u001b[1;33m    \u001b[0mY\u001b[0m \u001b[1;33m=\u001b[0m \u001b[0mdata\u001b[0m\u001b[1;33m[\u001b[0m\u001b[0myvar\u001b[0m\u001b[1;33m]\u001b[0m\u001b[1;33m\u001b[0m\u001b[0m\n",
        "\u001b[0m\u001b[1;32m      4 \u001b[1;33m    \u001b[0mX\u001b[0m \u001b[1;33m=\u001b[0m \u001b[0mdata\u001b[0m\u001b[1;33m[\u001b[0m\u001b[0mxvars\u001b[0m\u001b[1;33m]\u001b[0m\u001b[1;33m\u001b[0m\u001b[0m\n",
        "\u001b[0m\n"
       ]
      },
      {
       "output_type": "stream",
       "stream": "stdout",
       "text": [
        "\n",
        "KeyboardInterrupt\n",
        "> \u001b[1;32m<ipython-input-168-ba3afc54a051>\u001b[0m(3)\u001b[0;36mregress\u001b[1;34m()\u001b[0m\n",
        "\u001b[1;32m      2 \u001b[1;33m    \u001b[0mset_trace\u001b[0m\u001b[1;33m(\u001b[0m\u001b[1;33m)\u001b[0m\u001b[1;33m\u001b[0m\u001b[0m\n",
        "\u001b[0m\u001b[1;32m----> 3 \u001b[1;33m    \u001b[0mY\u001b[0m \u001b[1;33m=\u001b[0m \u001b[0mdata\u001b[0m\u001b[1;33m[\u001b[0m\u001b[0myvar\u001b[0m\u001b[1;33m]\u001b[0m\u001b[1;33m\u001b[0m\u001b[0m\n",
        "\u001b[0m\u001b[1;32m      4 \u001b[1;33m    \u001b[0mX\u001b[0m \u001b[1;33m=\u001b[0m \u001b[0mdata\u001b[0m\u001b[1;33m[\u001b[0m\u001b[0mxvars\u001b[0m\u001b[1;33m]\u001b[0m\u001b[1;33m\u001b[0m\u001b[0m\n",
        "\u001b[0m\n"
       ]
      },
      {
       "output_type": "stream",
       "stream": "stdout",
       "text": [
        "\n",
        "KeyboardInterrupt\n",
        "> \u001b[1;32m<ipython-input-168-ba3afc54a051>\u001b[0m(3)\u001b[0;36mregress\u001b[1;34m()\u001b[0m\n",
        "\u001b[1;32m      2 \u001b[1;33m    \u001b[0mset_trace\u001b[0m\u001b[1;33m(\u001b[0m\u001b[1;33m)\u001b[0m\u001b[1;33m\u001b[0m\u001b[0m\n",
        "\u001b[0m\u001b[1;32m----> 3 \u001b[1;33m    \u001b[0mY\u001b[0m \u001b[1;33m=\u001b[0m \u001b[0mdata\u001b[0m\u001b[1;33m[\u001b[0m\u001b[0myvar\u001b[0m\u001b[1;33m]\u001b[0m\u001b[1;33m\u001b[0m\u001b[0m\n",
        "\u001b[0m\u001b[1;32m      4 \u001b[1;33m    \u001b[0mX\u001b[0m \u001b[1;33m=\u001b[0m \u001b[0mdata\u001b[0m\u001b[1;33m[\u001b[0m\u001b[0mxvars\u001b[0m\u001b[1;33m]\u001b[0m\u001b[1;33m\u001b[0m\u001b[0m\n",
        "\u001b[0m\n"
       ]
      }
     ],
     "prompt_number": "*"
    }
   ],
   "metadata": {}
  }
 ]
}